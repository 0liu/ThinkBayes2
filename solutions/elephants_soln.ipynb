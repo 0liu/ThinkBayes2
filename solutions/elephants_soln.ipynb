{
 "cells": [
  {
   "cell_type": "markdown",
   "metadata": {},
   "source": [
    "# Think Bayes\n",
    "\n",
    "Copyright 2018 Allen B. Downey\n",
    "\n",
    "MIT License: https://opensource.org/licenses/MIT"
   ]
  },
  {
   "cell_type": "code",
   "execution_count": 42,
   "metadata": {},
   "outputs": [],
   "source": [
    "# Configure Jupyter so figures appear in the notebook\n",
    "%matplotlib inline\n",
    "\n",
    "# Configure Jupyter to display the assigned value after an assignment\n",
    "%config InteractiveShell.ast_node_interactivity='last_expr_or_assign'\n",
    "\n",
    "import numpy as np\n",
    "import pandas as pd\n",
    "\n",
    "# import classes from thinkbayes2\n",
    "from thinkbayes2 import Pmf, Cdf, Suite, Joint\n",
    "\n",
    "from thinkbayes2 import MakePoissonPmf, EvalBinomialPmf, MakeMixture\n",
    "\n",
    "import thinkplot"
   ]
  },
  {
   "cell_type": "markdown",
   "metadata": {},
   "source": [
    "## Cats and rats an elephants\n",
    "\n",
    "Suppose there are six species that might be in a zoo: lions and tigers and bears, and cats and rats and elephants.  Every zoo has a subset of these species, and every subset is equally likely.\n",
    "\n",
    "One day we visit a zoo and see 3 lions, 2 tigers, and one bear.  Assuming that every animal in the zoo has an equal chance to be seen, what is the probability that the next animal we see is an elephant?\n",
    "\n"
   ]
  },
  {
   "cell_type": "code",
   "execution_count": 43,
   "metadata": {},
   "outputs": [],
   "source": [
    "from itertools import combinations\n",
    "\n",
    "def all_combos(s):\n",
    "    n = len(s)\n",
    "    for r in range(1, n+1):\n",
    "        for comb in combinations(s, r):\n",
    "            yield list(comb)"
   ]
  },
  {
   "cell_type": "code",
   "execution_count": 44,
   "metadata": {},
   "outputs": [],
   "source": [
    "def enumerate_zoos(all_species, present):\n",
    "    \"\"\"Enumerate all zoos that contain `present`.\n",
    "    \n",
    "    all_species: sequence of all species\n",
    "    present: sequence of species present\n",
    "    \n",
    "    yields: possible zoos\n",
    "    \"\"\"\n",
    "    present = set(present)\n",
    "    for combo in all_combos(species):\n",
    "        intersect = set(combo) & present\n",
    "        if len(intersect) == len(present):\n",
    "            yield len(combo), combo"
   ]
  },
  {
   "cell_type": "code",
   "execution_count": 45,
   "metadata": {},
   "outputs": [
    {
     "name": "stdout",
     "output_type": "stream",
     "text": [
      "3 ['L', 'T', 'B']\n",
      "4 ['L', 'T', 'B', 'C']\n",
      "4 ['L', 'T', 'B', 'R']\n",
      "4 ['L', 'T', 'B', 'E']\n",
      "5 ['L', 'T', 'B', 'C', 'R']\n",
      "5 ['L', 'T', 'B', 'C', 'E']\n",
      "5 ['L', 'T', 'B', 'R', 'E']\n",
      "6 ['L', 'T', 'B', 'C', 'R', 'E']\n"
     ]
    }
   ],
   "source": [
    "species = 'LTBCRE'\n",
    "present = 'LTB'\n",
    "\n",
    "for n, zoo in enumerate_zoos(species, present):\n",
    "    print(n, zoo)"
   ]
  },
  {
   "cell_type": "code",
   "execution_count": null,
   "metadata": {},
   "outputs": [],
   "source": []
  },
  {
   "cell_type": "code",
   "execution_count": 46,
   "metadata": {},
   "outputs": [],
   "source": [
    "from thinkbayes2 import Dirichlet"
   ]
  },
  {
   "cell_type": "code",
   "execution_count": 47,
   "metadata": {},
   "outputs": [],
   "source": [
    "def random(dirichlet):\n",
    "    \"\"\"Generates a random variate from this distribution.\n",
    "\n",
    "    Returns: normalized vector of fractions\n",
    "    \"\"\"\n",
    "    p = np.random.gamma(dirichlet.params)\n",
    "    return p / p.sum()"
   ]
  },
  {
   "cell_type": "code",
   "execution_count": 48,
   "metadata": {},
   "outputs": [
    {
     "data": {
      "text/plain": [
       "<thinkbayes2.thinkbayes2.Dirichlet at 0x7f29c65107f0>"
      ]
     },
     "execution_count": 48,
     "metadata": {},
     "output_type": "execute_result"
    }
   ],
   "source": [
    "d4 = Dirichlet(4)"
   ]
  },
  {
   "cell_type": "code",
   "execution_count": 49,
   "metadata": {},
   "outputs": [
    {
     "data": {
      "text/plain": [
       "array([0.16977302, 0.00833748, 0.23169054, 0.59019896])"
      ]
     },
     "execution_count": 49,
     "metadata": {},
     "output_type": "execute_result"
    }
   ],
   "source": [
    "p = random(d4)"
   ]
  },
  {
   "cell_type": "code",
   "execution_count": 50,
   "metadata": {},
   "outputs": [
    {
     "data": {
      "text/plain": [
       "6"
      ]
     },
     "execution_count": 50,
     "metadata": {},
     "output_type": "execute_result"
    }
   ],
   "source": [
    "data = [3, 2, 1, 0]\n",
    "m = sum(data)"
   ]
  },
  {
   "cell_type": "code",
   "execution_count": 51,
   "metadata": {},
   "outputs": [],
   "source": [
    "from scipy.stats import multinomial"
   ]
  },
  {
   "cell_type": "code",
   "execution_count": 52,
   "metadata": {},
   "outputs": [
    {
     "data": {
      "text/plain": [
       "4.728627148818237e-06"
      ]
     },
     "execution_count": 52,
     "metadata": {},
     "output_type": "execute_result"
    }
   ],
   "source": [
    "multinomial(m, p).pmf(data)"
   ]
  },
  {
   "cell_type": "code",
   "execution_count": 53,
   "metadata": {},
   "outputs": [
    {
     "data": {
      "text/plain": [
       "[3, 2, 1]"
      ]
     },
     "execution_count": 53,
     "metadata": {},
     "output_type": "execute_result"
    }
   ],
   "source": [
    "data = [3, 2, 1]"
   ]
  },
  {
   "cell_type": "code",
   "execution_count": 54,
   "metadata": {},
   "outputs": [
    {
     "data": {
      "text/plain": [
       "array([3., 2., 1., 0.])"
      ]
     },
     "execution_count": 54,
     "metadata": {},
     "output_type": "execute_result"
    }
   ],
   "source": [
    "def zero_pad(a, n):\n",
    "    \"\"\"Why does np.pad have to be so complicated?\n",
    "    \"\"\"\n",
    "    res = np.zeros(n)\n",
    "    res[:len(a)] = a\n",
    "    return res\n",
    "\n",
    "zero_pad(data, 4)"
   ]
  },
  {
   "cell_type": "code",
   "execution_count": 55,
   "metadata": {},
   "outputs": [],
   "source": [
    "def sample_likelihood(dirichlet, data, iters=1000):\n",
    "    data = zero_pad(data, dirichlet.n)\n",
    "    m = np.sum(data)\n",
    "    likes = [multinomial(m, random(dirichlet)).pmf(data) \n",
    "             for i in range(iters)]\n",
    "    return np.mean(likes)"
   ]
  },
  {
   "cell_type": "code",
   "execution_count": 56,
   "metadata": {},
   "outputs": [
    {
     "data": {
      "text/plain": [
       "0.011250027071160526"
      ]
     },
     "execution_count": 56,
     "metadata": {},
     "output_type": "execute_result"
    }
   ],
   "source": [
    "sample_likelihood(d4, data)"
   ]
  },
  {
   "cell_type": "code",
   "execution_count": 57,
   "metadata": {},
   "outputs": [],
   "source": [
    "class Zoo(Suite):\n",
    "    \n",
    "    def Likelihood(self, data, hypo):\n",
    "        \"\"\"\n",
    "        data: sequence of counts\n",
    "        hypo: Dirichlet object\n",
    "        \"\"\"\n",
    "        return sample_likelihood(hypo, data)"
   ]
  },
  {
   "cell_type": "code",
   "execution_count": 58,
   "metadata": {},
   "outputs": [
    {
     "name": "stdout",
     "output_type": "stream",
     "text": [
      "0.125 LTB\n",
      "0.125 LTBC\n",
      "0.125 LTBR\n",
      "0.125 LTBE\n",
      "0.125 LTBCR\n",
      "0.125 LTBCE\n",
      "0.125 LTBRE\n",
      "0.125 LTBCRE\n"
     ]
    }
   ],
   "source": [
    "suite = Zoo([Dirichlet(n, label=''.join(zoo))\n",
    "        for n, zoo in enumerate_zoos(species, present)])\n",
    "\n",
    "def print_zoos(suite):\n",
    "    for d, p in suite.Items():\n",
    "        print(p, d.label)\n",
    "        \n",
    "print_zoos(suite)"
   ]
  },
  {
   "cell_type": "code",
   "execution_count": 59,
   "metadata": {},
   "outputs": [
    {
     "data": {
      "text/plain": [
       "0.010927490763901811"
      ]
     },
     "execution_count": 59,
     "metadata": {},
     "output_type": "execute_result"
    }
   ],
   "source": [
    "suite.Update(data)"
   ]
  },
  {
   "cell_type": "code",
   "execution_count": 60,
   "metadata": {},
   "outputs": [],
   "source": [
    "for hypo in suite:\n",
    "    hypo.Update(data)"
   ]
  },
  {
   "cell_type": "code",
   "execution_count": 61,
   "metadata": {},
   "outputs": [
    {
     "name": "stdout",
     "output_type": "stream",
     "text": [
      "0.40356031546379767 LTB\n",
      "0.13513933478713452 LTBC\n",
      "0.13986920841340222 LTBR\n",
      "0.1329451199410315 LTBE\n",
      "0.05128877877274178 LTBCR\n",
      "0.06057562960408975 LTBCE\n",
      "0.0512604090424378 LTBRE\n",
      "0.025361203975364552 LTBCRE\n"
     ]
    }
   ],
   "source": [
    "print_zoos(suite)"
   ]
  },
  {
   "cell_type": "code",
   "execution_count": 62,
   "metadata": {},
   "outputs": [],
   "source": [
    "pmf_n = Pmf()\n",
    "for d, p in suite.Items():\n",
    "    pmf_n[d.n] += p"
   ]
  },
  {
   "cell_type": "code",
   "execution_count": 63,
   "metadata": {},
   "outputs": [
    {
     "name": "stdout",
     "output_type": "stream",
     "text": [
      "3.8102869099062002\n"
     ]
    },
    {
     "data": {
      "image/png": "[encoded data removed]",
      "text/plain": [
       "<Figure size 432x288 with 1 Axes>"
      ]
     },
     "metadata": {},
     "output_type": "display_data"
    }
   ],
   "source": [
    "thinkplot.Hist(pmf_n)\n",
    "print(pmf_n.Mean())\n",
    "thinkplot.decorate(xlabel='n', \n",
    "                   ylabel='PMF', \n",
    "                   title='Posterior distribution of n')"
   ]
  },
  {
   "cell_type": "code",
   "execution_count": 64,
   "metadata": {},
   "outputs": [],
   "source": [
    "def enumerate_posterior(suite):\n",
    "    for d, p in suite.Items():\n",
    "        mean = d.Mean()\n",
    "        index = d.label.find('E')\n",
    "        p_elephant = 0 if index == -1 else mean[index]\n",
    "        yield d, p, p_elephant"
   ]
  },
  {
   "cell_type": "code",
   "execution_count": 65,
   "metadata": {},
   "outputs": [
    {
     "name": "stdout",
     "output_type": "stream",
     "text": [
      "LTB 0.40356031546379767 0\n",
      "LTBC 0.13513933478713452 0\n",
      "LTBR 0.13986920841340222 0\n",
      "LTBE 0.1329451199410315 0.1\n",
      "LTBCR 0.05128877877274178 0\n",
      "LTBCE 0.06057562960408975 0.09090909090909091\n",
      "LTBRE 0.0512604090424378 0.09090909090909091\n",
      "LTBCRE 0.025361203975364552 0.08333333333333333\n"
     ]
    }
   ],
   "source": [
    "for d, p, p_elephant in enumerate_posterior(suite):\n",
    "    print(d.label, p, p_elephant)"
   ]
  },
  {
   "cell_type": "code",
   "execution_count": 66,
   "metadata": {},
   "outputs": [
    {
     "data": {
      "text/plain": [
       "0.025574858262946643"
      ]
     },
     "execution_count": 66,
     "metadata": {},
     "output_type": "execute_result"
    }
   ],
   "source": [
    "total = np.sum(p * p_elephant \n",
    "               for d, p, p_elephant in enumerate_posterior(suite))"
   ]
  },
  {
   "cell_type": "code",
   "execution_count": null,
   "metadata": {},
   "outputs": [],
   "source": []
  }
 ],
 "metadata": {
  "kernelspec": {
   "display_name": "Python 3",
   "language": "python",
   "name": "python3"
  },
  "language_info": {
   "codemirror_mode": {
    "name": "ipython",
    "version": 3
   },
   "file_extension": ".py",
   "mimetype": "text/x-python",
   "name": "python",
   "nbconvert_exporter": "python",
   "pygments_lexer": "ipython3",
   "version": "3.6.5"
  }
 },
 "nbformat": 4,
 "nbformat_minor": 1
}
