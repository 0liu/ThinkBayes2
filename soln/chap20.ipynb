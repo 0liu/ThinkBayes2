{
 "cells": [
  {
   "cell_type": "markdown",
   "metadata": {},
   "source": [
    "# ABC"
   ]
  },
  {
   "cell_type": "markdown",
   "metadata": {
    "tags": [
     "remove-cell"
    ]
   },
   "source": [
    "Think Bayes, Second Edition\n",
    "\n",
    "Copyright 2020 Allen B. Downey\n",
    "\n",
    "License: [Attribution-NonCommercial-ShareAlike 4.0 International (CC BY-NC-SA 4.0)](https://creativecommons.org/licenses/by-nc-sa/4.0/)"
   ]
  },
  {
   "cell_type": "code",
   "execution_count": 1,
   "metadata": {
    "tags": [
     "remove-cell"
    ]
   },
   "outputs": [],
   "source": [
    "# If we're running on Colab, install libraries\n",
    "\n",
    "import sys\n",
    "IN_COLAB = 'google.colab' in sys.modules\n",
    "\n",
    "if IN_COLAB:\n",
    "    !pip install empiricaldist"
   ]
  },
  {
   "cell_type": "code",
   "execution_count": 2,
   "metadata": {
    "tags": [
     "remove-cell"
    ]
   },
   "outputs": [],
   "source": [
    "# Get utils.py\n",
    "\n",
    "import os\n",
    "\n",
    "if not os.path.exists('utils.py'):\n",
    "    !wget https://github.com/AllenDowney/ThinkBayes2/raw/master/soln/utils.py"
   ]
  },
  {
   "cell_type": "code",
   "execution_count": 3,
   "metadata": {
    "tags": [
     "remove-cell"
    ]
   },
   "outputs": [],
   "source": [
    "from utils import set_pyplot_params\n",
    "set_pyplot_params()"
   ]
  },
  {
   "cell_type": "markdown",
   "metadata": {},
   "source": [
    "In this chapter I describe my solution to a problem posed by a patient\n",
    "with a kidney tumor. I think the problem is important and relevant to\n",
    "patients with these tumors and doctors treating them.\n",
    "\n",
    "And I think the solution is interesting because, although it is a\n",
    "Bayesian approach to the problem, the use of Bayes's theorem is\n",
    "implicit. I present the solution and my code; at the end of the chapter I will explain the Bayesian part.\n",
    "\n",
    "If you want more technical detail than I present here, you can read my\n",
    "paper on this work at <http://arxiv.org/abs/1203.6890>."
   ]
  },
  {
   "cell_type": "markdown",
   "metadata": {},
   "source": [
    "## The Kidney Tumor Problem\n",
    "\n",
    "I am a frequent reader and occasional contributor to the online\n",
    "statistics forum at <http://reddit.com/r/statistics>. \n",
    "In November 2011, I read the following message:\n",
    "\n",
    "> \"I have Stage IV Kidney Cancer and am trying to determine if the cancer formed before I retired from the military. ... Given the dates of retirement and detection is it possible to determine when there was a 50/50 chance that I developed the disease? Is it possible to determine the probability on the retirement date? My tumor was 15.5 cm x 15 cm at detection. Grade II.\"\n",
    "\n",
    "I contacted the author of the message to get more information; I\n",
    "learned that veterans get different benefits if it is \"more likely than not\" that a tumor formed while they were in military service (among other considerations).\n",
    "\n",
    "Because renal tumors grow slowly, and often do not cause symptoms, they are sometimes left untreated. As a result, doctors can observe the rate of growth for untreated tumors by comparing scans from the same patient at different times. Several papers have reported these growth rates.\n",
    "\n",
    "For my analysis I used data from a paper by [Zhang et al](https://pubs.rsna.org/doi/full/10.1148/radiol.2501071712). \n",
    "They report growth rates in two forms:\n",
    "\n",
    "* Volumetric doubling time, which is the time it would take for a tumor to double in time.\n",
    "\n",
    "* Reciprocal doubling time (RDT), which is the number of doublings per year.\n",
    "\n",
    "The next section shows how we work with these growth rates."
   ]
  },
  {
   "cell_type": "markdown",
   "metadata": {},
   "source": [
    "## A Growth Model\n",
    "\n",
    "We'll start with a simple model of tumor growth and gradually add complications.\n",
    "\n",
    "For the simple model, we'll assume\n",
    "\n",
    "* Tumors grow with a constant doubling time, and \n",
    "\n",
    "* They are roughly spherical in shape.\n",
    "\n",
    "And I'll define three points in time:\n",
    "\n",
    "* `t0` is when the tumor formed (soon I'll be more precise about what that means).\n",
    "\n",
    "* `t1` is when my correspondent retired.\n",
    "\n",
    "* `t2` is when the tumor was detected.\n",
    "\n",
    "I learned from my correspondent that the time between `t1` and `t2` was 3291 days (about 9 years)."
   ]
  },
  {
   "cell_type": "code",
   "execution_count": 41,
   "metadata": {},
   "outputs": [],
   "source": [
    "interval = 3291      # days"
   ]
  },
  {
   "cell_type": "markdown",
   "metadata": {},
   "source": [
    "As an example, let's assume that the diameter of the tumor at `t1` was 1 cm."
   ]
  },
  {
   "cell_type": "code",
   "execution_count": 42,
   "metadata": {},
   "outputs": [],
   "source": [
    "d1 = 1      # cm"
   ]
  },
  {
   "cell_type": "markdown",
   "metadata": {},
   "source": [
    "The following function computes the volume of a sphere with a given diameter."
   ]
  },
  {
   "cell_type": "code",
   "execution_count": 43,
   "metadata": {},
   "outputs": [],
   "source": [
    "import numpy as np\n",
    "\n",
    "def calc_volume(diameter):\n",
    "    \"\"\"Converts a diameter to a volume.\n",
    "\n",
    "    V = 4/3 pi (d/2)^3\n",
    "    \"\"\"\n",
    "    factor = 4 * np.pi / 3\n",
    "    return factor * (diameter/2.0)**3"
   ]
  },
  {
   "cell_type": "markdown",
   "metadata": {},
   "source": [
    "So if we assume that the tumor is spherical, we can compute its volume at `t1`."
   ]
  },
  {
   "cell_type": "code",
   "execution_count": 44,
   "metadata": {},
   "outputs": [
    {
     "data": {
      "text/plain": [
       "0.5235987755982988"
      ]
     },
     "execution_count": 44,
     "metadata": {},
     "output_type": "execute_result"
    }
   ],
   "source": [
    "v1 = calc_volume(d1)\n",
    "v1"
   ]
  },
  {
   "cell_type": "markdown",
   "metadata": {},
   "source": [
    "The median volume doubling time reported by Zhang et al. is 811 days."
   ]
  },
  {
   "cell_type": "code",
   "execution_count": 45,
   "metadata": {},
   "outputs": [],
   "source": [
    "median_doubling_time = 811       # days"
   ]
  },
  {
   "cell_type": "markdown",
   "metadata": {},
   "source": [
    "So we can compute the number of doublings that would have happened in the given interval."
   ]
  },
  {
   "cell_type": "code",
   "execution_count": 46,
   "metadata": {},
   "outputs": [
    {
     "data": {
      "text/plain": [
       "4.057953144266338"
      ]
     },
     "execution_count": 46,
     "metadata": {},
     "output_type": "execute_result"
    }
   ],
   "source": [
    "doublings = interval / median_doubling_time\n",
    "doublings"
   ]
  },
  {
   "cell_type": "markdown",
   "metadata": {},
   "source": [
    "Given `v1` and the number of doublings, we can compute the volume at `t2`."
   ]
  },
  {
   "cell_type": "code",
   "execution_count": 47,
   "metadata": {},
   "outputs": [
    {
     "data": {
      "text/plain": [
       "8.720958899498342"
      ]
     },
     "execution_count": 47,
     "metadata": {},
     "output_type": "execute_result"
    }
   ],
   "source": [
    "v2 = v1 * 2**doublings\n",
    "v2"
   ]
  },
  {
   "cell_type": "markdown",
   "metadata": {},
   "source": [
    "We can use the following function to compute the diameter of a sphere with the given volume."
   ]
  },
  {
   "cell_type": "code",
   "execution_count": 48,
   "metadata": {},
   "outputs": [],
   "source": [
    "def calc_diameter(volume):\n",
    "    \"\"\"Converts a volume to a diameter.\n",
    "\n",
    "    d = 2r = 2 * (3/4/pi V)^1/3\n",
    "    \"\"\"\n",
    "    factor = 3 / np.pi / 4\n",
    "    return 2 * (factor * volume)**(1/3)"
   ]
  },
  {
   "cell_type": "markdown",
   "metadata": {},
   "source": [
    "Here's the volume of the tumor at `t2`:"
   ]
  },
  {
   "cell_type": "code",
   "execution_count": 49,
   "metadata": {},
   "outputs": [
    {
     "data": {
      "text/plain": [
       "2.553809740864908"
      ]
     },
     "execution_count": 49,
     "metadata": {},
     "output_type": "execute_result"
    }
   ],
   "source": [
    "d2 = calc_diameter(v2)\n",
    "d2"
   ]
  },
  {
   "cell_type": "markdown",
   "metadata": {},
   "source": [
    "So if the diameter of the tumor was 1 cm at `t1`, and it grew at the median rate, the diameter would be about 2.6 cm at `t2`."
   ]
  },
  {
   "cell_type": "markdown",
   "metadata": {},
   "source": [
    "## Working backwards\n",
    "\n",
    "The example in the previous section demonstrates the growth model, but it doesn't answer the question my correspondent posed.\n",
    "\n",
    "We can get a partial answer by starting at the end and working backwards; that is, given that the diameter of the tumor was 15.5 cm at `t2`, how big would it have been at `t1`, assuming that it grew at the median rate?\n",
    "\n",
    "Here's the volume at `t2`:"
   ]
  },
  {
   "cell_type": "code",
   "execution_count": 50,
   "metadata": {},
   "outputs": [
    {
     "data": {
      "text/plain": [
       "1949.816390481115"
      ]
     },
     "execution_count": 50,
     "metadata": {},
     "output_type": "execute_result"
    }
   ],
   "source": [
    "d2 = 15.5\n",
    "v2 = calc_volume(d2)\n",
    "v2"
   ]
  },
  {
   "cell_type": "markdown",
   "metadata": {},
   "source": [
    "Since we already know the number of doublings in the interval, we can compute the volume at `t1` like this:"
   ]
  },
  {
   "cell_type": "code",
   "execution_count": 51,
   "metadata": {},
   "outputs": [
    {
     "data": {
      "text/plain": [
       "117.06527762172266"
      ]
     },
     "execution_count": 51,
     "metadata": {},
     "output_type": "execute_result"
    }
   ],
   "source": [
    "v1 = v2 / 2**doublings\n",
    "v1"
   ]
  },
  {
   "cell_type": "markdown",
   "metadata": {},
   "source": [
    "And given `v1`, we can compute the corresponding diameter:"
   ]
  },
  {
   "cell_type": "code",
   "execution_count": 52,
   "metadata": {},
   "outputs": [
    {
     "data": {
      "text/plain": [
       "6.06936364599759"
      ]
     },
     "execution_count": 52,
     "metadata": {},
     "output_type": "execute_result"
    }
   ],
   "source": [
    "d1 = calc_diameter(v1)\n",
    "d1"
   ]
  },
  {
   "cell_type": "markdown",
   "metadata": {},
   "source": [
    "The diameter at `t1` would have been about 6 cm.\n",
    "We can conclude:\n",
    "\n",
    "* If the tumor grew at the median rate, it must have formed prior to `t1`.\n",
    "\n",
    "* Or, if it formed after `t1`, it must have grown substantially faster than the median rate.\n",
    "\n",
    "Based on these results, I concluded that is \"more likely than not\" that the tumor formed prior to the date of discharge, and on behalf of my correspondent, I wrote a letter explaining my\n",
    "conclusions to the Veterans' Benefit Administration.\n",
    "\n",
    "Later I told a friend, who is an oncologist, about my results. \n",
    "He was surprised by the growth rates I found and by what they imply about the ages of these tumors. \n",
    "He suggested that the results might be interesting to researchers and doctors.\n",
    "\n",
    "But in order to make them useful, I wanted a more general model of the\n",
    "relationship between age and size."
   ]
  },
  {
   "cell_type": "markdown",
   "metadata": {},
   "source": [
    "## A More General Model\n",
    "\n",
    "Given the size of a tumor at time of diagnosis, we would like to know the distribution of its age.\n",
    "\n",
    "To find it, we'll run simulations of tumor growth to get the distribution of size conditioned on age. \n",
    "Then we'll use a Bayesian approach to get the distribution of age conditioned on size.\n",
    "\n",
    "The simulation starts with a small tumor and runs these steps:\n",
    "\n",
    "1.  Choose a value from the distribution of growth rates.\n",
    "\n",
    "2.  Compute the size of the tumor at the end of an interval.\n",
    "\n",
    "3.  Repeat until the tumor exceeds the maximum relevant size.\n",
    "\n",
    "So the first thing we need is the distribution of growth rates."
   ]
  },
  {
   "cell_type": "markdown",
   "metadata": {},
   "source": [
    "## Distribution of RDT\n",
    "\n",
    "Using the figures in the paper by Zhange et al., I created an array, `rdt_sample`, that contains estimated values of RDT for the 53 patients in the study.\n",
    "\n",
    "Again, RDT stands for \"reciprocal doubling time\", which is in doublings per year.\n",
    "So if `rdt=1`, a tumor would double in volume one year.\n",
    "If `rdt=2`, it would double twice; that is, the volume would quadruple.\n",
    "And if `rdt=-1`, it would halve in volume."
   ]
  },
  {
   "cell_type": "code",
   "execution_count": 18,
   "metadata": {
    "tags": [
     "remove-cell"
    ]
   },
   "outputs": [
    {
     "data": {
      "text/plain": [
       "53"
      ]
     },
     "execution_count": 18,
     "metadata": {},
     "output_type": "execute_result"
    }
   ],
   "source": [
    "# Data from the histogram in Figure 3\n",
    "\n",
    "import numpy as np\n",
    "from empiricaldist import Pmf\n",
    "\n",
    "counts = [2, 29, 11, 6, 3, 1, 1]\n",
    "rdts = np.arange(-1, 6) + 0.01\n",
    "pmf_rdt = Pmf(counts, rdts)\n",
    "pmf_rdt.normalize()"
   ]
  },
  {
   "cell_type": "code",
   "execution_count": 19,
   "metadata": {
    "tags": [
     "hide-cell"
    ]
   },
   "outputs": [
    {
     "data": {
      "text/plain": [
       "53"
      ]
     },
     "execution_count": 19,
     "metadata": {},
     "output_type": "execute_result"
    }
   ],
   "source": [
    "# Data from the scatter plot in Figure 4\n",
    "\n",
    "rdts = [5.089,  3.572,  3.242,  2.642,  1.982,  1.847,  1.908,  1.798,\n",
    "        1.798,  1.761,  2.703, -0.416,  0.024,  0.869,  0.746,  0.257,\n",
    "        0.269,  0.086,  0.086,  1.321,  1.052,  1.076,  0.758,  0.587,\n",
    "        0.367,  0.416,  0.073,  0.538,  0.281,  0.122, -0.869, -1.431,\n",
    "        0.012,  0.037, -0.135,  0.122,  0.208,  0.245,  0.404,  0.648,\n",
    "        0.673,  0.673,  0.563,  0.391,  0.049,  0.538,  0.514,  0.404,\n",
    "        0.404,  0.33,  -0.061,  0.538,  0.306]\n",
    "\n",
    "# Adding a shift so the median is as reported in the paper\n",
    "rdt_sample = np.array(rdts) - 0.1\n",
    "len(rdt_sample)"
   ]
  },
  {
   "cell_type": "markdown",
   "metadata": {},
   "source": [
    "We can use the sample of RDTs to estimate the distribution."
   ]
  },
  {
   "cell_type": "code",
   "execution_count": 57,
   "metadata": {},
   "outputs": [],
   "source": [
    "from utils import kde_from_sample\n",
    "\n",
    "qs = np.linspace(-2, 6, num=201)\n",
    "kde_rdt = kde_from_sample(rdt_sample, qs)"
   ]
  },
  {
   "cell_type": "code",
   "execution_count": 58,
   "metadata": {
    "tags": [
     "remove-cell"
    ]
   },
   "outputs": [
    {
     "data": {
      "text/plain": [
       "829.5454545454546"
      ]
     },
     "execution_count": 58,
     "metadata": {},
     "output_type": "execute_result"
    }
   ],
   "source": [
    "1 / kde_rdt.median() * 365"
   ]
  },
  {
   "cell_type": "markdown",
   "metadata": {},
   "source": [
    "`kde_rdt` is a `Pmf` object; we can use it to estimate the CDF of the distribution, too."
   ]
  },
  {
   "cell_type": "code",
   "execution_count": 59,
   "metadata": {},
   "outputs": [],
   "source": [
    "cdf_rdt = kde_rdt.make_cdf()"
   ]
  },
  {
   "cell_type": "markdown",
   "metadata": {},
   "source": [
    "Here's what it looks like."
   ]
  },
  {
   "cell_type": "code",
   "execution_count": 61,
   "metadata": {
    "tags": [
     "hide-input"
    ]
   },
   "outputs": [
    {
     "data": {
      "image/png": "[encoded data removed]",
      "text/plain": [
       "<Figure size 432x288 with 1 Axes>"
      ]
     },
     "metadata": {
      "needs_background": "light"
     },
     "output_type": "display_data"
    }
   ],
   "source": [
    "from utils import decorate\n",
    "\n",
    "cdf_rdt.plot(label='rdts')\n",
    "\n",
    "decorate(xlabel='Reciprocal doubling time (RDT)',\n",
    "         ylabel='CDF')"
   ]
  },
  {
   "cell_type": "markdown",
   "metadata": {},
   "source": [
    "To generate a random value from the distribution, we can use `Pmf.choice`:"
   ]
  },
  {
   "cell_type": "code",
   "execution_count": 26,
   "metadata": {},
   "outputs": [
    {
     "data": {
      "text/plain": [
       "-0.24"
      ]
     },
     "execution_count": 26,
     "metadata": {},
     "output_type": "execute_result"
    }
   ],
   "source": [
    "kde_rdt.choice()"
   ]
  },
  {
   "cell_type": "markdown",
   "metadata": {},
   "source": [
    "To generate a sequence of random values, I'll use the following generator function.\n",
    "If you are not familiar with generator functions, you can [read about them here](https://wiki.python.org/moin/Generators).\n"
   ]
  },
  {
   "cell_type": "code",
   "execution_count": 32,
   "metadata": {},
   "outputs": [],
   "source": [
    "def uncorrelated_generator(pmf, rho=None):\n",
    "    \"\"\"Generates a sequence of values from pmf.\n",
    "\n",
    "    pmf: distribution to choose from\n",
    "    rho: ignored\n",
    "    \"\"\"\n",
    "    while True:\n",
    "        yield pmf.choice()"
   ]
  },
  {
   "cell_type": "markdown",
   "metadata": {},
   "source": [
    "For the current version of the model, using a generator function isn't really necessary, but for the next version it will turn out to be convenient.\n",
    "\n",
    "When we call `uncorrelated_generator`, it returns a generator object:"
   ]
  },
  {
   "cell_type": "code",
   "execution_count": 62,
   "metadata": {},
   "outputs": [
    {
     "data": {
      "text/plain": [
       "<generator object uncorrelated_generator at 0x7f35835164a0>"
      ]
     },
     "execution_count": 62,
     "metadata": {},
     "output_type": "execute_result"
    }
   ],
   "source": [
    "rdt_gen = uncorrelated_generator(kde_rdt)\n",
    "rdt_gen"
   ]
  },
  {
   "cell_type": "markdown",
   "metadata": {},
   "source": [
    "The generator behaves like a iterator, so we can use it in a `for` loop, or we can use `next` to get the next value.\n",
    "\n",
    "For example, here's a function that takes a generator and returns a list with the given number of values:"
   ]
  },
  {
   "cell_type": "code",
   "execution_count": 34,
   "metadata": {},
   "outputs": [],
   "source": [
    "def generate_sample(gen, size=1000):\n",
    "    \"\"\"Get a sample from a generator.\n",
    "    \n",
    "    gen: generator\n",
    "    size: sample size\n",
    "    \n",
    "    returns: list\n",
    "    \"\"\"\n",
    "    return [next(gen) for _ in range(size)]"
   ]
  },
  {
   "cell_type": "code",
   "execution_count": 35,
   "metadata": {},
   "outputs": [],
   "source": [
    "sample = generate_sample(rdt_gen)"
   ]
  },
  {
   "cell_type": "markdown",
   "metadata": {
    "tags": [
     "hide-cell"
    ]
   },
   "source": [
    "Here's a quick test to confirm that it works:"
   ]
  },
  {
   "cell_type": "code",
   "execution_count": 36,
   "metadata": {
    "tags": [
     "hide-cell"
    ]
   },
   "outputs": [],
   "source": [
    "from empiricaldist import Cdf\n",
    "\n",
    "cdf_sample = Cdf.from_seq(sample)"
   ]
  },
  {
   "cell_type": "code",
   "execution_count": 38,
   "metadata": {
    "tags": [
     "hide-cell"
    ]
   },
   "outputs": [
    {
     "data": {
      "image/png": "[encoded data removed]",
      "text/plain": [
       "<Figure size 432x288 with 1 Axes>"
      ]
     },
     "metadata": {
      "needs_background": "light"
     },
     "output_type": "display_data"
    }
   ],
   "source": [
    "cdf_rdt.plot(label='model', color='C5')\n",
    "cdf_sample.plot(label='random sample')\n",
    "\n",
    "decorate(xlabel='Reciprocal doubling time (RDT)',\n",
    "         ylabel='CDF')"
   ]
  },
  {
   "cell_type": "markdown",
   "metadata": {},
   "source": [
    "With that, we have everything we need to simulate the growth of a tumor."
   ]
  },
  {
   "cell_type": "markdown",
   "metadata": {},
   "source": [
    "## Simulation\n",
    "\n",
    "For the initial diameter I chose 0.3 cm, because carcinomas smaller than that are less likely to be invasive and less likely to have the blood supply needed for rapid growth (see [this page on carcinoma](http://en.wikipedia.org/wiki/Carcinoma_in_situ)).\n",
    "\n",
    "I chose an interval of 245 days (about 8 months) because that is the\n",
    "median time between measurements in the data source.\n",
    "\n",
    "For the maximum diameter I chose 20 cm. \n",
    "In the data source, the range of observed sizes is 1.0 to 12.0 cm, so we are extrapolating beyond the observed range at each end, but not by far, and not in a way likely to have a strong effect on the results."
   ]
  },
  {
   "cell_type": "code",
   "execution_count": 70,
   "metadata": {},
   "outputs": [],
   "source": [
    "interval = 245 / 365      # year\n",
    "min_diameter = 0.3        # cm\n",
    "max_diameter = 20         # cm"
   ]
  },
  {
   "cell_type": "markdown",
   "metadata": {},
   "source": [
    "I'll use `calc_volume` to compute the initial and maximum volumes:"
   ]
  },
  {
   "cell_type": "code",
   "execution_count": 71,
   "metadata": {},
   "outputs": [
    {
     "data": {
      "text/plain": [
       "(0.014137166941154066, 4188.790204786391)"
      ]
     },
     "execution_count": 71,
     "metadata": {},
     "output_type": "execute_result"
    }
   ],
   "source": [
    "v0 = calc_volume(min_diameter)\n",
    "vmax = calc_volume(max_diameter)\n",
    "v0, vmax"
   ]
  },
  {
   "cell_type": "markdown",
   "metadata": {},
   "source": [
    "The following function runs the simulation."
   ]
  },
  {
   "cell_type": "code",
   "execution_count": 74,
   "metadata": {},
   "outputs": [],
   "source": [
    "import pandas as pd\n",
    "\n",
    "def simulate_growth(rdt_gen):\n",
    "    \"\"\"Simulate the growth of a tumor.\n",
    "    \n",
    "    rdt_gen: generator that yields RDT\n",
    "    \n",
    "    returns: DataFrame\n",
    "    \"\"\"\n",
    "    age = 0\n",
    "    volume = v0\n",
    "    res = []\n",
    "    \n",
    "    for rdt in rdt_gen:\n",
    "        res.append((age, volume))\n",
    "        if volume > vmax:\n",
    "            break\n",
    "\n",
    "        age += interval \n",
    "        doublings = rdt * interval\n",
    "        volume *= 2**doublings\n",
    "        \n",
    "    columns = ['age', 'volume']\n",
    "    sim = pd.DataFrame(res, columns=columns)\n",
    "    sim['diameter'] = calc_diameter(sim['volume'])\n",
    "    return sim"
   ]
  },
  {
   "cell_type": "markdown",
   "metadata": {},
   "source": [
    "`simulate_growth` takes as a parameter a generator that yields reciprocal doubling times (RDT).\n",
    "\n",
    "It initializes the age and volume of the tumor, then runs a loop that simulates one interval at a time.\n",
    "\n",
    "Each time through the loop, it checks the volume of the tumor and exits when it exceeds `vmax`.\n",
    "\n",
    "Then it updates `age` and `volume`.  Since `rdt` is in doublings per year, we multiply by `interval` to get compute the number of doublings during each interval.\n",
    "\n",
    "At the end of the loop, `simulate_growth` puts the results in a `DataFrame` and computes the diameter that corresponds to each volume.\n",
    "\n",
    "Here's how we call this function:"
   ]
  },
  {
   "cell_type": "code",
   "execution_count": 83,
   "metadata": {
    "tags": [
     "remove-cell"
    ]
   },
   "outputs": [],
   "source": [
    "np.random.seed(17)"
   ]
  },
  {
   "cell_type": "code",
   "execution_count": 84,
   "metadata": {},
   "outputs": [],
   "source": [
    "rdt_gen = uncorrelated_generator(kde_rdt)\n",
    "sim = simulate_growth(rdt_gen)"
   ]
  },
  {
   "cell_type": "markdown",
   "metadata": {},
   "source": [
    "And here are the results for the first few intervals:"
   ]
  },
  {
   "cell_type": "code",
   "execution_count": 85,
   "metadata": {},
   "outputs": [
    {
     "data": {
      "text/html": [
       "<div>\n",
       "<style scoped>\n",
       "    .dataframe tbody tr th:only-of-type {\n",
       "        vertical-align: middle;\n",
       "    }\n",
       "\n",
       "    .dataframe tbody tr th {\n",
       "        vertical-align: top;\n",
       "    }\n",
       "\n",
       "    .dataframe thead th {\n",
       "        text-align: right;\n",
       "    }\n",
       "</style>\n",
       "<table border=\"1\" class=\"dataframe\">\n",
       "  <thead>\n",
       "    <tr style=\"text-align: right;\">\n",
       "      <th></th>\n",
       "      <th>age</th>\n",
       "      <th>volume</th>\n",
       "      <th>diameter</th>\n",
       "    </tr>\n",
       "  </thead>\n",
       "  <tbody>\n",
       "    <tr>\n",
       "      <th>0</th>\n",
       "      <td>0.000000</td>\n",
       "      <td>0.014137</td>\n",
       "      <td>0.300000</td>\n",
       "    </tr>\n",
       "    <tr>\n",
       "      <th>1</th>\n",
       "      <td>0.671233</td>\n",
       "      <td>0.014403</td>\n",
       "      <td>0.301867</td>\n",
       "    </tr>\n",
       "    <tr>\n",
       "      <th>2</th>\n",
       "      <td>1.342466</td>\n",
       "      <td>0.018345</td>\n",
       "      <td>0.327220</td>\n",
       "    </tr>\n",
       "    <tr>\n",
       "      <th>3</th>\n",
       "      <td>2.013699</td>\n",
       "      <td>0.016715</td>\n",
       "      <td>0.317226</td>\n",
       "    </tr>\n",
       "    <tr>\n",
       "      <th>4</th>\n",
       "      <td>2.684932</td>\n",
       "      <td>0.012182</td>\n",
       "      <td>0.285475</td>\n",
       "    </tr>\n",
       "  </tbody>\n",
       "</table>\n",
       "</div>"
      ],
      "text/plain": [
       "        age    volume  diameter\n",
       "0  0.000000  0.014137  0.300000\n",
       "1  0.671233  0.014403  0.301867\n",
       "2  1.342466  0.018345  0.327220\n",
       "3  2.013699  0.016715  0.317226\n",
       "4  2.684932  0.012182  0.285475"
      ]
     },
     "execution_count": 85,
     "metadata": {},
     "output_type": "execute_result"
    }
   ],
   "source": [
    "sim.head()"
   ]
  },
  {
   "cell_type": "markdown",
   "metadata": {},
   "source": [
    "And the last few intervals."
   ]
  },
  {
   "cell_type": "code",
   "execution_count": 86,
   "metadata": {},
   "outputs": [
    {
     "data": {
      "text/html": [
       "<div>\n",
       "<style scoped>\n",
       "    .dataframe tbody tr th:only-of-type {\n",
       "        vertical-align: middle;\n",
       "    }\n",
       "\n",
       "    .dataframe tbody tr th {\n",
       "        vertical-align: top;\n",
       "    }\n",
       "\n",
       "    .dataframe thead th {\n",
       "        text-align: right;\n",
       "    }\n",
       "</style>\n",
       "<table border=\"1\" class=\"dataframe\">\n",
       "  <thead>\n",
       "    <tr style=\"text-align: right;\">\n",
       "      <th></th>\n",
       "      <th>age</th>\n",
       "      <th>volume</th>\n",
       "      <th>diameter</th>\n",
       "    </tr>\n",
       "  </thead>\n",
       "  <tbody>\n",
       "    <tr>\n",
       "      <th>45</th>\n",
       "      <td>30.205479</td>\n",
       "      <td>651.531735</td>\n",
       "      <td>10.755873</td>\n",
       "    </tr>\n",
       "    <tr>\n",
       "      <th>46</th>\n",
       "      <td>30.876712</td>\n",
       "      <td>1117.703474</td>\n",
       "      <td>12.875852</td>\n",
       "    </tr>\n",
       "    <tr>\n",
       "      <th>47</th>\n",
       "      <td>31.547945</td>\n",
       "      <td>3053.365946</td>\n",
       "      <td>17.999485</td>\n",
       "    </tr>\n",
       "    <tr>\n",
       "      <th>48</th>\n",
       "      <td>32.219178</td>\n",
       "      <td>2534.862261</td>\n",
       "      <td>16.916814</td>\n",
       "    </tr>\n",
       "    <tr>\n",
       "      <th>49</th>\n",
       "      <td>32.890411</td>\n",
       "      <td>4684.628855</td>\n",
       "      <td>20.759913</td>\n",
       "    </tr>\n",
       "  </tbody>\n",
       "</table>\n",
       "</div>"
      ],
      "text/plain": [
       "          age       volume   diameter\n",
       "45  30.205479   651.531735  10.755873\n",
       "46  30.876712  1117.703474  12.875852\n",
       "47  31.547945  3053.365946  17.999485\n",
       "48  32.219178  2534.862261  16.916814\n",
       "49  32.890411  4684.628855  20.759913"
      ]
     },
     "execution_count": 86,
     "metadata": {},
     "output_type": "execute_result"
    }
   ],
   "source": [
    "sim.tail()"
   ]
  },
  {
   "cell_type": "markdown",
   "metadata": {},
   "source": [
    "The simulation is based on one big simplification: the growth rate is\n",
    "chosen independently during each interval, so it does not depend on age, size, or growth rate during previous intervals.\n",
    "\n",
    "In Section xxx I\n",
    "review these assumptions and consider more detailed models. But first\n",
    "let's look at some examples.\n",
    "\n",
    "The following figure shows the size of simulated tumors as a\n",
    "function of age. The dashed line at 10 cm shows the range of ages for\n",
    "tumors at that size: the fastest-growing tumor gets there in 8 years;\n",
    "the slowest takes more than 35."
   ]
  },
  {
   "cell_type": "markdown",
   "metadata": {},
   "source": [
    "To show the results graphically, I'll run 101 simulations:"
   ]
  },
  {
   "cell_type": "code",
   "execution_count": 87,
   "metadata": {
    "tags": [
     "remove-cell"
    ]
   },
   "outputs": [],
   "source": [
    "np.random.seed(17)"
   ]
  },
  {
   "cell_type": "code",
   "execution_count": 88,
   "metadata": {},
   "outputs": [],
   "source": [
    "rdt_gen = uncorrelated_generator(kde_rdt)\n",
    "sims = [simulate_growth(rdt_gen) for _ in range(101)]"
   ]
  },
  {
   "cell_type": "markdown",
   "metadata": {},
   "source": [
    "Here's what the results look like:"
   ]
  },
  {
   "cell_type": "code",
   "execution_count": 89,
   "metadata": {
    "tags": [
     "hide-input"
    ]
   },
   "outputs": [
    {
     "data": {
      "image/png": "[encoded data removed]",
      "text/plain": [
       "<Figure size 432x288 with 1 Axes>"
      ]
     },
     "metadata": {
      "needs_background": "light"
     },
     "output_type": "display_data"
    }
   ],
   "source": [
    "import matplotlib.pyplot as plt\n",
    "\n",
    "diameters = [4, 8, 15]\n",
    "for diameter in diameters:\n",
    "    plt.axhline(diameter, color='C5', \n",
    "                linewidth=2, linestyle='dotted')\n",
    "\n",
    "for sim in sims:\n",
    "    plt.plot(sim['age'], sim['diameter'],\n",
    "             color='C0', linewidth=0.5, alpha=0.5)\n",
    "    \n",
    "decorate(xlabel='Tumor age (years)',\n",
    "         ylabel='Diameter (cm, log scale)',\n",
    "         ylim=[0.2, 20],\n",
    "         yscale='log')\n",
    "\n",
    "yticks = [0.2, 0.5, 1, 2, 5, 10, 20]\n",
    "plt.yticks(yticks, yticks);"
   ]
  },
  {
   "cell_type": "code",
   "execution_count": 90,
   "metadata": {},
   "outputs": [],
   "source": [
    "from scipy.interpolate import interp1d\n",
    "from empiricaldist import Pmf\n",
    "\n",
    "def interpolate_ages(sims, diameter):\n",
    "    ages = []\n",
    "    for sim in sims:\n",
    "        interp = interp1d(sim['diameter'], sim['age'])\n",
    "        age = interp(diameter)\n",
    "        ages.append(float(age))\n",
    "    return ages"
   ]
  },
  {
   "cell_type": "code",
   "execution_count": 91,
   "metadata": {},
   "outputs": [
    {
     "data": {
      "image/png": "[encoded data removed]",
      "text/plain": [
       "<Figure size 432x288 with 1 Axes>"
      ]
     },
     "metadata": {
      "needs_background": "light"
     },
     "output_type": "display_data"
    }
   ],
   "source": [
    "for diameter in diameters:\n",
    "    ages = interpolate_ages(sims, diameter)\n",
    "    cdf = Cdf.from_seq(ages)\n",
    "    cdf.plot(label=f'{diameter} cm')\n",
    "    \n",
    "decorate(xlabel='Tumor age (years)',\n",
    "         ylabel='CDF')"
   ]
  },
  {
   "cell_type": "markdown",
   "metadata": {},
   "source": [
    "## Serial Correlation\n",
    "\n",
    "The results so far are based on a number of modeling decisions; let's\n",
    "review them and consider which ones are the most likely sources of\n",
    "error:\n",
    "\n",
    "* To convert from linear measure to volume, we assume that tumors are approximately spherical. This assumption is probably fine for tumors up to a few centimeters, but not for very large tumors.\n",
    "\n",
    "* The distribution of growth rates in the simulations are based on a\n",
    "    continuous model we chose to fit the data reported by Zhang et al,\n",
    "    which is based on 53 patients. The fit is only approximate and, more importantly, a larger sample would yield a different distribution.\n",
    "\n",
    "* The growth model does not take into account tumor subtype or grade;\n",
    "    this assumption is consistent with the conclusion of Zhang et al:\n",
    "    \"Growth rates in renal tumors of different sizes, subtypes and\n",
    "    grades represent a wide range and overlap substantially.\" But with a\n",
    "    larger sample, a difference might become apparent.\n",
    "\n",
    "* The distribution of growth rate does not depend on the size of the\n",
    "    tumor. This assumption would not be realistic for very small and\n",
    "    very large tumors, whose growth is limited by blood supply.\n",
    "\n",
    "    But tumors observed by Zhang et al ranged from 1 to 12 cm, and they found no statistically significant relationship between size and growth rate. So if there is a relationship, it is likely to be weak, at least in this size range.\n",
    "\n",
    "* In the simulations, growth rate during each interval is independent of previous growth rates. In reality it is plausible that tumors that have grown quickly in the past are more likely to grow quickly. In other words, there is probably a serial correlation in growth rate.\n",
    "\n",
    "Of these, the first and last seem the most problematic. I'll investigate serial correlation first, then come back to spherical geometry."
   ]
  },
  {
   "cell_type": "markdown",
   "metadata": {},
   "source": [
    "## Correlated Growth\n",
    "\n",
    "To simulate correlated growth, I wrote a generator[^2] that yields a\n",
    "correlated series from a given Cdf. Here's how the algorithm works:\n",
    "\n",
    "1. Generate correlated values from a Gaussian distribution. This is easy to do because we can compute the distribution of the each value conditioned on the previous value.\n",
    "\n",
    "2. Transform each value to its cumulative probability using the Gaussian CDF.\n",
    "\n",
    "3. Transform each cumulative probability to the corresponding value using the given `Cdf`.\n",
    "\n",
    "Here's what that looks like in code:"
   ]
  },
  {
   "cell_type": "markdown",
   "metadata": {},
   "source": [
    "## Correlated Generator"
   ]
  },
  {
   "cell_type": "code",
   "execution_count": 95,
   "metadata": {},
   "outputs": [],
   "source": [
    "def correlated_generator(cdf, rho):\n",
    "    \"\"\"Generate correlated values from cdf.\n",
    "    \n",
    "    cdf: Cdf object\n",
    "    rho: float -1 to 1\n",
    "    \"\"\"\n",
    "    x = np.random.normal(0, 1)\n",
    "    yield transform(x, cdf)\n",
    "\n",
    "    sigma = np.sqrt(1 - rho**2);    \n",
    "    while True:\n",
    "        x = np.random.normal(x * rho, sigma)\n",
    "        yield transform(x, cdf)"
   ]
  },
  {
   "cell_type": "markdown",
   "metadata": {},
   "source": [
    "The first value of is Gaussian with mean 0 and standard deviation 1. For subsequent values, the mean and standard deviation depend on the\n",
    "previous value. Given the previous , the mean of the next value is , and the variance is ."
   ]
  },
  {
   "cell_type": "code",
   "execution_count": 92,
   "metadata": {},
   "outputs": [],
   "source": [
    "from scipy.stats import norm\n",
    "\n",
    "def transform(z, cdf):\n",
    "    \"\"\"Map a standard normal variate to a CDF.\n",
    "    \n",
    "    z: value from a standard normal distribution\n",
    "    cdf: Cdf object\n",
    "    \n",
    "    returns: value from cdf\n",
    "    \"\"\"\n",
    "    p = norm.cdf(z)\n",
    "    y = cdf.inverse(p)\n",
    "    return float(y)"
   ]
  },
  {
   "cell_type": "markdown",
   "metadata": {},
   "source": [
    "Remember that `simulate_growth` takes a generator as an argument. That interface allows it to work with different generators:"
   ]
  },
  {
   "cell_type": "markdown",
   "metadata": {},
   "source": [
    "In this example, and are drawn from the same distribution, but the\n",
    "values in are uncorrelated and the values in are correlated with a\n",
    "coefficient of approximately .\n",
    "\n",
    "Now we can see what effect serial correlation has on the results; the\n",
    "following table shows percentiles of age for a 6 cm tumor, using the\n",
    "uncorrelated generator and a correlated generator with target\n",
    "$\\rho = 0.4$."
   ]
  },
  {
   "cell_type": "markdown",
   "metadata": {},
   "source": [
    "Correlation makes the fastest growing tumors faster and the slowest\n",
    "slower, so the range of ages is wider. The difference is modest for low\n",
    "percentiles, but for the 95th percentile it is more than 6 years. To\n",
    "compute these percentiles precisely, we would need a better estimate of\n",
    "the actual serial correlation.\n",
    "\n",
    "However, this model is sufficient to answer the question we started\n",
    "with: given a tumor with a linear dimension of 15.5 cm, what is the\n",
    "probability that it formed more than 8 years ago?\n",
    "\n",
    "With no serial correlation, the probability that a 15.5 cm tumor is\n",
    "older than 8 years is 0.999, or almost certain. With correlation 0.4,\n",
    "faster-growing tumors are more likely, but the probability is still\n",
    "0.995. Even with correlation 0.8, the probability is 0.978.\n",
    "\n",
    "Another likely source of error is the assumption that tumors are\n",
    "approximately spherical. For a tumor with linear dimensions 15.5 x 15\n",
    "cm, this assumption is probably not valid. If, as seems likely, a tumor this size is relatively flat, it might have the same volume as a 6 cm sphere. With this smaller volume and correlation 0.8, the probability of age greater than 8 is still 95%.\n",
    "\n",
    "So even taking into account modeling errors, it is unlikely that such a large tumor could have formed less than 8 years prior to the date of\n",
    "diagnosis."
   ]
  },
  {
   "cell_type": "code",
   "execution_count": 94,
   "metadata": {},
   "outputs": [
    {
     "data": {
      "text/plain": [
       "1.7200000000000002"
      ]
     },
     "execution_count": 94,
     "metadata": {},
     "output_type": "execute_result"
    }
   ],
   "source": [
    "transform(1, cdf_rdt)"
   ]
  },
  {
   "cell_type": "code",
   "execution_count": 97,
   "metadata": {},
   "outputs": [],
   "source": [
    "rdt_gen = correlated_generator(cdf_rdt, 0.6)\n",
    "sample = generate_sample(rdt_gen)\n",
    "cdf_sample = Cdf.from_seq(sample)"
   ]
  },
  {
   "cell_type": "code",
   "execution_count": 99,
   "metadata": {},
   "outputs": [
    {
     "data": {
      "image/png": "[encoded data removed]",
      "text/plain": [
       "<Figure size 432x288 with 1 Axes>"
      ]
     },
     "metadata": {
      "needs_background": "light"
     },
     "output_type": "display_data"
    }
   ],
   "source": [
    "cdf_rdt.plot(label='model', color='C5')\n",
    "cdf_sample.plot(label='random sample', color='C0')\n",
    "\n",
    "decorate(xlabel='Reciprocal doubling time (RDT)',\n",
    "         ylabel='CDF')"
   ]
  },
  {
   "cell_type": "code",
   "execution_count": 100,
   "metadata": {},
   "outputs": [
    {
     "data": {
      "text/plain": [
       "array([[1.       , 0.5873048],\n",
       "       [0.5873048, 1.       ]])"
      ]
     },
     "execution_count": 100,
     "metadata": {},
     "output_type": "execute_result"
    }
   ],
   "source": [
    "np.corrcoef(sample[1:], sample[:-1])"
   ]
  },
  {
   "cell_type": "code",
   "execution_count": 105,
   "metadata": {},
   "outputs": [],
   "source": [
    "rdt_gen = correlated_generator(cdf_rdt, 0.5)\n",
    "sims2 = [simulate_growth(rdt_gen)\n",
    "          for _ in range(101)]"
   ]
  },
  {
   "cell_type": "code",
   "execution_count": 106,
   "metadata": {},
   "outputs": [
    {
     "data": {
      "image/png": "[encoded data removed]",
      "text/plain": [
       "<Figure size 432x288 with 1 Axes>"
      ]
     },
     "metadata": {
      "needs_background": "light"
     },
     "output_type": "display_data"
    }
   ],
   "source": [
    "diameter = 15\n",
    "ages = interpolate_ages(sims, diameter)\n",
    "cdf = Cdf.from_seq(ages)\n",
    "cdf.plot(label='rho=0')\n",
    "    \n",
    "ages2 = interpolate_ages(sims2, diameter)\n",
    "cdf2 = Cdf.from_seq(ages2)\n",
    "cdf2.plot(label='rho=0.5')\n",
    "    \n",
    "decorate(xlabel='Tumor age (years)',\n",
    "         ylabel='CDF')"
   ]
  },
  {
   "cell_type": "code",
   "execution_count": 107,
   "metadata": {},
   "outputs": [
    {
     "data": {
      "text/html": [
       "<div>\n",
       "<style scoped>\n",
       "    .dataframe tbody tr th:only-of-type {\n",
       "        vertical-align: middle;\n",
       "    }\n",
       "\n",
       "    .dataframe tbody tr th {\n",
       "        vertical-align: top;\n",
       "    }\n",
       "\n",
       "    .dataframe thead th {\n",
       "        text-align: right;\n",
       "    }\n",
       "</style>\n",
       "<table border=\"1\" class=\"dataframe\">\n",
       "  <thead>\n",
       "    <tr style=\"text-align: right;\">\n",
       "      <th>Percentiles</th>\n",
       "      <th>5.0</th>\n",
       "      <th>25.0</th>\n",
       "      <th>50.0</th>\n",
       "      <th>75.0</th>\n",
       "      <th>95.0</th>\n",
       "    </tr>\n",
       "    <tr>\n",
       "      <th>Correlation</th>\n",
       "      <th></th>\n",
       "      <th></th>\n",
       "      <th></th>\n",
       "      <th></th>\n",
       "      <th></th>\n",
       "    </tr>\n",
       "  </thead>\n",
       "  <tbody>\n",
       "    <tr>\n",
       "      <th>0.0</th>\n",
       "      <td>15.420544</td>\n",
       "      <td>20.424786</td>\n",
       "      <td>24.788780</td>\n",
       "      <td>31.535889</td>\n",
       "      <td>41.868662</td>\n",
       "    </tr>\n",
       "    <tr>\n",
       "      <th>0.6</th>\n",
       "      <td>9.527274</td>\n",
       "      <td>17.385593</td>\n",
       "      <td>24.370874</td>\n",
       "      <td>33.675901</td>\n",
       "      <td>47.666901</td>\n",
       "    </tr>\n",
       "  </tbody>\n",
       "</table>\n",
       "</div>"
      ],
      "text/plain": [
       "Percentiles       5.0        25.0       50.0       75.0       95.0\n",
       "Correlation                                                       \n",
       "0.0          15.420544  20.424786  24.788780  31.535889  41.868662\n",
       "0.6           9.527274  17.385593  24.370874  33.675901  47.666901"
      ]
     },
     "execution_count": 107,
     "metadata": {},
     "output_type": "execute_result"
    }
   ],
   "source": [
    "ps = np.array([0.05, 0.25, 0.5, 0.75, 0.95])\n",
    "df = pd.DataFrame(columns=ps*100)\n",
    "df.columns.name = 'Percentiles'\n",
    "df.index.name = 'Correlation'\n",
    "\n",
    "df.loc[0] = cdf.quantile(ps)\n",
    "df.loc[0.6] = cdf2.quantile(ps)\n",
    "\n",
    "df"
   ]
  },
  {
   "cell_type": "markdown",
   "metadata": {},
   "source": [
    "## Discussion\n",
    "\n",
    "\n",
    "Well, we got through a whole chapter without using Bayes's theorem or\n",
    "the class that encapsulates Bayesian updates. What happened?\n",
    "\n",
    "One way to think about Bayes's theorem is as an algorithm for inverting\n",
    "conditional probabilities. Given , we can compute , provided we know and\n",
    ". Of course this algorithm is only useful if, for some reason, it is\n",
    "easier to compute than .\n",
    "\n",
    "In this example, it is. By running simulations, we can estimate the\n",
    "distribution of size conditioned on age, or . But it is harder to get\n",
    "the distribution of age conditioned on size, or . So this seems like a\n",
    "perfect opportunity to use Bayes's theorem.\n",
    "\n",
    "The reason I didn't is computational efficiency. To estimate for any\n",
    "given size, you have to run a lot of simulations. Along the way, you end\n",
    "up computing for a lot of sizes. In fact, you end up computing the\n",
    "entire joint distribution of size and age, .\n",
    "\n",
    "And once you have the joint distribution, you don't really need Bayes's\n",
    "theorem, you can extract by taking slices from the joint distribution,\n",
    "as demonstrated in .\n",
    "\n",
    "So we side-stepped Bayes, but he was with us in spirit.\n",
    "\n",
    "[^1]: Zhang et al, Distribution of Renal Tumor Growth Rates Determined\n",
    "    by Using Serial Volumetric CT Measurements, January 2009\n",
    "    *Radiology*, 250, 137-144.\n",
    "    \n",
    "https://pubs.rsna.org/doi/full/10.1148/radiol.2501071712\n",
    "\n",
    "[^2]: If you are not familiar with Python generators, see\n",
    "    <http://wiki.python.org/moin/Generators>."
   ]
  },
  {
   "cell_type": "code",
   "execution_count": null,
   "metadata": {},
   "outputs": [],
   "source": []
  },
  {
   "cell_type": "code",
   "execution_count": null,
   "metadata": {},
   "outputs": [],
   "source": []
  },
  {
   "cell_type": "code",
   "execution_count": null,
   "metadata": {},
   "outputs": [],
   "source": [
    "from scipy.stats import expon\n",
    "from empiricaldist import Pmf\n",
    "\n",
    "def expo_pmf(xs, lam):\n",
    "    ps = expon.pdf(xs, scale=1/lam)\n",
    "    pmf = Pmf(ps, xs)\n",
    "    pmf.normalize()\n",
    "    return pmf"
   ]
  },
  {
   "cell_type": "code",
   "execution_count": null,
   "metadata": {},
   "outputs": [],
   "source": [
    "pc = 0.55\n",
    "lam1 = 2.5\n",
    "lam2 = 0.7"
   ]
  },
  {
   "cell_type": "code",
   "execution_count": null,
   "metadata": {},
   "outputs": [],
   "source": [
    "from scipy.stats import expon\n",
    "from utils import pmf_from_dist\n",
    "\n",
    "x1 = np.arange(0, 2, 0.1)\n",
    "pmf1 = expo_pmf(x1, lam1).transform(lambda x: -x)\n",
    "\n",
    "x2 = np.arange(0, 7, 0.1)\n",
    "pmf2 = expo_pmf(x2, lam2)"
   ]
  },
  {
   "cell_type": "code",
   "execution_count": null,
   "metadata": {},
   "outputs": [],
   "source": [
    "pmf_model = pc * pmf1 + (1-pc) * pmf2\n",
    "cdf_model = pmf_model.make_cdf()"
   ]
  },
  {
   "cell_type": "code",
   "execution_count": null,
   "metadata": {},
   "outputs": [],
   "source": [
    "from utils import decorate\n",
    "\n",
    "cdf_model.plot(label='model', color='C5')\n",
    "cdf_rdt.plot(label='data', style='s')\n",
    "\n",
    "decorate(xlabel='Reciprocal doubling time (RDT)',\n",
    "         ylabel='CDF')"
   ]
  }
 ],
 "metadata": {
  "celltoolbar": "Tags",
  "kernelspec": {
   "display_name": "Python 3",
   "language": "python",
   "name": "python3"
  },
  "language_info": {
   "codemirror_mode": {
    "name": "ipython",
    "version": 3
   },
   "file_extension": ".py",
   "mimetype": "text/x-python",
   "name": "python",
   "nbconvert_exporter": "python",
   "pygments_lexer": "ipython3",
   "version": "3.8.6"
  }
 },
 "nbformat": 4,
 "nbformat_minor": 4
}
