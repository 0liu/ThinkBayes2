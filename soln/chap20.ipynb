{
 "cells": [
  {
   "cell_type": "markdown",
   "metadata": {},
   "source": [
    "# Approximate Bayesian Computation"
   ]
  },
  {
   "cell_type": "markdown",
   "metadata": {
    "tags": [
     "remove-cell"
    ]
   },
   "source": [
    "Think Bayes, Second Edition\n",
    "\n",
    "Copyright 2020 Allen B. Downey\n",
    "\n",
    "License: [Attribution-NonCommercial-ShareAlike 4.0 International (CC BY-NC-SA 4.0)](https://creativecommons.org/licenses/by-nc-sa/4.0/)"
   ]
  },
  {
   "cell_type": "code",
   "execution_count": 1,
   "metadata": {
    "tags": [
     "remove-cell"
    ]
   },
   "outputs": [],
   "source": [
    "# If we're running on Colab, install libraries\n",
    "\n",
    "import sys\n",
    "IN_COLAB = 'google.colab' in sys.modules\n",
    "\n",
    "if IN_COLAB:\n",
    "    !pip install empiricaldist"
   ]
  },
  {
   "cell_type": "code",
   "execution_count": 2,
   "metadata": {
    "tags": [
     "remove-cell"
    ]
   },
   "outputs": [],
   "source": [
    "# Get utils.py\n",
    "\n",
    "import os\n",
    "\n",
    "if not os.path.exists('utils.py'):\n",
    "    !wget https://github.com/AllenDowney/ThinkBayes2/raw/master/soln/utils.py"
   ]
  },
  {
   "cell_type": "code",
   "execution_count": 3,
   "metadata": {
    "tags": [
     "remove-cell"
    ]
   },
   "outputs": [],
   "source": [
    "from utils import set_pyplot_params\n",
    "set_pyplot_params()"
   ]
  },
  {
   "cell_type": "markdown",
   "metadata": {},
   "source": [
    "In this chapter I describe my solution to a problem posed by a patient\n",
    "with a kidney tumor. I think the problem is important and relevant to\n",
    "patients with these tumors and doctors treating them.\n",
    "\n",
    "And I think the solution is interesting because, although it is a\n",
    "Bayesian approach to the problem, the use of Bayes's theorem is\n",
    "implicit. I present the solution and my code; at the end of the example I will explain the Bayesian part.\n",
    "\n",
    "TODO: Update this intro"
   ]
  },
  {
   "cell_type": "markdown",
   "metadata": {},
   "source": [
    "## The Kidney Tumor Problem\n",
    "\n",
    "I am a frequent reader and occasional contributor to the online\n",
    "statistics forum at <http://reddit.com/r/statistics>. \n",
    "In November 2011, I read the following message:\n",
    "\n",
    "> \"I have Stage IV Kidney Cancer and am trying to determine if the cancer formed before I retired from the military. ... Given the dates of retirement and detection is it possible to determine when there was a 50/50 chance that I developed the disease? Is it possible to determine the probability on the retirement date? My tumor was 15.5 cm x 15 cm at detection. Grade II.\"\n",
    "\n",
    "I contacted the author of the message to get more information; I\n",
    "learned that veterans get different benefits if it is \"more likely than not\" that a tumor formed while they were in military service (among other considerations).\n",
    "\n",
    "Because renal tumors grow slowly, and often do not cause symptoms, they are sometimes left untreated. As a result, doctors can observe the rate of growth for untreated tumors by comparing scans from the same patient at different times. Several papers have reported these growth rates.\n",
    "\n",
    "For my analysis I used data from a paper by [Zhang et al](https://pubs.rsna.org/doi/full/10.1148/radiol.2501071712). \n",
    "They report growth rates in two forms:\n",
    "\n",
    "* Volumetric doubling time, which is the time it would take for a tumor to double in size.\n",
    "\n",
    "* Reciprocal doubling time (RDT), which is the number of doublings per year.\n",
    "\n",
    "The next section shows how we work with these growth rates."
   ]
  },
  {
   "cell_type": "markdown",
   "metadata": {},
   "source": [
    "## A Growth Model\n",
    "\n",
    "We'll start with a simple model of tumor growth and gradually add complications.\n",
    "\n",
    "For the simple model, we'll assume\n",
    "\n",
    "* Tumors grow with a constant doubling time, and \n",
    "\n",
    "* They are roughly spherical in shape.\n",
    "\n",
    "And I'll define three points in time:\n",
    "\n",
    "* `t0` is when the tumor formed (soon I'll be more precise about what that means).\n",
    "\n",
    "* `t1` is when my correspondent retired.\n",
    "\n",
    "* `t2` is when the tumor was detected.\n",
    "\n",
    "I learned from my correspondent that the time between `t1` and `t2` was 3291 days (about 9 years)."
   ]
  },
  {
   "cell_type": "code",
   "execution_count": 4,
   "metadata": {},
   "outputs": [],
   "source": [
    "interval = 3291      # days"
   ]
  },
  {
   "cell_type": "markdown",
   "metadata": {},
   "source": [
    "As an example, let's assume that the diameter of the tumor at `t1` was 1 cm."
   ]
  },
  {
   "cell_type": "code",
   "execution_count": 5,
   "metadata": {},
   "outputs": [],
   "source": [
    "d1 = 1      # cm"
   ]
  },
  {
   "cell_type": "markdown",
   "metadata": {},
   "source": [
    "The following function computes the volume of a sphere with a given diameter."
   ]
  },
  {
   "cell_type": "code",
   "execution_count": 6,
   "metadata": {},
   "outputs": [],
   "source": [
    "import numpy as np\n",
    "\n",
    "def calc_vol(diameter):\n",
    "    \"\"\"Converts a diameter to a volume.\n",
    "\n",
    "    V = 4/3 pi (d/2)^3\n",
    "    \"\"\"\n",
    "    factor = 4 * np.pi / 3\n",
    "    return factor * (diameter/2.0)**3"
   ]
  },
  {
   "cell_type": "markdown",
   "metadata": {},
   "source": [
    "So if we assume that the tumor is spherical, we can compute its volume at `t1`."
   ]
  },
  {
   "cell_type": "code",
   "execution_count": 7,
   "metadata": {},
   "outputs": [
    {
     "data": {
      "text/plain": [
       "0.5235987755982988"
      ]
     },
     "execution_count": 7,
     "metadata": {},
     "output_type": "execute_result"
    }
   ],
   "source": [
    "v1 = calc_vol(d1)\n",
    "v1"
   ]
  },
  {
   "cell_type": "markdown",
   "metadata": {},
   "source": [
    "The median volume doubling time reported by Zhang et al. is 811 days."
   ]
  },
  {
   "cell_type": "code",
   "execution_count": 8,
   "metadata": {},
   "outputs": [],
   "source": [
    "median_doubling_time = 811       # days"
   ]
  },
  {
   "cell_type": "markdown",
   "metadata": {},
   "source": [
    "So we can compute the number of doublings that would have happened in the given interval at the median growth rate."
   ]
  },
  {
   "cell_type": "code",
   "execution_count": 9,
   "metadata": {},
   "outputs": [
    {
     "data": {
      "text/plain": [
       "4.057953144266338"
      ]
     },
     "execution_count": 9,
     "metadata": {},
     "output_type": "execute_result"
    }
   ],
   "source": [
    "doublings = interval / median_doubling_time\n",
    "doublings"
   ]
  },
  {
   "cell_type": "markdown",
   "metadata": {},
   "source": [
    "Given `v1` and the number of doublings, we can compute the volume at `t2`."
   ]
  },
  {
   "cell_type": "code",
   "execution_count": 10,
   "metadata": {},
   "outputs": [
    {
     "data": {
      "text/plain": [
       "8.720958899498342"
      ]
     },
     "execution_count": 10,
     "metadata": {},
     "output_type": "execute_result"
    }
   ],
   "source": [
    "v2 = v1 * 2**doublings\n",
    "v2"
   ]
  },
  {
   "cell_type": "markdown",
   "metadata": {},
   "source": [
    "The following function computes the diameter of a sphere with the given volume."
   ]
  },
  {
   "cell_type": "code",
   "execution_count": 11,
   "metadata": {},
   "outputs": [],
   "source": [
    "def calc_diameter(volume):\n",
    "    \"\"\"Converts a volume to a diameter.\n",
    "\n",
    "    d = 2r = 2 * (3/4/pi V)^1/3\n",
    "    \"\"\"\n",
    "    factor = 3 / np.pi / 4\n",
    "    return 2 * (factor * volume)**(1/3)"
   ]
  },
  {
   "cell_type": "markdown",
   "metadata": {},
   "source": [
    "So we can compute the diameter of the tumor at `t2`:"
   ]
  },
  {
   "cell_type": "code",
   "execution_count": 12,
   "metadata": {},
   "outputs": [
    {
     "data": {
      "text/plain": [
       "2.553809740864908"
      ]
     },
     "execution_count": 12,
     "metadata": {},
     "output_type": "execute_result"
    }
   ],
   "source": [
    "d2 = calc_diameter(v2)\n",
    "d2"
   ]
  },
  {
   "cell_type": "markdown",
   "metadata": {},
   "source": [
    "If the diameter of the tumor was 1 cm at `t1`, and it grew at the median rate, the diameter would be about 2.6 cm at `t2`.\n",
    "\n",
    "This example demonstrates the growth model, but it doesn't answer the question my correspondent posed."
   ]
  },
  {
   "cell_type": "markdown",
   "metadata": {},
   "source": [
    "## Working Backwards\n",
    "\n",
    "We can get a partial answer by starting at the end and working backwards; that is, given that the diameter of the tumor was 15.5 cm at `t2`, how big would it have been at `t1`, assuming that it grew at the median rate?\n",
    "\n",
    "Here's the volume at `t2`:"
   ]
  },
  {
   "cell_type": "code",
   "execution_count": 13,
   "metadata": {},
   "outputs": [
    {
     "data": {
      "text/plain": [
       "1949.816390481115"
      ]
     },
     "execution_count": 13,
     "metadata": {},
     "output_type": "execute_result"
    }
   ],
   "source": [
    "d2 = 15.5\n",
    "v2 = calc_vol(d2)\n",
    "v2"
   ]
  },
  {
   "cell_type": "markdown",
   "metadata": {},
   "source": [
    "Since we already know the number of doublings in the interval, we can compute the volume at `t1` like this:"
   ]
  },
  {
   "cell_type": "code",
   "execution_count": 14,
   "metadata": {},
   "outputs": [
    {
     "data": {
      "text/plain": [
       "117.06527762172266"
      ]
     },
     "execution_count": 14,
     "metadata": {},
     "output_type": "execute_result"
    }
   ],
   "source": [
    "v1 = v2 / 2**doublings\n",
    "v1"
   ]
  },
  {
   "cell_type": "markdown",
   "metadata": {},
   "source": [
    "And given `v1`, we can compute the corresponding diameter:"
   ]
  },
  {
   "cell_type": "code",
   "execution_count": 15,
   "metadata": {},
   "outputs": [
    {
     "data": {
      "text/plain": [
       "6.06936364599759"
      ]
     },
     "execution_count": 15,
     "metadata": {},
     "output_type": "execute_result"
    }
   ],
   "source": [
    "d1 = calc_diameter(v1)\n",
    "d1"
   ]
  },
  {
   "cell_type": "markdown",
   "metadata": {},
   "source": [
    "The diameter at `t1` would have been about 6 cm.\n",
    "We can conclude:\n",
    "\n",
    "* If the tumor grew at the median rate, it must have formed prior to `t1`, or\n",
    "\n",
    "* If it formed after `t1`, it must have grown substantially faster than the median rate.\n",
    "\n",
    "Based on these results, I concluded that is \"more likely than not\" that the tumor formed prior to the date of discharge, and on behalf of my correspondent, I wrote a letter to the Veterans' Benefit Administration.\n",
    "\n",
    "Later I told a friend, who is an oncologist, about my results. \n",
    "He was surprised by the growth rates I found and by what they imply about the ages of these tumors. \n",
    "He suggested that the results might be interesting to researchers and doctors.\n",
    "\n",
    "But in order to make them useful, I needed a more general model of the\n",
    "relationship between age and size."
   ]
  },
  {
   "cell_type": "markdown",
   "metadata": {},
   "source": [
    "## A More General Model\n",
    "\n",
    "Given the size of a tumor at time of diagnosis, we would like to know the distribution of its age.\n",
    "\n",
    "To find it, we'll run simulations of tumor growth to get the distribution of size conditioned on age. \n",
    "Then we'll use a Bayesian approach to get the distribution of age conditioned on size.\n",
    "\n",
    "The simulation starts with a small tumor and runs these steps:\n",
    "\n",
    "1.  Choose a value from the distribution of growth rates.\n",
    "\n",
    "2.  Compute the size of the tumor at the end of an interval.\n",
    "\n",
    "3.  Repeat until the tumor exceeds the maximum relevant size.\n",
    "\n",
    "So the first thing we need is the distribution of growth rates."
   ]
  },
  {
   "cell_type": "markdown",
   "metadata": {},
   "source": [
    "## Distribution of Growth Rates\n",
    "\n",
    "Using the figures in the paper by Zhange et al., I created an array, `rdt_sample`, that contains estimated values of RDT for the 53 patients in the study.\n",
    "\n",
    "Again, RDT stands for \"reciprocal doubling time\", which is in doublings per year.\n",
    "So if `rdt=1`, a tumor would double in volume in one year.\n",
    "If `rdt=2`, it would double twice; that is, the volume would quadruple.\n",
    "And if `rdt=-1`, it would halve in volume."
   ]
  },
  {
   "cell_type": "code",
   "execution_count": 16,
   "metadata": {
    "tags": [
     "remove-cell"
    ]
   },
   "outputs": [
    {
     "data": {
      "text/plain": [
       "53"
      ]
     },
     "execution_count": 16,
     "metadata": {},
     "output_type": "execute_result"
    }
   ],
   "source": [
    "# Data from the histogram in Figure 3\n",
    "\n",
    "import numpy as np\n",
    "from empiricaldist import Pmf\n",
    "\n",
    "counts = [2, 29, 11, 6, 3, 1, 1]\n",
    "rdts = np.arange(-1, 6) + 0.01\n",
    "pmf_rdt = Pmf(counts, rdts)\n",
    "pmf_rdt.normalize()"
   ]
  },
  {
   "cell_type": "code",
   "execution_count": 17,
   "metadata": {
    "tags": [
     "hide-cell"
    ]
   },
   "outputs": [
    {
     "data": {
      "text/plain": [
       "53"
      ]
     },
     "execution_count": 17,
     "metadata": {},
     "output_type": "execute_result"
    }
   ],
   "source": [
    "# Data from the scatter plot in Figure 4\n",
    "\n",
    "rdts = [5.089,  3.572,  3.242,  2.642,  1.982,  1.847,  1.908,  1.798,\n",
    "        1.798,  1.761,  2.703, -0.416,  0.024,  0.869,  0.746,  0.257,\n",
    "        0.269,  0.086,  0.086,  1.321,  1.052,  1.076,  0.758,  0.587,\n",
    "        0.367,  0.416,  0.073,  0.538,  0.281,  0.122, -0.869, -1.431,\n",
    "        0.012,  0.037, -0.135,  0.122,  0.208,  0.245,  0.404,  0.648,\n",
    "        0.673,  0.673,  0.563,  0.391,  0.049,  0.538,  0.514,  0.404,\n",
    "        0.404,  0.33,  -0.061,  0.538,  0.306]\n",
    "\n",
    "rdt_sample = np.array(rdts)\n",
    "len(rdt_sample)"
   ]
  },
  {
   "cell_type": "markdown",
   "metadata": {},
   "source": [
    "We can use the sample of RDTs to estimate the PDF of the distribution."
   ]
  },
  {
   "cell_type": "code",
   "execution_count": 18,
   "metadata": {},
   "outputs": [],
   "source": [
    "from utils import kde_from_sample\n",
    "\n",
    "qs = np.linspace(-2, 6, num=201)\n",
    "kde_rdt = kde_from_sample(rdt_sample, qs)"
   ]
  },
  {
   "cell_type": "code",
   "execution_count": 19,
   "metadata": {
    "tags": [
     "remove-cell"
    ]
   },
   "outputs": [
    {
     "data": {
      "text/plain": [
       "651.7857142857142"
      ]
     },
     "execution_count": 19,
     "metadata": {},
     "output_type": "execute_result"
    }
   ],
   "source": [
    "1 / kde_rdt.median() * 365"
   ]
  },
  {
   "cell_type": "markdown",
   "metadata": {},
   "source": [
    "`kde_rdt` is a `Pmf` object; we can use it to estimate the CDF of the distribution, too."
   ]
  },
  {
   "cell_type": "code",
   "execution_count": 20,
   "metadata": {},
   "outputs": [],
   "source": [
    "cdf_rdt = kde_rdt.make_cdf()"
   ]
  },
  {
   "cell_type": "markdown",
   "metadata": {},
   "source": [
    "Here's what it looks like."
   ]
  },
  {
   "cell_type": "code",
   "execution_count": 21,
   "metadata": {
    "tags": [
     "hide-input"
    ]
   },
   "outputs": [
    {
     "data": {
      "image/png": "[encoded data removed]",
      "text/plain": [
       "<Figure size 432x288 with 1 Axes>"
      ]
     },
     "metadata": {
      "needs_background": "light"
     },
     "output_type": "display_data"
    }
   ],
   "source": [
    "from utils import decorate\n",
    "\n",
    "cdf_rdt.plot(label='rdts')\n",
    "\n",
    "decorate(xlabel='Reciprocal doubling time (RDT)',\n",
    "         ylabel='CDF')"
   ]
  },
  {
   "cell_type": "markdown",
   "metadata": {},
   "source": [
    "To generate a random value from the distribution, we can use `Pmf.choice`:"
   ]
  },
  {
   "cell_type": "code",
   "execution_count": 22,
   "metadata": {
    "tags": [
     "remove-cell"
    ]
   },
   "outputs": [],
   "source": [
    "np.random.seed(18)"
   ]
  },
  {
   "cell_type": "code",
   "execution_count": 23,
   "metadata": {},
   "outputs": [
    {
     "data": {
      "text/plain": [
       "0.9199999999999999"
      ]
     },
     "execution_count": 23,
     "metadata": {},
     "output_type": "execute_result"
    }
   ],
   "source": [
    "kde_rdt.choice()"
   ]
  },
  {
   "cell_type": "markdown",
   "metadata": {},
   "source": [
    "To generate a sequence of random values, I'll use the following generator function.\n",
    "If you are not familiar with generator functions in Python, you can [read about them here](https://wiki.python.org/moin/Generators).\n"
   ]
  },
  {
   "cell_type": "code",
   "execution_count": 24,
   "metadata": {},
   "outputs": [],
   "source": [
    "def uncorrelated_generator(pmf, rho=None):\n",
    "    \"\"\"Generates a sequence of values from pmf.\n",
    "\n",
    "    pmf: distribution to choose from\n",
    "    rho: ignored\n",
    "    \"\"\"\n",
    "    while True:\n",
    "        yield pmf.choice()"
   ]
  },
  {
   "cell_type": "markdown",
   "metadata": {},
   "source": [
    "For the current version of the model, using a generator function isn't really necessary, but for the next version it will turn out to be convenient.\n",
    "\n",
    "When we call `uncorrelated_generator`, it returns a generator object:"
   ]
  },
  {
   "cell_type": "code",
   "execution_count": 25,
   "metadata": {},
   "outputs": [
    {
     "data": {
      "text/plain": [
       "<generator object uncorrelated_generator at 0x7fc15148d270>"
      ]
     },
     "execution_count": 25,
     "metadata": {},
     "output_type": "execute_result"
    }
   ],
   "source": [
    "rdt_gen = uncorrelated_generator(kde_rdt)\n",
    "rdt_gen"
   ]
  },
  {
   "cell_type": "markdown",
   "metadata": {},
   "source": [
    "The generator behaves like a iterator, so we can use it in a `for` loop, or we can use `next` to get the next value.\n",
    "\n",
    "For example, here's a function that takes a generator and generates a sample with the given number of values:"
   ]
  },
  {
   "cell_type": "code",
   "execution_count": 26,
   "metadata": {},
   "outputs": [],
   "source": [
    "def generate_sample(gen, size=1000):\n",
    "    \"\"\"Get a sample from a generator.\n",
    "    \n",
    "    gen: generator\n",
    "    size: sample size\n",
    "    \n",
    "    returns: list\n",
    "    \"\"\"\n",
    "    return [next(gen) for _ in range(size)]"
   ]
  },
  {
   "cell_type": "markdown",
   "metadata": {},
   "source": [
    "And we can call it like this."
   ]
  },
  {
   "cell_type": "code",
   "execution_count": 27,
   "metadata": {},
   "outputs": [],
   "source": [
    "sample = generate_sample(rdt_gen)"
   ]
  },
  {
   "cell_type": "markdown",
   "metadata": {
    "tags": [
     "hide-cell"
    ]
   },
   "source": [
    "Here's a quick test to confirm that it works:"
   ]
  },
  {
   "cell_type": "code",
   "execution_count": 28,
   "metadata": {
    "tags": [
     "hide-cell"
    ]
   },
   "outputs": [],
   "source": [
    "from empiricaldist import Cdf\n",
    "\n",
    "cdf_sample = Cdf.from_seq(sample)"
   ]
  },
  {
   "cell_type": "code",
   "execution_count": 29,
   "metadata": {
    "tags": [
     "hide-cell"
    ]
   },
   "outputs": [
    {
     "data": {
      "image/png": "[encoded data removed]",
      "text/plain": [
       "<Figure size 432x288 with 1 Axes>"
      ]
     },
     "metadata": {
      "needs_background": "light"
     },
     "output_type": "display_data"
    }
   ],
   "source": [
    "cdf_rdt.plot(label='model', color='C5')\n",
    "cdf_sample.plot(label='random sample')\n",
    "\n",
    "decorate(xlabel='Reciprocal doubling time (RDT)',\n",
    "         ylabel='CDF')"
   ]
  },
  {
   "cell_type": "markdown",
   "metadata": {},
   "source": [
    "With that, we have everything we need to simulate the growth of a tumor."
   ]
  },
  {
   "cell_type": "markdown",
   "metadata": {},
   "source": [
    "## Simulation\n",
    "\n",
    "For the initial diameter I chose 0.3 cm, because carcinomas smaller than that are less likely to be invasive and less likely to have the blood supply needed for rapid growth (see [this page on carcinoma](http://en.wikipedia.org/wiki/Carcinoma_in_situ)).\n",
    "\n",
    "I chose an interval of 245 days (about 8 months) because that is the\n",
    "median time between measurements in the data source.\n",
    "\n",
    "For the maximum diameter I chose 20 cm. \n"
   ]
  },
  {
   "cell_type": "code",
   "execution_count": 30,
   "metadata": {},
   "outputs": [],
   "source": [
    "interval = 245 / 365      # year\n",
    "min_diameter = 0.3        # cm\n",
    "max_diameter = 20         # cm"
   ]
  },
  {
   "cell_type": "markdown",
   "metadata": {},
   "source": [
    "In the data source, the range of observed sizes is 1.0 to 12.0 cm, so we are extrapolating beyond the observed range at each end, but not by far.\n",
    "\n",
    "I'll use `calc_vol` to compute the initial and maximum volumes:"
   ]
  },
  {
   "cell_type": "code",
   "execution_count": 31,
   "metadata": {},
   "outputs": [
    {
     "data": {
      "text/plain": [
       "(0.014137166941154066, 4188.790204786391)"
      ]
     },
     "execution_count": 31,
     "metadata": {},
     "output_type": "execute_result"
    }
   ],
   "source": [
    "v0 = calc_vol(min_diameter)\n",
    "vmax = calc_vol(max_diameter)\n",
    "v0, vmax"
   ]
  },
  {
   "cell_type": "markdown",
   "metadata": {},
   "source": [
    "The following function runs the simulation."
   ]
  },
  {
   "cell_type": "code",
   "execution_count": 32,
   "metadata": {},
   "outputs": [],
   "source": [
    "import pandas as pd\n",
    "\n",
    "def simulate_growth(rdt_gen):\n",
    "    \"\"\"Simulate the growth of a tumor.\n",
    "    \n",
    "    rdt_gen: generator that yields RDT\n",
    "    \n",
    "    returns: DataFrame\n",
    "    \"\"\"\n",
    "    age = 0\n",
    "    volume = v0\n",
    "    res = []\n",
    "    \n",
    "    for rdt in rdt_gen:\n",
    "        res.append((age, volume))\n",
    "        if volume > vmax:\n",
    "            break\n",
    "\n",
    "        age += interval \n",
    "        doublings = rdt * interval\n",
    "        volume *= 2**doublings\n",
    "        \n",
    "    columns = ['age', 'volume']\n",
    "    sim = pd.DataFrame(res, columns=columns)\n",
    "    sim['diameter'] = calc_diameter(sim['volume'])\n",
    "    return sim"
   ]
  },
  {
   "cell_type": "markdown",
   "metadata": {},
   "source": [
    "`simulate_growth` takes as a parameter a generator that yields reciprocal doubling times (RDT).\n",
    "\n",
    "It initializes the age and volume of the tumor, then runs a loop that simulates one interval at a time.\n",
    "\n",
    "Each time through the loop, it checks the volume of the tumor and exits when it exceeds `vmax`.\n",
    "\n",
    "Then it updates `age` and `volume`.  Since `rdt` is in doublings per year, we multiply by `interval` to get compute the number of doublings during each interval.\n",
    "\n",
    "At the end of the loop, `simulate_growth` puts the results in a `DataFrame` and computes the diameter that corresponds to each volume.\n",
    "\n",
    "Here's how we call this function:"
   ]
  },
  {
   "cell_type": "code",
   "execution_count": 33,
   "metadata": {
    "tags": [
     "remove-cell"
    ]
   },
   "outputs": [],
   "source": [
    "np.random.seed(17)"
   ]
  },
  {
   "cell_type": "code",
   "execution_count": 34,
   "metadata": {},
   "outputs": [],
   "source": [
    "rdt_gen = uncorrelated_generator(kde_rdt)\n",
    "sim = simulate_growth(rdt_gen)"
   ]
  },
  {
   "cell_type": "markdown",
   "metadata": {},
   "source": [
    "Here are the results for the first few intervals:"
   ]
  },
  {
   "cell_type": "code",
   "execution_count": 35,
   "metadata": {},
   "outputs": [
    {
     "data": {
      "text/html": [
       "<div>\n",
       "<style scoped>\n",
       "    .dataframe tbody tr th:only-of-type {\n",
       "        vertical-align: middle;\n",
       "    }\n",
       "\n",
       "    .dataframe tbody tr th {\n",
       "        vertical-align: top;\n",
       "    }\n",
       "\n",
       "    .dataframe thead th {\n",
       "        text-align: right;\n",
       "    }\n",
       "</style>\n",
       "<table border=\"1\" class=\"dataframe\">\n",
       "  <thead>\n",
       "    <tr style=\"text-align: right;\">\n",
       "      <th></th>\n",
       "      <th>age</th>\n",
       "      <th>volume</th>\n",
       "      <th>diameter</th>\n",
       "    </tr>\n",
       "  </thead>\n",
       "  <tbody>\n",
       "    <tr>\n",
       "      <th>0</th>\n",
       "      <td>0.000000</td>\n",
       "      <td>0.014137</td>\n",
       "      <td>0.300000</td>\n",
       "    </tr>\n",
       "    <tr>\n",
       "      <th>1</th>\n",
       "      <td>0.671233</td>\n",
       "      <td>0.014949</td>\n",
       "      <td>0.305635</td>\n",
       "    </tr>\n",
       "    <tr>\n",
       "      <th>2</th>\n",
       "      <td>1.342466</td>\n",
       "      <td>0.019763</td>\n",
       "      <td>0.335441</td>\n",
       "    </tr>\n",
       "    <tr>\n",
       "      <th>3</th>\n",
       "      <td>2.013699</td>\n",
       "      <td>0.018690</td>\n",
       "      <td>0.329256</td>\n",
       "    </tr>\n",
       "    <tr>\n",
       "      <th>4</th>\n",
       "      <td>2.684932</td>\n",
       "      <td>0.014137</td>\n",
       "      <td>0.300000</td>\n",
       "    </tr>\n",
       "  </tbody>\n",
       "</table>\n",
       "</div>"
      ],
      "text/plain": [
       "        age    volume  diameter\n",
       "0  0.000000  0.014137  0.300000\n",
       "1  0.671233  0.014949  0.305635\n",
       "2  1.342466  0.019763  0.335441\n",
       "3  2.013699  0.018690  0.329256\n",
       "4  2.684932  0.014137  0.300000"
      ]
     },
     "execution_count": 35,
     "metadata": {},
     "output_type": "execute_result"
    }
   ],
   "source": [
    "sim.head()"
   ]
  },
  {
   "cell_type": "markdown",
   "metadata": {},
   "source": [
    "And the last few intervals."
   ]
  },
  {
   "cell_type": "code",
   "execution_count": 36,
   "metadata": {},
   "outputs": [
    {
     "data": {
      "text/html": [
       "<div>\n",
       "<style scoped>\n",
       "    .dataframe tbody tr th:only-of-type {\n",
       "        vertical-align: middle;\n",
       "    }\n",
       "\n",
       "    .dataframe tbody tr th {\n",
       "        vertical-align: top;\n",
       "    }\n",
       "\n",
       "    .dataframe thead th {\n",
       "        text-align: right;\n",
       "    }\n",
       "</style>\n",
       "<table border=\"1\" class=\"dataframe\">\n",
       "  <thead>\n",
       "    <tr style=\"text-align: right;\">\n",
       "      <th></th>\n",
       "      <th>age</th>\n",
       "      <th>volume</th>\n",
       "      <th>diameter</th>\n",
       "    </tr>\n",
       "  </thead>\n",
       "  <tbody>\n",
       "    <tr>\n",
       "      <th>41</th>\n",
       "      <td>27.520548</td>\n",
       "      <td>502.089669</td>\n",
       "      <td>9.861150</td>\n",
       "    </tr>\n",
       "    <tr>\n",
       "      <th>42</th>\n",
       "      <td>28.191781</td>\n",
       "      <td>379.790894</td>\n",
       "      <td>8.984943</td>\n",
       "    </tr>\n",
       "    <tr>\n",
       "      <th>43</th>\n",
       "      <td>28.863014</td>\n",
       "      <td>1882.067427</td>\n",
       "      <td>15.318357</td>\n",
       "    </tr>\n",
       "    <tr>\n",
       "      <th>44</th>\n",
       "      <td>29.534247</td>\n",
       "      <td>2887.563277</td>\n",
       "      <td>17.667603</td>\n",
       "    </tr>\n",
       "    <tr>\n",
       "      <th>45</th>\n",
       "      <td>30.205479</td>\n",
       "      <td>4953.618273</td>\n",
       "      <td>21.149883</td>\n",
       "    </tr>\n",
       "  </tbody>\n",
       "</table>\n",
       "</div>"
      ],
      "text/plain": [
       "          age       volume   diameter\n",
       "41  27.520548   502.089669   9.861150\n",
       "42  28.191781   379.790894   8.984943\n",
       "43  28.863014  1882.067427  15.318357\n",
       "44  29.534247  2887.563277  17.667603\n",
       "45  30.205479  4953.618273  21.149883"
      ]
     },
     "execution_count": 36,
     "metadata": {},
     "output_type": "execute_result"
    }
   ],
   "source": [
    "sim.tail()"
   ]
  },
  {
   "cell_type": "markdown",
   "metadata": {},
   "source": [
    "The simulation is based on the assumption that the growth rate is\n",
    "chosen independently during each interval, so it does not depend on age, size, or growth rate during previous intervals.\n",
    "\n",
    "In Section xxx I review these assumptions and consider more detailed models. \n",
    "But first let's look at some examples.\n",
    "To show the results graphically, I'll run 101 simulations:"
   ]
  },
  {
   "cell_type": "code",
   "execution_count": 37,
   "metadata": {
    "tags": [
     "remove-cell"
    ]
   },
   "outputs": [],
   "source": [
    "np.random.seed(17)"
   ]
  },
  {
   "cell_type": "code",
   "execution_count": 38,
   "metadata": {},
   "outputs": [],
   "source": [
    "rdt_gen = uncorrelated_generator(kde_rdt)\n",
    "sims = [simulate_growth(rdt_gen) for _ in range(101)]"
   ]
  },
  {
   "cell_type": "markdown",
   "metadata": {},
   "source": [
    "And plot the results."
   ]
  },
  {
   "cell_type": "code",
   "execution_count": 39,
   "metadata": {
    "tags": [
     "hide-input"
    ]
   },
   "outputs": [
    {
     "data": {
      "image/png": "[encoded data removed]",
      "text/plain": [
       "<Figure size 432x288 with 1 Axes>"
      ]
     },
     "metadata": {
      "needs_background": "light"
     },
     "output_type": "display_data"
    }
   ],
   "source": [
    "import matplotlib.pyplot as plt\n",
    "\n",
    "diameters = [4, 8, 16]\n",
    "for diameter in diameters:\n",
    "    plt.axhline(diameter,\n",
    "                color='C5', linewidth=2, linestyle='dotted')\n",
    "\n",
    "for sim in sims:\n",
    "    plt.plot(sim['age'], sim['diameter'],\n",
    "             color='C0', linewidth=0.5, alpha=0.5)\n",
    "    \n",
    "decorate(xlabel='Tumor age (years)',\n",
    "         ylabel='Diameter (cm, log scale)',\n",
    "         ylim=[0.2, 20],\n",
    "         yscale='log')\n",
    "\n",
    "yticks = [0.2, 0.5, 1, 2, 5, 10, 20]\n",
    "plt.yticks(yticks, yticks);"
   ]
  },
  {
   "cell_type": "markdown",
   "metadata": {},
   "source": [
    "In this figure, each thin, solid line shows the simulated growth of a tumor over time, with diameter on a log scale.\n",
    "The dotted lines are at 4, 8, and 16 cm.\n",
    "\n",
    "By reading across the dotted lines, you can get a sense of the distribution of age at each size.\n",
    "For example, reading across the top line, we see that a 16 cm tumor might be as young as 10 years or as old as 40 years, but it is most likely to be between 15 and 30.\n",
    "\n",
    "To compute this distribution more precisely, we can interpolate the growth curves to see when each one passes through a given size.\n",
    "The following function takes the results of the simulations and returns the age when each tumor reached a given diameter."
   ]
  },
  {
   "cell_type": "code",
   "execution_count": 40,
   "metadata": {},
   "outputs": [],
   "source": [
    "from scipy.interpolate import interp1d\n",
    "from empiricaldist import Pmf\n",
    "\n",
    "def interpolate_ages(sims, diameter):\n",
    "    \"\"\"Interpolate the age when each tumor reached a given size.\n",
    "    \n",
    "    sims: sequence of DataFrames\n",
    "    diameter: float\n",
    "    \n",
    "    returns: list of ages\n",
    "    \"\"\"\n",
    "    ages = []\n",
    "    for sim in sims:\n",
    "        interp = interp1d(sim['diameter'], sim['age'])\n",
    "        age = interp(diameter)\n",
    "        ages.append(float(age))\n",
    "    return ages"
   ]
  },
  {
   "cell_type": "markdown",
   "metadata": {},
   "source": [
    "The following figure shows the distribution of ages for tumors with diameters 4, 8, and 16 cm."
   ]
  },
  {
   "cell_type": "code",
   "execution_count": 41,
   "metadata": {},
   "outputs": [
    {
     "data": {
      "image/png": "[encoded data removed]",
      "text/plain": [
       "<Figure size 432x288 with 1 Axes>"
      ]
     },
     "metadata": {
      "needs_background": "light"
     },
     "output_type": "display_data"
    }
   ],
   "source": [
    "for diameter in diameters:\n",
    "    ages = interpolate_ages(sims, diameter)\n",
    "    cdf = Cdf.from_seq(ages)\n",
    "    cdf.plot(label=f'{diameter} cm')\n",
    "    \n",
    "decorate(xlabel='Tumor age (years)',\n",
    "         ylabel='CDF')"
   ]
  },
  {
   "cell_type": "markdown",
   "metadata": {},
   "source": [
    "For a tumor 16 cm in diameter, the median age is about 21 years; the 90% credible interval is between 13 and 34 years."
   ]
  },
  {
   "cell_type": "code",
   "execution_count": 42,
   "metadata": {},
   "outputs": [
    {
     "name": "stdout",
     "output_type": "stream",
     "text": [
      "21.601211412918516 [13.55775098 34.2009248 ]\n"
     ]
    }
   ],
   "source": [
    "print(cdf.median(), cdf.credible_interval(0.9))"
   ]
  },
  {
   "cell_type": "markdown",
   "metadata": {},
   "source": [
    "These results are consistent with the simple model; it is unlikely that a tumor of this size is less than 9 years old."
   ]
  },
  {
   "cell_type": "markdown",
   "metadata": {},
   "source": [
    "## Serial Correlation\n",
    "\n",
    "The results so far are based on a number of modeling decisions; let's\n",
    "review them and consider which ones are the most likely sources of\n",
    "error:\n",
    "\n",
    "* To convert from linear measure to volume, we assume that tumors are approximately spherical. This assumption is probably fine for tumors up to a few centimeters, but not for very large tumors.\n",
    "\n",
    "* The distribution of growth rates is estimated on the basis of only 53 patients. A larger sample might yield a different distribution.\n",
    "\n",
    "* The growth model does not take into account tumor subtype or grade; this assumption is consistent with the findings of Zhang et al; they conclude: \"Growth rates in renal tumors of different sizes, subtypes and grades represent a wide range and overlap substantially.\" But with a larger sample, a difference might become apparent.\n",
    "\n",
    "* The distribution of growth rate does not depend on the size of the tumor. This assumption would not be realistic for very small and very large tumors, whose growth is limited by blood supply. But tumors observed by Zhang et al ranged from 1 to 12 cm, and they found no statistically significant relationship between size and growth rate. So if there is a relationship, it is likely to be weak, at least in this size range.\n",
    "\n",
    "* In the simulations, growth rate during each interval is independent of previous growth rates. In reality it is plausible that tumors that have grown quickly in the past are likely to grow quickly in the future. In other words, there is probably a serial correlation in growth rate.\n",
    "\n",
    "Of these, the first and last might be the most problematic. I'll investigate serial correlation first, then come back to spherical geometry.\n",
    "\n",
    "In the next section, we'll modify the simulations to include serial correlation."
   ]
  },
  {
   "cell_type": "markdown",
   "metadata": {},
   "source": [
    "## Correlated Growth\n",
    "\n",
    "To simulate correlated growth, we need to generate random numbers from a given distribution with a given serial correlation.\n",
    "\n",
    "Here's how we can do that:\n",
    "\n",
    "1. First we generate correlated values from a Gaussian distribution. This is easy to do because we can compute the distribution of each value conditioned on the previous value.\n",
    "\n",
    "2. Then we transform each value to its cumulative probability using the Gaussian CDF.\n",
    "\n",
    "3. Finally, we transform each cumulative probability to the corresponding value using the given `Cdf`.\n",
    "\n",
    "The following function computes Steps 2 and 3.\n",
    "It takes `z`, which is a value from a standard normal distribution (with mean 0 and standard deviation 1) and a `Cdf`.\n",
    "\n",
    "It uses the `norm` object from SciPy to compute `p`, which is the cumulative probability of `z` in the normal distribution.\n",
    "\n",
    "Then it uses `Cdf.inverse` to find the quantity in `cdf` that corresponds to `p`."
   ]
  },
  {
   "cell_type": "code",
   "execution_count": 43,
   "metadata": {},
   "outputs": [],
   "source": [
    "from scipy.stats import norm\n",
    "\n",
    "def transform(z, cdf):\n",
    "    \"\"\"Map a standard normal variate to a CDF.\n",
    "    \n",
    "    z: value from a standard normal distribution\n",
    "    cdf: Cdf object\n",
    "    \n",
    "    returns: value from cdf\n",
    "    \"\"\"\n",
    "    p = norm.cdf(z)\n",
    "    y = cdf.inverse(p)\n",
    "    return float(y)"
   ]
  },
  {
   "cell_type": "markdown",
   "metadata": {},
   "source": [
    "Here's an example that uses `transform` to compute the RDT that corresponds to the value 1 in a standard normal distribution."
   ]
  },
  {
   "cell_type": "code",
   "execution_count": 44,
   "metadata": {},
   "outputs": [
    {
     "data": {
      "text/plain": [
       "1.8399999999999999"
      ]
     },
     "execution_count": 44,
     "metadata": {},
     "output_type": "execute_result"
    }
   ],
   "source": [
    "transform(1, cdf_rdt)"
   ]
  },
  {
   "cell_type": "markdown",
   "metadata": {},
   "source": [
    "If we pass to `transform` a series of values drawn from a standard normal distribution, the values we get back are drawn from `cdf`."
   ]
  },
  {
   "cell_type": "markdown",
   "metadata": {},
   "source": [
    "Now for Step 1.  To generate values with a given serial correlation, $\\rho$, we start by generating a single value from a standard normal distribution, which I'll call $x$.\n",
    "\n",
    "Given $x$ and $\\rho$, the next value in the series is drawn from a normal distribution with mean $\\rho x$ and standard deviation $\\sqrt{1 - \\rho^2}$.\n",
    "\n",
    "Then each successive value depends on the previous one in the same way.\n",
    "\n",
    "The following is a generator function that implements this algorithm."
   ]
  },
  {
   "cell_type": "code",
   "execution_count": 45,
   "metadata": {},
   "outputs": [],
   "source": [
    "def correlated_generator(cdf, rho):\n",
    "    \"\"\"Generate correlated values from cdf.\n",
    "    \n",
    "    cdf: Cdf object\n",
    "    rho: float -1 to 1\n",
    "    \"\"\"\n",
    "    x = np.random.normal(0, 1)\n",
    "    yield transform(x, cdf)\n",
    "\n",
    "    sigma = np.sqrt(1 - rho**2);    \n",
    "    while True:\n",
    "        x = np.random.normal(rho*x, sigma)\n",
    "        yield transform(x, cdf)"
   ]
  },
  {
   "cell_type": "markdown",
   "metadata": {},
   "source": [
    "Here's an example that generates 1000 values from `cdf_rdt` with `rho=0.5`."
   ]
  },
  {
   "cell_type": "code",
   "execution_count": 46,
   "metadata": {
    "tags": [
     "remove-cell"
    ]
   },
   "outputs": [],
   "source": [
    "np.random.seed(18)"
   ]
  },
  {
   "cell_type": "code",
   "execution_count": 47,
   "metadata": {},
   "outputs": [],
   "source": [
    "rdt_gen = correlated_generator(cdf_rdt, 0.5)\n",
    "sample = generate_sample(rdt_gen)"
   ]
  },
  {
   "cell_type": "markdown",
   "metadata": {},
   "source": [
    "We can use `np.corrcoeff` to confirm that we got the correlation we wanted."
   ]
  },
  {
   "cell_type": "code",
   "execution_count": 48,
   "metadata": {},
   "outputs": [
    {
     "data": {
      "text/plain": [
       "array([[1.        , 0.49417755],\n",
       "       [0.49417755, 1.        ]])"
      ]
     },
     "execution_count": 48,
     "metadata": {},
     "output_type": "execute_result"
    }
   ],
   "source": [
    "np.corrcoef(sample[1:], sample[:-1])"
   ]
  },
  {
   "cell_type": "markdown",
   "metadata": {},
   "source": [
    "The results vary from sample to sample, but they are generally near 0.5."
   ]
  },
  {
   "cell_type": "markdown",
   "metadata": {
    "tags": [
     "hide-cell"
    ]
   },
   "source": [
    "We can also check that the distribution of the values follows `cdf_rdt`."
   ]
  },
  {
   "cell_type": "code",
   "execution_count": 49,
   "metadata": {
    "tags": [
     "hide-cell"
    ]
   },
   "outputs": [
    {
     "data": {
      "image/png": "[encoded data removed]",
      "text/plain": [
       "<Figure size 432x288 with 1 Axes>"
      ]
     },
     "metadata": {
      "needs_background": "light"
     },
     "output_type": "display_data"
    }
   ],
   "source": [
    "cdf_sample = Cdf.from_seq(sample)\n",
    "\n",
    "cdf_rdt.plot(label='model', color='C5')\n",
    "cdf_sample.plot(label='random sample', color='C0')\n",
    "\n",
    "decorate(xlabel='Reciprocal doubling time (RDT)',\n",
    "         ylabel='CDF')"
   ]
  },
  {
   "cell_type": "markdown",
   "metadata": {},
   "source": [
    "## Simulation with Correlation\n",
    "\n",
    "Recall that `simulate_growth` takes a generator as an argument, so it is easy to run the simulations with the correlated generator."
   ]
  },
  {
   "cell_type": "code",
   "execution_count": 50,
   "metadata": {
    "tags": [
     "remove-cell"
    ]
   },
   "outputs": [],
   "source": [
    "np.random.seed(22)"
   ]
  },
  {
   "cell_type": "code",
   "execution_count": 51,
   "metadata": {},
   "outputs": [],
   "source": [
    "rdt_gen = correlated_generator(cdf_rdt, 0.5)\n",
    "sims2 = [simulate_growth(rdt_gen)\n",
    "         for _ in range(101)]"
   ]
  },
  {
   "cell_type": "markdown",
   "metadata": {},
   "source": [
    "And we can use `interpolate_ages` to extract the distribution of ages for a tumor with a diameter of 16 cm."
   ]
  },
  {
   "cell_type": "code",
   "execution_count": 52,
   "metadata": {},
   "outputs": [],
   "source": [
    "diameter = 16\n",
    "ages = interpolate_ages(sims, diameter)\n",
    "cdf = Cdf.from_seq(ages)\n",
    "    \n",
    "ages2 = interpolate_ages(sims2, diameter)\n",
    "cdf2 = Cdf.from_seq(ages2)"
   ]
  },
  {
   "cell_type": "markdown",
   "metadata": {},
   "source": [
    "The following figure shows the distribution of ages with $\\rho=0$ and $\\rho=0.5$."
   ]
  },
  {
   "cell_type": "code",
   "execution_count": 53,
   "metadata": {
    "tags": [
     "hide-input"
    ]
   },
   "outputs": [
    {
     "data": {
      "image/png": "[encoded data removed]",
      "text/plain": [
       "<Figure size 432x288 with 1 Axes>"
      ]
     },
     "metadata": {
      "needs_background": "light"
     },
     "output_type": "display_data"
    }
   ],
   "source": [
    "cdf.plot(label='rho=0')\n",
    "cdf2.plot(label='rho=0.5')\n",
    "    \n",
    "decorate(xlabel='Tumor age (years)',\n",
    "         ylabel='CDF')"
   ]
  },
  {
   "cell_type": "markdown",
   "metadata": {},
   "source": [
    "Correlation makes the fastest growing tumors faster and the slowest\n",
    "slower, so the range of ages is wider.\n",
    "The following table shows the differences between these distributions for several percentiles."
   ]
  },
  {
   "cell_type": "code",
   "execution_count": 54,
   "metadata": {},
   "outputs": [
    {
     "data": {
      "text/html": [
       "<div>\n",
       "<style scoped>\n",
       "    .dataframe tbody tr th:only-of-type {\n",
       "        vertical-align: middle;\n",
       "    }\n",
       "\n",
       "    .dataframe tbody tr th {\n",
       "        vertical-align: top;\n",
       "    }\n",
       "\n",
       "    .dataframe thead th {\n",
       "        text-align: right;\n",
       "    }\n",
       "</style>\n",
       "<table border=\"1\" class=\"dataframe\">\n",
       "  <thead>\n",
       "    <tr style=\"text-align: right;\">\n",
       "      <th>Percentiles</th>\n",
       "      <th>5.0</th>\n",
       "      <th>25.0</th>\n",
       "      <th>50.0</th>\n",
       "      <th>75.0</th>\n",
       "      <th>95.0</th>\n",
       "    </tr>\n",
       "    <tr>\n",
       "      <th>Correlation</th>\n",
       "      <th></th>\n",
       "      <th></th>\n",
       "      <th></th>\n",
       "      <th></th>\n",
       "      <th></th>\n",
       "    </tr>\n",
       "  </thead>\n",
       "  <tbody>\n",
       "    <tr>\n",
       "      <th>0.0</th>\n",
       "      <td>13.557751</td>\n",
       "      <td>18.048221</td>\n",
       "      <td>21.601211</td>\n",
       "      <td>27.438600</td>\n",
       "      <td>34.200925</td>\n",
       "    </tr>\n",
       "    <tr>\n",
       "      <th>0.5</th>\n",
       "      <td>9.155178</td>\n",
       "      <td>16.015247</td>\n",
       "      <td>22.466764</td>\n",
       "      <td>29.689567</td>\n",
       "      <td>42.857344</td>\n",
       "    </tr>\n",
       "  </tbody>\n",
       "</table>\n",
       "</div>"
      ],
      "text/plain": [
       "Percentiles       5.0        25.0       50.0       75.0       95.0\n",
       "Correlation                                                       \n",
       "0.0          13.557751  18.048221  21.601211  27.438600  34.200925\n",
       "0.5           9.155178  16.015247  22.466764  29.689567  42.857344"
      ]
     },
     "execution_count": 54,
     "metadata": {},
     "output_type": "execute_result"
    }
   ],
   "source": [
    "ps = np.array([0.05, 0.25, 0.5, 0.75, 0.95])\n",
    "df = pd.DataFrame(columns=ps*100)\n",
    "df.columns.name = 'Percentiles'\n",
    "df.index.name = 'Correlation'\n",
    "\n",
    "df.loc[0] = cdf.quantile(ps)\n",
    "df.loc[0.5] = cdf2.quantile(ps)\n",
    "df"
   ]
  },
  {
   "cell_type": "markdown",
   "metadata": {},
   "source": [
    "The difference is modest for low\n",
    "percentiles, but for the 95th percentile it is more than 8 years. \n",
    "\n",
    "These differences show that serial correlation has a substantial effect on the results.\n",
    "So if we need to compute these distribution precisely, we would need a better estimate of the actual serial correlation.\n",
    "\n",
    "However, this model is sufficient to answer the question we started\n",
    "with: given a tumor with a linear dimension of 15.5 cm, what is the\n",
    "probability that it formed more than 9 years ago?\n",
    "\n",
    "With no serial correlation, the probability is roughly 99.9%, or almost certain. \n",
    "With correlation 0.5, faster-growing tumors are more likely, but the probability is still about 99%.\n",
    "\n",
    "Another likely source of error is the assumption that tumors are\n",
    "approximately spherical. For a tumor with linear dimensions 15.5 x 15\n",
    "cm, this assumption is probably not valid. If, as seems likely, a tumor this size is relatively flat, it might have the same volume as a 6 cm sphere. \n",
    "With this smaller volume and correlation 0.5, the probability the age of the tumor is greater than 9 years is still 95%.\n",
    "\n",
    "So even taking into account modeling errors, it is unlikely that such a large tumor could have formed less than 9 years prior to the date of\n",
    "diagnosis."
   ]
  },
  {
   "cell_type": "markdown",
   "metadata": {},
   "source": [
    "## Approximate Bayesian Calculation\n",
    "\n",
    "At this point you might wonder why this example is in a book about Bayesian statistics.\n",
    "We never defined a prior distribution or did a Bayesian update.\n",
    "Why not?\n",
    "\n",
    "Because we didn't have to.\n",
    "Instead we used simulations to compute ages and sizes for a collection of hypothetical tumors.\n",
    "Then, implicitly, we used the simulation results to form a joint distribution of age and size.\n",
    "\n",
    "If we select a column from the joint distribution, we get a distribution of size conditioned on age.\n",
    "If we select a row, we get a distribution of age conditioned on size.\n",
    "\n",
    "So this example is like the ones we saw in Chapter 1: if you have all of the data, you don't need Bayes's theorem; you can compute probabilities by counting.\n",
    "\n",
    "This example is a first step toward Approximate Bayesian Computation (ABC).\n",
    "The next example is a second step."
   ]
  },
  {
   "cell_type": "markdown",
   "metadata": {},
   "source": [
    "Zhang et al, Distribution of Renal Tumor Growth Rates Determined\n",
    "    by Using Serial Volumetric CT Measurements, January 2009\n",
    "    *Radiology*, 250, 137-144.\n",
    "    \n",
    "https://pubs.rsna.org/doi/full/10.1148/radiol.2501071712"
   ]
  },
  {
   "cell_type": "markdown",
   "metadata": {},
   "source": [
    "## Counting Cells\n",
    "\n",
    "This example comes from Cameron Davidson-Pilon, who also provides the Space Shuttle problem in Chapter xxx.\n",
    "\n",
    "In [this blog post](https://dataorigami.net/blogs/napkin-folding/bayesian-cell-counting), Davidson-Pilon builds a model of the process biologists use to estimate the concentration of cells, or other discrete elements, in a sample of liquid.\n",
    "\n",
    "The example he presents is counting cells in a \"yeast slurry\", which is a mixture of yeast and water used in brewing beer.\n",
    "\n",
    "There are two steps in the process:\n",
    "\n",
    "* First, the slurry is diluted until the concentration is low enough that it is practical to count cells.\n",
    "\n",
    "* Then a small sample is put on a hemocytometer, which is a specialized slide that holds a fixed amount of liquid above a rectangular grid etched in the glass.\n",
    "\n",
    "The cells and the grid are visible in a microscope, making it easy to count the cells accurately.\n",
    "\n",
    "As an example, suppose we start with a yeast slurry with unknown concentration of cells.\n",
    "\n",
    "Starting with a 1 mL sample, we will dilute it by adding it to a shaker with 9 mL of water and mixing well.\n",
    "Then we'll dilute it again, and then a third time.\n",
    "Each dilution reduces the concentration by a factor of 10, so three dilutions reduces the concentration by a factor of 1000.\n",
    "\n",
    "Then we add the diluted sample to the hemocytometer, which has a capacity of 0.0001 mL spread over a 5x5 grid.\n",
    "\n",
    "Although the grid has 25 squares, it is standard practice to inspect only a few of them, say five, and report the total number of cells in the inspected squares. \n",
    "\n",
    "This process is simple enough, but at every stage there are sources of error:\n",
    "\n",
    "* During the dilution process, liquids are measured using pipettes that introduce measurement error.\n",
    "\n",
    "* The amount of liquid in the hemocytometer might vary from sample to sample.\n",
    "\n",
    "* During each step of the sampling process, we might select more or less than the average number of cells, due to random variation.\n",
    "\n",
    "Davidson-Pilon presents a PyMC model that describes these errors.\n",
    "I'll start by replicating his model; then we'll adapt it for ABC."
   ]
  },
  {
   "cell_type": "markdown",
   "metadata": {},
   "source": [
    "Suppose there are 25 squares in the grid, we count 5 of them, and the total number of cells is 49."
   ]
  },
  {
   "cell_type": "code",
   "execution_count": 55,
   "metadata": {},
   "outputs": [],
   "source": [
    "total_squares = 25\n",
    "squares_counted = 5\n",
    "yeast_counted = 49"
   ]
  },
  {
   "cell_type": "markdown",
   "metadata": {},
   "source": [
    "Here's the first part of the model, which defines the prior distribution of `yeast_conc`, which is the concentration of yeast we're trying to estimate.\n",
    "\n",
    "`shaker1_vol` is the actual volume of water in the first shaker, which should be 9 mL, but might be higher or lower, with standard deviation 0.05 mL.\n",
    "\n",
    "`shaker2_vol` and `shaker3_vol` are the volumes in the second and third shakers."
   ]
  },
  {
   "cell_type": "code",
   "execution_count": 56,
   "metadata": {},
   "outputs": [],
   "source": [
    "import pymc3 as pm\n",
    "billion = 1e9\n",
    "\n",
    "with pm.Model() as model:\n",
    "    yeast_conc = pm.Normal(\"yeast conc\", \n",
    "                           mu=2 * billion, sd=0.4 * billion)\n",
    "\n",
    "    shaker1_vol = pm.Normal(\"shaker1 vol\", \n",
    "                               mu=9.0, sd=0.05)\n",
    "    shaker2_vol = pm.Normal(\"shaker2 vol\", \n",
    "                               mu=9.0, sd=0.05)\n",
    "    shaker3_vol = pm.Normal(\"shaker3 vol\", \n",
    "                               mu=9.0, sd=0.05)"
   ]
  },
  {
   "cell_type": "markdown",
   "metadata": {},
   "source": [
    "Now, the sample we draw from the yeast slurry is supposed to be 1 mL, but might be more or less.\n",
    "And similarly for the sample we draw from the first shaker and from the second shaker.\n",
    "\n",
    "The following variables model these samples."
   ]
  },
  {
   "cell_type": "code",
   "execution_count": 57,
   "metadata": {},
   "outputs": [],
   "source": [
    "with model:\n",
    "    yeast_slurry_vol = pm.Normal(\"yeast slurry vol\",\n",
    "                                    mu=1.0, sd=0.01)\n",
    "    shaker1_to_shaker2_vol = pm.Normal(\"shaker1 to shaker2\",\n",
    "                                    mu=1.0, sd=0.01)\n",
    "    shaker2_to_shaker3_vol = pm.Normal(\"shaker2 to shaker3\",\n",
    "                                    mu=1.0, sd=0.01)"
   ]
  },
  {
   "cell_type": "markdown",
   "metadata": {},
   "source": [
    "Given the actual volumes in the samples and in the shakers, we can compute the effective dilution, `final_dilution`, which should be approximately 1000, but might be higher or lower."
   ]
  },
  {
   "cell_type": "code",
   "execution_count": 58,
   "metadata": {},
   "outputs": [],
   "source": [
    "with model:\n",
    "    dilution_shaker1 = (yeast_slurry_vol       / \n",
    "                        (yeast_slurry_vol + shaker1_vol))\n",
    "    dilution_shaker2 = (shaker1_to_shaker2_vol / \n",
    "                        (shaker1_to_shaker2_vol + shaker2_vol))\n",
    "    dilution_shaker3 = (shaker2_to_shaker3_vol / \n",
    "                        (shaker2_to_shaker3_vol + shaker3_vol))\n",
    "    \n",
    "    final_dilution = (dilution_shaker1 * \n",
    "                      dilution_shaker2 * \n",
    "                      dilution_shaker3)"
   ]
  },
  {
   "cell_type": "markdown",
   "metadata": {},
   "source": [
    "The next step is to place a sample from the third shaker in the chamber of the hemocytomer.\n",
    "The capacity of the chamber should be 0.0001 mL, but might vary; to describe this variance, we'll use a gamma distribution, which ensures that we don't generate negative values."
   ]
  },
  {
   "cell_type": "code",
   "execution_count": 59,
   "metadata": {},
   "outputs": [],
   "source": [
    "with model:\n",
    "    chamber_vol = pm.Gamma(\"chamber_vol\", \n",
    "                           mu=0.0001, sd=0.0001 / 20)"
   ]
  },
  {
   "cell_type": "markdown",
   "metadata": {},
   "source": [
    "On average, the number of cells in the chamber is the product of the actual concentration, final dilution, and chamber volume.\n",
    "But the actual number might vary; we'll use a Poisson distribution to model this variance."
   ]
  },
  {
   "cell_type": "code",
   "execution_count": 60,
   "metadata": {},
   "outputs": [],
   "source": [
    "with model:\n",
    "    yeast_in_chamber = pm.Poisson(\"yeast in chamber\", \n",
    "        mu=yeast_conc * final_dilution * chamber_vol)"
   ]
  },
  {
   "cell_type": "markdown",
   "metadata": {},
   "source": [
    "Finally, each cell in the chamber might be in one of the squares we count, with probability `p=squares_counted/total_squares`.\n",
    "So the actual count follows a binomial distribution."
   ]
  },
  {
   "cell_type": "code",
   "execution_count": 61,
   "metadata": {},
   "outputs": [],
   "source": [
    "with model:\n",
    "    count = pm.Binomial(\"count\", \n",
    "        n=yeast_in_chamber, \n",
    "        p=squares_counted/total_squares,\n",
    "        observed=yeast_counted)"
   ]
  },
  {
   "cell_type": "markdown",
   "metadata": {},
   "source": [
    "With the model specified, we can use `sample` to generate a sample from the posterior distribution."
   ]
  },
  {
   "cell_type": "code",
   "execution_count": 62,
   "metadata": {},
   "outputs": [
    {
     "name": "stderr",
     "output_type": "stream",
     "text": [
      "Multiprocess sampling (2 chains in 2 jobs)\n",
      "CompoundStep\n",
      ">NUTS: [chamber_vol, shaker2 to shaker3, shaker1 to shaker2, yeast slurry vol, shaker3 vol, shaker2 vol, shaker1 vol, yeast conc]\n",
      ">Metropolis: [yeast in chamber]\n"
     ]
    },
    {
     "data": {
      "text/html": [
       "\n",
       "    <div>\n",
       "        <style>\n",
       "            /* Turns off some styling */\n",
       "            progress {\n",
       "                /* gets rid of default border in Firefox and Opera. */\n",
       "                border: none;\n",
       "                /* Needs to be in here for Safari polyfill so background images work as expected. */\n",
       "                background-size: auto;\n",
       "            }\n",
       "            .progress-bar-interrupted, .progress-bar-interrupted::-webkit-progress-bar {\n",
       "                background: #F44336;\n",
       "            }\n",
       "        </style>\n",
       "      <progress value='4000' class='' max='4000' style='width:300px; height:20px; vertical-align: middle;'></progress>\n",
       "      100.00% [4000/4000 00:04<00:00 Sampling 2 chains, 0 divergences]\n",
       "    </div>\n",
       "    "
      ],
      "text/plain": [
       "<IPython.core.display.HTML object>"
      ]
     },
     "metadata": {},
     "output_type": "display_data"
    },
    {
     "name": "stderr",
     "output_type": "stream",
     "text": [
      "Sampling 2 chains for 1_000 tune and 1_000 draw iterations (2_000 + 2_000 draws total) took 5 seconds.\n",
      "The estimated number of effective samples is smaller than 200 for some parameters.\n"
     ]
    }
   ],
   "source": [
    "with model:\n",
    "    trace = pm.sample(1000, return_inferencedata=False)"
   ]
  },
  {
   "cell_type": "code",
   "execution_count": 63,
   "metadata": {},
   "outputs": [
    {
     "name": "stdout",
     "output_type": "stream",
     "text": [
      "2.280586336273483 [1.81533604 2.74310193]\n"
     ]
    }
   ],
   "source": [
    "posterior_sample = trace['yeast conc'] / billion\n",
    "cdf_pymc = Cdf.from_seq(posterior_sample)\n",
    "print(cdf_pymc.mean(), cdf_pymc.credible_interval(0.9))"
   ]
  },
  {
   "cell_type": "markdown",
   "metadata": {},
   "source": [
    "So far we've been following in Davidson-Pilon's steps.\n",
    "And for this problem, the solution using PyMC is sufficient.\n",
    "But it also provides an opportunity to demonstrate ABC.\n",
    "\n",
    "The fundamental idea of ABC is that we use the prior distribution to generate a sample of the parameters, and then simulate the system for each set of parameters in the sample.\n",
    "\n",
    "In this case, since we already have a PyMC model, we can use `sample_prior_predictive` to do the sampling and the simulation."
   ]
  },
  {
   "cell_type": "code",
   "execution_count": 64,
   "metadata": {},
   "outputs": [],
   "source": [
    "with model:\n",
    "    prior_sample = pm.sample_prior_predictive(10000)"
   ]
  },
  {
   "cell_type": "markdown",
   "metadata": {},
   "source": [
    "The result is a dictionary that contains samples from the prior distribution of the parameters and the prior predictive distribution of count."
   ]
  },
  {
   "cell_type": "code",
   "execution_count": 65,
   "metadata": {},
   "outputs": [
    {
     "name": "stdout",
     "output_type": "stream",
     "text": [
      "40.1451\n"
     ]
    }
   ],
   "source": [
    "count = prior_sample['count']\n",
    "print(count.mean())"
   ]
  },
  {
   "cell_type": "markdown",
   "metadata": {},
   "source": [
    "Now, to generate a sample from the posterior distribution, we'll select only the elements in the prior sample where `count` equals the observed data, 49."
   ]
  },
  {
   "cell_type": "code",
   "execution_count": 66,
   "metadata": {},
   "outputs": [
    {
     "data": {
      "text/plain": [
       "246"
      ]
     },
     "execution_count": 66,
     "metadata": {},
     "output_type": "execute_result"
    }
   ],
   "source": [
    "mask = (count == 49)\n",
    "mask.sum()"
   ]
  },
  {
   "cell_type": "markdown",
   "metadata": {},
   "source": [
    "If we select only the samples that yield the observed data, the result is a sample from the posterior distribution of the parameter.\n",
    "Of course, the parameter we are most interested in is the yeast concentration."
   ]
  },
  {
   "cell_type": "code",
   "execution_count": 67,
   "metadata": {},
   "outputs": [
    {
     "name": "stdout",
     "output_type": "stream",
     "text": [
      "2.2712069604587914\n"
     ]
    }
   ],
   "source": [
    "posterior_sample2 = prior_sample['yeast conc'][mask] / billion\n",
    "print(posterior_sample2.mean())"
   ]
  },
  {
   "cell_type": "code",
   "execution_count": 68,
   "metadata": {},
   "outputs": [],
   "source": [
    "cdf_abc = Cdf.from_seq(posterior_sample2)"
   ]
  },
  {
   "cell_type": "code",
   "execution_count": 69,
   "metadata": {},
   "outputs": [
    {
     "data": {
      "image/png": "[encoded data removed]",
      "text/plain": [
       "<Figure size 432x288 with 1 Axes>"
      ]
     },
     "metadata": {
      "needs_background": "light"
     },
     "output_type": "display_data"
    }
   ],
   "source": [
    "cdf_pymc.plot(label='PyMC')\n",
    "cdf_abc.plot(label='ABC')\n",
    "\n",
    "decorate(xlabel='Yeast concentration (cells/mL)',\n",
    "         ylabel='CDF',\n",
    "         title='Posterior distribution')"
   ]
  },
  {
   "cell_type": "markdown",
   "metadata": {},
   "source": [
    "## When do we get to the approximate part?"
   ]
  },
  {
   "cell_type": "code",
   "execution_count": 77,
   "metadata": {},
   "outputs": [
    {
     "data": {
      "text/plain": [
       "(array([113, 182, 153, ..., 125, 201, 198]), 0.2)"
      ]
     },
     "execution_count": 77,
     "metadata": {},
     "output_type": "execute_result"
    }
   ],
   "source": [
    "n = prior_sample['yeast in chamber']\n",
    "p = squares_counted/total_squares\n",
    "n, p"
   ]
  },
  {
   "cell_type": "code",
   "execution_count": 78,
   "metadata": {},
   "outputs": [
    {
     "data": {
      "text/plain": [
       "(10000,)"
      ]
     },
     "execution_count": 78,
     "metadata": {},
     "output_type": "execute_result"
    }
   ],
   "source": [
    "from scipy.stats import binom\n",
    "\n",
    "weights = binom(n, p).pmf(yeast_counted).flatten()\n",
    "weights.shape"
   ]
  },
  {
   "cell_type": "code",
   "execution_count": 84,
   "metadata": {},
   "outputs": [
    {
     "data": {
      "text/plain": [
       "0"
      ]
     },
     "execution_count": 84,
     "metadata": {},
     "output_type": "execute_result"
    }
   ],
   "source": [
    "np.isnan(weights).sum()"
   ]
  },
  {
   "cell_type": "code",
   "execution_count": 79,
   "metadata": {},
   "outputs": [
    {
     "data": {
      "text/plain": [
       "[<matplotlib.lines.Line2D at 0x7fc12830beb0>]"
      ]
     },
     "execution_count": 79,
     "metadata": {},
     "output_type": "execute_result"
    },
    {
     "data": {
      "image/png": "[encoded data removed]",
      "text/plain": [
       "<Figure size 432x288 with 1 Axes>"
      ]
     },
     "metadata": {
      "needs_background": "light"
     },
     "output_type": "display_data"
    }
   ],
   "source": [
    "plt.plot(n, weights, '.', alpha=0.1)"
   ]
  },
  {
   "cell_type": "code",
   "execution_count": 80,
   "metadata": {},
   "outputs": [
    {
     "data": {
      "text/plain": [
       "2.2712644108955566"
      ]
     },
     "execution_count": 80,
     "metadata": {},
     "output_type": "execute_result"
    }
   ],
   "source": [
    "from scipy.stats import gaussian_kde\n",
    "\n",
    "qs = prior_sample['yeast conc'] / billion\n",
    "ps = weights\n",
    "\n",
    "posterior_pmf = Pmf(ps, qs)\n",
    "posterior_pmf.normalize()\n",
    "posterior_pmf.mean()"
   ]
  },
  {
   "cell_type": "code",
   "execution_count": 81,
   "metadata": {},
   "outputs": [],
   "source": [
    "cdf_abc2 = posterior_pmf.make_cdf()"
   ]
  },
  {
   "cell_type": "code",
   "execution_count": 82,
   "metadata": {},
   "outputs": [
    {
     "data": {
      "image/png": "[encoded data removed]",
      "text/plain": [
       "<Figure size 432x288 with 1 Axes>"
      ]
     },
     "metadata": {
      "needs_background": "light"
     },
     "output_type": "display_data"
    }
   ],
   "source": [
    "cdf_pymc.plot(label='PyMC')\n",
    "cdf_abc.plot(label='ABC')\n",
    "cdf_abc2.plot(label='ABC2')\n",
    "\n",
    "decorate(xlabel='Yeast concentration (cells/mL)',\n",
    "         ylabel='CDF',\n",
    "         title='Posterior distribution')"
   ]
  },
  {
   "cell_type": "markdown",
   "metadata": {},
   "source": [
    "## Exercises"
   ]
  },
  {
   "cell_type": "markdown",
   "metadata": {},
   "source": [
    "**Exercise:** This exercise is based on [a blog post by Rasmus Bååth](http://www.sumsar.net/blog/2014/10/tiny-data-and-the-socks-of-karl-broman), which is motivates by a tweet from Karl Broman, who wrote:\n",
    "\n",
    "> That the first 11 socks in the laundry are distinct suggests that there are a lot of socks.\n",
    "\n",
    "Suppose you pull 11 socks out of the laundry and find that no two of them make a matched pair.  Estimate the number of socks in the laundry.\n",
    "\n",
    "To solve this problem, we'll use the model Bååth suggests, which is based on these assumptions:\n",
    "\n",
    "* The laundry contains some number of pairs of socks, `n_pairs`, plus some number of unpaired socks, `n_odds`.\n",
    "\n",
    "* The pairs of socks are different from each other and different from the unpaired socks; in other words, the number of socks of each type is either 1 or 2, never more.\n",
    "\n",
    "We'll also use the prior distributions Bååth suggests, which are:\n",
    "\n",
    "* The number of socks follow a negative binomial distribution with mean 30 and standard deviation 15.\n",
    "\n",
    "* The proportion of socks that are paired is from a beta distribution with parameters `alpha=15` and `beta=2`.\n",
    "\n",
    "To get you started, I'll define the priors."
   ]
  },
  {
   "cell_type": "code",
   "execution_count": null,
   "metadata": {},
   "outputs": [],
   "source": [
    "from scipy.stats import nbinom, beta\n",
    "\n",
    "mu = 30\n",
    "p = 0.8666666\n",
    "r = mu * (1-p) / p\n",
    "\n",
    "prior_n_socks = nbinom(r, 1-p)\n",
    "prior_n_socks.mean(), prior_n_socks.std()"
   ]
  },
  {
   "cell_type": "code",
   "execution_count": null,
   "metadata": {},
   "outputs": [],
   "source": [
    "prior_prop_pair = beta(15, 2)\n",
    "prior_prop_pair.mean()"
   ]
  },
  {
   "cell_type": "code",
   "execution_count": null,
   "metadata": {},
   "outputs": [],
   "source": [
    "qs = np.arange(90)\n",
    "ps = prior_n_socks.pmf(qs)\n",
    "pmf = Pmf(ps, qs)\n",
    "pmf.normalize()\n",
    "\n",
    "pmf.plot(label='prior', drawstyle='steps')\n",
    "\n",
    "decorate(xlabel='Number of socks',\n",
    "         ylabel='PMF')"
   ]
  },
  {
   "cell_type": "code",
   "execution_count": null,
   "metadata": {},
   "outputs": [],
   "source": [
    "from utils import pmf_from_dist\n",
    "\n",
    "qs = np.linspace(0, 1, 101)\n",
    "pmf = pmf_from_dist(prior_prop_pair, qs)\n",
    "pmf.plot(label='prior', color='C1')\n",
    "\n",
    "decorate(xlabel='Proportion of socks in pairs',\n",
    "         ylabel='PDF')"
   ]
  },
  {
   "cell_type": "markdown",
   "metadata": {},
   "source": [
    "We can sample from the prior distributions like this:"
   ]
  },
  {
   "cell_type": "code",
   "execution_count": null,
   "metadata": {},
   "outputs": [],
   "source": [
    "n_socks = prior_n_socks.rvs()\n",
    "prop_pairs = prior_prop_pair.rvs()\n",
    "\n",
    "n_socks, prop_pairs"
   ]
  },
  {
   "cell_type": "markdown",
   "metadata": {},
   "source": [
    "And use the values to compute `n_pairs` and `n_odds`:"
   ]
  },
  {
   "cell_type": "code",
   "execution_count": null,
   "metadata": {},
   "outputs": [],
   "source": [
    "n_pairs = np.round(n_socks//2 * prop_pairs)\n",
    "n_odds = n_socks - n_pairs*2\n",
    "\n",
    "n_pairs, n_odds"
   ]
  },
  {
   "cell_type": "markdown",
   "metadata": {},
   "source": [
    "Now you can take it from there."
   ]
  },
  {
   "cell_type": "code",
   "execution_count": null,
   "metadata": {},
   "outputs": [],
   "source": [
    "# Solution\n",
    "\n",
    "n_pairs = 9\n",
    "n_odds = 5\n",
    "\n",
    "socks = np.append(np.arange(n_pairs), \n",
    "                  np.arange(n_pairs + n_odds))\n",
    "\n",
    "print(socks)"
   ]
  },
  {
   "cell_type": "code",
   "execution_count": null,
   "metadata": {},
   "outputs": [],
   "source": [
    "# Solution\n",
    "\n",
    "picked_socks = np.random.choice(socks, size=11, replace=False)\n",
    "picked_socks"
   ]
  },
  {
   "cell_type": "code",
   "execution_count": null,
   "metadata": {},
   "outputs": [],
   "source": [
    "# Solution\n",
    "\n",
    "values, counts = np.unique(picked_socks, return_counts=True)\n",
    "values"
   ]
  },
  {
   "cell_type": "code",
   "execution_count": null,
   "metadata": {},
   "outputs": [],
   "source": [
    "# Solution\n",
    "\n",
    "counts"
   ]
  },
  {
   "cell_type": "code",
   "execution_count": null,
   "metadata": {},
   "outputs": [],
   "source": [
    "# Solution\n",
    "\n",
    "solo = np.sum(counts==1)\n",
    "pairs = np.sum(counts==2)\n",
    "\n",
    "solo, pairs"
   ]
  },
  {
   "cell_type": "code",
   "execution_count": null,
   "metadata": {},
   "outputs": [],
   "source": [
    "# Solution\n",
    "\n",
    "def pick_socks(n_pairs, n_odds, n_pick):\n",
    "    socks = np.append(np.arange(n_pairs), \n",
    "                      np.arange(n_pairs + n_odds))\n",
    "    \n",
    "    picked_socks = np.random.choice(socks, \n",
    "                                    size=n_pick, \n",
    "                                    replace=False)\n",
    "    \n",
    "    values, counts = np.unique(picked_socks, \n",
    "                               return_counts=True)\n",
    "    pairs = np.sum(counts==2)\n",
    "    odds = np.sum(counts==1)\n",
    "    return pairs, odds"
   ]
  },
  {
   "cell_type": "code",
   "execution_count": null,
   "metadata": {},
   "outputs": [],
   "source": [
    "# Solution\n",
    "\n",
    "pick_socks(n_pairs, n_odds, 11)"
   ]
  },
  {
   "cell_type": "code",
   "execution_count": null,
   "metadata": {},
   "outputs": [],
   "source": [
    "# Solution\n",
    "\n",
    "data = (0, 11)\n",
    "res = []\n",
    "for i in range(10000):\n",
    "    n_socks = prior_n_socks.rvs()\n",
    "    if n_socks < 11:\n",
    "        continue\n",
    "    prop_pairs = prior_prop_pair.rvs()\n",
    "    n_pairs = np.round(n_socks//2 * prop_pairs)\n",
    "    n_odds = n_socks - n_pairs*2\n",
    "    result = pick_socks(n_pairs, n_odds, 11)\n",
    "    if result == data:\n",
    "        res.append((n_socks, n_pairs, n_odds))\n",
    "\n",
    "len(res)"
   ]
  },
  {
   "cell_type": "code",
   "execution_count": null,
   "metadata": {},
   "outputs": [],
   "source": [
    "# Solution\n",
    "\n",
    "columns = ['n_socks', 'n_pairs', 'n_odds']\n",
    "results = pd.DataFrame(res, columns=columns)\n",
    "results.head()"
   ]
  },
  {
   "cell_type": "code",
   "execution_count": null,
   "metadata": {},
   "outputs": [],
   "source": [
    "# Solution\n",
    "\n",
    "len(results)"
   ]
  },
  {
   "cell_type": "code",
   "execution_count": null,
   "metadata": {},
   "outputs": [],
   "source": [
    "# Solution\n",
    "\n",
    "qs = np.arange(15, 100)\n",
    "posterior_n_socks = Pmf.from_seq(results['n_socks'])\n",
    "print(posterior_n_socks.median(),\n",
    "      posterior_n_socks.credible_interval(0.9))"
   ]
  },
  {
   "cell_type": "code",
   "execution_count": null,
   "metadata": {},
   "outputs": [],
   "source": [
    "# Solution\n",
    "\n",
    "posterior_n_socks.plot(label='posterior', drawstyle='steps')\n",
    "\n",
    "decorate(xlabel='Number of socks',\n",
    "         ylabel='PMF')"
   ]
  },
  {
   "cell_type": "code",
   "execution_count": null,
   "metadata": {},
   "outputs": [],
   "source": []
  }
 ],
 "metadata": {
  "celltoolbar": "Tags",
  "kernelspec": {
   "display_name": "Python 3",
   "language": "python",
   "name": "python3"
  },
  "language_info": {
   "codemirror_mode": {
    "name": "ipython",
    "version": 3
   },
   "file_extension": ".py",
   "mimetype": "text/x-python",
   "name": "python",
   "nbconvert_exporter": "python",
   "pygments_lexer": "ipython3",
   "version": "3.8.6"
  }
 },
 "nbformat": 4,
 "nbformat_minor": 4
}
