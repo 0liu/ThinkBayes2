{
 "cells": [
  {
   "cell_type": "markdown",
   "metadata": {},
   "source": [
    "# MCMC"
   ]
  },
  {
   "cell_type": "markdown",
   "metadata": {
    "tags": [
     "remove-cell"
    ]
   },
   "source": [
    "Think Bayes, Second Edition\n",
    "\n",
    "Copyright 2020 Allen B. Downey\n",
    "\n",
    "License: [Attribution-NonCommercial-ShareAlike 4.0 International (CC BY-NC-SA 4.0)](https://creativecommons.org/licenses/by-nc-sa/4.0/)"
   ]
  },
  {
   "cell_type": "code",
   "execution_count": 1,
   "metadata": {
    "tags": [
     "remove-cell"
    ]
   },
   "outputs": [],
   "source": [
    "# If we're running on Colab, install empiricaldist\n",
    "# https://pypi.org/project/empiricaldist/\n",
    "# and pymc3 and arviz\n",
    "\n",
    "import sys\n",
    "IN_COLAB = 'google.colab' in sys.modules\n",
    "\n",
    "if IN_COLAB:\n",
    "    !pip install empiricaldist\n",
    "    !pip install pymc3\n",
    "    !pip install arviz\n",
    "    !pip install python graphviz"
   ]
  },
  {
   "cell_type": "code",
   "execution_count": 2,
   "metadata": {
    "tags": [
     "remove-cell"
    ]
   },
   "outputs": [],
   "source": [
    "# Get utils.py\n",
    "\n",
    "import os\n",
    "\n",
    "if not os.path.exists('utils.py'):\n",
    "    !wget https://github.com/AllenDowney/ThinkBayes2/raw/master/soln/utils.py"
   ]
  },
  {
   "cell_type": "code",
   "execution_count": 3,
   "metadata": {
    "tags": [
     "remove-cell"
    ]
   },
   "outputs": [],
   "source": [
    "from utils import set_pyplot_params\n",
    "set_pyplot_params()"
   ]
  },
  {
   "cell_type": "markdown",
   "metadata": {},
   "source": [
    "For most of this book we've been using grid methods to approximate posterior distributions.\n",
    "For models with one or two parameters, grid algorithms are fast and the results are precise enough for most practical purposes.\n",
    "With three parameters, they start to be computationally-intensive, and with more than three they are usually not practical.\n",
    "\n",
    "In the previous chapter we saw that we can solve some problems using conjugate priors.\n",
    "But the problems we can solve this way tend to be the same ones we can solve with grid algorithms.\n",
    "\n",
    "For problems with more than a few parameters, the most powerful tool we have is MCMC, which stands for \"Markov chain Monte Carlo\".\n",
    "\n",
    "In this context, \"Monte Carlo\" refers to to methods that generate random samples from a distribution.\n",
    "Unlike grid methods, MCMC methods don't try to compute the posterior distribution; they sample from it instead.\n",
    "\n",
    "It might seem strange that you can generate sample without ever computing the distribution, but that's the magic of MCMC.\n",
    "\n",
    "To demonstrate, we'll start by solving the World Cup problem."
   ]
  },
  {
   "cell_type": "markdown",
   "metadata": {},
   "source": [
    "## The World Cup problem\n",
    "\n",
    "In Chapter xxx we solved the World Cup problem:\n",
    "\n",
    "> In the 2018 FIFA World Cup final, France defeated Croatia 4 goals to 2.  Based on this outcome:\n",
    ">\n",
    "> 1. How confident should we be that France is the better team?\n",
    ">\n",
    "> 2. If the same teams played again, what is the chance France would win again?\n",
    "\n",
    "We modeled goal scoring in football (soccer) as a Poisson process characterized by a goal-scoring rate, denoted $\\lambda$.\n",
    "\n",
    "We used a gamma distribution to represent the prior distribution of $\\lambda$, then we used to outcome of the game to compute the posterior distribution for both teams.\n",
    "\n",
    "To answer the first question, we used the posterior distributions to compute the \"probability of superiority\" for France.\n",
    "\n",
    "To answer the second question, we computed the posterior predictive distributions for each team, that it, the distribution of goals we expect in a rematch.\n",
    "\n",
    "In this chapter we'll solve this problem again using PyMC, which is a library that provides implementation of several MCMC methods.\n",
    "But we'll start by reviewing the grid approximation of the prior and the prior predictive distribution."
   ]
  },
  {
   "cell_type": "markdown",
   "metadata": {},
   "source": [
    "## Grid approximation\n",
    "\n",
    "As we did in Chapter 8xxx we'll use a gamma distribution with parameter $\\alpha=1.4$ to represent the prior."
   ]
  },
  {
   "cell_type": "code",
   "execution_count": 4,
   "metadata": {},
   "outputs": [],
   "source": [
    "from scipy.stats import gamma\n",
    "\n",
    "alpha = 1.4\n",
    "dist = gamma(alpha)"
   ]
  },
  {
   "cell_type": "markdown",
   "metadata": {},
   "source": [
    "I'll use `linspace` to generate an array of possible values for $\\lambda$, and `pmf_from_dist` to compute a discrete approximation of the prior."
   ]
  },
  {
   "cell_type": "code",
   "execution_count": 5,
   "metadata": {},
   "outputs": [],
   "source": [
    "import numpy as np\n",
    "from utils import pmf_from_dist\n",
    "\n",
    "lams = np.linspace(0, 10, 101)\n",
    "gamma_prior = pmf_from_dist(dist, lams)"
   ]
  },
  {
   "cell_type": "markdown",
   "metadata": {},
   "source": [
    "Here's what it looks like."
   ]
  },
  {
   "cell_type": "code",
   "execution_count": 8,
   "metadata": {
    "tags": [
     "hide-cell"
    ]
   },
   "outputs": [],
   "source": [
    "from utils import decorate\n",
    "\n",
    "def decorate_rate(ylabel='PDF'):\n",
    "    \"\"\"Decorate the axes.\"\"\"\n",
    "    decorate(xlabel=r'Goals per game ($\\lambda$)',\n",
    "        ylabel=ylabel,\n",
    "        title='Prior distribution of goal scoring rate')"
   ]
  },
  {
   "cell_type": "code",
   "execution_count": 9,
   "metadata": {
    "tags": [
     "hide-input"
    ]
   },
   "outputs": [
    {
     "data": {
      "image/png": "[encoded data removed]",
      "text/plain": [
       "<Figure size 432x288 with 1 Axes>"
      ]
     },
     "metadata": {
      "needs_background": "light"
     },
     "output_type": "display_data"
    }
   ],
   "source": [
    "gamma_prior.plot(label='gamma prior', color='C5')\n",
    "decorate_rate()"
   ]
  },
  {
   "cell_type": "markdown",
   "metadata": {},
   "source": [
    "## Prior Predictive Distribution\n",
    "\n",
    "Now, before we compute the posterior, we'll take a detour to compute the \"prior predictive distribution\".\n",
    "We have seen the posterior predictive distribution in previous chapters; the prior predictive distribution is similar, except that (as you might have guessed) it is based on the prior.\n",
    "\n",
    "To estimate the prior predictive distribution, I'll start by drawing a sample from the prior."
   ]
  },
  {
   "cell_type": "code",
   "execution_count": 10,
   "metadata": {},
   "outputs": [],
   "source": [
    "sample_prior = gamma_prior.sample(1000, replace=True)"
   ]
  },
  {
   "cell_type": "markdown",
   "metadata": {},
   "source": [
    "`sample_prior` is an array of possible values for the goal-scoring rate, $\\lambda$.\n",
    "\n",
    "For each value in `sample_prior`, I'll generate one value from a Poisson distribution."
   ]
  },
  {
   "cell_type": "code",
   "execution_count": 11,
   "metadata": {},
   "outputs": [],
   "source": [
    "from scipy.stats import poisson\n",
    "\n",
    "sample_prior_pred = poisson.rvs(sample_prior)"
   ]
  },
  {
   "cell_type": "markdown",
   "metadata": {},
   "source": [
    "The result is a sample from the prior predictive distribution.\n",
    "We can use it to estimate the PMF:"
   ]
  },
  {
   "cell_type": "code",
   "execution_count": 15,
   "metadata": {},
   "outputs": [],
   "source": [
    "from empiricaldist import Pmf\n",
    "\n",
    "pmf_prior_pred = Pmf.from_seq(sample_prior_pred)"
   ]
  },
  {
   "cell_type": "markdown",
   "metadata": {},
   "source": [
    "And here's what it looks like:"
   ]
  },
  {
   "cell_type": "code",
   "execution_count": 18,
   "metadata": {
    "tags": [
     "hide-cell"
    ]
   },
   "outputs": [],
   "source": [
    "from utils import decorate\n",
    "\n",
    "def decorate_goals(ylabel='PMF'):\n",
    "    \"\"\"Decorate the axes.\"\"\"\n",
    "    decorate(xlabel='Number of goals',\n",
    "        ylabel=ylabel,\n",
    "        title='Distribution of goals scored')"
   ]
  },
  {
   "cell_type": "code",
   "execution_count": 19,
   "metadata": {
    "tags": [
     "hide-input"
    ]
   },
   "outputs": [
    {
     "data": {
      "image/png": "[encoded data removed]",
      "text/plain": [
       "<Figure size 432x288 with 1 Axes>"
      ]
     },
     "metadata": {
      "needs_background": "light"
     },
     "output_type": "display_data"
    }
   ],
   "source": [
    "pmf_prior_pred.bar()\n",
    "decorate_goals()"
   ]
  },
  {
   "cell_type": "markdown",
   "metadata": {},
   "source": [
    "One reason to compute the prior predictive distribution is to check whether out model of the system seems reasonable.\n",
    "In this case, the distribution of goals scored is consistent with what we know about goal scoring in World Cup football.\n",
    "\n",
    "But in this chapter we have another reason: computing the prior predictive distribution is a first step toward using MCMC."
   ]
  },
  {
   "cell_type": "markdown",
   "metadata": {},
   "source": [
    "## Introducing PyMC\n",
    "\n",
    "PyMC is a Python library that provides several MCMC methods.\n",
    "To use PyMC, we have to specify a model of the process that generates the data.\n",
    "In this example, the model has two steps:\n",
    "\n",
    "* First we draw a goal-scoring rate from the prior distribution,\n",
    "\n",
    "* Then we draw a number of goals from a Poisson distribution.\n",
    "\n",
    "Here's how we specify this model in PyMC:"
   ]
  },
  {
   "cell_type": "code",
   "execution_count": 23,
   "metadata": {},
   "outputs": [],
   "source": [
    "import pymc3 as pm\n",
    "\n",
    "with pm.Model() as model:\n",
    "    lam = pm.Gamma('lam', alpha=1.4, beta=1.0)\n",
    "    goals = pm.Poisson('goals', lam)"
   ]
  },
  {
   "cell_type": "markdown",
   "metadata": {},
   "source": [
    "After importing `pymc3`, we create a `Model` object named `model`.\n",
    "If you are not familiar with the `with` statement in Python, it is a way to associate a block of statements with an object.\n",
    "In this example, the two indented statements are associated with the new `Model` object so that when we create the distribution objects, `Gamma` and `Poisson`, they are added to the `Model`.\n",
    "\n",
    "Inside the `with` statement:\n",
    "\n",
    "* The first line creates the prior, which is a gamma distribution with the given parameters.\n",
    "\n",
    "* The second line creates the prior predictive, which is a Poisson distribution with the parameter `lam`.\n",
    "\n",
    "The first parameter of `Gamma` and `Poisson` is a string variable name.\n",
    "\n",
    "PyMC provides a function that generates a visual representation of the model."
   ]
  },
  {
   "cell_type": "code",
   "execution_count": 25,
   "metadata": {},
   "outputs": [
    {
     "data": {
      "image/svg+xml": [
       "<?xml version=\"1.0\" encoding=\"UTF-8\" standalone=\"no\"?>\n",
       "<!DOCTYPE svg PUBLIC \"-//W3C//DTD SVG 1.1//EN\"\n",
       " \"http://www.w3.org/Graphics/SVG/1.1/DTD/svg11.dtd\">\n",
       "<!-- Generated by graphviz version 2.42.3 (20191010.1750)\n",
       " -->\n",
       "<!-- Title: %3 Pages: 1 -->\n",
       "<svg width=\"141pt\" height=\"116pt\"\n",
       " viewBox=\"0.00 0.00 140.59 116.00\" xmlns=\"http://www.w3.org/2000/svg\" xmlns:xlink=\"http://www.w3.org/1999/xlink\">\n",
       "<g id=\"graph0\" class=\"graph\" transform=\"scale(1 1) rotate(0) translate(4 112)\">\n",
       "<title>%3</title>\n",
       "<polygon fill=\"white\" stroke=\"transparent\" points=\"-4,4 -4,-112 136.59,-112 136.59,4 -4,4\"/>\n",
       "<!-- goals -->\n",
       "<g id=\"node1\" class=\"node\">\n",
       "<title>goals</title>\n",
       "<ellipse fill=\"none\" stroke=\"black\" cx=\"66.29\" cy=\"-18\" rx=\"66.09\" ry=\"18\"/>\n",
       "<text text-anchor=\"middle\" x=\"66.29\" y=\"-14.3\" font-family=\"Times,serif\" font-size=\"14.00\">goals ~ Poisson</text>\n",
       "</g>\n",
       "<!-- lam -->\n",
       "<g id=\"node2\" class=\"node\">\n",
       "<title>lam</title>\n",
       "<ellipse fill=\"none\" stroke=\"black\" cx=\"66.29\" cy=\"-90\" rx=\"63.09\" ry=\"18\"/>\n",
       "<text text-anchor=\"middle\" x=\"66.29\" y=\"-86.3\" font-family=\"Times,serif\" font-size=\"14.00\">lam ~ Gamma</text>\n",
       "</g>\n",
       "<!-- lam&#45;&gt;goals -->\n",
       "<g id=\"edge1\" class=\"edge\">\n",
       "<title>lam&#45;&gt;goals</title>\n",
       "<path fill=\"none\" stroke=\"black\" d=\"M66.29,-71.7C66.29,-63.98 66.29,-54.71 66.29,-46.11\"/>\n",
       "<polygon fill=\"black\" stroke=\"black\" points=\"69.79,-46.1 66.29,-36.1 62.79,-46.1 69.79,-46.1\"/>\n",
       "</g>\n",
       "</g>\n",
       "</svg>\n"
      ],
      "text/plain": [
       "<graphviz.dot.Digraph at 0x7f5956750ee0>"
      ]
     },
     "execution_count": 25,
     "metadata": {},
     "output_type": "execute_result"
    }
   ],
   "source": [
    "pm.model_to_graphviz(model)"
   ]
  },
  {
   "cell_type": "markdown",
   "metadata": {},
   "source": [
    "In this visualization, the ovals show that `lam` is drawn from a gamma distribution and `goals` is drawn from a Poisson distribution.\n",
    "The arrow shows that the values of `lam` are the parameters of distribution of `goals`.\n",
    "\n",
    "PyMC provides a function that generates samples from the prior predictive distribution.\n",
    "We can use a `with` statement to run this function in the context of the model."
   ]
  },
  {
   "cell_type": "code",
   "execution_count": 26,
   "metadata": {},
   "outputs": [],
   "source": [
    "with model:\n",
    "    trace = pm.sample_prior_predictive(1000)"
   ]
  },
  {
   "cell_type": "markdown",
   "metadata": {},
   "source": []
  },
  {
   "cell_type": "code",
   "execution_count": null,
   "metadata": {},
   "outputs": [],
   "source": [
    "sample_prior_pymc = trace['mu']\n",
    "np.mean(sample_prior_pymc)"
   ]
  },
  {
   "cell_type": "markdown",
   "metadata": {},
   "source": [
    "And compare it to a sample from the gamma prior."
   ]
  },
  {
   "cell_type": "code",
   "execution_count": null,
   "metadata": {},
   "outputs": [],
   "source": [
    "gamma_prior.make_cdf().plot(label='prior gamma')\n",
    "plot_cdf(sample_prior_pymc, label='prior pymc')\n",
    "decorate_rate('CDF')"
   ]
  },
  {
   "cell_type": "markdown",
   "metadata": {},
   "source": [
    "It looks pretty good."
   ]
  },
  {
   "cell_type": "markdown",
   "metadata": {},
   "source": [
    "## Prior predictive\n",
    "\n",
    "The distributions of `goals` from this model is the prior predictive."
   ]
  },
  {
   "cell_type": "code",
   "execution_count": null,
   "metadata": {},
   "outputs": [],
   "source": [
    "sample_prior_pred_pymc = trace['goals']\n",
    "np.mean(sample_prior_pred_pymc)"
   ]
  },
  {
   "cell_type": "markdown",
   "metadata": {},
   "source": [
    "And let's compare it to a prior predictive distribution estimated by sampling."
   ]
  },
  {
   "cell_type": "code",
   "execution_count": null,
   "metadata": {},
   "outputs": [],
   "source": [
    "sample_prior_pred = np.random.poisson(sample_prior_gamma)\n",
    "np.mean(sample_prior_pred)"
   ]
  },
  {
   "cell_type": "code",
   "execution_count": null,
   "metadata": {},
   "outputs": [],
   "source": [
    "def plot_pred(sample, **options):\n",
    "    cdf = Cdf.from_seq(sample)\n",
    "    cdf.step(**options)"
   ]
  },
  {
   "cell_type": "code",
   "execution_count": null,
   "metadata": {},
   "outputs": [],
   "source": [
    "plot_pred(sample_prior_pred, label='prior pred grid')\n",
    "plot_pred(sample_prior_pred_pymc, label='prior pred PyMC')\n",
    "decorate_goals('CDF')"
   ]
  },
  {
   "cell_type": "markdown",
   "metadata": {},
   "source": [
    "Looks good."
   ]
  },
  {
   "cell_type": "markdown",
   "metadata": {},
   "source": [
    "## Grid Update"
   ]
  },
  {
   "cell_type": "code",
   "execution_count": null,
   "metadata": {},
   "outputs": [],
   "source": [
    "from scipy.stats import poisson\n",
    "\n",
    "data = 4\n",
    "likelihood = poisson.pmf(data, mus)"
   ]
  },
  {
   "cell_type": "code",
   "execution_count": null,
   "metadata": {},
   "outputs": [],
   "source": [
    "posterior = gamma_prior * likelihood\n",
    "posterior.normalize()"
   ]
  },
  {
   "cell_type": "code",
   "execution_count": null,
   "metadata": {},
   "outputs": [],
   "source": [
    "gamma_prior.plot(label='prior', color='C5')\n",
    "posterior.plot(label='posterior', color='C4')\n",
    "decorate_rate()"
   ]
  },
  {
   "cell_type": "markdown",
   "metadata": {},
   "source": [
    "## When do we get to inference?\n",
    "\n",
    "Finally, we are ready to use PyMC for actual inference.  We just have to make one small change.\n",
    "\n",
    "Instead of generating `goals`, we'll mark goals as `observed` and provide the observed data, `4`.\n",
    "\n",
    "And instead of called `sample_prior_predictive`, we'll call `sample`, which is understood to sample from the posterior distribution of `mu`."
   ]
  },
  {
   "cell_type": "code",
   "execution_count": null,
   "metadata": {},
   "outputs": [],
   "source": [
    "model = pm.Model()\n",
    "\n",
    "with model:\n",
    "    mu = pm.Gamma('mu', alpha, beta)\n",
    "    goals = pm.Poisson('goals', mu, observed=4)\n",
    "    trace = pm.sample(500)"
   ]
  },
  {
   "cell_type": "markdown",
   "metadata": {},
   "source": [
    "With `goals` fixed, the only unknown is `mu`, so `trace` contains a sample drawn from the posterior distribution of `mu`.  We can plot the posterior using a function provided by PyMC:"
   ]
  },
  {
   "cell_type": "code",
   "execution_count": null,
   "metadata": {},
   "outputs": [],
   "source": [
    "len(trace['mu'])"
   ]
  },
  {
   "cell_type": "code",
   "execution_count": null,
   "metadata": {},
   "outputs": [],
   "source": [
    "with model:\n",
    "    pm.plot_posterior(trace)"
   ]
  },
  {
   "cell_type": "markdown",
   "metadata": {},
   "source": [
    "We can extract a sample of `mu` from the trace."
   ]
  },
  {
   "cell_type": "code",
   "execution_count": null,
   "metadata": {},
   "outputs": [],
   "source": [
    "sample_post_pymc = trace['mu']\n",
    "np.mean(sample_post_pymc)"
   ]
  },
  {
   "cell_type": "markdown",
   "metadata": {},
   "source": [
    "And compare it to the sample we drew from the grid approximation:"
   ]
  },
  {
   "cell_type": "code",
   "execution_count": null,
   "metadata": {},
   "outputs": [],
   "source": [
    "sample_post_grid = posterior2.sample(1000, replace=True)\n",
    "sample_post_grid.mean()"
   ]
  },
  {
   "cell_type": "code",
   "execution_count": null,
   "metadata": {},
   "outputs": [],
   "source": [
    "plot_cdf(sample_post_grid, label='posterior grid')\n",
    "plot_cdf(sample_post_pymc, label='posterior PyMC')\n",
    "decorate_rate()"
   ]
  },
  {
   "cell_type": "markdown",
   "metadata": {},
   "source": [
    "Again, it looks pretty good."
   ]
  },
  {
   "cell_type": "markdown",
   "metadata": {},
   "source": [
    "## Posterior predictive\n",
    "\n",
    "To sample from the posterior predictive distribution, we can use `sample_posterior_predictive`:"
   ]
  },
  {
   "cell_type": "code",
   "execution_count": null,
   "metadata": {},
   "outputs": [],
   "source": [
    "with model:\n",
    "    post_pred = pm.sample_posterior_predictive(trace, samples=1000)"
   ]
  },
  {
   "cell_type": "markdown",
   "metadata": {},
   "source": [
    "Here's what it looks like:"
   ]
  },
  {
   "cell_type": "code",
   "execution_count": null,
   "metadata": {},
   "outputs": [],
   "source": [
    "sample_post_pred_pymc = post_pred['goals']\n",
    "np.mean(sample_post_pred_pymc)"
   ]
  },
  {
   "cell_type": "code",
   "execution_count": null,
   "metadata": {},
   "outputs": [],
   "source": [
    "sample_post_pred = poisson(sample_post_grid).rvs()\n",
    "sample_post_pred.mean()"
   ]
  },
  {
   "cell_type": "code",
   "execution_count": null,
   "metadata": {},
   "outputs": [],
   "source": [
    "plot_pred(sample_post_pred, label='posterior pred grid')\n",
    "plot_pred(sample_post_pred_pymc, label='posterior pred PyMC')\n",
    "decorate_goals()"
   ]
  },
  {
   "cell_type": "markdown",
   "metadata": {},
   "source": [
    "Looks pretty good!"
   ]
  }
 ],
 "metadata": {
  "celltoolbar": "Tags",
  "kernelspec": {
   "display_name": "Python 3",
   "language": "python",
   "name": "python3"
  },
  "language_info": {
   "codemirror_mode": {
    "name": "ipython",
    "version": 3
   },
   "file_extension": ".py",
   "mimetype": "text/x-python",
   "name": "python",
   "nbconvert_exporter": "python",
   "pygments_lexer": "ipython3",
   "version": "3.8.5"
  }
 },
 "nbformat": 4,
 "nbformat_minor": 4
}
