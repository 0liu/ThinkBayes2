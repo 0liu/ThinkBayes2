{
 "cells": [
  {
   "cell_type": "markdown",
   "metadata": {},
   "source": [
    "# Think Bayes\n",
    "\n",
    "Second Edition\n",
    "\n",
    "Copyright 2020 Allen B. Downey\n",
    "\n",
    "License: [Attribution-NonCommercial-ShareAlike 4.0 International (CC BY-NC-SA 4.0)](https://creativecommons.org/licenses/by-nc-sa/4.0/)"
   ]
  },
  {
   "cell_type": "code",
   "execution_count": 1,
   "metadata": {},
   "outputs": [],
   "source": [
    "# If we're running on Colab, install empiricaldist\n",
    "# https://pypi.org/project/empiricaldist/\n",
    "\n",
    "import sys\n",
    "IN_COLAB = 'google.colab' in sys.modules\n",
    "\n",
    "if IN_COLAB:\n",
    "    !pip install empiricaldist"
   ]
  },
  {
   "cell_type": "code",
   "execution_count": 2,
   "metadata": {},
   "outputs": [],
   "source": [
    "# Get utils.py and create directories\n",
    "\n",
    "import os\n",
    "\n",
    "if not os.path.exists('utils.py'):\n",
    "    !wget https://github.com/AllenDowney/ThinkBayes2/raw/master/code/soln/utils.py\n",
    "        \n",
    "if not os.path.exists('figs'):\n",
    "    !mkdir figs"
   ]
  },
  {
   "cell_type": "code",
   "execution_count": 3,
   "metadata": {},
   "outputs": [],
   "source": [
    "import numpy as np\n",
    "import pandas as pd\n",
    "import matplotlib.pyplot as plt\n",
    "\n",
    "from empiricaldist import Pmf, Cdf\n",
    "from utils import decorate, savefig"
   ]
  },
  {
   "cell_type": "markdown",
   "metadata": {},
   "source": [
    "## Introduction\n",
    "\n",
    "This chapter introduces two related topics: log odds and logistic regression.\n",
    "\n",
    "In Chapter 5, we rewrote Bayes's Theorem in terms of odds and derived Bayes's Rule, which can be a convenient way to do a Bayesian update on paper or in your head.\n",
    "In this chapter, we'll look at Bayes's Rule on a logarithmic scale, which provides insight into how we accumulate evidence through successive updates.\n",
    "\n",
    "That leads directly to logistic regression, which is based on a linear model of the relationship between evidence and the log odds of a hypothesis.  We'll use data from the Space Shuttle to explore the relationship between temperature and the probability of damage to the O-rings.  Then we'll use data from the General Social Survey to explore generational changes in support for legalizing marijuana.  \n",
    "\n",
    "As an exercise, you'll have a chance to model the relationship between a child's age when they start school and their probability of being diagnosed with Attention Deficit Hyperactivity Disorder (ADHD)."
   ]
  },
  {
   "cell_type": "markdown",
   "metadata": {},
   "source": [
    "## Log odds\n",
    "\n",
    "When I was in grad school, I signed up for a class on Theory of Computation. \n",
    "On the first day of class, I was the first to arrive. A few minutes later, another student arrived. Because I was expecting most students in an advanced computer science class to be male, I was mildly surprised that the other student was female. \n",
    "\n",
    "Another female student arrived a few minutes later, which was sufficiently surprising that I started to think I was in the wrong room. When another female student arrived, I was confident I was in the wrong place, and it turned out I was.\n",
    "\n",
    "As each student arrived, I used the observed data to update my belief that I was in the right place. We can use Bayes's Rule, which we saw in Chapter 5, to quantify the calculation I was doing intuitively.\n",
    "\n",
    "I'll use $H$ to represent the hypothesis that I was in the right room, and $F$ to represent the observation that the first other student was female. Bayes's Rule gives us:\n",
    "\n",
    "$O(H|F) = O(H) \\frac{P(F|H)}{P(F|not H)}$\n",
    "\n",
    "Before I saw the other students, I was confident I was in the right room, so I might assign prior odds of 10:1 in favor:\n",
    "\n",
    "$O(H) = 10$\n",
    "\n",
    "At the time, advanced computer science classes were about 90% male, so if I was in the right room, the likelihood of the first female student was only 10%.\n",
    "\n",
    "If I was not in the right room, the likelihood of the first female student was more like 50%, so the likelihood ratio is 1/5.  Applying Bayes's Rule:\n",
    "\n",
    "$O(H|F) = O(H) / 5 = 2$\n",
    "\n",
    "After the first student, the posterior odds are 2:1 I was in the right room, or 66%.  After two students:\n",
    "\n",
    "$O(H|FF) = O(H) / 25 = 2/5$\n",
    "\n",
    "The posterior odds were 2/5, and after three students:\n",
    "\n",
    "$O(H|FFF) = 2/25$\n",
    "\n",
    "The posterior odds were 2/25.\n",
    "At that point, I was right to believe I was in the wrong room."
   ]
  },
  {
   "cell_type": "markdown",
   "metadata": {},
   "source": [
    "Let's see what those odds look like in terms of probability:"
   ]
  },
  {
   "cell_type": "code",
   "execution_count": 4,
   "metadata": {},
   "outputs": [],
   "source": [
    "def prob(odds):\n",
    "    return odds / (odds + 1)"
   ]
  },
  {
   "cell_type": "code",
   "execution_count": 5,
   "metadata": {},
   "outputs": [
    {
     "data": {
      "text/html": [
       "<div>\n",
       "<style scoped>\n",
       "    .dataframe tbody tr th:only-of-type {\n",
       "        vertical-align: middle;\n",
       "    }\n",
       "\n",
       "    .dataframe tbody tr th {\n",
       "        vertical-align: top;\n",
       "    }\n",
       "\n",
       "    .dataframe thead th {\n",
       "        text-align: right;\n",
       "    }\n",
       "</style>\n",
       "<table border=\"1\" class=\"dataframe\">\n",
       "  <thead>\n",
       "    <tr style=\"text-align: right;\">\n",
       "      <th></th>\n",
       "      <th>odds</th>\n",
       "      <th>prob</th>\n",
       "    </tr>\n",
       "  </thead>\n",
       "  <tbody>\n",
       "    <tr>\n",
       "      <th>prior</th>\n",
       "      <td>10.00</td>\n",
       "      <td>0.909091</td>\n",
       "    </tr>\n",
       "    <tr>\n",
       "      <th>1 student</th>\n",
       "      <td>2.00</td>\n",
       "      <td>0.666667</td>\n",
       "    </tr>\n",
       "    <tr>\n",
       "      <th>2 students</th>\n",
       "      <td>0.40</td>\n",
       "      <td>0.285714</td>\n",
       "    </tr>\n",
       "    <tr>\n",
       "      <th>3 students</th>\n",
       "      <td>0.08</td>\n",
       "      <td>0.074074</td>\n",
       "    </tr>\n",
       "  </tbody>\n",
       "</table>\n",
       "</div>"
      ],
      "text/plain": [
       "             odds      prob\n",
       "prior       10.00  0.909091\n",
       "1 student    2.00  0.666667\n",
       "2 students   0.40  0.285714\n",
       "3 students   0.08  0.074074"
      ]
     },
     "execution_count": 5,
     "metadata": {},
     "output_type": "execute_result"
    }
   ],
   "source": [
    "index = ['prior', '1 student', '2 students', '3 students']\n",
    "\n",
    "table = pd.DataFrame(index=index)\n",
    "table['odds'] = [10, 2, 2/5, 2/25]\n",
    "table['prob'] = prob(table['odds'])\n",
    "\n",
    "table"
   ]
  },
  {
   "cell_type": "markdown",
   "metadata": {},
   "source": [
    "Each update uses the same likelihood, but the changes in probability are not the same.  The first update decreases the probability by about 24 percentage points, the second by 38, and the third by 21."
   ]
  },
  {
   "cell_type": "code",
   "execution_count": 6,
   "metadata": {},
   "outputs": [
    {
     "data": {
      "text/plain": [
       "prior              NaN\n",
       "1 student    -0.242424\n",
       "2 students   -0.380952\n",
       "3 students   -0.211640\n",
       "Name: prob, dtype: float64"
      ]
     },
     "execution_count": 6,
     "metadata": {},
     "output_type": "execute_result"
    }
   ],
   "source": [
    "table['prob'].diff()"
   ]
  },
  {
   "cell_type": "markdown",
   "metadata": {},
   "source": [
    "That's normal for this kind of update, and in fact it's necessary; if the changes were the same size, we would quickly get negative probabilities.\n",
    "\n",
    "The odds follow a more obvious pattern.  Because each update multiplies the odds by the same likelihood ratio, the odds form a geometric sequence.\n",
    "\n",
    "And that brings us to consider another way to represent uncertainty: **log odds**, which is the logarithm of odds, usually expressed using the natural log (base $e$).\n",
    "\n",
    "Adding log odds to the table:"
   ]
  },
  {
   "cell_type": "code",
   "execution_count": 7,
   "metadata": {},
   "outputs": [
    {
     "data": {
      "text/html": [
       "<div>\n",
       "<style scoped>\n",
       "    .dataframe tbody tr th:only-of-type {\n",
       "        vertical-align: middle;\n",
       "    }\n",
       "\n",
       "    .dataframe tbody tr th {\n",
       "        vertical-align: top;\n",
       "    }\n",
       "\n",
       "    .dataframe thead th {\n",
       "        text-align: right;\n",
       "    }\n",
       "</style>\n",
       "<table border=\"1\" class=\"dataframe\">\n",
       "  <thead>\n",
       "    <tr style=\"text-align: right;\">\n",
       "      <th></th>\n",
       "      <th>odds</th>\n",
       "      <th>prob</th>\n",
       "      <th>log odds</th>\n",
       "    </tr>\n",
       "  </thead>\n",
       "  <tbody>\n",
       "    <tr>\n",
       "      <th>prior</th>\n",
       "      <td>10.00</td>\n",
       "      <td>0.909091</td>\n",
       "      <td>2.302585</td>\n",
       "    </tr>\n",
       "    <tr>\n",
       "      <th>1 student</th>\n",
       "      <td>2.00</td>\n",
       "      <td>0.666667</td>\n",
       "      <td>0.693147</td>\n",
       "    </tr>\n",
       "    <tr>\n",
       "      <th>2 students</th>\n",
       "      <td>0.40</td>\n",
       "      <td>0.285714</td>\n",
       "      <td>-0.916291</td>\n",
       "    </tr>\n",
       "    <tr>\n",
       "      <th>3 students</th>\n",
       "      <td>0.08</td>\n",
       "      <td>0.074074</td>\n",
       "      <td>-2.525729</td>\n",
       "    </tr>\n",
       "  </tbody>\n",
       "</table>\n",
       "</div>"
      ],
      "text/plain": [
       "             odds      prob  log odds\n",
       "prior       10.00  0.909091  2.302585\n",
       "1 student    2.00  0.666667  0.693147\n",
       "2 students   0.40  0.285714 -0.916291\n",
       "3 students   0.08  0.074074 -2.525729"
      ]
     },
     "execution_count": 7,
     "metadata": {},
     "output_type": "execute_result"
    }
   ],
   "source": [
    "table['log odds'] = np.log(table['odds'])\n",
    "table"
   ]
  },
  {
   "cell_type": "markdown",
   "metadata": {},
   "source": [
    "You might notice:\n",
    "\n",
    "* When probability is greater than 0.5, odds are greater than 1, and log odds are positive.\n",
    "\n",
    "* When probability is less than 0.5, odds are less than 1, and log odds are negative.\n",
    "\n",
    "You might also notice that the log odds are equally spaced."
   ]
  },
  {
   "cell_type": "code",
   "execution_count": 8,
   "metadata": {},
   "outputs": [
    {
     "data": {
      "text/plain": [
       "prior              NaN\n",
       "1 student    -1.609438\n",
       "2 students   -1.609438\n",
       "3 students   -1.609438\n",
       "Name: log odds, dtype: float64"
      ]
     },
     "execution_count": 8,
     "metadata": {},
     "output_type": "execute_result"
    }
   ],
   "source": [
    "table['log odds'].diff()"
   ]
  },
  {
   "cell_type": "markdown",
   "metadata": {},
   "source": [
    "The change in log odds after each update is the logarithm of the likelihood ratio."
   ]
  },
  {
   "cell_type": "code",
   "execution_count": 9,
   "metadata": {},
   "outputs": [
    {
     "data": {
      "text/plain": [
       "-1.6094379124341003"
      ]
     },
     "execution_count": 9,
     "metadata": {},
     "output_type": "execute_result"
    }
   ],
   "source": [
    "np.log(1/5)"
   ]
  },
  {
   "cell_type": "markdown",
   "metadata": {},
   "source": [
    "That's true in this example, and we can show that it's true in general by taking the log of both sides of Bayes's Rule.\n",
    "\n",
    "$ \\log O(H|F) = \\log O(H) + \\log \\frac{P(F|H)}{P(F|not H)}$\n",
    "\n",
    "On a log odds scale, a Bayesian update is additive.  So if $F^x$ means that $x$ female students arrive while I am waiting, the posterior log odds that I am in the right room are:\n",
    "\n",
    "$ \\log O(H|F^x) = \\log O(H) + x \\log \\frac{P(F|H)}{P(F|not H)}$\n",
    "\n",
    "This equation represents a linear relationship between the evidence and the posterior log odds.  "
   ]
  },
  {
   "cell_type": "markdown",
   "metadata": {},
   "source": [
    "In this example it is literally true, but even when it's not, it is common to use a linear function to model the relationship between an explanatory variable, $x$, and a dependent variable expressed in log odds.\n",
    "\n",
    "$ \\log O(H | x) = \\beta_0 + \\beta_1 x$\n",
    "\n",
    "where $\\beta_0$ and $\\beta_1$ are unknown parameters:\n",
    "\n",
    "* The intercept, $\\beta_0$, is the log odds of the hypothesis when $x$ is 0.\n",
    "\n",
    "* The slope, $\\beta_1$, is the log of the likelihood ratio.\n",
    "\n",
    "This equation is the basis of logistic regression."
   ]
  },
  {
   "cell_type": "markdown",
   "metadata": {},
   "source": [
    "## The Space Shuttle problem\n",
    "\n",
    "As an example of logistic regression, I'll solve a problem from Cameron Davidson-Pilon's book, [Bayesian Methods for Hackers](http://nbviewer.jupyter.org/github/CamDavidsonPilon/Probabilistic-Programming-and-Bayesian-Methods-for-Hackers/blob/master/Chapter2_MorePyMC/Ch2_MorePyMC_PyMC2.ipynb).  He writes:\n",
    "\n",
    "> \"On January 28, 1986, the twenty-fifth flight of the U.S. space shuttle program ended in disaster when one of the rocket boosters of the Shuttle Challenger exploded shortly after lift-off, killing all seven crew members. The presidential commission on the accident concluded that it was caused by the failure of an O-ring in a field joint on the rocket booster, and that this failure was due to a faulty design that made the O-ring unacceptably sensitive to a number of factors including outside temperature. Of the previous 24 flights, data were available on failures of O-rings on 23 (one was lost at sea), and these data were discussed on the evening preceding the Challenger launch, but unfortunately only the data corresponding to the 7 flights on which there was a damage incident were considered important and these were thought to show no obvious trend.\"\n",
    "\n",
    "The dataset is originally from [this paper](https://amstat.tandfonline.com/doi/abs/10.1080/01621459.1989.10478858), but we can download it from Davidson-Pilon's site."
   ]
  },
  {
   "cell_type": "code",
   "execution_count": 10,
   "metadata": {},
   "outputs": [],
   "source": [
    "import os\n",
    "\n",
    "if not os.path.exists('challenger_data.csv'):\n",
    "    !wget https://raw.githubusercontent.com/CamDavidsonPilon/Probabilistic-Programming-and-Bayesian-Methods-for-Hackers/master/Chapter2_MorePyMC/data/challenger_data.csv"
   ]
  },
  {
   "cell_type": "markdown",
   "metadata": {},
   "source": [
    "I'll read the data and do a little cleaning."
   ]
  },
  {
   "cell_type": "code",
   "execution_count": 11,
   "metadata": {},
   "outputs": [
    {
     "data": {
      "text/html": [
       "<div>\n",
       "<style scoped>\n",
       "    .dataframe tbody tr th:only-of-type {\n",
       "        vertical-align: middle;\n",
       "    }\n",
       "\n",
       "    .dataframe tbody tr th {\n",
       "        vertical-align: top;\n",
       "    }\n",
       "\n",
       "    .dataframe thead th {\n",
       "        text-align: right;\n",
       "    }\n",
       "</style>\n",
       "<table border=\"1\" class=\"dataframe\">\n",
       "  <thead>\n",
       "    <tr style=\"text-align: right;\">\n",
       "      <th></th>\n",
       "      <th>Date</th>\n",
       "      <th>Temperature</th>\n",
       "      <th>Damage</th>\n",
       "    </tr>\n",
       "  </thead>\n",
       "  <tbody>\n",
       "    <tr>\n",
       "      <th>14</th>\n",
       "      <td>1985-01-24</td>\n",
       "      <td>53</td>\n",
       "      <td>1</td>\n",
       "    </tr>\n",
       "    <tr>\n",
       "      <th>9</th>\n",
       "      <td>1984-02-03</td>\n",
       "      <td>57</td>\n",
       "      <td>1</td>\n",
       "    </tr>\n",
       "    <tr>\n",
       "      <th>23</th>\n",
       "      <td>1986-01-12</td>\n",
       "      <td>58</td>\n",
       "      <td>1</td>\n",
       "    </tr>\n",
       "    <tr>\n",
       "      <th>10</th>\n",
       "      <td>1984-04-06</td>\n",
       "      <td>63</td>\n",
       "      <td>1</td>\n",
       "    </tr>\n",
       "    <tr>\n",
       "      <th>0</th>\n",
       "      <td>1981-04-12</td>\n",
       "      <td>66</td>\n",
       "      <td>0</td>\n",
       "    </tr>\n",
       "    <tr>\n",
       "      <th>15</th>\n",
       "      <td>1985-04-12</td>\n",
       "      <td>67</td>\n",
       "      <td>0</td>\n",
       "    </tr>\n",
       "    <tr>\n",
       "      <th>13</th>\n",
       "      <td>1984-11-08</td>\n",
       "      <td>67</td>\n",
       "      <td>0</td>\n",
       "    </tr>\n",
       "    <tr>\n",
       "      <th>5</th>\n",
       "      <td>1983-04-04</td>\n",
       "      <td>67</td>\n",
       "      <td>0</td>\n",
       "    </tr>\n",
       "    <tr>\n",
       "      <th>4</th>\n",
       "      <td>1982-01-11</td>\n",
       "      <td>68</td>\n",
       "      <td>0</td>\n",
       "    </tr>\n",
       "    <tr>\n",
       "      <th>2</th>\n",
       "      <td>1982-03-22</td>\n",
       "      <td>69</td>\n",
       "      <td>0</td>\n",
       "    </tr>\n",
       "    <tr>\n",
       "      <th>1</th>\n",
       "      <td>1981-11-12</td>\n",
       "      <td>70</td>\n",
       "      <td>1</td>\n",
       "    </tr>\n",
       "    <tr>\n",
       "      <th>17</th>\n",
       "      <td>1985-06-17</td>\n",
       "      <td>70</td>\n",
       "      <td>0</td>\n",
       "    </tr>\n",
       "    <tr>\n",
       "      <th>8</th>\n",
       "      <td>1983-11-28</td>\n",
       "      <td>70</td>\n",
       "      <td>0</td>\n",
       "    </tr>\n",
       "    <tr>\n",
       "      <th>11</th>\n",
       "      <td>1984-08-30</td>\n",
       "      <td>70</td>\n",
       "      <td>1</td>\n",
       "    </tr>\n",
       "    <tr>\n",
       "      <th>6</th>\n",
       "      <td>1983-06-18</td>\n",
       "      <td>72</td>\n",
       "      <td>0</td>\n",
       "    </tr>\n",
       "    <tr>\n",
       "      <th>7</th>\n",
       "      <td>1983-08-30</td>\n",
       "      <td>73</td>\n",
       "      <td>0</td>\n",
       "    </tr>\n",
       "    <tr>\n",
       "      <th>16</th>\n",
       "      <td>1985-04-29</td>\n",
       "      <td>75</td>\n",
       "      <td>0</td>\n",
       "    </tr>\n",
       "    <tr>\n",
       "      <th>21</th>\n",
       "      <td>1985-10-30</td>\n",
       "      <td>75</td>\n",
       "      <td>1</td>\n",
       "    </tr>\n",
       "    <tr>\n",
       "      <th>19</th>\n",
       "      <td>1985-08-27</td>\n",
       "      <td>76</td>\n",
       "      <td>0</td>\n",
       "    </tr>\n",
       "    <tr>\n",
       "      <th>22</th>\n",
       "      <td>1985-11-26</td>\n",
       "      <td>76</td>\n",
       "      <td>0</td>\n",
       "    </tr>\n",
       "    <tr>\n",
       "      <th>12</th>\n",
       "      <td>1984-10-05</td>\n",
       "      <td>78</td>\n",
       "      <td>0</td>\n",
       "    </tr>\n",
       "    <tr>\n",
       "      <th>20</th>\n",
       "      <td>1985-10-03</td>\n",
       "      <td>79</td>\n",
       "      <td>0</td>\n",
       "    </tr>\n",
       "    <tr>\n",
       "      <th>18</th>\n",
       "      <td>1985-07-29</td>\n",
       "      <td>81</td>\n",
       "      <td>0</td>\n",
       "    </tr>\n",
       "  </tbody>\n",
       "</table>\n",
       "</div>"
      ],
      "text/plain": [
       "         Date  Temperature Damage\n",
       "14 1985-01-24           53      1\n",
       "9  1984-02-03           57      1\n",
       "23 1986-01-12           58      1\n",
       "10 1984-04-06           63      1\n",
       "0  1981-04-12           66      0\n",
       "15 1985-04-12           67      0\n",
       "13 1984-11-08           67      0\n",
       "5  1983-04-04           67      0\n",
       "4  1982-01-11           68      0\n",
       "2  1982-03-22           69      0\n",
       "1  1981-11-12           70      1\n",
       "17 1985-06-17           70      0\n",
       "8  1983-11-28           70      0\n",
       "11 1984-08-30           70      1\n",
       "6  1983-06-18           72      0\n",
       "7  1983-08-30           73      0\n",
       "16 1985-04-29           75      0\n",
       "21 1985-10-30           75      1\n",
       "19 1985-08-27           76      0\n",
       "22 1985-11-26           76      0\n",
       "12 1984-10-05           78      0\n",
       "20 1985-10-03           79      0\n",
       "18 1985-07-29           81      0"
      ]
     },
     "execution_count": 11,
     "metadata": {},
     "output_type": "execute_result"
    }
   ],
   "source": [
    "data = pd.read_csv('challenger_data.csv', parse_dates=[0])\n",
    "\n",
    "# avoiding column names with spaces\n",
    "data.rename(columns={'Damage Incident': 'Damage'}, inplace=True)\n",
    "\n",
    "# dropping row 3, in which Damage Incident is NaN,\n",
    "# and row 24, which is the record for the Challenger\n",
    "data.drop(labels=[3, 24], inplace=True)\n",
    "\n",
    "# sort by temperature\n",
    "data.sort_values(by='Temperature', inplace=True)\n",
    "\n",
    "data"
   ]
  },
  {
   "cell_type": "markdown",
   "metadata": {},
   "source": [
    "The original dataset contains the number of damage incidents, but for this analysis, we'll treat the outcome as a binary value: `1` if there was any damage and `0` if not."
   ]
  },
  {
   "cell_type": "code",
   "execution_count": 12,
   "metadata": {},
   "outputs": [
    {
     "data": {
      "text/plain": [
       "7"
      ]
     },
     "execution_count": 12,
     "metadata": {},
     "output_type": "execute_result"
    }
   ],
   "source": [
    "data['y'] = (data['Damage'] == '1').astype(int)\n",
    "data['y'].sum()"
   ]
  },
  {
   "cell_type": "markdown",
   "metadata": {},
   "source": [
    "Here's a representation of the relationship between damage and temperature."
   ]
  },
  {
   "cell_type": "code",
   "execution_count": 13,
   "metadata": {},
   "outputs": [],
   "source": [
    "def plot_data(data):\n",
    "    \"\"\"Plot damage as a function of temperature.\n",
    "    \n",
    "    data: DataFrame\n",
    "    \"\"\"\n",
    "    plt.plot(data['Temperature'], data['y'], 'o', \n",
    "             color=\"C1\", alpha=0.5)\n",
    "\n",
    "    decorate(ylabel=\"Probability of damage\",\n",
    "         xlabel=\"Outside temperature (deg F)\",\n",
    "         title=\"Damage to O-Rings vs Temperature\")"
   ]
  },
  {
   "cell_type": "code",
   "execution_count": 14,
   "metadata": {},
   "outputs": [
    {
     "data": {
      "image/png": "[encoded data removed]",
      "text/plain": [
       "<Figure size 432x288 with 1 Axes>"
      ]
     },
     "metadata": {
      "needs_background": "light"
     },
     "output_type": "display_data"
    }
   ],
   "source": [
    "plot_data(data)"
   ]
  },
  {
   "cell_type": "markdown",
   "metadata": {},
   "source": [
    "When the outside temperature was below 65 degrees, there was always damage to the O-rings.  When the temperature was above 65 degrees, there was usually no damage.  \n",
    "\n",
    "Based on this figure, it seems plausible that the probability of damage is related to temperature.  If we assume this probability follows a logistic model, we can write:\n",
    "\n",
    "$ \\log O(H | x) = \\beta_0 + \\beta_1 x$\n",
    "\n",
    "where $H$ is the hypothesis that the O-rings will be damaged, $x$ is temperature, and $\\beta_0$ and $\\beta_1$ are the parameters we will estimate. \n",
    "\n",
    "For reasons I'll explain soon, I'll define $x$ to be temperature shifted by an offset so its mean is 0."
   ]
  },
  {
   "cell_type": "code",
   "execution_count": 15,
   "metadata": {},
   "outputs": [],
   "source": [
    "offset = data['Temperature'].mean()\n",
    "data['x'] = data['Temperature'] - offset"
   ]
  },
  {
   "cell_type": "markdown",
   "metadata": {},
   "source": [
    "Before doing a Bayesian update, I'll use `StatsModels` to run a conventional (non-Bayesian) logistic regression."
   ]
  },
  {
   "cell_type": "code",
   "execution_count": 16,
   "metadata": {},
   "outputs": [
    {
     "name": "stdout",
     "output_type": "stream",
     "text": [
      "Optimization terminated successfully.\n",
      "         Current function value: 0.441635\n",
      "         Iterations 6\n"
     ]
    },
    {
     "data": {
      "text/html": [
       "<table class=\"simpletable\">\n",
       "<caption>Logit Regression Results</caption>\n",
       "<tr>\n",
       "  <th>Dep. Variable:</th>           <td>y</td>        <th>  No. Observations:  </th>  <td>    23</td> \n",
       "</tr>\n",
       "<tr>\n",
       "  <th>Model:</th>                 <td>Logit</td>      <th>  Df Residuals:      </th>  <td>    21</td> \n",
       "</tr>\n",
       "<tr>\n",
       "  <th>Method:</th>                 <td>MLE</td>       <th>  Df Model:          </th>  <td>     1</td> \n",
       "</tr>\n",
       "<tr>\n",
       "  <th>Date:</th>            <td>Tue, 18 Aug 2020</td> <th>  Pseudo R-squ.:     </th>  <td>0.2813</td> \n",
       "</tr>\n",
       "<tr>\n",
       "  <th>Time:</th>                <td>16:11:01</td>     <th>  Log-Likelihood:    </th> <td> -10.158</td>\n",
       "</tr>\n",
       "<tr>\n",
       "  <th>converged:</th>             <td>True</td>       <th>  LL-Null:           </th> <td> -14.134</td>\n",
       "</tr>\n",
       "<tr>\n",
       "  <th>Covariance Type:</th>     <td>nonrobust</td>    <th>  LLR p-value:       </th> <td>0.004804</td>\n",
       "</tr>\n",
       "</table>\n",
       "<table class=\"simpletable\">\n",
       "<tr>\n",
       "      <td></td>         <th>coef</th>     <th>std err</th>      <th>z</th>      <th>P>|z|</th>  <th>[0.025</th>    <th>0.975]</th>  \n",
       "</tr>\n",
       "<tr>\n",
       "  <th>Intercept</th> <td>   -1.1076</td> <td>    0.580</td> <td>   -1.911</td> <td> 0.056</td> <td>   -2.244</td> <td>    0.028</td>\n",
       "</tr>\n",
       "<tr>\n",
       "  <th>x</th>         <td>   -0.2322</td> <td>    0.108</td> <td>   -2.145</td> <td> 0.032</td> <td>   -0.444</td> <td>   -0.020</td>\n",
       "</tr>\n",
       "</table>"
      ],
      "text/plain": [
       "<class 'statsmodels.iolib.summary.Summary'>\n",
       "\"\"\"\n",
       "                           Logit Regression Results                           \n",
       "==============================================================================\n",
       "Dep. Variable:                      y   No. Observations:                   23\n",
       "Model:                          Logit   Df Residuals:                       21\n",
       "Method:                           MLE   Df Model:                            1\n",
       "Date:                Tue, 18 Aug 2020   Pseudo R-squ.:                  0.2813\n",
       "Time:                        16:11:01   Log-Likelihood:                -10.158\n",
       "converged:                       True   LL-Null:                       -14.134\n",
       "Covariance Type:            nonrobust   LLR p-value:                  0.004804\n",
       "==============================================================================\n",
       "                 coef    std err          z      P>|z|      [0.025      0.975]\n",
       "------------------------------------------------------------------------------\n",
       "Intercept     -1.1076      0.580     -1.911      0.056      -2.244       0.028\n",
       "x             -0.2322      0.108     -2.145      0.032      -0.444      -0.020\n",
       "==============================================================================\n",
       "\"\"\""
      ]
     },
     "execution_count": 16,
     "metadata": {},
     "output_type": "execute_result"
    }
   ],
   "source": [
    "import statsmodels.formula.api as smf\n",
    "\n",
    "formula = 'y ~ x'\n",
    "results = smf.logit(formula, data=data).fit()\n",
    "results.summary()"
   ]
  },
  {
   "cell_type": "markdown",
   "metadata": {},
   "source": [
    "The result is a \"point estimate\" for the parameters, that is, a single value rather than a posterior distribution.\n",
    "\n",
    "To see what these parameters mean, I'll use them to compute probabilities for a range of temperatures."
   ]
  },
  {
   "cell_type": "code",
   "execution_count": 17,
   "metadata": {},
   "outputs": [],
   "source": [
    "inter = -1.1\n",
    "slope = -0.23\n",
    "xs = np.arange(53, 83) - offset"
   ]
  },
  {
   "cell_type": "markdown",
   "metadata": {},
   "source": [
    "We can use the logistic regression equation to compute log odds:"
   ]
  },
  {
   "cell_type": "code",
   "execution_count": 18,
   "metadata": {},
   "outputs": [],
   "source": [
    "log_odds = inter + slope * xs"
   ]
  },
  {
   "cell_type": "markdown",
   "metadata": {},
   "source": [
    "And then convert to probabilities."
   ]
  },
  {
   "cell_type": "code",
   "execution_count": 19,
   "metadata": {},
   "outputs": [
    {
     "data": {
      "text/plain": [
       "0.4153169290226892"
      ]
     },
     "execution_count": 19,
     "metadata": {},
     "output_type": "execute_result"
    }
   ],
   "source": [
    "odds = np.exp(log_odds)\n",
    "ps = odds / (odds + 1)\n",
    "ps.mean()"
   ]
  },
  {
   "cell_type": "markdown",
   "metadata": {},
   "source": [
    "But this operation common enough that it has a name, `expit`, and SciPy provides an implementation."
   ]
  },
  {
   "cell_type": "code",
   "execution_count": 20,
   "metadata": {},
   "outputs": [
    {
     "data": {
      "text/plain": [
       "0.4153169290226892"
      ]
     },
     "execution_count": 20,
     "metadata": {},
     "output_type": "execute_result"
    }
   ],
   "source": [
    "from scipy.special import expit\n",
    "\n",
    "ps = expit(inter + slope * xs)\n",
    "ps.mean()"
   ]
  },
  {
   "cell_type": "markdown",
   "metadata": {},
   "source": [
    "Here's what the logistic model looks like with these estimated parameters."
   ]
  },
  {
   "cell_type": "code",
   "execution_count": 21,
   "metadata": {},
   "outputs": [
    {
     "data": {
      "image/png": "[encoded data removed]",
      "text/plain": [
       "<Figure size 432x288 with 1 Axes>"
      ]
     },
     "metadata": {
      "needs_background": "light"
     },
     "output_type": "display_data"
    }
   ],
   "source": [
    "plt.plot(xs+offset, ps, color='C0', alpha=0.7)\n",
    "\n",
    "plot_data(data)"
   ]
  },
  {
   "cell_type": "markdown",
   "metadata": {},
   "source": [
    "At low temperatures, the probability of damage is high; at high temperatures, it drops off to near 0."
   ]
  },
  {
   "cell_type": "markdown",
   "metadata": {},
   "source": [
    "## Likelihood\n",
    "\n",
    "Now, to do a Bayesian update, we have to compute the likelihood function for possible pairs of parameter.  To demonstrate the process, let's assume temporarily that the estimated parameters are correct.\n",
    "I'll use the model to compute the probability of damage for each launch temperature in the dataset."
   ]
  },
  {
   "cell_type": "code",
   "execution_count": 22,
   "metadata": {},
   "outputs": [],
   "source": [
    "xs = data['x']\n",
    "ps = expit(inter + slope * xs)"
   ]
  },
  {
   "cell_type": "markdown",
   "metadata": {},
   "source": [
    "For each launch where damage was detected, the probability of that outcome was $p$, according to the model.  For each launch with no damage, the probability of that outcome was $1-p$.\n",
    "\n",
    "So we can use `np.where` to compute the probability of each point in the dataset."
   ]
  },
  {
   "cell_type": "code",
   "execution_count": 23,
   "metadata": {},
   "outputs": [
    {
     "data": {
      "text/plain": [
       "array([0.93761415, 0.85692728, 0.82635335, 0.60108788, 0.56954622,\n",
       "       0.62480647, 0.62480647, 0.62480647, 0.67699586, 0.7251195 ,\n",
       "       0.23147522, 0.76852478, 0.76852478, 0.23147522, 0.840238  ,\n",
       "       0.86875553, 0.91293423, 0.08706577, 0.92956327, 0.92956327,\n",
       "       0.95434883, 0.96338517, 0.97656933])"
      ]
     },
     "execution_count": 23,
     "metadata": {},
     "output_type": "execute_result"
    }
   ],
   "source": [
    "ys = data['y']\n",
    "likes = np.where(ys, ps, 1-ps)\n",
    "likes"
   ]
  },
  {
   "cell_type": "markdown",
   "metadata": {},
   "source": [
    "The result is an array of probabilities, one for each data point.\n",
    "The likelihood of the data is the product of this array."
   ]
  },
  {
   "cell_type": "code",
   "execution_count": 24,
   "metadata": {},
   "outputs": [
    {
     "data": {
      "text/plain": [
       "3.877150978524181e-05"
      ]
     },
     "execution_count": 24,
     "metadata": {},
     "output_type": "execute_result"
    }
   ],
   "source": [
    "likes.prod()"
   ]
  },
  {
   "cell_type": "markdown",
   "metadata": {},
   "source": [
    "That's how we compute the likelihood of the data for a particular pair of parameters.\n",
    "\n",
    "Now we need a prior distribution."
   ]
  },
  {
   "cell_type": "markdown",
   "metadata": {},
   "source": [
    "## Prior distribution\n",
    "\n",
    "I'll use uniform distributions for both parameters, using the point estimates from the previous section to help me locate the grid."
   ]
  },
  {
   "cell_type": "code",
   "execution_count": 25,
   "metadata": {},
   "outputs": [],
   "source": [
    "inters = np.linspace(-5, 1, 81)\n",
    "prior_inter = Pmf(1.0, inters)\n",
    "prior_inter.index.name = 'Intercept'"
   ]
  },
  {
   "cell_type": "code",
   "execution_count": 26,
   "metadata": {},
   "outputs": [],
   "source": [
    "slopes = np.linspace(-0.8, 0.1, 81)\n",
    "prior_slope = Pmf(1.0, slopes)\n",
    "prior_slope.index.name = 'Slope'"
   ]
  },
  {
   "cell_type": "markdown",
   "metadata": {},
   "source": [
    "We can use `make_joint` to construct the joint prior distribution."
   ]
  },
  {
   "cell_type": "code",
   "execution_count": 27,
   "metadata": {},
   "outputs": [
    {
     "data": {
      "text/html": [
       "<div>\n",
       "<style scoped>\n",
       "    .dataframe tbody tr th:only-of-type {\n",
       "        vertical-align: middle;\n",
       "    }\n",
       "\n",
       "    .dataframe tbody tr th {\n",
       "        vertical-align: top;\n",
       "    }\n",
       "\n",
       "    .dataframe thead th {\n",
       "        text-align: right;\n",
       "    }\n",
       "</style>\n",
       "<table border=\"1\" class=\"dataframe\">\n",
       "  <thead>\n",
       "    <tr style=\"text-align: right;\">\n",
       "      <th>Intercept</th>\n",
       "      <th>-5.000</th>\n",
       "      <th>-4.925</th>\n",
       "      <th>-4.850</th>\n",
       "      <th>-4.775</th>\n",
       "      <th>-4.700</th>\n",
       "      <th>-4.625</th>\n",
       "      <th>-4.550</th>\n",
       "      <th>-4.475</th>\n",
       "      <th>-4.400</th>\n",
       "      <th>-4.325</th>\n",
       "      <th>...</th>\n",
       "      <th>0.325</th>\n",
       "      <th>0.400</th>\n",
       "      <th>0.475</th>\n",
       "      <th>0.550</th>\n",
       "      <th>0.625</th>\n",
       "      <th>0.700</th>\n",
       "      <th>0.775</th>\n",
       "      <th>0.850</th>\n",
       "      <th>0.925</th>\n",
       "      <th>1.000</th>\n",
       "    </tr>\n",
       "    <tr>\n",
       "      <th>Slope</th>\n",
       "      <th></th>\n",
       "      <th></th>\n",
       "      <th></th>\n",
       "      <th></th>\n",
       "      <th></th>\n",
       "      <th></th>\n",
       "      <th></th>\n",
       "      <th></th>\n",
       "      <th></th>\n",
       "      <th></th>\n",
       "      <th></th>\n",
       "      <th></th>\n",
       "      <th></th>\n",
       "      <th></th>\n",
       "      <th></th>\n",
       "      <th></th>\n",
       "      <th></th>\n",
       "      <th></th>\n",
       "      <th></th>\n",
       "      <th></th>\n",
       "      <th></th>\n",
       "    </tr>\n",
       "  </thead>\n",
       "  <tbody>\n",
       "    <tr>\n",
       "      <th>-0.80000</th>\n",
       "      <td>1.0</td>\n",
       "      <td>1.0</td>\n",
       "      <td>1.0</td>\n",
       "      <td>1.0</td>\n",
       "      <td>1.0</td>\n",
       "      <td>1.0</td>\n",
       "      <td>1.0</td>\n",
       "      <td>1.0</td>\n",
       "      <td>1.0</td>\n",
       "      <td>1.0</td>\n",
       "      <td>...</td>\n",
       "      <td>1.0</td>\n",
       "      <td>1.0</td>\n",
       "      <td>1.0</td>\n",
       "      <td>1.0</td>\n",
       "      <td>1.0</td>\n",
       "      <td>1.0</td>\n",
       "      <td>1.0</td>\n",
       "      <td>1.0</td>\n",
       "      <td>1.0</td>\n",
       "      <td>1.0</td>\n",
       "    </tr>\n",
       "    <tr>\n",
       "      <th>-0.78875</th>\n",
       "      <td>1.0</td>\n",
       "      <td>1.0</td>\n",
       "      <td>1.0</td>\n",
       "      <td>1.0</td>\n",
       "      <td>1.0</td>\n",
       "      <td>1.0</td>\n",
       "      <td>1.0</td>\n",
       "      <td>1.0</td>\n",
       "      <td>1.0</td>\n",
       "      <td>1.0</td>\n",
       "      <td>...</td>\n",
       "      <td>1.0</td>\n",
       "      <td>1.0</td>\n",
       "      <td>1.0</td>\n",
       "      <td>1.0</td>\n",
       "      <td>1.0</td>\n",
       "      <td>1.0</td>\n",
       "      <td>1.0</td>\n",
       "      <td>1.0</td>\n",
       "      <td>1.0</td>\n",
       "      <td>1.0</td>\n",
       "    </tr>\n",
       "    <tr>\n",
       "      <th>-0.77750</th>\n",
       "      <td>1.0</td>\n",
       "      <td>1.0</td>\n",
       "      <td>1.0</td>\n",
       "      <td>1.0</td>\n",
       "      <td>1.0</td>\n",
       "      <td>1.0</td>\n",
       "      <td>1.0</td>\n",
       "      <td>1.0</td>\n",
       "      <td>1.0</td>\n",
       "      <td>1.0</td>\n",
       "      <td>...</td>\n",
       "      <td>1.0</td>\n",
       "      <td>1.0</td>\n",
       "      <td>1.0</td>\n",
       "      <td>1.0</td>\n",
       "      <td>1.0</td>\n",
       "      <td>1.0</td>\n",
       "      <td>1.0</td>\n",
       "      <td>1.0</td>\n",
       "      <td>1.0</td>\n",
       "      <td>1.0</td>\n",
       "    </tr>\n",
       "    <tr>\n",
       "      <th>-0.76625</th>\n",
       "      <td>1.0</td>\n",
       "      <td>1.0</td>\n",
       "      <td>1.0</td>\n",
       "      <td>1.0</td>\n",
       "      <td>1.0</td>\n",
       "      <td>1.0</td>\n",
       "      <td>1.0</td>\n",
       "      <td>1.0</td>\n",
       "      <td>1.0</td>\n",
       "      <td>1.0</td>\n",
       "      <td>...</td>\n",
       "      <td>1.0</td>\n",
       "      <td>1.0</td>\n",
       "      <td>1.0</td>\n",
       "      <td>1.0</td>\n",
       "      <td>1.0</td>\n",
       "      <td>1.0</td>\n",
       "      <td>1.0</td>\n",
       "      <td>1.0</td>\n",
       "      <td>1.0</td>\n",
       "      <td>1.0</td>\n",
       "    </tr>\n",
       "    <tr>\n",
       "      <th>-0.75500</th>\n",
       "      <td>1.0</td>\n",
       "      <td>1.0</td>\n",
       "      <td>1.0</td>\n",
       "      <td>1.0</td>\n",
       "      <td>1.0</td>\n",
       "      <td>1.0</td>\n",
       "      <td>1.0</td>\n",
       "      <td>1.0</td>\n",
       "      <td>1.0</td>\n",
       "      <td>1.0</td>\n",
       "      <td>...</td>\n",
       "      <td>1.0</td>\n",
       "      <td>1.0</td>\n",
       "      <td>1.0</td>\n",
       "      <td>1.0</td>\n",
       "      <td>1.0</td>\n",
       "      <td>1.0</td>\n",
       "      <td>1.0</td>\n",
       "      <td>1.0</td>\n",
       "      <td>1.0</td>\n",
       "      <td>1.0</td>\n",
       "    </tr>\n",
       "  </tbody>\n",
       "</table>\n",
       "<p>5 rows × 81 columns</p>\n",
       "</div>"
      ],
      "text/plain": [
       "Intercept  -5.000  -4.925  -4.850  -4.775  -4.700  -4.625  -4.550  -4.475  \\\n",
       "Slope                                                                       \n",
       "-0.80000      1.0     1.0     1.0     1.0     1.0     1.0     1.0     1.0   \n",
       "-0.78875      1.0     1.0     1.0     1.0     1.0     1.0     1.0     1.0   \n",
       "-0.77750      1.0     1.0     1.0     1.0     1.0     1.0     1.0     1.0   \n",
       "-0.76625      1.0     1.0     1.0     1.0     1.0     1.0     1.0     1.0   \n",
       "-0.75500      1.0     1.0     1.0     1.0     1.0     1.0     1.0     1.0   \n",
       "\n",
       "Intercept  -4.400  -4.325  ...   0.325   0.400   0.475   0.550   0.625  \\\n",
       "Slope                      ...                                           \n",
       "-0.80000      1.0     1.0  ...     1.0     1.0     1.0     1.0     1.0   \n",
       "-0.78875      1.0     1.0  ...     1.0     1.0     1.0     1.0     1.0   \n",
       "-0.77750      1.0     1.0  ...     1.0     1.0     1.0     1.0     1.0   \n",
       "-0.76625      1.0     1.0  ...     1.0     1.0     1.0     1.0     1.0   \n",
       "-0.75500      1.0     1.0  ...     1.0     1.0     1.0     1.0     1.0   \n",
       "\n",
       "Intercept   0.700   0.775   0.850   0.925   1.000  \n",
       "Slope                                              \n",
       "-0.80000      1.0     1.0     1.0     1.0     1.0  \n",
       "-0.78875      1.0     1.0     1.0     1.0     1.0  \n",
       "-0.77750      1.0     1.0     1.0     1.0     1.0  \n",
       "-0.76625      1.0     1.0     1.0     1.0     1.0  \n",
       "-0.75500      1.0     1.0     1.0     1.0     1.0  \n",
       "\n",
       "[5 rows x 81 columns]"
      ]
     },
     "execution_count": 27,
     "metadata": {},
     "output_type": "execute_result"
    }
   ],
   "source": [
    "from utils import make_joint\n",
    "\n",
    "joint = make_joint(prior_inter, prior_slope)\n",
    "joint.head()"
   ]
  },
  {
   "cell_type": "markdown",
   "metadata": {},
   "source": [
    "The values of `slope` run down the rows; the values of `intercept` run across the columns.\n",
    "\n",
    "For this problem, it will be convenient to \"stack\" the prior so the parameters are levels in a `MultiIndex`. "
   ]
  },
  {
   "cell_type": "code",
   "execution_count": 28,
   "metadata": {
    "scrolled": true
   },
   "outputs": [
    {
     "data": {
      "text/plain": [
       "Slope  Intercept\n",
       "-0.8   -5.000       1.0\n",
       "       -4.925       1.0\n",
       "       -4.850       1.0\n",
       "       -4.775       1.0\n",
       "       -4.700       1.0\n",
       "dtype: float64"
      ]
     },
     "execution_count": 28,
     "metadata": {},
     "output_type": "execute_result"
    }
   ],
   "source": [
    "joint_pmf = Pmf(joint.stack())\n",
    "joint_pmf.head()"
   ]
  },
  {
   "cell_type": "markdown",
   "metadata": {},
   "source": [
    "`joint_pmf` is a `Pmf` with two levels in the index, one for each parameter.  That makes it easy to loop through possible pairs of parameters, as in this likelihood function."
   ]
  },
  {
   "cell_type": "code",
   "execution_count": 29,
   "metadata": {},
   "outputs": [],
   "source": [
    "def likelihood_logistic(joint_pmf, data):\n",
    "    \"\"\"Likelihood of the data for each pair of parameters.\n",
    "    \n",
    "    joint_pmf: Pmf with a two-level index\n",
    "    data: DataFrame with columns `x` and `y`\n",
    "    \n",
    "    returns: DataFrame, same shape as joint_pmf\n",
    "    \"\"\"\n",
    "    likelihood = joint_pmf.copy()\n",
    "\n",
    "    ys = data['y']\n",
    "    xs = data['x']\n",
    "\n",
    "    for slope, inter in joint_pmf.index:\n",
    "        ps = expit(inter + slope * xs)\n",
    "        likes = np.where(ys, ps, 1-ps)\n",
    "        likelihood.loc[slope, inter] = likes.prod()\n",
    "        \n",
    "    return likelihood"
   ]
  },
  {
   "cell_type": "markdown",
   "metadata": {},
   "source": [
    "The loop iterates through the parameters.  For each possible pair, it uses the logistic model to compute `ps`, then computes the likelihood of the data.\n",
    "\n",
    "The last line of the loop uses `loc` to assign the result to the right row in `likelihood`.  Here's how we use this function:"
   ]
  },
  {
   "cell_type": "code",
   "execution_count": 30,
   "metadata": {},
   "outputs": [
    {
     "data": {
      "text/plain": [
       "0.01909128046093766"
      ]
     },
     "execution_count": 30,
     "metadata": {},
     "output_type": "execute_result"
    }
   ],
   "source": [
    "likelihood = likelihood_logistic(joint_pmf, data)\n",
    "likelihood.sum()"
   ]
  },
  {
   "cell_type": "markdown",
   "metadata": {},
   "source": [
    "The result is a `Pmf` with the same shape and index as `joint_pmf`, so we can compute the posterior distribution in the usual way."
   ]
  },
  {
   "cell_type": "code",
   "execution_count": 31,
   "metadata": {},
   "outputs": [
    {
     "data": {
      "text/plain": [
       "0.01909128046093766"
      ]
     },
     "execution_count": 31,
     "metadata": {},
     "output_type": "execute_result"
    }
   ],
   "source": [
    "posterior_pmf = joint_pmf * likelihood\n",
    "posterior_pmf.normalize()"
   ]
  },
  {
   "cell_type": "markdown",
   "metadata": {},
   "source": [
    "Because we used a uniform prior, the parameter pair with the highest likelihood is also the pair with maximum posterior probability:"
   ]
  },
  {
   "cell_type": "code",
   "execution_count": 32,
   "metadata": {},
   "outputs": [
    {
     "data": {
      "text/plain": [
       "(-0.22625000000000006, -1.1)"
      ]
     },
     "execution_count": 32,
     "metadata": {},
     "output_type": "execute_result"
    }
   ],
   "source": [
    "posterior_pmf.max_prob()"
   ]
  },
  {
   "cell_type": "markdown",
   "metadata": {},
   "source": [
    "So we can confirm that the results of the Bayesian update are consistent with the maximum likelihood estimate computed by StatsModels, within the precision of the grid we're using."
   ]
  },
  {
   "cell_type": "code",
   "execution_count": 33,
   "metadata": {},
   "outputs": [
    {
     "data": {
      "text/plain": [
       "Intercept   -1.107550\n",
       "x           -0.232163\n",
       "dtype: float64"
      ]
     },
     "execution_count": 33,
     "metadata": {},
     "output_type": "execute_result"
    }
   ],
   "source": [
    "results.params"
   ]
  },
  {
   "cell_type": "markdown",
   "metadata": {},
   "source": [
    "If we unstack the posterior `Pmf` we can make a contour plot of the joint posterior distribution."
   ]
  },
  {
   "cell_type": "code",
   "execution_count": 34,
   "metadata": {},
   "outputs": [
    {
     "data": {
      "image/png": "[encoded data removed]",
      "text/plain": [
       "<Figure size 432x288 with 1 Axes>"
      ]
     },
     "metadata": {
      "needs_background": "light"
     },
     "output_type": "display_data"
    }
   ],
   "source": [
    "from utils import plot_contour\n",
    "\n",
    "joint_posterior = posterior_pmf.unstack()\n",
    "plot_contour(joint_posterior)\n",
    "decorate(title='Joint posterior distribution')"
   ]
  },
  {
   "cell_type": "markdown",
   "metadata": {},
   "source": [
    "The ovals in the contour plot are aligned along a diagonal, which indicates that there is some correlation between `slope` and `inter` in the posterior distribution.\n",
    "\n",
    "But the correlation is weak, which is one of the reasons I defined `x` to be 0 when temperature is 70 degrees F; centering the data minimizes the correlation between the parameters.\n",
    "\n",
    "To see why this matters, go back and set `offset=0` and run this analysis again.  You'll have to adjust the prior distribution of `intercept`.\n",
    "\n",
    "The contours you get will be elongated, indicating strong correlation between the estimated parameters.  This correlation is not a problem in theory, but in practice it makes grid algorithms less effective because it reduces the precision of the estimates."
   ]
  },
  {
   "cell_type": "markdown",
   "metadata": {},
   "source": [
    "Finally, we can extract the posterior marginal distributions:"
   ]
  },
  {
   "cell_type": "code",
   "execution_count": 35,
   "metadata": {},
   "outputs": [
    {
     "data": {
      "image/png": "[encoded data removed]",
      "text/plain": [
       "<Figure size 432x288 with 1 Axes>"
      ]
     },
     "metadata": {
      "needs_background": "light"
     },
     "output_type": "display_data"
    }
   ],
   "source": [
    "from utils import marginal\n",
    "\n",
    "marginal_inter = marginal(joint_posterior, 0)\n",
    "marginal_inter.plot()\n",
    "\n",
    "decorate(xlabel='Intercept',\n",
    "         ylabel='PDF',\n",
    "         title='Posterior marginal distribution of intercept')"
   ]
  },
  {
   "cell_type": "code",
   "execution_count": 36,
   "metadata": {},
   "outputs": [
    {
     "data": {
      "image/png": "[encoded data removed]",
      "text/plain": [
       "<Figure size 432x288 with 1 Axes>"
      ]
     },
     "metadata": {
      "needs_background": "light"
     },
     "output_type": "display_data"
    }
   ],
   "source": [
    "marginal_slope = marginal(joint_posterior, 1)\n",
    "marginal_slope.plot()\n",
    "\n",
    "decorate(xlabel='Slope',\n",
    "         ylabel='PDF',\n",
    "         title='Posterior marginal distribution of slope')"
   ]
  },
  {
   "cell_type": "markdown",
   "metadata": {},
   "source": [
    "And compute posterior means."
   ]
  },
  {
   "cell_type": "code",
   "execution_count": 37,
   "metadata": {},
   "outputs": [
    {
     "data": {
      "text/plain": [
       "(-1.2501932310945527, -0.2898114264818337)"
      ]
     },
     "execution_count": 37,
     "metadata": {},
     "output_type": "execute_result"
    }
   ],
   "source": [
    "marginal_inter.mean(), marginal_slope.mean()"
   ]
  },
  {
   "cell_type": "code",
   "execution_count": 38,
   "metadata": {},
   "outputs": [
    {
     "data": {
      "text/plain": [
       "Intercept   -1.107550\n",
       "x           -0.232163\n",
       "dtype: float64"
      ]
     },
     "execution_count": 38,
     "metadata": {},
     "output_type": "execute_result"
    }
   ],
   "source": [
    "results.params"
   ]
  },
  {
   "cell_type": "markdown",
   "metadata": {},
   "source": [
    "Both marginal distributions are moderately skewed, so the posterior means are somewhat different from the most likely values."
   ]
  },
  {
   "cell_type": "markdown",
   "metadata": {},
   "source": [
    "## Transforming distributions"
   ]
  },
  {
   "cell_type": "markdown",
   "metadata": {},
   "source": [
    "Let's interpret these parameters.  Recall that the intercept is the log odds of the hypothesis when $x$ is 0, which is when temperature is about 70 degrees F."
   ]
  },
  {
   "cell_type": "code",
   "execution_count": 39,
   "metadata": {},
   "outputs": [
    {
     "data": {
      "text/plain": [
       "69.56521739130434"
      ]
     },
     "execution_count": 39,
     "metadata": {},
     "output_type": "execute_result"
    }
   ],
   "source": [
    "offset"
   ]
  },
  {
   "cell_type": "markdown",
   "metadata": {},
   "source": [
    "To convert from log odds to probabilities, I'll use the following function, which transforms the quantities in a `Pmf` by applying a function:"
   ]
  },
  {
   "cell_type": "code",
   "execution_count": 40,
   "metadata": {},
   "outputs": [],
   "source": [
    "def transform(pmf, func):\n",
    "    \"\"\"Transform the quantities in a Pmf.\n",
    "    \n",
    "    pmf: Pmf object\n",
    "    func: function object\n",
    "    \n",
    "    returns: Pmf\n",
    "    \"\"\"\n",
    "    ps = pmf.ps\n",
    "    qs = func(pmf.qs)\n",
    "    return Pmf(ps, qs)"
   ]
  },
  {
   "cell_type": "markdown",
   "metadata": {},
   "source": [
    "If we call `transform` and pass `expit` as a parameter, it tranforms the log odds in `marginal_inter` into probabilities and returns a marginal posterior distribution of probabilities."
   ]
  },
  {
   "cell_type": "code",
   "execution_count": 41,
   "metadata": {},
   "outputs": [],
   "source": [
    "marginal_probs = transform(marginal_inter, expit)"
   ]
  },
  {
   "cell_type": "markdown",
   "metadata": {},
   "source": [
    "Here's the posterior distribution for the probability of damage at 70 degrees F."
   ]
  },
  {
   "cell_type": "code",
   "execution_count": 42,
   "metadata": {},
   "outputs": [
    {
     "data": {
      "image/png": "[encoded data removed]",
      "text/plain": [
       "<Figure size 432x288 with 1 Axes>"
      ]
     },
     "metadata": {
      "needs_background": "light"
     },
     "output_type": "display_data"
    }
   ],
   "source": [
    "marginal_probs.plot()\n",
    "\n",
    "decorate(xlabel='Probability of damage at 70 deg F',\n",
    "         ylabel='PDF',\n",
    "         title='Posterior marginal distribution of probabilities')"
   ]
  },
  {
   "cell_type": "markdown",
   "metadata": {},
   "source": [
    "The mean of this distribution is about 24%, which is the probability of damage at 70 degrees F, according to the model."
   ]
  },
  {
   "cell_type": "code",
   "execution_count": 43,
   "metadata": {},
   "outputs": [
    {
     "data": {
      "text/plain": [
       "0.2401076083271988"
      ]
     },
     "execution_count": 43,
     "metadata": {},
     "output_type": "execute_result"
    }
   ],
   "source": [
    "marginal_probs.mean()"
   ]
  },
  {
   "cell_type": "markdown",
   "metadata": {},
   "source": [
    "This result shows the second reason I defined `x` to be zero when temperature is 70 degrees F; that way, the intercept corresponds to the probability of damage at a relevant temperature, rather than 0 degrees F."
   ]
  },
  {
   "cell_type": "markdown",
   "metadata": {},
   "source": [
    "Now let's look more closely at the estimated slope.  In the logistic model, the parameter $\\beta_1$ is the log of the likelihood ratio.  So we can use `exp` to transform the marginal distribution of slope into the marginal distribution of likelihood ratio."
   ]
  },
  {
   "cell_type": "code",
   "execution_count": 44,
   "metadata": {},
   "outputs": [],
   "source": [
    "marginal_lr = transform(marginal_slope, np.exp)"
   ]
  },
  {
   "cell_type": "markdown",
   "metadata": {},
   "source": [
    "Here's what it looks like."
   ]
  },
  {
   "cell_type": "code",
   "execution_count": 45,
   "metadata": {},
   "outputs": [
    {
     "data": {
      "image/png": "[encoded data removed]",
      "text/plain": [
       "<Figure size 432x288 with 1 Axes>"
      ]
     },
     "metadata": {
      "needs_background": "light"
     },
     "output_type": "display_data"
    }
   ],
   "source": [
    "marginal_lr.plot()\n",
    "\n",
    "decorate(xlabel='Likelihood ratio of 1 deg F',\n",
    "         ylabel='PDF',\n",
    "         title='Posterior marginal distribution of likelihood ratios')"
   ]
  },
  {
   "cell_type": "markdown",
   "metadata": {},
   "source": [
    "The mean of this distribution is about 0.75:"
   ]
  },
  {
   "cell_type": "code",
   "execution_count": 46,
   "metadata": {},
   "outputs": [
    {
     "data": {
      "text/plain": [
       "0.7542817300991325"
      ]
     },
     "execution_count": 46,
     "metadata": {},
     "output_type": "execute_result"
    }
   ],
   "source": [
    "mean_lr = marginal_lr.mean()\n",
    "mean_lr"
   ]
  },
  {
   "cell_type": "markdown",
   "metadata": {},
   "source": [
    "Which means that each additional degree Fahrenheit provides evidence against the possibility of damage, with a likelihood ratio (Bayes factor) of 0.75."
   ]
  },
  {
   "cell_type": "markdown",
   "metadata": {},
   "source": [
    "In this section:\n",
    "\n",
    "* I computed the posterior mean of the probability of damage at 70 deg F by transforming the marginal distribution of the intercept to the marginal distribution of probability, and then computing the mean.\n",
    "\n",
    "* I computed the posterior mean of the likelihood ratio by transforming the marginal distribution of slope to the marginal distribution of likelihood ratios, and then computing the mean.\n",
    "\n",
    "This is the correct order of operations, as opposed to computing the posterior means first and then transforming them.  \n",
    "\n",
    "\n",
    "**Exercise:** To see the difference, compute both values the other way around; that is: \n",
    "\n",
    "* Compute the posterior mean of the intercept and then transform it to a probability.\n",
    "\n",
    "* Compute the posterior mean of the slope and then transform it to a likelihood ratio.\n",
    "\n",
    "In this example, the difference is not huge, but it is a difference.  As a general rule, transform first, before computing summary statistics."
   ]
  },
  {
   "cell_type": "code",
   "execution_count": 47,
   "metadata": {},
   "outputs": [
    {
     "data": {
      "text/plain": [
       "0.2226666913901625"
      ]
     },
     "execution_count": 47,
     "metadata": {},
     "output_type": "execute_result"
    }
   ],
   "source": [
    "# Solution\n",
    "\n",
    "expit(marginal_inter.mean())"
   ]
  },
  {
   "cell_type": "code",
   "execution_count": 48,
   "metadata": {},
   "outputs": [
    {
     "data": {
      "text/plain": [
       "0.7484046835769711"
      ]
     },
     "execution_count": 48,
     "metadata": {},
     "output_type": "execute_result"
    }
   ],
   "source": [
    "# Solution\n",
    "\n",
    "np.exp(marginal_slope.mean())"
   ]
  },
  {
   "cell_type": "markdown",
   "metadata": {},
   "source": [
    "## Predictive distributions\n",
    "\n",
    "In the logistic model, the parameters are interpretable, at least after transformation.  But often what we care about are predictions, not parameters.  In the Space Shuttle problem, the most important prediction is, \"What is the probability of O-ring damage if the external temperature is 31 degrees F?\"\n",
    "\n",
    "To make that prediction, I'll draw a sample of parameter pairs from the posterior distribution."
   ]
  },
  {
   "cell_type": "code",
   "execution_count": 49,
   "metadata": {},
   "outputs": [
    {
     "data": {
      "text/plain": [
       "(101,)"
      ]
     },
     "execution_count": 49,
     "metadata": {},
     "output_type": "execute_result"
    }
   ],
   "source": [
    "sample = posterior_pmf.sample(101)\n",
    "sample.shape"
   ]
  },
  {
   "cell_type": "code",
   "execution_count": 50,
   "metadata": {},
   "outputs": [
    {
     "data": {
      "text/plain": [
       "dtype('O')"
      ]
     },
     "execution_count": 50,
     "metadata": {},
     "output_type": "execute_result"
    }
   ],
   "source": [
    "sample.dtype"
   ]
  },
  {
   "cell_type": "code",
   "execution_count": 51,
   "metadata": {},
   "outputs": [
    {
     "data": {
      "text/plain": [
       "tuple"
      ]
     },
     "execution_count": 51,
     "metadata": {},
     "output_type": "execute_result"
    }
   ],
   "source": [
    "type(sample[0])"
   ]
  },
  {
   "cell_type": "markdown",
   "metadata": {},
   "source": [
    "The result is an array of 101 tuples, each representing a possible pair of parameters."
   ]
  },
  {
   "cell_type": "markdown",
   "metadata": {},
   "source": [
    "To generate predictions, I'll use a range of temperatures from 31 degrees F, the temperature when the Challenger launched, to 82 degrees F, the highest observed temperature."
   ]
  },
  {
   "cell_type": "code",
   "execution_count": 52,
   "metadata": {},
   "outputs": [],
   "source": [
    "temps = np.arange(31, 83)\n",
    "xs = temps - offset"
   ]
  },
  {
   "cell_type": "markdown",
   "metadata": {},
   "source": [
    "The following loop uses this range of `xs` and the sample of parameters to construct an array of predicted probabilities."
   ]
  },
  {
   "cell_type": "code",
   "execution_count": 53,
   "metadata": {},
   "outputs": [],
   "source": [
    "pred = np.empty((len(sample), len(xs)))\n",
    "\n",
    "for i, (slope, inter) in enumerate(sample):\n",
    "    pred[i] = expit(inter + slope * xs)"
   ]
  },
  {
   "cell_type": "markdown",
   "metadata": {},
   "source": [
    "The result has one column for each value in `xs` and one row for each element of `sample`.  To get a quick sense of what the predictions look like, we can loop through the rows and plot them."
   ]
  },
  {
   "cell_type": "code",
   "execution_count": 54,
   "metadata": {},
   "outputs": [
    {
     "data": {
      "image/png": "[encoded data removed]",
      "text/plain": [
       "<Figure size 432x288 with 1 Axes>"
      ]
     },
     "metadata": {
      "needs_background": "light"
     },
     "output_type": "display_data"
    }
   ],
   "source": [
    "for ps in pred:\n",
    "    plt.plot(temps, ps, color='gray', alpha=0.1)\n",
    "    \n",
    "plot_data(data)"
   ]
  },
  {
   "cell_type": "markdown",
   "metadata": {},
   "source": [
    "The overlapping lines in this figure give a sense of the most likely value at each temperature and the degree of uncertainty.\n",
    "\n",
    "To quantify the central tendency, we can compute the median in each column, and to quantify the uncertainty, we can compute a 90% credible interval.\n",
    "\n",
    "`np.percentile` computes the given percentiles; with the argument `axis=0`, it computes those percentiles in each column."
   ]
  },
  {
   "cell_type": "code",
   "execution_count": 55,
   "metadata": {},
   "outputs": [
    {
     "data": {
      "text/plain": [
       "(52,)"
      ]
     },
     "execution_count": 55,
     "metadata": {},
     "output_type": "execute_result"
    }
   ],
   "source": [
    "low, median, high = np.percentile(pred, [5, 50, 95], axis=0)\n",
    "median.shape"
   ]
  },
  {
   "cell_type": "markdown",
   "metadata": {},
   "source": [
    "The result is three arrays contains predicted probabilities for the lower bound of the 90% CI, the median, and the upper bound of the CI.\n",
    "\n",
    "Here's what they look like:"
   ]
  },
  {
   "cell_type": "code",
   "execution_count": 56,
   "metadata": {},
   "outputs": [
    {
     "data": {
      "image/png": "[encoded data removed]",
      "text/plain": [
       "<Figure size 432x288 with 1 Axes>"
      ]
     },
     "metadata": {
      "needs_background": "light"
     },
     "output_type": "display_data"
    }
   ],
   "source": [
    "plt.fill_between(temps, low, high, alpha=0.1)\n",
    "plt.plot(temps, median, color='C0')\n",
    "\n",
    "plot_data(data)"
   ]
  },
  {
   "cell_type": "markdown",
   "metadata": {},
   "source": [
    "According to these results, the probability of damage to the O-rings at 80 degrees F is near 2%, but there is some uncertainty about that prediction; the upper bound of the CI is about 12%."
   ]
  },
  {
   "cell_type": "code",
   "execution_count": 57,
   "metadata": {},
   "outputs": [],
   "source": [
    "low = pd.Series(low, temps)\n",
    "median = pd.Series(median, temps)\n",
    "high = pd.Series(high, temps)"
   ]
  },
  {
   "cell_type": "code",
   "execution_count": 58,
   "metadata": {},
   "outputs": [
    {
     "data": {
      "text/plain": [
       "(0.017719391907447632, 0.00028865201558467523, 0.16631715343259856)"
      ]
     },
     "execution_count": 58,
     "metadata": {},
     "output_type": "execute_result"
    }
   ],
   "source": [
    "t = 80\n",
    "median[t], low[t], high[t]"
   ]
  },
  {
   "cell_type": "markdown",
   "metadata": {},
   "source": [
    "At 60 degrees, the probability of damage is near 78%, but the CI is even wider, from 47% to 97%."
   ]
  },
  {
   "cell_type": "code",
   "execution_count": 59,
   "metadata": {},
   "outputs": [
    {
     "data": {
      "text/plain": [
       "(0.7652213061853127, 0.3658644089891995, 0.9792742486820584)"
      ]
     },
     "execution_count": 59,
     "metadata": {},
     "output_type": "execute_result"
    }
   ],
   "source": [
    "t = 60\n",
    "median[t], low[t], high[t]"
   ]
  },
  {
   "cell_type": "markdown",
   "metadata": {},
   "source": [
    "But the primary goal of the model is to predict the probability of damage at 31 degrees F, and the answer is at least 95%, and more likely to be more than 99.9%."
   ]
  },
  {
   "cell_type": "code",
   "execution_count": 60,
   "metadata": {},
   "outputs": [
    {
     "data": {
      "text/plain": [
       "(0.9998337674369968, 0.8435941643545714, 0.9999999970274887)"
      ]
     },
     "execution_count": 60,
     "metadata": {},
     "output_type": "execute_result"
    }
   ],
   "source": [
    "t = 31\n",
    "median[t], low[t], high[t]"
   ]
  },
  {
   "cell_type": "markdown",
   "metadata": {},
   "source": [
    "One conclusion we might draw from these results is this:  If the people responsible for the Challenger launch had taken into account all of the data, and not just the seven damage incidents, they could have predicted that the probability of damage at 31 degrees F was nearly certain.  If they had, it seems likely they would have postponed the launch.\n",
    "\n",
    "At the same time if they considered the previous figure, they might have realized that the model makes predictions that extend far beyond the data.  When we extrapolate like that, we have to remember not just the uncertainty quantified by the model, which we expressed as a credible interval; we also have to consider the possibility that the model itself is unreliable.\n",
    "\n",
    "This example is based on a logistic model, which assumes that each additional degree of temperature contributes the same amount of evidence in favor of (or against) the possibility of damage.  Within a narrow range of temperatures, that might be a reasonable assumption, especially if it is supported by data.  But over a wider range, and beyond the bounds of the data, reality has no obligation to stick to the model."
   ]
  },
  {
   "cell_type": "markdown",
   "metadata": {},
   "source": [
    "## Generational Changes\n",
    "\n",
    "As a second example of logistic regression, we'll use data from the [General Social Survey](https://gss.norc.org/) (GSS) to describe generational changes in support for legalization of marijuana.\n",
    "\n",
    "Since 1972 the GSS has surveyed a representative sample of adults in the U.S., asking about issues like \"national spending priorities, crime and punishment, intergroup relations, and confidence in institutions\".\n",
    "\n",
    "I have selected a subset of the GSS data, resampled it to correct for stratified sampling, and made the results available in an HDF file."
   ]
  },
  {
   "cell_type": "code",
   "execution_count": 61,
   "metadata": {},
   "outputs": [],
   "source": [
    "# Load the data file\n",
    "\n",
    "import os\n",
    "\n",
    "datafile = 'gss_eda.hdf5'\n",
    "if not os.path.exists(datafile):\n",
    "    !wget https://github.com/AllenDowney/ThinkBayes2/raw/master/data/gss_eda.hdf5"
   ]
  },
  {
   "cell_type": "markdown",
   "metadata": {},
   "source": [
    "We can use Pandas to load the data."
   ]
  },
  {
   "cell_type": "code",
   "execution_count": 62,
   "metadata": {},
   "outputs": [
    {
     "data": {
      "text/plain": [
       "(64814, 169)"
      ]
     },
     "execution_count": 62,
     "metadata": {},
     "output_type": "execute_result"
    }
   ],
   "source": [
    "gss = pd.read_hdf(datafile, 'gss')\n",
    "gss.shape"
   ]
  },
  {
   "cell_type": "markdown",
   "metadata": {},
   "source": [
    "The result is a `DataFrame` with one row for each respondent and one column for each variable.\n",
    "\n",
    "The primary variable we'll explore is `grass`, which encodes each respondent's answer to this question ([details here](https://gssdataexplorer.norc.org/variables/285/vshow)):\n",
    "\n",
    "> \"Do you think the use of marijuana should be made legal or not?\"\n",
    "\n",
    "This question was asked during most years of the survey starting in 1973, so it provides a useful view of changes in attitudes over almost 50 years.\n",
    "\n",
    "Here are is the distributions of responses:"
   ]
  },
  {
   "cell_type": "code",
   "execution_count": 63,
   "metadata": {},
   "outputs": [
    {
     "data": {
      "text/plain": [
       "NaN    27268\n",
       "2.0    25662\n",
       "1.0    11884\n",
       "Name: grass, dtype: int64"
      ]
     },
     "execution_count": 63,
     "metadata": {},
     "output_type": "execute_result"
    }
   ],
   "source": [
    "gss['grass'].value_counts(dropna=False)"
   ]
  },
  {
   "cell_type": "markdown",
   "metadata": {},
   "source": [
    "The value 1.0 represents \"yes\"; 2.0 represents \"no\"; `NaN` represents a small number of respondents who did not respond or said \"I don't know\", and a larger number who were randomly not asked the question.\n",
    "\n",
    "To explore generational changes in the responses, we will look at the level of support for legalization as a function of birth year, which is encoded in a variable called `cohort`.  Here's a description of this variable."
   ]
  },
  {
   "cell_type": "code",
   "execution_count": 64,
   "metadata": {},
   "outputs": [
    {
     "data": {
      "text/plain": [
       "count    64586.000000\n",
       "mean      1948.846069\n",
       "std         21.262659\n",
       "min       1883.000000\n",
       "25%       1934.000000\n",
       "50%       1951.000000\n",
       "75%       1964.000000\n",
       "max       2000.000000\n",
       "Name: cohort, dtype: float64"
      ]
     },
     "execution_count": 64,
     "metadata": {},
     "output_type": "execute_result"
    }
   ],
   "source": [
    "gss['cohort'].describe()"
   ]
  },
  {
   "cell_type": "markdown",
   "metadata": {},
   "source": [
    "The oldest GSS respondent was born in 1883; the youngest was born in 2000.\n",
    "\n",
    "Before we analyze this data, I will select the subset of respondents with valid data for `grass` and `cohort`:"
   ]
  },
  {
   "cell_type": "code",
   "execution_count": 65,
   "metadata": {},
   "outputs": [
    {
     "data": {
      "text/plain": [
       "(37427, 169)"
      ]
     },
     "execution_count": 65,
     "metadata": {},
     "output_type": "execute_result"
    }
   ],
   "source": [
    "valid = gss.dropna(subset=['grass', 'cohort']).copy()\n",
    "valid.shape"
   ]
  },
  {
   "cell_type": "markdown",
   "metadata": {},
   "source": [
    "There are about 37,000 respondents with the data we need.\n",
    "\n",
    "I'll recode the values of `grass` so `1` means yes and `0` means no."
   ]
  },
  {
   "cell_type": "code",
   "execution_count": 66,
   "metadata": {},
   "outputs": [
    {
     "data": {
      "text/plain": [
       "0.0    25572\n",
       "1.0    11855\n",
       "Name: y, dtype: int64"
      ]
     },
     "execution_count": 66,
     "metadata": {},
     "output_type": "execute_result"
    }
   ],
   "source": [
    "valid['y'] = valid['grass'].replace(2, 0)\n",
    "valid['y'].value_counts()"
   ]
  },
  {
   "cell_type": "markdown",
   "metadata": {},
   "source": [
    "Now, for this problem, I'm going to represent the data in a different format.  Rather than one row for each respondent, I am going to group the respondents by birth year and record the number of respondents in each group, `count`, and the number who support legalization, `sum`."
   ]
  },
  {
   "cell_type": "code",
   "execution_count": 67,
   "metadata": {},
   "outputs": [
    {
     "data": {
      "text/html": [
       "<div>\n",
       "<style scoped>\n",
       "    .dataframe tbody tr th:only-of-type {\n",
       "        vertical-align: middle;\n",
       "    }\n",
       "\n",
       "    .dataframe tbody tr th {\n",
       "        vertical-align: top;\n",
       "    }\n",
       "\n",
       "    .dataframe thead th {\n",
       "        text-align: right;\n",
       "    }\n",
       "</style>\n",
       "<table border=\"1\" class=\"dataframe\">\n",
       "  <thead>\n",
       "    <tr style=\"text-align: right;\">\n",
       "      <th></th>\n",
       "      <th>sum</th>\n",
       "      <th>count</th>\n",
       "    </tr>\n",
       "    <tr>\n",
       "      <th>cohort</th>\n",
       "      <th></th>\n",
       "      <th></th>\n",
       "    </tr>\n",
       "  </thead>\n",
       "  <tbody>\n",
       "    <tr>\n",
       "      <th>1884.0</th>\n",
       "      <td>0.0</td>\n",
       "      <td>1</td>\n",
       "    </tr>\n",
       "    <tr>\n",
       "      <th>1886.0</th>\n",
       "      <td>0.0</td>\n",
       "      <td>3</td>\n",
       "    </tr>\n",
       "    <tr>\n",
       "      <th>1887.0</th>\n",
       "      <td>1.0</td>\n",
       "      <td>9</td>\n",
       "    </tr>\n",
       "    <tr>\n",
       "      <th>1888.0</th>\n",
       "      <td>0.0</td>\n",
       "      <td>3</td>\n",
       "    </tr>\n",
       "    <tr>\n",
       "      <th>1889.0</th>\n",
       "      <td>1.0</td>\n",
       "      <td>14</td>\n",
       "    </tr>\n",
       "    <tr>\n",
       "      <th>...</th>\n",
       "      <td>...</td>\n",
       "      <td>...</td>\n",
       "    </tr>\n",
       "    <tr>\n",
       "      <th>1996.0</th>\n",
       "      <td>40.0</td>\n",
       "      <td>47</td>\n",
       "    </tr>\n",
       "    <tr>\n",
       "      <th>1997.0</th>\n",
       "      <td>28.0</td>\n",
       "      <td>41</td>\n",
       "    </tr>\n",
       "    <tr>\n",
       "      <th>1998.0</th>\n",
       "      <td>11.0</td>\n",
       "      <td>17</td>\n",
       "    </tr>\n",
       "    <tr>\n",
       "      <th>1999.0</th>\n",
       "      <td>13.0</td>\n",
       "      <td>17</td>\n",
       "    </tr>\n",
       "    <tr>\n",
       "      <th>2000.0</th>\n",
       "      <td>9.0</td>\n",
       "      <td>13</td>\n",
       "    </tr>\n",
       "  </tbody>\n",
       "</table>\n",
       "<p>116 rows × 2 columns</p>\n",
       "</div>"
      ],
      "text/plain": [
       "         sum  count\n",
       "cohort             \n",
       "1884.0   0.0      1\n",
       "1886.0   0.0      3\n",
       "1887.0   1.0      9\n",
       "1888.0   0.0      3\n",
       "1889.0   1.0     14\n",
       "...      ...    ...\n",
       "1996.0  40.0     47\n",
       "1997.0  28.0     41\n",
       "1998.0  11.0     17\n",
       "1999.0  13.0     17\n",
       "2000.0   9.0     13\n",
       "\n",
       "[116 rows x 2 columns]"
      ]
     },
     "execution_count": 67,
     "metadata": {},
     "output_type": "execute_result"
    }
   ],
   "source": [
    "data = valid.groupby('cohort')['y'].agg(['sum', 'count'])\n",
    "data"
   ]
  },
  {
   "cell_type": "markdown",
   "metadata": {},
   "source": [
    "Here's what the results look like:"
   ]
  },
  {
   "cell_type": "code",
   "execution_count": 68,
   "metadata": {},
   "outputs": [],
   "source": [
    "def plot_data(data):\n",
    "    \"\"\"Plot the fraction of yes responses.\n",
    "    \n",
    "    data: DataFrame with columns `sum` and `count`\n",
    "    \"\"\"\n",
    "    fraction = data['sum'] / data['count']\n",
    "    plt.plot(data.index, fraction, 'o', color='C1',\n",
    "             label='GSS data', alpha=0.3)\n",
    "    \n",
    "    decorate(xlabel='Year of birth',\n",
    "             ylabel='Percent in favor',\n",
    "             title='Support for legal marijuana vs cohort')"
   ]
  },
  {
   "cell_type": "code",
   "execution_count": 69,
   "metadata": {},
   "outputs": [
    {
     "data": {
      "image/png": "[encoded data removed]",
      "text/plain": [
       "<Figure size 432x288 with 1 Axes>"
      ]
     },
     "metadata": {
      "needs_background": "light"
     },
     "output_type": "display_data"
    }
   ],
   "source": [
    "plot_data(data)"
   ]
  },
  {
   "cell_type": "markdown",
   "metadata": {},
   "source": [
    "There is a strong relationship between birth year and support for legalization.  People born before 1910 are the least likely to say \"yes\"; people born after 1990 are the most likely. \n",
    "\n",
    "There are substantial departures from the long-term trend for people born in the 1950s and late 1960s.  If you want to conjecture about the causes, it might help to think about what was happening when each group turned 18.  People born in 1950 turned 18 during [the counterculture of the 1960s](https://en.wikipedia.org/wiki/Counterculture_of_the_1960s).  People born in the late 1960s turned 18 during the \"[Just Say No](https://en.wikipedia.org/wiki/Just_Say_No)\" era of the War on Drugs and the peak in the AIDS epidemic in the U.S."
   ]
  },
  {
   "cell_type": "markdown",
   "metadata": {},
   "source": [
    "## Point estimates\n",
    "\n",
    "I'll use StatsModels again to generate point estimates for the slope and intercept of a logistic model.\n",
    "\n",
    "As we did with the previous problem, I'll shift the values of the explanatory variable so the mean is 0."
   ]
  },
  {
   "cell_type": "code",
   "execution_count": 70,
   "metadata": {},
   "outputs": [],
   "source": [
    "offset = valid['cohort'].mean()\n",
    "valid['x'] = valid['cohort'] - offset"
   ]
  },
  {
   "cell_type": "markdown",
   "metadata": {},
   "source": [
    "Here are the results from StatsModels."
   ]
  },
  {
   "cell_type": "code",
   "execution_count": 71,
   "metadata": {
    "scrolled": true
   },
   "outputs": [
    {
     "name": "stdout",
     "output_type": "stream",
     "text": [
      "Optimization terminated successfully.\n",
      "         Current function value: 0.582717\n",
      "         Iterations 5\n"
     ]
    },
    {
     "data": {
      "text/html": [
       "<table class=\"simpletable\">\n",
       "<caption>Logit Regression Results</caption>\n",
       "<tr>\n",
       "  <th>Dep. Variable:</th>           <td>y</td>        <th>  No. Observations:  </th>  <td> 37427</td> \n",
       "</tr>\n",
       "<tr>\n",
       "  <th>Model:</th>                 <td>Logit</td>      <th>  Df Residuals:      </th>  <td> 37425</td> \n",
       "</tr>\n",
       "<tr>\n",
       "  <th>Method:</th>                 <td>MLE</td>       <th>  Df Model:          </th>  <td>     1</td> \n",
       "</tr>\n",
       "<tr>\n",
       "  <th>Date:</th>            <td>Tue, 18 Aug 2020</td> <th>  Pseudo R-squ.:     </th>  <td>0.06675</td>\n",
       "</tr>\n",
       "<tr>\n",
       "  <th>Time:</th>                <td>16:11:09</td>     <th>  Log-Likelihood:    </th> <td> -21809.</td>\n",
       "</tr>\n",
       "<tr>\n",
       "  <th>converged:</th>             <td>True</td>       <th>  LL-Null:           </th> <td> -23369.</td>\n",
       "</tr>\n",
       "<tr>\n",
       "  <th>Covariance Type:</th>     <td>nonrobust</td>    <th>  LLR p-value:       </th>  <td> 0.000</td> \n",
       "</tr>\n",
       "</table>\n",
       "<table class=\"simpletable\">\n",
       "<tr>\n",
       "      <td></td>         <th>coef</th>     <th>std err</th>      <th>z</th>      <th>P>|z|</th>  <th>[0.025</th>    <th>0.975]</th>  \n",
       "</tr>\n",
       "<tr>\n",
       "  <th>Intercept</th> <td>   -0.8491</td> <td>    0.012</td> <td>  -71.017</td> <td> 0.000</td> <td>   -0.873</td> <td>   -0.826</td>\n",
       "</tr>\n",
       "<tr>\n",
       "  <th>x</th>         <td>    0.0317</td> <td>    0.001</td> <td>   52.197</td> <td> 0.000</td> <td>    0.031</td> <td>    0.033</td>\n",
       "</tr>\n",
       "</table>"
      ],
      "text/plain": [
       "<class 'statsmodels.iolib.summary.Summary'>\n",
       "\"\"\"\n",
       "                           Logit Regression Results                           \n",
       "==============================================================================\n",
       "Dep. Variable:                      y   No. Observations:                37427\n",
       "Model:                          Logit   Df Residuals:                    37425\n",
       "Method:                           MLE   Df Model:                            1\n",
       "Date:                Tue, 18 Aug 2020   Pseudo R-squ.:                 0.06675\n",
       "Time:                        16:11:09   Log-Likelihood:                -21809.\n",
       "converged:                       True   LL-Null:                       -23369.\n",
       "Covariance Type:            nonrobust   LLR p-value:                     0.000\n",
       "==============================================================================\n",
       "                 coef    std err          z      P>|z|      [0.025      0.975]\n",
       "------------------------------------------------------------------------------\n",
       "Intercept     -0.8491      0.012    -71.017      0.000      -0.873      -0.826\n",
       "x              0.0317      0.001     52.197      0.000       0.031       0.033\n",
       "==============================================================================\n",
       "\"\"\""
      ]
     },
     "execution_count": 71,
     "metadata": {},
     "output_type": "execute_result"
    }
   ],
   "source": [
    "import statsmodels.formula.api as smf\n",
    "\n",
    "formula = 'y ~ x'\n",
    "results = smf.logit(formula, data=valid).fit()\n",
    "results.summary()"
   ]
  },
  {
   "cell_type": "markdown",
   "metadata": {},
   "source": [
    "To visualize the results, I'll use these parameters to estimate the probability of support in each cohort."
   ]
  },
  {
   "cell_type": "code",
   "execution_count": 72,
   "metadata": {},
   "outputs": [],
   "source": [
    "inter = -0.85\n",
    "slope = 0.032"
   ]
  },
  {
   "cell_type": "markdown",
   "metadata": {},
   "source": [
    "I'll shift the birth years in `data` by `offset`."
   ]
  },
  {
   "cell_type": "code",
   "execution_count": 73,
   "metadata": {},
   "outputs": [
    {
     "data": {
      "text/html": [
       "<div>\n",
       "<style scoped>\n",
       "    .dataframe tbody tr th:only-of-type {\n",
       "        vertical-align: middle;\n",
       "    }\n",
       "\n",
       "    .dataframe tbody tr th {\n",
       "        vertical-align: top;\n",
       "    }\n",
       "\n",
       "    .dataframe thead th {\n",
       "        text-align: right;\n",
       "    }\n",
       "</style>\n",
       "<table border=\"1\" class=\"dataframe\">\n",
       "  <thead>\n",
       "    <tr style=\"text-align: right;\">\n",
       "      <th></th>\n",
       "      <th>sum</th>\n",
       "      <th>count</th>\n",
       "      <th>x</th>\n",
       "    </tr>\n",
       "    <tr>\n",
       "      <th>cohort</th>\n",
       "      <th></th>\n",
       "      <th></th>\n",
       "      <th></th>\n",
       "    </tr>\n",
       "  </thead>\n",
       "  <tbody>\n",
       "    <tr>\n",
       "      <th>1884.0</th>\n",
       "      <td>0.0</td>\n",
       "      <td>1</td>\n",
       "      <td>-64.724243</td>\n",
       "    </tr>\n",
       "    <tr>\n",
       "      <th>1886.0</th>\n",
       "      <td>0.0</td>\n",
       "      <td>3</td>\n",
       "      <td>-62.724243</td>\n",
       "    </tr>\n",
       "    <tr>\n",
       "      <th>1887.0</th>\n",
       "      <td>1.0</td>\n",
       "      <td>9</td>\n",
       "      <td>-61.724243</td>\n",
       "    </tr>\n",
       "    <tr>\n",
       "      <th>1888.0</th>\n",
       "      <td>0.0</td>\n",
       "      <td>3</td>\n",
       "      <td>-60.724243</td>\n",
       "    </tr>\n",
       "    <tr>\n",
       "      <th>1889.0</th>\n",
       "      <td>1.0</td>\n",
       "      <td>14</td>\n",
       "      <td>-59.724243</td>\n",
       "    </tr>\n",
       "  </tbody>\n",
       "</table>\n",
       "</div>"
      ],
      "text/plain": [
       "        sum  count          x\n",
       "cohort                       \n",
       "1884.0  0.0      1 -64.724243\n",
       "1886.0  0.0      3 -62.724243\n",
       "1887.0  1.0      9 -61.724243\n",
       "1888.0  0.0      3 -60.724243\n",
       "1889.0  1.0     14 -59.724243"
      ]
     },
     "execution_count": 73,
     "metadata": {},
     "output_type": "execute_result"
    }
   ],
   "source": [
    "data['x'] = data.index - offset\n",
    "data.head()"
   ]
  },
  {
   "cell_type": "markdown",
   "metadata": {},
   "source": [
    "And use `expit` to compute the probabilities."
   ]
  },
  {
   "cell_type": "code",
   "execution_count": 74,
   "metadata": {},
   "outputs": [
    {
     "data": {
      "text/plain": [
       "cohort\n",
       "1884.0    0.051117\n",
       "1886.0    0.054312\n",
       "1887.0    0.055979\n",
       "1888.0    0.057694\n",
       "1889.0    0.059459\n",
       "            ...   \n",
       "1996.0    0.659895\n",
       "1997.0    0.667039\n",
       "1998.0    0.674108\n",
       "1999.0    0.681098\n",
       "2000.0    0.688008\n",
       "Name: x, Length: 116, dtype: float64"
      ]
     },
     "execution_count": 74,
     "metadata": {},
     "output_type": "execute_result"
    }
   ],
   "source": [
    "ps = expit(inter + slope * data['x'])\n",
    "ps"
   ]
  },
  {
   "cell_type": "markdown",
   "metadata": {},
   "source": [
    "Here's what the model looks like with the data."
   ]
  },
  {
   "cell_type": "code",
   "execution_count": 75,
   "metadata": {},
   "outputs": [
    {
     "data": {
      "image/png": "[encoded data removed]",
      "text/plain": [
       "<Figure size 432x288 with 1 Axes>"
      ]
     },
     "metadata": {
      "needs_background": "light"
     },
     "output_type": "display_data"
    }
   ],
   "source": [
    "ps.plot(color='C0', label='Logistic model')\n",
    "\n",
    "plot_data(data)"
   ]
  },
  {
   "cell_type": "markdown",
   "metadata": {},
   "source": [
    "With these parameters, the model captures the long term trend in the data."
   ]
  },
  {
   "cell_type": "markdown",
   "metadata": {},
   "source": [
    "## Computing likelihoods\n",
    "\n",
    "Before we do the Bayesian update, let's compute the probability of the data with the estimated parameters.\n",
    "\n",
    "From the data, we know how many people there are in each group and how many of them support legalization.  From the model, we have an estimate for the probability of support in each group.\n",
    "\n",
    "So we can use the binomial distribution to compute the probability of the data given the estimated probabilities."
   ]
  },
  {
   "cell_type": "code",
   "execution_count": 76,
   "metadata": {},
   "outputs": [
    {
     "data": {
      "text/plain": [
       "(116,)"
      ]
     },
     "execution_count": 76,
     "metadata": {},
     "output_type": "execute_result"
    }
   ],
   "source": [
    "from scipy.stats import binom\n",
    "\n",
    "ks = data['sum']\n",
    "ns = data['count']\n",
    "likes = binom.pmf(ks, ns, ps)\n",
    "likes.shape"
   ]
  },
  {
   "cell_type": "markdown",
   "metadata": {},
   "source": [
    "For each group `likes` contains the probability of the outcome, `k`, given the group size, `n`, and the estimated probability, `p`.\n",
    "\n",
    "The likelihood of the data is the product of these likelihoods:"
   ]
  },
  {
   "cell_type": "code",
   "execution_count": 77,
   "metadata": {},
   "outputs": [
    {
     "data": {
      "text/plain": [
       "1.374180525164937e-209"
      ]
     },
     "execution_count": 77,
     "metadata": {},
     "output_type": "execute_result"
    }
   ],
   "source": [
    "likes.prod()"
   ]
  },
  {
   "cell_type": "markdown",
   "metadata": {},
   "source": [
    "This likelihood is very small, for two reasons:\n",
    "\n",
    "* The dataset is large, which means that there are many possible outcomes, so the probability of *any* particular outcome is small.\n",
    "\n",
    "* The data deviate substantially from the model, so the probability of *this* particular outcome is small.\n",
    "\n",
    "In theory, it's not a problem if the likelihood of the data is small.  We might not get a model that fits the data perfectly, but we'll get the parameters that come as close as possible.\n",
    "\n",
    "However, in practice small likelihoods can be problematic.  With floating-point numbers, the smallest positive number we can represent is about `1e-1021`."
   ]
  },
  {
   "cell_type": "code",
   "execution_count": 78,
   "metadata": {},
   "outputs": [
    {
     "data": {
      "text/plain": [
       "-1021"
      ]
     },
     "execution_count": 78,
     "metadata": {},
     "output_type": "execute_result"
    }
   ],
   "source": [
    "import sys\n",
    "sys.float_info.min_exp"
   ]
  },
  {
   "cell_type": "markdown",
   "metadata": {},
   "source": [
    "Any number smaller than that \"underflows\"; that is, it gets rounded down to 0.  When that happens, we lose the ability to distinguish between parameters that make the model fit the data or not.  In the worst case, if all likelihoods underflow, all probabilities in the posterior distribution would be 0.\n",
    "\n",
    "In this example, the likelihoods are big enough that we can still do a Bayesian update, so we'll do that next.\n",
    "\n",
    "Then I will demonstrate a trick we can use to avoid underflow: computing likelihoods under a log transformation."
   ]
  },
  {
   "cell_type": "markdown",
   "metadata": {},
   "source": [
    "## The update\n",
    "\n",
    "I'll use uniform priors for the parameters, with locatations centered around the point estimates."
   ]
  },
  {
   "cell_type": "code",
   "execution_count": 79,
   "metadata": {},
   "outputs": [],
   "source": [
    "inters = np.linspace(-0.95, -0.75, 51)\n",
    "prior_inter = Pmf(1.0, inters)\n",
    "prior_inter.index.name = 'Intercept'"
   ]
  },
  {
   "cell_type": "code",
   "execution_count": 80,
   "metadata": {},
   "outputs": [],
   "source": [
    "slopes = np.linspace(0.025, 0.035, 51)\n",
    "prior_slope = Pmf(1.0, slopes)\n",
    "prior_slope.index.name = 'Slope'"
   ]
  },
  {
   "cell_type": "markdown",
   "metadata": {},
   "source": [
    "I'll make a joint prior."
   ]
  },
  {
   "cell_type": "code",
   "execution_count": 81,
   "metadata": {},
   "outputs": [
    {
     "data": {
      "text/html": [
       "<div>\n",
       "<style scoped>\n",
       "    .dataframe tbody tr th:only-of-type {\n",
       "        vertical-align: middle;\n",
       "    }\n",
       "\n",
       "    .dataframe tbody tr th {\n",
       "        vertical-align: top;\n",
       "    }\n",
       "\n",
       "    .dataframe thead th {\n",
       "        text-align: right;\n",
       "    }\n",
       "</style>\n",
       "<table border=\"1\" class=\"dataframe\">\n",
       "  <thead>\n",
       "    <tr style=\"text-align: right;\">\n",
       "      <th>Intercept</th>\n",
       "      <th>-0.950</th>\n",
       "      <th>-0.946</th>\n",
       "      <th>-0.942</th>\n",
       "      <th>-0.938</th>\n",
       "      <th>-0.934</th>\n",
       "      <th>-0.930</th>\n",
       "      <th>-0.926</th>\n",
       "      <th>-0.922</th>\n",
       "      <th>-0.918</th>\n",
       "      <th>-0.914</th>\n",
       "      <th>...</th>\n",
       "      <th>-0.786</th>\n",
       "      <th>-0.782</th>\n",
       "      <th>-0.778</th>\n",
       "      <th>-0.774</th>\n",
       "      <th>-0.770</th>\n",
       "      <th>-0.766</th>\n",
       "      <th>-0.762</th>\n",
       "      <th>-0.758</th>\n",
       "      <th>-0.754</th>\n",
       "      <th>-0.750</th>\n",
       "    </tr>\n",
       "    <tr>\n",
       "      <th>Slope</th>\n",
       "      <th></th>\n",
       "      <th></th>\n",
       "      <th></th>\n",
       "      <th></th>\n",
       "      <th></th>\n",
       "      <th></th>\n",
       "      <th></th>\n",
       "      <th></th>\n",
       "      <th></th>\n",
       "      <th></th>\n",
       "      <th></th>\n",
       "      <th></th>\n",
       "      <th></th>\n",
       "      <th></th>\n",
       "      <th></th>\n",
       "      <th></th>\n",
       "      <th></th>\n",
       "      <th></th>\n",
       "      <th></th>\n",
       "      <th></th>\n",
       "      <th></th>\n",
       "    </tr>\n",
       "  </thead>\n",
       "  <tbody>\n",
       "    <tr>\n",
       "      <th>0.0250</th>\n",
       "      <td>1.0</td>\n",
       "      <td>1.0</td>\n",
       "      <td>1.0</td>\n",
       "      <td>1.0</td>\n",
       "      <td>1.0</td>\n",
       "      <td>1.0</td>\n",
       "      <td>1.0</td>\n",
       "      <td>1.0</td>\n",
       "      <td>1.0</td>\n",
       "      <td>1.0</td>\n",
       "      <td>...</td>\n",
       "      <td>1.0</td>\n",
       "      <td>1.0</td>\n",
       "      <td>1.0</td>\n",
       "      <td>1.0</td>\n",
       "      <td>1.0</td>\n",
       "      <td>1.0</td>\n",
       "      <td>1.0</td>\n",
       "      <td>1.0</td>\n",
       "      <td>1.0</td>\n",
       "      <td>1.0</td>\n",
       "    </tr>\n",
       "    <tr>\n",
       "      <th>0.0252</th>\n",
       "      <td>1.0</td>\n",
       "      <td>1.0</td>\n",
       "      <td>1.0</td>\n",
       "      <td>1.0</td>\n",
       "      <td>1.0</td>\n",
       "      <td>1.0</td>\n",
       "      <td>1.0</td>\n",
       "      <td>1.0</td>\n",
       "      <td>1.0</td>\n",
       "      <td>1.0</td>\n",
       "      <td>...</td>\n",
       "      <td>1.0</td>\n",
       "      <td>1.0</td>\n",
       "      <td>1.0</td>\n",
       "      <td>1.0</td>\n",
       "      <td>1.0</td>\n",
       "      <td>1.0</td>\n",
       "      <td>1.0</td>\n",
       "      <td>1.0</td>\n",
       "      <td>1.0</td>\n",
       "      <td>1.0</td>\n",
       "    </tr>\n",
       "    <tr>\n",
       "      <th>0.0254</th>\n",
       "      <td>1.0</td>\n",
       "      <td>1.0</td>\n",
       "      <td>1.0</td>\n",
       "      <td>1.0</td>\n",
       "      <td>1.0</td>\n",
       "      <td>1.0</td>\n",
       "      <td>1.0</td>\n",
       "      <td>1.0</td>\n",
       "      <td>1.0</td>\n",
       "      <td>1.0</td>\n",
       "      <td>...</td>\n",
       "      <td>1.0</td>\n",
       "      <td>1.0</td>\n",
       "      <td>1.0</td>\n",
       "      <td>1.0</td>\n",
       "      <td>1.0</td>\n",
       "      <td>1.0</td>\n",
       "      <td>1.0</td>\n",
       "      <td>1.0</td>\n",
       "      <td>1.0</td>\n",
       "      <td>1.0</td>\n",
       "    </tr>\n",
       "    <tr>\n",
       "      <th>0.0256</th>\n",
       "      <td>1.0</td>\n",
       "      <td>1.0</td>\n",
       "      <td>1.0</td>\n",
       "      <td>1.0</td>\n",
       "      <td>1.0</td>\n",
       "      <td>1.0</td>\n",
       "      <td>1.0</td>\n",
       "      <td>1.0</td>\n",
       "      <td>1.0</td>\n",
       "      <td>1.0</td>\n",
       "      <td>...</td>\n",
       "      <td>1.0</td>\n",
       "      <td>1.0</td>\n",
       "      <td>1.0</td>\n",
       "      <td>1.0</td>\n",
       "      <td>1.0</td>\n",
       "      <td>1.0</td>\n",
       "      <td>1.0</td>\n",
       "      <td>1.0</td>\n",
       "      <td>1.0</td>\n",
       "      <td>1.0</td>\n",
       "    </tr>\n",
       "    <tr>\n",
       "      <th>0.0258</th>\n",
       "      <td>1.0</td>\n",
       "      <td>1.0</td>\n",
       "      <td>1.0</td>\n",
       "      <td>1.0</td>\n",
       "      <td>1.0</td>\n",
       "      <td>1.0</td>\n",
       "      <td>1.0</td>\n",
       "      <td>1.0</td>\n",
       "      <td>1.0</td>\n",
       "      <td>1.0</td>\n",
       "      <td>...</td>\n",
       "      <td>1.0</td>\n",
       "      <td>1.0</td>\n",
       "      <td>1.0</td>\n",
       "      <td>1.0</td>\n",
       "      <td>1.0</td>\n",
       "      <td>1.0</td>\n",
       "      <td>1.0</td>\n",
       "      <td>1.0</td>\n",
       "      <td>1.0</td>\n",
       "      <td>1.0</td>\n",
       "    </tr>\n",
       "  </tbody>\n",
       "</table>\n",
       "<p>5 rows × 51 columns</p>\n",
       "</div>"
      ],
      "text/plain": [
       "Intercept  -0.950  -0.946  -0.942  -0.938  -0.934  -0.930  -0.926  -0.922  \\\n",
       "Slope                                                                       \n",
       "0.0250        1.0     1.0     1.0     1.0     1.0     1.0     1.0     1.0   \n",
       "0.0252        1.0     1.0     1.0     1.0     1.0     1.0     1.0     1.0   \n",
       "0.0254        1.0     1.0     1.0     1.0     1.0     1.0     1.0     1.0   \n",
       "0.0256        1.0     1.0     1.0     1.0     1.0     1.0     1.0     1.0   \n",
       "0.0258        1.0     1.0     1.0     1.0     1.0     1.0     1.0     1.0   \n",
       "\n",
       "Intercept  -0.918  -0.914  ...  -0.786  -0.782  -0.778  -0.774  -0.770  \\\n",
       "Slope                      ...                                           \n",
       "0.0250        1.0     1.0  ...     1.0     1.0     1.0     1.0     1.0   \n",
       "0.0252        1.0     1.0  ...     1.0     1.0     1.0     1.0     1.0   \n",
       "0.0254        1.0     1.0  ...     1.0     1.0     1.0     1.0     1.0   \n",
       "0.0256        1.0     1.0  ...     1.0     1.0     1.0     1.0     1.0   \n",
       "0.0258        1.0     1.0  ...     1.0     1.0     1.0     1.0     1.0   \n",
       "\n",
       "Intercept  -0.766  -0.762  -0.758  -0.754  -0.750  \n",
       "Slope                                              \n",
       "0.0250        1.0     1.0     1.0     1.0     1.0  \n",
       "0.0252        1.0     1.0     1.0     1.0     1.0  \n",
       "0.0254        1.0     1.0     1.0     1.0     1.0  \n",
       "0.0256        1.0     1.0     1.0     1.0     1.0  \n",
       "0.0258        1.0     1.0     1.0     1.0     1.0  \n",
       "\n",
       "[5 rows x 51 columns]"
      ]
     },
     "execution_count": 81,
     "metadata": {},
     "output_type": "execute_result"
    }
   ],
   "source": [
    "joint = make_joint(prior_inter, prior_slope)\n",
    "joint.head()"
   ]
  },
  {
   "cell_type": "markdown",
   "metadata": {},
   "source": [
    "And stack it into a `Pmf` with a two-column index."
   ]
  },
  {
   "cell_type": "code",
   "execution_count": 82,
   "metadata": {},
   "outputs": [
    {
     "data": {
      "text/plain": [
       "Slope  Intercept\n",
       "0.025  -0.950       1.0\n",
       "       -0.946       1.0\n",
       "       -0.942       1.0\n",
       "       -0.938       1.0\n",
       "       -0.934       1.0\n",
       "dtype: float64"
      ]
     },
     "execution_count": 82,
     "metadata": {},
     "output_type": "execute_result"
    }
   ],
   "source": [
    "joint_pmf = Pmf(joint.stack())\n",
    "joint_pmf.head()"
   ]
  },
  {
   "cell_type": "markdown",
   "metadata": {},
   "source": [
    "Here's the update, using the binomial distribution to compute the likelihood of the data in each group."
   ]
  },
  {
   "cell_type": "code",
   "execution_count": 83,
   "metadata": {},
   "outputs": [],
   "source": [
    "likelihood = joint_pmf.copy()\n",
    "\n",
    "xs = data['x']\n",
    "ks = data['sum']\n",
    "ns = data['count']\n",
    "\n",
    "for slope, inter in joint_pmf.index:\n",
    "    ps = expit(inter + slope * xs)\n",
    "    likes = binom.pmf(ks, ns, ps)\n",
    "    likelihood.loc[slope, inter] = likes.prod()"
   ]
  },
  {
   "cell_type": "markdown",
   "metadata": {},
   "source": [
    "Again, the likelihoods are small."
   ]
  },
  {
   "cell_type": "code",
   "execution_count": 84,
   "metadata": {},
   "outputs": [
    {
     "data": {
      "text/plain": [
       "8.656375286337876e-208"
      ]
     },
     "execution_count": 84,
     "metadata": {},
     "output_type": "execute_result"
    }
   ],
   "source": [
    "likelihood.sum()"
   ]
  },
  {
   "cell_type": "markdown",
   "metadata": {},
   "source": [
    "But we can do the update in the usual way."
   ]
  },
  {
   "cell_type": "code",
   "execution_count": 85,
   "metadata": {},
   "outputs": [
    {
     "data": {
      "text/plain": [
       "8.656375286337876e-208"
      ]
     },
     "execution_count": 85,
     "metadata": {},
     "output_type": "execute_result"
    }
   ],
   "source": [
    "posterior_pmf = joint_pmf * likelihood\n",
    "posterior_pmf.normalize()"
   ]
  },
  {
   "cell_type": "markdown",
   "metadata": {},
   "source": [
    "And there are enough non-zero elements to get a useful posterior distribution.\n",
    "\n",
    "Here's what it looks like."
   ]
  },
  {
   "cell_type": "code",
   "execution_count": 86,
   "metadata": {},
   "outputs": [
    {
     "data": {
      "image/png": "[encoded data removed]",
      "text/plain": [
       "<Figure size 432x288 with 1 Axes>"
      ]
     },
     "metadata": {
      "needs_background": "light"
     },
     "output_type": "display_data"
    }
   ],
   "source": [
    "joint_posterior = posterior_pmf.unstack()\n",
    "\n",
    "plot_contour(joint_posterior)\n",
    "decorate(title='Joint posterior distribution')"
   ]
  },
  {
   "cell_type": "markdown",
   "metadata": {},
   "source": [
    "We can confirm that the parameters with maximum posterior probability are consistent with the point estimates."
   ]
  },
  {
   "cell_type": "code",
   "execution_count": 87,
   "metadata": {},
   "outputs": [
    {
     "data": {
      "text/plain": [
       "((0.0318, -0.85), array([ 0.0316906 , -0.84909407]))"
      ]
     },
     "execution_count": 87,
     "metadata": {},
     "output_type": "execute_result"
    }
   ],
   "source": [
    "posterior_pmf.max_prob(), results.params.values[::-1]"
   ]
  },
  {
   "cell_type": "markdown",
   "metadata": {},
   "source": [
    "Here are the means of the marginal distributions."
   ]
  },
  {
   "cell_type": "code",
   "execution_count": 88,
   "metadata": {},
   "outputs": [
    {
     "data": {
      "text/plain": [
       "(-0.8491556076374562, 0.03169425569628928)"
      ]
     },
     "execution_count": 88,
     "metadata": {},
     "output_type": "execute_result"
    }
   ],
   "source": [
    "marginal_inter = marginal(joint_posterior, 0)\n",
    "marginal_slope = marginal(joint_posterior, 1)\n",
    "\n",
    "marginal_inter.mean(), marginal_slope.mean()"
   ]
  },
  {
   "cell_type": "markdown",
   "metadata": {},
   "source": [
    "Recall that the intercept indicates the log odds of the hypothesis at `x=0`.\n",
    "To make the distribution of intercepts easier to interpret, I'll use `expit` to transform the values to probabilities."
   ]
  },
  {
   "cell_type": "code",
   "execution_count": 89,
   "metadata": {},
   "outputs": [],
   "source": [
    "marginal_probs = transform(marginal_inter, expit)"
   ]
  },
  {
   "cell_type": "code",
   "execution_count": 90,
   "metadata": {},
   "outputs": [
    {
     "data": {
      "image/png": "[encoded data removed]",
      "text/plain": [
       "<Figure size 432x288 with 1 Axes>"
      ]
     },
     "metadata": {
      "needs_background": "light"
     },
     "output_type": "display_data"
    }
   ],
   "source": [
    "marginal_probs.plot()\n",
    "decorate(xlabel='Probability at x=0',\n",
    "         ylabel='PDF',\n",
    "         title='Posterior distribution of intercept in terms of probability')"
   ]
  },
  {
   "cell_type": "markdown",
   "metadata": {},
   "source": [
    "The mean of this distribution is about 24%, which is the predicted probability of supporting legalization for someone born arond 1949."
   ]
  },
  {
   "cell_type": "code",
   "execution_count": 91,
   "metadata": {},
   "outputs": [
    {
     "data": {
      "text/plain": [
       "(0.29961602953948796, 1948.7242)"
      ]
     },
     "execution_count": 91,
     "metadata": {},
     "output_type": "execute_result"
    }
   ],
   "source": [
    "marginal_probs.mean(), offset"
   ]
  },
  {
   "cell_type": "markdown",
   "metadata": {},
   "source": [
    "The estimated slope is the log of the likelihood ratio for each additional year of birth.  To interpret slopes as likelihood ratios, we can use `np.exp` to transform the values in the posterior distribution."
   ]
  },
  {
   "cell_type": "code",
   "execution_count": 92,
   "metadata": {},
   "outputs": [],
   "source": [
    "marginal_lr = transform(marginal_inter, np.exp)"
   ]
  },
  {
   "cell_type": "code",
   "execution_count": 93,
   "metadata": {},
   "outputs": [
    {
     "data": {
      "image/png": "[encoded data removed]",
      "text/plain": [
       "<Figure size 432x288 with 1 Axes>"
      ]
     },
     "metadata": {
      "needs_background": "light"
     },
     "output_type": "display_data"
    }
   ],
   "source": [
    "marginal_lr.plot()\n",
    "\n",
    "decorate(xlabel='Likelihood ratio of each additional year',\n",
    "         ylabel='PDF',\n",
    "         title='Posterior distribution of slope in terms of likelihood ratio')"
   ]
  },
  {
   "cell_type": "markdown",
   "metadata": {},
   "source": [
    "The mean of this distribution is about 0.43, which indicates that each additional year is evidence that the respondent will say \"yes\", with a a likelihood ratio of 0.43. \n"
   ]
  },
  {
   "cell_type": "code",
   "execution_count": 94,
   "metadata": {},
   "outputs": [
    {
     "data": {
      "text/plain": [
       "0.42780656870625133"
      ]
     },
     "execution_count": 94,
     "metadata": {},
     "output_type": "execute_result"
    }
   ],
   "source": [
    "marginal_lr.mean()"
   ]
  },
  {
   "cell_type": "markdown",
   "metadata": {},
   "source": [
    "Later we will use the joint posterior distribution to generate predictions, but first I'll show how to compute likelihoods under a log transform."
   ]
  },
  {
   "cell_type": "markdown",
   "metadata": {},
   "source": [
    "## Log likelihood\n",
    "\n",
    "Because of the problem of underflow, many likelihood computations are done under a log transform.  That's why the distributions in SciPy, including `binom`, provide functions to compute logarithms of PMFs and PDFs.\n",
    "\n",
    "Here's a loop that computes the log likelihood of the data for each pair of parameters in `joint_pmf`: "
   ]
  },
  {
   "cell_type": "code",
   "execution_count": 95,
   "metadata": {},
   "outputs": [],
   "source": [
    "log_likelihood = joint_pmf.copy()\n",
    "\n",
    "for slope, inter in joint_pmf.index:\n",
    "    ps = expit(inter + slope * xs)\n",
    "    log_likes = binom.logpmf(ks, ns, ps)\n",
    "    log_likelihood.loc[slope, inter] = log_likes.sum()"
   ]
  },
  {
   "cell_type": "markdown",
   "metadata": {},
   "source": [
    "`log_likes` contains the logarithms of the binomial PMFs for each group, so it sum is the logarithm of the product of the likelihoods.\n",
    "\n",
    "Since the likelihoods are small, their logarithms are negative.  The smallest (most negative) is about -610; the largest (least negative) is about -480."
   ]
  },
  {
   "cell_type": "code",
   "execution_count": 96,
   "metadata": {},
   "outputs": [
    {
     "data": {
      "text/plain": [
       "(-607.8199099184933, -480.8081879180253)"
      ]
     },
     "execution_count": 96,
     "metadata": {},
     "output_type": "execute_result"
    }
   ],
   "source": [
    "log_likelihood.min(), log_likelihood.max()"
   ]
  },
  {
   "cell_type": "markdown",
   "metadata": {},
   "source": [
    "So the log likelihoods are comfortably with the range we can represent with floating-point numbers.\n",
    "\n",
    "However, before we can do the update, we have to convert the logarithms back to a linear scale.  To do while minimizing underflow, I am going to shift the logs up toward zero."
   ]
  },
  {
   "cell_type": "code",
   "execution_count": 97,
   "metadata": {},
   "outputs": [],
   "source": [
    "shifted = log_likelihood - log_likelihood.max()\n",
    "likelihood2 = np.exp(shifted)"
   ]
  },
  {
   "cell_type": "markdown",
   "metadata": {},
   "source": [
    "After subtracting away the largest element in `log_likelihood`, the range of values in the result is from -127 to 0."
   ]
  },
  {
   "cell_type": "code",
   "execution_count": 98,
   "metadata": {},
   "outputs": [
    {
     "data": {
      "text/plain": [
       "(-127.01172200046801, 0.0)"
      ]
     },
     "execution_count": 98,
     "metadata": {},
     "output_type": "execute_result"
    }
   ],
   "source": [
    "shifted.min(), shifted.max()"
   ]
  },
  {
   "cell_type": "code",
   "execution_count": 99,
   "metadata": {},
   "outputs": [
    {
     "data": {
      "text/plain": [
       "(6.910508383385572e-56, 1.0)"
      ]
     },
     "execution_count": 99,
     "metadata": {},
     "output_type": "execute_result"
    }
   ],
   "source": [
    "likelihood2.min(), likelihood2.max()"
   ]
  },
  {
   "cell_type": "markdown",
   "metadata": {},
   "source": [
    "After applying `np.exp`, the range of likelihoods is from about `7e-56` to 0.\n",
    "\n",
    "Now we can use them as likelihoods in a Bayesian update."
   ]
  },
  {
   "cell_type": "code",
   "execution_count": 100,
   "metadata": {},
   "outputs": [
    {
     "data": {
      "text/plain": [
       "56.19257619830452"
      ]
     },
     "execution_count": 100,
     "metadata": {},
     "output_type": "execute_result"
    }
   ],
   "source": [
    "posterior2_pmf = joint_pmf * likelihood2\n",
    "posterior2_pmf.normalize()"
   ]
  },
  {
   "cell_type": "markdown",
   "metadata": {},
   "source": [
    "Adding a constant to the `log_likelihood` is the same as multiplying a constant by `likelihood`.  We can do that without affecting the results because we have to normalize the posterior probabilities, so the multiplicative constant gets normalized away.\n",
    "\n",
    "Here's the joint distribution we get using log likelihoods."
   ]
  },
  {
   "cell_type": "code",
   "execution_count": 101,
   "metadata": {},
   "outputs": [
    {
     "data": {
      "image/png": "[encoded data removed]",
      "text/plain": [
       "<Figure size 432x288 with 1 Axes>"
      ]
     },
     "metadata": {
      "needs_background": "light"
     },
     "output_type": "display_data"
    }
   ],
   "source": [
    "joint_posterior2 = posterior2_pmf.unstack()\n",
    "\n",
    "plot_contour(joint_posterior2)\n",
    "decorate(title='Joint posterior distribution')"
   ]
  },
  {
   "cell_type": "markdown",
   "metadata": {},
   "source": [
    "The parameters with maximum posterior probability are the same."
   ]
  },
  {
   "cell_type": "code",
   "execution_count": 102,
   "metadata": {},
   "outputs": [
    {
     "data": {
      "text/plain": [
       "((0.0318, -0.85), (0.0318, -0.85))"
      ]
     },
     "execution_count": 102,
     "metadata": {},
     "output_type": "execute_result"
    }
   ],
   "source": [
    "posterior_pmf.max_prob(), posterior2_pmf.max_prob()"
   ]
  },
  {
   "cell_type": "markdown",
   "metadata": {},
   "source": [
    "And so are the posterior means"
   ]
  },
  {
   "cell_type": "code",
   "execution_count": 103,
   "metadata": {},
   "outputs": [
    {
     "data": {
      "text/plain": [
       "(-0.8491556076374565, 0.03169425569628928)"
      ]
     },
     "execution_count": 103,
     "metadata": {},
     "output_type": "execute_result"
    }
   ],
   "source": [
    "marginal2_inter = marginal(joint_posterior2, 0)\n",
    "marginal2_slope = marginal(joint_posterior2, 1)\n",
    "\n",
    "marginal2_inter.mean(), marginal2_slope.mean()"
   ]
  },
  {
   "cell_type": "code",
   "execution_count": 104,
   "metadata": {},
   "outputs": [
    {
     "data": {
      "text/plain": [
       "(-0.8491556076374562, 0.03169425569628928)"
      ]
     },
     "execution_count": 104,
     "metadata": {},
     "output_type": "execute_result"
    }
   ],
   "source": [
    "marginal_inter.mean(), marginal_slope.mean()"
   ]
  },
  {
   "cell_type": "markdown",
   "metadata": {},
   "source": [
    "In this example, we can compute the posterior distribution either way, using likelihoods or log likelihoods.  But with just a little more data, the likelihoods would underflow and we would be required to use log likelihoods."
   ]
  },
  {
   "cell_type": "markdown",
   "metadata": {},
   "source": [
    "## Making predictions\n",
    "\n",
    "As we did with the previous example, we can use the posterior distribution of the parameters to generate predictions, which we can use to see whether the model fits the data and to extrapolate beyond the data.\n",
    "\n",
    "I'll start with a sample from the posterior distribution."
   ]
  },
  {
   "cell_type": "code",
   "execution_count": 105,
   "metadata": {},
   "outputs": [],
   "source": [
    "sample = posterior_pmf.sample(101)"
   ]
  },
  {
   "cell_type": "markdown",
   "metadata": {},
   "source": [
    "And a range of `xs` that extends 20 years past the observed data."
   ]
  },
  {
   "cell_type": "code",
   "execution_count": 106,
   "metadata": {},
   "outputs": [],
   "source": [
    "xs = np.arange(1880, 2021) - offset"
   ]
  },
  {
   "cell_type": "markdown",
   "metadata": {},
   "source": [
    "We can use the sampled parameters to predict probabilities for each group."
   ]
  },
  {
   "cell_type": "code",
   "execution_count": 107,
   "metadata": {},
   "outputs": [
    {
     "data": {
      "text/plain": [
       "(101, 141)"
      ]
     },
     "execution_count": 107,
     "metadata": {},
     "output_type": "execute_result"
    }
   ],
   "source": [
    "ps = np.empty((len(sample), len(xs)))\n",
    "\n",
    "for i, (slope, inter) in enumerate(sample):\n",
    "    ps[i] = expit(inter + slope * xs)\n",
    "    \n",
    "ps.shape"
   ]
  },
  {
   "cell_type": "markdown",
   "metadata": {},
   "source": [
    "But that only accounts for uncertainty about the parameters.\n",
    "\n",
    "We also have to account for variability in the size of the groups.  Here's the distribution of group size, dropping the groups smaller than 20."
   ]
  },
  {
   "cell_type": "code",
   "execution_count": 108,
   "metadata": {},
   "outputs": [
    {
     "data": {
      "text/plain": [
       "count    104.000000\n",
       "mean     358.567308\n",
       "std      232.895275\n",
       "min       29.000000\n",
       "25%      162.500000\n",
       "50%      336.500000\n",
       "75%      492.750000\n",
       "max      846.000000\n",
       "Name: count, dtype: float64"
      ]
     },
     "execution_count": 108,
     "metadata": {},
     "output_type": "execute_result"
    }
   ],
   "source": [
    "not_small = (data['count'] >= 20)\n",
    "counts = data.loc[not_small, 'count']\n",
    "counts.describe()"
   ]
  },
  {
   "cell_type": "markdown",
   "metadata": {},
   "source": [
    "To simulate variation in group size fromone year of the survey to the next, I'll use `np.random.choice` to generate samples of group size. "
   ]
  },
  {
   "cell_type": "code",
   "execution_count": 109,
   "metadata": {},
   "outputs": [
    {
     "data": {
      "text/plain": [
       "array([265, 303, 846, 353, 745, 161, 330, 545, 155,  41, 243, 365, 359,\n",
       "       700, 382, 477, 197, 389, 161, 255, 294, 745, 273, 781,  55, 223,\n",
       "        95, 353, 745,  83, 427, 667, 145, 445, 344,  83,  31,  83, 464,\n",
       "       382,  59,  82, 127, 389, 700, 294, 375, 100, 785,  91, 745, 700,\n",
       "        66, 265, 530, 317,  41, 131,  91, 197, 211,  41, 273, 322, 427,\n",
       "       630, 131,  55, 501, 453, 309, 477, 781, 112,  44, 255, 231, 112,\n",
       "       289, 163, 330, 290,  31,  83, 785, 501, 365, 413, 814, 366, 290,\n",
       "       239,  47, 492, 645, 842, 380, 596, 176, 492, 273, 842,  44,  78,\n",
       "       155, 464, 146,  55,  29, 366, 309,  83,  82, 155, 453,  95, 146,\n",
       "       211, 265, 453, 290, 309, 462, 186, 743, 389, 782, 273, 188, 353,\n",
       "       161, 303, 453, 100,  91,  83,  29, 544,  44, 100, 544])"
      ]
     },
     "execution_count": 109,
     "metadata": {},
     "output_type": "execute_result"
    }
   ],
   "source": [
    "np.random.choice(counts, len(xs), replace=True)"
   ]
  },
  {
   "cell_type": "markdown",
   "metadata": {},
   "source": [
    "Now, even if we know how many people are in each group and their probability of saying \"yes\", there is still uncertainty in the outcome.  We can use the binomial distribution to simulate this (final) source of uncertainty.\n",
    "\n",
    "Putting it all together, the following loop combines these sources of uncertainty to generate predictive distributions for each group."
   ]
  },
  {
   "cell_type": "code",
   "execution_count": 110,
   "metadata": {},
   "outputs": [
    {
     "data": {
      "text/plain": [
       "(101, 141)"
      ]
     },
     "execution_count": 110,
     "metadata": {},
     "output_type": "execute_result"
    }
   ],
   "source": [
    "pred = np.empty((len(sample), len(xs)))\n",
    "\n",
    "for i, (slope, inter) in enumerate(sample):\n",
    "    ps = expit(inter + slope * xs)\n",
    "    ns = np.random.choice(counts, len(xs), replace=True)\n",
    "    ks = binom(ns, ps).rvs(len(xs))\n",
    "    pred[i] = ks / ns\n",
    "    \n",
    "pred.shape"
   ]
  },
  {
   "cell_type": "markdown",
   "metadata": {},
   "source": [
    "The result is an array with one row for each pair of parameters in the sample and one column for each value in `xs`.\n",
    "\n",
    "Now we can use `np.percentile` to compute percentiles in each column."
   ]
  },
  {
   "cell_type": "code",
   "execution_count": 111,
   "metadata": {},
   "outputs": [
    {
     "data": {
      "text/plain": [
       "(141,)"
      ]
     },
     "execution_count": 111,
     "metadata": {},
     "output_type": "execute_result"
    }
   ],
   "source": [
    "low, median, high = np.percentile(pred, [5, 50, 95], axis=0)\n",
    "median.shape"
   ]
  },
  {
   "cell_type": "markdown",
   "metadata": {},
   "source": [
    "And use them to plot a 90% credible interval for the predictions."
   ]
  },
  {
   "cell_type": "code",
   "execution_count": 112,
   "metadata": {
    "scrolled": true
   },
   "outputs": [
    {
     "data": {
      "image/png": "[encoded data removed]",
      "text/plain": [
       "<Figure size 432x288 with 1 Axes>"
      ]
     },
     "metadata": {
      "needs_background": "light"
     },
     "output_type": "display_data"
    }
   ],
   "source": [
    "plt.fill_between(xs+offset, low, high, alpha=0.2)\n",
    "plt.plot(xs+offset, median, color='C0', alpha=0.5)\n",
    "\n",
    "plot_data(data)"
   ]
  },
  {
   "cell_type": "markdown",
   "metadata": {},
   "source": [
    "The model fits the long-term trend of the data, with most data points falling within the 90% credible interval despite the apparent deviations from the trend.\n",
    "\n",
    "And it predicts that people born between 2000 and 2020 will be more likely to support legalizing marijuana, or they will when they are old enough to be respondents in the General Social Survey."
   ]
  },
  {
   "cell_type": "markdown",
   "metadata": {},
   "source": [
    "## Summary\n",
    "\n",
    "So far we have seen three ways to represent degrees of confidence in a hypothesis: probability, odds, and log odds.  When we write Bayes's Rule in terms of log odds, a Bayesian update is the sum of the prior and the likelihood; in this sense, Bayesian statistics is the arithemtic of hypotheses and evidence.\n",
    "\n",
    "This form of Bayes Theorem is also the foundation of logistic regression, which we used to infer parameters and make predictions.  In the Space Shuttle problem, we modeled the relationship between temperature and the probability of damage, and showed that the Challenger disaster might have been predictable.  But this example is also a warning about the hazards of using a model to extrapolate far beyond the data.\n",
    "\n",
    "We also modeled generational changes in support for legalizing marijuana, which was less than 10% among people born in the 1890s, and is nearly 80% among people born in the 1990s.\n",
    "Because the dataset we used is large, the total probability of the data is very small, which can run into the limits of floating-point arithmetic.  We can avoid this problem by computing likelihoods under a logarithmic transformation.\n",
    "\n",
    "In the exercises below you'll have a chance to practice the material in this chapter, using log odds to evaluate a political pundit and using logistic regression to model diagnosis rates for Attention Deficit Hyperactivity Disorder (ADHD).\n",
    "\n",
    "In the next chapter we'll move from logistic regression to linear regression, which we will use to model changes over time in temperature, snowfall, and the marathon world record."
   ]
  },
  {
   "cell_type": "markdown",
   "metadata": {},
   "source": [
    "## Exercises\n",
    "\n",
    "**Exercise:** Suppose a political pundit claims to be able to predict the outcome of elections, but instead of picking a winner, they give each candidate a probability of winning.  With that kind of prediction, it can be hard to say whether it is right or wrong. \n",
    "\n",
    "For example, suppose they pundit says that Alice has a 70% chance of beating Bob, and then Bob wins the election.  Does that mean the pundit was wrong?"
   ]
  },
  {
   "cell_type": "markdown",
   "metadata": {},
   "source": [
    "One way to answer this question is to consider two hypotheses:\n",
    "\n",
    "* `H`: The pundit's algorithm is legitimate; the probabilities it produces are correct in the sense that they accurately reflect the candidates' probabilities of winning.\n",
    "\n",
    "* `not H`: The pundit's algorithm is bogus; the probabilities it produces are random values with a mean of 50%.\n",
    "\n",
    "If the pundit says Alice has a 70% chance of winning, and she does, that provides evidence in favor of `H` with likelihood ratio 70/50.\n",
    "\n",
    "If the pundit says Alice has a 70% chance of winning, and she loses, that's evidence against `H` with a likelihood ratio of 50/30."
   ]
  },
  {
   "cell_type": "markdown",
   "metadata": {},
   "source": [
    "Suppose we start with some confidence in the algorithm, so the prior odds are 4 to 1.  And suppose the pundit generates predictions for three elections:\n",
    "\n",
    "* In the first election, the pundit says Alice has a 70% of winning and she does.\n",
    "\n",
    "* In the second election, the pundit says Bob has a 30% chance of winning and he does.\n",
    "\n",
    "* In the third election, the pundit says Carol has an 90% chance of winning and she does.\n",
    "\n",
    "What is the log likelihood ratio for each of these outcomes?  Use the log-odds form of Bayes's Rule to compute the posterior log odds for `H` after these outcomes.  In total, do these outcomes increase or decrease your confidence in the pundit?\n",
    "\n",
    "If you are interested in this topic, you can [read more about it in this blog post](http://allendowney.blogspot.com/2016/11/why-are-we-so-surprised.html)."
   ]
  },
  {
   "cell_type": "code",
   "execution_count": 113,
   "metadata": {},
   "outputs": [
    {
     "data": {
      "text/plain": [
       "1.3862943611198906"
      ]
     },
     "execution_count": 113,
     "metadata": {},
     "output_type": "execute_result"
    }
   ],
   "source": [
    "# Solution\n",
    "\n",
    "prior_log_odds = np.log(4)\n",
    "prior_log_odds"
   ]
  },
  {
   "cell_type": "code",
   "execution_count": 114,
   "metadata": {},
   "outputs": [
    {
     "data": {
      "text/plain": [
       "(0.3364722366212129, -0.5108256237659907, 0.5877866649021191)"
      ]
     },
     "execution_count": 114,
     "metadata": {},
     "output_type": "execute_result"
    }
   ],
   "source": [
    "# Solution\n",
    "\n",
    "lr1 = np.log(7/5)\n",
    "lr2 = np.log(3/5)\n",
    "lr3 = np.log(9/5)\n",
    "\n",
    "lr1, lr2, lr3"
   ]
  },
  {
   "cell_type": "code",
   "execution_count": 115,
   "metadata": {},
   "outputs": [
    {
     "data": {
      "text/plain": [
       "1.7997276388772319"
      ]
     },
     "execution_count": 115,
     "metadata": {},
     "output_type": "execute_result"
    }
   ],
   "source": [
    "# Solution\n",
    "\n",
    "posterior_log_odds = prior_log_odds + lr1 + lr2 + lr3\n",
    "posterior_log_odds"
   ]
  },
  {
   "cell_type": "markdown",
   "metadata": {},
   "source": [
    "**Exercise:** The GSS dataset we used to explore generational changes contains more than 100 other variables related to the attitudes and beliefs of the respondents.  You can [read about these variables here](https://gssdataexplorer.norc.org/projects/52787).  Choose one and run an analysis similar to what we did with `grass`."
   ]
  },
  {
   "cell_type": "markdown",
   "metadata": {},
   "source": [
    "**Exercise:**  An article in the New England Journal of Medicine reports results from a study that looked at the diagnosis rate of Attention Deficit Hyperactivity Disorder (ADHD) as a function of birth month: [\"Attention Deficit–Hyperactivity Disorder and Month of School Enrollment\"](https://www.nejm.org/doi/10.1056/NEJMoa1806828).\n",
    "\n",
    "They found that children born in June, July, and August were substantially more likely to be diagnosed with ADHD, compared to children born in September, but only in states that use a September cutoff for children to enter kindergarten.  In these states, children born in August start school almost a year younger than children born in September.  The authors of the study suggest that the cause is \"age-based variation in behavior that may be attributed to ADHD rather than to the younger age of the children\". "
   ]
  },
  {
   "cell_type": "markdown",
   "metadata": {},
   "source": [
    "The paper includes this figure:\n",
    "\n",
    "<img width=\"500\" src=\"https://www.nejm.org/na101/home/literatum/publisher/mms/journals/content/nejm/2018/nejm_2018.379.issue-22/nejmoa1806828/20190131/images/img_xlarge/nejmoa1806828_f1.jpeg\">\n",
    "\n",
    "In my opinion, this representation of the data does not show the effect as clearly as it could, but the figure includes the raw data, so we can analyze it ourselves.\n",
    "\n",
    "However, there is an error in this figure, confirmed by personal correspondence:\n",
    "\n",
    ">The May and June [diagnoses] are reversed. May should be 317 (not 287) and June should be 287 (not 317).\n",
    "\n",
    "So here is the corrected data, where `n` is the number of children born in each month, starting with January, and `k` is the number of children diagnosed with ADHD."
   ]
  },
  {
   "cell_type": "code",
   "execution_count": 116,
   "metadata": {},
   "outputs": [],
   "source": [
    "n = np.array([32690, 31238, 34405, 34565, 34977, 34415, \n",
    "                   36577, 36319, 35353, 34405, 31285, 31617])\n",
    "\n",
    "k = np.array([265, 280, 307, 312, 317, 287, \n",
    "                      320, 309, 225, 240, 232, 243])"
   ]
  },
  {
   "cell_type": "markdown",
   "metadata": {},
   "source": [
    "First, I'm going to \"roll\" the data so it starts in September rather than January."
   ]
  },
  {
   "cell_type": "code",
   "execution_count": 117,
   "metadata": {},
   "outputs": [],
   "source": [
    "x = np.arange(12)\n",
    "n = np.roll(n, -8)\n",
    "k = np.roll(k, -8)"
   ]
  },
  {
   "cell_type": "markdown",
   "metadata": {},
   "source": [
    "And I'll put it in a `DataFrame` with one row for each month and the diagnosis rate per 10,000."
   ]
  },
  {
   "cell_type": "code",
   "execution_count": 118,
   "metadata": {},
   "outputs": [
    {
     "data": {
      "text/html": [
       "<div>\n",
       "<style scoped>\n",
       "    .dataframe tbody tr th:only-of-type {\n",
       "        vertical-align: middle;\n",
       "    }\n",
       "\n",
       "    .dataframe tbody tr th {\n",
       "        vertical-align: top;\n",
       "    }\n",
       "\n",
       "    .dataframe thead th {\n",
       "        text-align: right;\n",
       "    }\n",
       "</style>\n",
       "<table border=\"1\" class=\"dataframe\">\n",
       "  <thead>\n",
       "    <tr style=\"text-align: right;\">\n",
       "      <th></th>\n",
       "      <th>x</th>\n",
       "      <th>k</th>\n",
       "      <th>n</th>\n",
       "      <th>rate</th>\n",
       "    </tr>\n",
       "  </thead>\n",
       "  <tbody>\n",
       "    <tr>\n",
       "      <th>0</th>\n",
       "      <td>0</td>\n",
       "      <td>225</td>\n",
       "      <td>35353</td>\n",
       "      <td>63.643821</td>\n",
       "    </tr>\n",
       "    <tr>\n",
       "      <th>1</th>\n",
       "      <td>1</td>\n",
       "      <td>240</td>\n",
       "      <td>34405</td>\n",
       "      <td>69.757303</td>\n",
       "    </tr>\n",
       "    <tr>\n",
       "      <th>2</th>\n",
       "      <td>2</td>\n",
       "      <td>232</td>\n",
       "      <td>31285</td>\n",
       "      <td>74.156944</td>\n",
       "    </tr>\n",
       "    <tr>\n",
       "      <th>3</th>\n",
       "      <td>3</td>\n",
       "      <td>243</td>\n",
       "      <td>31617</td>\n",
       "      <td>76.857387</td>\n",
       "    </tr>\n",
       "    <tr>\n",
       "      <th>4</th>\n",
       "      <td>4</td>\n",
       "      <td>265</td>\n",
       "      <td>32690</td>\n",
       "      <td>81.064546</td>\n",
       "    </tr>\n",
       "    <tr>\n",
       "      <th>5</th>\n",
       "      <td>5</td>\n",
       "      <td>280</td>\n",
       "      <td>31238</td>\n",
       "      <td>89.634420</td>\n",
       "    </tr>\n",
       "    <tr>\n",
       "      <th>6</th>\n",
       "      <td>6</td>\n",
       "      <td>307</td>\n",
       "      <td>34405</td>\n",
       "      <td>89.231216</td>\n",
       "    </tr>\n",
       "    <tr>\n",
       "      <th>7</th>\n",
       "      <td>7</td>\n",
       "      <td>312</td>\n",
       "      <td>34565</td>\n",
       "      <td>90.264719</td>\n",
       "    </tr>\n",
       "    <tr>\n",
       "      <th>8</th>\n",
       "      <td>8</td>\n",
       "      <td>317</td>\n",
       "      <td>34977</td>\n",
       "      <td>90.630986</td>\n",
       "    </tr>\n",
       "    <tr>\n",
       "      <th>9</th>\n",
       "      <td>9</td>\n",
       "      <td>287</td>\n",
       "      <td>34415</td>\n",
       "      <td>83.393869</td>\n",
       "    </tr>\n",
       "    <tr>\n",
       "      <th>10</th>\n",
       "      <td>10</td>\n",
       "      <td>320</td>\n",
       "      <td>36577</td>\n",
       "      <td>87.486672</td>\n",
       "    </tr>\n",
       "    <tr>\n",
       "      <th>11</th>\n",
       "      <td>11</td>\n",
       "      <td>309</td>\n",
       "      <td>36319</td>\n",
       "      <td>85.079435</td>\n",
       "    </tr>\n",
       "  </tbody>\n",
       "</table>\n",
       "</div>"
      ],
      "text/plain": [
       "     x    k      n       rate\n",
       "0    0  225  35353  63.643821\n",
       "1    1  240  34405  69.757303\n",
       "2    2  232  31285  74.156944\n",
       "3    3  243  31617  76.857387\n",
       "4    4  265  32690  81.064546\n",
       "5    5  280  31238  89.634420\n",
       "6    6  307  34405  89.231216\n",
       "7    7  312  34565  90.264719\n",
       "8    8  317  34977  90.630986\n",
       "9    9  287  34415  83.393869\n",
       "10  10  320  36577  87.486672\n",
       "11  11  309  36319  85.079435"
      ]
     },
     "execution_count": 118,
     "metadata": {},
     "output_type": "execute_result"
    }
   ],
   "source": [
    "data = pd.DataFrame(dict(x=x, k=k, n=n))\n",
    "data['rate'] = data['k'] / data['n'] * 10000\n",
    "data"
   ]
  },
  {
   "cell_type": "markdown",
   "metadata": {},
   "source": [
    "Here's what the diagnosis rates look like."
   ]
  },
  {
   "cell_type": "code",
   "execution_count": 119,
   "metadata": {},
   "outputs": [],
   "source": [
    "def plot_data(data):\n",
    "    plt.plot(data['x'], data['rate'], 'o', \n",
    "         color='C1', alpha=0.5)\n",
    "    \n",
    "    plt.axvline(5.5, color='gray', alpha=0.2)\n",
    "    plt.text(6, 64, 'Younger than average')\n",
    "    plt.text(5, 64, 'Older than average', horizontalalignment='right')\n",
    "\n",
    "    decorate(xlabel='Birth date, months after cutoff',\n",
    "             ylabel='Diagnosis rate per 10,000')"
   ]
  },
  {
   "cell_type": "code",
   "execution_count": 120,
   "metadata": {},
   "outputs": [
    {
     "data": {
      "image/png": "[encoded data removed]",
      "text/plain": [
       "<Figure size 432x288 with 1 Axes>"
      ]
     },
     "metadata": {
      "needs_background": "light"
     },
     "output_type": "display_data"
    }
   ],
   "source": [
    "plot_data(data)"
   ]
  },
  {
   "cell_type": "markdown",
   "metadata": {},
   "source": [
    "For the first 9 months, from September to May, we see what we would expect if some of the excess diagnoses are due to \"age-based variation in behavior\".  For each month of difference in age, we see an increase in the number of diagnoses.\n",
    "\n",
    "This pattern breaks down for the last three months, June, July, and August.  This might be explained by random variation, but it also might be due to parental manipulation; if some parents hold back students born near the deadline, the observations for these month would include a mixture of children who are relatively old for their grade, and therefore less likely to be diagnosed.\n",
    "\n",
    "Unfortunately, the dataset includes only month of birth, not year, so we don't know the actual ages of these students when they started school.  However, we can use the first nine months to estimate the effect of age on diagnosis rate; then we can think about what to do with the other three months.\n",
    "\n",
    "Use the methods in this chapter to estimate the probability of diagnosis as a function of birth month.  Start with the following prior distributions."
   ]
  },
  {
   "cell_type": "code",
   "execution_count": 121,
   "metadata": {},
   "outputs": [],
   "source": [
    "inters = np.linspace(-5.2, -4.6, 51)\n",
    "prior_inter = Pmf(1.0, inters)\n",
    "prior_inter.index.name = 'Intercept'"
   ]
  },
  {
   "cell_type": "code",
   "execution_count": 122,
   "metadata": {},
   "outputs": [],
   "source": [
    "slopes = np.linspace(0.0, 0.08, 51)\n",
    "prior_slope = Pmf(1.0, slopes)\n",
    "prior_slope.index.name = 'Slope'"
   ]
  },
  {
   "cell_type": "markdown",
   "metadata": {},
   "source": [
    "Make a joint prior distribution and update it using the data for the first nine months.\n",
    "\n",
    "Then draw a sample from the posterior distribution and use it to compute the median probability of diagnosis for each month and a 90% credible interval.\n",
    "\n",
    "As a bonus exercise, do a second update using the data from the last three months, but treating the observed number of diagnoses as a lower bound on the number of diagnoses there would be if no children were kept back."
   ]
  },
  {
   "cell_type": "code",
   "execution_count": 123,
   "metadata": {},
   "outputs": [
    {
     "data": {
      "text/html": [
       "<div>\n",
       "<style scoped>\n",
       "    .dataframe tbody tr th:only-of-type {\n",
       "        vertical-align: middle;\n",
       "    }\n",
       "\n",
       "    .dataframe tbody tr th {\n",
       "        vertical-align: top;\n",
       "    }\n",
       "\n",
       "    .dataframe thead th {\n",
       "        text-align: right;\n",
       "    }\n",
       "</style>\n",
       "<table border=\"1\" class=\"dataframe\">\n",
       "  <thead>\n",
       "    <tr style=\"text-align: right;\">\n",
       "      <th>Intercept</th>\n",
       "      <th>-5.200</th>\n",
       "      <th>-5.188</th>\n",
       "      <th>-5.176</th>\n",
       "      <th>-5.164</th>\n",
       "      <th>-5.152</th>\n",
       "      <th>-5.140</th>\n",
       "      <th>-5.128</th>\n",
       "      <th>-5.116</th>\n",
       "      <th>-5.104</th>\n",
       "      <th>-5.092</th>\n",
       "      <th>...</th>\n",
       "      <th>-4.708</th>\n",
       "      <th>-4.696</th>\n",
       "      <th>-4.684</th>\n",
       "      <th>-4.672</th>\n",
       "      <th>-4.660</th>\n",
       "      <th>-4.648</th>\n",
       "      <th>-4.636</th>\n",
       "      <th>-4.624</th>\n",
       "      <th>-4.612</th>\n",
       "      <th>-4.600</th>\n",
       "    </tr>\n",
       "    <tr>\n",
       "      <th>Slope</th>\n",
       "      <th></th>\n",
       "      <th></th>\n",
       "      <th></th>\n",
       "      <th></th>\n",
       "      <th></th>\n",
       "      <th></th>\n",
       "      <th></th>\n",
       "      <th></th>\n",
       "      <th></th>\n",
       "      <th></th>\n",
       "      <th></th>\n",
       "      <th></th>\n",
       "      <th></th>\n",
       "      <th></th>\n",
       "      <th></th>\n",
       "      <th></th>\n",
       "      <th></th>\n",
       "      <th></th>\n",
       "      <th></th>\n",
       "      <th></th>\n",
       "      <th></th>\n",
       "    </tr>\n",
       "  </thead>\n",
       "  <tbody>\n",
       "    <tr>\n",
       "      <th>0.0000</th>\n",
       "      <td>1.0</td>\n",
       "      <td>1.0</td>\n",
       "      <td>1.0</td>\n",
       "      <td>1.0</td>\n",
       "      <td>1.0</td>\n",
       "      <td>1.0</td>\n",
       "      <td>1.0</td>\n",
       "      <td>1.0</td>\n",
       "      <td>1.0</td>\n",
       "      <td>1.0</td>\n",
       "      <td>...</td>\n",
       "      <td>1.0</td>\n",
       "      <td>1.0</td>\n",
       "      <td>1.0</td>\n",
       "      <td>1.0</td>\n",
       "      <td>1.0</td>\n",
       "      <td>1.0</td>\n",
       "      <td>1.0</td>\n",
       "      <td>1.0</td>\n",
       "      <td>1.0</td>\n",
       "      <td>1.0</td>\n",
       "    </tr>\n",
       "    <tr>\n",
       "      <th>0.0016</th>\n",
       "      <td>1.0</td>\n",
       "      <td>1.0</td>\n",
       "      <td>1.0</td>\n",
       "      <td>1.0</td>\n",
       "      <td>1.0</td>\n",
       "      <td>1.0</td>\n",
       "      <td>1.0</td>\n",
       "      <td>1.0</td>\n",
       "      <td>1.0</td>\n",
       "      <td>1.0</td>\n",
       "      <td>...</td>\n",
       "      <td>1.0</td>\n",
       "      <td>1.0</td>\n",
       "      <td>1.0</td>\n",
       "      <td>1.0</td>\n",
       "      <td>1.0</td>\n",
       "      <td>1.0</td>\n",
       "      <td>1.0</td>\n",
       "      <td>1.0</td>\n",
       "      <td>1.0</td>\n",
       "      <td>1.0</td>\n",
       "    </tr>\n",
       "    <tr>\n",
       "      <th>0.0032</th>\n",
       "      <td>1.0</td>\n",
       "      <td>1.0</td>\n",
       "      <td>1.0</td>\n",
       "      <td>1.0</td>\n",
       "      <td>1.0</td>\n",
       "      <td>1.0</td>\n",
       "      <td>1.0</td>\n",
       "      <td>1.0</td>\n",
       "      <td>1.0</td>\n",
       "      <td>1.0</td>\n",
       "      <td>...</td>\n",
       "      <td>1.0</td>\n",
       "      <td>1.0</td>\n",
       "      <td>1.0</td>\n",
       "      <td>1.0</td>\n",
       "      <td>1.0</td>\n",
       "      <td>1.0</td>\n",
       "      <td>1.0</td>\n",
       "      <td>1.0</td>\n",
       "      <td>1.0</td>\n",
       "      <td>1.0</td>\n",
       "    </tr>\n",
       "    <tr>\n",
       "      <th>0.0048</th>\n",
       "      <td>1.0</td>\n",
       "      <td>1.0</td>\n",
       "      <td>1.0</td>\n",
       "      <td>1.0</td>\n",
       "      <td>1.0</td>\n",
       "      <td>1.0</td>\n",
       "      <td>1.0</td>\n",
       "      <td>1.0</td>\n",
       "      <td>1.0</td>\n",
       "      <td>1.0</td>\n",
       "      <td>...</td>\n",
       "      <td>1.0</td>\n",
       "      <td>1.0</td>\n",
       "      <td>1.0</td>\n",
       "      <td>1.0</td>\n",
       "      <td>1.0</td>\n",
       "      <td>1.0</td>\n",
       "      <td>1.0</td>\n",
       "      <td>1.0</td>\n",
       "      <td>1.0</td>\n",
       "      <td>1.0</td>\n",
       "    </tr>\n",
       "    <tr>\n",
       "      <th>0.0064</th>\n",
       "      <td>1.0</td>\n",
       "      <td>1.0</td>\n",
       "      <td>1.0</td>\n",
       "      <td>1.0</td>\n",
       "      <td>1.0</td>\n",
       "      <td>1.0</td>\n",
       "      <td>1.0</td>\n",
       "      <td>1.0</td>\n",
       "      <td>1.0</td>\n",
       "      <td>1.0</td>\n",
       "      <td>...</td>\n",
       "      <td>1.0</td>\n",
       "      <td>1.0</td>\n",
       "      <td>1.0</td>\n",
       "      <td>1.0</td>\n",
       "      <td>1.0</td>\n",
       "      <td>1.0</td>\n",
       "      <td>1.0</td>\n",
       "      <td>1.0</td>\n",
       "      <td>1.0</td>\n",
       "      <td>1.0</td>\n",
       "    </tr>\n",
       "  </tbody>\n",
       "</table>\n",
       "<p>5 rows × 51 columns</p>\n",
       "</div>"
      ],
      "text/plain": [
       "Intercept  -5.200  -5.188  -5.176  -5.164  -5.152  -5.140  -5.128  -5.116  \\\n",
       "Slope                                                                       \n",
       "0.0000        1.0     1.0     1.0     1.0     1.0     1.0     1.0     1.0   \n",
       "0.0016        1.0     1.0     1.0     1.0     1.0     1.0     1.0     1.0   \n",
       "0.0032        1.0     1.0     1.0     1.0     1.0     1.0     1.0     1.0   \n",
       "0.0048        1.0     1.0     1.0     1.0     1.0     1.0     1.0     1.0   \n",
       "0.0064        1.0     1.0     1.0     1.0     1.0     1.0     1.0     1.0   \n",
       "\n",
       "Intercept  -5.104  -5.092  ...  -4.708  -4.696  -4.684  -4.672  -4.660  \\\n",
       "Slope                      ...                                           \n",
       "0.0000        1.0     1.0  ...     1.0     1.0     1.0     1.0     1.0   \n",
       "0.0016        1.0     1.0  ...     1.0     1.0     1.0     1.0     1.0   \n",
       "0.0032        1.0     1.0  ...     1.0     1.0     1.0     1.0     1.0   \n",
       "0.0048        1.0     1.0  ...     1.0     1.0     1.0     1.0     1.0   \n",
       "0.0064        1.0     1.0  ...     1.0     1.0     1.0     1.0     1.0   \n",
       "\n",
       "Intercept  -4.648  -4.636  -4.624  -4.612  -4.600  \n",
       "Slope                                              \n",
       "0.0000        1.0     1.0     1.0     1.0     1.0  \n",
       "0.0016        1.0     1.0     1.0     1.0     1.0  \n",
       "0.0032        1.0     1.0     1.0     1.0     1.0  \n",
       "0.0048        1.0     1.0     1.0     1.0     1.0  \n",
       "0.0064        1.0     1.0     1.0     1.0     1.0  \n",
       "\n",
       "[5 rows x 51 columns]"
      ]
     },
     "execution_count": 123,
     "metadata": {},
     "output_type": "execute_result"
    }
   ],
   "source": [
    "# Solution\n",
    "\n",
    "joint = make_joint(prior_inter, prior_slope)\n",
    "joint.head()"
   ]
  },
  {
   "cell_type": "code",
   "execution_count": 124,
   "metadata": {},
   "outputs": [
    {
     "data": {
      "text/plain": [
       "Slope  Intercept\n",
       "0.0    -5.200       1.0\n",
       "       -5.188       1.0\n",
       "       -5.176       1.0\n",
       "       -5.164       1.0\n",
       "       -5.152       1.0\n",
       "dtype: float64"
      ]
     },
     "execution_count": 124,
     "metadata": {},
     "output_type": "execute_result"
    }
   ],
   "source": [
    "# Solution\n",
    "\n",
    "joint_pmf = Pmf(joint.stack())\n",
    "joint_pmf.head()"
   ]
  },
  {
   "cell_type": "code",
   "execution_count": 125,
   "metadata": {},
   "outputs": [
    {
     "data": {
      "text/html": [
       "<div>\n",
       "<style scoped>\n",
       "    .dataframe tbody tr th:only-of-type {\n",
       "        vertical-align: middle;\n",
       "    }\n",
       "\n",
       "    .dataframe tbody tr th {\n",
       "        vertical-align: top;\n",
       "    }\n",
       "\n",
       "    .dataframe thead th {\n",
       "        text-align: right;\n",
       "    }\n",
       "</style>\n",
       "<table border=\"1\" class=\"dataframe\">\n",
       "  <thead>\n",
       "    <tr style=\"text-align: right;\">\n",
       "      <th></th>\n",
       "      <th>x</th>\n",
       "      <th>k</th>\n",
       "      <th>n</th>\n",
       "      <th>rate</th>\n",
       "    </tr>\n",
       "  </thead>\n",
       "  <tbody>\n",
       "    <tr>\n",
       "      <th>0</th>\n",
       "      <td>0</td>\n",
       "      <td>225</td>\n",
       "      <td>35353</td>\n",
       "      <td>63.643821</td>\n",
       "    </tr>\n",
       "    <tr>\n",
       "      <th>1</th>\n",
       "      <td>1</td>\n",
       "      <td>240</td>\n",
       "      <td>34405</td>\n",
       "      <td>69.757303</td>\n",
       "    </tr>\n",
       "    <tr>\n",
       "      <th>2</th>\n",
       "      <td>2</td>\n",
       "      <td>232</td>\n",
       "      <td>31285</td>\n",
       "      <td>74.156944</td>\n",
       "    </tr>\n",
       "    <tr>\n",
       "      <th>3</th>\n",
       "      <td>3</td>\n",
       "      <td>243</td>\n",
       "      <td>31617</td>\n",
       "      <td>76.857387</td>\n",
       "    </tr>\n",
       "    <tr>\n",
       "      <th>4</th>\n",
       "      <td>4</td>\n",
       "      <td>265</td>\n",
       "      <td>32690</td>\n",
       "      <td>81.064546</td>\n",
       "    </tr>\n",
       "    <tr>\n",
       "      <th>5</th>\n",
       "      <td>5</td>\n",
       "      <td>280</td>\n",
       "      <td>31238</td>\n",
       "      <td>89.634420</td>\n",
       "    </tr>\n",
       "    <tr>\n",
       "      <th>6</th>\n",
       "      <td>6</td>\n",
       "      <td>307</td>\n",
       "      <td>34405</td>\n",
       "      <td>89.231216</td>\n",
       "    </tr>\n",
       "    <tr>\n",
       "      <th>7</th>\n",
       "      <td>7</td>\n",
       "      <td>312</td>\n",
       "      <td>34565</td>\n",
       "      <td>90.264719</td>\n",
       "    </tr>\n",
       "    <tr>\n",
       "      <th>8</th>\n",
       "      <td>8</td>\n",
       "      <td>317</td>\n",
       "      <td>34977</td>\n",
       "      <td>90.630986</td>\n",
       "    </tr>\n",
       "    <tr>\n",
       "      <th>9</th>\n",
       "      <td>9</td>\n",
       "      <td>287</td>\n",
       "      <td>34415</td>\n",
       "      <td>83.393869</td>\n",
       "    </tr>\n",
       "  </tbody>\n",
       "</table>\n",
       "</div>"
      ],
      "text/plain": [
       "   x    k      n       rate\n",
       "0  0  225  35353  63.643821\n",
       "1  1  240  34405  69.757303\n",
       "2  2  232  31285  74.156944\n",
       "3  3  243  31617  76.857387\n",
       "4  4  265  32690  81.064546\n",
       "5  5  280  31238  89.634420\n",
       "6  6  307  34405  89.231216\n",
       "7  7  312  34565  90.264719\n",
       "8  8  317  34977  90.630986\n",
       "9  9  287  34415  83.393869"
      ]
     },
     "execution_count": 125,
     "metadata": {},
     "output_type": "execute_result"
    }
   ],
   "source": [
    "# Solution\n",
    "\n",
    "num_legit = 9\n",
    "data1 = data.loc[0:num_legit]\n",
    "data2 = data.loc[num_legit+1:]\n",
    "data1"
   ]
  },
  {
   "cell_type": "code",
   "execution_count": 126,
   "metadata": {},
   "outputs": [
    {
     "data": {
      "text/html": [
       "<div>\n",
       "<style scoped>\n",
       "    .dataframe tbody tr th:only-of-type {\n",
       "        vertical-align: middle;\n",
       "    }\n",
       "\n",
       "    .dataframe tbody tr th {\n",
       "        vertical-align: top;\n",
       "    }\n",
       "\n",
       "    .dataframe thead th {\n",
       "        text-align: right;\n",
       "    }\n",
       "</style>\n",
       "<table border=\"1\" class=\"dataframe\">\n",
       "  <thead>\n",
       "    <tr style=\"text-align: right;\">\n",
       "      <th></th>\n",
       "      <th>x</th>\n",
       "      <th>k</th>\n",
       "      <th>n</th>\n",
       "      <th>rate</th>\n",
       "    </tr>\n",
       "  </thead>\n",
       "  <tbody>\n",
       "    <tr>\n",
       "      <th>10</th>\n",
       "      <td>10</td>\n",
       "      <td>320</td>\n",
       "      <td>36577</td>\n",
       "      <td>87.486672</td>\n",
       "    </tr>\n",
       "    <tr>\n",
       "      <th>11</th>\n",
       "      <td>11</td>\n",
       "      <td>309</td>\n",
       "      <td>36319</td>\n",
       "      <td>85.079435</td>\n",
       "    </tr>\n",
       "  </tbody>\n",
       "</table>\n",
       "</div>"
      ],
      "text/plain": [
       "     x    k      n       rate\n",
       "10  10  320  36577  87.486672\n",
       "11  11  309  36319  85.079435"
      ]
     },
     "execution_count": 126,
     "metadata": {},
     "output_type": "execute_result"
    }
   ],
   "source": [
    "# Solution\n",
    "\n",
    "data2"
   ]
  },
  {
   "cell_type": "code",
   "execution_count": 127,
   "metadata": {},
   "outputs": [
    {
     "data": {
      "text/plain": [
       "2.94747282449138e-17"
      ]
     },
     "execution_count": 127,
     "metadata": {},
     "output_type": "execute_result"
    }
   ],
   "source": [
    "# Solution\n",
    "\n",
    "likelihood1 = joint_pmf.copy()\n",
    "\n",
    "xs = data1['x']\n",
    "ks = data1['k']\n",
    "ns = data1['n']\n",
    "\n",
    "for slope, inter in joint_pmf.index:\n",
    "    ps = expit(inter + slope * xs)\n",
    "    likes = binom.pmf(ks, ns, ps)\n",
    "    likelihood1.loc[slope, inter] = likes.prod()\n",
    "\n",
    "likelihood1.sum()"
   ]
  },
  {
   "cell_type": "code",
   "execution_count": 128,
   "metadata": {},
   "outputs": [
    {
     "data": {
      "text/plain": [
       "1947.9020211628629"
      ]
     },
     "execution_count": 128,
     "metadata": {},
     "output_type": "execute_result"
    }
   ],
   "source": [
    "# Solution\n",
    "\n",
    "likelihood2 = joint_pmf.copy()\n",
    "\n",
    "xs = data2['x']\n",
    "ks = data2['k']\n",
    "ns = data2['n']\n",
    "\n",
    "for slope, inter in joint_pmf.index:\n",
    "    ps = expit(inter + slope * xs)\n",
    "    likes = binom.sf(ks, ns, ps)\n",
    "    likelihood2.loc[slope, inter] = likes.prod()\n",
    "\n",
    "likelihood2.sum()"
   ]
  },
  {
   "cell_type": "code",
   "execution_count": 129,
   "metadata": {},
   "outputs": [
    {
     "data": {
      "text/plain": [
       "2.94747282449138e-17"
      ]
     },
     "execution_count": 129,
     "metadata": {},
     "output_type": "execute_result"
    }
   ],
   "source": [
    "# Solution\n",
    "\n",
    "posterior_pmf = joint_pmf * likelihood1\n",
    "posterior_pmf.normalize()"
   ]
  },
  {
   "cell_type": "code",
   "execution_count": 130,
   "metadata": {},
   "outputs": [
    {
     "data": {
      "text/plain": [
       "(0.0352, -4.9719999999999995)"
      ]
     },
     "execution_count": 130,
     "metadata": {},
     "output_type": "execute_result"
    }
   ],
   "source": [
    "# Solution\n",
    "\n",
    "posterior_pmf.max_prob()"
   ]
  },
  {
   "cell_type": "code",
   "execution_count": 131,
   "metadata": {},
   "outputs": [
    {
     "data": {
      "text/plain": [
       "2.714511392301134e-17"
      ]
     },
     "execution_count": 131,
     "metadata": {},
     "output_type": "execute_result"
    }
   ],
   "source": [
    "# Solution\n",
    "\n",
    "posterior_pmf = joint_pmf * likelihood1 * likelihood2\n",
    "posterior_pmf.normalize()"
   ]
  },
  {
   "cell_type": "code",
   "execution_count": 132,
   "metadata": {},
   "outputs": [
    {
     "data": {
      "text/plain": [
       "(0.0352, -4.9719999999999995)"
      ]
     },
     "execution_count": 132,
     "metadata": {},
     "output_type": "execute_result"
    }
   ],
   "source": [
    "# Solution\n",
    "\n",
    "posterior_pmf.max_prob()"
   ]
  },
  {
   "cell_type": "code",
   "execution_count": 133,
   "metadata": {},
   "outputs": [
    {
     "data": {
      "image/png": "[encoded data removed]",
      "text/plain": [
       "<Figure size 432x288 with 1 Axes>"
      ]
     },
     "metadata": {
      "needs_background": "light"
     },
     "output_type": "display_data"
    }
   ],
   "source": [
    "# Solution\n",
    "\n",
    "joint_posterior = posterior_pmf.unstack()\n",
    "\n",
    "plot_contour(joint_posterior)\n",
    "decorate(title='Joint posterior distribution')"
   ]
  },
  {
   "cell_type": "code",
   "execution_count": 134,
   "metadata": {},
   "outputs": [
    {
     "data": {
      "text/plain": [
       "(-4.971653283490539, 0.03478864136636238)"
      ]
     },
     "execution_count": 134,
     "metadata": {},
     "output_type": "execute_result"
    }
   ],
   "source": [
    "# Solution\n",
    "\n",
    "marginal_inter = marginal(joint_posterior, 0)\n",
    "marginal_slope = marginal(joint_posterior, 1)\n",
    "\n",
    "marginal_inter.mean(), marginal_slope.mean()"
   ]
  },
  {
   "cell_type": "code",
   "execution_count": 135,
   "metadata": {},
   "outputs": [
    {
     "data": {
      "image/png": "[encoded data removed]",
      "text/plain": [
       "<Figure size 432x288 with 1 Axes>"
      ]
     },
     "metadata": {
      "needs_background": "light"
     },
     "output_type": "display_data"
    }
   ],
   "source": [
    "# Solution\n",
    "\n",
    "marginal_inter.plot()\n",
    "decorate(xlabel='Intercept',\n",
    "         ylabel='PDF',\n",
    "         title='Posterior marginal distribution of intercept')"
   ]
  },
  {
   "cell_type": "code",
   "execution_count": 136,
   "metadata": {},
   "outputs": [
    {
     "data": {
      "image/png": "[encoded data removed]",
      "text/plain": [
       "<Figure size 432x288 with 1 Axes>"
      ]
     },
     "metadata": {
      "needs_background": "light"
     },
     "output_type": "display_data"
    }
   ],
   "source": [
    "# Solution\n",
    "\n",
    "marginal_slope.plot()\n",
    "\n",
    "decorate(xlabel='Slope',\n",
    "         ylabel='PDF',\n",
    "         title='Posterior marginal distribution of slope')"
   ]
  },
  {
   "cell_type": "code",
   "execution_count": 137,
   "metadata": {},
   "outputs": [
    {
     "data": {
      "text/plain": [
       "(101, 12)"
      ]
     },
     "execution_count": 137,
     "metadata": {},
     "output_type": "execute_result"
    }
   ],
   "source": [
    "# Solution\n",
    "\n",
    "sample = posterior_pmf.sample(101)\n",
    "xs = data['x']\n",
    "ps = np.empty((len(sample), len(xs)))\n",
    "\n",
    "for i, (slope, inter) in enumerate(sample):\n",
    "    ps[i] = expit(inter + slope * xs)\n",
    "    \n",
    "ps.shape"
   ]
  },
  {
   "cell_type": "code",
   "execution_count": 138,
   "metadata": {},
   "outputs": [
    {
     "data": {
      "text/plain": [
       "array([0.00688159, 0.00712638, 0.00737981, 0.00762401, 0.00788873,\n",
       "       0.00819502, 0.00846596, 0.00876661, 0.00907784, 0.00937769,\n",
       "       0.0097181 , 0.0100867 ])"
      ]
     },
     "execution_count": 138,
     "metadata": {},
     "output_type": "execute_result"
    }
   ],
   "source": [
    "# Solution\n",
    "\n",
    "low, median, high = np.percentile(ps, [2.5, 50, 97.5], axis=0)\n",
    "median"
   ]
  },
  {
   "cell_type": "code",
   "execution_count": 139,
   "metadata": {
    "scrolled": true
   },
   "outputs": [
    {
     "data": {
      "image/png": "[encoded data removed]",
      "text/plain": [
       "<Figure size 432x288 with 1 Axes>"
      ]
     },
     "metadata": {
      "needs_background": "light"
     },
     "output_type": "display_data"
    }
   ],
   "source": [
    "# Solution\n",
    "\n",
    "plt.fill_between(xs, low*10000, high*10000, alpha=0.2)\n",
    "plt.plot(xs, median*10000, alpha=0.5)\n",
    "\n",
    "plot_data(data)"
   ]
  },
  {
   "cell_type": "code",
   "execution_count": null,
   "metadata": {},
   "outputs": [],
   "source": []
  }
 ],
 "metadata": {
  "kernelspec": {
   "display_name": "Python 3",
   "language": "python",
   "name": "python3"
  },
  "language_info": {
   "codemirror_mode": {
    "name": "ipython",
    "version": 3
   },
   "file_extension": ".py",
   "mimetype": "text/x-python",
   "name": "python",
   "nbconvert_exporter": "python",
   "pygments_lexer": "ipython3",
   "version": "3.7.7"
  }
 },
 "nbformat": 4,
 "nbformat_minor": 1
}
