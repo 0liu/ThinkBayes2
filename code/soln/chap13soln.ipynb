{
 "cells": [
  {
   "cell_type": "markdown",
   "metadata": {},
   "source": [
    "# Think Bayes\n",
    "\n",
    "Second Edition\n",
    "\n",
    "Copyright 2020 Allen B. Downey\n",
    "\n",
    "License: [Attribution-NonCommercial-ShareAlike 4.0 International (CC BY-NC-SA 4.0)](https://creativecommons.org/licenses/by-nc-sa/4.0/)"
   ]
  },
  {
   "cell_type": "code",
   "execution_count": 1,
   "metadata": {},
   "outputs": [],
   "source": [
    "# If we're running on Colab, install empiricaldist\n",
    "# https://pypi.org/project/empiricaldist/\n",
    "\n",
    "import sys\n",
    "IN_COLAB = 'google.colab' in sys.modules\n",
    "\n",
    "if IN_COLAB:\n",
    "    !pip install empiricaldist"
   ]
  },
  {
   "cell_type": "code",
   "execution_count": 2,
   "metadata": {},
   "outputs": [],
   "source": [
    "# Get utils.py and create directories\n",
    "\n",
    "import os\n",
    "\n",
    "if not os.path.exists('utils.py'):\n",
    "    !wget https://github.com/AllenDowney/ThinkBayes2/raw/master/code/soln/utils.py\n",
    "        \n",
    "if not os.path.exists('figs'):\n",
    "    !mkdir figs"
   ]
  },
  {
   "cell_type": "code",
   "execution_count": 3,
   "metadata": {},
   "outputs": [],
   "source": [
    "import numpy as np\n",
    "import pandas as pd\n",
    "import matplotlib.pyplot as plt\n",
    "\n",
    "from empiricaldist import Pmf, Cdf\n",
    "from utils import decorate, savefig"
   ]
  },
  {
   "cell_type": "markdown",
   "metadata": {},
   "source": [
    "## Introduction\n",
    "\n",
    "Three dimensions!"
   ]
  },
  {
   "cell_type": "markdown",
   "metadata": {},
   "source": [
    "## The Grizzly Bear Problem\n",
    "\n",
    "In 1996 and 1997 Mowat and Strobeck deployed bear traps in locations in British Columbia and Alberta, in an effort to estimate the population of grizzly bears.  They describe the experiment in \"[Estimating Population Size of Grizzly Bears Using Hair Capture, DNA Profiling, and Mark-Recapture Analysis](https://www.researchgate.net/publication/229195465_Estimating_Population_Size_of_Grizzly_Bears_Using_Hair_Capture_DNA_Profiling_and_Mark-Recapture_Analysis)\"\n",
    "\n",
    "The \"trap\" consists of  a lure and several strands of barbed wire intended to capture samples of hair from bears that visit the lure.  Using the hair samples, the researchers use DNA analysis to identify individual bears.\n",
    "\n",
    "During the first session, on June 29, 1996, the researchers deployed traps at 76 sites.  Returning 10 days later, they obtained 1043 hair samples and identified 23 different bears.  During a second 10-day session they obtained 1191 samples from 19 different bears, where 4 of the 19 were from bears they had identified in the first batch.\n",
    "\n",
    "To estimate the population of bears from this data, we need a model for the probability that each bear will be observed during each session.  As a starting place, we'll make the simplest assumption, that every bear in the population has the same (unknown) probability of being sampled during each round."
   ]
  },
  {
   "cell_type": "markdown",
   "metadata": {},
   "source": [
    "With these assumptions we can compute the probability of the data for a range of possible populations.\n",
    "\n",
    "As an example, let's suppose that the actual population of bears is 200.\n",
    "\n",
    "After the first session, 23 of the 200 bears have been identified.\n",
    "During the second session, if we choose 19 bears at random, what is the probability that 4 of them were previously identified?"
   ]
  },
  {
   "cell_type": "markdown",
   "metadata": {},
   "source": [
    "I'll define\n",
    "\n",
    "* N: actual (unknown) population size, 200.\n",
    "\n",
    "* K: number of bears identified in the first session, 23.\n",
    "\n",
    "* n: number of bears observed in the second session, 19 in the example.\n",
    "\n",
    "* k: the number of bears in the second session that had previously been identified, 4.\n",
    "\n",
    "For given values of N, K, and n, the distribution of k is described by the [hypergeometric distribution](https://en.wikipedia.org/wiki/Hypergeometric_distribution):\n",
    "\n",
    "$PMF(k) = {K \\choose k}{N-K \\choose n-k}/{N \\choose n}$"
   ]
  },
  {
   "cell_type": "markdown",
   "metadata": {},
   "source": [
    "To understand why, consider: \n",
    "\n",
    "* The denominator, ${ N \\choose n}$, is the number of subsets of $n$ we could choose from a population of $N$ bears.\n",
    "\n",
    "* The numerator is the number of subsets that contain $k$ bears from the previously identified $K$ and $n-k$ from the previously unseen $N-K$.\n",
    "\n",
    "SciPy provides `hypergeom`, which we can use to compute this PMF."
   ]
  },
  {
   "cell_type": "code",
   "execution_count": 121,
   "metadata": {},
   "outputs": [
    {
     "data": {
      "image/png": "[encoded data removed]",
      "text/plain": [
       "<Figure size 432x288 with 1 Axes>"
      ]
     },
     "metadata": {
      "needs_background": "light"
     },
     "output_type": "display_data"
    }
   ],
   "source": [
    "from scipy.stats import hypergeom\n",
    "\n",
    "N = 100\n",
    "K = 23\n",
    "n = 19\n",
    "\n",
    "ks = np.arange(12)\n",
    "ps = hypergeom(N, K, n).pmf(ks)\n",
    "\n",
    "plt.bar(ks, ps)\n",
    "\n",
    "decorate(xlabel='Number of bears observed twice',\n",
    "         ylabel='PMF',\n",
    "         title='Hypergeometric distribution of k (known population 200)')"
   ]
  },
  {
   "cell_type": "markdown",
   "metadata": {},
   "source": [
    "So that's the distribution of `k` given `N`, `K`, and `n`.\n",
    "Now let's go the other way: given `K`, `n`, and `k`, how can we estimate the total population, `N`?"
   ]
  },
  {
   "cell_type": "markdown",
   "metadata": {},
   "source": [
    "As a starting place, let's suppose that, prior to this study, an expert in this domain would have estimated that the population is between 50 and 500, and equally likely to be any value in that range."
   ]
  },
  {
   "cell_type": "code",
   "execution_count": 122,
   "metadata": {},
   "outputs": [],
   "source": [
    "Ns = np.arange(50, 501)\n",
    "prior_N = Pmf(1.0, Ns)\n",
    "prior_N.index.name = 'N'"
   ]
  },
  {
   "cell_type": "markdown",
   "metadata": {},
   "source": [
    "So that's our prior.\n",
    "\n",
    "To compute the likelihood of the data, we can use `hypergeom` with constants `K` and `n`, and a range of values of `N`. "
   ]
  },
  {
   "cell_type": "code",
   "execution_count": 123,
   "metadata": {},
   "outputs": [],
   "source": [
    "K = 23\n",
    "n = 19\n",
    "k = 4\n",
    "\n",
    "likelihood = hypergeom(Ns, K, n).pmf(k)"
   ]
  },
  {
   "cell_type": "markdown",
   "metadata": {},
   "source": [
    "We can compute the posterior in the usual way."
   ]
  },
  {
   "cell_type": "code",
   "execution_count": 124,
   "metadata": {},
   "outputs": [
    {
     "data": {
      "text/plain": [
       "34.97606148975133"
      ]
     },
     "execution_count": 124,
     "metadata": {},
     "output_type": "execute_result"
    }
   ],
   "source": [
    "posterior_N = prior_N * likelihood\n",
    "posterior_N.normalize()"
   ]
  },
  {
   "cell_type": "markdown",
   "metadata": {},
   "source": [
    "And here's what it looks like."
   ]
  },
  {
   "cell_type": "code",
   "execution_count": 125,
   "metadata": {},
   "outputs": [
    {
     "data": {
      "image/png": "[encoded data removed]",
      "text/plain": [
       "<Figure size 432x288 with 1 Axes>"
      ]
     },
     "metadata": {
      "needs_background": "light"
     },
     "output_type": "display_data"
    }
   ],
   "source": [
    "posterior_N.plot()\n",
    "\n",
    "decorate(xlabel='Population of bears (N)',\n",
    "         ylabel='PDF',\n",
    "         title='Posterior distribution of N')"
   ]
  },
  {
   "cell_type": "markdown",
   "metadata": {},
   "source": [
    "The most likely value is 109."
   ]
  },
  {
   "cell_type": "code",
   "execution_count": 126,
   "metadata": {},
   "outputs": [
    {
     "data": {
      "text/plain": [
       "109"
      ]
     },
     "execution_count": 126,
     "metadata": {},
     "output_type": "execute_result"
    }
   ],
   "source": [
    "posterior_N.max_prob()"
   ]
  },
  {
   "cell_type": "markdown",
   "metadata": {},
   "source": [
    "But the distribution is skewed to the right, so the posterior mean is substantially higher."
   ]
  },
  {
   "cell_type": "code",
   "execution_count": 127,
   "metadata": {},
   "outputs": [
    {
     "data": {
      "text/plain": [
       "173.79880627085643"
      ]
     },
     "execution_count": 127,
     "metadata": {},
     "output_type": "execute_result"
    }
   ],
   "source": [
    "posterior_N.mean()"
   ]
  },
  {
   "cell_type": "markdown",
   "metadata": {},
   "source": [
    "And the credible interval is quite wide."
   ]
  },
  {
   "cell_type": "code",
   "execution_count": 128,
   "metadata": {},
   "outputs": [
    {
     "data": {
      "text/plain": [
       "array([ 77., 363.])"
      ]
     },
     "execution_count": 128,
     "metadata": {},
     "output_type": "execute_result"
    }
   ],
   "source": [
    "posterior_N.credible_interval(0.9)"
   ]
  },
  {
   "cell_type": "markdown",
   "metadata": {},
   "source": [
    "This solution is relatively simple, but it turn out we can do a little better if we model the unknown probability of observing a bear explicitly."
   ]
  },
  {
   "cell_type": "markdown",
   "metadata": {},
   "source": [
    "## Two parameter model\n",
    "\n",
    "In this model there are two parameters: the number of bears, `N`, and the probability of observing a bear, `p`.\n",
    "\n",
    "I'll assume that the probability is the same in both rounds, which is probably reasonable in this case because it is the same kind of trap in the same place.\n",
    "\n",
    "I'll also assume that the probabilities are independent; that is, the probability a bear is observed in the second round does not depend on whether it was observed in the first round.  This second assumption might be less reasonable, but for now it is a necessary simplification.\n",
    "\n",
    "Here are the counts again:"
   ]
  },
  {
   "cell_type": "code",
   "execution_count": 129,
   "metadata": {},
   "outputs": [],
   "source": [
    "K = 23\n",
    "n = 19\n",
    "k = 4"
   ]
  },
  {
   "cell_type": "markdown",
   "metadata": {},
   "source": [
    "For this model, I'll express the data in different notation: \n",
    "\n",
    "* `k10` is the number of bears observed in the first round but not the second,\n",
    "\n",
    "* `k01` is the number of bears observed in the second round but not the first, and\n",
    "\n",
    "* `k11` is the number of bears observed in both rounds.\n",
    "\n",
    "Here are their values."
   ]
  },
  {
   "cell_type": "code",
   "execution_count": 130,
   "metadata": {},
   "outputs": [],
   "source": [
    "k10 = 23 - 4\n",
    "k01 = 19 - 4\n",
    "k11 = 4"
   ]
  },
  {
   "cell_type": "markdown",
   "metadata": {},
   "source": [
    "Now, as an example, suppose we know the actual values of `N` and `p`.  We can use them to compute the likelihood of this data.\n",
    "\n",
    "For example, if we know that `N=100`, we can compute `k00`, which is the number of unobserved bears."
   ]
  },
  {
   "cell_type": "code",
   "execution_count": 131,
   "metadata": {},
   "outputs": [
    {
     "data": {
      "text/plain": [
       "62"
      ]
     },
     "execution_count": 131,
     "metadata": {},
     "output_type": "execute_result"
    }
   ],
   "source": [
    "N = 100\n",
    "\n",
    "observed = k01 + k10 + k11\n",
    "k00 = N - observed\n",
    "k00"
   ]
  },
  {
   "cell_type": "markdown",
   "metadata": {},
   "source": [
    "And we can represent the data as a list of counts."
   ]
  },
  {
   "cell_type": "code",
   "execution_count": 132,
   "metadata": {},
   "outputs": [
    {
     "data": {
      "text/plain": [
       "[62, 15, 19, 4]"
      ]
     },
     "execution_count": 132,
     "metadata": {},
     "output_type": "execute_result"
    }
   ],
   "source": [
    "x = [k00, k01, k10, k11]\n",
    "x"
   ]
  },
  {
   "cell_type": "markdown",
   "metadata": {},
   "source": [
    "If we know `p=0.2`, we can compute the probability a bear falls in each category.  For example, the probability of being observed in both rounds is `p*p`, and the probability of being unobserved in both rounds is `q*q` (where `q=1-p`)."
   ]
  },
  {
   "cell_type": "code",
   "execution_count": 133,
   "metadata": {},
   "outputs": [
    {
     "data": {
      "text/plain": [
       "[0.6400000000000001,\n",
       " 0.16000000000000003,\n",
       " 0.16000000000000003,\n",
       " 0.04000000000000001]"
      ]
     },
     "execution_count": 133,
     "metadata": {},
     "output_type": "execute_result"
    }
   ],
   "source": [
    "p = 0.2\n",
    "q = 1-p\n",
    "ps = [q*q, q*p, p*q, p*p]\n",
    "ps"
   ]
  },
  {
   "attachments": {},
   "cell_type": "markdown",
   "metadata": {},
   "source": [
    "Now the probability of the data is given by the PMF of the [multinomial distribution](https://en.wikipedia.org/wiki/Multinomial_distribution):\n",
    "\n",
    "$\\mathrm{PMF}(x, n, p) = \\frac{n!}{\\prod x_i!} \\prod p_i^{x_i} $\n",
    "\n",
    "where $x$ is an array of counts, $n$ is the sum of the counts, and $p$ is an array of probabilities.\n",
    "\n",
    "SciPy provides `multinomial`, which provides `pmf`, which computes this PMF.\n",
    "Here is the probability of the data for these values of `N` and `p`."
   ]
  },
  {
   "cell_type": "code",
   "execution_count": 134,
   "metadata": {},
   "outputs": [
    {
     "data": {
      "text/plain": [
       "0.0016664011988507257"
      ]
     },
     "execution_count": 134,
     "metadata": {},
     "output_type": "execute_result"
    }
   ],
   "source": [
    "from scipy.stats import multinomial\n",
    "\n",
    "likelihood = multinomial.pmf(x, N, ps)\n",
    "likelihood"
   ]
  },
  {
   "cell_type": "markdown",
   "metadata": {},
   "source": [
    "Now we are ready to do a Bayesian update.\n",
    "Here is a uniform prior for the number of bears, `N`:"
   ]
  },
  {
   "cell_type": "code",
   "execution_count": 135,
   "metadata": {},
   "outputs": [],
   "source": [
    "Ns = np.arange(50, 501)\n",
    "prior_N = Pmf(1.0, Ns)\n",
    "prior_N.index.name = 'N'"
   ]
  },
  {
   "cell_type": "markdown",
   "metadata": {},
   "source": [
    "And a uniform prior for the probability of observing a bear, `p`:"
   ]
  },
  {
   "cell_type": "code",
   "execution_count": 138,
   "metadata": {},
   "outputs": [],
   "source": [
    "ps = np.linspace(0, 1, 100, endpoint=False)\n",
    "prior_p = Pmf(1.0, ps)\n",
    "prior_p.index.name = 'p'"
   ]
  },
  {
   "cell_type": "markdown",
   "metadata": {},
   "source": [
    "We can make a joint distribution is the usual way."
   ]
  },
  {
   "cell_type": "code",
   "execution_count": 139,
   "metadata": {},
   "outputs": [
    {
     "data": {
      "text/html": [
       "<div>\n",
       "<style scoped>\n",
       "    .dataframe tbody tr th:only-of-type {\n",
       "        vertical-align: middle;\n",
       "    }\n",
       "\n",
       "    .dataframe tbody tr th {\n",
       "        vertical-align: top;\n",
       "    }\n",
       "\n",
       "    .dataframe thead th {\n",
       "        text-align: right;\n",
       "    }\n",
       "</style>\n",
       "<table border=\"1\" class=\"dataframe\">\n",
       "  <thead>\n",
       "    <tr style=\"text-align: right;\">\n",
       "      <th>p</th>\n",
       "      <th>0.00</th>\n",
       "      <th>0.01</th>\n",
       "      <th>0.02</th>\n",
       "      <th>0.03</th>\n",
       "      <th>0.04</th>\n",
       "      <th>0.05</th>\n",
       "      <th>0.06</th>\n",
       "      <th>0.07</th>\n",
       "      <th>0.08</th>\n",
       "      <th>0.09</th>\n",
       "      <th>...</th>\n",
       "      <th>0.90</th>\n",
       "      <th>0.91</th>\n",
       "      <th>0.92</th>\n",
       "      <th>0.93</th>\n",
       "      <th>0.94</th>\n",
       "      <th>0.95</th>\n",
       "      <th>0.96</th>\n",
       "      <th>0.97</th>\n",
       "      <th>0.98</th>\n",
       "      <th>0.99</th>\n",
       "    </tr>\n",
       "    <tr>\n",
       "      <th>N</th>\n",
       "      <th></th>\n",
       "      <th></th>\n",
       "      <th></th>\n",
       "      <th></th>\n",
       "      <th></th>\n",
       "      <th></th>\n",
       "      <th></th>\n",
       "      <th></th>\n",
       "      <th></th>\n",
       "      <th></th>\n",
       "      <th></th>\n",
       "      <th></th>\n",
       "      <th></th>\n",
       "      <th></th>\n",
       "      <th></th>\n",
       "      <th></th>\n",
       "      <th></th>\n",
       "      <th></th>\n",
       "      <th></th>\n",
       "      <th></th>\n",
       "      <th></th>\n",
       "    </tr>\n",
       "  </thead>\n",
       "  <tbody>\n",
       "    <tr>\n",
       "      <th>50</th>\n",
       "      <td>1.0</td>\n",
       "      <td>1.0</td>\n",
       "      <td>1.0</td>\n",
       "      <td>1.0</td>\n",
       "      <td>1.0</td>\n",
       "      <td>1.0</td>\n",
       "      <td>1.0</td>\n",
       "      <td>1.0</td>\n",
       "      <td>1.0</td>\n",
       "      <td>1.0</td>\n",
       "      <td>...</td>\n",
       "      <td>1.0</td>\n",
       "      <td>1.0</td>\n",
       "      <td>1.0</td>\n",
       "      <td>1.0</td>\n",
       "      <td>1.0</td>\n",
       "      <td>1.0</td>\n",
       "      <td>1.0</td>\n",
       "      <td>1.0</td>\n",
       "      <td>1.0</td>\n",
       "      <td>1.0</td>\n",
       "    </tr>\n",
       "    <tr>\n",
       "      <th>51</th>\n",
       "      <td>1.0</td>\n",
       "      <td>1.0</td>\n",
       "      <td>1.0</td>\n",
       "      <td>1.0</td>\n",
       "      <td>1.0</td>\n",
       "      <td>1.0</td>\n",
       "      <td>1.0</td>\n",
       "      <td>1.0</td>\n",
       "      <td>1.0</td>\n",
       "      <td>1.0</td>\n",
       "      <td>...</td>\n",
       "      <td>1.0</td>\n",
       "      <td>1.0</td>\n",
       "      <td>1.0</td>\n",
       "      <td>1.0</td>\n",
       "      <td>1.0</td>\n",
       "      <td>1.0</td>\n",
       "      <td>1.0</td>\n",
       "      <td>1.0</td>\n",
       "      <td>1.0</td>\n",
       "      <td>1.0</td>\n",
       "    </tr>\n",
       "  </tbody>\n",
       "</table>\n",
       "<p>2 rows × 100 columns</p>\n",
       "</div>"
      ],
      "text/plain": [
       "p   0.00  0.01  0.02  0.03  0.04  0.05  0.06  0.07  0.08  0.09  ...  0.90  \\\n",
       "N                                                               ...         \n",
       "50   1.0   1.0   1.0   1.0   1.0   1.0   1.0   1.0   1.0   1.0  ...   1.0   \n",
       "51   1.0   1.0   1.0   1.0   1.0   1.0   1.0   1.0   1.0   1.0  ...   1.0   \n",
       "\n",
       "p   0.91  0.92  0.93  0.94  0.95  0.96  0.97  0.98  0.99  \n",
       "N                                                         \n",
       "50   1.0   1.0   1.0   1.0   1.0   1.0   1.0   1.0   1.0  \n",
       "51   1.0   1.0   1.0   1.0   1.0   1.0   1.0   1.0   1.0  \n",
       "\n",
       "[2 rows x 100 columns]"
      ]
     },
     "execution_count": 139,
     "metadata": {},
     "output_type": "execute_result"
    }
   ],
   "source": [
    "from utils import make_joint\n",
    "\n",
    "joint_prior = make_joint(prior_p, prior_N)\n",
    "joint_prior.head(2)"
   ]
  },
  {
   "cell_type": "markdown",
   "metadata": {},
   "source": [
    "The result is a Pandas `DataFrame` with value of `N` down the rows and values of `p` across the columns.\n",
    "However, for this problem it will be convenient to represent the prior distribution as a 1-D `Series` rather than a 2-D `DataFrame`.\n",
    "We can convert from one format to the other using `stack`."
   ]
  },
  {
   "cell_type": "code",
   "execution_count": 140,
   "metadata": {},
   "outputs": [
    {
     "data": {
      "text/plain": [
       "N   p   \n",
       "50  0.00    1.0\n",
       "    0.01    1.0\n",
       "    0.02    1.0\n",
       "    0.03    1.0\n",
       "    0.04    1.0\n",
       "dtype: float64"
      ]
     },
     "execution_count": 140,
     "metadata": {},
     "output_type": "execute_result"
    }
   ],
   "source": [
    "joint_pmf = joint_prior.stack()\n",
    "joint_pmf.head()"
   ]
  },
  {
   "cell_type": "markdown",
   "metadata": {},
   "source": [
    "The result is a `Series` whose index is a `MultiIndex`."
   ]
  },
  {
   "cell_type": "code",
   "execution_count": 141,
   "metadata": {},
   "outputs": [
    {
     "data": {
      "text/plain": [
       "pandas.core.series.Series"
      ]
     },
     "execution_count": 141,
     "metadata": {},
     "output_type": "execute_result"
    }
   ],
   "source": [
    "type(joint_pmf)"
   ]
  },
  {
   "cell_type": "code",
   "execution_count": 142,
   "metadata": {},
   "outputs": [
    {
     "data": {
      "text/plain": [
       "pandas.core.indexes.multi.MultiIndex"
      ]
     },
     "execution_count": 142,
     "metadata": {},
     "output_type": "execute_result"
    }
   ],
   "source": [
    "type(joint_pmf.index)"
   ]
  },
  {
   "cell_type": "markdown",
   "metadata": {},
   "source": [
    "A `MultiIndex` can have more than one column; in this example, the first column contains values of `N` and the second column contains values of `p`.\n",
    "The `Series` has one row (and one prior probability) for each possible pair of parameters `N` and `p`.\n",
    "So the total number of rows is the product of the lengths of `prior_N` and `prior_p`."
   ]
  },
  {
   "cell_type": "code",
   "execution_count": 143,
   "metadata": {},
   "outputs": [
    {
     "data": {
      "text/plain": [
       "(45100,)"
      ]
     },
     "execution_count": 143,
     "metadata": {},
     "output_type": "execute_result"
    }
   ],
   "source": [
    "joint_pmf.shape"
   ]
  },
  {
   "cell_type": "markdown",
   "metadata": {},
   "source": [
    "Now we have to compute the likelihood of the data for each pair of parameters.\n",
    "To allocate space for the likelihoods, it is convenient to make a copy of `joint_pmf`:"
   ]
  },
  {
   "cell_type": "code",
   "execution_count": 144,
   "metadata": {},
   "outputs": [],
   "source": [
    "observed = k01 + k10 + k11\n",
    "likelihood = joint_pmf.copy()"
   ]
  },
  {
   "cell_type": "markdown",
   "metadata": {},
   "source": [
    "As we loop through the pairs of parameters, we compute the likelihood of the data as in the previous section, and then use `loc` to store the result as a row in `likelihood`."
   ]
  },
  {
   "cell_type": "code",
   "execution_count": 145,
   "metadata": {},
   "outputs": [],
   "source": [
    "for N, p in joint_pmf.index:\n",
    "    k00 = N - observed\n",
    "    x = [k00, k01, k10, k11]\n",
    "    q = 1-p\n",
    "    ps = [q*q, q*p, p*q, p*p]\n",
    "    likelihood.loc[N, p] = multinomial.pmf(x, N, ps)"
   ]
  },
  {
   "cell_type": "markdown",
   "metadata": {},
   "source": [
    "Now we can compute the posterior in the usual way."
   ]
  },
  {
   "cell_type": "code",
   "execution_count": 146,
   "metadata": {},
   "outputs": [],
   "source": [
    "posterior_pmf = joint_pmf * likelihood\n",
    "normalize(posterior_pmf)"
   ]
  },
  {
   "cell_type": "markdown",
   "metadata": {},
   "source": [
    "We can use `plot_contour` again to visualize the joint posterior distribution."
   ]
  },
  {
   "cell_type": "code",
   "execution_count": 147,
   "metadata": {},
   "outputs": [],
   "source": [
    "def plot_contour(joint, **options):\n",
    "    \"\"\"Plot a joint distribution.\n",
    "    \n",
    "    joint: DataFrame representing a joint PMF\n",
    "    \"\"\"\n",
    "    cs = plt.contour(joint.columns, joint.index, joint, **options)\n",
    "    decorate(xlabel=joint.columns.name, \n",
    "             ylabel=joint.index.name)\n",
    "    return cs"
   ]
  },
  {
   "cell_type": "markdown",
   "metadata": {},
   "source": [
    "But remember that the posterior distribution we just computed is represented as a `Series`, and `plot_contour` expects a `DataFrame`.\n",
    "\n",
    "Since we used `stack` to convert from a `DataFrame` to a `Series`, we can use `unstack` to go the other way."
   ]
  },
  {
   "cell_type": "code",
   "execution_count": 155,
   "metadata": {},
   "outputs": [],
   "source": [
    "joint_posterior = posterior_pmf.unstack()"
   ]
  },
  {
   "cell_type": "markdown",
   "metadata": {},
   "source": [
    "And here's what the result looks like."
   ]
  },
  {
   "cell_type": "code",
   "execution_count": 156,
   "metadata": {},
   "outputs": [
    {
     "data": {
      "image/png": "[encoded data removed]",
      "text/plain": [
       "<Figure size 432x288 with 1 Axes>"
      ]
     },
     "metadata": {
      "needs_background": "light"
     },
     "output_type": "display_data"
    }
   ],
   "source": [
    "plot_contour(joint_posterior)\n",
    "\n",
    "decorate(title='Joint posterior distribution of N and p')"
   ]
  },
  {
   "cell_type": "markdown",
   "metadata": {},
   "source": [
    "Now that we have a posterior `DataFrame`, we can extract the marginal distributions in the usual way.\n",
    "\n",
    "Here's the posterior distribution for `N`, compared to the posterior we got using the hypergeometric distribution."
   ]
  },
  {
   "cell_type": "code",
   "execution_count": 158,
   "metadata": {},
   "outputs": [
    {
     "data": {
      "image/png": "[encoded data removed]",
      "text/plain": [
       "<Figure size 432x288 with 1 Axes>"
      ]
     },
     "metadata": {
      "needs_background": "light"
     },
     "output_type": "display_data"
    }
   ],
   "source": [
    "from utils import marginal\n",
    "\n",
    "posterior2_N = marginal(joint_posterior, 1)\n",
    "\n",
    "posterior_N.plot(color='gray')\n",
    "posterior2_N.plot()\n",
    "\n",
    "decorate(xlabel='Population of bears (N)',\n",
    "         ylabel='PDF',\n",
    "         title='Posterior marginal distribution of N')"
   ]
  },
  {
   "cell_type": "markdown",
   "metadata": {},
   "source": [
    "The mean is a little lower and the 90% credible interval is a little narrower."
   ]
  },
  {
   "cell_type": "code",
   "execution_count": 159,
   "metadata": {},
   "outputs": [
    {
     "data": {
      "text/plain": [
       "(173.79880627085643, array([ 77., 363.]))"
      ]
     },
     "execution_count": 159,
     "metadata": {},
     "output_type": "execute_result"
    }
   ],
   "source": [
    "posterior_N.mean(), posterior_N.credible_interval(0.9)"
   ]
  },
  {
   "cell_type": "code",
   "execution_count": 151,
   "metadata": {},
   "outputs": [
    {
     "data": {
      "text/plain": [
       "(138.75052136472598, array([ 68., 277.]))"
      ]
     },
     "execution_count": 151,
     "metadata": {},
     "output_type": "execute_result"
    }
   ],
   "source": [
    "posterior2_N.mean(), posterior2_N.credible_interval(0.9)"
   ]
  },
  {
   "cell_type": "markdown",
   "metadata": {},
   "source": [
    "And here's the posterior distribution for `p`:"
   ]
  },
  {
   "cell_type": "code",
   "execution_count": 160,
   "metadata": {},
   "outputs": [
    {
     "data": {
      "image/png": "[encoded data removed]",
      "text/plain": [
       "<Figure size 432x288 with 1 Axes>"
      ]
     },
     "metadata": {
      "needs_background": "light"
     },
     "output_type": "display_data"
    }
   ],
   "source": [
    "posterior2_p = marginal(joint_posterior, 0)\n",
    "posterior2_p.plot()\n",
    "\n",
    "decorate(xlabel='Probability of observing a bear',\n",
    "         ylabel='PDF',\n",
    "         title='Posterior marginal distribution of p')"
   ]
  },
  {
   "cell_type": "markdown",
   "metadata": {},
   "source": [
    "Seaborn provides a class called `JointGrid` that shows the joint distribution and marginal distributions in a single plot."
   ]
  },
  {
   "cell_type": "code",
   "execution_count": 153,
   "metadata": {},
   "outputs": [],
   "source": [
    "from seaborn import JointGrid\n",
    "\n",
    "def joint_plot(joint, **options):\n",
    "    x = joint.columns.name\n",
    "    x = 'x' if x is None else x\n",
    "\n",
    "    y = joint.index.name\n",
    "    y = 'y' if y is None else y\n",
    "\n",
    "    # make a JointGrid with minimal data\n",
    "    data = pd.DataFrame({x:[0], y:[0]})\n",
    "    g = JointGrid(x, y, data, **options)\n",
    "\n",
    "    # replace the contour plot\n",
    "    g.ax_joint.contour(joint.columns, \n",
    "                   joint.index, \n",
    "                   joint, \n",
    "                   cmap='viridis')\n",
    "    \n",
    "    # replace the marginals\n",
    "    marginal_x = marginal(joint, 0)\n",
    "    g.ax_marg_x.plot(marginal_x.qs, marginal_x.ps)\n",
    "    \n",
    "    marginal_y = marginal(joint, 1)\n",
    "    g.ax_marg_y.plot(marginal_y.ps, marginal_y.qs)"
   ]
  },
  {
   "cell_type": "code",
   "execution_count": 31,
   "metadata": {},
   "outputs": [
    {
     "data": {
      "image/png": "[encoded data removed]",
      "text/plain": [
       "<Figure size 432x432 with 3 Axes>"
      ]
     },
     "metadata": {
      "needs_background": "light"
     },
     "output_type": "display_data"
    }
   ],
   "source": [
    "joint_plot(joint_posterior)"
   ]
  },
  {
   "cell_type": "markdown",
   "metadata": {},
   "source": [
    "A `JointGrid` is a concise way to represent the results.  It also makes it clearer why marginal distributions are called \"marginal\"."
   ]
  },
  {
   "cell_type": "markdown",
   "metadata": {},
   "source": [
    "## Two parameters better than one?"
   ]
  },
  {
   "cell_type": "code",
   "execution_count": 32,
   "metadata": {},
   "outputs": [],
   "source": [
    "import warnings\n",
    "warnings.filterwarnings(\"error\")"
   ]
  },
  {
   "cell_type": "code",
   "execution_count": 33,
   "metadata": {},
   "outputs": [
    {
     "data": {
      "text/plain": [
       "0.15217391304347827"
      ]
     },
     "execution_count": 33,
     "metadata": {},
     "output_type": "execute_result"
    }
   ],
   "source": [
    "mean = (23 + 19) / 2\n",
    "N1 = 138\n",
    "p = mean/N1\n",
    "p"
   ]
  },
  {
   "cell_type": "code",
   "execution_count": 34,
   "metadata": {},
   "outputs": [
    {
     "data": {
      "text/plain": [
       "4.219519857292647"
      ]
     },
     "execution_count": 34,
     "metadata": {},
     "output_type": "execute_result"
    }
   ],
   "source": [
    "from scipy.stats import binom\n",
    "\n",
    "binom(N1, p).std()"
   ]
  },
  {
   "cell_type": "code",
   "execution_count": 35,
   "metadata": {},
   "outputs": [
    {
     "data": {
      "text/plain": [
       "0.007113233315460428"
      ]
     },
     "execution_count": 35,
     "metadata": {},
     "output_type": "execute_result"
    }
   ],
   "source": [
    "binom(N1, p).pmf([23, 19]).prod()"
   ]
  },
  {
   "cell_type": "code",
   "execution_count": 36,
   "metadata": {},
   "outputs": [
    {
     "data": {
      "text/plain": [
       "0.12138728323699421"
      ]
     },
     "execution_count": 36,
     "metadata": {},
     "output_type": "execute_result"
    }
   ],
   "source": [
    "N2 = 173\n",
    "p = mean/N2\n",
    "p"
   ]
  },
  {
   "cell_type": "code",
   "execution_count": 37,
   "metadata": {},
   "outputs": [
    {
     "data": {
      "text/plain": [
       "4.2954472470306415"
      ]
     },
     "execution_count": 37,
     "metadata": {},
     "output_type": "execute_result"
    }
   ],
   "source": [
    "binom(N2, p).std()"
   ]
  },
  {
   "cell_type": "code",
   "execution_count": 38,
   "metadata": {},
   "outputs": [
    {
     "data": {
      "text/plain": [
       "0.006918408214247037"
      ]
     },
     "execution_count": 38,
     "metadata": {},
     "output_type": "execute_result"
    }
   ],
   "source": [
    "binom(N2, p).pmf([23, 19]).prod()"
   ]
  },
  {
   "cell_type": "markdown",
   "metadata": {},
   "source": [
    "## The Lincoln index problem\n",
    "\n",
    "A few years ago my occasional correspondent John D. Cook wrote an excellent\n",
    "blog post about the Lincoln index, which is a way to estimate the\n",
    "number of errors in a document (or program) by comparing results from\n",
    "two independent testers. \n",
    "\n",
    "http://www.johndcook.com/blog/2010/07/13/lincoln-index/\n",
    "\n",
    "Here's his presentation of the problem:\n",
    "\n",
    ">\"Suppose you have a tester who finds 20 bugs in your program. You\n",
    "want to estimate how many bugs are really in the program. You know\n",
    "there are at least 20 bugs, and if you have supreme confidence in your\n",
    "tester, you may suppose there are around 20 bugs. But maybe your\n",
    "tester isn't very good. Maybe there are hundreds of bugs. How can you\n",
    "have any idea how many bugs there are? There's no way to know with one\n",
    "tester. But if you have two testers, you can get a good idea, even if\n",
    "you don't know how skilled the testers are.\"\n",
    "\n",
    "Suppose the first tester finds 20 bugs, the second finds 15, and they\n",
    "find 3 in common; how can we estimate the number of bugs?"
   ]
  },
  {
   "cell_type": "code",
   "execution_count": 39,
   "metadata": {},
   "outputs": [],
   "source": [
    "k10 = 20 - 3\n",
    "k01 = 15 - 3\n",
    "k11 = 3"
   ]
  },
  {
   "cell_type": "code",
   "execution_count": 40,
   "metadata": {},
   "outputs": [],
   "source": [
    "data = np.array([0, k01, k10, k11])"
   ]
  },
  {
   "cell_type": "code",
   "execution_count": 41,
   "metadata": {},
   "outputs": [],
   "source": [
    "p0, p1 = 0.2, 0.15"
   ]
  },
  {
   "cell_type": "code",
   "execution_count": 42,
   "metadata": {},
   "outputs": [],
   "source": [
    "def compute_ps(p0, p1):\n",
    "    q0 = 1-p0\n",
    "    q1 = 1-p1\n",
    "    return [q0*q1, q0*p1, p0*q1, p0*p1]"
   ]
  },
  {
   "cell_type": "code",
   "execution_count": 43,
   "metadata": {},
   "outputs": [
    {
     "data": {
      "text/plain": [
       "[0.68, 0.12, 0.17, 0.03]"
      ]
     },
     "execution_count": 43,
     "metadata": {},
     "output_type": "execute_result"
    }
   ],
   "source": [
    "ps = compute_ps(p0, p1)\n",
    "ps"
   ]
  },
  {
   "cell_type": "code",
   "execution_count": 44,
   "metadata": {},
   "outputs": [],
   "source": [
    "Ns = np.arange(32, 350)\n",
    "prior_N = Pmf(1.0, Ns)\n",
    "prior_N.index.name = 'N'"
   ]
  },
  {
   "cell_type": "code",
   "execution_count": 45,
   "metadata": {},
   "outputs": [],
   "source": [
    "likelihood = prior_N.copy()\n",
    "observed = data.sum()\n",
    "x = data.copy()\n",
    "\n",
    "for N in Ns:\n",
    "    x[0] = N - observed\n",
    "    likelihood[N] = multinomial.pmf(x, N, ps)"
   ]
  },
  {
   "cell_type": "code",
   "execution_count": 46,
   "metadata": {},
   "outputs": [
    {
     "data": {
      "text/plain": [
       "0.10960645032182426"
      ]
     },
     "execution_count": 46,
     "metadata": {},
     "output_type": "execute_result"
    }
   ],
   "source": [
    "posterior_N = prior_N * likelihood\n",
    "posterior_N.normalize()"
   ]
  },
  {
   "cell_type": "code",
   "execution_count": 47,
   "metadata": {},
   "outputs": [
    {
     "data": {
      "image/png": "[encoded data removed]",
      "text/plain": [
       "<Figure size 432x288 with 1 Axes>"
      ]
     },
     "metadata": {
      "needs_background": "light"
     },
     "output_type": "display_data"
    }
   ],
   "source": [
    "posterior_N.plot()\n",
    "\n",
    "decorate(xlabel='n',\n",
    "         ylabel='PMF',\n",
    "         title='Posterior marginal distribution of n with known p1, p2')"
   ]
  },
  {
   "cell_type": "code",
   "execution_count": 48,
   "metadata": {},
   "outputs": [
    {
     "data": {
      "text/plain": [
       "102.12500000000006"
      ]
     },
     "execution_count": 48,
     "metadata": {},
     "output_type": "execute_result"
    }
   ],
   "source": [
    "posterior_N.mean()"
   ]
  },
  {
   "cell_type": "markdown",
   "metadata": {},
   "source": [
    "## Unknown probabilities"
   ]
  },
  {
   "cell_type": "code",
   "execution_count": 49,
   "metadata": {},
   "outputs": [],
   "source": [
    "Ns = np.arange(32, 350, 5)\n",
    "prior_N = Pmf(1.0, Ns)\n",
    "prior_N.index.name = 'N'"
   ]
  },
  {
   "cell_type": "code",
   "execution_count": 50,
   "metadata": {},
   "outputs": [],
   "source": [
    "p0 = np.linspace(0, 1, 51)\n",
    "prior_p0 = Pmf(1.0, p0)\n",
    "prior_p0.index.name = 'p0'"
   ]
  },
  {
   "cell_type": "code",
   "execution_count": 51,
   "metadata": {},
   "outputs": [],
   "source": [
    "p1 = np.linspace(0, 1, 51)\n",
    "prior_p1 = Pmf(1.0, p1)\n",
    "prior_p1.index.name = 'p1'"
   ]
  },
  {
   "cell_type": "code",
   "execution_count": 52,
   "metadata": {},
   "outputs": [
    {
     "data": {
      "text/plain": [
       "(64, 51)"
      ]
     },
     "execution_count": 52,
     "metadata": {},
     "output_type": "execute_result"
    }
   ],
   "source": [
    "from utils import make_joint\n",
    "\n",
    "joint2 = make_joint(prior_p0, prior_N)\n",
    "joint2.shape"
   ]
  },
  {
   "cell_type": "code",
   "execution_count": 53,
   "metadata": {},
   "outputs": [
    {
     "data": {
      "text/plain": [
       "N   p0  \n",
       "32  0.00    1.0\n",
       "    0.02    1.0\n",
       "    0.04    1.0\n",
       "    0.06    1.0\n",
       "    0.08    1.0\n",
       "dtype: float64"
      ]
     },
     "execution_count": 53,
     "metadata": {},
     "output_type": "execute_result"
    }
   ],
   "source": [
    "joint2_pmf = Pmf(joint2.stack())\n",
    "joint2_pmf.head()"
   ]
  },
  {
   "cell_type": "code",
   "execution_count": 54,
   "metadata": {},
   "outputs": [
    {
     "data": {
      "text/plain": [
       "(3264, 51)"
      ]
     },
     "execution_count": 54,
     "metadata": {},
     "output_type": "execute_result"
    }
   ],
   "source": [
    "joint3 = make_joint(prior_p1, joint2_pmf)\n",
    "joint3.shape"
   ]
  },
  {
   "cell_type": "code",
   "execution_count": 55,
   "metadata": {},
   "outputs": [
    {
     "data": {
      "text/html": [
       "<div>\n",
       "<style scoped>\n",
       "    .dataframe tbody tr th:only-of-type {\n",
       "        vertical-align: middle;\n",
       "    }\n",
       "\n",
       "    .dataframe tbody tr th {\n",
       "        vertical-align: top;\n",
       "    }\n",
       "\n",
       "    .dataframe thead th {\n",
       "        text-align: right;\n",
       "    }\n",
       "</style>\n",
       "<table border=\"1\" class=\"dataframe\">\n",
       "  <thead>\n",
       "    <tr style=\"text-align: right;\">\n",
       "      <th></th>\n",
       "      <th>p1</th>\n",
       "      <th>0.00</th>\n",
       "      <th>0.02</th>\n",
       "      <th>0.04</th>\n",
       "      <th>0.06</th>\n",
       "      <th>0.08</th>\n",
       "      <th>0.10</th>\n",
       "      <th>0.12</th>\n",
       "      <th>0.14</th>\n",
       "      <th>0.16</th>\n",
       "      <th>0.18</th>\n",
       "      <th>...</th>\n",
       "      <th>0.82</th>\n",
       "      <th>0.84</th>\n",
       "      <th>0.86</th>\n",
       "      <th>0.88</th>\n",
       "      <th>0.90</th>\n",
       "      <th>0.92</th>\n",
       "      <th>0.94</th>\n",
       "      <th>0.96</th>\n",
       "      <th>0.98</th>\n",
       "      <th>1.00</th>\n",
       "    </tr>\n",
       "    <tr>\n",
       "      <th>N</th>\n",
       "      <th>p0</th>\n",
       "      <th></th>\n",
       "      <th></th>\n",
       "      <th></th>\n",
       "      <th></th>\n",
       "      <th></th>\n",
       "      <th></th>\n",
       "      <th></th>\n",
       "      <th></th>\n",
       "      <th></th>\n",
       "      <th></th>\n",
       "      <th></th>\n",
       "      <th></th>\n",
       "      <th></th>\n",
       "      <th></th>\n",
       "      <th></th>\n",
       "      <th></th>\n",
       "      <th></th>\n",
       "      <th></th>\n",
       "      <th></th>\n",
       "      <th></th>\n",
       "      <th></th>\n",
       "    </tr>\n",
       "  </thead>\n",
       "  <tbody>\n",
       "    <tr>\n",
       "      <th rowspan=\"5\" valign=\"top\">32</th>\n",
       "      <th>0.00</th>\n",
       "      <td>1.0</td>\n",
       "      <td>1.0</td>\n",
       "      <td>1.0</td>\n",
       "      <td>1.0</td>\n",
       "      <td>1.0</td>\n",
       "      <td>1.0</td>\n",
       "      <td>1.0</td>\n",
       "      <td>1.0</td>\n",
       "      <td>1.0</td>\n",
       "      <td>1.0</td>\n",
       "      <td>...</td>\n",
       "      <td>1.0</td>\n",
       "      <td>1.0</td>\n",
       "      <td>1.0</td>\n",
       "      <td>1.0</td>\n",
       "      <td>1.0</td>\n",
       "      <td>1.0</td>\n",
       "      <td>1.0</td>\n",
       "      <td>1.0</td>\n",
       "      <td>1.0</td>\n",
       "      <td>1.0</td>\n",
       "    </tr>\n",
       "    <tr>\n",
       "      <th>0.02</th>\n",
       "      <td>1.0</td>\n",
       "      <td>1.0</td>\n",
       "      <td>1.0</td>\n",
       "      <td>1.0</td>\n",
       "      <td>1.0</td>\n",
       "      <td>1.0</td>\n",
       "      <td>1.0</td>\n",
       "      <td>1.0</td>\n",
       "      <td>1.0</td>\n",
       "      <td>1.0</td>\n",
       "      <td>...</td>\n",
       "      <td>1.0</td>\n",
       "      <td>1.0</td>\n",
       "      <td>1.0</td>\n",
       "      <td>1.0</td>\n",
       "      <td>1.0</td>\n",
       "      <td>1.0</td>\n",
       "      <td>1.0</td>\n",
       "      <td>1.0</td>\n",
       "      <td>1.0</td>\n",
       "      <td>1.0</td>\n",
       "    </tr>\n",
       "    <tr>\n",
       "      <th>0.04</th>\n",
       "      <td>1.0</td>\n",
       "      <td>1.0</td>\n",
       "      <td>1.0</td>\n",
       "      <td>1.0</td>\n",
       "      <td>1.0</td>\n",
       "      <td>1.0</td>\n",
       "      <td>1.0</td>\n",
       "      <td>1.0</td>\n",
       "      <td>1.0</td>\n",
       "      <td>1.0</td>\n",
       "      <td>...</td>\n",
       "      <td>1.0</td>\n",
       "      <td>1.0</td>\n",
       "      <td>1.0</td>\n",
       "      <td>1.0</td>\n",
       "      <td>1.0</td>\n",
       "      <td>1.0</td>\n",
       "      <td>1.0</td>\n",
       "      <td>1.0</td>\n",
       "      <td>1.0</td>\n",
       "      <td>1.0</td>\n",
       "    </tr>\n",
       "    <tr>\n",
       "      <th>0.06</th>\n",
       "      <td>1.0</td>\n",
       "      <td>1.0</td>\n",
       "      <td>1.0</td>\n",
       "      <td>1.0</td>\n",
       "      <td>1.0</td>\n",
       "      <td>1.0</td>\n",
       "      <td>1.0</td>\n",
       "      <td>1.0</td>\n",
       "      <td>1.0</td>\n",
       "      <td>1.0</td>\n",
       "      <td>...</td>\n",
       "      <td>1.0</td>\n",
       "      <td>1.0</td>\n",
       "      <td>1.0</td>\n",
       "      <td>1.0</td>\n",
       "      <td>1.0</td>\n",
       "      <td>1.0</td>\n",
       "      <td>1.0</td>\n",
       "      <td>1.0</td>\n",
       "      <td>1.0</td>\n",
       "      <td>1.0</td>\n",
       "    </tr>\n",
       "    <tr>\n",
       "      <th>0.08</th>\n",
       "      <td>1.0</td>\n",
       "      <td>1.0</td>\n",
       "      <td>1.0</td>\n",
       "      <td>1.0</td>\n",
       "      <td>1.0</td>\n",
       "      <td>1.0</td>\n",
       "      <td>1.0</td>\n",
       "      <td>1.0</td>\n",
       "      <td>1.0</td>\n",
       "      <td>1.0</td>\n",
       "      <td>...</td>\n",
       "      <td>1.0</td>\n",
       "      <td>1.0</td>\n",
       "      <td>1.0</td>\n",
       "      <td>1.0</td>\n",
       "      <td>1.0</td>\n",
       "      <td>1.0</td>\n",
       "      <td>1.0</td>\n",
       "      <td>1.0</td>\n",
       "      <td>1.0</td>\n",
       "      <td>1.0</td>\n",
       "    </tr>\n",
       "  </tbody>\n",
       "</table>\n",
       "<p>5 rows × 51 columns</p>\n",
       "</div>"
      ],
      "text/plain": [
       "p1       0.00  0.02  0.04  0.06  0.08  0.10  0.12  0.14  0.16  0.18  ...  \\\n",
       "N  p0                                                                ...   \n",
       "32 0.00   1.0   1.0   1.0   1.0   1.0   1.0   1.0   1.0   1.0   1.0  ...   \n",
       "   0.02   1.0   1.0   1.0   1.0   1.0   1.0   1.0   1.0   1.0   1.0  ...   \n",
       "   0.04   1.0   1.0   1.0   1.0   1.0   1.0   1.0   1.0   1.0   1.0  ...   \n",
       "   0.06   1.0   1.0   1.0   1.0   1.0   1.0   1.0   1.0   1.0   1.0  ...   \n",
       "   0.08   1.0   1.0   1.0   1.0   1.0   1.0   1.0   1.0   1.0   1.0  ...   \n",
       "\n",
       "p1       0.82  0.84  0.86  0.88  0.90  0.92  0.94  0.96  0.98  1.00  \n",
       "N  p0                                                                \n",
       "32 0.00   1.0   1.0   1.0   1.0   1.0   1.0   1.0   1.0   1.0   1.0  \n",
       "   0.02   1.0   1.0   1.0   1.0   1.0   1.0   1.0   1.0   1.0   1.0  \n",
       "   0.04   1.0   1.0   1.0   1.0   1.0   1.0   1.0   1.0   1.0   1.0  \n",
       "   0.06   1.0   1.0   1.0   1.0   1.0   1.0   1.0   1.0   1.0   1.0  \n",
       "   0.08   1.0   1.0   1.0   1.0   1.0   1.0   1.0   1.0   1.0   1.0  \n",
       "\n",
       "[5 rows x 51 columns]"
      ]
     },
     "execution_count": 55,
     "metadata": {},
     "output_type": "execute_result"
    }
   ],
   "source": [
    "joint3.head()"
   ]
  },
  {
   "cell_type": "code",
   "execution_count": 56,
   "metadata": {},
   "outputs": [
    {
     "data": {
      "text/plain": [
       "N   p0   p1  \n",
       "32  0.0  0.00    1.0\n",
       "         0.02    1.0\n",
       "         0.04    1.0\n",
       "         0.06    1.0\n",
       "         0.08    1.0\n",
       "dtype: float64"
      ]
     },
     "execution_count": 56,
     "metadata": {},
     "output_type": "execute_result"
    }
   ],
   "source": [
    "joint3_pmf = Pmf(joint3.stack())\n",
    "joint3_pmf.head()"
   ]
  },
  {
   "cell_type": "code",
   "execution_count": 57,
   "metadata": {},
   "outputs": [
    {
     "data": {
      "text/plain": [
       "(166464,)"
      ]
     },
     "execution_count": 57,
     "metadata": {},
     "output_type": "execute_result"
    }
   ],
   "source": [
    "joint3_pmf.shape"
   ]
  },
  {
   "cell_type": "code",
   "execution_count": 58,
   "metadata": {},
   "outputs": [],
   "source": [
    "likelihood = joint3_pmf.copy()\n",
    "observed = data.sum()\n",
    "x = data.copy()\n",
    "\n",
    "for N, p0, p1 in joint3_pmf.index:\n",
    "    x[0] = N - observed\n",
    "    ps = compute_ps(p0, p1)\n",
    "    likelihood.loc[N, p0, p1] = multinomial.pmf(x, N, ps)"
   ]
  },
  {
   "cell_type": "code",
   "execution_count": 59,
   "metadata": {},
   "outputs": [
    {
     "data": {
      "text/plain": [
       "(166464,)"
      ]
     },
     "execution_count": 59,
     "metadata": {},
     "output_type": "execute_result"
    }
   ],
   "source": [
    "from utils import normalize\n",
    "\n",
    "joint_posterior = joint3_pmf * likelihood\n",
    "normalize(joint_posterior)\n",
    "joint_posterior.shape"
   ]
  },
  {
   "cell_type": "code",
   "execution_count": 60,
   "metadata": {},
   "outputs": [],
   "source": [
    "# TODO: Add this to empiricaldist\n",
    "\n",
    "def pmf_marginal(joint, level):\n",
    "    \"\"\"Compute a marginal distribution.\n",
    "    \n",
    "    joint: DataFrame representing a joint distribution\n",
    "    level: int, level to sum along\n",
    "    \n",
    "    returns: Pmf\n",
    "    \"\"\"\n",
    "    return Pmf(joint.sum(level=level))"
   ]
  },
  {
   "cell_type": "code",
   "execution_count": 61,
   "metadata": {},
   "outputs": [
    {
     "data": {
      "image/png": "[encoded data removed]",
      "text/plain": [
       "<Figure size 432x288 with 1 Axes>"
      ]
     },
     "metadata": {
      "needs_background": "light"
     },
     "output_type": "display_data"
    }
   ],
   "source": [
    "posterior_N = pmf_marginal(joint_posterior, 0)\n",
    "posterior_N.plot()\n",
    "\n",
    "decorate(xlabel='Number of bugs',\n",
    "         ylabel='PDF',\n",
    "         title='Posterior marginal distributions of N')"
   ]
  },
  {
   "cell_type": "code",
   "execution_count": 62,
   "metadata": {},
   "outputs": [
    {
     "data": {
      "text/plain": [
       "105.76561732196228"
      ]
     },
     "execution_count": 62,
     "metadata": {},
     "output_type": "execute_result"
    }
   ],
   "source": [
    "posterior_N.mean()"
   ]
  },
  {
   "cell_type": "code",
   "execution_count": 63,
   "metadata": {},
   "outputs": [
    {
     "data": {
      "image/png": "[encoded data removed]",
      "text/plain": [
       "<Figure size 432x288 with 1 Axes>"
      ]
     },
     "metadata": {
      "needs_background": "light"
     },
     "output_type": "display_data"
    }
   ],
   "source": [
    "posterior_p1 = pmf_marginal(joint_posterior, 1)\n",
    "posterior_p2 = pmf_marginal(joint_posterior, 2)\n",
    "\n",
    "posterior_p1.plot(label='p1')\n",
    "posterior_p2.plot(label='p2')\n",
    "decorate(xlabel='Probability of finding a bug',\n",
    "         ylabel='PDF',\n",
    "         title='Posterior marginal distributions of p1 and p2')"
   ]
  },
  {
   "cell_type": "code",
   "execution_count": 64,
   "metadata": {},
   "outputs": [
    {
     "data": {
      "text/plain": [
       "(0.22970659716777317, array([0.1, 0.4]))"
      ]
     },
     "execution_count": 64,
     "metadata": {},
     "output_type": "execute_result"
    }
   ],
   "source": [
    "posterior_p1.mean(), posterior_p1.credible_interval(0.9)"
   ]
  },
  {
   "cell_type": "code",
   "execution_count": 65,
   "metadata": {},
   "outputs": [
    {
     "data": {
      "text/plain": [
       "(0.1750117215592575, array([0.06, 0.32]))"
      ]
     },
     "execution_count": 65,
     "metadata": {},
     "output_type": "execute_result"
    }
   ],
   "source": [
    "posterior_p2.mean(), posterior_p2.credible_interval(0.9)"
   ]
  },
  {
   "cell_type": "markdown",
   "metadata": {},
   "source": [
    "## Hepatitis A"
   ]
  },
  {
   "cell_type": "markdown",
   "metadata": {},
   "source": [
    "Chao et al, Table II, two rounds (P and Q)"
   ]
  },
  {
   "cell_type": "code",
   "execution_count": 66,
   "metadata": {},
   "outputs": [],
   "source": [
    "data = np.array([0, 73, 86, 49])"
   ]
  },
  {
   "cell_type": "code",
   "execution_count": 67,
   "metadata": {},
   "outputs": [],
   "source": [
    "Ns = np.arange(200, 500, 5)\n",
    "prior_N = Pmf(1.0, Ns)\n",
    "prior_N.index.name = 'N'"
   ]
  },
  {
   "cell_type": "code",
   "execution_count": 68,
   "metadata": {},
   "outputs": [],
   "source": [
    "ps = np.linspace(0, 1, 50, endpoint=False)\n",
    "prior_p = Pmf(1.0, ps)\n",
    "prior_p.index.name = 'p'"
   ]
  },
  {
   "cell_type": "code",
   "execution_count": 69,
   "metadata": {},
   "outputs": [
    {
     "data": {
      "text/html": [
       "<div>\n",
       "<style scoped>\n",
       "    .dataframe tbody tr th:only-of-type {\n",
       "        vertical-align: middle;\n",
       "    }\n",
       "\n",
       "    .dataframe tbody tr th {\n",
       "        vertical-align: top;\n",
       "    }\n",
       "\n",
       "    .dataframe thead th {\n",
       "        text-align: right;\n",
       "    }\n",
       "</style>\n",
       "<table border=\"1\" class=\"dataframe\">\n",
       "  <thead>\n",
       "    <tr style=\"text-align: right;\">\n",
       "      <th>p</th>\n",
       "      <th>0.00</th>\n",
       "      <th>0.02</th>\n",
       "      <th>0.04</th>\n",
       "      <th>0.06</th>\n",
       "      <th>0.08</th>\n",
       "      <th>0.10</th>\n",
       "      <th>0.12</th>\n",
       "      <th>0.14</th>\n",
       "      <th>0.16</th>\n",
       "      <th>0.18</th>\n",
       "      <th>...</th>\n",
       "      <th>0.80</th>\n",
       "      <th>0.82</th>\n",
       "      <th>0.84</th>\n",
       "      <th>0.86</th>\n",
       "      <th>0.88</th>\n",
       "      <th>0.90</th>\n",
       "      <th>0.92</th>\n",
       "      <th>0.94</th>\n",
       "      <th>0.96</th>\n",
       "      <th>0.98</th>\n",
       "    </tr>\n",
       "    <tr>\n",
       "      <th>N</th>\n",
       "      <th></th>\n",
       "      <th></th>\n",
       "      <th></th>\n",
       "      <th></th>\n",
       "      <th></th>\n",
       "      <th></th>\n",
       "      <th></th>\n",
       "      <th></th>\n",
       "      <th></th>\n",
       "      <th></th>\n",
       "      <th></th>\n",
       "      <th></th>\n",
       "      <th></th>\n",
       "      <th></th>\n",
       "      <th></th>\n",
       "      <th></th>\n",
       "      <th></th>\n",
       "      <th></th>\n",
       "      <th></th>\n",
       "      <th></th>\n",
       "      <th></th>\n",
       "    </tr>\n",
       "  </thead>\n",
       "  <tbody>\n",
       "    <tr>\n",
       "      <th>200</th>\n",
       "      <td>1.0</td>\n",
       "      <td>1.0</td>\n",
       "      <td>1.0</td>\n",
       "      <td>1.0</td>\n",
       "      <td>1.0</td>\n",
       "      <td>1.0</td>\n",
       "      <td>1.0</td>\n",
       "      <td>1.0</td>\n",
       "      <td>1.0</td>\n",
       "      <td>1.0</td>\n",
       "      <td>...</td>\n",
       "      <td>1.0</td>\n",
       "      <td>1.0</td>\n",
       "      <td>1.0</td>\n",
       "      <td>1.0</td>\n",
       "      <td>1.0</td>\n",
       "      <td>1.0</td>\n",
       "      <td>1.0</td>\n",
       "      <td>1.0</td>\n",
       "      <td>1.0</td>\n",
       "      <td>1.0</td>\n",
       "    </tr>\n",
       "    <tr>\n",
       "      <th>205</th>\n",
       "      <td>1.0</td>\n",
       "      <td>1.0</td>\n",
       "      <td>1.0</td>\n",
       "      <td>1.0</td>\n",
       "      <td>1.0</td>\n",
       "      <td>1.0</td>\n",
       "      <td>1.0</td>\n",
       "      <td>1.0</td>\n",
       "      <td>1.0</td>\n",
       "      <td>1.0</td>\n",
       "      <td>...</td>\n",
       "      <td>1.0</td>\n",
       "      <td>1.0</td>\n",
       "      <td>1.0</td>\n",
       "      <td>1.0</td>\n",
       "      <td>1.0</td>\n",
       "      <td>1.0</td>\n",
       "      <td>1.0</td>\n",
       "      <td>1.0</td>\n",
       "      <td>1.0</td>\n",
       "      <td>1.0</td>\n",
       "    </tr>\n",
       "  </tbody>\n",
       "</table>\n",
       "<p>2 rows × 50 columns</p>\n",
       "</div>"
      ],
      "text/plain": [
       "p    0.00  0.02  0.04  0.06  0.08  0.10  0.12  0.14  0.16  0.18  ...  0.80  \\\n",
       "N                                                                ...         \n",
       "200   1.0   1.0   1.0   1.0   1.0   1.0   1.0   1.0   1.0   1.0  ...   1.0   \n",
       "205   1.0   1.0   1.0   1.0   1.0   1.0   1.0   1.0   1.0   1.0  ...   1.0   \n",
       "\n",
       "p    0.82  0.84  0.86  0.88  0.90  0.92  0.94  0.96  0.98  \n",
       "N                                                          \n",
       "200   1.0   1.0   1.0   1.0   1.0   1.0   1.0   1.0   1.0  \n",
       "205   1.0   1.0   1.0   1.0   1.0   1.0   1.0   1.0   1.0  \n",
       "\n",
       "[2 rows x 50 columns]"
      ]
     },
     "execution_count": 69,
     "metadata": {},
     "output_type": "execute_result"
    }
   ],
   "source": [
    "from utils import make_joint\n",
    "\n",
    "joint_prior = make_joint(prior_p, prior_N)\n",
    "joint_prior.head(2)"
   ]
  },
  {
   "cell_type": "code",
   "execution_count": 70,
   "metadata": {},
   "outputs": [
    {
     "data": {
      "text/plain": [
       "N    p   \n",
       "200  0.00    1.0\n",
       "     0.02    1.0\n",
       "     0.04    1.0\n",
       "     0.06    1.0\n",
       "     0.08    1.0\n",
       "dtype: float64"
      ]
     },
     "execution_count": 70,
     "metadata": {},
     "output_type": "execute_result"
    }
   ],
   "source": [
    "joint_pmf = Pmf(joint_prior.stack())\n",
    "joint_pmf.head()"
   ]
  },
  {
   "cell_type": "code",
   "execution_count": 71,
   "metadata": {},
   "outputs": [],
   "source": [
    "observed = data.sum()\n",
    "likelihood = joint_pmf.copy()\n",
    "x = data.copy()\n",
    "\n",
    "for N, p in joint_pmf.index:\n",
    "    x[0] = N - observed\n",
    "    q = 1-p\n",
    "    ps = [q*q, q*p, p*q, p*p]\n",
    "    likelihood.loc[N, p] = multinomial.pmf(x, N, ps)"
   ]
  },
  {
   "cell_type": "code",
   "execution_count": 72,
   "metadata": {},
   "outputs": [
    {
     "data": {
      "text/plain": [
       "0.0037986800467167204"
      ]
     },
     "execution_count": 72,
     "metadata": {},
     "output_type": "execute_result"
    }
   ],
   "source": [
    "posterior_pmf = joint_pmf * likelihood\n",
    "posterior_pmf.normalize()"
   ]
  },
  {
   "cell_type": "code",
   "execution_count": 73,
   "metadata": {},
   "outputs": [],
   "source": [
    "joint_posterior = posterior_pmf.unstack()"
   ]
  },
  {
   "cell_type": "code",
   "execution_count": 74,
   "metadata": {},
   "outputs": [
    {
     "data": {
      "image/png": "[encoded data removed]",
      "text/plain": [
       "<Figure size 432x288 with 1 Axes>"
      ]
     },
     "metadata": {
      "needs_background": "light"
     },
     "output_type": "display_data"
    }
   ],
   "source": [
    "plot_contour(joint_posterior)\n",
    "\n",
    "decorate(title='Joint posterior distribution of N and p')"
   ]
  },
  {
   "cell_type": "code",
   "execution_count": 75,
   "metadata": {},
   "outputs": [
    {
     "data": {
      "image/png": "[encoded data removed]",
      "text/plain": [
       "<Figure size 432x288 with 1 Axes>"
      ]
     },
     "metadata": {
      "needs_background": "light"
     },
     "output_type": "display_data"
    }
   ],
   "source": [
    "marginal_N = marginal(joint_posterior, 1)\n",
    "marginal_N.plot()\n",
    "\n",
    "decorate(xlabel='Number of cases (N)',\n",
    "         ylabel='PDF',\n",
    "         title='Posterior marginal distribution of N')"
   ]
  },
  {
   "cell_type": "code",
   "execution_count": 76,
   "metadata": {},
   "outputs": [
    {
     "data": {
      "text/plain": [
       "(342.1317040018938, array([295., 400.]))"
      ]
     },
     "execution_count": 76,
     "metadata": {},
     "output_type": "execute_result"
    }
   ],
   "source": [
    "marginal_N.mean(), marginal_N.credible_interval(0.9)"
   ]
  },
  {
   "cell_type": "code",
   "execution_count": 77,
   "metadata": {},
   "outputs": [
    {
     "data": {
      "image/png": "[encoded data removed]",
      "text/plain": [
       "<Figure size 432x288 with 1 Axes>"
      ]
     },
     "metadata": {
      "needs_background": "light"
     },
     "output_type": "display_data"
    }
   ],
   "source": [
    "marginal_p = marginal(joint_posterior, 0)\n",
    "marginal_p.plot()\n",
    "\n",
    "decorate(xlabel='Probability a case is observed (p)',\n",
    "         ylabel='PDF',\n",
    "         title='Posterior marginal distribution of p')"
   ]
  },
  {
   "cell_type": "code",
   "execution_count": 78,
   "metadata": {},
   "outputs": [],
   "source": [
    "from seaborn import JointGrid\n",
    "\n",
    "def joint_plot(joint, **options):\n",
    "    x = joint.columns.name\n",
    "    x = 'x' if x is None else x\n",
    "\n",
    "    y = joint.index.name\n",
    "    y = 'y' if y is None else y\n",
    "\n",
    "    # make a JointGrid with minimal data\n",
    "    data = pd.DataFrame({x:[0], y:[0]})\n",
    "    g = JointGrid(x, y, data, **options)\n",
    "\n",
    "    # replace the contour plot\n",
    "    g.ax_joint.contour(joint.columns, \n",
    "                   joint.index, \n",
    "                   joint, \n",
    "                   cmap='viridis')\n",
    "    \n",
    "    # replace the marginals\n",
    "    marginal_x = marginal(joint, 0)\n",
    "    g.ax_marg_x.plot(marginal_x.qs, marginal_x.ps)\n",
    "    \n",
    "    marginal_y = marginal(joint, 1)\n",
    "    g.ax_marg_y.plot(marginal_y.ps, marginal_y.qs)"
   ]
  },
  {
   "cell_type": "code",
   "execution_count": 79,
   "metadata": {},
   "outputs": [
    {
     "data": {
      "image/png": "[encoded data removed]",
      "text/plain": [
       "<Figure size 432x432 with 3 Axes>"
      ]
     },
     "metadata": {
      "needs_background": "light"
     },
     "output_type": "display_data"
    }
   ],
   "source": [
    "joint_plot(joint_posterior)"
   ]
  },
  {
   "cell_type": "markdown",
   "metadata": {},
   "source": [
    "## Hep A, Three rounds"
   ]
  },
  {
   "cell_type": "code",
   "execution_count": 80,
   "metadata": {},
   "outputs": [],
   "source": [
    "data = np.array([0, 63, 55, 18, 69, 17, 21, 28])"
   ]
  },
  {
   "cell_type": "markdown",
   "metadata": {},
   "source": [
    "The following function is based on [this answer](https://stackoverflow.com/questions/58242078/cartesian-product-of-arbitrary-lists-in-pandas/58242079#58242079)"
   ]
  },
  {
   "cell_type": "code",
   "execution_count": 81,
   "metadata": {},
   "outputs": [],
   "source": [
    "def cartesian_product(*args, **options):\n",
    "    index = pd.MultiIndex.from_product(args, **options)\n",
    "    return pd.DataFrame(index=index).reset_index()"
   ]
  },
  {
   "cell_type": "code",
   "execution_count": 82,
   "metadata": {},
   "outputs": [
    {
     "data": {
      "text/html": [
       "<div>\n",
       "<style scoped>\n",
       "    .dataframe tbody tr th:only-of-type {\n",
       "        vertical-align: middle;\n",
       "    }\n",
       "\n",
       "    .dataframe tbody tr th {\n",
       "        vertical-align: top;\n",
       "    }\n",
       "\n",
       "    .dataframe thead th {\n",
       "        text-align: right;\n",
       "    }\n",
       "</style>\n",
       "<table border=\"1\" class=\"dataframe\">\n",
       "  <thead>\n",
       "    <tr style=\"text-align: right;\">\n",
       "      <th></th>\n",
       "      <th>level_0</th>\n",
       "      <th>level_1</th>\n",
       "      <th>level_2</th>\n",
       "    </tr>\n",
       "  </thead>\n",
       "  <tbody>\n",
       "    <tr>\n",
       "      <th>0</th>\n",
       "      <td>0.8</td>\n",
       "      <td>0.8</td>\n",
       "      <td>0.8</td>\n",
       "    </tr>\n",
       "    <tr>\n",
       "      <th>1</th>\n",
       "      <td>0.8</td>\n",
       "      <td>0.8</td>\n",
       "      <td>0.2</td>\n",
       "    </tr>\n",
       "    <tr>\n",
       "      <th>2</th>\n",
       "      <td>0.8</td>\n",
       "      <td>0.2</td>\n",
       "      <td>0.8</td>\n",
       "    </tr>\n",
       "    <tr>\n",
       "      <th>3</th>\n",
       "      <td>0.8</td>\n",
       "      <td>0.2</td>\n",
       "      <td>0.2</td>\n",
       "    </tr>\n",
       "    <tr>\n",
       "      <th>4</th>\n",
       "      <td>0.2</td>\n",
       "      <td>0.8</td>\n",
       "      <td>0.8</td>\n",
       "    </tr>\n",
       "    <tr>\n",
       "      <th>5</th>\n",
       "      <td>0.2</td>\n",
       "      <td>0.8</td>\n",
       "      <td>0.2</td>\n",
       "    </tr>\n",
       "    <tr>\n",
       "      <th>6</th>\n",
       "      <td>0.2</td>\n",
       "      <td>0.2</td>\n",
       "      <td>0.8</td>\n",
       "    </tr>\n",
       "    <tr>\n",
       "      <th>7</th>\n",
       "      <td>0.2</td>\n",
       "      <td>0.2</td>\n",
       "      <td>0.2</td>\n",
       "    </tr>\n",
       "  </tbody>\n",
       "</table>\n",
       "</div>"
      ],
      "text/plain": [
       "   level_0  level_1  level_2\n",
       "0      0.8      0.8      0.8\n",
       "1      0.8      0.8      0.2\n",
       "2      0.8      0.2      0.8\n",
       "3      0.8      0.2      0.2\n",
       "4      0.2      0.8      0.8\n",
       "5      0.2      0.8      0.2\n",
       "6      0.2      0.2      0.8\n",
       "7      0.2      0.2      0.2"
      ]
     },
     "execution_count": 82,
     "metadata": {},
     "output_type": "execute_result"
    }
   ],
   "source": [
    "p = 0.2\n",
    "df = cartesian_product([1-p, p], [1-p, p], [1-p, p])\n",
    "df"
   ]
  },
  {
   "cell_type": "code",
   "execution_count": 83,
   "metadata": {},
   "outputs": [
    {
     "data": {
      "text/plain": [
       "0    0.512\n",
       "1    0.128\n",
       "2    0.128\n",
       "3    0.032\n",
       "4    0.128\n",
       "5    0.032\n",
       "6    0.032\n",
       "7    0.008\n",
       "dtype: float64"
      ]
     },
     "execution_count": 83,
     "metadata": {},
     "output_type": "execute_result"
    }
   ],
   "source": [
    "ps = df.prod(axis=1)\n",
    "ps"
   ]
  },
  {
   "cell_type": "code",
   "execution_count": 84,
   "metadata": {},
   "outputs": [],
   "source": [
    "observed = data.sum()\n",
    "likelihood = joint_pmf.copy()\n",
    "x = data.copy()\n",
    "\n",
    "for N, p in joint_pmf.index:\n",
    "    x[0] = N - observed\n",
    "    df = cartesian_product([1-p, p], [1-p, p], [1-p, p])\n",
    "    ps = df.prod(axis=1)\n",
    "    likelihood.loc[N, p] = multinomial.pmf(x, N, ps)"
   ]
  },
  {
   "cell_type": "code",
   "execution_count": 85,
   "metadata": {},
   "outputs": [
    {
     "data": {
      "text/plain": [
       "7.907855348866113e-13"
      ]
     },
     "execution_count": 85,
     "metadata": {},
     "output_type": "execute_result"
    }
   ],
   "source": [
    "posterior_pmf = joint_pmf * likelihood\n",
    "posterior_pmf.normalize()"
   ]
  },
  {
   "cell_type": "code",
   "execution_count": 86,
   "metadata": {},
   "outputs": [],
   "source": [
    "joint_posterior = posterior_pmf.unstack()"
   ]
  },
  {
   "cell_type": "code",
   "execution_count": 87,
   "metadata": {},
   "outputs": [
    {
     "data": {
      "image/png": "[encoded data removed]",
      "text/plain": [
       "<Figure size 432x288 with 1 Axes>"
      ]
     },
     "metadata": {
      "needs_background": "light"
     },
     "output_type": "display_data"
    }
   ],
   "source": [
    "plot_contour(joint_posterior)\n",
    "\n",
    "decorate(title='Joint posterior distribution of N and p')"
   ]
  },
  {
   "cell_type": "code",
   "execution_count": 88,
   "metadata": {},
   "outputs": [
    {
     "data": {
      "image/png": "[encoded data removed]",
      "text/plain": [
       "<Figure size 432x288 with 1 Axes>"
      ]
     },
     "metadata": {
      "needs_background": "light"
     },
     "output_type": "display_data"
    }
   ],
   "source": [
    "marginal_N = marginal(joint_posterior, 1)\n",
    "marginal_N.plot()\n",
    "\n",
    "decorate(xlabel='Number of cases (N)',\n",
    "         ylabel='PDF',\n",
    "         title='Posterior marginal distribution of N')"
   ]
  },
  {
   "cell_type": "code",
   "execution_count": 89,
   "metadata": {},
   "outputs": [
    {
     "data": {
      "text/plain": [
       "(391.00501407503725, array([360., 430.]))"
      ]
     },
     "execution_count": 89,
     "metadata": {},
     "output_type": "execute_result"
    }
   ],
   "source": [
    "marginal_N.mean(), marginal_N.credible_interval(0.9)"
   ]
  },
  {
   "cell_type": "code",
   "execution_count": 90,
   "metadata": {},
   "outputs": [
    {
     "data": {
      "image/png": "[encoded data removed]",
      "text/plain": [
       "<Figure size 432x288 with 1 Axes>"
      ]
     },
     "metadata": {
      "needs_background": "light"
     },
     "output_type": "display_data"
    }
   ],
   "source": [
    "marginal_p = marginal(joint_posterior, 0)\n",
    "marginal_p.plot()\n",
    "\n",
    "decorate(xlabel='Probability a case is observed (p)',\n",
    "         ylabel='PDF',\n",
    "         title='Posterior marginal distribution of p')"
   ]
  },
  {
   "cell_type": "code",
   "execution_count": 91,
   "metadata": {},
   "outputs": [],
   "source": [
    "from seaborn import JointGrid\n",
    "\n",
    "def joint_plot(joint, **options):\n",
    "    x = joint.columns.name\n",
    "    x = 'x' if x is None else x\n",
    "\n",
    "    y = joint.index.name\n",
    "    y = 'y' if y is None else y\n",
    "\n",
    "    # make a JointGrid with minimal data\n",
    "    data = pd.DataFrame({x:[0], y:[0]})\n",
    "    g = JointGrid(x, y, data, **options)\n",
    "\n",
    "    # replace the contour plot\n",
    "    g.ax_joint.contour(joint.columns, \n",
    "                   joint.index, \n",
    "                   joint, \n",
    "                   cmap='viridis')\n",
    "    \n",
    "    # replace the marginals\n",
    "    marginal_x = marginal(joint, 0)\n",
    "    g.ax_marg_x.plot(marginal_x.qs, marginal_x.ps)\n",
    "    \n",
    "    marginal_y = marginal(joint, 1)\n",
    "    g.ax_marg_y.plot(marginal_y.ps, marginal_y.qs)"
   ]
  },
  {
   "cell_type": "code",
   "execution_count": 92,
   "metadata": {},
   "outputs": [
    {
     "data": {
      "image/png": "[encoded data removed]",
      "text/plain": [
       "<Figure size 432x432 with 3 Axes>"
      ]
     },
     "metadata": {
      "needs_background": "light"
     },
     "output_type": "display_data"
    }
   ],
   "source": [
    "joint_plot(joint_posterior)"
   ]
  }
 ],
 "metadata": {
  "kernelspec": {
   "display_name": "Python 3",
   "language": "python",
   "name": "python3"
  },
  "language_info": {
   "codemirror_mode": {
    "name": "ipython",
    "version": 3
   },
   "file_extension": ".py",
   "mimetype": "text/x-python",
   "name": "python",
   "nbconvert_exporter": "python",
   "pygments_lexer": "ipython3",
   "version": "3.8.2"
  }
 },
 "nbformat": 4,
 "nbformat_minor": 1
}
