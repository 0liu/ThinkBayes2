{
 "cells": [
  {
   "cell_type": "markdown",
   "metadata": {},
   "source": [
    "# Think Bayes\n",
    "\n",
    "Second Edition\n",
    "\n",
    "Copyright 2020 Allen B. Downey\n",
    "\n",
    "License: [Attribution-NonCommercial-ShareAlike 4.0 International (CC BY-NC-SA 4.0)](https://creativecommons.org/licenses/by-nc-sa/4.0/)"
   ]
  },
  {
   "cell_type": "code",
   "execution_count": 1,
   "metadata": {},
   "outputs": [],
   "source": [
    "# If we're running on Colab, install empiricaldist\n",
    "# https://pypi.org/project/empiricaldist/\n",
    "\n",
    "import sys\n",
    "IN_COLAB = 'google.colab' in sys.modules\n",
    "\n",
    "if IN_COLAB:\n",
    "    !pip install empiricaldist"
   ]
  },
  {
   "cell_type": "code",
   "execution_count": 2,
   "metadata": {},
   "outputs": [],
   "source": [
    "# Get utils.py and create directories\n",
    "\n",
    "import os\n",
    "\n",
    "if not os.path.exists('utils.py'):\n",
    "    !wget https://github.com/AllenDowney/ThinkBayes2/raw/master/code/soln/utils.py\n",
    "        \n",
    "if not os.path.exists('figs'):\n",
    "    !mkdir figs"
   ]
  },
  {
   "cell_type": "code",
   "execution_count": 3,
   "metadata": {},
   "outputs": [],
   "source": [
    "import numpy as np\n",
    "import pandas as pd\n",
    "import matplotlib.pyplot as plt\n",
    "\n",
    "from empiricaldist import Pmf, Cdf\n",
    "from utils import decorate, savefig"
   ]
  },
  {
   "cell_type": "markdown",
   "metadata": {},
   "source": [
    "## Introduction\n",
    "\n",
    "Three dimensions!"
   ]
  },
  {
   "cell_type": "markdown",
   "metadata": {},
   "source": [
    "## The Grizzly Bear Problem\n",
    "\n",
    "In 1996 and 1997 Mowat and Strobeck deployed bear traps in locations in British Columbia and Alberta, in an effort to estimate the population of grizzly bears.  They describe the experiment in \"[Estimating Population Size of Grizzly Bears Using Hair Capture, DNA Profiling, and Mark-Recapture Analysis](https://www.researchgate.net/publication/229195465_Estimating_Population_Size_of_Grizzly_Bears_Using_Hair_Capture_DNA_Profiling_and_Mark-Recapture_Analysis)\"\n",
    "\n",
    "The \"trap\" consists of  a lure and several strands of barbed wire intended to capture samples of hair from bears that visit the lure.  Using the hair samples, the researchers use DNA analysis to identify individual bears.\n",
    "\n",
    "During the first session, on June 29, 1996, the researchers deployed traps at 76 sites.  Returning 10 days later, they obtained 1043 hair samples and identified 23 different bears.  During a second 10-day session they obtained 1191 samples from 19 different bears, where 4 of the 19 were from bears they had identified in the first batch.\n",
    "\n",
    "To estimate the population of bears from this data, we need a model for the probability that each bear will be observed during each session.  As a starting place, we'll make the simplest assumption, that every bear in the population has the same (unknown) probability of being sampled during each round."
   ]
  },
  {
   "cell_type": "markdown",
   "metadata": {},
   "source": [
    "With these assumptions we can compute the probability of the data for a range of possible populations.\n",
    "Suppose we know that the population of bears is 200.\n",
    "\n",
    "After the first session, 23 of the 200 bears have been identified.\n",
    "During the second session, 19 bears were observed.\n",
    "What is the probability that 4 of them had been previously identified.\n"
   ]
  },
  {
   "cell_type": "markdown",
   "metadata": {},
   "source": [
    "I'll define\n",
    "\n",
    "* N: actual (unknown) population size, 200\n",
    "\n",
    "* K: number of bears identified in the first session, 23\n",
    "\n",
    "* n: number of bears observed in the second session, 19 in the example\n",
    "\n",
    "* k: the number of bears in the second session that had previously been identified, 4\n",
    "\n",
    "\n",
    "For given values of N, K, and n, the distribution of k is described by the [hypergeometric distribution](https://en.wikipedia.org/wiki/Hypergeometric_distribution):\n",
    "\n",
    "$PMF(k) = {K \\choose k}{N-K \\choose n-k}/{N \\choose n}$"
   ]
  },
  {
   "cell_type": "markdown",
   "metadata": {},
   "source": [
    "To understand why, let's start with the denominator, ${ N \\choose n}$, which is the number of subsets of $n$ we could choose from a population of $N$ bears.\n",
    "\n",
    "The numerator is the number of subsets that contain $k$ bears chosen from the previously identified $K$, and $n-k$ chosen from the previously unseen $N-K$.\n",
    "\n",
    "SciPy provides `hypergeom`, which we can use to compute this PMF."
   ]
  },
  {
   "cell_type": "code",
   "execution_count": 4,
   "metadata": {},
   "outputs": [
    {
     "data": {
      "image/png": "[encoded data removed]",
      "text/plain": [
       "<Figure size 432x288 with 1 Axes>"
      ]
     },
     "metadata": {
      "needs_background": "light"
     },
     "output_type": "display_data"
    }
   ],
   "source": [
    "from scipy.stats import hypergeom\n",
    "\n",
    "N = 100\n",
    "K = 23\n",
    "n = 19\n",
    "\n",
    "ks = np.arange(12)\n",
    "ps = hypergeom(N, K, n).pmf(ks)\n",
    "\n",
    "plt.bar(ks, ps)\n",
    "\n",
    "decorate(xlabel='Number of bears observed twice',\n",
    "         ylabel='PMF',\n",
    "         title='Hypergeometric distribution of k (known population)')"
   ]
  },
  {
   "cell_type": "markdown",
   "metadata": {},
   "source": [
    "So that's the distribution of `k` given `N`, `K`, and `n`.\n",
    "Now let's go the other way: given `K`, `n`, and `k`, how can we estimate the total population, `N`."
   ]
  },
  {
   "cell_type": "markdown",
   "metadata": {},
   "source": [
    "As a starting place, let's suppose that, prior to this study, an expert in this domain would have estimated that the population is between 50 and 500, and equally likely to be any value in that range."
   ]
  },
  {
   "cell_type": "code",
   "execution_count": 5,
   "metadata": {},
   "outputs": [],
   "source": [
    "Ns = np.arange(50, 501)\n",
    "prior_N = Pmf(1, Ns)\n",
    "prior_N.index.name = 'N'"
   ]
  },
  {
   "cell_type": "code",
   "execution_count": 6,
   "metadata": {},
   "outputs": [],
   "source": [
    "K = 23\n",
    "n = 19\n",
    "k = 4\n",
    "\n",
    "likelihood = hypergeom(Ns, K, n).pmf(k)"
   ]
  },
  {
   "cell_type": "code",
   "execution_count": 7,
   "metadata": {},
   "outputs": [
    {
     "data": {
      "text/plain": [
       "34.97606148975133"
      ]
     },
     "execution_count": 7,
     "metadata": {},
     "output_type": "execute_result"
    }
   ],
   "source": [
    "posterior_N = prior_N * likelihood\n",
    "posterior_N.normalize()"
   ]
  },
  {
   "cell_type": "code",
   "execution_count": 8,
   "metadata": {},
   "outputs": [
    {
     "data": {
      "image/png": "[encoded data removed]",
      "text/plain": [
       "<Figure size 432x288 with 1 Axes>"
      ]
     },
     "metadata": {
      "needs_background": "light"
     },
     "output_type": "display_data"
    }
   ],
   "source": [
    "posterior_N.plot()\n",
    "\n",
    "decorate(xlabel='Population of bears (N)',\n",
    "         ylabel='PDF',\n",
    "         title='Posterior distribution of N')"
   ]
  },
  {
   "cell_type": "code",
   "execution_count": 9,
   "metadata": {},
   "outputs": [
    {
     "data": {
      "text/plain": [
       "109"
      ]
     },
     "execution_count": 9,
     "metadata": {},
     "output_type": "execute_result"
    }
   ],
   "source": [
    "posterior_N.max_prob()"
   ]
  },
  {
   "cell_type": "code",
   "execution_count": 10,
   "metadata": {},
   "outputs": [
    {
     "data": {
      "text/plain": [
       "173.79880627085643"
      ]
     },
     "execution_count": 10,
     "metadata": {},
     "output_type": "execute_result"
    }
   ],
   "source": [
    "posterior_N.mean()"
   ]
  },
  {
   "cell_type": "code",
   "execution_count": 11,
   "metadata": {},
   "outputs": [
    {
     "data": {
      "text/plain": [
       "array([ 77., 363.])"
      ]
     },
     "execution_count": 11,
     "metadata": {},
     "output_type": "execute_result"
    }
   ],
   "source": [
    "posterior_N.credible_interval(0.9)"
   ]
  },
  {
   "cell_type": "markdown",
   "metadata": {},
   "source": [
    "## Two parameter model\n"
   ]
  },
  {
   "cell_type": "code",
   "execution_count": 12,
   "metadata": {},
   "outputs": [],
   "source": [
    "ps = np.linspace(0, 1, 101)\n",
    "prior_p = Pmf(1, ps)\n",
    "prior_p.index.name = 'p'"
   ]
  },
  {
   "cell_type": "code",
   "execution_count": 13,
   "metadata": {},
   "outputs": [],
   "source": [
    "from utils import make_joint\n",
    "\n",
    "joint_prior = make_joint(prior_N, prior_p)"
   ]
  },
  {
   "cell_type": "code",
   "execution_count": 14,
   "metadata": {},
   "outputs": [
    {
     "data": {
      "text/plain": [
       "(101, 451)"
      ]
     },
     "execution_count": 14,
     "metadata": {},
     "output_type": "execute_result"
    }
   ],
   "source": [
    "N_mesh, p_mesh = np.meshgrid(Ns, ps)\n",
    "N_mesh.shape"
   ]
  },
  {
   "cell_type": "code",
   "execution_count": 15,
   "metadata": {},
   "outputs": [
    {
     "data": {
      "text/plain": [
       "229.56130903199954"
      ]
     },
     "execution_count": 15,
     "metadata": {},
     "output_type": "execute_result"
    }
   ],
   "source": [
    "from scipy.stats import binom\n",
    "\n",
    "like1 = binom.pmf(K, N_mesh, p_mesh)\n",
    "like1.sum()"
   ]
  },
  {
   "cell_type": "code",
   "execution_count": 16,
   "metadata": {},
   "outputs": [
    {
     "data": {
      "text/plain": [
       "24.771767481921685"
      ]
     },
     "execution_count": 16,
     "metadata": {},
     "output_type": "execute_result"
    }
   ],
   "source": [
    "like2 = binom.pmf(k, K, p_mesh) * binom.pmf(n-k, N_mesh-K, p_mesh)\n",
    "like2.sum()"
   ]
  },
  {
   "cell_type": "code",
   "execution_count": 17,
   "metadata": {},
   "outputs": [],
   "source": [
    "from utils import normalize\n",
    "\n",
    "joint_posterior = joint_prior * like1 * like2\n",
    "normalize(joint_posterior)"
   ]
  },
  {
   "cell_type": "code",
   "execution_count": 18,
   "metadata": {},
   "outputs": [],
   "source": [
    "def plot_contour(joint, **options):\n",
    "    \"\"\"Plot a joint distribution.\n",
    "    \n",
    "    joint: DataFrame representing a joint PMF\n",
    "    \"\"\"\n",
    "    cs = plt.contour(joint.columns, joint.index, joint, **options)\n",
    "    decorate(xlabel=joint.columns.name, \n",
    "             ylabel=joint.index.name)\n",
    "    return cs"
   ]
  },
  {
   "cell_type": "code",
   "execution_count": 19,
   "metadata": {},
   "outputs": [
    {
     "data": {
      "image/png": "[encoded data removed]",
      "text/plain": [
       "<Figure size 432x288 with 1 Axes>"
      ]
     },
     "metadata": {
      "needs_background": "light"
     },
     "output_type": "display_data"
    }
   ],
   "source": [
    "plot_contour(joint_posterior)\n",
    "\n",
    "decorate(title='Joint posterior distribution of N and p')"
   ]
  },
  {
   "cell_type": "code",
   "execution_count": 20,
   "metadata": {},
   "outputs": [
    {
     "data": {
      "image/png": "[encoded data removed]",
      "text/plain": [
       "<Figure size 432x288 with 1 Axes>"
      ]
     },
     "metadata": {
      "needs_background": "light"
     },
     "output_type": "display_data"
    }
   ],
   "source": [
    "from utils import marginal\n",
    "\n",
    "marginal_N = marginal(joint_posterior, 0)\n",
    "\n",
    "posterior_N.plot(color='gray')\n",
    "marginal_N.plot()\n",
    "\n",
    "decorate(xlabel='Population of bears (N)',\n",
    "         ylabel='PDF',\n",
    "         title='Posterior marginal distribution of N')"
   ]
  },
  {
   "cell_type": "code",
   "execution_count": 21,
   "metadata": {},
   "outputs": [
    {
     "data": {
      "text/plain": [
       "(138.7505213647261, array([ 68., 277.]))"
      ]
     },
     "execution_count": 21,
     "metadata": {},
     "output_type": "execute_result"
    }
   ],
   "source": [
    "marginal_N.mean(), marginal_N.credible_interval(0.9)"
   ]
  },
  {
   "cell_type": "code",
   "execution_count": 22,
   "metadata": {},
   "outputs": [
    {
     "data": {
      "image/png": "[encoded data removed]",
      "text/plain": [
       "<Figure size 432x288 with 1 Axes>"
      ]
     },
     "metadata": {
      "needs_background": "light"
     },
     "output_type": "display_data"
    }
   ],
   "source": [
    "marginal_p = marginal(joint_posterior, 1)\n",
    "marginal_p.plot()\n",
    "\n",
    "decorate(xlabel='Probability of observing a bear',\n",
    "         ylabel='PDF',\n",
    "         title='Posterior marginal distribution of p')"
   ]
  },
  {
   "cell_type": "code",
   "execution_count": 23,
   "metadata": {},
   "outputs": [],
   "source": [
    "from seaborn import JointGrid\n",
    "\n",
    "def joint_plot(joint, **options):\n",
    "    x = joint.columns.name\n",
    "    x = 'x' if x is None else x\n",
    "\n",
    "    y = joint.index.name\n",
    "    y = 'y' if y is None else y\n",
    "\n",
    "    # make a JointGrid with minimal data\n",
    "    data = pd.DataFrame({x:[0], y:[0]})\n",
    "    g = JointGrid(x, y, data, **options)\n",
    "\n",
    "    # replace the contour plot\n",
    "    g.ax_joint.contour(joint.columns, \n",
    "                   joint.index, \n",
    "                   joint, \n",
    "                   cmap='viridis')\n",
    "    \n",
    "    # replace the marginals\n",
    "    marginal_x = marginal(joint, 0)\n",
    "    g.ax_marg_x.plot(marginal_x.qs, marginal_x.ps)\n",
    "    \n",
    "    marginal_y = marginal(joint, 1)\n",
    "    g.ax_marg_y.plot(marginal_y.ps, marginal_y.qs)"
   ]
  },
  {
   "cell_type": "code",
   "execution_count": 24,
   "metadata": {},
   "outputs": [
    {
     "data": {
      "image/png": "[encoded data removed]",
      "text/plain": [
       "<Figure size 432x432 with 3 Axes>"
      ]
     },
     "metadata": {
      "needs_background": "light"
     },
     "output_type": "display_data"
    }
   ],
   "source": [
    "joint_plot(joint_posterior)"
   ]
  },
  {
   "cell_type": "markdown",
   "metadata": {},
   "source": [
    "## Two parameters better than one?"
   ]
  },
  {
   "cell_type": "code",
   "execution_count": 25,
   "metadata": {},
   "outputs": [
    {
     "data": {
      "text/plain": [
       "0.15217391304347827"
      ]
     },
     "execution_count": 25,
     "metadata": {},
     "output_type": "execute_result"
    }
   ],
   "source": [
    "mean = (23 + 19) / 2\n",
    "N1 = 138\n",
    "p = mean/N1\n",
    "p"
   ]
  },
  {
   "cell_type": "code",
   "execution_count": 26,
   "metadata": {},
   "outputs": [
    {
     "data": {
      "text/plain": [
       "4.219519857292647"
      ]
     },
     "execution_count": 26,
     "metadata": {},
     "output_type": "execute_result"
    }
   ],
   "source": [
    "from scipy.stats import binom\n",
    "\n",
    "binom(N1, p).std()"
   ]
  },
  {
   "cell_type": "code",
   "execution_count": 27,
   "metadata": {},
   "outputs": [
    {
     "data": {
      "text/plain": [
       "0.007113233315460428"
      ]
     },
     "execution_count": 27,
     "metadata": {},
     "output_type": "execute_result"
    }
   ],
   "source": [
    "binom(N1, p).pmf([23, 19]).prod()"
   ]
  },
  {
   "cell_type": "code",
   "execution_count": 28,
   "metadata": {},
   "outputs": [
    {
     "data": {
      "text/plain": [
       "0.12138728323699421"
      ]
     },
     "execution_count": 28,
     "metadata": {},
     "output_type": "execute_result"
    }
   ],
   "source": [
    "N2 = 173\n",
    "p = mean/N2\n",
    "p"
   ]
  },
  {
   "cell_type": "code",
   "execution_count": 29,
   "metadata": {},
   "outputs": [
    {
     "data": {
      "text/plain": [
       "4.2954472470306415"
      ]
     },
     "execution_count": 29,
     "metadata": {},
     "output_type": "execute_result"
    }
   ],
   "source": [
    "binom(N2, p).std()"
   ]
  },
  {
   "cell_type": "code",
   "execution_count": 30,
   "metadata": {},
   "outputs": [
    {
     "data": {
      "text/plain": [
       "0.006918408214247037"
      ]
     },
     "execution_count": 30,
     "metadata": {},
     "output_type": "execute_result"
    }
   ],
   "source": [
    "binom(N2, p).pmf([23, 19]).prod()"
   ]
  },
  {
   "cell_type": "markdown",
   "metadata": {},
   "source": [
    "## The Lincoln index problem\n",
    "\n",
    "A few years ago my occasional correspondent John D. Cook wrote an excellent\n",
    "blog post about the Lincoln index, which is a way to estimate the\n",
    "number of errors in a document (or program) by comparing results from\n",
    "two independent testers. \n",
    "\n",
    "http://www.johndcook.com/blog/2010/07/13/lincoln-index/\n",
    "\n",
    "Here's his presentation of the problem:\n",
    "\n",
    ">\"Suppose you have a tester who finds 20 bugs in your program. You\n",
    "want to estimate how many bugs are really in the program. You know\n",
    "there are at least 20 bugs, and if you have supreme confidence in your\n",
    "tester, you may suppose there are around 20 bugs. But maybe your\n",
    "tester isn't very good. Maybe there are hundreds of bugs. How can you\n",
    "have any idea how many bugs there are? There's no way to know with one\n",
    "tester. But if you have two testers, you can get a good idea, even if\n",
    "you don't know how skilled the testers are.\"\n",
    "\n",
    "Suppose the first tester finds 20 bugs, the second finds 15, and they\n",
    "find 3 in common; how can we estimate the number of bugs?"
   ]
  },
  {
   "cell_type": "code",
   "execution_count": 447,
   "metadata": {},
   "outputs": [],
   "source": [
    "n0 = 20\n",
    "n1 = 15\n",
    "k11 = 3"
   ]
  },
  {
   "cell_type": "code",
   "execution_count": 448,
   "metadata": {},
   "outputs": [
    {
     "data": {
      "text/plain": [
       "(17, 12)"
      ]
     },
     "execution_count": 448,
     "metadata": {},
     "output_type": "execute_result"
    }
   ],
   "source": [
    "k10 = n0 - k11\n",
    "k01 = n1 - k11\n",
    "\n",
    "k10, k01"
   ]
  },
  {
   "cell_type": "code",
   "execution_count": 449,
   "metadata": {},
   "outputs": [],
   "source": [
    "Ns = np.arange(32, 350)\n",
    "prior_N = Pmf(1, Ns)\n",
    "prior_N.index.name = 'N'"
   ]
  },
  {
   "cell_type": "code",
   "execution_count": 450,
   "metadata": {},
   "outputs": [
    {
     "data": {
      "text/plain": [
       "4.9999998675182855"
      ]
     },
     "execution_count": 450,
     "metadata": {},
     "output_type": "execute_result"
    }
   ],
   "source": [
    "p0, p1 = 0.2, 0.15\n",
    "\n",
    "like0 = binom.pmf(n0, Ns, p0)\n",
    "like0.sum()"
   ]
  },
  {
   "cell_type": "code",
   "execution_count": 451,
   "metadata": {},
   "outputs": [
    {
     "data": {
      "text/plain": [
       "1.6188593076346907"
      ]
     },
     "execution_count": 451,
     "metadata": {},
     "output_type": "execute_result"
    }
   ],
   "source": [
    "like1 = binom.pmf(k01, Ns-n0, p1) * binom.pmf(k11, n0, p1)\n",
    "like1.sum()"
   ]
  },
  {
   "cell_type": "code",
   "execution_count": 452,
   "metadata": {},
   "outputs": [
    {
     "data": {
      "text/plain": [
       "(318,)"
      ]
     },
     "execution_count": 452,
     "metadata": {},
     "output_type": "execute_result"
    }
   ],
   "source": [
    "likelihood = like0 * like1\n",
    "likelihood.shape"
   ]
  },
  {
   "cell_type": "code",
   "execution_count": 453,
   "metadata": {},
   "outputs": [
    {
     "data": {
      "text/plain": [
       "(318,)"
      ]
     },
     "execution_count": 453,
     "metadata": {},
     "output_type": "execute_result"
    }
   ],
   "source": [
    "prior_N.shape"
   ]
  },
  {
   "cell_type": "code",
   "execution_count": 454,
   "metadata": {},
   "outputs": [
    {
     "data": {
      "text/plain": [
       "0.10960645032182464"
      ]
     },
     "execution_count": 454,
     "metadata": {},
     "output_type": "execute_result"
    }
   ],
   "source": [
    "posterior_N = prior_N * likelihood\n",
    "posterior_N.normalize()"
   ]
  },
  {
   "cell_type": "code",
   "execution_count": 455,
   "metadata": {},
   "outputs": [
    {
     "data": {
      "image/png": "[encoded data removed]",
      "text/plain": [
       "<Figure size 432x288 with 1 Axes>"
      ]
     },
     "metadata": {
      "needs_background": "light"
     },
     "output_type": "display_data"
    }
   ],
   "source": [
    "posterior_N.plot()\n",
    "\n",
    "decorate(xlabel='n',\n",
    "         ylabel='PMF',\n",
    "         title='Posterior marginal distribution of n with known p1, p2')"
   ]
  },
  {
   "cell_type": "code",
   "execution_count": 456,
   "metadata": {},
   "outputs": [
    {
     "data": {
      "text/plain": [
       "102.12500000000003"
      ]
     },
     "execution_count": 456,
     "metadata": {},
     "output_type": "execute_result"
    }
   ],
   "source": [
    "posterior_N.mean()"
   ]
  },
  {
   "cell_type": "markdown",
   "metadata": {},
   "source": [
    "## Unknown probabilities"
   ]
  },
  {
   "cell_type": "code",
   "execution_count": 457,
   "metadata": {},
   "outputs": [],
   "source": [
    "p0 = np.linspace(0, 1, 61)\n",
    "prior_p0 = Pmf(1, p0)\n",
    "prior_p0.index.name = 'p0'"
   ]
  },
  {
   "cell_type": "code",
   "execution_count": 458,
   "metadata": {},
   "outputs": [],
   "source": [
    "p1 = np.linspace(0, 1, 51)\n",
    "prior_p1 = Pmf(1, p1)\n",
    "prior_p1.index.name = 'p1'"
   ]
  },
  {
   "cell_type": "code",
   "execution_count": 459,
   "metadata": {},
   "outputs": [
    {
     "data": {
      "text/plain": [
       "(51, 61)"
      ]
     },
     "execution_count": 459,
     "metadata": {},
     "output_type": "execute_result"
    }
   ],
   "source": [
    "from utils import make_joint\n",
    "\n",
    "joint = make_joint(prior_p0, prior_p1)\n",
    "joint.shape"
   ]
  },
  {
   "cell_type": "code",
   "execution_count": 460,
   "metadata": {},
   "outputs": [
    {
     "data": {
      "text/plain": [
       "p0   p1  \n",
       "0.0  0.00    1\n",
       "     0.02    1\n",
       "     0.04    1\n",
       "     0.06    1\n",
       "     0.08    1\n",
       "dtype: int64"
      ]
     },
     "execution_count": 460,
     "metadata": {},
     "output_type": "execute_result"
    }
   ],
   "source": [
    "joint_pmf = Pmf(joint.transpose().stack())\n",
    "joint_pmf.head()"
   ]
  },
  {
   "cell_type": "code",
   "execution_count": 461,
   "metadata": {},
   "outputs": [
    {
     "data": {
      "text/plain": [
       "(3111, 318)"
      ]
     },
     "execution_count": 461,
     "metadata": {},
     "output_type": "execute_result"
    }
   ],
   "source": [
    "joint_prior = make_joint(prior_N, joint_pmf)\n",
    "joint_prior.shape"
   ]
  },
  {
   "cell_type": "code",
   "execution_count": 462,
   "metadata": {},
   "outputs": [
    {
     "data": {
      "text/html": [
       "<div>\n",
       "<style scoped>\n",
       "    .dataframe tbody tr th:only-of-type {\n",
       "        vertical-align: middle;\n",
       "    }\n",
       "\n",
       "    .dataframe tbody tr th {\n",
       "        vertical-align: top;\n",
       "    }\n",
       "\n",
       "    .dataframe thead th {\n",
       "        text-align: right;\n",
       "    }\n",
       "</style>\n",
       "<table border=\"1\" class=\"dataframe\">\n",
       "  <thead>\n",
       "    <tr style=\"text-align: right;\">\n",
       "      <th></th>\n",
       "      <th>N</th>\n",
       "      <th>32</th>\n",
       "      <th>33</th>\n",
       "      <th>34</th>\n",
       "      <th>35</th>\n",
       "      <th>36</th>\n",
       "      <th>37</th>\n",
       "      <th>38</th>\n",
       "      <th>39</th>\n",
       "      <th>40</th>\n",
       "      <th>41</th>\n",
       "      <th>...</th>\n",
       "      <th>340</th>\n",
       "      <th>341</th>\n",
       "      <th>342</th>\n",
       "      <th>343</th>\n",
       "      <th>344</th>\n",
       "      <th>345</th>\n",
       "      <th>346</th>\n",
       "      <th>347</th>\n",
       "      <th>348</th>\n",
       "      <th>349</th>\n",
       "    </tr>\n",
       "    <tr>\n",
       "      <th>p0</th>\n",
       "      <th>p1</th>\n",
       "      <th></th>\n",
       "      <th></th>\n",
       "      <th></th>\n",
       "      <th></th>\n",
       "      <th></th>\n",
       "      <th></th>\n",
       "      <th></th>\n",
       "      <th></th>\n",
       "      <th></th>\n",
       "      <th></th>\n",
       "      <th></th>\n",
       "      <th></th>\n",
       "      <th></th>\n",
       "      <th></th>\n",
       "      <th></th>\n",
       "      <th></th>\n",
       "      <th></th>\n",
       "      <th></th>\n",
       "      <th></th>\n",
       "      <th></th>\n",
       "      <th></th>\n",
       "    </tr>\n",
       "  </thead>\n",
       "  <tbody>\n",
       "    <tr>\n",
       "      <th rowspan=\"5\" valign=\"top\">0.0</th>\n",
       "      <th>0.00</th>\n",
       "      <td>1</td>\n",
       "      <td>1</td>\n",
       "      <td>1</td>\n",
       "      <td>1</td>\n",
       "      <td>1</td>\n",
       "      <td>1</td>\n",
       "      <td>1</td>\n",
       "      <td>1</td>\n",
       "      <td>1</td>\n",
       "      <td>1</td>\n",
       "      <td>...</td>\n",
       "      <td>1</td>\n",
       "      <td>1</td>\n",
       "      <td>1</td>\n",
       "      <td>1</td>\n",
       "      <td>1</td>\n",
       "      <td>1</td>\n",
       "      <td>1</td>\n",
       "      <td>1</td>\n",
       "      <td>1</td>\n",
       "      <td>1</td>\n",
       "    </tr>\n",
       "    <tr>\n",
       "      <th>0.02</th>\n",
       "      <td>1</td>\n",
       "      <td>1</td>\n",
       "      <td>1</td>\n",
       "      <td>1</td>\n",
       "      <td>1</td>\n",
       "      <td>1</td>\n",
       "      <td>1</td>\n",
       "      <td>1</td>\n",
       "      <td>1</td>\n",
       "      <td>1</td>\n",
       "      <td>...</td>\n",
       "      <td>1</td>\n",
       "      <td>1</td>\n",
       "      <td>1</td>\n",
       "      <td>1</td>\n",
       "      <td>1</td>\n",
       "      <td>1</td>\n",
       "      <td>1</td>\n",
       "      <td>1</td>\n",
       "      <td>1</td>\n",
       "      <td>1</td>\n",
       "    </tr>\n",
       "    <tr>\n",
       "      <th>0.04</th>\n",
       "      <td>1</td>\n",
       "      <td>1</td>\n",
       "      <td>1</td>\n",
       "      <td>1</td>\n",
       "      <td>1</td>\n",
       "      <td>1</td>\n",
       "      <td>1</td>\n",
       "      <td>1</td>\n",
       "      <td>1</td>\n",
       "      <td>1</td>\n",
       "      <td>...</td>\n",
       "      <td>1</td>\n",
       "      <td>1</td>\n",
       "      <td>1</td>\n",
       "      <td>1</td>\n",
       "      <td>1</td>\n",
       "      <td>1</td>\n",
       "      <td>1</td>\n",
       "      <td>1</td>\n",
       "      <td>1</td>\n",
       "      <td>1</td>\n",
       "    </tr>\n",
       "    <tr>\n",
       "      <th>0.06</th>\n",
       "      <td>1</td>\n",
       "      <td>1</td>\n",
       "      <td>1</td>\n",
       "      <td>1</td>\n",
       "      <td>1</td>\n",
       "      <td>1</td>\n",
       "      <td>1</td>\n",
       "      <td>1</td>\n",
       "      <td>1</td>\n",
       "      <td>1</td>\n",
       "      <td>...</td>\n",
       "      <td>1</td>\n",
       "      <td>1</td>\n",
       "      <td>1</td>\n",
       "      <td>1</td>\n",
       "      <td>1</td>\n",
       "      <td>1</td>\n",
       "      <td>1</td>\n",
       "      <td>1</td>\n",
       "      <td>1</td>\n",
       "      <td>1</td>\n",
       "    </tr>\n",
       "    <tr>\n",
       "      <th>0.08</th>\n",
       "      <td>1</td>\n",
       "      <td>1</td>\n",
       "      <td>1</td>\n",
       "      <td>1</td>\n",
       "      <td>1</td>\n",
       "      <td>1</td>\n",
       "      <td>1</td>\n",
       "      <td>1</td>\n",
       "      <td>1</td>\n",
       "      <td>1</td>\n",
       "      <td>...</td>\n",
       "      <td>1</td>\n",
       "      <td>1</td>\n",
       "      <td>1</td>\n",
       "      <td>1</td>\n",
       "      <td>1</td>\n",
       "      <td>1</td>\n",
       "      <td>1</td>\n",
       "      <td>1</td>\n",
       "      <td>1</td>\n",
       "      <td>1</td>\n",
       "    </tr>\n",
       "  </tbody>\n",
       "</table>\n",
       "<p>5 rows × 318 columns</p>\n",
       "</div>"
      ],
      "text/plain": [
       "N         32   33   34   35   36   37   38   39   40   41   ...  340  341  \\\n",
       "p0  p1                                                      ...             \n",
       "0.0 0.00    1    1    1    1    1    1    1    1    1    1  ...    1    1   \n",
       "    0.02    1    1    1    1    1    1    1    1    1    1  ...    1    1   \n",
       "    0.04    1    1    1    1    1    1    1    1    1    1  ...    1    1   \n",
       "    0.06    1    1    1    1    1    1    1    1    1    1  ...    1    1   \n",
       "    0.08    1    1    1    1    1    1    1    1    1    1  ...    1    1   \n",
       "\n",
       "N         342  343  344  345  346  347  348  349  \n",
       "p0  p1                                            \n",
       "0.0 0.00    1    1    1    1    1    1    1    1  \n",
       "    0.02    1    1    1    1    1    1    1    1  \n",
       "    0.04    1    1    1    1    1    1    1    1  \n",
       "    0.06    1    1    1    1    1    1    1    1  \n",
       "    0.08    1    1    1    1    1    1    1    1  \n",
       "\n",
       "[5 rows x 318 columns]"
      ]
     },
     "execution_count": 462,
     "metadata": {},
     "output_type": "execute_result"
    }
   ],
   "source": [
    "joint_prior.head()"
   ]
  },
  {
   "cell_type": "code",
   "execution_count": 475,
   "metadata": {},
   "outputs": [
    {
     "data": {
      "text/plain": [
       "8.930285561728951"
      ]
     },
     "execution_count": 475,
     "metadata": {},
     "output_type": "execute_result"
    }
   ],
   "source": [
    "likelihood = joint_prior.copy()\n",
    "Ns = joint_prior.columns\n",
    "\n",
    "for (p0, p1) in joint_prior.index:\n",
    "    like0 = binom.pmf(n0, Ns, p0)\n",
    "    like1 = binom.pmf(k01, Ns-n0, p1) * binom.pmf(k11, n0, p1)\n",
    "    likelihood.loc[p0, p1] = like0 * like1\n",
    "    \n",
    "likelihood.to_numpy().sum()"
   ]
  },
  {
   "cell_type": "code",
   "execution_count": 476,
   "metadata": {},
   "outputs": [
    {
     "data": {
      "text/plain": [
       "(3111, 318)"
      ]
     },
     "execution_count": 476,
     "metadata": {},
     "output_type": "execute_result"
    }
   ],
   "source": [
    "from utils import normalize\n",
    "\n",
    "joint_posterior = joint_prior * likelihood\n",
    "normalize(joint_posterior)\n",
    "joint_posterior.shape"
   ]
  },
  {
   "cell_type": "code",
   "execution_count": 477,
   "metadata": {},
   "outputs": [
    {
     "data": {
      "image/png": "[encoded data removed]",
      "text/plain": [
       "<Figure size 432x288 with 1 Axes>"
      ]
     },
     "metadata": {
      "needs_background": "light"
     },
     "output_type": "display_data"
    }
   ],
   "source": [
    "from utils import marginal\n",
    "\n",
    "posterior_N = marginal(joint_posterior, 0)\n",
    "posterior_N.plot()"
   ]
  },
  {
   "cell_type": "code",
   "execution_count": 478,
   "metadata": {},
   "outputs": [
    {
     "data": {
      "text/plain": [
       "(3111,)"
      ]
     },
     "execution_count": 478,
     "metadata": {},
     "output_type": "execute_result"
    }
   ],
   "source": [
    "posterior_pmf = marginal(joint_posterior, 1)\n",
    "posterior_pmf.shape"
   ]
  },
  {
   "cell_type": "code",
   "execution_count": 479,
   "metadata": {},
   "outputs": [
    {
     "data": {
      "text/html": [
       "<div>\n",
       "<style scoped>\n",
       "    .dataframe tbody tr th:only-of-type {\n",
       "        vertical-align: middle;\n",
       "    }\n",
       "\n",
       "    .dataframe tbody tr th {\n",
       "        vertical-align: top;\n",
       "    }\n",
       "\n",
       "    .dataframe thead th {\n",
       "        text-align: right;\n",
       "    }\n",
       "</style>\n",
       "<table border=\"1\" class=\"dataframe\">\n",
       "  <thead>\n",
       "    <tr style=\"text-align: right;\">\n",
       "      <th>p0</th>\n",
       "      <th>0.000000</th>\n",
       "      <th>0.016667</th>\n",
       "      <th>0.033333</th>\n",
       "      <th>0.050000</th>\n",
       "      <th>0.066667</th>\n",
       "      <th>0.083333</th>\n",
       "      <th>0.100000</th>\n",
       "      <th>0.116667</th>\n",
       "      <th>0.133333</th>\n",
       "      <th>0.150000</th>\n",
       "      <th>...</th>\n",
       "      <th>0.850000</th>\n",
       "      <th>0.866667</th>\n",
       "      <th>0.883333</th>\n",
       "      <th>0.900000</th>\n",
       "      <th>0.916667</th>\n",
       "      <th>0.933333</th>\n",
       "      <th>0.950000</th>\n",
       "      <th>0.966667</th>\n",
       "      <th>0.983333</th>\n",
       "      <th>1.000000</th>\n",
       "    </tr>\n",
       "    <tr>\n",
       "      <th>p1</th>\n",
       "      <th></th>\n",
       "      <th></th>\n",
       "      <th></th>\n",
       "      <th></th>\n",
       "      <th></th>\n",
       "      <th></th>\n",
       "      <th></th>\n",
       "      <th></th>\n",
       "      <th></th>\n",
       "      <th></th>\n",
       "      <th></th>\n",
       "      <th></th>\n",
       "      <th></th>\n",
       "      <th></th>\n",
       "      <th></th>\n",
       "      <th></th>\n",
       "      <th></th>\n",
       "      <th></th>\n",
       "      <th></th>\n",
       "      <th></th>\n",
       "      <th></th>\n",
       "    </tr>\n",
       "  </thead>\n",
       "  <tbody>\n",
       "    <tr>\n",
       "      <th>0.00</th>\n",
       "      <td>0.0</td>\n",
       "      <td>0.000000e+00</td>\n",
       "      <td>0.000000</td>\n",
       "      <td>0.000000</td>\n",
       "      <td>0.000000</td>\n",
       "      <td>0.000000</td>\n",
       "      <td>0.000000</td>\n",
       "      <td>0.000000</td>\n",
       "      <td>0.000000e+00</td>\n",
       "      <td>0.000000e+00</td>\n",
       "      <td>...</td>\n",
       "      <td>0.000000e+00</td>\n",
       "      <td>0.000000e+00</td>\n",
       "      <td>0.000000e+00</td>\n",
       "      <td>0.000000e+00</td>\n",
       "      <td>0.000000e+00</td>\n",
       "      <td>0.000000e+00</td>\n",
       "      <td>0.000000e+00</td>\n",
       "      <td>0.000000e+00</td>\n",
       "      <td>0.000000e+00</td>\n",
       "      <td>0.0</td>\n",
       "    </tr>\n",
       "    <tr>\n",
       "      <th>0.02</th>\n",
       "      <td>0.0</td>\n",
       "      <td>4.015401e-10</td>\n",
       "      <td>0.000002</td>\n",
       "      <td>0.000032</td>\n",
       "      <td>0.000050</td>\n",
       "      <td>0.000025</td>\n",
       "      <td>0.000007</td>\n",
       "      <td>0.000002</td>\n",
       "      <td>5.060290e-07</td>\n",
       "      <td>1.416566e-07</td>\n",
       "      <td>...</td>\n",
       "      <td>6.400273e-25</td>\n",
       "      <td>1.228006e-25</td>\n",
       "      <td>1.958740e-26</td>\n",
       "      <td>2.449499e-27</td>\n",
       "      <td>2.193235e-28</td>\n",
       "      <td>1.207843e-29</td>\n",
       "      <td>3.077500e-31</td>\n",
       "      <td>1.914739e-33</td>\n",
       "      <td>3.786697e-37</td>\n",
       "      <td>0.0</td>\n",
       "    </tr>\n",
       "    <tr>\n",
       "      <th>0.04</th>\n",
       "      <td>0.0</td>\n",
       "      <td>1.890324e-08</td>\n",
       "      <td>0.000105</td>\n",
       "      <td>0.001978</td>\n",
       "      <td>0.004170</td>\n",
       "      <td>0.003270</td>\n",
       "      <td>0.001700</td>\n",
       "      <td>0.000760</td>\n",
       "      <td>3.213970e-04</td>\n",
       "      <td>1.333903e-04</td>\n",
       "      <td>...</td>\n",
       "      <td>1.315527e-20</td>\n",
       "      <td>2.561670e-21</td>\n",
       "      <td>4.144637e-22</td>\n",
       "      <td>5.254755e-23</td>\n",
       "      <td>4.767778e-24</td>\n",
       "      <td>2.659487e-25</td>\n",
       "      <td>6.860462e-27</td>\n",
       "      <td>4.319699e-29</td>\n",
       "      <td>8.642163e-33</td>\n",
       "      <td>0.0</td>\n",
       "    </tr>\n",
       "    <tr>\n",
       "      <th>0.06</th>\n",
       "      <td>0.0</td>\n",
       "      <td>1.196881e-08</td>\n",
       "      <td>0.000081</td>\n",
       "      <td>0.002099</td>\n",
       "      <td>0.007045</td>\n",
       "      <td>0.009668</td>\n",
       "      <td>0.008665</td>\n",
       "      <td>0.006179</td>\n",
       "      <td>3.852341e-03</td>\n",
       "      <td>2.210927e-03</td>\n",
       "      <td>...</td>\n",
       "      <td>3.588320e-18</td>\n",
       "      <td>7.090774e-19</td>\n",
       "      <td>1.163614e-19</td>\n",
       "      <td>1.495587e-20</td>\n",
       "      <td>1.375016e-21</td>\n",
       "      <td>7.768342e-23</td>\n",
       "      <td>2.028796e-24</td>\n",
       "      <td>1.292760e-26</td>\n",
       "      <td>2.616374e-30</td>\n",
       "      <td>0.0</td>\n",
       "    </tr>\n",
       "    <tr>\n",
       "      <th>0.08</th>\n",
       "      <td>0.0</td>\n",
       "      <td>1.471051e-09</td>\n",
       "      <td>0.000014</td>\n",
       "      <td>0.000600</td>\n",
       "      <td>0.003545</td>\n",
       "      <td>0.008300</td>\n",
       "      <td>0.011721</td>\n",
       "      <td>0.012207</td>\n",
       "      <td>1.046347e-02</td>\n",
       "      <td>7.875544e-03</td>\n",
       "      <td>...</td>\n",
       "      <td>1.660452e-16</td>\n",
       "      <td>3.329404e-17</td>\n",
       "      <td>5.541137e-18</td>\n",
       "      <td>7.219543e-19</td>\n",
       "      <td>6.725358e-20</td>\n",
       "      <td>3.848194e-21</td>\n",
       "      <td>1.017439e-22</td>\n",
       "      <td>6.560825e-25</td>\n",
       "      <td>1.343223e-28</td>\n",
       "      <td>0.0</td>\n",
       "    </tr>\n",
       "  </tbody>\n",
       "</table>\n",
       "<p>5 rows × 61 columns</p>\n",
       "</div>"
      ],
      "text/plain": [
       "p0    0.000000      0.016667  0.033333  0.050000  0.066667  0.083333  \\\n",
       "p1                                                                     \n",
       "0.00       0.0  0.000000e+00  0.000000  0.000000  0.000000  0.000000   \n",
       "0.02       0.0  4.015401e-10  0.000002  0.000032  0.000050  0.000025   \n",
       "0.04       0.0  1.890324e-08  0.000105  0.001978  0.004170  0.003270   \n",
       "0.06       0.0  1.196881e-08  0.000081  0.002099  0.007045  0.009668   \n",
       "0.08       0.0  1.471051e-09  0.000014  0.000600  0.003545  0.008300   \n",
       "\n",
       "p0    0.100000  0.116667      0.133333      0.150000  ...      0.850000  \\\n",
       "p1                                                    ...                 \n",
       "0.00  0.000000  0.000000  0.000000e+00  0.000000e+00  ...  0.000000e+00   \n",
       "0.02  0.000007  0.000002  5.060290e-07  1.416566e-07  ...  6.400273e-25   \n",
       "0.04  0.001700  0.000760  3.213970e-04  1.333903e-04  ...  1.315527e-20   \n",
       "0.06  0.008665  0.006179  3.852341e-03  2.210927e-03  ...  3.588320e-18   \n",
       "0.08  0.011721  0.012207  1.046347e-02  7.875544e-03  ...  1.660452e-16   \n",
       "\n",
       "p0        0.866667      0.883333      0.900000      0.916667      0.933333  \\\n",
       "p1                                                                           \n",
       "0.00  0.000000e+00  0.000000e+00  0.000000e+00  0.000000e+00  0.000000e+00   \n",
       "0.02  1.228006e-25  1.958740e-26  2.449499e-27  2.193235e-28  1.207843e-29   \n",
       "0.04  2.561670e-21  4.144637e-22  5.254755e-23  4.767778e-24  2.659487e-25   \n",
       "0.06  7.090774e-19  1.163614e-19  1.495587e-20  1.375016e-21  7.768342e-23   \n",
       "0.08  3.329404e-17  5.541137e-18  7.219543e-19  6.725358e-20  3.848194e-21   \n",
       "\n",
       "p0        0.950000      0.966667      0.983333  1.000000  \n",
       "p1                                                        \n",
       "0.00  0.000000e+00  0.000000e+00  0.000000e+00       0.0  \n",
       "0.02  3.077500e-31  1.914739e-33  3.786697e-37       0.0  \n",
       "0.04  6.860462e-27  4.319699e-29  8.642163e-33       0.0  \n",
       "0.06  2.028796e-24  1.292760e-26  2.616374e-30       0.0  \n",
       "0.08  1.017439e-22  6.560825e-25  1.343223e-28       0.0  \n",
       "\n",
       "[5 rows x 61 columns]"
      ]
     },
     "execution_count": 479,
     "metadata": {},
     "output_type": "execute_result"
    }
   ],
   "source": [
    "posterior_joint_ps = posterior_pmf.unstack().transpose()\n",
    "posterior_joint_ps.head()"
   ]
  },
  {
   "cell_type": "code",
   "execution_count": 480,
   "metadata": {},
   "outputs": [],
   "source": [
    "def plot_contour(joint, **options):\n",
    "    \"\"\"Plot a joint distribution.\n",
    "    \n",
    "    joint: DataFrame representing a joint PMF\n",
    "    \"\"\"\n",
    "    cs = plt.contour(joint.columns, joint.index, joint, **options)\n",
    "    decorate(xlabel=joint.columns.name, \n",
    "             ylabel=joint.index.name)\n",
    "    return cs"
   ]
  },
  {
   "cell_type": "code",
   "execution_count": 481,
   "metadata": {},
   "outputs": [
    {
     "data": {
      "image/png": "[encoded data removed]",
      "text/plain": [
       "<Figure size 432x288 with 1 Axes>"
      ]
     },
     "metadata": {
      "needs_background": "light"
     },
     "output_type": "display_data"
    }
   ],
   "source": [
    "plot_contour(posterior_joint_ps)\n",
    "decorate(title='Posterior joint distribution for p1 and p2')"
   ]
  },
  {
   "cell_type": "code",
   "execution_count": 482,
   "metadata": {},
   "outputs": [
    {
     "data": {
      "image/png": "[encoded data removed]",
      "text/plain": [
       "<Figure size 432x288 with 1 Axes>"
      ]
     },
     "metadata": {
      "needs_background": "light"
     },
     "output_type": "display_data"
    }
   ],
   "source": [
    "posterior_p1 = marginal(posterior_joint_ps, 0)\n",
    "posterior_p2 = marginal(posterior_joint_ps, 1)\n",
    "\n",
    "posterior_p1.plot(label='p1')\n",
    "posterior_p2.plot(label='p2')\n",
    "decorate(xlabel='Probability of finding a bug',\n",
    "         ylabel='PDF',\n",
    "         title='Posterior marginal distributions of p1 and p2')"
   ]
  },
  {
   "cell_type": "code",
   "execution_count": 483,
   "metadata": {},
   "outputs": [
    {
     "data": {
      "text/plain": [
       "(0.22970406720316164, array([0.1, 0.4]))"
      ]
     },
     "execution_count": 483,
     "metadata": {},
     "output_type": "execute_result"
    }
   ],
   "source": [
    "posterior_p1.mean(), posterior_p1.credible_interval(0.9)"
   ]
  },
  {
   "cell_type": "code",
   "execution_count": 484,
   "metadata": {},
   "outputs": [
    {
     "data": {
      "text/plain": [
       "(0.17501024717938662, array([0.06, 0.32]))"
      ]
     },
     "execution_count": 484,
     "metadata": {},
     "output_type": "execute_result"
    }
   ],
   "source": [
    "posterior_p2.mean(), posterior_p2.credible_interval(0.9)"
   ]
  },
  {
   "cell_type": "code",
   "execution_count": 485,
   "metadata": {},
   "outputs": [
    {
     "data": {
      "image/png": "[encoded data removed]",
      "text/plain": [
       "<Figure size 432x432 with 3 Axes>"
      ]
     },
     "metadata": {
      "needs_background": "light"
     },
     "output_type": "display_data"
    }
   ],
   "source": [
    "joint_plot(posterior_joint_ps)"
   ]
  },
  {
   "cell_type": "markdown",
   "metadata": {},
   "source": [
    "## Chao et al"
   ]
  },
  {
   "cell_type": "code",
   "execution_count": 57,
   "metadata": {},
   "outputs": [],
   "source": [
    "data = [-1000, 63, 55, 18, 69, 17, 21, 28]"
   ]
  },
  {
   "cell_type": "code",
   "execution_count": 58,
   "metadata": {},
   "outputs": [],
   "source": [
    "index = pd.MultiIndex.from_product([[0, 1]]*3)"
   ]
  },
  {
   "cell_type": "code",
   "execution_count": 59,
   "metadata": {},
   "outputs": [
    {
     "data": {
      "text/plain": [
       "0  0  0   -1000\n",
       "      1      63\n",
       "   1  0      55\n",
       "      1      18\n",
       "1  0  0      69\n",
       "      1      17\n",
       "   1  0      21\n",
       "      1      28\n",
       "dtype: int64"
      ]
     },
     "execution_count": 59,
     "metadata": {},
     "output_type": "execute_result"
    }
   ],
   "source": [
    "Kijk = pd.Series(data, index)\n",
    "Kijk"
   ]
  },
  {
   "cell_type": "code",
   "execution_count": 60,
   "metadata": {},
   "outputs": [
    {
     "data": {
      "text/plain": [
       "135"
      ]
     },
     "execution_count": 60,
     "metadata": {},
     "output_type": "execute_result"
    }
   ],
   "source": [
    "Kijk.xs(1, level=0).sum()"
   ]
  },
  {
   "cell_type": "code",
   "execution_count": 61,
   "metadata": {},
   "outputs": [
    {
     "data": {
      "text/plain": [
       "122"
      ]
     },
     "execution_count": 61,
     "metadata": {},
     "output_type": "execute_result"
    }
   ],
   "source": [
    "Kijk.xs(1, level=1).sum()"
   ]
  },
  {
   "cell_type": "code",
   "execution_count": 62,
   "metadata": {},
   "outputs": [
    {
     "data": {
      "text/plain": [
       "126"
      ]
     },
     "execution_count": 62,
     "metadata": {},
     "output_type": "execute_result"
    }
   ],
   "source": [
    "Kijk.xs(1, level=2).sum()"
   ]
  },
  {
   "cell_type": "code",
   "execution_count": 63,
   "metadata": {},
   "outputs": [
    {
     "data": {
      "text/plain": [
       "0    135\n",
       "1    122\n",
       "2    126\n",
       "dtype: int64"
      ]
     },
     "execution_count": 63,
     "metadata": {},
     "output_type": "execute_result"
    }
   ],
   "source": [
    "n = pd.Series(1, range(3))\n",
    "\n",
    "for level in n.index:\n",
    "    n[level] = Kijk.xs(1, level=level).sum()\n",
    "    \n",
    "n"
   ]
  },
  {
   "cell_type": "code",
   "execution_count": 64,
   "metadata": {},
   "outputs": [
    {
     "data": {
      "text/plain": [
       "0   -864\n",
       "1    135\n",
       "dtype: int64"
      ]
     },
     "execution_count": 64,
     "metadata": {},
     "output_type": "execute_result"
    }
   ],
   "source": [
    "Kixx = Kijk.sum(level=0)\n",
    "Kixx"
   ]
  },
  {
   "cell_type": "code",
   "execution_count": 65,
   "metadata": {},
   "outputs": [
    {
     "data": {
      "text/plain": [
       "0  0   -937\n",
       "   1     73\n",
       "1  0     86\n",
       "   1     49\n",
       "dtype: int64"
      ]
     },
     "execution_count": 65,
     "metadata": {},
     "output_type": "execute_result"
    }
   ],
   "source": [
    "Kijx = Kijk.sum(level=[0,1])\n",
    "Kijx"
   ]
  },
  {
   "cell_type": "code",
   "execution_count": 66,
   "metadata": {},
   "outputs": [],
   "source": [
    "def num_observed(K):\n",
    "    return np.asarray(K)[1:].sum()"
   ]
  },
  {
   "cell_type": "code",
   "execution_count": 67,
   "metadata": {},
   "outputs": [
    {
     "data": {
      "text/plain": [
       "135"
      ]
     },
     "execution_count": 67,
     "metadata": {},
     "output_type": "execute_result"
    }
   ],
   "source": [
    "s0 = num_observed(Kixx)\n",
    "s0"
   ]
  },
  {
   "cell_type": "code",
   "execution_count": 68,
   "metadata": {},
   "outputs": [
    {
     "data": {
      "text/plain": [
       "208"
      ]
     },
     "execution_count": 68,
     "metadata": {},
     "output_type": "execute_result"
    }
   ],
   "source": [
    "s1 = num_observed(Kijx)\n",
    "s1"
   ]
  },
  {
   "cell_type": "code",
   "execution_count": 69,
   "metadata": {},
   "outputs": [
    {
     "data": {
      "text/plain": [
       "271"
      ]
     },
     "execution_count": 69,
     "metadata": {},
     "output_type": "execute_result"
    }
   ],
   "source": [
    "s2 = num_observed(Kijk)\n",
    "s2"
   ]
  },
  {
   "cell_type": "code",
   "execution_count": 70,
   "metadata": {},
   "outputs": [
    {
     "data": {
      "text/plain": [
       "[135, 208, 271]"
      ]
     },
     "execution_count": 70,
     "metadata": {},
     "output_type": "execute_result"
    }
   ],
   "source": [
    "s = [s0, s1, s2]\n",
    "s"
   ]
  },
  {
   "cell_type": "code",
   "execution_count": 71,
   "metadata": {
    "scrolled": true
   },
   "outputs": [
    {
     "data": {
      "text/plain": [
       "0            -864\n",
       "1             135\n",
       "(0, 0)       -937\n",
       "(0, 1)         73\n",
       "(1, 0)         86\n",
       "(1, 1)         49\n",
       "(0, 0, 0)   -1000\n",
       "(0, 0, 1)      63\n",
       "(0, 1, 0)      55\n",
       "(0, 1, 1)      18\n",
       "(1, 0, 0)      69\n",
       "(1, 0, 1)      17\n",
       "(1, 1, 0)      21\n",
       "(1, 1, 1)      28\n",
       "dtype: int64"
      ]
     },
     "execution_count": 71,
     "metadata": {},
     "output_type": "execute_result"
    }
   ],
   "source": [
    "k = pd.concat([Kixx, Kijx, Kijk])\n",
    "k"
   ]
  },
  {
   "cell_type": "code",
   "execution_count": 72,
   "metadata": {},
   "outputs": [
    {
     "data": {
      "text/plain": [
       "135"
      ]
     },
     "execution_count": 72,
     "metadata": {},
     "output_type": "execute_result"
    }
   ],
   "source": [
    "k[1]"
   ]
  },
  {
   "cell_type": "code",
   "execution_count": 73,
   "metadata": {},
   "outputs": [
    {
     "data": {
      "text/plain": [
       "73"
      ]
     },
     "execution_count": 73,
     "metadata": {},
     "output_type": "execute_result"
    }
   ],
   "source": [
    "k[0,1]"
   ]
  },
  {
   "cell_type": "code",
   "execution_count": 74,
   "metadata": {},
   "outputs": [
    {
     "data": {
      "text/plain": [
       "63"
      ]
     },
     "execution_count": 74,
     "metadata": {},
     "output_type": "execute_result"
    }
   ],
   "source": [
    "k[0,0,1]"
   ]
  },
  {
   "cell_type": "code",
   "execution_count": 75,
   "metadata": {},
   "outputs": [
    {
     "data": {
      "text/plain": [
       "-864"
      ]
     },
     "execution_count": 75,
     "metadata": {},
     "output_type": "execute_result"
    }
   ],
   "source": [
    "k[0]"
   ]
  },
  {
   "cell_type": "code",
   "execution_count": 76,
   "metadata": {},
   "outputs": [
    {
     "data": {
      "text/plain": [
       "165"
      ]
     },
     "execution_count": 76,
     "metadata": {},
     "output_type": "execute_result"
    }
   ],
   "source": [
    "N = 300\n",
    "k0 = N - s[0]\n",
    "k0"
   ]
  },
  {
   "cell_type": "code",
   "execution_count": 77,
   "metadata": {},
   "outputs": [
    {
     "data": {
      "text/plain": [
       "92"
      ]
     },
     "execution_count": 77,
     "metadata": {},
     "output_type": "execute_result"
    }
   ],
   "source": [
    "k00 = N - s[1]\n",
    "k00"
   ]
  },
  {
   "cell_type": "code",
   "execution_count": 78,
   "metadata": {},
   "outputs": [
    {
     "data": {
      "text/plain": [
       "29"
      ]
     },
     "execution_count": 78,
     "metadata": {},
     "output_type": "execute_result"
    }
   ],
   "source": [
    "k000 = N - s[2]\n",
    "k000"
   ]
  },
  {
   "cell_type": "code",
   "execution_count": 79,
   "metadata": {},
   "outputs": [],
   "source": [
    "Ns = np.arange(s2, 500, 5)\n",
    "prior_N = Pmf(1, Ns)\n",
    "prior_N.index.name = 'N'"
   ]
  },
  {
   "cell_type": "code",
   "execution_count": 80,
   "metadata": {},
   "outputs": [],
   "source": [
    "ps = np.linspace(0, 1, 101)\n",
    "prior_p = Pmf(1, ps)\n",
    "prior_p.index.name = 'p'"
   ]
  },
  {
   "cell_type": "code",
   "execution_count": 81,
   "metadata": {},
   "outputs": [],
   "source": [
    "from utils import make_joint\n",
    "\n",
    "joint_prior = make_joint(prior_N, prior_p)"
   ]
  },
  {
   "cell_type": "code",
   "execution_count": 82,
   "metadata": {},
   "outputs": [],
   "source": [
    "def likelihood_round1(ps, n, k, s, joint_prior):\n",
    "\n",
    "    like = joint_prior.copy()\n",
    "\n",
    "    for N in joint_prior:\n",
    "        like[N] = binom.pmf(n[0], N, ps)\n",
    "    return like"
   ]
  },
  {
   "cell_type": "code",
   "execution_count": 83,
   "metadata": {},
   "outputs": [],
   "source": [
    "like1 = likelihood_round1(ps, n, k, s, joint_prior)"
   ]
  },
  {
   "cell_type": "code",
   "execution_count": 84,
   "metadata": {},
   "outputs": [],
   "source": [
    "def likelihood_round2(ps, n, k, s, joint_prior):\n",
    "    like = joint_prior.copy()\n",
    "\n",
    "    for N in joint_prior:\n",
    "        k0 = N - s[0]\n",
    "        like[N] = (binom.pmf(k[0,1], k0, ps) * \n",
    "                   binom.pmf(k[1,1], k[1], ps))\n",
    "    return like"
   ]
  },
  {
   "cell_type": "code",
   "execution_count": 85,
   "metadata": {},
   "outputs": [
    {
     "data": {
      "text/plain": [
       "0.40773670523278144"
      ]
     },
     "execution_count": 85,
     "metadata": {},
     "output_type": "execute_result"
    }
   ],
   "source": [
    "like2 = likelihood_round2(ps, n, k, s, joint_prior)\n",
    "like2.to_numpy().sum()"
   ]
  },
  {
   "cell_type": "code",
   "execution_count": 86,
   "metadata": {},
   "outputs": [],
   "source": [
    "joint_posterior2 = joint_prior * like1 * like2\n",
    "normalize(joint_posterior2)"
   ]
  },
  {
   "cell_type": "code",
   "execution_count": 87,
   "metadata": {},
   "outputs": [
    {
     "data": {
      "image/png": "[encoded data removed]",
      "text/plain": [
       "<Figure size 432x288 with 1 Axes>"
      ]
     },
     "metadata": {
      "needs_background": "light"
     },
     "output_type": "display_data"
    }
   ],
   "source": [
    "plot_contour(joint_posterior2)\n",
    "decorate(title='Joint posterior of N and p')"
   ]
  },
  {
   "cell_type": "code",
   "execution_count": 88,
   "metadata": {},
   "outputs": [
    {
     "data": {
      "image/png": "[encoded data removed]",
      "text/plain": [
       "<Figure size 432x288 with 1 Axes>"
      ]
     },
     "metadata": {
      "needs_background": "light"
     },
     "output_type": "display_data"
    }
   ],
   "source": [
    "marginal_N = marginal(joint_posterior2, 0)\n",
    "marginal_N.plot()\n",
    "\n",
    "decorate(xlabel='N',\n",
    "         ylabel='PDF',\n",
    "         title='Posterior marginal distribution of N')"
   ]
  },
  {
   "cell_type": "code",
   "execution_count": 89,
   "metadata": {},
   "outputs": [
    {
     "data": {
      "text/plain": [
       "(342.19942566476345, array([296., 396.]))"
      ]
     },
     "execution_count": 89,
     "metadata": {},
     "output_type": "execute_result"
    }
   ],
   "source": [
    "marginal_N.mean(), marginal_N.credible_interval(0.9)"
   ]
  },
  {
   "cell_type": "code",
   "execution_count": 90,
   "metadata": {},
   "outputs": [
    {
     "data": {
      "image/png": "[encoded data removed]",
      "text/plain": [
       "<Figure size 432x288 with 1 Axes>"
      ]
     },
     "metadata": {
      "needs_background": "light"
     },
     "output_type": "display_data"
    }
   ],
   "source": [
    "marginal_p = marginal(joint_posterior2, 1)\n",
    "marginal_p.plot()\n",
    "\n",
    "decorate(xlabel='p',\n",
    "         ylabel='PDF',\n",
    "         title='Posterior marginal distribution of p')"
   ]
  },
  {
   "cell_type": "code",
   "execution_count": 91,
   "metadata": {},
   "outputs": [],
   "source": [
    "def likelihood_round3(ps, n, k, s, joint_prior):\n",
    "    like = joint_prior.copy()\n",
    "\n",
    "    for N in joint_prior:\n",
    "        k00 = N - s[1]\n",
    "        like[N] = (binom.pmf(k[0,0,1], k00, ps) * \n",
    "                   binom.pmf(k[0,1,1], k[0,1], ps) * \n",
    "                   binom.pmf(k[1,0,1], k[1,0], ps) * \n",
    "                   binom.pmf(k[1,1,1], k[1,1], ps))\n",
    "    return like"
   ]
  },
  {
   "cell_type": "code",
   "execution_count": 92,
   "metadata": {},
   "outputs": [
    {
     "data": {
      "text/plain": [
       "1.7620042777092345e-07"
      ]
     },
     "execution_count": 92,
     "metadata": {},
     "output_type": "execute_result"
    }
   ],
   "source": [
    "like3 = likelihood_round3(ps, n, k, s, joint_prior)\n",
    "like3.to_numpy().sum()"
   ]
  },
  {
   "cell_type": "code",
   "execution_count": 93,
   "metadata": {},
   "outputs": [],
   "source": [
    "joint_posterior3 = joint_posterior2 * like3\n",
    "normalize(joint_posterior3)"
   ]
  },
  {
   "cell_type": "code",
   "execution_count": 94,
   "metadata": {},
   "outputs": [
    {
     "data": {
      "image/png": "[encoded data removed]",
      "text/plain": [
       "<Figure size 432x288 with 1 Axes>"
      ]
     },
     "metadata": {
      "needs_background": "light"
     },
     "output_type": "display_data"
    }
   ],
   "source": [
    "plot_contour(joint_posterior3)\n",
    "decorate(title='Joint posterior of N and p')"
   ]
  },
  {
   "cell_type": "code",
   "execution_count": 95,
   "metadata": {},
   "outputs": [
    {
     "data": {
      "image/png": "[encoded data removed]",
      "text/plain": [
       "<Figure size 432x288 with 1 Axes>"
      ]
     },
     "metadata": {
      "needs_background": "light"
     },
     "output_type": "display_data"
    }
   ],
   "source": [
    "marginal_N = marginal(joint_posterior3, 0)\n",
    "marginal_N.plot()\n",
    "\n",
    "decorate(xlabel='N',\n",
    "         ylabel='PDF',\n",
    "         title='Posterior marginal distribution of N')"
   ]
  },
  {
   "cell_type": "code",
   "execution_count": 96,
   "metadata": {},
   "outputs": [
    {
     "data": {
      "text/plain": [
       "(391.0058839098183, array([356., 431.]))"
      ]
     },
     "execution_count": 96,
     "metadata": {},
     "output_type": "execute_result"
    }
   ],
   "source": [
    "marginal_N.mean(), marginal_N.credible_interval(0.9)"
   ]
  },
  {
   "cell_type": "code",
   "execution_count": 97,
   "metadata": {},
   "outputs": [
    {
     "data": {
      "image/png": "[encoded data removed]",
      "text/plain": [
       "<Figure size 432x288 with 1 Axes>"
      ]
     },
     "metadata": {
      "needs_background": "light"
     },
     "output_type": "display_data"
    }
   ],
   "source": [
    "marginal_p = marginal(joint_posterior3, 1)\n",
    "marginal_p.plot()\n",
    "\n",
    "decorate(xlabel='p',\n",
    "         ylabel='PDF',\n",
    "         title='Posterior marginal distribution of p')"
   ]
  },
  {
   "cell_type": "code",
   "execution_count": 98,
   "metadata": {},
   "outputs": [
    {
     "data": {
      "image/png": "[encoded data removed]",
      "text/plain": [
       "<Figure size 432x432 with 3 Axes>"
      ]
     },
     "metadata": {
      "needs_background": "light"
     },
     "output_type": "display_data"
    }
   ],
   "source": [
    "joint_plot(joint_posterior3)"
   ]
  },
  {
   "cell_type": "markdown",
   "metadata": {},
   "source": [
    "## Spina bifida"
   ]
  },
  {
   "cell_type": "code",
   "execution_count": 256,
   "metadata": {},
   "outputs": [
    {
     "data": {
      "text/plain": [
       "626"
      ]
     },
     "execution_count": 256,
     "metadata": {},
     "output_type": "execute_result"
    }
   ],
   "source": [
    "data_sb = [-100, 60, 49, 4, 247, 112, 142, 12]\n",
    "num_observed(data_sb)"
   ]
  },
  {
   "cell_type": "code",
   "execution_count": 258,
   "metadata": {},
   "outputs": [],
   "source": [
    "def make_stats(data, num_rounds):\n",
    "    index = pd.MultiIndex.from_product([[0, 1]]*num_rounds)\n",
    "\n",
    "    K = pd.Series(data, index)\n",
    "\n",
    "    n = pd.Series(0, range(num_rounds))\n",
    "    for level in n.index:\n",
    "        n[level] = K.xs(1, level=level).sum()\n",
    "    \n",
    "    t = [K.sum(level=list(range(i+1)))\n",
    "         for i in range(num_rounds)]\n",
    "    \n",
    "    s = [num_observed(Kx) for Kx in t]\n",
    "        \n",
    "    k = pd.concat(t)\n",
    "    return n, k, s"
   ]
  },
  {
   "cell_type": "code",
   "execution_count": 259,
   "metadata": {},
   "outputs": [],
   "source": [
    "n, k, s = make_stats(data_sb, 3)"
   ]
  },
  {
   "cell_type": "code",
   "execution_count": 260,
   "metadata": {},
   "outputs": [
    {
     "data": {
      "text/plain": [
       "0    513\n",
       "1    207\n",
       "2    188\n",
       "dtype: int64"
      ]
     },
     "execution_count": 260,
     "metadata": {},
     "output_type": "execute_result"
    }
   ],
   "source": [
    "n"
   ]
  },
  {
   "cell_type": "code",
   "execution_count": 261,
   "metadata": {},
   "outputs": [
    {
     "data": {
      "text/plain": [
       "0             13\n",
       "1            513\n",
       "(0, 0)       -40\n",
       "(0, 1)        53\n",
       "(1, 0)       359\n",
       "(1, 1)       154\n",
       "(0, 0, 0)   -100\n",
       "(0, 0, 1)     60\n",
       "(0, 1, 0)     49\n",
       "(0, 1, 1)      4\n",
       "(1, 0, 0)    247\n",
       "(1, 0, 1)    112\n",
       "(1, 1, 0)    142\n",
       "(1, 1, 1)     12\n",
       "dtype: int64"
      ]
     },
     "execution_count": 261,
     "metadata": {},
     "output_type": "execute_result"
    }
   ],
   "source": [
    "k"
   ]
  },
  {
   "cell_type": "code",
   "execution_count": 262,
   "metadata": {},
   "outputs": [
    {
     "data": {
      "text/plain": [
       "[513, 566, 626]"
      ]
     },
     "execution_count": 262,
     "metadata": {},
     "output_type": "execute_result"
    }
   ],
   "source": [
    "s"
   ]
  },
  {
   "cell_type": "markdown",
   "metadata": {},
   "source": [
    "## "
   ]
  },
  {
   "cell_type": "code",
   "execution_count": 556,
   "metadata": {},
   "outputs": [
    {
     "data": {
      "text/plain": [
       "626"
      ]
     },
     "execution_count": 556,
     "metadata": {},
     "output_type": "execute_result"
    }
   ],
   "source": [
    "s[2]"
   ]
  },
  {
   "cell_type": "code",
   "execution_count": 557,
   "metadata": {},
   "outputs": [
    {
     "data": {
      "text/plain": [
       "(38,)"
      ]
     },
     "execution_count": 557,
     "metadata": {},
     "output_type": "execute_result"
    }
   ],
   "source": [
    "Ns = np.arange(s[2], 1000, 10)\n",
    "prior_N = Pmf(1, Ns)\n",
    "prior_N.index.name = 'N'\n",
    "prior_N.shape"
   ]
  },
  {
   "cell_type": "code",
   "execution_count": 558,
   "metadata": {},
   "outputs": [],
   "source": [
    "probs1 = np.linspace(0, 1, 61)\n",
    "prior_p1 = Pmf(1, probs1)\n",
    "prior_p1.index.name = 'p1'"
   ]
  },
  {
   "cell_type": "code",
   "execution_count": 559,
   "metadata": {},
   "outputs": [],
   "source": [
    "probs2 = np.linspace(0, 1, 51)\n",
    "prior_p2 = Pmf(1, probs2)\n",
    "prior_p2.index.name = 'p2'"
   ]
  },
  {
   "cell_type": "code",
   "execution_count": 560,
   "metadata": {},
   "outputs": [],
   "source": [
    "probs3 = np.linspace(0, 1, 41)\n",
    "prior_p3 = Pmf(1, probs3)\n",
    "prior_p3.index.name = 'p3'"
   ]
  },
  {
   "cell_type": "code",
   "execution_count": 561,
   "metadata": {},
   "outputs": [],
   "source": [
    "def make_joint3(prior0, prior1, prior2):\n",
    "    joint2 = make_joint(prior0, prior1)\n",
    "    joint2_pmf = Pmf(joint2.transpose().stack())\n",
    "    joint3 = make_joint(prior2, joint_pmf)\n",
    "    return joint3"
   ]
  },
  {
   "cell_type": "code",
   "execution_count": 562,
   "metadata": {},
   "outputs": [
    {
     "data": {
      "text/html": [
       "<div>\n",
       "<style scoped>\n",
       "    .dataframe tbody tr th:only-of-type {\n",
       "        vertical-align: middle;\n",
       "    }\n",
       "\n",
       "    .dataframe tbody tr th {\n",
       "        vertical-align: top;\n",
       "    }\n",
       "\n",
       "    .dataframe thead th {\n",
       "        text-align: right;\n",
       "    }\n",
       "</style>\n",
       "<table border=\"1\" class=\"dataframe\">\n",
       "  <thead>\n",
       "    <tr style=\"text-align: right;\">\n",
       "      <th></th>\n",
       "      <th>N</th>\n",
       "      <th>626</th>\n",
       "      <th>636</th>\n",
       "      <th>646</th>\n",
       "      <th>656</th>\n",
       "      <th>666</th>\n",
       "      <th>676</th>\n",
       "      <th>686</th>\n",
       "      <th>696</th>\n",
       "      <th>706</th>\n",
       "      <th>716</th>\n",
       "      <th>...</th>\n",
       "      <th>906</th>\n",
       "      <th>916</th>\n",
       "      <th>926</th>\n",
       "      <th>936</th>\n",
       "      <th>946</th>\n",
       "      <th>956</th>\n",
       "      <th>966</th>\n",
       "      <th>976</th>\n",
       "      <th>986</th>\n",
       "      <th>996</th>\n",
       "    </tr>\n",
       "    <tr>\n",
       "      <th>p0</th>\n",
       "      <th>p1</th>\n",
       "      <th></th>\n",
       "      <th></th>\n",
       "      <th></th>\n",
       "      <th></th>\n",
       "      <th></th>\n",
       "      <th></th>\n",
       "      <th></th>\n",
       "      <th></th>\n",
       "      <th></th>\n",
       "      <th></th>\n",
       "      <th></th>\n",
       "      <th></th>\n",
       "      <th></th>\n",
       "      <th></th>\n",
       "      <th></th>\n",
       "      <th></th>\n",
       "      <th></th>\n",
       "      <th></th>\n",
       "      <th></th>\n",
       "      <th></th>\n",
       "      <th></th>\n",
       "    </tr>\n",
       "  </thead>\n",
       "  <tbody>\n",
       "    <tr>\n",
       "      <th rowspan=\"5\" valign=\"top\">0.0</th>\n",
       "      <th>0.00</th>\n",
       "      <td>1</td>\n",
       "      <td>1</td>\n",
       "      <td>1</td>\n",
       "      <td>1</td>\n",
       "      <td>1</td>\n",
       "      <td>1</td>\n",
       "      <td>1</td>\n",
       "      <td>1</td>\n",
       "      <td>1</td>\n",
       "      <td>1</td>\n",
       "      <td>...</td>\n",
       "      <td>1</td>\n",
       "      <td>1</td>\n",
       "      <td>1</td>\n",
       "      <td>1</td>\n",
       "      <td>1</td>\n",
       "      <td>1</td>\n",
       "      <td>1</td>\n",
       "      <td>1</td>\n",
       "      <td>1</td>\n",
       "      <td>1</td>\n",
       "    </tr>\n",
       "    <tr>\n",
       "      <th>0.02</th>\n",
       "      <td>1</td>\n",
       "      <td>1</td>\n",
       "      <td>1</td>\n",
       "      <td>1</td>\n",
       "      <td>1</td>\n",
       "      <td>1</td>\n",
       "      <td>1</td>\n",
       "      <td>1</td>\n",
       "      <td>1</td>\n",
       "      <td>1</td>\n",
       "      <td>...</td>\n",
       "      <td>1</td>\n",
       "      <td>1</td>\n",
       "      <td>1</td>\n",
       "      <td>1</td>\n",
       "      <td>1</td>\n",
       "      <td>1</td>\n",
       "      <td>1</td>\n",
       "      <td>1</td>\n",
       "      <td>1</td>\n",
       "      <td>1</td>\n",
       "    </tr>\n",
       "    <tr>\n",
       "      <th>0.04</th>\n",
       "      <td>1</td>\n",
       "      <td>1</td>\n",
       "      <td>1</td>\n",
       "      <td>1</td>\n",
       "      <td>1</td>\n",
       "      <td>1</td>\n",
       "      <td>1</td>\n",
       "      <td>1</td>\n",
       "      <td>1</td>\n",
       "      <td>1</td>\n",
       "      <td>...</td>\n",
       "      <td>1</td>\n",
       "      <td>1</td>\n",
       "      <td>1</td>\n",
       "      <td>1</td>\n",
       "      <td>1</td>\n",
       "      <td>1</td>\n",
       "      <td>1</td>\n",
       "      <td>1</td>\n",
       "      <td>1</td>\n",
       "      <td>1</td>\n",
       "    </tr>\n",
       "    <tr>\n",
       "      <th>0.06</th>\n",
       "      <td>1</td>\n",
       "      <td>1</td>\n",
       "      <td>1</td>\n",
       "      <td>1</td>\n",
       "      <td>1</td>\n",
       "      <td>1</td>\n",
       "      <td>1</td>\n",
       "      <td>1</td>\n",
       "      <td>1</td>\n",
       "      <td>1</td>\n",
       "      <td>...</td>\n",
       "      <td>1</td>\n",
       "      <td>1</td>\n",
       "      <td>1</td>\n",
       "      <td>1</td>\n",
       "      <td>1</td>\n",
       "      <td>1</td>\n",
       "      <td>1</td>\n",
       "      <td>1</td>\n",
       "      <td>1</td>\n",
       "      <td>1</td>\n",
       "    </tr>\n",
       "    <tr>\n",
       "      <th>0.08</th>\n",
       "      <td>1</td>\n",
       "      <td>1</td>\n",
       "      <td>1</td>\n",
       "      <td>1</td>\n",
       "      <td>1</td>\n",
       "      <td>1</td>\n",
       "      <td>1</td>\n",
       "      <td>1</td>\n",
       "      <td>1</td>\n",
       "      <td>1</td>\n",
       "      <td>...</td>\n",
       "      <td>1</td>\n",
       "      <td>1</td>\n",
       "      <td>1</td>\n",
       "      <td>1</td>\n",
       "      <td>1</td>\n",
       "      <td>1</td>\n",
       "      <td>1</td>\n",
       "      <td>1</td>\n",
       "      <td>1</td>\n",
       "      <td>1</td>\n",
       "    </tr>\n",
       "  </tbody>\n",
       "</table>\n",
       "<p>5 rows × 38 columns</p>\n",
       "</div>"
      ],
      "text/plain": [
       "N         626  636  646  656  666  676  686  696  706  716  ...  906  916  \\\n",
       "p0  p1                                                      ...             \n",
       "0.0 0.00    1    1    1    1    1    1    1    1    1    1  ...    1    1   \n",
       "    0.02    1    1    1    1    1    1    1    1    1    1  ...    1    1   \n",
       "    0.04    1    1    1    1    1    1    1    1    1    1  ...    1    1   \n",
       "    0.06    1    1    1    1    1    1    1    1    1    1  ...    1    1   \n",
       "    0.08    1    1    1    1    1    1    1    1    1    1  ...    1    1   \n",
       "\n",
       "N         926  936  946  956  966  976  986  996  \n",
       "p0  p1                                            \n",
       "0.0 0.00    1    1    1    1    1    1    1    1  \n",
       "    0.02    1    1    1    1    1    1    1    1  \n",
       "    0.04    1    1    1    1    1    1    1    1  \n",
       "    0.06    1    1    1    1    1    1    1    1  \n",
       "    0.08    1    1    1    1    1    1    1    1  \n",
       "\n",
       "[5 rows x 38 columns]"
      ]
     },
     "execution_count": 562,
     "metadata": {},
     "output_type": "execute_result"
    }
   ],
   "source": [
    "joint_prior = make_joint3(prior_p0, prior_p1, prior_N)\n",
    "joint_prior.head()"
   ]
  },
  {
   "cell_type": "code",
   "execution_count": 563,
   "metadata": {},
   "outputs": [
    {
     "data": {
      "text/plain": [
       "0.002809941857845991"
      ]
     },
     "execution_count": 563,
     "metadata": {},
     "output_type": "execute_result"
    }
   ],
   "source": [
    "likelihood = joint_prior.copy()\n",
    "Ns = joint_prior.columns\n",
    "\n",
    "for (p0, p1) in joint_prior.index:\n",
    "    like0 = binom.pmf(k[1], Ns, p0)\n",
    "    k0 = Ns - s[0]\n",
    "    like1 = binom.pmf(k[0,1], k0, p1) * binom.pmf(k[1,1], k[1], p1)\n",
    "    likelihood.loc[p0, p1] = like0 * like1\n",
    "    \n",
    "likelihood.to_numpy().sum()"
   ]
  },
  {
   "cell_type": "code",
   "execution_count": 564,
   "metadata": {},
   "outputs": [
    {
     "data": {
      "text/plain": [
       "(3111, 38)"
      ]
     },
     "execution_count": 564,
     "metadata": {},
     "output_type": "execute_result"
    }
   ],
   "source": [
    "from utils import normalize\n",
    "\n",
    "joint_posterior = joint_prior * likelihood\n",
    "normalize(joint_posterior)\n",
    "joint_posterior.shape"
   ]
  },
  {
   "cell_type": "code",
   "execution_count": 565,
   "metadata": {},
   "outputs": [
    {
     "data": {
      "image/png": "[encoded data removed]",
      "text/plain": [
       "<Figure size 432x288 with 1 Axes>"
      ]
     },
     "metadata": {
      "needs_background": "light"
     },
     "output_type": "display_data"
    }
   ],
   "source": [
    "from utils import marginal\n",
    "\n",
    "posterior_N = marginal(joint_posterior, 0)\n",
    "posterior_N.plot()"
   ]
  },
  {
   "cell_type": "code",
   "execution_count": 566,
   "metadata": {},
   "outputs": [
    {
     "data": {
      "text/plain": [
       "p0   p1  \n",
       "0.0  0.00    0.0\n",
       "     0.02    0.0\n",
       "     0.04    0.0\n",
       "     0.06    0.0\n",
       "     0.08    0.0\n",
       "dtype: float64"
      ]
     },
     "execution_count": 566,
     "metadata": {},
     "output_type": "execute_result"
    }
   ],
   "source": [
    "posterior_pmf = marginal(joint_posterior, 1)\n",
    "posterior_pmf.head()"
   ]
  },
  {
   "cell_type": "code",
   "execution_count": 567,
   "metadata": {},
   "outputs": [
    {
     "data": {
      "text/html": [
       "<div>\n",
       "<style scoped>\n",
       "    .dataframe tbody tr th:only-of-type {\n",
       "        vertical-align: middle;\n",
       "    }\n",
       "\n",
       "    .dataframe tbody tr th {\n",
       "        vertical-align: top;\n",
       "    }\n",
       "\n",
       "    .dataframe thead th {\n",
       "        text-align: right;\n",
       "    }\n",
       "</style>\n",
       "<table border=\"1\" class=\"dataframe\">\n",
       "  <thead>\n",
       "    <tr style=\"text-align: right;\">\n",
       "      <th>p0</th>\n",
       "      <th>0.000000</th>\n",
       "      <th>0.016667</th>\n",
       "      <th>0.033333</th>\n",
       "      <th>0.050000</th>\n",
       "      <th>0.066667</th>\n",
       "      <th>0.083333</th>\n",
       "      <th>0.100000</th>\n",
       "      <th>0.116667</th>\n",
       "      <th>0.133333</th>\n",
       "      <th>0.150000</th>\n",
       "      <th>...</th>\n",
       "      <th>0.850000</th>\n",
       "      <th>0.866667</th>\n",
       "      <th>0.883333</th>\n",
       "      <th>0.900000</th>\n",
       "      <th>0.916667</th>\n",
       "      <th>0.933333</th>\n",
       "      <th>0.950000</th>\n",
       "      <th>0.966667</th>\n",
       "      <th>0.983333</th>\n",
       "      <th>1.000000</th>\n",
       "    </tr>\n",
       "    <tr>\n",
       "      <th>p1</th>\n",
       "      <th></th>\n",
       "      <th></th>\n",
       "      <th></th>\n",
       "      <th></th>\n",
       "      <th></th>\n",
       "      <th></th>\n",
       "      <th></th>\n",
       "      <th></th>\n",
       "      <th></th>\n",
       "      <th></th>\n",
       "      <th></th>\n",
       "      <th></th>\n",
       "      <th></th>\n",
       "      <th></th>\n",
       "      <th></th>\n",
       "      <th></th>\n",
       "      <th></th>\n",
       "      <th></th>\n",
       "      <th></th>\n",
       "      <th></th>\n",
       "      <th></th>\n",
       "    </tr>\n",
       "  </thead>\n",
       "  <tbody>\n",
       "    <tr>\n",
       "      <th>0.00</th>\n",
       "      <td>0.0</td>\n",
       "      <td>0.0</td>\n",
       "      <td>0.0</td>\n",
       "      <td>0.0</td>\n",
       "      <td>0.0</td>\n",
       "      <td>0.000000e+00</td>\n",
       "      <td>0.000000e+00</td>\n",
       "      <td>0.000000e+00</td>\n",
       "      <td>0.000000e+00</td>\n",
       "      <td>0.000000e+00</td>\n",
       "      <td>...</td>\n",
       "      <td>0.000000e+00</td>\n",
       "      <td>0.000000e+00</td>\n",
       "      <td>0.000000e+00</td>\n",
       "      <td>0.000000e+00</td>\n",
       "      <td>0.000000e+00</td>\n",
       "      <td>0.000000e+00</td>\n",
       "      <td>0.000000e+00</td>\n",
       "      <td>0.000000e+00</td>\n",
       "      <td>0.000000e+00</td>\n",
       "      <td>0.0</td>\n",
       "    </tr>\n",
       "    <tr>\n",
       "      <th>0.02</th>\n",
       "      <td>0.0</td>\n",
       "      <td>0.0</td>\n",
       "      <td>0.0</td>\n",
       "      <td>0.0</td>\n",
       "      <td>0.0</td>\n",
       "      <td>0.000000e+00</td>\n",
       "      <td>0.000000e+00</td>\n",
       "      <td>0.000000e+00</td>\n",
       "      <td>0.000000e+00</td>\n",
       "      <td>1.855130e-309</td>\n",
       "      <td>...</td>\n",
       "      <td>7.682915e-185</td>\n",
       "      <td>6.760669e-188</td>\n",
       "      <td>2.575745e-191</td>\n",
       "      <td>2.735340e-195</td>\n",
       "      <td>2.478919e-200</td>\n",
       "      <td>2.647062e-207</td>\n",
       "      <td>1.753763e-217</td>\n",
       "      <td>1.660274e-233</td>\n",
       "      <td>1.028744e-263</td>\n",
       "      <td>0.0</td>\n",
       "    </tr>\n",
       "    <tr>\n",
       "      <th>0.04</th>\n",
       "      <td>0.0</td>\n",
       "      <td>0.0</td>\n",
       "      <td>0.0</td>\n",
       "      <td>0.0</td>\n",
       "      <td>0.0</td>\n",
       "      <td>0.000000e+00</td>\n",
       "      <td>0.000000e+00</td>\n",
       "      <td>3.925149e-302</td>\n",
       "      <td>2.229438e-276</td>\n",
       "      <td>3.283551e-254</td>\n",
       "      <td>...</td>\n",
       "      <td>1.316501e-126</td>\n",
       "      <td>1.493110e-129</td>\n",
       "      <td>7.210315e-133</td>\n",
       "      <td>9.121051e-137</td>\n",
       "      <td>8.875098e-142</td>\n",
       "      <td>9.618204e-149</td>\n",
       "      <td>6.383453e-159</td>\n",
       "      <td>6.043785e-175</td>\n",
       "      <td>3.744875e-205</td>\n",
       "      <td>0.0</td>\n",
       "    </tr>\n",
       "    <tr>\n",
       "      <th>0.06</th>\n",
       "      <td>0.0</td>\n",
       "      <td>0.0</td>\n",
       "      <td>0.0</td>\n",
       "      <td>0.0</td>\n",
       "      <td>0.0</td>\n",
       "      <td>0.000000e+00</td>\n",
       "      <td>2.557819e-303</td>\n",
       "      <td>6.772245e-273</td>\n",
       "      <td>3.846763e-247</td>\n",
       "      <td>5.665952e-225</td>\n",
       "      <td>...</td>\n",
       "      <td>2.668920e-94</td>\n",
       "      <td>3.893869e-97</td>\n",
       "      <td>2.371178e-100</td>\n",
       "      <td>3.525532e-104</td>\n",
       "      <td>3.647231e-109</td>\n",
       "      <td>4.001702e-116</td>\n",
       "      <td>2.659701e-126</td>\n",
       "      <td>2.518390e-142</td>\n",
       "      <td>1.560458e-172</td>\n",
       "      <td>0.0</td>\n",
       "    </tr>\n",
       "    <tr>\n",
       "      <th>0.08</th>\n",
       "      <td>0.0</td>\n",
       "      <td>0.0</td>\n",
       "      <td>0.0</td>\n",
       "      <td>0.0</td>\n",
       "      <td>0.0</td>\n",
       "      <td>1.758874e-321</td>\n",
       "      <td>7.962055e-285</td>\n",
       "      <td>2.108202e-254</td>\n",
       "      <td>1.197581e-228</td>\n",
       "      <td>1.764084e-206</td>\n",
       "      <td>...</td>\n",
       "      <td>1.194208e-72</td>\n",
       "      <td>2.236601e-75</td>\n",
       "      <td>1.706415e-78</td>\n",
       "      <td>2.940015e-82</td>\n",
       "      <td>3.204856e-87</td>\n",
       "      <td>3.552579e-94</td>\n",
       "      <td>2.364010e-104</td>\n",
       "      <td>2.238566e-120</td>\n",
       "      <td>1.387074e-150</td>\n",
       "      <td>0.0</td>\n",
       "    </tr>\n",
       "  </tbody>\n",
       "</table>\n",
       "<p>5 rows × 61 columns</p>\n",
       "</div>"
      ],
      "text/plain": [
       "p0    0.000000  0.016667  0.033333  0.050000  0.066667       0.083333  \\\n",
       "p1                                                                      \n",
       "0.00       0.0       0.0       0.0       0.0       0.0   0.000000e+00   \n",
       "0.02       0.0       0.0       0.0       0.0       0.0   0.000000e+00   \n",
       "0.04       0.0       0.0       0.0       0.0       0.0   0.000000e+00   \n",
       "0.06       0.0       0.0       0.0       0.0       0.0   0.000000e+00   \n",
       "0.08       0.0       0.0       0.0       0.0       0.0  1.758874e-321   \n",
       "\n",
       "p0         0.100000       0.116667       0.133333       0.150000  ...  \\\n",
       "p1                                                                ...   \n",
       "0.00   0.000000e+00   0.000000e+00   0.000000e+00   0.000000e+00  ...   \n",
       "0.02   0.000000e+00   0.000000e+00   0.000000e+00  1.855130e-309  ...   \n",
       "0.04   0.000000e+00  3.925149e-302  2.229438e-276  3.283551e-254  ...   \n",
       "0.06  2.557819e-303  6.772245e-273  3.846763e-247  5.665952e-225  ...   \n",
       "0.08  7.962055e-285  2.108202e-254  1.197581e-228  1.764084e-206  ...   \n",
       "\n",
       "p0         0.850000       0.866667       0.883333       0.900000  \\\n",
       "p1                                                                 \n",
       "0.00   0.000000e+00   0.000000e+00   0.000000e+00   0.000000e+00   \n",
       "0.02  7.682915e-185  6.760669e-188  2.575745e-191  2.735340e-195   \n",
       "0.04  1.316501e-126  1.493110e-129  7.210315e-133  9.121051e-137   \n",
       "0.06   2.668920e-94   3.893869e-97  2.371178e-100  3.525532e-104   \n",
       "0.08   1.194208e-72   2.236601e-75   1.706415e-78   2.940015e-82   \n",
       "\n",
       "p0         0.916667       0.933333       0.950000       0.966667  \\\n",
       "p1                                                                 \n",
       "0.00   0.000000e+00   0.000000e+00   0.000000e+00   0.000000e+00   \n",
       "0.02  2.478919e-200  2.647062e-207  1.753763e-217  1.660274e-233   \n",
       "0.04  8.875098e-142  9.618204e-149  6.383453e-159  6.043785e-175   \n",
       "0.06  3.647231e-109  4.001702e-116  2.659701e-126  2.518390e-142   \n",
       "0.08   3.204856e-87   3.552579e-94  2.364010e-104  2.238566e-120   \n",
       "\n",
       "p0         0.983333  1.000000  \n",
       "p1                             \n",
       "0.00   0.000000e+00       0.0  \n",
       "0.02  1.028744e-263       0.0  \n",
       "0.04  3.744875e-205       0.0  \n",
       "0.06  1.560458e-172       0.0  \n",
       "0.08  1.387074e-150       0.0  \n",
       "\n",
       "[5 rows x 61 columns]"
      ]
     },
     "execution_count": 567,
     "metadata": {},
     "output_type": "execute_result"
    }
   ],
   "source": [
    "posterior_joint_ps = posterior_pmf.unstack().transpose()\n",
    "posterior_joint_ps.head()"
   ]
  },
  {
   "cell_type": "code",
   "execution_count": 568,
   "metadata": {},
   "outputs": [],
   "source": [
    "def plot_contour(joint, **options):\n",
    "    \"\"\"Plot a joint distribution.\n",
    "    \n",
    "    joint: DataFrame representing a joint PMF\n",
    "    \"\"\"\n",
    "    cs = plt.contour(joint.columns, joint.index, joint, **options)\n",
    "    decorate(xlabel=joint.columns.name, \n",
    "             ylabel=joint.index.name)\n",
    "    return cs"
   ]
  },
  {
   "cell_type": "code",
   "execution_count": 569,
   "metadata": {},
   "outputs": [
    {
     "data": {
      "image/png": "[encoded data removed]",
      "text/plain": [
       "<Figure size 432x288 with 1 Axes>"
      ]
     },
     "metadata": {
      "needs_background": "light"
     },
     "output_type": "display_data"
    }
   ],
   "source": [
    "plot_contour(posterior_joint_ps)\n",
    "decorate(title='Posterior joint distribution for p1 and p2')"
   ]
  },
  {
   "cell_type": "code",
   "execution_count": 570,
   "metadata": {},
   "outputs": [
    {
     "data": {
      "image/png": "[encoded data removed]",
      "text/plain": [
       "<Figure size 432x288 with 1 Axes>"
      ]
     },
     "metadata": {
      "needs_background": "light"
     },
     "output_type": "display_data"
    }
   ],
   "source": [
    "posterior_p1 = marginal(posterior_joint_ps, 0)\n",
    "posterior_p2 = marginal(posterior_joint_ps, 1)\n",
    "\n",
    "posterior_p1.plot(label='p1')\n",
    "posterior_p2.plot(label='p2')\n",
    "decorate(xlabel='Probability of finding a bug',\n",
    "         ylabel='PDF',\n",
    "         title='Posterior marginal distributions of p1 and p2')"
   ]
  },
  {
   "cell_type": "code",
   "execution_count": 571,
   "metadata": {},
   "outputs": [
    {
     "data": {
      "text/html": [
       "<div>\n",
       "<style scoped>\n",
       "    .dataframe tbody tr th:only-of-type {\n",
       "        vertical-align: middle;\n",
       "    }\n",
       "\n",
       "    .dataframe tbody tr th {\n",
       "        vertical-align: top;\n",
       "    }\n",
       "\n",
       "    .dataframe thead th {\n",
       "        text-align: right;\n",
       "    }\n",
       "</style>\n",
       "<table border=\"1\" class=\"dataframe\">\n",
       "  <thead>\n",
       "    <tr style=\"text-align: right;\">\n",
       "      <th></th>\n",
       "      <th>p2</th>\n",
       "      <th>0.00</th>\n",
       "      <th>0.02</th>\n",
       "      <th>0.04</th>\n",
       "      <th>0.06</th>\n",
       "      <th>0.08</th>\n",
       "      <th>0.10</th>\n",
       "      <th>0.12</th>\n",
       "      <th>0.14</th>\n",
       "      <th>0.16</th>\n",
       "      <th>0.18</th>\n",
       "      <th>...</th>\n",
       "      <th>0.82</th>\n",
       "      <th>0.84</th>\n",
       "      <th>0.86</th>\n",
       "      <th>0.88</th>\n",
       "      <th>0.90</th>\n",
       "      <th>0.92</th>\n",
       "      <th>0.94</th>\n",
       "      <th>0.96</th>\n",
       "      <th>0.98</th>\n",
       "      <th>1.00</th>\n",
       "    </tr>\n",
       "    <tr>\n",
       "      <th>p0</th>\n",
       "      <th>p1</th>\n",
       "      <th></th>\n",
       "      <th></th>\n",
       "      <th></th>\n",
       "      <th></th>\n",
       "      <th></th>\n",
       "      <th></th>\n",
       "      <th></th>\n",
       "      <th></th>\n",
       "      <th></th>\n",
       "      <th></th>\n",
       "      <th></th>\n",
       "      <th></th>\n",
       "      <th></th>\n",
       "      <th></th>\n",
       "      <th></th>\n",
       "      <th></th>\n",
       "      <th></th>\n",
       "      <th></th>\n",
       "      <th></th>\n",
       "      <th></th>\n",
       "      <th></th>\n",
       "    </tr>\n",
       "  </thead>\n",
       "  <tbody>\n",
       "    <tr>\n",
       "      <th rowspan=\"5\" valign=\"top\">0.0</th>\n",
       "      <th>0.00</th>\n",
       "      <td>0.0</td>\n",
       "      <td>0.0</td>\n",
       "      <td>0.0</td>\n",
       "      <td>0.0</td>\n",
       "      <td>0.0</td>\n",
       "      <td>0.0</td>\n",
       "      <td>0.0</td>\n",
       "      <td>0.0</td>\n",
       "      <td>0.0</td>\n",
       "      <td>0.0</td>\n",
       "      <td>...</td>\n",
       "      <td>0.0</td>\n",
       "      <td>0.0</td>\n",
       "      <td>0.0</td>\n",
       "      <td>0.0</td>\n",
       "      <td>0.0</td>\n",
       "      <td>0.0</td>\n",
       "      <td>0.0</td>\n",
       "      <td>0.0</td>\n",
       "      <td>0.0</td>\n",
       "      <td>0.0</td>\n",
       "    </tr>\n",
       "    <tr>\n",
       "      <th>0.02</th>\n",
       "      <td>0.0</td>\n",
       "      <td>0.0</td>\n",
       "      <td>0.0</td>\n",
       "      <td>0.0</td>\n",
       "      <td>0.0</td>\n",
       "      <td>0.0</td>\n",
       "      <td>0.0</td>\n",
       "      <td>0.0</td>\n",
       "      <td>0.0</td>\n",
       "      <td>0.0</td>\n",
       "      <td>...</td>\n",
       "      <td>0.0</td>\n",
       "      <td>0.0</td>\n",
       "      <td>0.0</td>\n",
       "      <td>0.0</td>\n",
       "      <td>0.0</td>\n",
       "      <td>0.0</td>\n",
       "      <td>0.0</td>\n",
       "      <td>0.0</td>\n",
       "      <td>0.0</td>\n",
       "      <td>0.0</td>\n",
       "    </tr>\n",
       "    <tr>\n",
       "      <th>0.04</th>\n",
       "      <td>0.0</td>\n",
       "      <td>0.0</td>\n",
       "      <td>0.0</td>\n",
       "      <td>0.0</td>\n",
       "      <td>0.0</td>\n",
       "      <td>0.0</td>\n",
       "      <td>0.0</td>\n",
       "      <td>0.0</td>\n",
       "      <td>0.0</td>\n",
       "      <td>0.0</td>\n",
       "      <td>...</td>\n",
       "      <td>0.0</td>\n",
       "      <td>0.0</td>\n",
       "      <td>0.0</td>\n",
       "      <td>0.0</td>\n",
       "      <td>0.0</td>\n",
       "      <td>0.0</td>\n",
       "      <td>0.0</td>\n",
       "      <td>0.0</td>\n",
       "      <td>0.0</td>\n",
       "      <td>0.0</td>\n",
       "    </tr>\n",
       "    <tr>\n",
       "      <th>0.06</th>\n",
       "      <td>0.0</td>\n",
       "      <td>0.0</td>\n",
       "      <td>0.0</td>\n",
       "      <td>0.0</td>\n",
       "      <td>0.0</td>\n",
       "      <td>0.0</td>\n",
       "      <td>0.0</td>\n",
       "      <td>0.0</td>\n",
       "      <td>0.0</td>\n",
       "      <td>0.0</td>\n",
       "      <td>...</td>\n",
       "      <td>0.0</td>\n",
       "      <td>0.0</td>\n",
       "      <td>0.0</td>\n",
       "      <td>0.0</td>\n",
       "      <td>0.0</td>\n",
       "      <td>0.0</td>\n",
       "      <td>0.0</td>\n",
       "      <td>0.0</td>\n",
       "      <td>0.0</td>\n",
       "      <td>0.0</td>\n",
       "    </tr>\n",
       "    <tr>\n",
       "      <th>0.08</th>\n",
       "      <td>0.0</td>\n",
       "      <td>0.0</td>\n",
       "      <td>0.0</td>\n",
       "      <td>0.0</td>\n",
       "      <td>0.0</td>\n",
       "      <td>0.0</td>\n",
       "      <td>0.0</td>\n",
       "      <td>0.0</td>\n",
       "      <td>0.0</td>\n",
       "      <td>0.0</td>\n",
       "      <td>...</td>\n",
       "      <td>0.0</td>\n",
       "      <td>0.0</td>\n",
       "      <td>0.0</td>\n",
       "      <td>0.0</td>\n",
       "      <td>0.0</td>\n",
       "      <td>0.0</td>\n",
       "      <td>0.0</td>\n",
       "      <td>0.0</td>\n",
       "      <td>0.0</td>\n",
       "      <td>0.0</td>\n",
       "    </tr>\n",
       "  </tbody>\n",
       "</table>\n",
       "<p>5 rows × 51 columns</p>\n",
       "</div>"
      ],
      "text/plain": [
       "p2        0.00  0.02  0.04  0.06  0.08  0.10  0.12  0.14  0.16  0.18  ...  \\\n",
       "p0  p1                                                                ...   \n",
       "0.0 0.00   0.0   0.0   0.0   0.0   0.0   0.0   0.0   0.0   0.0   0.0  ...   \n",
       "    0.02   0.0   0.0   0.0   0.0   0.0   0.0   0.0   0.0   0.0   0.0  ...   \n",
       "    0.04   0.0   0.0   0.0   0.0   0.0   0.0   0.0   0.0   0.0   0.0  ...   \n",
       "    0.06   0.0   0.0   0.0   0.0   0.0   0.0   0.0   0.0   0.0   0.0  ...   \n",
       "    0.08   0.0   0.0   0.0   0.0   0.0   0.0   0.0   0.0   0.0   0.0  ...   \n",
       "\n",
       "p2        0.82  0.84  0.86  0.88  0.90  0.92  0.94  0.96  0.98  1.00  \n",
       "p0  p1                                                                \n",
       "0.0 0.00   0.0   0.0   0.0   0.0   0.0   0.0   0.0   0.0   0.0   0.0  \n",
       "    0.02   0.0   0.0   0.0   0.0   0.0   0.0   0.0   0.0   0.0   0.0  \n",
       "    0.04   0.0   0.0   0.0   0.0   0.0   0.0   0.0   0.0   0.0   0.0  \n",
       "    0.06   0.0   0.0   0.0   0.0   0.0   0.0   0.0   0.0   0.0   0.0  \n",
       "    0.08   0.0   0.0   0.0   0.0   0.0   0.0   0.0   0.0   0.0   0.0  \n",
       "\n",
       "[5 rows x 51 columns]"
      ]
     },
     "execution_count": 571,
     "metadata": {},
     "output_type": "execute_result"
    }
   ],
   "source": [
    "joint3 = make_joint(prior_p2, posterior_pmf)\n",
    "joint3.head()"
   ]
  },
  {
   "cell_type": "code",
   "execution_count": 572,
   "metadata": {},
   "outputs": [
    {
     "data": {
      "text/plain": [
       "p0   p1   p2  \n",
       "0.0  0.0  0.00    0.0\n",
       "          0.02    0.0\n",
       "          0.04    0.0\n",
       "          0.06    0.0\n",
       "          0.08    0.0\n",
       "dtype: float64"
      ]
     },
     "execution_count": 572,
     "metadata": {},
     "output_type": "execute_result"
    }
   ],
   "source": [
    "joint3_pmf = Pmf(joint3.stack())\n",
    "joint3_pmf.head()"
   ]
  },
  {
   "cell_type": "code",
   "execution_count": 573,
   "metadata": {},
   "outputs": [
    {
     "data": {
      "text/html": [
       "<div>\n",
       "<style scoped>\n",
       "    .dataframe tbody tr th:only-of-type {\n",
       "        vertical-align: middle;\n",
       "    }\n",
       "\n",
       "    .dataframe tbody tr th {\n",
       "        vertical-align: top;\n",
       "    }\n",
       "\n",
       "    .dataframe thead th {\n",
       "        text-align: right;\n",
       "    }\n",
       "</style>\n",
       "<table border=\"1\" class=\"dataframe\">\n",
       "  <thead>\n",
       "    <tr style=\"text-align: right;\">\n",
       "      <th></th>\n",
       "      <th></th>\n",
       "      <th>N</th>\n",
       "      <th>626</th>\n",
       "      <th>636</th>\n",
       "      <th>646</th>\n",
       "      <th>656</th>\n",
       "      <th>666</th>\n",
       "      <th>676</th>\n",
       "      <th>686</th>\n",
       "      <th>696</th>\n",
       "      <th>706</th>\n",
       "      <th>716</th>\n",
       "      <th>...</th>\n",
       "      <th>906</th>\n",
       "      <th>916</th>\n",
       "      <th>926</th>\n",
       "      <th>936</th>\n",
       "      <th>946</th>\n",
       "      <th>956</th>\n",
       "      <th>966</th>\n",
       "      <th>976</th>\n",
       "      <th>986</th>\n",
       "      <th>996</th>\n",
       "    </tr>\n",
       "    <tr>\n",
       "      <th>p0</th>\n",
       "      <th>p1</th>\n",
       "      <th>p2</th>\n",
       "      <th></th>\n",
       "      <th></th>\n",
       "      <th></th>\n",
       "      <th></th>\n",
       "      <th></th>\n",
       "      <th></th>\n",
       "      <th></th>\n",
       "      <th></th>\n",
       "      <th></th>\n",
       "      <th></th>\n",
       "      <th></th>\n",
       "      <th></th>\n",
       "      <th></th>\n",
       "      <th></th>\n",
       "      <th></th>\n",
       "      <th></th>\n",
       "      <th></th>\n",
       "      <th></th>\n",
       "      <th></th>\n",
       "      <th></th>\n",
       "      <th></th>\n",
       "    </tr>\n",
       "  </thead>\n",
       "  <tbody>\n",
       "    <tr>\n",
       "      <th rowspan=\"5\" valign=\"top\">0.0</th>\n",
       "      <th rowspan=\"5\" valign=\"top\">0.0</th>\n",
       "      <th>0.00</th>\n",
       "      <td>0.0</td>\n",
       "      <td>0.0</td>\n",
       "      <td>0.0</td>\n",
       "      <td>0.0</td>\n",
       "      <td>0.0</td>\n",
       "      <td>0.0</td>\n",
       "      <td>0.0</td>\n",
       "      <td>0.0</td>\n",
       "      <td>0.0</td>\n",
       "      <td>0.0</td>\n",
       "      <td>...</td>\n",
       "      <td>0.0</td>\n",
       "      <td>0.0</td>\n",
       "      <td>0.0</td>\n",
       "      <td>0.0</td>\n",
       "      <td>0.0</td>\n",
       "      <td>0.0</td>\n",
       "      <td>0.0</td>\n",
       "      <td>0.0</td>\n",
       "      <td>0.0</td>\n",
       "      <td>0.0</td>\n",
       "    </tr>\n",
       "    <tr>\n",
       "      <th>0.02</th>\n",
       "      <td>0.0</td>\n",
       "      <td>0.0</td>\n",
       "      <td>0.0</td>\n",
       "      <td>0.0</td>\n",
       "      <td>0.0</td>\n",
       "      <td>0.0</td>\n",
       "      <td>0.0</td>\n",
       "      <td>0.0</td>\n",
       "      <td>0.0</td>\n",
       "      <td>0.0</td>\n",
       "      <td>...</td>\n",
       "      <td>0.0</td>\n",
       "      <td>0.0</td>\n",
       "      <td>0.0</td>\n",
       "      <td>0.0</td>\n",
       "      <td>0.0</td>\n",
       "      <td>0.0</td>\n",
       "      <td>0.0</td>\n",
       "      <td>0.0</td>\n",
       "      <td>0.0</td>\n",
       "      <td>0.0</td>\n",
       "    </tr>\n",
       "    <tr>\n",
       "      <th>0.04</th>\n",
       "      <td>0.0</td>\n",
       "      <td>0.0</td>\n",
       "      <td>0.0</td>\n",
       "      <td>0.0</td>\n",
       "      <td>0.0</td>\n",
       "      <td>0.0</td>\n",
       "      <td>0.0</td>\n",
       "      <td>0.0</td>\n",
       "      <td>0.0</td>\n",
       "      <td>0.0</td>\n",
       "      <td>...</td>\n",
       "      <td>0.0</td>\n",
       "      <td>0.0</td>\n",
       "      <td>0.0</td>\n",
       "      <td>0.0</td>\n",
       "      <td>0.0</td>\n",
       "      <td>0.0</td>\n",
       "      <td>0.0</td>\n",
       "      <td>0.0</td>\n",
       "      <td>0.0</td>\n",
       "      <td>0.0</td>\n",
       "    </tr>\n",
       "    <tr>\n",
       "      <th>0.06</th>\n",
       "      <td>0.0</td>\n",
       "      <td>0.0</td>\n",
       "      <td>0.0</td>\n",
       "      <td>0.0</td>\n",
       "      <td>0.0</td>\n",
       "      <td>0.0</td>\n",
       "      <td>0.0</td>\n",
       "      <td>0.0</td>\n",
       "      <td>0.0</td>\n",
       "      <td>0.0</td>\n",
       "      <td>...</td>\n",
       "      <td>0.0</td>\n",
       "      <td>0.0</td>\n",
       "      <td>0.0</td>\n",
       "      <td>0.0</td>\n",
       "      <td>0.0</td>\n",
       "      <td>0.0</td>\n",
       "      <td>0.0</td>\n",
       "      <td>0.0</td>\n",
       "      <td>0.0</td>\n",
       "      <td>0.0</td>\n",
       "    </tr>\n",
       "    <tr>\n",
       "      <th>0.08</th>\n",
       "      <td>0.0</td>\n",
       "      <td>0.0</td>\n",
       "      <td>0.0</td>\n",
       "      <td>0.0</td>\n",
       "      <td>0.0</td>\n",
       "      <td>0.0</td>\n",
       "      <td>0.0</td>\n",
       "      <td>0.0</td>\n",
       "      <td>0.0</td>\n",
       "      <td>0.0</td>\n",
       "      <td>...</td>\n",
       "      <td>0.0</td>\n",
       "      <td>0.0</td>\n",
       "      <td>0.0</td>\n",
       "      <td>0.0</td>\n",
       "      <td>0.0</td>\n",
       "      <td>0.0</td>\n",
       "      <td>0.0</td>\n",
       "      <td>0.0</td>\n",
       "      <td>0.0</td>\n",
       "      <td>0.0</td>\n",
       "    </tr>\n",
       "  </tbody>\n",
       "</table>\n",
       "<p>5 rows × 38 columns</p>\n",
       "</div>"
      ],
      "text/plain": [
       "N             626  636  646  656  666  676  686  696  706  716  ...  906  916  \\\n",
       "p0  p1  p2                                                      ...             \n",
       "0.0 0.0 0.00  0.0  0.0  0.0  0.0  0.0  0.0  0.0  0.0  0.0  0.0  ...  0.0  0.0   \n",
       "        0.02  0.0  0.0  0.0  0.0  0.0  0.0  0.0  0.0  0.0  0.0  ...  0.0  0.0   \n",
       "        0.04  0.0  0.0  0.0  0.0  0.0  0.0  0.0  0.0  0.0  0.0  ...  0.0  0.0   \n",
       "        0.06  0.0  0.0  0.0  0.0  0.0  0.0  0.0  0.0  0.0  0.0  ...  0.0  0.0   \n",
       "        0.08  0.0  0.0  0.0  0.0  0.0  0.0  0.0  0.0  0.0  0.0  ...  0.0  0.0   \n",
       "\n",
       "N             926  936  946  956  966  976  986  996  \n",
       "p0  p1  p2                                            \n",
       "0.0 0.0 0.00  0.0  0.0  0.0  0.0  0.0  0.0  0.0  0.0  \n",
       "        0.02  0.0  0.0  0.0  0.0  0.0  0.0  0.0  0.0  \n",
       "        0.04  0.0  0.0  0.0  0.0  0.0  0.0  0.0  0.0  \n",
       "        0.06  0.0  0.0  0.0  0.0  0.0  0.0  0.0  0.0  \n",
       "        0.08  0.0  0.0  0.0  0.0  0.0  0.0  0.0  0.0  \n",
       "\n",
       "[5 rows x 38 columns]"
      ]
     },
     "execution_count": 573,
     "metadata": {},
     "output_type": "execute_result"
    }
   ],
   "source": [
    "prior4 = make_joint(posterior_N, joint3_pmf)\n",
    "prior4.head()"
   ]
  },
  {
   "cell_type": "code",
   "execution_count": 574,
   "metadata": {},
   "outputs": [
    {
     "data": {
      "text/plain": [
       "(158661, 38)"
      ]
     },
     "execution_count": 574,
     "metadata": {},
     "output_type": "execute_result"
    }
   ],
   "source": [
    "prior4.shape"
   ]
  },
  {
   "cell_type": "code",
   "execution_count": null,
   "metadata": {},
   "outputs": [],
   "source": []
  },
  {
   "cell_type": "code",
   "execution_count": 576,
   "metadata": {},
   "outputs": [
    {
     "data": {
      "text/html": [
       "<div>\n",
       "<style scoped>\n",
       "    .dataframe tbody tr th:only-of-type {\n",
       "        vertical-align: middle;\n",
       "    }\n",
       "\n",
       "    .dataframe tbody tr th {\n",
       "        vertical-align: top;\n",
       "    }\n",
       "\n",
       "    .dataframe thead th {\n",
       "        text-align: right;\n",
       "    }\n",
       "</style>\n",
       "<table border=\"1\" class=\"dataframe\">\n",
       "  <thead>\n",
       "    <tr style=\"text-align: right;\">\n",
       "      <th>N</th>\n",
       "      <th>626</th>\n",
       "      <th>636</th>\n",
       "      <th>646</th>\n",
       "      <th>656</th>\n",
       "      <th>666</th>\n",
       "      <th>676</th>\n",
       "      <th>686</th>\n",
       "      <th>696</th>\n",
       "      <th>706</th>\n",
       "      <th>716</th>\n",
       "      <th>...</th>\n",
       "      <th>906</th>\n",
       "      <th>916</th>\n",
       "      <th>926</th>\n",
       "      <th>936</th>\n",
       "      <th>946</th>\n",
       "      <th>956</th>\n",
       "      <th>966</th>\n",
       "      <th>976</th>\n",
       "      <th>986</th>\n",
       "      <th>996</th>\n",
       "    </tr>\n",
       "    <tr>\n",
       "      <th>p2</th>\n",
       "      <th></th>\n",
       "      <th></th>\n",
       "      <th></th>\n",
       "      <th></th>\n",
       "      <th></th>\n",
       "      <th></th>\n",
       "      <th></th>\n",
       "      <th></th>\n",
       "      <th></th>\n",
       "      <th></th>\n",
       "      <th></th>\n",
       "      <th></th>\n",
       "      <th></th>\n",
       "      <th></th>\n",
       "      <th></th>\n",
       "      <th></th>\n",
       "      <th></th>\n",
       "      <th></th>\n",
       "      <th></th>\n",
       "      <th></th>\n",
       "      <th></th>\n",
       "    </tr>\n",
       "  </thead>\n",
       "  <tbody>\n",
       "    <tr>\n",
       "      <th>0.00</th>\n",
       "      <td>0.000753</td>\n",
       "      <td>0.005198</td>\n",
       "      <td>0.020981</td>\n",
       "      <td>0.055512</td>\n",
       "      <td>0.104628</td>\n",
       "      <td>0.149534</td>\n",
       "      <td>0.170043</td>\n",
       "      <td>0.159773</td>\n",
       "      <td>0.127842</td>\n",
       "      <td>0.089262</td>\n",
       "      <td>...</td>\n",
       "      <td>1.397201e-09</td>\n",
       "      <td>4.333679e-10</td>\n",
       "      <td>1.336876e-10</td>\n",
       "      <td>4.106060e-11</td>\n",
       "      <td>1.256866e-11</td>\n",
       "      <td>3.837917e-12</td>\n",
       "      <td>1.170159e-12</td>\n",
       "      <td>3.565415e-13</td>\n",
       "      <td>1.086470e-13</td>\n",
       "      <td>3.313079e-14</td>\n",
       "    </tr>\n",
       "    <tr>\n",
       "      <th>0.02</th>\n",
       "      <td>0.000753</td>\n",
       "      <td>0.005198</td>\n",
       "      <td>0.020981</td>\n",
       "      <td>0.055512</td>\n",
       "      <td>0.104628</td>\n",
       "      <td>0.149534</td>\n",
       "      <td>0.170043</td>\n",
       "      <td>0.159773</td>\n",
       "      <td>0.127842</td>\n",
       "      <td>0.089262</td>\n",
       "      <td>...</td>\n",
       "      <td>1.397201e-09</td>\n",
       "      <td>4.333679e-10</td>\n",
       "      <td>1.336876e-10</td>\n",
       "      <td>4.106060e-11</td>\n",
       "      <td>1.256866e-11</td>\n",
       "      <td>3.837917e-12</td>\n",
       "      <td>1.170159e-12</td>\n",
       "      <td>3.565415e-13</td>\n",
       "      <td>1.086470e-13</td>\n",
       "      <td>3.313079e-14</td>\n",
       "    </tr>\n",
       "    <tr>\n",
       "      <th>0.04</th>\n",
       "      <td>0.000753</td>\n",
       "      <td>0.005198</td>\n",
       "      <td>0.020981</td>\n",
       "      <td>0.055512</td>\n",
       "      <td>0.104628</td>\n",
       "      <td>0.149534</td>\n",
       "      <td>0.170043</td>\n",
       "      <td>0.159773</td>\n",
       "      <td>0.127842</td>\n",
       "      <td>0.089262</td>\n",
       "      <td>...</td>\n",
       "      <td>1.397201e-09</td>\n",
       "      <td>4.333679e-10</td>\n",
       "      <td>1.336876e-10</td>\n",
       "      <td>4.106060e-11</td>\n",
       "      <td>1.256866e-11</td>\n",
       "      <td>3.837917e-12</td>\n",
       "      <td>1.170159e-12</td>\n",
       "      <td>3.565415e-13</td>\n",
       "      <td>1.086470e-13</td>\n",
       "      <td>3.313079e-14</td>\n",
       "    </tr>\n",
       "    <tr>\n",
       "      <th>0.06</th>\n",
       "      <td>0.000753</td>\n",
       "      <td>0.005198</td>\n",
       "      <td>0.020981</td>\n",
       "      <td>0.055512</td>\n",
       "      <td>0.104628</td>\n",
       "      <td>0.149534</td>\n",
       "      <td>0.170043</td>\n",
       "      <td>0.159773</td>\n",
       "      <td>0.127842</td>\n",
       "      <td>0.089262</td>\n",
       "      <td>...</td>\n",
       "      <td>1.397201e-09</td>\n",
       "      <td>4.333679e-10</td>\n",
       "      <td>1.336876e-10</td>\n",
       "      <td>4.106060e-11</td>\n",
       "      <td>1.256866e-11</td>\n",
       "      <td>3.837917e-12</td>\n",
       "      <td>1.170159e-12</td>\n",
       "      <td>3.565415e-13</td>\n",
       "      <td>1.086470e-13</td>\n",
       "      <td>3.313079e-14</td>\n",
       "    </tr>\n",
       "    <tr>\n",
       "      <th>0.08</th>\n",
       "      <td>0.000753</td>\n",
       "      <td>0.005198</td>\n",
       "      <td>0.020981</td>\n",
       "      <td>0.055512</td>\n",
       "      <td>0.104628</td>\n",
       "      <td>0.149534</td>\n",
       "      <td>0.170043</td>\n",
       "      <td>0.159773</td>\n",
       "      <td>0.127842</td>\n",
       "      <td>0.089262</td>\n",
       "      <td>...</td>\n",
       "      <td>1.397201e-09</td>\n",
       "      <td>4.333679e-10</td>\n",
       "      <td>1.336876e-10</td>\n",
       "      <td>4.106060e-11</td>\n",
       "      <td>1.256866e-11</td>\n",
       "      <td>3.837917e-12</td>\n",
       "      <td>1.170159e-12</td>\n",
       "      <td>3.565415e-13</td>\n",
       "      <td>1.086470e-13</td>\n",
       "      <td>3.313079e-14</td>\n",
       "    </tr>\n",
       "  </tbody>\n",
       "</table>\n",
       "<p>5 rows × 38 columns</p>\n",
       "</div>"
      ],
      "text/plain": [
       "N          626       636       646       656       666       676       686  \\\n",
       "p2                                                                           \n",
       "0.00  0.000753  0.005198  0.020981  0.055512  0.104628  0.149534  0.170043   \n",
       "0.02  0.000753  0.005198  0.020981  0.055512  0.104628  0.149534  0.170043   \n",
       "0.04  0.000753  0.005198  0.020981  0.055512  0.104628  0.149534  0.170043   \n",
       "0.06  0.000753  0.005198  0.020981  0.055512  0.104628  0.149534  0.170043   \n",
       "0.08  0.000753  0.005198  0.020981  0.055512  0.104628  0.149534  0.170043   \n",
       "\n",
       "N          696       706       716  ...           906           916  \\\n",
       "p2                                  ...                               \n",
       "0.00  0.159773  0.127842  0.089262  ...  1.397201e-09  4.333679e-10   \n",
       "0.02  0.159773  0.127842  0.089262  ...  1.397201e-09  4.333679e-10   \n",
       "0.04  0.159773  0.127842  0.089262  ...  1.397201e-09  4.333679e-10   \n",
       "0.06  0.159773  0.127842  0.089262  ...  1.397201e-09  4.333679e-10   \n",
       "0.08  0.159773  0.127842  0.089262  ...  1.397201e-09  4.333679e-10   \n",
       "\n",
       "N              926           936           946           956           966  \\\n",
       "p2                                                                           \n",
       "0.00  1.336876e-10  4.106060e-11  1.256866e-11  3.837917e-12  1.170159e-12   \n",
       "0.02  1.336876e-10  4.106060e-11  1.256866e-11  3.837917e-12  1.170159e-12   \n",
       "0.04  1.336876e-10  4.106060e-11  1.256866e-11  3.837917e-12  1.170159e-12   \n",
       "0.06  1.336876e-10  4.106060e-11  1.256866e-11  3.837917e-12  1.170159e-12   \n",
       "0.08  1.336876e-10  4.106060e-11  1.256866e-11  3.837917e-12  1.170159e-12   \n",
       "\n",
       "N              976           986           996  \n",
       "p2                                              \n",
       "0.00  3.565415e-13  1.086470e-13  3.313079e-14  \n",
       "0.02  3.565415e-13  1.086470e-13  3.313079e-14  \n",
       "0.04  3.565415e-13  1.086470e-13  3.313079e-14  \n",
       "0.06  3.565415e-13  1.086470e-13  3.313079e-14  \n",
       "0.08  3.565415e-13  1.086470e-13  3.313079e-14  \n",
       "\n",
       "[5 rows x 38 columns]"
      ]
     },
     "execution_count": 576,
     "metadata": {},
     "output_type": "execute_result"
    }
   ],
   "source": [
    "joint2 = make_joint(posterior_N, prior_p2)\n",
    "joint2.head()"
   ]
  },
  {
   "cell_type": "code",
   "execution_count": 577,
   "metadata": {},
   "outputs": [],
   "source": [
    "like2 = joint2.copy()\n",
    "Ns = joint2.columns\n",
    "\n",
    "for p2 in joint2.index:\n",
    "    k00 = Ns - s[1]\n",
    "    like = (binom.pmf(k[0,0,1], k00, p2) * \n",
    "            binom.pmf(k[0,1,1], k[0,1], p2) * \n",
    "            binom.pmf(k[1,0,1], k[1,0], p2) * \n",
    "            binom.pmf(k[1,1,1], k[1,1], p2))\n",
    "    \n",
    "    like2.loc[p2] = like"
   ]
  },
  {
   "cell_type": "code",
   "execution_count": 578,
   "metadata": {},
   "outputs": [
    {
     "data": {
      "text/html": [
       "<div>\n",
       "<style scoped>\n",
       "    .dataframe tbody tr th:only-of-type {\n",
       "        vertical-align: middle;\n",
       "    }\n",
       "\n",
       "    .dataframe tbody tr th {\n",
       "        vertical-align: top;\n",
       "    }\n",
       "\n",
       "    .dataframe thead th {\n",
       "        text-align: right;\n",
       "    }\n",
       "</style>\n",
       "<table border=\"1\" class=\"dataframe\">\n",
       "  <thead>\n",
       "    <tr style=\"text-align: right;\">\n",
       "      <th>N</th>\n",
       "      <th>626</th>\n",
       "      <th>636</th>\n",
       "      <th>646</th>\n",
       "      <th>656</th>\n",
       "      <th>666</th>\n",
       "      <th>676</th>\n",
       "      <th>686</th>\n",
       "      <th>696</th>\n",
       "      <th>706</th>\n",
       "      <th>716</th>\n",
       "      <th>...</th>\n",
       "      <th>906</th>\n",
       "      <th>916</th>\n",
       "      <th>926</th>\n",
       "      <th>936</th>\n",
       "      <th>946</th>\n",
       "      <th>956</th>\n",
       "      <th>966</th>\n",
       "      <th>976</th>\n",
       "      <th>986</th>\n",
       "      <th>996</th>\n",
       "    </tr>\n",
       "    <tr>\n",
       "      <th>p2</th>\n",
       "      <th></th>\n",
       "      <th></th>\n",
       "      <th></th>\n",
       "      <th></th>\n",
       "      <th></th>\n",
       "      <th></th>\n",
       "      <th></th>\n",
       "      <th></th>\n",
       "      <th></th>\n",
       "      <th></th>\n",
       "      <th></th>\n",
       "      <th></th>\n",
       "      <th></th>\n",
       "      <th></th>\n",
       "      <th></th>\n",
       "      <th></th>\n",
       "      <th></th>\n",
       "      <th></th>\n",
       "      <th></th>\n",
       "      <th></th>\n",
       "      <th></th>\n",
       "    </tr>\n",
       "  </thead>\n",
       "  <tbody>\n",
       "    <tr>\n",
       "      <th>0.00</th>\n",
       "      <td>0.000000e+00</td>\n",
       "      <td>0.000000e+00</td>\n",
       "      <td>0.000000e+00</td>\n",
       "      <td>0.000000e+00</td>\n",
       "      <td>0.000000e+00</td>\n",
       "      <td>0.000000e+00</td>\n",
       "      <td>0.000000e+00</td>\n",
       "      <td>0.000000e+00</td>\n",
       "      <td>0.000000e+00</td>\n",
       "      <td>0.000000e+00</td>\n",
       "      <td>...</td>\n",
       "      <td>0.000000e+00</td>\n",
       "      <td>0.000000e+00</td>\n",
       "      <td>0.000000e+00</td>\n",
       "      <td>0.000000e+00</td>\n",
       "      <td>0.000000e+00</td>\n",
       "      <td>0.000000e+00</td>\n",
       "      <td>0.000000e+00</td>\n",
       "      <td>0.000000e+00</td>\n",
       "      <td>0.000000e+00</td>\n",
       "      <td>0.000000e+00</td>\n",
       "    </tr>\n",
       "    <tr>\n",
       "      <th>0.02</th>\n",
       "      <td>1.056117e-205</td>\n",
       "      <td>3.423262e-194</td>\n",
       "      <td>2.492654e-187</td>\n",
       "      <td>3.877888e-182</td>\n",
       "      <td>6.470516e-178</td>\n",
       "      <td>2.413703e-174</td>\n",
       "      <td>3.036134e-171</td>\n",
       "      <td>1.665907e-168</td>\n",
       "      <td>4.742482e-166</td>\n",
       "      <td>7.922126e-164</td>\n",
       "      <td>...</td>\n",
       "      <td>1.348622e-140</td>\n",
       "      <td>7.424037e-140</td>\n",
       "      <td>3.852880e-139</td>\n",
       "      <td>1.891759e-138</td>\n",
       "      <td>8.816277e-138</td>\n",
       "      <td>3.911366e-137</td>\n",
       "      <td>1.656431e-136</td>\n",
       "      <td>6.712795e-136</td>\n",
       "      <td>2.609254e-135</td>\n",
       "      <td>9.748418e-135</td>\n",
       "    </tr>\n",
       "    <tr>\n",
       "      <th>0.04</th>\n",
       "      <td>4.955988e-153</td>\n",
       "      <td>1.307103e-141</td>\n",
       "      <td>7.744318e-135</td>\n",
       "      <td>9.803206e-130</td>\n",
       "      <td>1.330955e-125</td>\n",
       "      <td>4.039800e-122</td>\n",
       "      <td>4.134742e-119</td>\n",
       "      <td>1.845992e-116</td>\n",
       "      <td>4.275987e-114</td>\n",
       "      <td>5.811979e-112</td>\n",
       "      <td>...</td>\n",
       "      <td>1.967671e-90</td>\n",
       "      <td>8.813611e-90</td>\n",
       "      <td>3.721781e-89</td>\n",
       "      <td>1.486903e-88</td>\n",
       "      <td>5.638372e-88</td>\n",
       "      <td>2.035394e-87</td>\n",
       "      <td>7.013666e-87</td>\n",
       "      <td>2.312739e-86</td>\n",
       "      <td>7.314609e-86</td>\n",
       "      <td>2.223619e-85</td>\n",
       "    </tr>\n",
       "    <tr>\n",
       "      <th>0.06</th>\n",
       "      <td>6.244344e-124</td>\n",
       "      <td>1.334235e-112</td>\n",
       "      <td>6.404307e-106</td>\n",
       "      <td>6.567851e-101</td>\n",
       "      <td>7.224115e-97</td>\n",
       "      <td>1.776427e-93</td>\n",
       "      <td>1.472998e-90</td>\n",
       "      <td>5.327823e-88</td>\n",
       "      <td>9.998216e-86</td>\n",
       "      <td>1.100972e-83</td>\n",
       "      <td>...</td>\n",
       "      <td>6.825943e-64</td>\n",
       "      <td>2.477025e-63</td>\n",
       "      <td>8.474098e-63</td>\n",
       "      <td>2.742784e-62</td>\n",
       "      <td>8.426142e-62</td>\n",
       "      <td>2.464278e-61</td>\n",
       "      <td>6.879432e-61</td>\n",
       "      <td>1.837809e-60</td>\n",
       "      <td>4.709026e-60</td>\n",
       "      <td>1.159756e-59</td>\n",
       "    </tr>\n",
       "    <tr>\n",
       "      <th>0.08</th>\n",
       "      <td>1.559688e-104</td>\n",
       "      <td>2.687715e-93</td>\n",
       "      <td>1.040453e-86</td>\n",
       "      <td>8.605447e-82</td>\n",
       "      <td>7.633691e-78</td>\n",
       "      <td>1.513900e-74</td>\n",
       "      <td>1.012399e-71</td>\n",
       "      <td>2.953241e-69</td>\n",
       "      <td>4.469628e-67</td>\n",
       "      <td>3.969401e-65</td>\n",
       "      <td>...</td>\n",
       "      <td>4.135293e-47</td>\n",
       "      <td>1.210246e-46</td>\n",
       "      <td>3.339155e-46</td>\n",
       "      <td>8.716344e-46</td>\n",
       "      <td>2.159590e-45</td>\n",
       "      <td>5.093685e-45</td>\n",
       "      <td>1.146818e-44</td>\n",
       "      <td>2.470826e-44</td>\n",
       "      <td>5.105903e-44</td>\n",
       "      <td>1.014163e-43</td>\n",
       "    </tr>\n",
       "  </tbody>\n",
       "</table>\n",
       "<p>5 rows × 38 columns</p>\n",
       "</div>"
      ],
      "text/plain": [
       "N               626            636            646            656  \\\n",
       "p2                                                                 \n",
       "0.00   0.000000e+00   0.000000e+00   0.000000e+00   0.000000e+00   \n",
       "0.02  1.056117e-205  3.423262e-194  2.492654e-187  3.877888e-182   \n",
       "0.04  4.955988e-153  1.307103e-141  7.744318e-135  9.803206e-130   \n",
       "0.06  6.244344e-124  1.334235e-112  6.404307e-106  6.567851e-101   \n",
       "0.08  1.559688e-104   2.687715e-93   1.040453e-86   8.605447e-82   \n",
       "\n",
       "N               666            676            686            696  \\\n",
       "p2                                                                 \n",
       "0.00   0.000000e+00   0.000000e+00   0.000000e+00   0.000000e+00   \n",
       "0.02  6.470516e-178  2.413703e-174  3.036134e-171  1.665907e-168   \n",
       "0.04  1.330955e-125  4.039800e-122  4.134742e-119  1.845992e-116   \n",
       "0.06   7.224115e-97   1.776427e-93   1.472998e-90   5.327823e-88   \n",
       "0.08   7.633691e-78   1.513900e-74   1.012399e-71   2.953241e-69   \n",
       "\n",
       "N               706            716  ...            906            916  \\\n",
       "p2                                  ...                                 \n",
       "0.00   0.000000e+00   0.000000e+00  ...   0.000000e+00   0.000000e+00   \n",
       "0.02  4.742482e-166  7.922126e-164  ...  1.348622e-140  7.424037e-140   \n",
       "0.04  4.275987e-114  5.811979e-112  ...   1.967671e-90   8.813611e-90   \n",
       "0.06   9.998216e-86   1.100972e-83  ...   6.825943e-64   2.477025e-63   \n",
       "0.08   4.469628e-67   3.969401e-65  ...   4.135293e-47   1.210246e-46   \n",
       "\n",
       "N               926            936            946            956  \\\n",
       "p2                                                                 \n",
       "0.00   0.000000e+00   0.000000e+00   0.000000e+00   0.000000e+00   \n",
       "0.02  3.852880e-139  1.891759e-138  8.816277e-138  3.911366e-137   \n",
       "0.04   3.721781e-89   1.486903e-88   5.638372e-88   2.035394e-87   \n",
       "0.06   8.474098e-63   2.742784e-62   8.426142e-62   2.464278e-61   \n",
       "0.08   3.339155e-46   8.716344e-46   2.159590e-45   5.093685e-45   \n",
       "\n",
       "N               966            976            986            996  \n",
       "p2                                                                \n",
       "0.00   0.000000e+00   0.000000e+00   0.000000e+00   0.000000e+00  \n",
       "0.02  1.656431e-136  6.712795e-136  2.609254e-135  9.748418e-135  \n",
       "0.04   7.013666e-87   2.312739e-86   7.314609e-86   2.223619e-85  \n",
       "0.06   6.879432e-61   1.837809e-60   4.709026e-60   1.159756e-59  \n",
       "0.08   1.146818e-44   2.470826e-44   5.105903e-44   1.014163e-43  \n",
       "\n",
       "[5 rows x 38 columns]"
      ]
     },
     "execution_count": 578,
     "metadata": {},
     "output_type": "execute_result"
    }
   ],
   "source": [
    "like2.head()"
   ]
  },
  {
   "cell_type": "code",
   "execution_count": 580,
   "metadata": {},
   "outputs": [
    {
     "data": {
      "text/plain": [
       "7.185821914837763e-14"
      ]
     },
     "execution_count": 580,
     "metadata": {},
     "output_type": "execute_result"
    }
   ],
   "source": [
    "like2.to_numpy().sum()"
   ]
  },
  {
   "cell_type": "code",
   "execution_count": 583,
   "metadata": {},
   "outputs": [
    {
     "data": {
      "text/plain": [
       "Int64Index([626, 636, 646, 656, 666, 676, 686, 696, 706, 716, 726, 736, 746,\n",
       "            756, 766, 776, 786, 796, 806, 816, 826, 836, 846, 856, 866, 876,\n",
       "            886, 896, 906, 916, 926, 936, 946, 956, 966, 976, 986, 996],\n",
       "           dtype='int64', name='N')"
      ]
     },
     "execution_count": 583,
     "metadata": {},
     "output_type": "execute_result"
    }
   ],
   "source": [
    "prior4.columns"
   ]
  },
  {
   "cell_type": "code",
   "execution_count": 584,
   "metadata": {},
   "outputs": [
    {
     "data": {
      "text/plain": [
       "Int64Index([626, 636, 646, 656, 666, 676, 686, 696, 706, 716, 726, 736, 746,\n",
       "            756, 766, 776, 786, 796, 806, 816, 826, 836, 846, 856, 866, 876,\n",
       "            886, 896, 906, 916, 926, 936, 946, 956, 966, 976, 986, 996],\n",
       "           dtype='int64', name='N')"
      ]
     },
     "execution_count": 584,
     "metadata": {},
     "output_type": "execute_result"
    }
   ],
   "source": [
    "like2.columns"
   ]
  },
  {
   "cell_type": "code",
   "execution_count": null,
   "metadata": {},
   "outputs": [],
   "source": [
    "posterior4 = prior4.copy()\n",
    "\n",
    "for (p0, p1, p2) in prior4.index:\n",
    "    posterior4.loc[p0, p1, p2] = (prior4.loc[p0, p1, p2] *\n",
    "                                  like2.loc[p2].to_numpy())\n",
    "    \n",
    "posterior4.to_numpy().sum()"
   ]
  },
  {
   "cell_type": "code",
   "execution_count": 521,
   "metadata": {},
   "outputs": [],
   "source": [
    "#joint_posterior2 = prior4 * like2\n",
    "#normalize(joint_posterior2)"
   ]
  },
  {
   "cell_type": "code",
   "execution_count": 522,
   "metadata": {},
   "outputs": [
    {
     "data": {
      "image/png": "[encoded data removed]",
      "text/plain": [
       "<Figure size 432x288 with 1 Axes>"
      ]
     },
     "metadata": {
      "needs_background": "light"
     },
     "output_type": "display_data"
    }
   ],
   "source": [
    "marginal_N = marginal(joint_posterior2, 0)\n",
    "marginal_N.plot()\n",
    "\n",
    "decorate(xlabel='N',\n",
    "         ylabel='PDF',\n",
    "         title='Posterior marginal distribution of N')"
   ]
  },
  {
   "cell_type": "code",
   "execution_count": null,
   "metadata": {},
   "outputs": [],
   "source": []
  },
  {
   "cell_type": "markdown",
   "metadata": {},
   "source": [
    "## Failed attempt"
   ]
  },
  {
   "cell_type": "code",
   "execution_count": 309,
   "metadata": {},
   "outputs": [],
   "source": [
    "prior_p1 = Pmf(1, ps)\n",
    "prior_p1.index.name = 'p1'"
   ]
  },
  {
   "cell_type": "code",
   "execution_count": 310,
   "metadata": {},
   "outputs": [],
   "source": [
    "prior_p2 = Pmf(1, ps)\n",
    "prior_p2.index.name = 'p2'"
   ]
  },
  {
   "cell_type": "code",
   "execution_count": 311,
   "metadata": {},
   "outputs": [
    {
     "data": {
      "text/plain": [
       "p0   p1      \n",
       "0.0  0.000000    1\n",
       "     0.033333    1\n",
       "     0.066667    1\n",
       "     0.100000    1\n",
       "     0.133333    1\n",
       "dtype: int64"
      ]
     },
     "execution_count": 311,
     "metadata": {},
     "output_type": "execute_result"
    }
   ],
   "source": [
    "prior2 = make_joint(prior_p0, prior_p1)\n",
    "joint_pmf = Pmf(prior2.transpose().stack())\n",
    "joint_pmf.head()"
   ]
  },
  {
   "cell_type": "code",
   "execution_count": 312,
   "metadata": {},
   "outputs": [
    {
     "data": {
      "text/plain": [
       "p0   p1   p2      \n",
       "0.0  0.0  0.000000    1\n",
       "          0.033333    1\n",
       "          0.066667    1\n",
       "          0.100000    1\n",
       "          0.133333    1\n",
       "dtype: int64"
      ]
     },
     "execution_count": 312,
     "metadata": {},
     "output_type": "execute_result"
    }
   ],
   "source": [
    "prior3 = make_joint(joint_pmf, prior_p2)\n",
    "joint_pmf = Pmf(prior3.transpose().stack())\n",
    "joint_pmf.head()"
   ]
  },
  {
   "cell_type": "code",
   "execution_count": 313,
   "metadata": {},
   "outputs": [
    {
     "data": {
      "text/plain": [
       "(29791, 50)"
      ]
     },
     "execution_count": 313,
     "metadata": {},
     "output_type": "execute_result"
    }
   ],
   "source": [
    "prior4 = make_joint(prior_N, joint_pmf)\n",
    "prior4.shape"
   ]
  },
  {
   "cell_type": "code",
   "execution_count": 314,
   "metadata": {},
   "outputs": [
    {
     "data": {
      "text/html": [
       "<div>\n",
       "<style scoped>\n",
       "    .dataframe tbody tr th:only-of-type {\n",
       "        vertical-align: middle;\n",
       "    }\n",
       "\n",
       "    .dataframe tbody tr th {\n",
       "        vertical-align: top;\n",
       "    }\n",
       "\n",
       "    .dataframe thead th {\n",
       "        text-align: right;\n",
       "    }\n",
       "</style>\n",
       "<table border=\"1\" class=\"dataframe\">\n",
       "  <thead>\n",
       "    <tr style=\"text-align: right;\">\n",
       "      <th></th>\n",
       "      <th></th>\n",
       "      <th>N</th>\n",
       "      <th>1000</th>\n",
       "      <th>1020</th>\n",
       "      <th>1040</th>\n",
       "      <th>1060</th>\n",
       "      <th>1080</th>\n",
       "      <th>1100</th>\n",
       "      <th>1120</th>\n",
       "      <th>1140</th>\n",
       "      <th>1160</th>\n",
       "      <th>1180</th>\n",
       "      <th>...</th>\n",
       "      <th>1800</th>\n",
       "      <th>1820</th>\n",
       "      <th>1840</th>\n",
       "      <th>1860</th>\n",
       "      <th>1880</th>\n",
       "      <th>1900</th>\n",
       "      <th>1920</th>\n",
       "      <th>1940</th>\n",
       "      <th>1960</th>\n",
       "      <th>1980</th>\n",
       "    </tr>\n",
       "    <tr>\n",
       "      <th>p0</th>\n",
       "      <th>p1</th>\n",
       "      <th>p2</th>\n",
       "      <th></th>\n",
       "      <th></th>\n",
       "      <th></th>\n",
       "      <th></th>\n",
       "      <th></th>\n",
       "      <th></th>\n",
       "      <th></th>\n",
       "      <th></th>\n",
       "      <th></th>\n",
       "      <th></th>\n",
       "      <th></th>\n",
       "      <th></th>\n",
       "      <th></th>\n",
       "      <th></th>\n",
       "      <th></th>\n",
       "      <th></th>\n",
       "      <th></th>\n",
       "      <th></th>\n",
       "      <th></th>\n",
       "      <th></th>\n",
       "      <th></th>\n",
       "    </tr>\n",
       "  </thead>\n",
       "  <tbody>\n",
       "    <tr>\n",
       "      <th rowspan=\"5\" valign=\"top\">0.0</th>\n",
       "      <th rowspan=\"5\" valign=\"top\">0.0</th>\n",
       "      <th>0.000000</th>\n",
       "      <td>1</td>\n",
       "      <td>1</td>\n",
       "      <td>1</td>\n",
       "      <td>1</td>\n",
       "      <td>1</td>\n",
       "      <td>1</td>\n",
       "      <td>1</td>\n",
       "      <td>1</td>\n",
       "      <td>1</td>\n",
       "      <td>1</td>\n",
       "      <td>...</td>\n",
       "      <td>1</td>\n",
       "      <td>1</td>\n",
       "      <td>1</td>\n",
       "      <td>1</td>\n",
       "      <td>1</td>\n",
       "      <td>1</td>\n",
       "      <td>1</td>\n",
       "      <td>1</td>\n",
       "      <td>1</td>\n",
       "      <td>1</td>\n",
       "    </tr>\n",
       "    <tr>\n",
       "      <th>0.033333</th>\n",
       "      <td>1</td>\n",
       "      <td>1</td>\n",
       "      <td>1</td>\n",
       "      <td>1</td>\n",
       "      <td>1</td>\n",
       "      <td>1</td>\n",
       "      <td>1</td>\n",
       "      <td>1</td>\n",
       "      <td>1</td>\n",
       "      <td>1</td>\n",
       "      <td>...</td>\n",
       "      <td>1</td>\n",
       "      <td>1</td>\n",
       "      <td>1</td>\n",
       "      <td>1</td>\n",
       "      <td>1</td>\n",
       "      <td>1</td>\n",
       "      <td>1</td>\n",
       "      <td>1</td>\n",
       "      <td>1</td>\n",
       "      <td>1</td>\n",
       "    </tr>\n",
       "    <tr>\n",
       "      <th>0.066667</th>\n",
       "      <td>1</td>\n",
       "      <td>1</td>\n",
       "      <td>1</td>\n",
       "      <td>1</td>\n",
       "      <td>1</td>\n",
       "      <td>1</td>\n",
       "      <td>1</td>\n",
       "      <td>1</td>\n",
       "      <td>1</td>\n",
       "      <td>1</td>\n",
       "      <td>...</td>\n",
       "      <td>1</td>\n",
       "      <td>1</td>\n",
       "      <td>1</td>\n",
       "      <td>1</td>\n",
       "      <td>1</td>\n",
       "      <td>1</td>\n",
       "      <td>1</td>\n",
       "      <td>1</td>\n",
       "      <td>1</td>\n",
       "      <td>1</td>\n",
       "    </tr>\n",
       "    <tr>\n",
       "      <th>0.100000</th>\n",
       "      <td>1</td>\n",
       "      <td>1</td>\n",
       "      <td>1</td>\n",
       "      <td>1</td>\n",
       "      <td>1</td>\n",
       "      <td>1</td>\n",
       "      <td>1</td>\n",
       "      <td>1</td>\n",
       "      <td>1</td>\n",
       "      <td>1</td>\n",
       "      <td>...</td>\n",
       "      <td>1</td>\n",
       "      <td>1</td>\n",
       "      <td>1</td>\n",
       "      <td>1</td>\n",
       "      <td>1</td>\n",
       "      <td>1</td>\n",
       "      <td>1</td>\n",
       "      <td>1</td>\n",
       "      <td>1</td>\n",
       "      <td>1</td>\n",
       "    </tr>\n",
       "    <tr>\n",
       "      <th>0.133333</th>\n",
       "      <td>1</td>\n",
       "      <td>1</td>\n",
       "      <td>1</td>\n",
       "      <td>1</td>\n",
       "      <td>1</td>\n",
       "      <td>1</td>\n",
       "      <td>1</td>\n",
       "      <td>1</td>\n",
       "      <td>1</td>\n",
       "      <td>1</td>\n",
       "      <td>...</td>\n",
       "      <td>1</td>\n",
       "      <td>1</td>\n",
       "      <td>1</td>\n",
       "      <td>1</td>\n",
       "      <td>1</td>\n",
       "      <td>1</td>\n",
       "      <td>1</td>\n",
       "      <td>1</td>\n",
       "      <td>1</td>\n",
       "      <td>1</td>\n",
       "    </tr>\n",
       "  </tbody>\n",
       "</table>\n",
       "<p>5 rows × 50 columns</p>\n",
       "</div>"
      ],
      "text/plain": [
       "N                 1000  1020  1040  1060  1080  1100  1120  1140  1160  1180  \\\n",
       "p0  p1  p2                                                                     \n",
       "0.0 0.0 0.000000     1     1     1     1     1     1     1     1     1     1   \n",
       "        0.033333     1     1     1     1     1     1     1     1     1     1   \n",
       "        0.066667     1     1     1     1     1     1     1     1     1     1   \n",
       "        0.100000     1     1     1     1     1     1     1     1     1     1   \n",
       "        0.133333     1     1     1     1     1     1     1     1     1     1   \n",
       "\n",
       "N                 ...  1800  1820  1840  1860  1880  1900  1920  1940  1960  \\\n",
       "p0  p1  p2        ...                                                         \n",
       "0.0 0.0 0.000000  ...     1     1     1     1     1     1     1     1     1   \n",
       "        0.033333  ...     1     1     1     1     1     1     1     1     1   \n",
       "        0.066667  ...     1     1     1     1     1     1     1     1     1   \n",
       "        0.100000  ...     1     1     1     1     1     1     1     1     1   \n",
       "        0.133333  ...     1     1     1     1     1     1     1     1     1   \n",
       "\n",
       "N                 1980  \n",
       "p0  p1  p2              \n",
       "0.0 0.0 0.000000     1  \n",
       "        0.033333     1  \n",
       "        0.066667     1  \n",
       "        0.100000     1  \n",
       "        0.133333     1  \n",
       "\n",
       "[5 rows x 50 columns]"
      ]
     },
     "execution_count": 314,
     "metadata": {},
     "output_type": "execute_result"
    }
   ],
   "source": [
    "prior4.head()"
   ]
  },
  {
   "cell_type": "code",
   "execution_count": 315,
   "metadata": {},
   "outputs": [
    {
     "data": {
      "text/plain": [
       "513"
      ]
     },
     "execution_count": 315,
     "metadata": {},
     "output_type": "execute_result"
    }
   ],
   "source": [
    "k[1]"
   ]
  },
  {
   "cell_type": "code",
   "execution_count": 352,
   "metadata": {},
   "outputs": [
    {
     "data": {
      "text/plain": [
       "(125,)"
      ]
     },
     "execution_count": 352,
     "metadata": {},
     "output_type": "execute_result"
    }
   ],
   "source": [
    "Ns = np.arange(s[0]+1, 3000, 20)\n",
    "prior_N = Pmf(1, Ns)\n",
    "prior_N.index.name = 'N'\n",
    "prior_N.shape"
   ]
  },
  {
   "cell_type": "code",
   "execution_count": 353,
   "metadata": {},
   "outputs": [],
   "source": [
    "ps = np.linspace(0, 1, 101)\n",
    "prior_p0 = Pmf(1, ps)\n",
    "prior_p0.index.name = 'p0'"
   ]
  },
  {
   "cell_type": "code",
   "execution_count": 354,
   "metadata": {},
   "outputs": [
    {
     "data": {
      "text/html": [
       "<div>\n",
       "<style scoped>\n",
       "    .dataframe tbody tr th:only-of-type {\n",
       "        vertical-align: middle;\n",
       "    }\n",
       "\n",
       "    .dataframe tbody tr th {\n",
       "        vertical-align: top;\n",
       "    }\n",
       "\n",
       "    .dataframe thead th {\n",
       "        text-align: right;\n",
       "    }\n",
       "</style>\n",
       "<table border=\"1\" class=\"dataframe\">\n",
       "  <thead>\n",
       "    <tr style=\"text-align: right;\">\n",
       "      <th>N</th>\n",
       "      <th>514</th>\n",
       "      <th>534</th>\n",
       "      <th>554</th>\n",
       "      <th>574</th>\n",
       "      <th>594</th>\n",
       "      <th>614</th>\n",
       "      <th>634</th>\n",
       "      <th>654</th>\n",
       "      <th>674</th>\n",
       "      <th>694</th>\n",
       "      <th>...</th>\n",
       "      <th>2814</th>\n",
       "      <th>2834</th>\n",
       "      <th>2854</th>\n",
       "      <th>2874</th>\n",
       "      <th>2894</th>\n",
       "      <th>2914</th>\n",
       "      <th>2934</th>\n",
       "      <th>2954</th>\n",
       "      <th>2974</th>\n",
       "      <th>2994</th>\n",
       "    </tr>\n",
       "    <tr>\n",
       "      <th>p0</th>\n",
       "      <th></th>\n",
       "      <th></th>\n",
       "      <th></th>\n",
       "      <th></th>\n",
       "      <th></th>\n",
       "      <th></th>\n",
       "      <th></th>\n",
       "      <th></th>\n",
       "      <th></th>\n",
       "      <th></th>\n",
       "      <th></th>\n",
       "      <th></th>\n",
       "      <th></th>\n",
       "      <th></th>\n",
       "      <th></th>\n",
       "      <th></th>\n",
       "      <th></th>\n",
       "      <th></th>\n",
       "      <th></th>\n",
       "      <th></th>\n",
       "      <th></th>\n",
       "    </tr>\n",
       "  </thead>\n",
       "  <tbody>\n",
       "    <tr>\n",
       "      <th>0.00</th>\n",
       "      <td>1</td>\n",
       "      <td>1</td>\n",
       "      <td>1</td>\n",
       "      <td>1</td>\n",
       "      <td>1</td>\n",
       "      <td>1</td>\n",
       "      <td>1</td>\n",
       "      <td>1</td>\n",
       "      <td>1</td>\n",
       "      <td>1</td>\n",
       "      <td>...</td>\n",
       "      <td>1</td>\n",
       "      <td>1</td>\n",
       "      <td>1</td>\n",
       "      <td>1</td>\n",
       "      <td>1</td>\n",
       "      <td>1</td>\n",
       "      <td>1</td>\n",
       "      <td>1</td>\n",
       "      <td>1</td>\n",
       "      <td>1</td>\n",
       "    </tr>\n",
       "    <tr>\n",
       "      <th>0.01</th>\n",
       "      <td>1</td>\n",
       "      <td>1</td>\n",
       "      <td>1</td>\n",
       "      <td>1</td>\n",
       "      <td>1</td>\n",
       "      <td>1</td>\n",
       "      <td>1</td>\n",
       "      <td>1</td>\n",
       "      <td>1</td>\n",
       "      <td>1</td>\n",
       "      <td>...</td>\n",
       "      <td>1</td>\n",
       "      <td>1</td>\n",
       "      <td>1</td>\n",
       "      <td>1</td>\n",
       "      <td>1</td>\n",
       "      <td>1</td>\n",
       "      <td>1</td>\n",
       "      <td>1</td>\n",
       "      <td>1</td>\n",
       "      <td>1</td>\n",
       "    </tr>\n",
       "    <tr>\n",
       "      <th>0.02</th>\n",
       "      <td>1</td>\n",
       "      <td>1</td>\n",
       "      <td>1</td>\n",
       "      <td>1</td>\n",
       "      <td>1</td>\n",
       "      <td>1</td>\n",
       "      <td>1</td>\n",
       "      <td>1</td>\n",
       "      <td>1</td>\n",
       "      <td>1</td>\n",
       "      <td>...</td>\n",
       "      <td>1</td>\n",
       "      <td>1</td>\n",
       "      <td>1</td>\n",
       "      <td>1</td>\n",
       "      <td>1</td>\n",
       "      <td>1</td>\n",
       "      <td>1</td>\n",
       "      <td>1</td>\n",
       "      <td>1</td>\n",
       "      <td>1</td>\n",
       "    </tr>\n",
       "    <tr>\n",
       "      <th>0.03</th>\n",
       "      <td>1</td>\n",
       "      <td>1</td>\n",
       "      <td>1</td>\n",
       "      <td>1</td>\n",
       "      <td>1</td>\n",
       "      <td>1</td>\n",
       "      <td>1</td>\n",
       "      <td>1</td>\n",
       "      <td>1</td>\n",
       "      <td>1</td>\n",
       "      <td>...</td>\n",
       "      <td>1</td>\n",
       "      <td>1</td>\n",
       "      <td>1</td>\n",
       "      <td>1</td>\n",
       "      <td>1</td>\n",
       "      <td>1</td>\n",
       "      <td>1</td>\n",
       "      <td>1</td>\n",
       "      <td>1</td>\n",
       "      <td>1</td>\n",
       "    </tr>\n",
       "    <tr>\n",
       "      <th>0.04</th>\n",
       "      <td>1</td>\n",
       "      <td>1</td>\n",
       "      <td>1</td>\n",
       "      <td>1</td>\n",
       "      <td>1</td>\n",
       "      <td>1</td>\n",
       "      <td>1</td>\n",
       "      <td>1</td>\n",
       "      <td>1</td>\n",
       "      <td>1</td>\n",
       "      <td>...</td>\n",
       "      <td>1</td>\n",
       "      <td>1</td>\n",
       "      <td>1</td>\n",
       "      <td>1</td>\n",
       "      <td>1</td>\n",
       "      <td>1</td>\n",
       "      <td>1</td>\n",
       "      <td>1</td>\n",
       "      <td>1</td>\n",
       "      <td>1</td>\n",
       "    </tr>\n",
       "  </tbody>\n",
       "</table>\n",
       "<p>5 rows × 125 columns</p>\n",
       "</div>"
      ],
      "text/plain": [
       "N     514   534   554   574   594   614   634   654   674   694   ...  2814  \\\n",
       "p0                                                                ...         \n",
       "0.00     1     1     1     1     1     1     1     1     1     1  ...     1   \n",
       "0.01     1     1     1     1     1     1     1     1     1     1  ...     1   \n",
       "0.02     1     1     1     1     1     1     1     1     1     1  ...     1   \n",
       "0.03     1     1     1     1     1     1     1     1     1     1  ...     1   \n",
       "0.04     1     1     1     1     1     1     1     1     1     1  ...     1   \n",
       "\n",
       "N     2834  2854  2874  2894  2914  2934  2954  2974  2994  \n",
       "p0                                                          \n",
       "0.00     1     1     1     1     1     1     1     1     1  \n",
       "0.01     1     1     1     1     1     1     1     1     1  \n",
       "0.02     1     1     1     1     1     1     1     1     1  \n",
       "0.03     1     1     1     1     1     1     1     1     1  \n",
       "0.04     1     1     1     1     1     1     1     1     1  \n",
       "\n",
       "[5 rows x 125 columns]"
      ]
     },
     "execution_count": 354,
     "metadata": {},
     "output_type": "execute_result"
    }
   ],
   "source": [
    "prior0 = make_joint(prior_N, prior_p0)\n",
    "prior0.head()"
   ]
  },
  {
   "cell_type": "code",
   "execution_count": 355,
   "metadata": {},
   "outputs": [
    {
     "data": {
      "text/plain": [
       "8.752870018319545"
      ]
     },
     "execution_count": 355,
     "metadata": {},
     "output_type": "execute_result"
    }
   ],
   "source": [
    "like0 = prior0.copy()\n",
    "Ns = prior0.columns\n",
    "\n",
    "for p0 in prior0.index:\n",
    "    like0.loc[p0] = binom.pmf(k[1], Ns, p0)\n",
    "    \n",
    "like0.to_numpy().sum()"
   ]
  },
  {
   "cell_type": "code",
   "execution_count": 356,
   "metadata": {},
   "outputs": [],
   "source": [
    "posterior0 = prior0 * like0\n",
    "normalize(posterior0)"
   ]
  },
  {
   "cell_type": "code",
   "execution_count": 357,
   "metadata": {},
   "outputs": [
    {
     "data": {
      "image/png": "[encoded data removed]",
      "text/plain": [
       "<Figure size 432x288 with 1 Axes>"
      ]
     },
     "metadata": {
      "needs_background": "light"
     },
     "output_type": "display_data"
    }
   ],
   "source": [
    "marginal_N = marginal(posterior0, 0)\n",
    "marginal_N.plot()"
   ]
  },
  {
   "cell_type": "code",
   "execution_count": 350,
   "metadata": {},
   "outputs": [
    {
     "data": {
      "image/png": "[encoded data removed]",
      "text/plain": [
       "<Figure size 432x288 with 1 Axes>"
      ]
     },
     "metadata": {
      "needs_background": "light"
     },
     "output_type": "display_data"
    }
   ],
   "source": [
    "marginal_p0 = marginal(posterior0, 1)\n",
    "marginal_p0.plot()"
   ]
  },
  {
   "cell_type": "code",
   "execution_count": 351,
   "metadata": {},
   "outputs": [
    {
     "data": {
      "image/png": "[encoded data removed]",
      "text/plain": [
       "<Figure size 432x432 with 3 Axes>"
      ]
     },
     "metadata": {
      "needs_background": "light"
     },
     "output_type": "display_data"
    }
   ],
   "source": [
    "joint_plot(posterior0)"
   ]
  },
  {
   "cell_type": "code",
   "execution_count": 325,
   "metadata": {},
   "outputs": [
    {
     "name": "stdout",
     "output_type": "stream",
     "text": [
      "Int64Index([ 487,  507,  527,  547,  567,  587,  607,  627,  647,  667,  687,\n",
      "             707,  727,  747,  767,  787,  807,  827,  847,  867,  887,  907,\n",
      "             927,  947,  967,  987, 1007, 1027, 1047, 1067, 1087, 1107, 1127,\n",
      "            1147, 1167, 1187, 1207, 1227, 1247, 1267, 1287, 1307, 1327, 1347,\n",
      "            1367, 1387, 1407, 1427, 1447, 1467],\n",
      "           dtype='int64', name='N')\n",
      "53\n",
      "154\n",
      "513\n"
     ]
    },
    {
     "data": {
      "text/plain": [
       "1489550"
      ]
     },
     "execution_count": 325,
     "metadata": {},
     "output_type": "execute_result"
    }
   ],
   "source": [
    "like1 = prior4.copy()\n",
    "\n",
    "for (p0, p1, p2) in prior4.index:\n",
    "    k0 = Ns - s[0]\n",
    "    like1.loc[p0, p1, p2] = (binom.pmf(k[0,1], k0, p1) * \n",
    "                             binom.pmf(k[1,1], k[1], p1))\n",
    "    \n",
    "like1.to_numpy().sum()"
   ]
  },
  {
   "cell_type": "code",
   "execution_count": 320,
   "metadata": {},
   "outputs": [],
   "source": [
    "posterior1 = prior4 * like1\n",
    "normalize(posterior1)"
   ]
  },
  {
   "cell_type": "code",
   "execution_count": 321,
   "metadata": {},
   "outputs": [
    {
     "data": {
      "image/png": "[encoded data removed]",
      "text/plain": [
       "<Figure size 432x288 with 1 Axes>"
      ]
     },
     "metadata": {
      "needs_background": "light"
     },
     "output_type": "display_data"
    }
   ],
   "source": [
    "marginal_N = marginal(posterior1, 0)\n",
    "marginal_N.plot()"
   ]
  },
  {
   "cell_type": "code",
   "execution_count": 280,
   "metadata": {},
   "outputs": [
    {
     "data": {
      "text/plain": [
       "9.82403748698076e-16"
      ]
     },
     "execution_count": 280,
     "metadata": {},
     "output_type": "execute_result"
    }
   ],
   "source": [
    "like2 = prior4.copy()\n",
    "\n",
    "for (p0, p1, p2) in prior4.index:\n",
    "    k00 = Ns - s[1]\n",
    "    like = (binom.pmf(k[0,0,1], k00, p2) * \n",
    "            binom.pmf(k[0,1,1], k[0,1], p2) * \n",
    "            binom.pmf(k[1,0,1], k[1,0], p2) * \n",
    "            binom.pmf(k[1,1,1], k[1,1], p2))\n",
    "    \n",
    "    like2.loc[p0, p1, p2] = like\n",
    "    \n",
    "like2.to_numpy().sum()"
   ]
  },
  {
   "cell_type": "code",
   "execution_count": 281,
   "metadata": {},
   "outputs": [],
   "source": [
    "posterior4 = prior4 * like0 * like1 * like2\n",
    "normalize(posterior4)"
   ]
  },
  {
   "cell_type": "code",
   "execution_count": 282,
   "metadata": {},
   "outputs": [
    {
     "data": {
      "image/png": "[encoded data removed]",
      "text/plain": [
       "<Figure size 432x288 with 1 Axes>"
      ]
     },
     "metadata": {
      "needs_background": "light"
     },
     "output_type": "display_data"
    }
   ],
   "source": [
    "marginal_N = marginal(posterior4, 0)\n",
    "marginal_N.plot()"
   ]
  },
  {
   "cell_type": "markdown",
   "metadata": {},
   "source": [
    "k000 = N - s[2]\n",
    "like4 = (comb(k000,     k[0,0,0,1]) * \n",
    "                   comb(k[0,0,1], k[0,0,1,1]) * \n",
    "                   comb(k[0,1,0], k[0,1,0,1]) * \n",
    "                   comb(k[0,1,1], k[0,1,1,1]) * \n",
    "                   comb(k[1,0,0], k[1,0,0,1]) * \n",
    "                   comb(k[1,0,1], k[1,0,1,1]) * \n",
    "                   comb(k[1,1,0], k[1,1,0,1]) * \n",
    "                   comb(k[1,1,1], k[1,1,1,1]) * \n",
    "                   half_binom(n[3], N, p4))"
   ]
  },
  {
   "cell_type": "code",
   "execution_count": 182,
   "metadata": {},
   "outputs": [
    {
     "data": {
      "text/plain": [
       "39.64163305200636"
      ]
     },
     "execution_count": 182,
     "metadata": {},
     "output_type": "execute_result"
    }
   ],
   "source": [
    "posterior_N = prior_N * like0\n",
    "posterior_N.normalize()"
   ]
  },
  {
   "cell_type": "code",
   "execution_count": 183,
   "metadata": {},
   "outputs": [
    {
     "data": {
      "image/png": "[encoded data removed]",
      "text/plain": [
       "<Figure size 432x288 with 1 Axes>"
      ]
     },
     "metadata": {
      "needs_background": "light"
     },
     "output_type": "display_data"
    }
   ],
   "source": [
    "posterior_N.plot()\n",
    "\n",
    "decorate(xlabel='N',\n",
    "         ylabel='PDF',\n",
    "         title='Posterior distribution of number of cases')"
   ]
  },
  {
   "cell_type": "code",
   "execution_count": null,
   "metadata": {},
   "outputs": [],
   "source": [
    "## TODO: select the numerators and denominators"
   ]
  },
  {
   "cell_type": "markdown",
   "metadata": {},
   "source": [
    "## Diabetes"
   ]
  },
  {
   "cell_type": "code",
   "execution_count": 141,
   "metadata": {},
   "outputs": [
    {
     "data": {
      "text/plain": [
       "2069"
      ]
     },
     "execution_count": 141,
     "metadata": {},
     "output_type": "execute_result"
    }
   ],
   "source": [
    "data4 = [-10000, 10, 182, 8, 74, 7, 20, 14, 709, 12, 650, 46, 104, 18, 157, 58]\n",
    "num_observed(data4)"
   ]
  },
  {
   "cell_type": "code",
   "execution_count": 142,
   "metadata": {},
   "outputs": [],
   "source": [
    "n, k, s = make_stats(data4, 4)"
   ]
  },
  {
   "cell_type": "code",
   "execution_count": 143,
   "metadata": {},
   "outputs": [
    {
     "data": {
      "text/plain": [
       "0    1754\n",
       "1     452\n",
       "2    1135\n",
       "3     173\n",
       "dtype: int64"
      ]
     },
     "execution_count": 143,
     "metadata": {},
     "output_type": "execute_result"
    }
   ],
   "source": [
    "n"
   ]
  },
  {
   "cell_type": "code",
   "execution_count": 144,
   "metadata": {},
   "outputs": [
    {
     "data": {
      "text/plain": [
       "0               -9685\n",
       "1                1754\n",
       "(0, 0)          -9800\n",
       "(0, 1)            115\n",
       "(1, 0)           1417\n",
       "(1, 1)            337\n",
       "(0, 0, 0)       -9990\n",
       "(0, 0, 1)         190\n",
       "(0, 1, 0)          81\n",
       "(0, 1, 1)          34\n",
       "(1, 0, 0)         721\n",
       "(1, 0, 1)         696\n",
       "(1, 1, 0)         122\n",
       "(1, 1, 1)         215\n",
       "(0, 0, 0, 0)   -10000\n",
       "(0, 0, 0, 1)       10\n",
       "(0, 0, 1, 0)      182\n",
       "(0, 0, 1, 1)        8\n",
       "(0, 1, 0, 0)       74\n",
       "(0, 1, 0, 1)        7\n",
       "(0, 1, 1, 0)       20\n",
       "(0, 1, 1, 1)       14\n",
       "(1, 0, 0, 0)      709\n",
       "(1, 0, 0, 1)       12\n",
       "(1, 0, 1, 0)      650\n",
       "(1, 0, 1, 1)       46\n",
       "(1, 1, 0, 0)      104\n",
       "(1, 1, 0, 1)       18\n",
       "(1, 1, 1, 0)      157\n",
       "(1, 1, 1, 1)       58\n",
       "dtype: int64"
      ]
     },
     "execution_count": 144,
     "metadata": {},
     "output_type": "execute_result"
    }
   ],
   "source": [
    "k"
   ]
  },
  {
   "cell_type": "code",
   "execution_count": 145,
   "metadata": {},
   "outputs": [
    {
     "data": {
      "text/plain": [
       "[1754, 1869, 2059, 2069]"
      ]
     },
     "execution_count": 145,
     "metadata": {},
     "output_type": "execute_result"
    }
   ],
   "source": [
    "s"
   ]
  }
 ],
 "metadata": {
  "kernelspec": {
   "display_name": "Python 3",
   "language": "python",
   "name": "python3"
  },
  "language_info": {
   "codemirror_mode": {
    "name": "ipython",
    "version": 3
   },
   "file_extension": ".py",
   "mimetype": "text/x-python",
   "name": "python",
   "nbconvert_exporter": "python",
   "pygments_lexer": "ipython3",
   "version": "3.8.2"
  }
 },
 "nbformat": 4,
 "nbformat_minor": 1
}
