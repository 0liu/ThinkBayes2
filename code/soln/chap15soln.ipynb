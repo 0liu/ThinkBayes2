{
 "cells": [
  {
   "cell_type": "markdown",
   "metadata": {},
   "source": [
    "# Think Bayes\n",
    "\n",
    "Second Edition\n",
    "\n",
    "Copyright 2020 Allen B. Downey\n",
    "\n",
    "License: [Attribution-NonCommercial-ShareAlike 4.0 International (CC BY-NC-SA 4.0)](https://creativecommons.org/licenses/by-nc-sa/4.0/)"
   ]
  },
  {
   "cell_type": "code",
   "execution_count": 3,
   "metadata": {},
   "outputs": [],
   "source": [
    "# If we're running on Colab, install empiricaldist\n",
    "# https://pypi.org/project/empiricaldist/\n",
    "\n",
    "import sys\n",
    "IN_COLAB = 'google.colab' in sys.modules\n",
    "\n",
    "if IN_COLAB:\n",
    "    !pip install empiricaldist"
   ]
  },
  {
   "cell_type": "code",
   "execution_count": 4,
   "metadata": {},
   "outputs": [],
   "source": [
    "# Get utils.py and create directories\n",
    "\n",
    "import os\n",
    "\n",
    "if not os.path.exists('utils.py'):\n",
    "    !wget https://github.com/AllenDowney/ThinkBayes2/raw/master/code/soln/utils.py\n",
    "        \n",
    "if not os.path.exists('figs'):\n",
    "    !mkdir figs"
   ]
  },
  {
   "cell_type": "code",
   "execution_count": 5,
   "metadata": {},
   "outputs": [],
   "source": [
    "import numpy as np\n",
    "import pandas as pd\n",
    "import matplotlib.pyplot as plt\n",
    "\n",
    "from empiricaldist import Pmf, Cdf\n",
    "from utils import decorate, savefig"
   ]
  },
  {
   "cell_type": "markdown",
   "metadata": {},
   "source": [
    "## Bayesian regression\n",
    "\n",
    "This notebook presents a simple example of Bayesian regression using synthetic data"
   ]
  },
  {
   "cell_type": "markdown",
   "metadata": {},
   "source": [
    "## More snow?\n",
    "\n",
    "I am under the impression that we don't get as much snow around here as we used to.  By \"around here\" I mean Norfolk County, Massachusetts, where I was born, grew up, and currently reside.  And by \"used to\" I mean compared to when I was young, like in 1978 when we got [27 inches of snow](https://en.wikipedia.org/wiki/Northeastern_United_States_blizzard_of_1978) and I didn't have to go to school for a couple of weeks.\n",
    "\n",
    "Fortunately, we can test my conjecture with data.  Norfolk County happens to be the location of the [Blue Hill Meteorological Observatory](https://en.wikipedia.org/wiki/Blue_Hill_Meteorological_Observatory), which keeps the oldest continuous weather record in North America.\n",
    "\n",
    "Data from this and many other weather stations is available from the [National Oceanic and Atmospheric Administration](https://www.ncdc.noaa.gov/cdo-web/search) (NOAA).  I collected data from the Blue Hill Observatory from May 11, 1967 to May 11, 2020.  The following cell downloads the data as a CSV file."
   ]
  },
  {
   "cell_type": "code",
   "execution_count": 88,
   "metadata": {},
   "outputs": [
    {
     "name": "stdout",
     "output_type": "stream",
     "text": [
      "--2020-08-14 14:53:07--  https://github.com/AllenDowney/ThinkBayes2/raw/master/data/2239075.csv\n",
      "Resolving github.com (github.com)... 140.82.114.4\n",
      "Connecting to github.com (github.com)|140.82.114.4|:443... connected.\n",
      "HTTP request sent, awaiting response... 302 Found\n",
      "Location: https://raw.githubusercontent.com/AllenDowney/ThinkBayes2/master/data/2239075.csv [following]\n",
      "--2020-08-14 14:53:08--  https://raw.githubusercontent.com/AllenDowney/ThinkBayes2/master/data/2239075.csv\n",
      "Resolving raw.githubusercontent.com (raw.githubusercontent.com)... 151.101.116.133\n",
      "Connecting to raw.githubusercontent.com (raw.githubusercontent.com)|151.101.116.133|:443... connected.\n",
      "HTTP request sent, awaiting response... 200 OK\n",
      "Length: 1853619 (1.8M) [text/plain]\n",
      "Saving to: ‘2239075.csv’\n",
      "\n",
      "2239075.csv         100%[===================>]   1.77M  2.05MB/s    in 0.9s    \n",
      "\n",
      "2020-08-14 14:53:09 (2.05 MB/s) - ‘2239075.csv’ saved [1853619/1853619]\n",
      "\n"
     ]
    }
   ],
   "source": [
    "import os\n",
    "\n",
    "datafile = '2239075.csv'\n",
    "if not os.path.exists(datafile):\n",
    "    !wget https://github.com/AllenDowney/ThinkBayes2/raw/master/data/2239075.csv"
   ]
  },
  {
   "cell_type": "markdown",
   "metadata": {},
   "source": [
    "We can read the data into a Pandas `DataFrame`:"
   ]
  },
  {
   "cell_type": "code",
   "execution_count": 62,
   "metadata": {},
   "outputs": [],
   "source": [
    "df = pd.read_csv('2239075.csv', parse_dates=[2])"
   ]
  },
  {
   "cell_type": "markdown",
   "metadata": {},
   "source": [
    "Here's what the last few rows look like."
   ]
  },
  {
   "cell_type": "code",
   "execution_count": 82,
   "metadata": {},
   "outputs": [
    {
     "data": {
      "text/html": [
       "<div>\n",
       "<style scoped>\n",
       "    .dataframe tbody tr th:only-of-type {\n",
       "        vertical-align: middle;\n",
       "    }\n",
       "\n",
       "    .dataframe tbody tr th {\n",
       "        vertical-align: top;\n",
       "    }\n",
       "\n",
       "    .dataframe thead th {\n",
       "        text-align: right;\n",
       "    }\n",
       "</style>\n",
       "<table border=\"1\" class=\"dataframe\">\n",
       "  <thead>\n",
       "    <tr style=\"text-align: right;\">\n",
       "      <th></th>\n",
       "      <th>STATION</th>\n",
       "      <th>NAME</th>\n",
       "      <th>DATE</th>\n",
       "      <th>PRCP</th>\n",
       "      <th>SNOW</th>\n",
       "      <th>SNWD</th>\n",
       "      <th>TMAX</th>\n",
       "      <th>TMIN</th>\n",
       "      <th>TOBS</th>\n",
       "      <th>WESD</th>\n",
       "      <th>...</th>\n",
       "      <th>WT03</th>\n",
       "      <th>WT04</th>\n",
       "      <th>WT05</th>\n",
       "      <th>WT06</th>\n",
       "      <th>WT08</th>\n",
       "      <th>WT09</th>\n",
       "      <th>WT11</th>\n",
       "      <th>WT16</th>\n",
       "      <th>WT18</th>\n",
       "      <th>year</th>\n",
       "    </tr>\n",
       "  </thead>\n",
       "  <tbody>\n",
       "    <tr>\n",
       "      <th>19355</th>\n",
       "      <td>USC00190736</td>\n",
       "      <td>BLUE HILL COOP, MA US</td>\n",
       "      <td>2020-05-07</td>\n",
       "      <td>0.00</td>\n",
       "      <td>0.0</td>\n",
       "      <td>0.0</td>\n",
       "      <td>57</td>\n",
       "      <td>37.0</td>\n",
       "      <td>43.0</td>\n",
       "      <td>NaN</td>\n",
       "      <td>...</td>\n",
       "      <td>NaN</td>\n",
       "      <td>NaN</td>\n",
       "      <td>NaN</td>\n",
       "      <td>NaN</td>\n",
       "      <td>NaN</td>\n",
       "      <td>NaN</td>\n",
       "      <td>NaN</td>\n",
       "      <td>NaN</td>\n",
       "      <td>NaN</td>\n",
       "      <td>2020</td>\n",
       "    </tr>\n",
       "    <tr>\n",
       "      <th>19356</th>\n",
       "      <td>USC00190736</td>\n",
       "      <td>BLUE HILL COOP, MA US</td>\n",
       "      <td>2020-05-08</td>\n",
       "      <td>0.00</td>\n",
       "      <td>0.0</td>\n",
       "      <td>0.0</td>\n",
       "      <td>63</td>\n",
       "      <td>42.0</td>\n",
       "      <td>45.0</td>\n",
       "      <td>NaN</td>\n",
       "      <td>...</td>\n",
       "      <td>NaN</td>\n",
       "      <td>NaN</td>\n",
       "      <td>NaN</td>\n",
       "      <td>NaN</td>\n",
       "      <td>NaN</td>\n",
       "      <td>NaN</td>\n",
       "      <td>NaN</td>\n",
       "      <td>NaN</td>\n",
       "      <td>NaN</td>\n",
       "      <td>2020</td>\n",
       "    </tr>\n",
       "    <tr>\n",
       "      <th>19357</th>\n",
       "      <td>USC00190736</td>\n",
       "      <td>BLUE HILL COOP, MA US</td>\n",
       "      <td>2020-05-09</td>\n",
       "      <td>0.45</td>\n",
       "      <td>0.0</td>\n",
       "      <td>0.0</td>\n",
       "      <td>57</td>\n",
       "      <td>34.0</td>\n",
       "      <td>34.0</td>\n",
       "      <td>NaN</td>\n",
       "      <td>...</td>\n",
       "      <td>NaN</td>\n",
       "      <td>NaN</td>\n",
       "      <td>NaN</td>\n",
       "      <td>NaN</td>\n",
       "      <td>NaN</td>\n",
       "      <td>NaN</td>\n",
       "      <td>NaN</td>\n",
       "      <td>NaN</td>\n",
       "      <td>NaN</td>\n",
       "      <td>2020</td>\n",
       "    </tr>\n",
       "    <tr>\n",
       "      <th>19358</th>\n",
       "      <td>USC00190736</td>\n",
       "      <td>BLUE HILL COOP, MA US</td>\n",
       "      <td>2020-05-10</td>\n",
       "      <td>0.00</td>\n",
       "      <td>0.0</td>\n",
       "      <td>0.0</td>\n",
       "      <td>44</td>\n",
       "      <td>31.0</td>\n",
       "      <td>38.0</td>\n",
       "      <td>NaN</td>\n",
       "      <td>...</td>\n",
       "      <td>NaN</td>\n",
       "      <td>NaN</td>\n",
       "      <td>NaN</td>\n",
       "      <td>NaN</td>\n",
       "      <td>NaN</td>\n",
       "      <td>NaN</td>\n",
       "      <td>NaN</td>\n",
       "      <td>NaN</td>\n",
       "      <td>NaN</td>\n",
       "      <td>2020</td>\n",
       "    </tr>\n",
       "    <tr>\n",
       "      <th>19359</th>\n",
       "      <td>USC00190736</td>\n",
       "      <td>BLUE HILL COOP, MA US</td>\n",
       "      <td>2020-05-11</td>\n",
       "      <td>0.00</td>\n",
       "      <td>0.0</td>\n",
       "      <td>0.0</td>\n",
       "      <td>59</td>\n",
       "      <td>38.0</td>\n",
       "      <td>50.0</td>\n",
       "      <td>NaN</td>\n",
       "      <td>...</td>\n",
       "      <td>NaN</td>\n",
       "      <td>NaN</td>\n",
       "      <td>NaN</td>\n",
       "      <td>NaN</td>\n",
       "      <td>NaN</td>\n",
       "      <td>NaN</td>\n",
       "      <td>NaN</td>\n",
       "      <td>NaN</td>\n",
       "      <td>NaN</td>\n",
       "      <td>2020</td>\n",
       "    </tr>\n",
       "  </tbody>\n",
       "</table>\n",
       "<p>5 rows × 21 columns</p>\n",
       "</div>"
      ],
      "text/plain": [
       "           STATION                   NAME       DATE  PRCP  SNOW  SNWD  TMAX  \\\n",
       "19355  USC00190736  BLUE HILL COOP, MA US 2020-05-07  0.00   0.0   0.0    57   \n",
       "19356  USC00190736  BLUE HILL COOP, MA US 2020-05-08  0.00   0.0   0.0    63   \n",
       "19357  USC00190736  BLUE HILL COOP, MA US 2020-05-09  0.45   0.0   0.0    57   \n",
       "19358  USC00190736  BLUE HILL COOP, MA US 2020-05-10  0.00   0.0   0.0    44   \n",
       "19359  USC00190736  BLUE HILL COOP, MA US 2020-05-11  0.00   0.0   0.0    59   \n",
       "\n",
       "       TMIN  TOBS  WESD  ...  WT03  WT04  WT05  WT06  WT08  WT09  WT11  WT16  \\\n",
       "19355  37.0  43.0   NaN  ...   NaN   NaN   NaN   NaN   NaN   NaN   NaN   NaN   \n",
       "19356  42.0  45.0   NaN  ...   NaN   NaN   NaN   NaN   NaN   NaN   NaN   NaN   \n",
       "19357  34.0  34.0   NaN  ...   NaN   NaN   NaN   NaN   NaN   NaN   NaN   NaN   \n",
       "19358  31.0  38.0   NaN  ...   NaN   NaN   NaN   NaN   NaN   NaN   NaN   NaN   \n",
       "19359  38.0  50.0   NaN  ...   NaN   NaN   NaN   NaN   NaN   NaN   NaN   NaN   \n",
       "\n",
       "       WT18  year  \n",
       "19355   NaN  2020  \n",
       "19356   NaN  2020  \n",
       "19357   NaN  2020  \n",
       "19358   NaN  2020  \n",
       "19359   NaN  2020  \n",
       "\n",
       "[5 rows x 21 columns]"
      ]
     },
     "execution_count": 82,
     "metadata": {},
     "output_type": "execute_result"
    }
   ],
   "source": [
    "df.tail()"
   ]
  },
  {
   "cell_type": "markdown",
   "metadata": {},
   "source": [
    "I'll add a column that contains just the year part of the dates."
   ]
  },
  {
   "cell_type": "code",
   "execution_count": 102,
   "metadata": {},
   "outputs": [],
   "source": [
    "df['YEAR'] = df['DATE'].dt.year"
   ]
  },
  {
   "cell_type": "markdown",
   "metadata": {},
   "source": [
    "And use `groupby` to add up the total snowfall in each year."
   ]
  },
  {
   "cell_type": "code",
   "execution_count": 172,
   "metadata": {},
   "outputs": [
    {
     "data": {
      "text/plain": [
       "54"
      ]
     },
     "execution_count": 172,
     "metadata": {},
     "output_type": "execute_result"
    }
   ],
   "source": [
    "snow = df.groupby('YEAR')['SNOW'].sum()\n",
    "len(snow)"
   ]
  },
  {
   "cell_type": "markdown",
   "metadata": {},
   "source": [
    "The first and last years are not complete, so I'll drop them."
   ]
  },
  {
   "cell_type": "code",
   "execution_count": 173,
   "metadata": {},
   "outputs": [
    {
     "data": {
      "text/plain": [
       "52"
      ]
     },
     "execution_count": 173,
     "metadata": {},
     "output_type": "execute_result"
    }
   ],
   "source": [
    "complete = snow.iloc[1:-1]\n",
    "len(complete)"
   ]
  },
  {
   "cell_type": "markdown",
   "metadata": {},
   "source": [
    "The following figure shows total snowfall during each of the complete years in my lifetime."
   ]
  },
  {
   "cell_type": "code",
   "execution_count": 174,
   "metadata": {},
   "outputs": [
    {
     "data": {
      "image/png": "[encoded data removed]",
      "text/plain": [
       "<Figure size 432x288 with 1 Axes>"
      ]
     },
     "metadata": {
      "needs_background": "light"
     },
     "output_type": "display_data"
    }
   ],
   "source": [
    "complete.plot(style='o', alpha=0.5)\n",
    "\n",
    "decorate(xlabel='Year',\n",
    "         ylabel='Total annual snowfall (inches)',\n",
    "         title='Total annual snowfall in Norfolk County, MA')"
   ]
  },
  {
   "cell_type": "markdown",
   "metadata": {},
   "source": [
    "Looking at this plot, it's hard to say whether snowfall is increasing, decreasing, or unchanged.  In the last decade, we've had several years with more snow than 1978, including 2015, which was the snowiest winter in the Boston area in modern history, with a total of 141 inches."
   ]
  },
  {
   "cell_type": "code",
   "execution_count": 175,
   "metadata": {},
   "outputs": [
    {
     "data": {
      "text/plain": [
       "YEAR\n",
       "1978    100.6\n",
       "1996    124.2\n",
       "2015    141.1\n",
       "Name: SNOW, dtype: float64"
      ]
     },
     "execution_count": 175,
     "metadata": {},
     "output_type": "execute_result"
    }
   ],
   "source": [
    "complete.loc[[1978, 1996, 2015]]"
   ]
  },
  {
   "cell_type": "markdown",
   "metadata": {},
   "source": [
    "This kind of question -- looking at noisy data and wondering whether it is going up or down -- is precisely the question we can answer with Bayesian regression.\n",
    "\n",
    "The foundation of regression (Bayesian or not) is the model that a time series like this is the sum of two parts:\n",
    "\n",
    "1. A linear function of time, and\n",
    "\n",
    "2. A series of random values drawn from a distribution that is not changing over time.\n",
    "\n",
    "Mathematically,\n",
    "\n",
    "$y = a x + b + \\epsilon$\n",
    "\n",
    "where $y$ is the series of measurements (snowfall in this example), $x$ is the series of times (years) and $\\epsilon$ is the series of random values.\n",
    "\n",
    "$a$ and $b$ are the slope and intercept of the line through the data.  They are unknown parameters, so we will use the data to estimate them.\n",
    "\n",
    "We don't know the distribution of $\\epsilon$, so we'll make the additional assumption that it is a normal distribution with mean 0 and unknown standard deviation, $\\sigma$.  To see whether this assumption is reasonable, I'll plot the distribution of total snowfall and a normal model with the same mean and standard deviations.  "
   ]
  },
  {
   "cell_type": "code",
   "execution_count": 176,
   "metadata": {},
   "outputs": [
    {
     "data": {
      "text/plain": [
       "(64.19038461538462, 26.288021984395684)"
      ]
     },
     "execution_count": 176,
     "metadata": {},
     "output_type": "execute_result"
    }
   ],
   "source": [
    "pmf_snowfall = Pmf.from_seq(complete)\n",
    "\n",
    "mean, std = pmf_snowfall.mean(), pmf_snowfall.std()\n",
    "mean, std"
   ]
  },
  {
   "cell_type": "code",
   "execution_count": 177,
   "metadata": {},
   "outputs": [],
   "source": [
    "from scipy.stats import norm\n",
    "\n",
    "dist = norm(mean, std)\n",
    "qs = pmf_snowfall.qs\n",
    "ps = dist.cdf(qs)"
   ]
  },
  {
   "cell_type": "code",
   "execution_count": 178,
   "metadata": {},
   "outputs": [
    {
     "data": {
      "image/png": "[encoded data removed]",
      "text/plain": [
       "<Figure size 432x288 with 1 Axes>"
      ]
     },
     "metadata": {
      "needs_background": "light"
     },
     "output_type": "display_data"
    }
   ],
   "source": [
    "plt.plot(qs, ps, color='gray', label='model')\n",
    "pmf_snowfall.make_cdf().plot(label='data')\n",
    "\n",
    "decorate(xlabel='Total snowfall (inches)',\n",
    "         ylabel='CDF',\n",
    "         title='Normal model of variation in snowfall')"
   ]
  },
  {
   "cell_type": "markdown",
   "metadata": {},
   "source": [
    "We've had more winters below the mean than expected, but overall this looks like a reasonable model, particularly in the tails, which are often problematic.\n",
    "\n",
    "This model has three parameters: slope, intercept, and standard deviation of $\\epsilon$.  In the next section we'll see how to compute the likelihood of the data, given these parameters; then we'll see how to estimate them.\n"
   ]
  },
  {
   "cell_type": "code",
   "execution_count": 203,
   "metadata": {},
   "outputs": [
    {
     "data": {
      "text/html": [
       "<div>\n",
       "<style scoped>\n",
       "    .dataframe tbody tr th:only-of-type {\n",
       "        vertical-align: middle;\n",
       "    }\n",
       "\n",
       "    .dataframe tbody tr th {\n",
       "        vertical-align: top;\n",
       "    }\n",
       "\n",
       "    .dataframe thead th {\n",
       "        text-align: right;\n",
       "    }\n",
       "</style>\n",
       "<table border=\"1\" class=\"dataframe\">\n",
       "  <thead>\n",
       "    <tr style=\"text-align: right;\">\n",
       "      <th></th>\n",
       "      <th>YEAR</th>\n",
       "      <th>SNOW</th>\n",
       "    </tr>\n",
       "  </thead>\n",
       "  <tbody>\n",
       "    <tr>\n",
       "      <th>0</th>\n",
       "      <td>1968</td>\n",
       "      <td>44.7</td>\n",
       "    </tr>\n",
       "    <tr>\n",
       "      <th>1</th>\n",
       "      <td>1969</td>\n",
       "      <td>99.2</td>\n",
       "    </tr>\n",
       "    <tr>\n",
       "      <th>2</th>\n",
       "      <td>1970</td>\n",
       "      <td>66.8</td>\n",
       "    </tr>\n",
       "    <tr>\n",
       "      <th>3</th>\n",
       "      <td>1971</td>\n",
       "      <td>54.6</td>\n",
       "    </tr>\n",
       "    <tr>\n",
       "      <th>4</th>\n",
       "      <td>1972</td>\n",
       "      <td>68.7</td>\n",
       "    </tr>\n",
       "  </tbody>\n",
       "</table>\n",
       "</div>"
      ],
      "text/plain": [
       "   YEAR  SNOW\n",
       "0  1968  44.7\n",
       "1  1969  99.2\n",
       "2  1970  66.8\n",
       "3  1971  54.6\n",
       "4  1972  68.7"
      ]
     },
     "execution_count": 203,
     "metadata": {},
     "output_type": "execute_result"
    }
   ],
   "source": [
    "data = complete.reset_index()\n",
    "data.head()"
   ]
  },
  {
   "cell_type": "code",
   "execution_count": 180,
   "metadata": {},
   "outputs": [
    {
     "data": {
      "text/plain": [
       "1993.5"
      ]
     },
     "execution_count": 180,
     "metadata": {},
     "output_type": "execute_result"
    }
   ],
   "source": [
    "offset = data['YEAR'].mean()\n",
    "offset"
   ]
  },
  {
   "cell_type": "code",
   "execution_count": 204,
   "metadata": {},
   "outputs": [
    {
     "data": {
      "text/plain": [
       "0.0"
      ]
     },
     "execution_count": 204,
     "metadata": {},
     "output_type": "execute_result"
    }
   ],
   "source": [
    "data['x'] = data['YEAR'] - offset\n",
    "data['x'].mean()"
   ]
  },
  {
   "cell_type": "code",
   "execution_count": 182,
   "metadata": {},
   "outputs": [
    {
     "data": {
      "text/html": [
       "<table class=\"simpletable\">\n",
       "<caption>OLS Regression Results</caption>\n",
       "<tr>\n",
       "  <th>Dep. Variable:</th>          <td>SNOW</td>       <th>  R-squared:         </th> <td>   0.085</td>\n",
       "</tr>\n",
       "<tr>\n",
       "  <th>Model:</th>                   <td>OLS</td>       <th>  Adj. R-squared:    </th> <td>   0.067</td>\n",
       "</tr>\n",
       "<tr>\n",
       "  <th>Method:</th>             <td>Least Squares</td>  <th>  F-statistic:       </th> <td>   4.669</td>\n",
       "</tr>\n",
       "<tr>\n",
       "  <th>Date:</th>             <td>Fri, 14 Aug 2020</td> <th>  Prob (F-statistic):</th>  <td>0.0355</td> \n",
       "</tr>\n",
       "<tr>\n",
       "  <th>Time:</th>                 <td>16:14:01</td>     <th>  Log-Likelihood:    </th> <td> -241.46</td>\n",
       "</tr>\n",
       "<tr>\n",
       "  <th>No. Observations:</th>      <td>    52</td>      <th>  AIC:               </th> <td>   486.9</td>\n",
       "</tr>\n",
       "<tr>\n",
       "  <th>Df Residuals:</th>          <td>    50</td>      <th>  BIC:               </th> <td>   490.8</td>\n",
       "</tr>\n",
       "<tr>\n",
       "  <th>Df Model:</th>              <td>     1</td>      <th>                     </th>     <td> </td>   \n",
       "</tr>\n",
       "<tr>\n",
       "  <th>Covariance Type:</th>      <td>nonrobust</td>    <th>                     </th>     <td> </td>   \n",
       "</tr>\n",
       "</table>\n",
       "<table class=\"simpletable\">\n",
       "<tr>\n",
       "      <td></td>         <th>coef</th>     <th>std err</th>      <th>t</th>      <th>P>|t|</th>  <th>[0.025</th>    <th>0.975]</th>  \n",
       "</tr>\n",
       "<tr>\n",
       "  <th>Intercept</th> <td>   64.1904</td> <td>    3.555</td> <td>   18.054</td> <td> 0.000</td> <td>   57.049</td> <td>   71.332</td>\n",
       "</tr>\n",
       "<tr>\n",
       "  <th>x</th>         <td>    0.5119</td> <td>    0.237</td> <td>    2.161</td> <td> 0.036</td> <td>    0.036</td> <td>    0.988</td>\n",
       "</tr>\n",
       "</table>\n",
       "<table class=\"simpletable\">\n",
       "<tr>\n",
       "  <th>Omnibus:</th>       <td> 3.736</td> <th>  Durbin-Watson:     </th> <td>   2.290</td>\n",
       "</tr>\n",
       "<tr>\n",
       "  <th>Prob(Omnibus):</th> <td> 0.154</td> <th>  Jarque-Bera (JB):  </th> <td>   3.257</td>\n",
       "</tr>\n",
       "<tr>\n",
       "  <th>Skew:</th>          <td> 0.613</td> <th>  Prob(JB):          </th> <td>   0.196</td>\n",
       "</tr>\n",
       "<tr>\n",
       "  <th>Kurtosis:</th>      <td> 2.978</td> <th>  Cond. No.          </th> <td>    15.0</td>\n",
       "</tr>\n",
       "</table><br/><br/>Warnings:<br/>[1] Standard Errors assume that the covariance matrix of the errors is correctly specified."
      ],
      "text/plain": [
       "<class 'statsmodels.iolib.summary.Summary'>\n",
       "\"\"\"\n",
       "                            OLS Regression Results                            \n",
       "==============================================================================\n",
       "Dep. Variable:                   SNOW   R-squared:                       0.085\n",
       "Model:                            OLS   Adj. R-squared:                  0.067\n",
       "Method:                 Least Squares   F-statistic:                     4.669\n",
       "Date:                Fri, 14 Aug 2020   Prob (F-statistic):             0.0355\n",
       "Time:                        16:14:01   Log-Likelihood:                -241.46\n",
       "No. Observations:                  52   AIC:                             486.9\n",
       "Df Residuals:                      50   BIC:                             490.8\n",
       "Df Model:                           1                                         \n",
       "Covariance Type:            nonrobust                                         \n",
       "==============================================================================\n",
       "                 coef    std err          t      P>|t|      [0.025      0.975]\n",
       "------------------------------------------------------------------------------\n",
       "Intercept     64.1904      3.555     18.054      0.000      57.049      71.332\n",
       "x              0.5119      0.237      2.161      0.036       0.036       0.988\n",
       "==============================================================================\n",
       "Omnibus:                        3.736   Durbin-Watson:                   2.290\n",
       "Prob(Omnibus):                  0.154   Jarque-Bera (JB):                3.257\n",
       "Skew:                           0.613   Prob(JB):                        0.196\n",
       "Kurtosis:                       2.978   Cond. No.                         15.0\n",
       "==============================================================================\n",
       "\n",
       "Warnings:\n",
       "[1] Standard Errors assume that the covariance matrix of the errors is correctly specified.\n",
       "\"\"\""
      ]
     },
     "execution_count": 182,
     "metadata": {},
     "output_type": "execute_result"
    }
   ],
   "source": [
    "import statsmodels.formula.api as smf\n",
    "\n",
    "formula = 'SNOW ~ x'\n",
    "results = smf.ols(formula, data=data).fit()\n",
    "results.summary()"
   ]
  },
  {
   "cell_type": "markdown",
   "metadata": {},
   "source": [
    "Suppose there is a linear relationship between `x` and `y` with slope 2 and intercept 1, but the measurements of `y` are noisy; specifically, the noise is Gaussian with mean 0 and `sigma = 0.3`. "
   ]
  },
  {
   "cell_type": "code",
   "execution_count": 183,
   "metadata": {},
   "outputs": [],
   "source": [
    "inter = 64\n",
    "slope = 0.51\n",
    "sigma = 26"
   ]
  },
  {
   "cell_type": "code",
   "execution_count": 184,
   "metadata": {},
   "outputs": [],
   "source": [
    "xs = data['x']\n",
    "ys = data['SNOW']"
   ]
  },
  {
   "cell_type": "code",
   "execution_count": 185,
   "metadata": {},
   "outputs": [
    {
     "data": {
      "text/plain": [
       "count    52.000000\n",
       "mean     -0.190385\n",
       "std      25.385697\n",
       "min     -66.135000\n",
       "25%     -14.125000\n",
       "50%       6.565000\n",
       "75%      17.442500\n",
       "max      42.335000\n",
       "dtype: float64"
      ]
     },
     "execution_count": 185,
     "metadata": {},
     "output_type": "execute_result"
    }
   ],
   "source": [
    "resid = slope * xs + inter - ys\n",
    "resid.describe()"
   ]
  },
  {
   "cell_type": "code",
   "execution_count": 186,
   "metadata": {},
   "outputs": [
    {
     "data": {
      "text/plain": [
       "array([0.01490073, 0.00285242, 0.01305324, 0.01529515, 0.01279708,\n",
       "       0.0044134 , 0.01470964, 0.01474532, 0.01526593, 0.01426784,\n",
       "       0.00354561, 0.010655  , 0.00809097, 0.01521138, 0.01494539,\n",
       "       0.01455552, 0.01525171, 0.01425735, 0.01077026, 0.00837361,\n",
       "       0.01468642, 0.01030307, 0.01430933, 0.00718604, 0.00993735,\n",
       "       0.01258966, 0.0098625 , 0.01182567, 0.00117652, 0.0139576 ,\n",
       "       0.00411173, 0.01420639, 0.01015782, 0.01038433, 0.01482279,\n",
       "       0.00386994, 0.01221638, 0.00446989, 0.00796445, 0.01248853,\n",
       "       0.01372076, 0.01330202, 0.01304467, 0.01437819, 0.00407589,\n",
       "       0.00960892, 0.01492131, 0.00060389, 0.01392   , 0.01463711,\n",
       "       0.01329929, 0.01226386])"
      ]
     },
     "execution_count": 186,
     "metadata": {},
     "output_type": "execute_result"
    }
   ],
   "source": [
    "densities = norm(0, sigma).pdf(resid)\n",
    "densities"
   ]
  },
  {
   "cell_type": "code",
   "execution_count": 187,
   "metadata": {},
   "outputs": [
    {
     "data": {
      "text/plain": [
       "1.290411849292259e-105"
      ]
     },
     "execution_count": 187,
     "metadata": {},
     "output_type": "execute_result"
    }
   ],
   "source": [
    "likelihood = densities.prod()\n",
    "likelihood"
   ]
  },
  {
   "cell_type": "markdown",
   "metadata": {},
   "source": [
    "## Estimation\n",
    "\n",
    "We can solve the problem first using a grid algorithm, with uniform priors for slope, intercept, and sigma.\n",
    "\n",
    "As an exercise, fill in this likelihood function, then test it using the code below.\n",
    "\n",
    "Your results will depend on the random data you generated, but in general you should find that the posterior marginal distributions peak near the actual parameters."
   ]
  },
  {
   "cell_type": "code",
   "execution_count": 293,
   "metadata": {},
   "outputs": [],
   "source": [
    "slopes = np.linspace(-0.5, 1.5, 31)\n",
    "prior_slope = Pmf(1, slopes)\n",
    "prior_slope.index.name = 'Slope'"
   ]
  },
  {
   "cell_type": "code",
   "execution_count": 294,
   "metadata": {},
   "outputs": [],
   "source": [
    "inters = np.linspace(55, 75, 31)\n",
    "prior_inter = Pmf(1, inters)\n",
    "prior_inter.index.name = 'Intercept'"
   ]
  },
  {
   "cell_type": "code",
   "execution_count": 295,
   "metadata": {},
   "outputs": [],
   "source": [
    "sigmas = np.linspace(20, 35, 31)\n",
    "prior_sigma = Pmf(1, sigmas)\n",
    "prior_sigma.index.name = 'Sigma'"
   ]
  },
  {
   "cell_type": "code",
   "execution_count": 296,
   "metadata": {},
   "outputs": [
    {
     "data": {
      "text/html": [
       "<div>\n",
       "<style scoped>\n",
       "    .dataframe tbody tr th:only-of-type {\n",
       "        vertical-align: middle;\n",
       "    }\n",
       "\n",
       "    .dataframe tbody tr th {\n",
       "        vertical-align: top;\n",
       "    }\n",
       "\n",
       "    .dataframe thead th {\n",
       "        text-align: right;\n",
       "    }\n",
       "</style>\n",
       "<table border=\"1\" class=\"dataframe\">\n",
       "  <thead>\n",
       "    <tr style=\"text-align: right;\">\n",
       "      <th>Intercept</th>\n",
       "      <th>55.000000</th>\n",
       "      <th>55.666667</th>\n",
       "      <th>56.333333</th>\n",
       "      <th>57.000000</th>\n",
       "      <th>57.666667</th>\n",
       "      <th>58.333333</th>\n",
       "      <th>59.000000</th>\n",
       "      <th>59.666667</th>\n",
       "      <th>60.333333</th>\n",
       "      <th>61.000000</th>\n",
       "      <th>...</th>\n",
       "      <th>69.000000</th>\n",
       "      <th>69.666667</th>\n",
       "      <th>70.333333</th>\n",
       "      <th>71.000000</th>\n",
       "      <th>71.666667</th>\n",
       "      <th>72.333333</th>\n",
       "      <th>73.000000</th>\n",
       "      <th>73.666667</th>\n",
       "      <th>74.333333</th>\n",
       "      <th>75.000000</th>\n",
       "    </tr>\n",
       "    <tr>\n",
       "      <th>Slope</th>\n",
       "      <th></th>\n",
       "      <th></th>\n",
       "      <th></th>\n",
       "      <th></th>\n",
       "      <th></th>\n",
       "      <th></th>\n",
       "      <th></th>\n",
       "      <th></th>\n",
       "      <th></th>\n",
       "      <th></th>\n",
       "      <th></th>\n",
       "      <th></th>\n",
       "      <th></th>\n",
       "      <th></th>\n",
       "      <th></th>\n",
       "      <th></th>\n",
       "      <th></th>\n",
       "      <th></th>\n",
       "      <th></th>\n",
       "      <th></th>\n",
       "      <th></th>\n",
       "    </tr>\n",
       "  </thead>\n",
       "  <tbody>\n",
       "    <tr>\n",
       "      <th>-0.500000</th>\n",
       "      <td>1</td>\n",
       "      <td>1</td>\n",
       "      <td>1</td>\n",
       "      <td>1</td>\n",
       "      <td>1</td>\n",
       "      <td>1</td>\n",
       "      <td>1</td>\n",
       "      <td>1</td>\n",
       "      <td>1</td>\n",
       "      <td>1</td>\n",
       "      <td>...</td>\n",
       "      <td>1</td>\n",
       "      <td>1</td>\n",
       "      <td>1</td>\n",
       "      <td>1</td>\n",
       "      <td>1</td>\n",
       "      <td>1</td>\n",
       "      <td>1</td>\n",
       "      <td>1</td>\n",
       "      <td>1</td>\n",
       "      <td>1</td>\n",
       "    </tr>\n",
       "    <tr>\n",
       "      <th>-0.433333</th>\n",
       "      <td>1</td>\n",
       "      <td>1</td>\n",
       "      <td>1</td>\n",
       "      <td>1</td>\n",
       "      <td>1</td>\n",
       "      <td>1</td>\n",
       "      <td>1</td>\n",
       "      <td>1</td>\n",
       "      <td>1</td>\n",
       "      <td>1</td>\n",
       "      <td>...</td>\n",
       "      <td>1</td>\n",
       "      <td>1</td>\n",
       "      <td>1</td>\n",
       "      <td>1</td>\n",
       "      <td>1</td>\n",
       "      <td>1</td>\n",
       "      <td>1</td>\n",
       "      <td>1</td>\n",
       "      <td>1</td>\n",
       "      <td>1</td>\n",
       "    </tr>\n",
       "    <tr>\n",
       "      <th>-0.366667</th>\n",
       "      <td>1</td>\n",
       "      <td>1</td>\n",
       "      <td>1</td>\n",
       "      <td>1</td>\n",
       "      <td>1</td>\n",
       "      <td>1</td>\n",
       "      <td>1</td>\n",
       "      <td>1</td>\n",
       "      <td>1</td>\n",
       "      <td>1</td>\n",
       "      <td>...</td>\n",
       "      <td>1</td>\n",
       "      <td>1</td>\n",
       "      <td>1</td>\n",
       "      <td>1</td>\n",
       "      <td>1</td>\n",
       "      <td>1</td>\n",
       "      <td>1</td>\n",
       "      <td>1</td>\n",
       "      <td>1</td>\n",
       "      <td>1</td>\n",
       "    </tr>\n",
       "    <tr>\n",
       "      <th>-0.300000</th>\n",
       "      <td>1</td>\n",
       "      <td>1</td>\n",
       "      <td>1</td>\n",
       "      <td>1</td>\n",
       "      <td>1</td>\n",
       "      <td>1</td>\n",
       "      <td>1</td>\n",
       "      <td>1</td>\n",
       "      <td>1</td>\n",
       "      <td>1</td>\n",
       "      <td>...</td>\n",
       "      <td>1</td>\n",
       "      <td>1</td>\n",
       "      <td>1</td>\n",
       "      <td>1</td>\n",
       "      <td>1</td>\n",
       "      <td>1</td>\n",
       "      <td>1</td>\n",
       "      <td>1</td>\n",
       "      <td>1</td>\n",
       "      <td>1</td>\n",
       "    </tr>\n",
       "    <tr>\n",
       "      <th>-0.233333</th>\n",
       "      <td>1</td>\n",
       "      <td>1</td>\n",
       "      <td>1</td>\n",
       "      <td>1</td>\n",
       "      <td>1</td>\n",
       "      <td>1</td>\n",
       "      <td>1</td>\n",
       "      <td>1</td>\n",
       "      <td>1</td>\n",
       "      <td>1</td>\n",
       "      <td>...</td>\n",
       "      <td>1</td>\n",
       "      <td>1</td>\n",
       "      <td>1</td>\n",
       "      <td>1</td>\n",
       "      <td>1</td>\n",
       "      <td>1</td>\n",
       "      <td>1</td>\n",
       "      <td>1</td>\n",
       "      <td>1</td>\n",
       "      <td>1</td>\n",
       "    </tr>\n",
       "  </tbody>\n",
       "</table>\n",
       "<p>5 rows × 31 columns</p>\n",
       "</div>"
      ],
      "text/plain": [
       "Intercept  55.000000  55.666667  56.333333  57.000000  57.666667  58.333333  \\\n",
       "Slope                                                                         \n",
       "-0.500000          1          1          1          1          1          1   \n",
       "-0.433333          1          1          1          1          1          1   \n",
       "-0.366667          1          1          1          1          1          1   \n",
       "-0.300000          1          1          1          1          1          1   \n",
       "-0.233333          1          1          1          1          1          1   \n",
       "\n",
       "Intercept  59.000000  59.666667  60.333333  61.000000  ...  69.000000  \\\n",
       "Slope                                                  ...              \n",
       "-0.500000          1          1          1          1  ...          1   \n",
       "-0.433333          1          1          1          1  ...          1   \n",
       "-0.366667          1          1          1          1  ...          1   \n",
       "-0.300000          1          1          1          1  ...          1   \n",
       "-0.233333          1          1          1          1  ...          1   \n",
       "\n",
       "Intercept  69.666667  70.333333  71.000000  71.666667  72.333333  73.000000  \\\n",
       "Slope                                                                         \n",
       "-0.500000          1          1          1          1          1          1   \n",
       "-0.433333          1          1          1          1          1          1   \n",
       "-0.366667          1          1          1          1          1          1   \n",
       "-0.300000          1          1          1          1          1          1   \n",
       "-0.233333          1          1          1          1          1          1   \n",
       "\n",
       "Intercept  73.666667  74.333333  75.000000  \n",
       "Slope                                       \n",
       "-0.500000          1          1          1  \n",
       "-0.433333          1          1          1  \n",
       "-0.366667          1          1          1  \n",
       "-0.300000          1          1          1  \n",
       "-0.233333          1          1          1  \n",
       "\n",
       "[5 rows x 31 columns]"
      ]
     },
     "execution_count": 296,
     "metadata": {},
     "output_type": "execute_result"
    }
   ],
   "source": [
    "from utils import make_joint\n",
    "\n",
    "joint2 = make_joint(prior_inter, prior_slope)\n",
    "joint2.head()"
   ]
  },
  {
   "cell_type": "code",
   "execution_count": 297,
   "metadata": {},
   "outputs": [
    {
     "data": {
      "text/plain": [
       "Slope  Intercept\n",
       "-0.5   55.000000    1\n",
       "       55.666667    1\n",
       "       56.333333    1\n",
       "       57.000000    1\n",
       "       57.666667    1\n",
       "dtype: int64"
      ]
     },
     "execution_count": 297,
     "metadata": {},
     "output_type": "execute_result"
    }
   ],
   "source": [
    "prior2 = Pmf(joint2.stack())\n",
    "prior2.head()"
   ]
  },
  {
   "cell_type": "code",
   "execution_count": 298,
   "metadata": {},
   "outputs": [
    {
     "data": {
      "text/html": [
       "<div>\n",
       "<style scoped>\n",
       "    .dataframe tbody tr th:only-of-type {\n",
       "        vertical-align: middle;\n",
       "    }\n",
       "\n",
       "    .dataframe tbody tr th {\n",
       "        vertical-align: top;\n",
       "    }\n",
       "\n",
       "    .dataframe thead th {\n",
       "        text-align: right;\n",
       "    }\n",
       "</style>\n",
       "<table border=\"1\" class=\"dataframe\">\n",
       "  <thead>\n",
       "    <tr style=\"text-align: right;\">\n",
       "      <th></th>\n",
       "      <th>Sigma</th>\n",
       "      <th>20.0</th>\n",
       "      <th>20.5</th>\n",
       "      <th>21.0</th>\n",
       "      <th>21.5</th>\n",
       "      <th>22.0</th>\n",
       "      <th>22.5</th>\n",
       "      <th>23.0</th>\n",
       "      <th>23.5</th>\n",
       "      <th>24.0</th>\n",
       "      <th>24.5</th>\n",
       "      <th>...</th>\n",
       "      <th>30.5</th>\n",
       "      <th>31.0</th>\n",
       "      <th>31.5</th>\n",
       "      <th>32.0</th>\n",
       "      <th>32.5</th>\n",
       "      <th>33.0</th>\n",
       "      <th>33.5</th>\n",
       "      <th>34.0</th>\n",
       "      <th>34.5</th>\n",
       "      <th>35.0</th>\n",
       "    </tr>\n",
       "    <tr>\n",
       "      <th>Slope</th>\n",
       "      <th>Intercept</th>\n",
       "      <th></th>\n",
       "      <th></th>\n",
       "      <th></th>\n",
       "      <th></th>\n",
       "      <th></th>\n",
       "      <th></th>\n",
       "      <th></th>\n",
       "      <th></th>\n",
       "      <th></th>\n",
       "      <th></th>\n",
       "      <th></th>\n",
       "      <th></th>\n",
       "      <th></th>\n",
       "      <th></th>\n",
       "      <th></th>\n",
       "      <th></th>\n",
       "      <th></th>\n",
       "      <th></th>\n",
       "      <th></th>\n",
       "      <th></th>\n",
       "      <th></th>\n",
       "    </tr>\n",
       "  </thead>\n",
       "  <tbody>\n",
       "    <tr>\n",
       "      <th rowspan=\"5\" valign=\"top\">-0.5</th>\n",
       "      <th>55.000000</th>\n",
       "      <td>1</td>\n",
       "      <td>1</td>\n",
       "      <td>1</td>\n",
       "      <td>1</td>\n",
       "      <td>1</td>\n",
       "      <td>1</td>\n",
       "      <td>1</td>\n",
       "      <td>1</td>\n",
       "      <td>1</td>\n",
       "      <td>1</td>\n",
       "      <td>...</td>\n",
       "      <td>1</td>\n",
       "      <td>1</td>\n",
       "      <td>1</td>\n",
       "      <td>1</td>\n",
       "      <td>1</td>\n",
       "      <td>1</td>\n",
       "      <td>1</td>\n",
       "      <td>1</td>\n",
       "      <td>1</td>\n",
       "      <td>1</td>\n",
       "    </tr>\n",
       "    <tr>\n",
       "      <th>55.666667</th>\n",
       "      <td>1</td>\n",
       "      <td>1</td>\n",
       "      <td>1</td>\n",
       "      <td>1</td>\n",
       "      <td>1</td>\n",
       "      <td>1</td>\n",
       "      <td>1</td>\n",
       "      <td>1</td>\n",
       "      <td>1</td>\n",
       "      <td>1</td>\n",
       "      <td>...</td>\n",
       "      <td>1</td>\n",
       "      <td>1</td>\n",
       "      <td>1</td>\n",
       "      <td>1</td>\n",
       "      <td>1</td>\n",
       "      <td>1</td>\n",
       "      <td>1</td>\n",
       "      <td>1</td>\n",
       "      <td>1</td>\n",
       "      <td>1</td>\n",
       "    </tr>\n",
       "    <tr>\n",
       "      <th>56.333333</th>\n",
       "      <td>1</td>\n",
       "      <td>1</td>\n",
       "      <td>1</td>\n",
       "      <td>1</td>\n",
       "      <td>1</td>\n",
       "      <td>1</td>\n",
       "      <td>1</td>\n",
       "      <td>1</td>\n",
       "      <td>1</td>\n",
       "      <td>1</td>\n",
       "      <td>...</td>\n",
       "      <td>1</td>\n",
       "      <td>1</td>\n",
       "      <td>1</td>\n",
       "      <td>1</td>\n",
       "      <td>1</td>\n",
       "      <td>1</td>\n",
       "      <td>1</td>\n",
       "      <td>1</td>\n",
       "      <td>1</td>\n",
       "      <td>1</td>\n",
       "    </tr>\n",
       "    <tr>\n",
       "      <th>57.000000</th>\n",
       "      <td>1</td>\n",
       "      <td>1</td>\n",
       "      <td>1</td>\n",
       "      <td>1</td>\n",
       "      <td>1</td>\n",
       "      <td>1</td>\n",
       "      <td>1</td>\n",
       "      <td>1</td>\n",
       "      <td>1</td>\n",
       "      <td>1</td>\n",
       "      <td>...</td>\n",
       "      <td>1</td>\n",
       "      <td>1</td>\n",
       "      <td>1</td>\n",
       "      <td>1</td>\n",
       "      <td>1</td>\n",
       "      <td>1</td>\n",
       "      <td>1</td>\n",
       "      <td>1</td>\n",
       "      <td>1</td>\n",
       "      <td>1</td>\n",
       "    </tr>\n",
       "    <tr>\n",
       "      <th>57.666667</th>\n",
       "      <td>1</td>\n",
       "      <td>1</td>\n",
       "      <td>1</td>\n",
       "      <td>1</td>\n",
       "      <td>1</td>\n",
       "      <td>1</td>\n",
       "      <td>1</td>\n",
       "      <td>1</td>\n",
       "      <td>1</td>\n",
       "      <td>1</td>\n",
       "      <td>...</td>\n",
       "      <td>1</td>\n",
       "      <td>1</td>\n",
       "      <td>1</td>\n",
       "      <td>1</td>\n",
       "      <td>1</td>\n",
       "      <td>1</td>\n",
       "      <td>1</td>\n",
       "      <td>1</td>\n",
       "      <td>1</td>\n",
       "      <td>1</td>\n",
       "    </tr>\n",
       "  </tbody>\n",
       "</table>\n",
       "<p>5 rows × 31 columns</p>\n",
       "</div>"
      ],
      "text/plain": [
       "Sigma            20.0  20.5  21.0  21.5  22.0  22.5  23.0  23.5  24.0  24.5  \\\n",
       "Slope Intercept                                                               \n",
       "-0.5  55.000000     1     1     1     1     1     1     1     1     1     1   \n",
       "      55.666667     1     1     1     1     1     1     1     1     1     1   \n",
       "      56.333333     1     1     1     1     1     1     1     1     1     1   \n",
       "      57.000000     1     1     1     1     1     1     1     1     1     1   \n",
       "      57.666667     1     1     1     1     1     1     1     1     1     1   \n",
       "\n",
       "Sigma            ...  30.5  31.0  31.5  32.0  32.5  33.0  33.5  34.0  34.5  \\\n",
       "Slope Intercept  ...                                                         \n",
       "-0.5  55.000000  ...     1     1     1     1     1     1     1     1     1   \n",
       "      55.666667  ...     1     1     1     1     1     1     1     1     1   \n",
       "      56.333333  ...     1     1     1     1     1     1     1     1     1   \n",
       "      57.000000  ...     1     1     1     1     1     1     1     1     1   \n",
       "      57.666667  ...     1     1     1     1     1     1     1     1     1   \n",
       "\n",
       "Sigma            35.0  \n",
       "Slope Intercept        \n",
       "-0.5  55.000000     1  \n",
       "      55.666667     1  \n",
       "      56.333333     1  \n",
       "      57.000000     1  \n",
       "      57.666667     1  \n",
       "\n",
       "[5 rows x 31 columns]"
      ]
     },
     "execution_count": 298,
     "metadata": {},
     "output_type": "execute_result"
    }
   ],
   "source": [
    "joint3 = make_joint(prior_sigma, prior2)\n",
    "joint3.head()"
   ]
  },
  {
   "cell_type": "code",
   "execution_count": 299,
   "metadata": {},
   "outputs": [
    {
     "data": {
      "text/plain": [
       "Slope  Intercept  Sigma\n",
       "-0.5   55.0       20.0     1\n",
       "                  20.5     1\n",
       "                  21.0     1\n",
       "                  21.5     1\n",
       "                  22.0     1\n",
       "dtype: int64"
      ]
     },
     "execution_count": 299,
     "metadata": {},
     "output_type": "execute_result"
    }
   ],
   "source": [
    "prior3 = Pmf(joint3.stack())\n",
    "prior3.head()"
   ]
  },
  {
   "cell_type": "code",
   "execution_count": 300,
   "metadata": {},
   "outputs": [
    {
     "data": {
      "text/plain": [
       "29791"
      ]
     },
     "execution_count": 300,
     "metadata": {},
     "output_type": "execute_result"
    }
   ],
   "source": [
    "len(prior3)"
   ]
  },
  {
   "cell_type": "code",
   "execution_count": 301,
   "metadata": {},
   "outputs": [],
   "source": [
    "xs = data['x']\n",
    "ys = data['SNOW']"
   ]
  },
  {
   "cell_type": "code",
   "execution_count": 302,
   "metadata": {},
   "outputs": [],
   "source": [
    "likelihood = prior3.copy()\n",
    "\n",
    "for slope, inter, sigma in prior3.index:\n",
    "    resid = slope * xs + inter - ys\n",
    "    densities = norm.pdf(resid, 0, sigma)\n",
    "    likelihood.loc[slope, inter, sigma] = densities.prod()"
   ]
  },
  {
   "cell_type": "code",
   "execution_count": 303,
   "metadata": {},
   "outputs": [
    {
     "data": {
      "text/plain": [
       "Slope  Intercept  Sigma\n",
       "-0.5   55.0       20.0     7.192950e-116\n",
       "                  20.5     3.868990e-115\n",
       "                  21.0     1.741017e-114\n",
       "                  21.5     6.671900e-114\n",
       "                  22.0     2.211914e-113\n",
       "dtype: float64"
      ]
     },
     "execution_count": 303,
     "metadata": {},
     "output_type": "execute_result"
    }
   ],
   "source": [
    "likelihood.head()"
   ]
  },
  {
   "cell_type": "code",
   "execution_count": 304,
   "metadata": {},
   "outputs": [
    {
     "data": {
      "text/plain": [
       "2.068055459698619e-102"
      ]
     },
     "execution_count": 304,
     "metadata": {},
     "output_type": "execute_result"
    }
   ],
   "source": [
    "likelihood.sum()"
   ]
  },
  {
   "cell_type": "code",
   "execution_count": 305,
   "metadata": {},
   "outputs": [
    {
     "data": {
      "text/plain": [
       "(29791,)"
      ]
     },
     "execution_count": 305,
     "metadata": {},
     "output_type": "execute_result"
    }
   ],
   "source": [
    "posterior3 = prior3 * likelihood\n",
    "posterior3.normalize()\n",
    "posterior3.shape"
   ]
  },
  {
   "cell_type": "code",
   "execution_count": 306,
   "metadata": {},
   "outputs": [
    {
     "data": {
      "text/html": [
       "<div>\n",
       "<style scoped>\n",
       "    .dataframe tbody tr th:only-of-type {\n",
       "        vertical-align: middle;\n",
       "    }\n",
       "\n",
       "    .dataframe tbody tr th {\n",
       "        vertical-align: top;\n",
       "    }\n",
       "\n",
       "    .dataframe thead th {\n",
       "        text-align: right;\n",
       "    }\n",
       "</style>\n",
       "<table border=\"1\" class=\"dataframe\">\n",
       "  <thead>\n",
       "    <tr style=\"text-align: right;\">\n",
       "      <th></th>\n",
       "      <th>Sigma</th>\n",
       "      <th>20.0</th>\n",
       "      <th>20.5</th>\n",
       "      <th>21.0</th>\n",
       "      <th>21.5</th>\n",
       "      <th>22.0</th>\n",
       "      <th>22.5</th>\n",
       "      <th>23.0</th>\n",
       "      <th>23.5</th>\n",
       "      <th>24.0</th>\n",
       "      <th>24.5</th>\n",
       "      <th>...</th>\n",
       "      <th>30.5</th>\n",
       "      <th>31.0</th>\n",
       "      <th>31.5</th>\n",
       "      <th>32.0</th>\n",
       "      <th>32.5</th>\n",
       "      <th>33.0</th>\n",
       "      <th>33.5</th>\n",
       "      <th>34.0</th>\n",
       "      <th>34.5</th>\n",
       "      <th>35.0</th>\n",
       "    </tr>\n",
       "    <tr>\n",
       "      <th>Slope</th>\n",
       "      <th>Intercept</th>\n",
       "      <th></th>\n",
       "      <th></th>\n",
       "      <th></th>\n",
       "      <th></th>\n",
       "      <th></th>\n",
       "      <th></th>\n",
       "      <th></th>\n",
       "      <th></th>\n",
       "      <th></th>\n",
       "      <th></th>\n",
       "      <th></th>\n",
       "      <th></th>\n",
       "      <th></th>\n",
       "      <th></th>\n",
       "      <th></th>\n",
       "      <th></th>\n",
       "      <th></th>\n",
       "      <th></th>\n",
       "      <th></th>\n",
       "      <th></th>\n",
       "      <th></th>\n",
       "    </tr>\n",
       "  </thead>\n",
       "  <tbody>\n",
       "    <tr>\n",
       "      <th rowspan=\"5\" valign=\"top\">-0.5</th>\n",
       "      <th>55.000000</th>\n",
       "      <td>3.478122e-14</td>\n",
       "      <td>1.870835e-13</td>\n",
       "      <td>8.418618e-13</td>\n",
       "      <td>3.226171e-12</td>\n",
       "      <td>1.069562e-11</td>\n",
       "      <td>3.110661e-11</td>\n",
       "      <td>8.035427e-11</td>\n",
       "      <td>1.864101e-10</td>\n",
       "      <td>3.922068e-10</td>\n",
       "      <td>7.550533e-10</td>\n",
       "      <td>...</td>\n",
       "      <td>1.784583e-08</td>\n",
       "      <td>1.787264e-08</td>\n",
       "      <td>1.743164e-08</td>\n",
       "      <td>1.659120e-08</td>\n",
       "      <td>1.543925e-08</td>\n",
       "      <td>1.407136e-08</td>\n",
       "      <td>1.258052e-08</td>\n",
       "      <td>1.104969e-08</td>\n",
       "      <td>9.547227e-09</td>\n",
       "      <td>8.124951e-09</td>\n",
       "    </tr>\n",
       "    <tr>\n",
       "      <th>55.666667</th>\n",
       "      <td>7.494007e-14</td>\n",
       "      <td>3.884553e-13</td>\n",
       "      <td>1.688949e-12</td>\n",
       "      <td>6.268486e-12</td>\n",
       "      <td>2.017056e-11</td>\n",
       "      <td>5.704999e-11</td>\n",
       "      <td>1.435767e-10</td>\n",
       "      <td>3.250363e-10</td>\n",
       "      <td>6.683771e-10</td>\n",
       "      <td>1.259306e-09</td>\n",
       "      <td>...</td>\n",
       "      <td>2.482464e-08</td>\n",
       "      <td>2.460073e-08</td>\n",
       "      <td>2.375349e-08</td>\n",
       "      <td>2.239237e-08</td>\n",
       "      <td>2.064775e-08</td>\n",
       "      <td>1.865459e-08</td>\n",
       "      <td>1.653942e-08</td>\n",
       "      <td>1.441129e-08</td>\n",
       "      <td>1.235693e-08</td>\n",
       "      <td>1.043941e-08</td>\n",
       "    </tr>\n",
       "    <tr>\n",
       "      <th>56.333333</th>\n",
       "      <td>1.524021e-13</td>\n",
       "      <td>7.634196e-13</td>\n",
       "      <td>3.215382e-12</td>\n",
       "      <td>1.158576e-11</td>\n",
       "      <td>3.626536e-11</td>\n",
       "      <td>9.996138e-11</td>\n",
       "      <td>2.455758e-10</td>\n",
       "      <td>5.435252e-10</td>\n",
       "      <td>1.094215e-09</td>\n",
       "      <td>2.020986e-09</td>\n",
       "      <td>...</td>\n",
       "      <td>3.368522e-08</td>\n",
       "      <td>3.305697e-08</td>\n",
       "      <td>3.162286e-08</td>\n",
       "      <td>2.954750e-08</td>\n",
       "      <td>2.701572e-08</td>\n",
       "      <td>2.421133e-08</td>\n",
       "      <td>2.130092e-08</td>\n",
       "      <td>1.842353e-08</td>\n",
       "      <td>1.568597e-08</td>\n",
       "      <td>1.316248e-08</td>\n",
       "    </tr>\n",
       "    <tr>\n",
       "      <th>57.000000</th>\n",
       "      <td>2.925331e-13</td>\n",
       "      <td>1.420045e-12</td>\n",
       "      <td>5.808834e-12</td>\n",
       "      <td>2.036915e-11</td>\n",
       "      <td>6.216251e-11</td>\n",
       "      <td>1.673334e-10</td>\n",
       "      <td>4.020808e-10</td>\n",
       "      <td>8.716311e-10</td>\n",
       "      <td>1.720910e-09</td>\n",
       "      <td>3.120859e-09</td>\n",
       "      <td>...</td>\n",
       "      <td>4.458680e-08</td>\n",
       "      <td>4.336442e-08</td>\n",
       "      <td>4.113008e-08</td>\n",
       "      <td>3.811883e-08</td>\n",
       "      <td>3.458262e-08</td>\n",
       "      <td>3.076344e-08</td>\n",
       "      <td>2.687402e-08</td>\n",
       "      <td>2.308663e-08</td>\n",
       "      <td>1.952897e-08</td>\n",
       "      <td>1.628569e-08</td>\n",
       "    </tr>\n",
       "    <tr>\n",
       "      <th>57.666667</th>\n",
       "      <td>5.299886e-13</td>\n",
       "      <td>2.500099e-12</td>\n",
       "      <td>9.958309e-12</td>\n",
       "      <td>3.406497e-11</td>\n",
       "      <td>1.015845e-10</td>\n",
       "      <td>2.676128e-10</td>\n",
       "      <td>6.301844e-10</td>\n",
       "      <td>1.340513e-09</td>\n",
       "      <td>2.600091e-09</td>\n",
       "      <td>4.637283e-09</td>\n",
       "      <td>...</td>\n",
       "      <td>5.756832e-08</td>\n",
       "      <td>5.553411e-08</td>\n",
       "      <td>5.226399e-08</td>\n",
       "      <td>4.807912e-08</td>\n",
       "      <td>4.331085e-08</td>\n",
       "      <td>3.826788e-08</td>\n",
       "      <td>3.321417e-08</td>\n",
       "      <td>2.835734e-08</td>\n",
       "      <td>2.384594e-08</td>\n",
       "      <td>1.977338e-08</td>\n",
       "    </tr>\n",
       "  </tbody>\n",
       "</table>\n",
       "<p>5 rows × 31 columns</p>\n",
       "</div>"
      ],
      "text/plain": [
       "Sigma                    20.0          20.5          21.0          21.5  \\\n",
       "Slope Intercept                                                           \n",
       "-0.5  55.000000  3.478122e-14  1.870835e-13  8.418618e-13  3.226171e-12   \n",
       "      55.666667  7.494007e-14  3.884553e-13  1.688949e-12  6.268486e-12   \n",
       "      56.333333  1.524021e-13  7.634196e-13  3.215382e-12  1.158576e-11   \n",
       "      57.000000  2.925331e-13  1.420045e-12  5.808834e-12  2.036915e-11   \n",
       "      57.666667  5.299886e-13  2.500099e-12  9.958309e-12  3.406497e-11   \n",
       "\n",
       "Sigma                    22.0          22.5          23.0          23.5  \\\n",
       "Slope Intercept                                                           \n",
       "-0.5  55.000000  1.069562e-11  3.110661e-11  8.035427e-11  1.864101e-10   \n",
       "      55.666667  2.017056e-11  5.704999e-11  1.435767e-10  3.250363e-10   \n",
       "      56.333333  3.626536e-11  9.996138e-11  2.455758e-10  5.435252e-10   \n",
       "      57.000000  6.216251e-11  1.673334e-10  4.020808e-10  8.716311e-10   \n",
       "      57.666667  1.015845e-10  2.676128e-10  6.301844e-10  1.340513e-09   \n",
       "\n",
       "Sigma                    24.0          24.5  ...          30.5          31.0  \\\n",
       "Slope Intercept                              ...                               \n",
       "-0.5  55.000000  3.922068e-10  7.550533e-10  ...  1.784583e-08  1.787264e-08   \n",
       "      55.666667  6.683771e-10  1.259306e-09  ...  2.482464e-08  2.460073e-08   \n",
       "      56.333333  1.094215e-09  2.020986e-09  ...  3.368522e-08  3.305697e-08   \n",
       "      57.000000  1.720910e-09  3.120859e-09  ...  4.458680e-08  4.336442e-08   \n",
       "      57.666667  2.600091e-09  4.637283e-09  ...  5.756832e-08  5.553411e-08   \n",
       "\n",
       "Sigma                    31.5          32.0          32.5          33.0  \\\n",
       "Slope Intercept                                                           \n",
       "-0.5  55.000000  1.743164e-08  1.659120e-08  1.543925e-08  1.407136e-08   \n",
       "      55.666667  2.375349e-08  2.239237e-08  2.064775e-08  1.865459e-08   \n",
       "      56.333333  3.162286e-08  2.954750e-08  2.701572e-08  2.421133e-08   \n",
       "      57.000000  4.113008e-08  3.811883e-08  3.458262e-08  3.076344e-08   \n",
       "      57.666667  5.226399e-08  4.807912e-08  4.331085e-08  3.826788e-08   \n",
       "\n",
       "Sigma                    33.5          34.0          34.5          35.0  \n",
       "Slope Intercept                                                          \n",
       "-0.5  55.000000  1.258052e-08  1.104969e-08  9.547227e-09  8.124951e-09  \n",
       "      55.666667  1.653942e-08  1.441129e-08  1.235693e-08  1.043941e-08  \n",
       "      56.333333  2.130092e-08  1.842353e-08  1.568597e-08  1.316248e-08  \n",
       "      57.000000  2.687402e-08  2.308663e-08  1.952897e-08  1.628569e-08  \n",
       "      57.666667  3.321417e-08  2.835734e-08  2.384594e-08  1.977338e-08  \n",
       "\n",
       "[5 rows x 31 columns]"
      ]
     },
     "execution_count": 306,
     "metadata": {},
     "output_type": "execute_result"
    }
   ],
   "source": [
    "unstacked = posterior3.unstack()\n",
    "unstacked.head()"
   ]
  },
  {
   "cell_type": "code",
   "execution_count": 307,
   "metadata": {},
   "outputs": [
    {
     "data": {
      "image/png": "[encoded data removed]",
      "text/plain": [
       "<Figure size 432x288 with 1 Axes>"
      ]
     },
     "metadata": {
      "needs_background": "light"
     },
     "output_type": "display_data"
    }
   ],
   "source": [
    "from utils import marginal\n",
    "\n",
    "posterior_sigma = marginal(unstacked, 0)\n",
    "posterior_sigma.plot()"
   ]
  },
  {
   "cell_type": "code",
   "execution_count": 308,
   "metadata": {},
   "outputs": [
    {
     "data": {
      "text/plain": [
       "Slope  Intercept\n",
       "-0.5   55.000000    2.417800e-07\n",
       "       55.666667    3.373220e-07\n",
       "       56.333333    4.602445e-07\n",
       "       57.000000    6.137779e-07\n",
       "       57.666667    7.996044e-07\n",
       "dtype: float64"
      ]
     },
     "execution_count": 308,
     "metadata": {},
     "output_type": "execute_result"
    }
   ],
   "source": [
    "posterior2 = marginal(unstacked, 1)\n",
    "posterior2.head()"
   ]
  },
  {
   "cell_type": "code",
   "execution_count": 309,
   "metadata": {},
   "outputs": [
    {
     "data": {
      "text/html": [
       "<div>\n",
       "<style scoped>\n",
       "    .dataframe tbody tr th:only-of-type {\n",
       "        vertical-align: middle;\n",
       "    }\n",
       "\n",
       "    .dataframe tbody tr th {\n",
       "        vertical-align: top;\n",
       "    }\n",
       "\n",
       "    .dataframe thead th {\n",
       "        text-align: right;\n",
       "    }\n",
       "</style>\n",
       "<table border=\"1\" class=\"dataframe\">\n",
       "  <thead>\n",
       "    <tr style=\"text-align: right;\">\n",
       "      <th>Slope</th>\n",
       "      <th>-0.500000</th>\n",
       "      <th>-0.433333</th>\n",
       "      <th>-0.366667</th>\n",
       "      <th>-0.300000</th>\n",
       "      <th>-0.233333</th>\n",
       "      <th>-0.166667</th>\n",
       "      <th>-0.100000</th>\n",
       "      <th>-0.033333</th>\n",
       "      <th>0.033333</th>\n",
       "      <th>0.100000</th>\n",
       "      <th>...</th>\n",
       "      <th>0.900000</th>\n",
       "      <th>0.966667</th>\n",
       "      <th>1.033333</th>\n",
       "      <th>1.100000</th>\n",
       "      <th>1.166667</th>\n",
       "      <th>1.233333</th>\n",
       "      <th>1.300000</th>\n",
       "      <th>1.366667</th>\n",
       "      <th>1.433333</th>\n",
       "      <th>1.500000</th>\n",
       "    </tr>\n",
       "    <tr>\n",
       "      <th>Intercept</th>\n",
       "      <th></th>\n",
       "      <th></th>\n",
       "      <th></th>\n",
       "      <th></th>\n",
       "      <th></th>\n",
       "      <th></th>\n",
       "      <th></th>\n",
       "      <th></th>\n",
       "      <th></th>\n",
       "      <th></th>\n",
       "      <th></th>\n",
       "      <th></th>\n",
       "      <th></th>\n",
       "      <th></th>\n",
       "      <th></th>\n",
       "      <th></th>\n",
       "      <th></th>\n",
       "      <th></th>\n",
       "      <th></th>\n",
       "      <th></th>\n",
       "      <th></th>\n",
       "    </tr>\n",
       "  </thead>\n",
       "  <tbody>\n",
       "    <tr>\n",
       "      <th>55.000000</th>\n",
       "      <td>2.417800e-07</td>\n",
       "      <td>5.570113e-07</td>\n",
       "      <td>0.000001</td>\n",
       "      <td>0.000003</td>\n",
       "      <td>0.000005</td>\n",
       "      <td>0.000010</td>\n",
       "      <td>0.000019</td>\n",
       "      <td>0.000034</td>\n",
       "      <td>0.000057</td>\n",
       "      <td>0.000089</td>\n",
       "      <td>...</td>\n",
       "      <td>0.000103</td>\n",
       "      <td>0.000067</td>\n",
       "      <td>0.000041</td>\n",
       "      <td>0.000024</td>\n",
       "      <td>0.000013</td>\n",
       "      <td>0.000007</td>\n",
       "      <td>0.000003</td>\n",
       "      <td>0.000002</td>\n",
       "      <td>7.431272e-07</td>\n",
       "      <td>3.269255e-07</td>\n",
       "    </tr>\n",
       "    <tr>\n",
       "      <th>55.666667</th>\n",
       "      <td>3.373220e-07</td>\n",
       "      <td>7.833851e-07</td>\n",
       "      <td>0.000002</td>\n",
       "      <td>0.000004</td>\n",
       "      <td>0.000008</td>\n",
       "      <td>0.000015</td>\n",
       "      <td>0.000028</td>\n",
       "      <td>0.000050</td>\n",
       "      <td>0.000084</td>\n",
       "      <td>0.000133</td>\n",
       "      <td>...</td>\n",
       "      <td>0.000155</td>\n",
       "      <td>0.000100</td>\n",
       "      <td>0.000061</td>\n",
       "      <td>0.000035</td>\n",
       "      <td>0.000019</td>\n",
       "      <td>0.000010</td>\n",
       "      <td>0.000005</td>\n",
       "      <td>0.000002</td>\n",
       "      <td>1.048209e-06</td>\n",
       "      <td>4.574037e-07</td>\n",
       "    </tr>\n",
       "    <tr>\n",
       "      <th>56.333333</th>\n",
       "      <td>4.602445e-07</td>\n",
       "      <td>1.077162e-06</td>\n",
       "      <td>0.000002</td>\n",
       "      <td>0.000005</td>\n",
       "      <td>0.000011</td>\n",
       "      <td>0.000022</td>\n",
       "      <td>0.000041</td>\n",
       "      <td>0.000073</td>\n",
       "      <td>0.000123</td>\n",
       "      <td>0.000195</td>\n",
       "      <td>...</td>\n",
       "      <td>0.000227</td>\n",
       "      <td>0.000146</td>\n",
       "      <td>0.000088</td>\n",
       "      <td>0.000050</td>\n",
       "      <td>0.000027</td>\n",
       "      <td>0.000014</td>\n",
       "      <td>0.000007</td>\n",
       "      <td>0.000003</td>\n",
       "      <td>1.445375e-06</td>\n",
       "      <td>6.257868e-07</td>\n",
       "    </tr>\n",
       "    <tr>\n",
       "      <th>57.000000</th>\n",
       "      <td>6.137779e-07</td>\n",
       "      <td>1.447144e-06</td>\n",
       "      <td>0.000003</td>\n",
       "      <td>0.000007</td>\n",
       "      <td>0.000015</td>\n",
       "      <td>0.000030</td>\n",
       "      <td>0.000057</td>\n",
       "      <td>0.000102</td>\n",
       "      <td>0.000174</td>\n",
       "      <td>0.000278</td>\n",
       "      <td>...</td>\n",
       "      <td>0.000323</td>\n",
       "      <td>0.000207</td>\n",
       "      <td>0.000124</td>\n",
       "      <td>0.000070</td>\n",
       "      <td>0.000038</td>\n",
       "      <td>0.000019</td>\n",
       "      <td>0.000009</td>\n",
       "      <td>0.000004</td>\n",
       "      <td>1.947072e-06</td>\n",
       "      <td>8.367157e-07</td>\n",
       "    </tr>\n",
       "    <tr>\n",
       "      <th>57.666667</th>\n",
       "      <td>7.996044e-07</td>\n",
       "      <td>1.898467e-06</td>\n",
       "      <td>0.000004</td>\n",
       "      <td>0.000010</td>\n",
       "      <td>0.000020</td>\n",
       "      <td>0.000040</td>\n",
       "      <td>0.000077</td>\n",
       "      <td>0.000140</td>\n",
       "      <td>0.000239</td>\n",
       "      <td>0.000385</td>\n",
       "      <td>...</td>\n",
       "      <td>0.000449</td>\n",
       "      <td>0.000285</td>\n",
       "      <td>0.000170</td>\n",
       "      <td>0.000096</td>\n",
       "      <td>0.000051</td>\n",
       "      <td>0.000026</td>\n",
       "      <td>0.000013</td>\n",
       "      <td>0.000006</td>\n",
       "      <td>2.560813e-06</td>\n",
       "      <td>1.092716e-06</td>\n",
       "    </tr>\n",
       "  </tbody>\n",
       "</table>\n",
       "<p>5 rows × 31 columns</p>\n",
       "</div>"
      ],
      "text/plain": [
       "Slope         -0.500000     -0.433333  -0.366667  -0.300000  -0.233333  \\\n",
       "Intercept                                                                \n",
       "55.000000  2.417800e-07  5.570113e-07   0.000001   0.000003   0.000005   \n",
       "55.666667  3.373220e-07  7.833851e-07   0.000002   0.000004   0.000008   \n",
       "56.333333  4.602445e-07  1.077162e-06   0.000002   0.000005   0.000011   \n",
       "57.000000  6.137779e-07  1.447144e-06   0.000003   0.000007   0.000015   \n",
       "57.666667  7.996044e-07  1.898467e-06   0.000004   0.000010   0.000020   \n",
       "\n",
       "Slope      -0.166667  -0.100000  -0.033333   0.033333   0.100000  ...  \\\n",
       "Intercept                                                         ...   \n",
       "55.000000   0.000010   0.000019   0.000034   0.000057   0.000089  ...   \n",
       "55.666667   0.000015   0.000028   0.000050   0.000084   0.000133  ...   \n",
       "56.333333   0.000022   0.000041   0.000073   0.000123   0.000195  ...   \n",
       "57.000000   0.000030   0.000057   0.000102   0.000174   0.000278  ...   \n",
       "57.666667   0.000040   0.000077   0.000140   0.000239   0.000385  ...   \n",
       "\n",
       "Slope       0.900000   0.966667   1.033333   1.100000   1.166667   1.233333  \\\n",
       "Intercept                                                                     \n",
       "55.000000   0.000103   0.000067   0.000041   0.000024   0.000013   0.000007   \n",
       "55.666667   0.000155   0.000100   0.000061   0.000035   0.000019   0.000010   \n",
       "56.333333   0.000227   0.000146   0.000088   0.000050   0.000027   0.000014   \n",
       "57.000000   0.000323   0.000207   0.000124   0.000070   0.000038   0.000019   \n",
       "57.666667   0.000449   0.000285   0.000170   0.000096   0.000051   0.000026   \n",
       "\n",
       "Slope       1.300000   1.366667      1.433333      1.500000  \n",
       "Intercept                                                    \n",
       "55.000000   0.000003   0.000002  7.431272e-07  3.269255e-07  \n",
       "55.666667   0.000005   0.000002  1.048209e-06  4.574037e-07  \n",
       "56.333333   0.000007   0.000003  1.445375e-06  6.257868e-07  \n",
       "57.000000   0.000009   0.000004  1.947072e-06  8.367157e-07  \n",
       "57.666667   0.000013   0.000006  2.560813e-06  1.092716e-06  \n",
       "\n",
       "[5 rows x 31 columns]"
      ]
     },
     "execution_count": 309,
     "metadata": {},
     "output_type": "execute_result"
    }
   ],
   "source": [
    "joint_posterior = posterior2.unstack().transpose()\n",
    "joint_posterior.head()"
   ]
  },
  {
   "cell_type": "code",
   "execution_count": 310,
   "metadata": {},
   "outputs": [],
   "source": [
    "def plot_contour(joint, **options):\n",
    "    \"\"\"Plot a joint distribution.\n",
    "    \n",
    "    joint: DataFrame representing a joint PMF\n",
    "    \"\"\"\n",
    "    cs = plt.contour(joint.columns, joint.index, joint, **options)\n",
    "    decorate(xlabel=joint.columns.name, \n",
    "             ylabel=joint.index.name)\n",
    "    return cs"
   ]
  },
  {
   "cell_type": "code",
   "execution_count": 311,
   "metadata": {},
   "outputs": [
    {
     "data": {
      "text/plain": [
       "<matplotlib.contour.QuadContourSet at 0x7f050a71f2d0>"
      ]
     },
     "execution_count": 311,
     "metadata": {},
     "output_type": "execute_result"
    },
    {
     "data": {
      "image/png": "[encoded data removed]",
      "text/plain": [
       "<Figure size 432x288 with 1 Axes>"
      ]
     },
     "metadata": {
      "needs_background": "light"
     },
     "output_type": "display_data"
    }
   ],
   "source": [
    "plot_contour(joint_posterior)"
   ]
  },
  {
   "cell_type": "code",
   "execution_count": 312,
   "metadata": {},
   "outputs": [
    {
     "data": {
      "image/png": "[encoded data removed]",
      "text/plain": [
       "<Figure size 432x288 with 1 Axes>"
      ]
     },
     "metadata": {
      "needs_background": "light"
     },
     "output_type": "display_data"
    }
   ],
   "source": [
    "posterior_slope = marginal(joint_posterior, 0)\n",
    "\n",
    "posterior_slope.plot()\n",
    "decorate(xlabel='Slope',\n",
    "         ylabel='PDF',\n",
    "         title='Posterior marginal distribution of slope')"
   ]
  },
  {
   "cell_type": "code",
   "execution_count": 313,
   "metadata": {},
   "outputs": [
    {
     "data": {
      "text/plain": [
       "(0.5118684538574172, array([0.1, 0.9]))"
      ]
     },
     "execution_count": 313,
     "metadata": {},
     "output_type": "execute_result"
    }
   ],
   "source": [
    "posterior_slope.mean(), posterior_slope.credible_interval(0.9)"
   ]
  },
  {
   "cell_type": "code",
   "execution_count": 314,
   "metadata": {},
   "outputs": [
    {
     "data": {
      "image/png": "[encoded data removed]",
      "text/plain": [
       "<Figure size 432x288 with 1 Axes>"
      ]
     },
     "metadata": {
      "needs_background": "light"
     },
     "output_type": "display_data"
    }
   ],
   "source": [
    "posterior_inter = marginal(joint_posterior, 1)\n",
    "\n",
    "posterior_inter.plot()\n",
    "decorate(xlabel='intercept',\n",
    "         ylabel='PDF',\n",
    "         title='Posterior marginal distribution of intercept')"
   ]
  },
  {
   "cell_type": "code",
   "execution_count": 315,
   "metadata": {},
   "outputs": [
    {
     "data": {
      "text/plain": [
       "(64.22861083706859, array([58.33333333, 70.33333333]))"
      ]
     },
     "execution_count": 315,
     "metadata": {},
     "output_type": "execute_result"
    }
   ],
   "source": [
    "posterior_inter.mean(), posterior_inter.credible_interval(0.9)"
   ]
  },
  {
   "cell_type": "code",
   "execution_count": null,
   "metadata": {},
   "outputs": [],
   "source": []
  },
  {
   "cell_type": "markdown",
   "metadata": {},
   "source": [
    "## GSS data\n",
    "\n",
    "Another example using data from the [General Social Survey](https://gss.norc.org/) ...\n"
   ]
  },
  {
   "cell_type": "code",
   "execution_count": 37,
   "metadata": {},
   "outputs": [],
   "source": [
    "# Load the data file\n",
    "\n",
    "# TODO: Update this to point to the ThinkBayes2 repo\n",
    "\n",
    "import os\n",
    "\n",
    "datafile = 'gss_eda.hdf5'\n",
    "if not os.path.exists(datafile):\n",
    "    !wget https://github.com/AllenDowney/PoliticalAlignmentCaseStudy/raw/master/gss_eda.hdf5"
   ]
  },
  {
   "cell_type": "code",
   "execution_count": 38,
   "metadata": {},
   "outputs": [
    {
     "data": {
      "text/plain": [
       "(64814, 169)"
      ]
     },
     "execution_count": 38,
     "metadata": {},
     "output_type": "execute_result"
    }
   ],
   "source": [
    "gss = pd.read_hdf(datafile, 'gss')\n",
    "gss.shape"
   ]
  },
  {
   "cell_type": "code",
   "execution_count": 40,
   "metadata": {},
   "outputs": [
    {
     "data": {
      "text/plain": [
       "year\n",
       "1972              NaN\n",
       "1973              NaN\n",
       "1974     96450.000000\n",
       "1975     75863.000000\n",
       "1976     81652.000000\n",
       "1977    201640.000000\n",
       "1978    135131.000000\n",
       "1980    139297.000000\n",
       "1982     97992.000000\n",
       "1983     81266.000000\n",
       "1984     87058.000000\n",
       "1985     96036.000000\n",
       "1986    101376.000000\n",
       "1987     92594.000000\n",
       "1988     83666.000000\n",
       "1989     80690.000000\n",
       "1990    103206.000000\n",
       "1991    111284.000000\n",
       "1993    123611.000000\n",
       "1994     97684.000000\n",
       "1996     87419.000000\n",
       "1998    150054.000000\n",
       "2000    134018.000000\n",
       "2002    234366.656250\n",
       "2004    134008.437500\n",
       "2006    159292.265625\n",
       "2008    480144.468750\n",
       "2010    109525.156250\n",
       "2012    341672.375000\n",
       "2014    132148.078125\n",
       "2016    164382.031250\n",
       "2018    151050.718750\n",
       "Name: realrinc, dtype: float32"
      ]
     },
     "execution_count": 40,
     "metadata": {},
     "output_type": "execute_result"
    }
   ],
   "source": [
    "gss.groupby('year')['realrinc'].max()"
   ]
  },
  {
   "cell_type": "code",
   "execution_count": 41,
   "metadata": {},
   "outputs": [
    {
     "data": {
      "text/plain": [
       "12.0    14957\n",
       "9.0      4876\n",
       "11.0     3838\n",
       "10.0     3838\n",
       "2.0      1865\n",
       "8.0      1745\n",
       "1.0      1306\n",
       "3.0      1243\n",
       "5.0      1091\n",
       "4.0      1055\n",
       "6.0       993\n",
       "7.0       981\n",
       "Name: rincome, dtype: int64"
      ]
     },
     "execution_count": 41,
     "metadata": {},
     "output_type": "execute_result"
    }
   ],
   "source": [
    "gss['rincome'].value_counts()"
   ]
  },
  {
   "cell_type": "code",
   "execution_count": 42,
   "metadata": {},
   "outputs": [
    {
     "data": {
      "text/plain": [
       "(36916, 169)"
      ]
     },
     "execution_count": 42,
     "metadata": {},
     "output_type": "execute_result"
    }
   ],
   "source": [
    "valid = gss.dropna(subset=['rincome', 'realinc'])\n",
    "valid.shape"
   ]
  },
  {
   "cell_type": "code",
   "execution_count": 50,
   "metadata": {},
   "outputs": [
    {
     "name": "stdout",
     "output_type": "stream",
     "text": [
      "2000\n"
     ]
    },
    {
     "data": {
      "image/png": "[encoded data removed]",
      "text/plain": [
       "<Figure size 432x288 with 1 Axes>"
      ]
     },
     "metadata": {
      "needs_background": "light"
     },
     "output_type": "display_data"
    }
   ],
   "source": [
    "for name, group in valid.groupby('year'):\n",
    "    if name == 2000:\n",
    "        print(name)\n",
    "        plt.plot(group['income'], group['realinc'], '.', alpha=0.3)"
   ]
  },
  {
   "cell_type": "code",
   "execution_count": null,
   "metadata": {},
   "outputs": [],
   "source": [
    "valid = gss.dropna(subset=['realinc', 'polviews'])\n",
    "valid.shape"
   ]
  },
  {
   "cell_type": "code",
   "execution_count": null,
   "metadata": {},
   "outputs": [],
   "source": [
    "plt.plot(valid['realinc'], valid['polviews'], ',', alpha=0.3)"
   ]
  },
  {
   "cell_type": "markdown",
   "metadata": {},
   "source": [
    "## Marathon world record"
   ]
  },
  {
   "cell_type": "code",
   "execution_count": 155,
   "metadata": {},
   "outputs": [
    {
     "data": {
      "text/plain": [
       "5"
      ]
     },
     "execution_count": 155,
     "metadata": {},
     "output_type": "execute_result"
    }
   ],
   "source": [
    "url = 'https://en.wikipedia.org/wiki/Marathon_world_record_progression#Men'\n",
    "tables = pd.read_html(url)\n",
    "len(tables)"
   ]
  },
  {
   "cell_type": "code",
   "execution_count": 156,
   "metadata": {},
   "outputs": [
    {
     "data": {
      "text/html": [
       "<div>\n",
       "<style scoped>\n",
       "    .dataframe tbody tr th:only-of-type {\n",
       "        vertical-align: middle;\n",
       "    }\n",
       "\n",
       "    .dataframe tbody tr th {\n",
       "        vertical-align: top;\n",
       "    }\n",
       "\n",
       "    .dataframe thead th {\n",
       "        text-align: right;\n",
       "    }\n",
       "</style>\n",
       "<table border=\"1\" class=\"dataframe\">\n",
       "  <thead>\n",
       "    <tr style=\"text-align: right;\">\n",
       "      <th></th>\n",
       "      <th>Time</th>\n",
       "      <th>Name</th>\n",
       "      <th>Nationality</th>\n",
       "      <th>Date</th>\n",
       "      <th>Event/Place</th>\n",
       "      <th>Source</th>\n",
       "      <th>Notes</th>\n",
       "    </tr>\n",
       "  </thead>\n",
       "  <tbody>\n",
       "    <tr>\n",
       "      <th>0</th>\n",
       "      <td>2:55:18.4</td>\n",
       "      <td>Johnny Hayes</td>\n",
       "      <td>United States</td>\n",
       "      <td>July 24, 1908</td>\n",
       "      <td>London, United Kingdom</td>\n",
       "      <td>IAAF[53]</td>\n",
       "      <td>Time was officially recorded as 2:55:18 2/5.[5...</td>\n",
       "    </tr>\n",
       "    <tr>\n",
       "      <th>1</th>\n",
       "      <td>2:52:45.4</td>\n",
       "      <td>Robert Fowler</td>\n",
       "      <td>United States</td>\n",
       "      <td>January 1, 1909</td>\n",
       "      <td>Yonkers,[nb 5] United States</td>\n",
       "      <td>IAAF[53]</td>\n",
       "      <td>Note.[56]</td>\n",
       "    </tr>\n",
       "    <tr>\n",
       "      <th>2</th>\n",
       "      <td>2:46:52.8</td>\n",
       "      <td>James Clark</td>\n",
       "      <td>United States</td>\n",
       "      <td>February 12, 1909</td>\n",
       "      <td>New York City, United States</td>\n",
       "      <td>IAAF[53]</td>\n",
       "      <td>Note.[56]</td>\n",
       "    </tr>\n",
       "    <tr>\n",
       "      <th>3</th>\n",
       "      <td>2:46:04.6</td>\n",
       "      <td>Albert Raines</td>\n",
       "      <td>United States</td>\n",
       "      <td>May 8, 1909</td>\n",
       "      <td>New York City, United States</td>\n",
       "      <td>IAAF[53]</td>\n",
       "      <td>Note.[56]</td>\n",
       "    </tr>\n",
       "    <tr>\n",
       "      <th>4</th>\n",
       "      <td>2:42:31.0</td>\n",
       "      <td>Henry Barrett</td>\n",
       "      <td>United Kingdom</td>\n",
       "      <td>May 26, 1909[nb 6]</td>\n",
       "      <td>Polytechnic Marathon, London, United Kingdom</td>\n",
       "      <td>IAAF[53]</td>\n",
       "      <td>Note.[56]</td>\n",
       "    </tr>\n",
       "  </tbody>\n",
       "</table>\n",
       "</div>"
      ],
      "text/plain": [
       "        Time           Name     Nationality                Date  \\\n",
       "0  2:55:18.4   Johnny Hayes   United States       July 24, 1908   \n",
       "1  2:52:45.4  Robert Fowler   United States     January 1, 1909   \n",
       "2  2:46:52.8    James Clark   United States   February 12, 1909   \n",
       "3  2:46:04.6  Albert Raines   United States         May 8, 1909   \n",
       "4  2:42:31.0  Henry Barrett  United Kingdom  May 26, 1909[nb 6]   \n",
       "\n",
       "                                    Event/Place    Source  \\\n",
       "0                        London, United Kingdom  IAAF[53]   \n",
       "1                  Yonkers,[nb 5] United States  IAAF[53]   \n",
       "2                  New York City, United States  IAAF[53]   \n",
       "3                  New York City, United States  IAAF[53]   \n",
       "4  Polytechnic Marathon, London, United Kingdom  IAAF[53]   \n",
       "\n",
       "                                               Notes  \n",
       "0  Time was officially recorded as 2:55:18 2/5.[5...  \n",
       "1                                          Note.[56]  \n",
       "2                                          Note.[56]  \n",
       "3                                          Note.[56]  \n",
       "4                                          Note.[56]  "
      ]
     },
     "execution_count": 156,
     "metadata": {},
     "output_type": "execute_result"
    }
   ],
   "source": [
    "table = tables[0]\n",
    "table.head()"
   ]
  },
  {
   "cell_type": "code",
   "execution_count": 157,
   "metadata": {},
   "outputs": [
    {
     "data": {
      "text/plain": [
       "0    1908-07-24\n",
       "1    1909-01-01\n",
       "2    1909-02-12\n",
       "3    1909-05-08\n",
       "4           NaT\n",
       "5    1909-08-31\n",
       "6    1913-05-12\n",
       "7    1913-05-31\n",
       "8    1914-11-29\n",
       "9    1920-08-22\n",
       "10   1925-10-12\n",
       "11   1929-07-05\n",
       "12   1935-03-21\n",
       "13   1935-03-31\n",
       "14   1935-04-03\n",
       "15   1935-11-03\n",
       "16   1947-04-19\n",
       "17   1952-06-14\n",
       "18   1953-06-13\n",
       "19   1953-10-04\n",
       "20   1954-06-26\n",
       "21   1956-08-12\n",
       "22   1958-08-24\n",
       "23   1960-09-10\n",
       "24   1963-02-17\n",
       "25   1963-06-15\n",
       "26   1963-07-06\n",
       "27   1964-06-13\n",
       "28   1964-10-21\n",
       "29   1965-06-12\n",
       "30   1967-12-03\n",
       "31   1969-05-30\n",
       "32   1970-07-23\n",
       "33   1974-01-31\n",
       "34   1978-02-05\n",
       "35   1980-04-26\n",
       "36   1981-12-06\n",
       "37   1984-10-21\n",
       "38   1985-04-20\n",
       "39   1988-04-17\n",
       "40   1998-09-20\n",
       "41   1999-10-24\n",
       "42   2002-04-14\n",
       "43   2003-09-28\n",
       "44   2007-09-30\n",
       "45   2008-09-28\n",
       "46   2011-09-25\n",
       "47   2013-09-29\n",
       "48   2014-09-28\n",
       "49   2018-09-16\n",
       "Name: date, dtype: datetime64[ns]"
      ]
     },
     "execution_count": 157,
     "metadata": {},
     "output_type": "execute_result"
    }
   ],
   "source": [
    "table['date'] = pd.to_datetime(table['Date'], errors='coerce')\n",
    "table['date']"
   ]
  },
  {
   "cell_type": "code",
   "execution_count": 158,
   "metadata": {},
   "outputs": [
    {
     "data": {
      "text/plain": [
       "<pandas.core.indexes.accessors.DatetimeProperties object at 0x7f91124952d0>"
      ]
     },
     "execution_count": 158,
     "metadata": {},
     "output_type": "execute_result"
    }
   ],
   "source": [
    "table['date'].dt"
   ]
  },
  {
   "cell_type": "code",
   "execution_count": 159,
   "metadata": {},
   "outputs": [],
   "source": [
    "table['time'] = pd.to_timedelta(table['Time'])"
   ]
  },
  {
   "cell_type": "code",
   "execution_count": 160,
   "metadata": {},
   "outputs": [
    {
     "data": {
      "text/plain": [
       "0      8.967143\n",
       "1      9.099504\n",
       "2      9.419942\n",
       "3      9.465508\n",
       "4      9.672854\n",
       "5      9.790123\n",
       "6      9.932394\n",
       "7     10.069823\n",
       "8      9.948528\n",
       "9     10.301667\n",
       "10    10.548212\n",
       "11    10.413355\n",
       "12    10.749943\n",
       "13    10.634795\n",
       "14    10.713312\n",
       "15    10.715746\n",
       "16    10.792997\n",
       "17    11.172443\n",
       "18    11.335993\n",
       "19    11.343628\n",
       "20    11.419716\n",
       "21    11.384705\n",
       "22    11.620057\n",
       "23    11.621202\n",
       "24    11.621775\n",
       "25    11.690630\n",
       "26    11.668935\n",
       "27    11.738643\n",
       "28    11.892274\n",
       "29    11.909091\n",
       "30    12.129006\n",
       "31    12.227754\n",
       "32    12.140871\n",
       "33    12.167183\n",
       "34    12.177236\n",
       "35    12.184472\n",
       "36    12.252533\n",
       "37    12.273260\n",
       "38    12.358491\n",
       "39    12.394218\n",
       "40    12.467944\n",
       "41    12.505967\n",
       "42    12.512603\n",
       "43    12.584390\n",
       "44    12.633271\n",
       "45    12.679124\n",
       "46    12.715018\n",
       "47    12.740781\n",
       "48    12.785685\n",
       "49    12.922318\n",
       "Name: mph, dtype: float64"
      ]
     },
     "execution_count": 160,
     "metadata": {},
     "output_type": "execute_result"
    }
   ],
   "source": [
    "table['mph'] = 26.2 / table['time'].dt.total_seconds() * 3600\n",
    "table['mph']"
   ]
  },
  {
   "cell_type": "code",
   "execution_count": 161,
   "metadata": {},
   "outputs": [],
   "source": [
    "def plot_speeds(df):\n",
    "    plt.axhline(13.1, color='gray')\n",
    "    plt.plot(df['date'], df['mph'], 'o', alpha=0.5)\n",
    "    \n",
    "    decorate(xlabel='Date',\n",
    "             ylabel='Speed (mph)')"
   ]
  },
  {
   "cell_type": "code",
   "execution_count": 162,
   "metadata": {},
   "outputs": [
    {
     "data": {
      "image/png": "[encoded data removed]",
      "text/plain": [
       "<Figure size 432x288 with 1 Axes>"
      ]
     },
     "metadata": {
      "needs_background": "light"
     },
     "output_type": "display_data"
    }
   ],
   "source": [
    "plot_speeds(table)"
   ]
  },
  {
   "cell_type": "code",
   "execution_count": 163,
   "metadata": {},
   "outputs": [],
   "source": [
    "recent = table['date'] > pd.to_datetime('1970')"
   ]
  },
  {
   "cell_type": "code",
   "execution_count": 164,
   "metadata": {},
   "outputs": [
    {
     "data": {
      "image/png": "[encoded data removed]",
      "text/plain": [
       "<Figure size 432x288 with 1 Axes>"
      ]
     },
     "metadata": {
      "needs_background": "light"
     },
     "output_type": "display_data"
    }
   ],
   "source": [
    "data = table.loc[recent].copy()\n",
    "plot_speeds(data)"
   ]
  },
  {
   "cell_type": "code",
   "execution_count": 165,
   "metadata": {},
   "outputs": [
    {
     "data": {
      "text/plain": [
       "count    18.000000\n",
       "mean      0.740913\n",
       "std      15.417918\n",
       "min     -24.444201\n",
       "25%     -12.352152\n",
       "50%       4.264319\n",
       "75%      13.492498\n",
       "max      23.707699\n",
       "Name: x, dtype: float64"
      ]
     },
     "execution_count": 165,
     "metadata": {},
     "output_type": "execute_result"
    }
   ],
   "source": [
    "offset = pd.to_datetime('1995')\n",
    "timedelta = table['date'] - offset\n",
    "data['x'] = timedelta.dt.total_seconds() / 3600 / 24 / 365.24\n",
    "data['x'].describe()"
   ]
  },
  {
   "cell_type": "code",
   "execution_count": 166,
   "metadata": {},
   "outputs": [
    {
     "name": "stderr",
     "output_type": "stream",
     "text": [
      "/home/downey/anaconda3/envs/ThinkBayes2/lib/python3.7/site-packages/scipy/stats/stats.py:1535: UserWarning: kurtosistest only valid for n>=20 ... continuing anyway, n=18\n",
      "  \"anyway, n=%i\" % int(n))\n"
     ]
    },
    {
     "data": {
      "text/html": [
       "<table class=\"simpletable\">\n",
       "<caption>OLS Regression Results</caption>\n",
       "<tr>\n",
       "  <th>Dep. Variable:</th>           <td>mph</td>       <th>  R-squared:         </th> <td>   0.971</td>\n",
       "</tr>\n",
       "<tr>\n",
       "  <th>Model:</th>                   <td>OLS</td>       <th>  Adj. R-squared:    </th> <td>   0.969</td>\n",
       "</tr>\n",
       "<tr>\n",
       "  <th>Method:</th>             <td>Least Squares</td>  <th>  F-statistic:       </th> <td>   530.7</td>\n",
       "</tr>\n",
       "<tr>\n",
       "  <th>Date:</th>             <td>Sat, 01 Aug 2020</td> <th>  Prob (F-statistic):</th> <td>1.07e-13</td>\n",
       "</tr>\n",
       "<tr>\n",
       "  <th>Time:</th>                 <td>14:02:51</td>     <th>  Log-Likelihood:    </th> <td>  32.294</td>\n",
       "</tr>\n",
       "<tr>\n",
       "  <th>No. Observations:</th>      <td>    18</td>      <th>  AIC:               </th> <td>  -60.59</td>\n",
       "</tr>\n",
       "<tr>\n",
       "  <th>Df Residuals:</th>          <td>    16</td>      <th>  BIC:               </th> <td>  -58.81</td>\n",
       "</tr>\n",
       "<tr>\n",
       "  <th>Df Model:</th>              <td>     1</td>      <th>                     </th>     <td> </td>   \n",
       "</tr>\n",
       "<tr>\n",
       "  <th>Covariance Type:</th>      <td>nonrobust</td>    <th>                     </th>     <td> </td>   \n",
       "</tr>\n",
       "</table>\n",
       "<table class=\"simpletable\">\n",
       "<tr>\n",
       "      <td></td>         <th>coef</th>     <th>std err</th>      <th>t</th>      <th>P>|t|</th>  <th>[0.025</th>    <th>0.975]</th>  \n",
       "</tr>\n",
       "<tr>\n",
       "  <th>Intercept</th> <td>   12.4605</td> <td>    0.010</td> <td> 1237.317</td> <td> 0.000</td> <td>   12.439</td> <td>   12.482</td>\n",
       "</tr>\n",
       "<tr>\n",
       "  <th>x</th>         <td>    0.0155</td> <td>    0.001</td> <td>   23.037</td> <td> 0.000</td> <td>    0.014</td> <td>    0.017</td>\n",
       "</tr>\n",
       "</table>\n",
       "<table class=\"simpletable\">\n",
       "<tr>\n",
       "  <th>Omnibus:</th>       <td> 1.748</td> <th>  Durbin-Watson:     </th> <td>   1.101</td>\n",
       "</tr>\n",
       "<tr>\n",
       "  <th>Prob(Omnibus):</th> <td> 0.417</td> <th>  Jarque-Bera (JB):  </th> <td>   1.174</td>\n",
       "</tr>\n",
       "<tr>\n",
       "  <th>Skew:</th>          <td> 0.612</td> <th>  Prob(JB):          </th> <td>   0.556</td>\n",
       "</tr>\n",
       "<tr>\n",
       "  <th>Kurtosis:</th>      <td> 2.745</td> <th>  Cond. No.          </th> <td>    15.0</td>\n",
       "</tr>\n",
       "</table><br/><br/>Warnings:<br/>[1] Standard Errors assume that the covariance matrix of the errors is correctly specified."
      ],
      "text/plain": [
       "<class 'statsmodels.iolib.summary.Summary'>\n",
       "\"\"\"\n",
       "                            OLS Regression Results                            \n",
       "==============================================================================\n",
       "Dep. Variable:                    mph   R-squared:                       0.971\n",
       "Model:                            OLS   Adj. R-squared:                  0.969\n",
       "Method:                 Least Squares   F-statistic:                     530.7\n",
       "Date:                Sat, 01 Aug 2020   Prob (F-statistic):           1.07e-13\n",
       "Time:                        14:02:51   Log-Likelihood:                 32.294\n",
       "No. Observations:                  18   AIC:                            -60.59\n",
       "Df Residuals:                      16   BIC:                            -58.81\n",
       "Df Model:                           1                                         \n",
       "Covariance Type:            nonrobust                                         \n",
       "==============================================================================\n",
       "                 coef    std err          t      P>|t|      [0.025      0.975]\n",
       "------------------------------------------------------------------------------\n",
       "Intercept     12.4605      0.010   1237.317      0.000      12.439      12.482\n",
       "x              0.0155      0.001     23.037      0.000       0.014       0.017\n",
       "==============================================================================\n",
       "Omnibus:                        1.748   Durbin-Watson:                   1.101\n",
       "Prob(Omnibus):                  0.417   Jarque-Bera (JB):                1.174\n",
       "Skew:                           0.612   Prob(JB):                        0.556\n",
       "Kurtosis:                       2.745   Cond. No.                         15.0\n",
       "==============================================================================\n",
       "\n",
       "Warnings:\n",
       "[1] Standard Errors assume that the covariance matrix of the errors is correctly specified.\n",
       "\"\"\""
      ]
     },
     "execution_count": 166,
     "metadata": {},
     "output_type": "execute_result"
    }
   ],
   "source": [
    "import statsmodels.formula.api as smf\n",
    "\n",
    "formula = 'mph ~ x'\n",
    "results = smf.ols(formula, data=data).fit()\n",
    "results.summary()"
   ]
  },
  {
   "cell_type": "code",
   "execution_count": null,
   "metadata": {},
   "outputs": [],
   "source": []
  },
  {
   "cell_type": "code",
   "execution_count": 167,
   "metadata": {},
   "outputs": [],
   "source": [
    "slopes = np.linspace(0.01, 0.02, 51)\n",
    "prior_slope = Pmf(1, slopes)\n",
    "prior_slope.index.name = 'Slope'"
   ]
  },
  {
   "cell_type": "code",
   "execution_count": 168,
   "metadata": {},
   "outputs": [],
   "source": [
    "inters = np.linspace(12.4, 12.6, 41)\n",
    "prior_inter = Pmf(1, inters)\n",
    "prior_inter.index.name = 'Intercept'"
   ]
  },
  {
   "cell_type": "code",
   "execution_count": 169,
   "metadata": {},
   "outputs": [],
   "source": [
    "sigmas = np.linspace(0.01, 0.31, 31)\n",
    "prior_sigma = Pmf(1, sigmas)\n",
    "prior_sigma.index.name = 'Sigma'"
   ]
  },
  {
   "cell_type": "code",
   "execution_count": 170,
   "metadata": {},
   "outputs": [
    {
     "data": {
      "text/plain": [
       "(41, 51)"
      ]
     },
     "execution_count": 170,
     "metadata": {},
     "output_type": "execute_result"
    }
   ],
   "source": [
    "joint = make_joint(prior_slope, prior_inter)\n",
    "joint.shape"
   ]
  },
  {
   "cell_type": "code",
   "execution_count": 171,
   "metadata": {},
   "outputs": [
    {
     "data": {
      "text/plain": [
       "Slope  Intercept\n",
       "0.01   12.400       1\n",
       "       12.405       1\n",
       "       12.410       1\n",
       "       12.415       1\n",
       "       12.420       1\n",
       "dtype: int64"
      ]
     },
     "execution_count": 171,
     "metadata": {},
     "output_type": "execute_result"
    }
   ],
   "source": [
    "joint_pmf = Pmf(joint.transpose().stack())\n",
    "joint_pmf.head()"
   ]
  },
  {
   "cell_type": "code",
   "execution_count": 172,
   "metadata": {},
   "outputs": [
    {
     "data": {
      "text/plain": [
       "(2091, 31)"
      ]
     },
     "execution_count": 172,
     "metadata": {},
     "output_type": "execute_result"
    }
   ],
   "source": [
    "prior3 = make_joint(prior_sigma, joint_pmf)\n",
    "prior3.shape"
   ]
  },
  {
   "cell_type": "code",
   "execution_count": 173,
   "metadata": {},
   "outputs": [],
   "source": [
    "from scipy.stats import norm\n",
    "\n",
    "xs = data['x']\n",
    "ys = data['mph']\n",
    "\n",
    "likelihood = prior3.copy()\n",
    "\n",
    "for (slope, inter), sigmas in prior3.iterrows():\n",
    "    resid = slope * xs + inter - ys\n",
    "    sigma_mesh, resid_mesh = np.meshgrid(prior_sigma.index, resid)\n",
    "    densities = norm.pdf(resid_mesh, 0, sigma_mesh)\n",
    "    like = densities.prod(axis=0)\n",
    "    likelihood.loc[slope, inter] = like"
   ]
  },
  {
   "cell_type": "code",
   "execution_count": 174,
   "metadata": {},
   "outputs": [
    {
     "data": {
      "text/plain": [
       "(2091, 31)"
      ]
     },
     "execution_count": 174,
     "metadata": {},
     "output_type": "execute_result"
    }
   ],
   "source": [
    "from utils import normalize\n",
    "\n",
    "posterior3 = prior3 * likelihood\n",
    "normalize(posterior3)\n",
    "posterior3.shape"
   ]
  },
  {
   "cell_type": "code",
   "execution_count": 175,
   "metadata": {},
   "outputs": [
    {
     "data": {
      "image/png": "[encoded data removed]",
      "text/plain": [
       "<Figure size 432x288 with 1 Axes>"
      ]
     },
     "metadata": {
      "needs_background": "light"
     },
     "output_type": "display_data"
    }
   ],
   "source": [
    "from utils import marginal\n",
    "\n",
    "posterior_sigma = marginal(posterior3, 0)\n",
    "posterior_sigma.plot()"
   ]
  },
  {
   "cell_type": "code",
   "execution_count": 176,
   "metadata": {},
   "outputs": [
    {
     "data": {
      "text/plain": [
       "(2091,)"
      ]
     },
     "execution_count": 176,
     "metadata": {},
     "output_type": "execute_result"
    }
   ],
   "source": [
    "posterior_pmf = marginal(posterior3, 1)\n",
    "posterior_pmf.shape"
   ]
  },
  {
   "cell_type": "code",
   "execution_count": 177,
   "metadata": {},
   "outputs": [
    {
     "data": {
      "text/plain": [
       "(41, 51)"
      ]
     },
     "execution_count": 177,
     "metadata": {},
     "output_type": "execute_result"
    }
   ],
   "source": [
    "posterior_joint = posterior_pmf.unstack().transpose()\n",
    "posterior_joint.shape"
   ]
  },
  {
   "cell_type": "code",
   "execution_count": 178,
   "metadata": {},
   "outputs": [],
   "source": [
    "def plot_contour(joint, **options):\n",
    "    \"\"\"Plot a joint distribution.\n",
    "    \n",
    "    joint: DataFrame representing a joint PMF\n",
    "    \"\"\"\n",
    "    cs = plt.contour(joint.columns, joint.index, joint, **options)\n",
    "    decorate(xlabel=joint.columns.name, \n",
    "             ylabel=joint.index.name)\n",
    "    return cs"
   ]
  },
  {
   "cell_type": "code",
   "execution_count": 179,
   "metadata": {},
   "outputs": [
    {
     "data": {
      "text/plain": [
       "<matplotlib.contour.QuadContourSet at 0x7f910d8994d0>"
      ]
     },
     "execution_count": 179,
     "metadata": {},
     "output_type": "execute_result"
    },
    {
     "data": {
      "image/png": "[encoded data removed]",
      "text/plain": [
       "<Figure size 432x288 with 1 Axes>"
      ]
     },
     "metadata": {
      "needs_background": "light"
     },
     "output_type": "display_data"
    }
   ],
   "source": [
    "plot_contour(posterior_joint)"
   ]
  },
  {
   "cell_type": "code",
   "execution_count": 180,
   "metadata": {},
   "outputs": [
    {
     "data": {
      "image/png": "[encoded data removed]",
      "text/plain": [
       "<Figure size 432x288 with 1 Axes>"
      ]
     },
     "metadata": {
      "needs_background": "light"
     },
     "output_type": "display_data"
    }
   ],
   "source": [
    "posterior_slope = marginal(posterior_joint, 0)\n",
    "\n",
    "posterior_slope.plot()\n",
    "decorate(xlabel='Slope',\n",
    "         ylabel='PDF',\n",
    "         title='Posterior marginal distribution of slope')"
   ]
  },
  {
   "cell_type": "code",
   "execution_count": 181,
   "metadata": {},
   "outputs": [
    {
     "data": {
      "text/plain": [
       "(0.015464394668292185, array([0.0142, 0.0166]))"
      ]
     },
     "execution_count": 181,
     "metadata": {},
     "output_type": "execute_result"
    }
   ],
   "source": [
    "posterior_slope.mean(), posterior_slope.credible_interval(0.9)"
   ]
  },
  {
   "cell_type": "code",
   "execution_count": 182,
   "metadata": {},
   "outputs": [
    {
     "data": {
      "image/png": "[encoded data removed]",
      "text/plain": [
       "<Figure size 432x288 with 1 Axes>"
      ]
     },
     "metadata": {
      "needs_background": "light"
     },
     "output_type": "display_data"
    }
   ],
   "source": [
    "posterior_inter = marginal(posterior_joint, 1)\n",
    "\n",
    "posterior_inter.plot()\n",
    "decorate(xlabel='intercept',\n",
    "         ylabel='PDF',\n",
    "         title='Posterior marginal distribution of intercept')"
   ]
  },
  {
   "cell_type": "code",
   "execution_count": 183,
   "metadata": {},
   "outputs": [
    {
     "data": {
      "text/plain": [
       "(12.460507580847914, array([12.44, 12.48]))"
      ]
     },
     "execution_count": 183,
     "metadata": {},
     "output_type": "execute_result"
    }
   ],
   "source": [
    "posterior_inter.mean(), posterior_inter.credible_interval(0.9)"
   ]
  },
  {
   "cell_type": "code",
   "execution_count": 184,
   "metadata": {},
   "outputs": [
    {
     "data": {
      "text/plain": [
       "Slope  Intercept  Sigma\n",
       "0.01   12.4       0.01      0.000000e+00\n",
       "                  0.02     2.651660e-115\n",
       "                  0.03      1.140654e-50\n",
       "                  0.04      3.462615e-29\n",
       "                  0.05      6.013886e-20\n",
       "dtype: float64"
      ]
     },
     "execution_count": 184,
     "metadata": {},
     "output_type": "execute_result"
    }
   ],
   "source": [
    "posterior_pmf = Pmf(posterior3.stack())\n",
    "posterior_pmf.head()"
   ]
  },
  {
   "cell_type": "code",
   "execution_count": 185,
   "metadata": {},
   "outputs": [
    {
     "data": {
      "text/plain": [
       "(101, 38)"
      ]
     },
     "execution_count": 185,
     "metadata": {},
     "output_type": "execute_result"
    }
   ],
   "source": [
    "sample = posterior_pmf.sample(101)\n",
    "xs = np.arange(-25, 50, 2)\n",
    "pred = np.empty((len(sample), len(xs)))\n",
    "\n",
    "for i, (slope, inter, sigma) in enumerate(sample):\n",
    "    pred[i] = inter + slope * xs + norm(0, sigma).rvs(len(xs))\n",
    "    \n",
    "pred.shape"
   ]
  },
  {
   "cell_type": "code",
   "execution_count": 187,
   "metadata": {},
   "outputs": [
    {
     "data": {
      "text/plain": [
       "(38,)"
      ]
     },
     "execution_count": 187,
     "metadata": {},
     "output_type": "execute_result"
    }
   ],
   "source": [
    "low, median, high = np.percentile(pred, [5, 50, 95], axis=0)\n",
    "median.shape"
   ]
  },
  {
   "cell_type": "code",
   "execution_count": 190,
   "metadata": {},
   "outputs": [
    {
     "data": {
      "image/png": "[encoded data removed]",
      "text/plain": [
       "<Figure size 432x288 with 1 Axes>"
      ]
     },
     "metadata": {
      "needs_background": "light"
     },
     "output_type": "display_data"
    }
   ],
   "source": [
    "times = pd.to_timedelta(xs*365.24, unit='days') + offset\n",
    "\n",
    "plt.fill_between(times, low, high, alpha=0.1)\n",
    "plt.plot(times, median, color='C0')\n",
    "\n",
    "plot_speeds(data)"
   ]
  },
  {
   "cell_type": "code",
   "execution_count": 189,
   "metadata": {},
   "outputs": [
    {
     "data": {
      "text/plain": [
       "DatetimeIndex([   '2029-08-10 15:41:20.272704',\n",
       "               '2036-03-17 10:24:35.436758400',\n",
       "               '2041-10-08 03:04:39.181468800'],\n",
       "              dtype='datetime64[ns]', freq=None)"
      ]
     },
     "execution_count": 189,
     "metadata": {},
     "output_type": "execute_result"
    }
   ],
   "source": [
    "from scipy.interpolate import interp1d\n",
    "\n",
    "future = np.array([interp1d(high, xs)(13.1),\n",
    "                   interp1d(median, xs)(13.1),\n",
    "                   interp1d(low, xs)(13.1)])\n",
    "\n",
    "pd.to_timedelta(future*365.24, unit='day') + offset"
   ]
  },
  {
   "cell_type": "markdown",
   "metadata": {},
   "source": [
    "## Exercises\n"
   ]
  },
  {
   "cell_type": "markdown",
   "metadata": {},
   "source": [
    "**Exercise:** Is temperature increasing?"
   ]
  },
  {
   "cell_type": "code",
   "execution_count": 83,
   "metadata": {},
   "outputs": [
    {
     "data": {
      "text/plain": [
       "54"
      ]
     },
     "execution_count": 83,
     "metadata": {},
     "output_type": "execute_result"
    }
   ],
   "source": [
    "temp = df.groupby('year')['TMAX'].mean()\n",
    "len(temp)"
   ]
  },
  {
   "cell_type": "code",
   "execution_count": 84,
   "metadata": {},
   "outputs": [
    {
     "data": {
      "text/plain": [
       "52"
      ]
     },
     "execution_count": 84,
     "metadata": {},
     "output_type": "execute_result"
    }
   ],
   "source": [
    "complete_temp = temp.iloc[1:-1]\n",
    "len(complete_temp)"
   ]
  },
  {
   "cell_type": "code",
   "execution_count": 86,
   "metadata": {},
   "outputs": [
    {
     "data": {
      "image/png": "[encoded data removed]",
      "text/plain": [
       "<Figure size 432x288 with 1 Axes>"
      ]
     },
     "metadata": {
      "needs_background": "light"
     },
     "output_type": "display_data"
    }
   ],
   "source": [
    "complete_temp.plot(style='o', alpha=0.5)\n",
    "\n",
    "decorate(xlabel='Year',\n",
    "         ylabel='Average of daily maximum temperature (deg F)')"
   ]
  }
 ],
 "metadata": {
  "kernelspec": {
   "display_name": "Python 3",
   "language": "python",
   "name": "python3"
  },
  "language_info": {
   "codemirror_mode": {
    "name": "ipython",
    "version": 3
   },
   "file_extension": ".py",
   "mimetype": "text/x-python",
   "name": "python",
   "nbconvert_exporter": "python",
   "pygments_lexer": "ipython3",
   "version": "3.7.7"
  }
 },
 "nbformat": 4,
 "nbformat_minor": 1
}
