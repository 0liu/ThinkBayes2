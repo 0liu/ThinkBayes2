{
 "cells": [
  {
   "cell_type": "markdown",
   "metadata": {},
   "source": [
    "# Think Bayes\n",
    "\n",
    "Second Edition\n",
    "\n",
    "Copyright 2020 Allen B. Downey\n",
    "\n",
    "License: [Attribution-NonCommercial-ShareAlike 4.0 International (CC BY-NC-SA 4.0)](https://creativecommons.org/licenses/by-nc-sa/4.0/)"
   ]
  },
  {
   "cell_type": "code",
   "execution_count": 3,
   "metadata": {},
   "outputs": [],
   "source": [
    "# If we're running on Colab, install empiricaldist\n",
    "# https://pypi.org/project/empiricaldist/\n",
    "\n",
    "import sys\n",
    "IN_COLAB = 'google.colab' in sys.modules\n",
    "\n",
    "if IN_COLAB:\n",
    "    !pip install empiricaldist"
   ]
  },
  {
   "cell_type": "code",
   "execution_count": 4,
   "metadata": {},
   "outputs": [],
   "source": [
    "# Get utils.py and create directories\n",
    "\n",
    "import os\n",
    "\n",
    "if not os.path.exists('utils.py'):\n",
    "    !wget https://github.com/AllenDowney/ThinkBayes2/raw/master/code/soln/utils.py\n",
    "        \n",
    "if not os.path.exists('figs'):\n",
    "    !mkdir figs"
   ]
  },
  {
   "cell_type": "code",
   "execution_count": 5,
   "metadata": {},
   "outputs": [],
   "source": [
    "import numpy as np\n",
    "import pandas as pd\n",
    "import matplotlib.pyplot as plt\n",
    "\n",
    "from empiricaldist import Pmf, Cdf\n",
    "from utils import decorate, savefig"
   ]
  },
  {
   "cell_type": "markdown",
   "metadata": {},
   "source": [
    "## Bayesian regression\n",
    "\n",
    "This notebook presents a simple example of Bayesian regression using synthetic data"
   ]
  },
  {
   "cell_type": "markdown",
   "metadata": {},
   "source": [
    "## More snow?\n",
    "\n",
    "I am under the impression that we don't get as much snow around here as we used to.  By \"around here\" I mean Norfolk County, Massachusetts, where I was born, grew up, and currently reside.  And by \"used to\" I mean compared to when I was young, like in 1978 when we got [27 inches of snow](https://en.wikipedia.org/wiki/Northeastern_United_States_blizzard_of_1978) and I didn't have to go to school for a couple of weeks.\n",
    "\n",
    "Fortunately, we can test my conjecture with data.  Norfolk County happens to be the location of the [Blue Hill Meteorological Observatory](https://en.wikipedia.org/wiki/Blue_Hill_Meteorological_Observatory), which keeps the oldest continuous weather record in North America.\n",
    "\n",
    "Data from this and many other weather stations is available from the [National Oceanic and Atmospheric Administration](https://www.ncdc.noaa.gov/cdo-web/search) (NOAA).  I collected data from the Blue Hill Observatory from May 11, 1967 to May 11, 2020.  The following cell downloads the data as a CSV file."
   ]
  },
  {
   "cell_type": "code",
   "execution_count": 88,
   "metadata": {},
   "outputs": [
    {
     "name": "stdout",
     "output_type": "stream",
     "text": [
      "--2020-08-14 14:53:07--  https://github.com/AllenDowney/ThinkBayes2/raw/master/data/2239075.csv\n",
      "Resolving github.com (github.com)... 140.82.114.4\n",
      "Connecting to github.com (github.com)|140.82.114.4|:443... connected.\n",
      "HTTP request sent, awaiting response... 302 Found\n",
      "Location: https://raw.githubusercontent.com/AllenDowney/ThinkBayes2/master/data/2239075.csv [following]\n",
      "--2020-08-14 14:53:08--  https://raw.githubusercontent.com/AllenDowney/ThinkBayes2/master/data/2239075.csv\n",
      "Resolving raw.githubusercontent.com (raw.githubusercontent.com)... 151.101.116.133\n",
      "Connecting to raw.githubusercontent.com (raw.githubusercontent.com)|151.101.116.133|:443... connected.\n",
      "HTTP request sent, awaiting response... 200 OK\n",
      "Length: 1853619 (1.8M) [text/plain]\n",
      "Saving to: ‘2239075.csv’\n",
      "\n",
      "2239075.csv         100%[===================>]   1.77M  2.05MB/s    in 0.9s    \n",
      "\n",
      "2020-08-14 14:53:09 (2.05 MB/s) - ‘2239075.csv’ saved [1853619/1853619]\n",
      "\n"
     ]
    }
   ],
   "source": [
    "import os\n",
    "\n",
    "datafile = '2239075.csv'\n",
    "if not os.path.exists(datafile):\n",
    "    !wget https://github.com/AllenDowney/ThinkBayes2/raw/master/data/2239075.csv"
   ]
  },
  {
   "cell_type": "markdown",
   "metadata": {},
   "source": [
    "We can read the data into a Pandas `DataFrame`:"
   ]
  },
  {
   "cell_type": "code",
   "execution_count": 62,
   "metadata": {},
   "outputs": [],
   "source": [
    "df = pd.read_csv('2239075.csv', parse_dates=[2])"
   ]
  },
  {
   "cell_type": "markdown",
   "metadata": {},
   "source": [
    "Here's what the last few rows look like."
   ]
  },
  {
   "cell_type": "code",
   "execution_count": 82,
   "metadata": {},
   "outputs": [
    {
     "data": {
      "text/html": [
       "<div>\n",
       "<style scoped>\n",
       "    .dataframe tbody tr th:only-of-type {\n",
       "        vertical-align: middle;\n",
       "    }\n",
       "\n",
       "    .dataframe tbody tr th {\n",
       "        vertical-align: top;\n",
       "    }\n",
       "\n",
       "    .dataframe thead th {\n",
       "        text-align: right;\n",
       "    }\n",
       "</style>\n",
       "<table border=\"1\" class=\"dataframe\">\n",
       "  <thead>\n",
       "    <tr style=\"text-align: right;\">\n",
       "      <th></th>\n",
       "      <th>STATION</th>\n",
       "      <th>NAME</th>\n",
       "      <th>DATE</th>\n",
       "      <th>PRCP</th>\n",
       "      <th>SNOW</th>\n",
       "      <th>SNWD</th>\n",
       "      <th>TMAX</th>\n",
       "      <th>TMIN</th>\n",
       "      <th>TOBS</th>\n",
       "      <th>WESD</th>\n",
       "      <th>...</th>\n",
       "      <th>WT03</th>\n",
       "      <th>WT04</th>\n",
       "      <th>WT05</th>\n",
       "      <th>WT06</th>\n",
       "      <th>WT08</th>\n",
       "      <th>WT09</th>\n",
       "      <th>WT11</th>\n",
       "      <th>WT16</th>\n",
       "      <th>WT18</th>\n",
       "      <th>year</th>\n",
       "    </tr>\n",
       "  </thead>\n",
       "  <tbody>\n",
       "    <tr>\n",
       "      <th>19355</th>\n",
       "      <td>USC00190736</td>\n",
       "      <td>BLUE HILL COOP, MA US</td>\n",
       "      <td>2020-05-07</td>\n",
       "      <td>0.00</td>\n",
       "      <td>0.0</td>\n",
       "      <td>0.0</td>\n",
       "      <td>57</td>\n",
       "      <td>37.0</td>\n",
       "      <td>43.0</td>\n",
       "      <td>NaN</td>\n",
       "      <td>...</td>\n",
       "      <td>NaN</td>\n",
       "      <td>NaN</td>\n",
       "      <td>NaN</td>\n",
       "      <td>NaN</td>\n",
       "      <td>NaN</td>\n",
       "      <td>NaN</td>\n",
       "      <td>NaN</td>\n",
       "      <td>NaN</td>\n",
       "      <td>NaN</td>\n",
       "      <td>2020</td>\n",
       "    </tr>\n",
       "    <tr>\n",
       "      <th>19356</th>\n",
       "      <td>USC00190736</td>\n",
       "      <td>BLUE HILL COOP, MA US</td>\n",
       "      <td>2020-05-08</td>\n",
       "      <td>0.00</td>\n",
       "      <td>0.0</td>\n",
       "      <td>0.0</td>\n",
       "      <td>63</td>\n",
       "      <td>42.0</td>\n",
       "      <td>45.0</td>\n",
       "      <td>NaN</td>\n",
       "      <td>...</td>\n",
       "      <td>NaN</td>\n",
       "      <td>NaN</td>\n",
       "      <td>NaN</td>\n",
       "      <td>NaN</td>\n",
       "      <td>NaN</td>\n",
       "      <td>NaN</td>\n",
       "      <td>NaN</td>\n",
       "      <td>NaN</td>\n",
       "      <td>NaN</td>\n",
       "      <td>2020</td>\n",
       "    </tr>\n",
       "    <tr>\n",
       "      <th>19357</th>\n",
       "      <td>USC00190736</td>\n",
       "      <td>BLUE HILL COOP, MA US</td>\n",
       "      <td>2020-05-09</td>\n",
       "      <td>0.45</td>\n",
       "      <td>0.0</td>\n",
       "      <td>0.0</td>\n",
       "      <td>57</td>\n",
       "      <td>34.0</td>\n",
       "      <td>34.0</td>\n",
       "      <td>NaN</td>\n",
       "      <td>...</td>\n",
       "      <td>NaN</td>\n",
       "      <td>NaN</td>\n",
       "      <td>NaN</td>\n",
       "      <td>NaN</td>\n",
       "      <td>NaN</td>\n",
       "      <td>NaN</td>\n",
       "      <td>NaN</td>\n",
       "      <td>NaN</td>\n",
       "      <td>NaN</td>\n",
       "      <td>2020</td>\n",
       "    </tr>\n",
       "    <tr>\n",
       "      <th>19358</th>\n",
       "      <td>USC00190736</td>\n",
       "      <td>BLUE HILL COOP, MA US</td>\n",
       "      <td>2020-05-10</td>\n",
       "      <td>0.00</td>\n",
       "      <td>0.0</td>\n",
       "      <td>0.0</td>\n",
       "      <td>44</td>\n",
       "      <td>31.0</td>\n",
       "      <td>38.0</td>\n",
       "      <td>NaN</td>\n",
       "      <td>...</td>\n",
       "      <td>NaN</td>\n",
       "      <td>NaN</td>\n",
       "      <td>NaN</td>\n",
       "      <td>NaN</td>\n",
       "      <td>NaN</td>\n",
       "      <td>NaN</td>\n",
       "      <td>NaN</td>\n",
       "      <td>NaN</td>\n",
       "      <td>NaN</td>\n",
       "      <td>2020</td>\n",
       "    </tr>\n",
       "    <tr>\n",
       "      <th>19359</th>\n",
       "      <td>USC00190736</td>\n",
       "      <td>BLUE HILL COOP, MA US</td>\n",
       "      <td>2020-05-11</td>\n",
       "      <td>0.00</td>\n",
       "      <td>0.0</td>\n",
       "      <td>0.0</td>\n",
       "      <td>59</td>\n",
       "      <td>38.0</td>\n",
       "      <td>50.0</td>\n",
       "      <td>NaN</td>\n",
       "      <td>...</td>\n",
       "      <td>NaN</td>\n",
       "      <td>NaN</td>\n",
       "      <td>NaN</td>\n",
       "      <td>NaN</td>\n",
       "      <td>NaN</td>\n",
       "      <td>NaN</td>\n",
       "      <td>NaN</td>\n",
       "      <td>NaN</td>\n",
       "      <td>NaN</td>\n",
       "      <td>2020</td>\n",
       "    </tr>\n",
       "  </tbody>\n",
       "</table>\n",
       "<p>5 rows × 21 columns</p>\n",
       "</div>"
      ],
      "text/plain": [
       "           STATION                   NAME       DATE  PRCP  SNOW  SNWD  TMAX  \\\n",
       "19355  USC00190736  BLUE HILL COOP, MA US 2020-05-07  0.00   0.0   0.0    57   \n",
       "19356  USC00190736  BLUE HILL COOP, MA US 2020-05-08  0.00   0.0   0.0    63   \n",
       "19357  USC00190736  BLUE HILL COOP, MA US 2020-05-09  0.45   0.0   0.0    57   \n",
       "19358  USC00190736  BLUE HILL COOP, MA US 2020-05-10  0.00   0.0   0.0    44   \n",
       "19359  USC00190736  BLUE HILL COOP, MA US 2020-05-11  0.00   0.0   0.0    59   \n",
       "\n",
       "       TMIN  TOBS  WESD  ...  WT03  WT04  WT05  WT06  WT08  WT09  WT11  WT16  \\\n",
       "19355  37.0  43.0   NaN  ...   NaN   NaN   NaN   NaN   NaN   NaN   NaN   NaN   \n",
       "19356  42.0  45.0   NaN  ...   NaN   NaN   NaN   NaN   NaN   NaN   NaN   NaN   \n",
       "19357  34.0  34.0   NaN  ...   NaN   NaN   NaN   NaN   NaN   NaN   NaN   NaN   \n",
       "19358  31.0  38.0   NaN  ...   NaN   NaN   NaN   NaN   NaN   NaN   NaN   NaN   \n",
       "19359  38.0  50.0   NaN  ...   NaN   NaN   NaN   NaN   NaN   NaN   NaN   NaN   \n",
       "\n",
       "       WT18  year  \n",
       "19355   NaN  2020  \n",
       "19356   NaN  2020  \n",
       "19357   NaN  2020  \n",
       "19358   NaN  2020  \n",
       "19359   NaN  2020  \n",
       "\n",
       "[5 rows x 21 columns]"
      ]
     },
     "execution_count": 82,
     "metadata": {},
     "output_type": "execute_result"
    }
   ],
   "source": [
    "df.tail()"
   ]
  },
  {
   "cell_type": "markdown",
   "metadata": {},
   "source": [
    "I'll add a column that contains just the year part of the dates."
   ]
  },
  {
   "cell_type": "code",
   "execution_count": 102,
   "metadata": {},
   "outputs": [],
   "source": [
    "df['YEAR'] = df['DATE'].dt.year"
   ]
  },
  {
   "cell_type": "markdown",
   "metadata": {},
   "source": [
    "And use `groupby` to add up the total snowfall in each year."
   ]
  },
  {
   "cell_type": "code",
   "execution_count": 172,
   "metadata": {},
   "outputs": [
    {
     "data": {
      "text/plain": [
       "54"
      ]
     },
     "execution_count": 172,
     "metadata": {},
     "output_type": "execute_result"
    }
   ],
   "source": [
    "snow = df.groupby('YEAR')['SNOW'].sum()\n",
    "len(snow)"
   ]
  },
  {
   "cell_type": "markdown",
   "metadata": {},
   "source": [
    "The first and last years are not complete, so I'll drop them."
   ]
  },
  {
   "cell_type": "code",
   "execution_count": 173,
   "metadata": {},
   "outputs": [
    {
     "data": {
      "text/plain": [
       "52"
      ]
     },
     "execution_count": 173,
     "metadata": {},
     "output_type": "execute_result"
    }
   ],
   "source": [
    "complete = snow.iloc[1:-1]\n",
    "len(complete)"
   ]
  },
  {
   "cell_type": "markdown",
   "metadata": {},
   "source": [
    "The following figure shows total snowfall during each of the complete years in my lifetime."
   ]
  },
  {
   "cell_type": "code",
   "execution_count": 174,
   "metadata": {},
   "outputs": [
    {
     "data": {
      "image/png": "[encoded data removed]",
      "text/plain": [
       "<Figure size 432x288 with 1 Axes>"
      ]
     },
     "metadata": {
      "needs_background": "light"
     },
     "output_type": "display_data"
    }
   ],
   "source": [
    "complete.plot(style='o', alpha=0.5)\n",
    "\n",
    "decorate(xlabel='Year',\n",
    "         ylabel='Total annual snowfall (inches)',\n",
    "         title='Total annual snowfall in Norfolk County, MA')"
   ]
  },
  {
   "cell_type": "markdown",
   "metadata": {},
   "source": [
    "Looking at this plot, it's hard to say whether snowfall is increasing, decreasing, or unchanged.  In the last decade, we've had several years with more snow than 1978, including 2015, which was the snowiest winter in the Boston area in modern history, with a total of 141 inches."
   ]
  },
  {
   "cell_type": "code",
   "execution_count": 175,
   "metadata": {},
   "outputs": [
    {
     "data": {
      "text/plain": [
       "YEAR\n",
       "1978    100.6\n",
       "1996    124.2\n",
       "2015    141.1\n",
       "Name: SNOW, dtype: float64"
      ]
     },
     "execution_count": 175,
     "metadata": {},
     "output_type": "execute_result"
    }
   ],
   "source": [
    "complete.loc[[1978, 1996, 2015]]"
   ]
  },
  {
   "cell_type": "markdown",
   "metadata": {},
   "source": [
    "This kind of question -- looking at noisy data and wondering whether it is going up or down -- is precisely the question we can answer with Bayesian regression.\n",
    "\n",
    "The foundation of regression (Bayesian or not) is the model that a time series like this is the sum of two parts:\n",
    "\n",
    "1. A linear function of time, and\n",
    "\n",
    "2. A series of random values drawn from a distribution that is not changing over time.\n",
    "\n",
    "Mathematically,\n",
    "\n",
    "$y = a x + b + \\epsilon$\n",
    "\n",
    "where $y$ is the series of measurements (snowfall in this example), $x$ is the series of times (years) and $\\epsilon$ is the series of random values.\n",
    "\n",
    "$a$ and $b$ are the slope and intercept of the line through the data.  They are unknown parameters, so we will use the data to estimate them.\n",
    "\n",
    "We don't know the distribution of $\\epsilon$, so we'll make the additional assumption that it is a normal distribution with mean 0 and unknown standard deviation, $\\sigma$.  To see whether this assumption is reasonable, I'll plot the distribution of total snowfall and a normal model with the same mean and standard deviations.  "
   ]
  },
  {
   "cell_type": "code",
   "execution_count": 176,
   "metadata": {},
   "outputs": [
    {
     "data": {
      "text/plain": [
       "(64.19038461538462, 26.288021984395684)"
      ]
     },
     "execution_count": 176,
     "metadata": {},
     "output_type": "execute_result"
    }
   ],
   "source": [
    "pmf_snowfall = Pmf.from_seq(complete)\n",
    "\n",
    "mean, std = pmf_snowfall.mean(), pmf_snowfall.std()\n",
    "mean, std"
   ]
  },
  {
   "cell_type": "code",
   "execution_count": 177,
   "metadata": {},
   "outputs": [],
   "source": [
    "from scipy.stats import norm\n",
    "\n",
    "dist = norm(mean, std)\n",
    "qs = pmf_snowfall.qs\n",
    "ps = dist.cdf(qs)"
   ]
  },
  {
   "cell_type": "code",
   "execution_count": 178,
   "metadata": {},
   "outputs": [
    {
     "data": {
      "image/png": "[encoded data removed]",
      "text/plain": [
       "<Figure size 432x288 with 1 Axes>"
      ]
     },
     "metadata": {
      "needs_background": "light"
     },
     "output_type": "display_data"
    }
   ],
   "source": [
    "plt.plot(qs, ps, color='gray', label='model')\n",
    "pmf_snowfall.make_cdf().plot(label='data')\n",
    "\n",
    "decorate(xlabel='Total snowfall (inches)',\n",
    "         ylabel='CDF',\n",
    "         title='Normal model of variation in snowfall')"
   ]
  },
  {
   "cell_type": "markdown",
   "metadata": {},
   "source": [
    "We've had more winters below the mean than expected, but overall this looks like a reasonable model, particularly in the tails, which are often problematic.\n",
    "\n",
    "This model has three parameters: slope, intercept, and standard deviation of $\\epsilon$.  In the next section we'll see how to compute the likelihood of the data, given these parameters; then we'll see how to estimate them.\n"
   ]
  },
  {
   "cell_type": "code",
   "execution_count": 203,
   "metadata": {},
   "outputs": [
    {
     "data": {
      "text/html": [
       "<div>\n",
       "<style scoped>\n",
       "    .dataframe tbody tr th:only-of-type {\n",
       "        vertical-align: middle;\n",
       "    }\n",
       "\n",
       "    .dataframe tbody tr th {\n",
       "        vertical-align: top;\n",
       "    }\n",
       "\n",
       "    .dataframe thead th {\n",
       "        text-align: right;\n",
       "    }\n",
       "</style>\n",
       "<table border=\"1\" class=\"dataframe\">\n",
       "  <thead>\n",
       "    <tr style=\"text-align: right;\">\n",
       "      <th></th>\n",
       "      <th>YEAR</th>\n",
       "      <th>SNOW</th>\n",
       "    </tr>\n",
       "  </thead>\n",
       "  <tbody>\n",
       "    <tr>\n",
       "      <th>0</th>\n",
       "      <td>1968</td>\n",
       "      <td>44.7</td>\n",
       "    </tr>\n",
       "    <tr>\n",
       "      <th>1</th>\n",
       "      <td>1969</td>\n",
       "      <td>99.2</td>\n",
       "    </tr>\n",
       "    <tr>\n",
       "      <th>2</th>\n",
       "      <td>1970</td>\n",
       "      <td>66.8</td>\n",
       "    </tr>\n",
       "    <tr>\n",
       "      <th>3</th>\n",
       "      <td>1971</td>\n",
       "      <td>54.6</td>\n",
       "    </tr>\n",
       "    <tr>\n",
       "      <th>4</th>\n",
       "      <td>1972</td>\n",
       "      <td>68.7</td>\n",
       "    </tr>\n",
       "  </tbody>\n",
       "</table>\n",
       "</div>"
      ],
      "text/plain": [
       "   YEAR  SNOW\n",
       "0  1968  44.7\n",
       "1  1969  99.2\n",
       "2  1970  66.8\n",
       "3  1971  54.6\n",
       "4  1972  68.7"
      ]
     },
     "execution_count": 203,
     "metadata": {},
     "output_type": "execute_result"
    }
   ],
   "source": [
    "data = complete.reset_index()\n",
    "data.head()"
   ]
  },
  {
   "cell_type": "code",
   "execution_count": 180,
   "metadata": {},
   "outputs": [
    {
     "data": {
      "text/plain": [
       "1993.5"
      ]
     },
     "execution_count": 180,
     "metadata": {},
     "output_type": "execute_result"
    }
   ],
   "source": [
    "offset = data['YEAR'].mean()\n",
    "offset"
   ]
  },
  {
   "cell_type": "code",
   "execution_count": 204,
   "metadata": {},
   "outputs": [
    {
     "data": {
      "text/plain": [
       "0.0"
      ]
     },
     "execution_count": 204,
     "metadata": {},
     "output_type": "execute_result"
    }
   ],
   "source": [
    "data['x'] = data['YEAR'] - offset\n",
    "data['x'].mean()"
   ]
  },
  {
   "cell_type": "code",
   "execution_count": 182,
   "metadata": {},
   "outputs": [
    {
     "data": {
      "text/html": [
       "<table class=\"simpletable\">\n",
       "<caption>OLS Regression Results</caption>\n",
       "<tr>\n",
       "  <th>Dep. Variable:</th>          <td>SNOW</td>       <th>  R-squared:         </th> <td>   0.085</td>\n",
       "</tr>\n",
       "<tr>\n",
       "  <th>Model:</th>                   <td>OLS</td>       <th>  Adj. R-squared:    </th> <td>   0.067</td>\n",
       "</tr>\n",
       "<tr>\n",
       "  <th>Method:</th>             <td>Least Squares</td>  <th>  F-statistic:       </th> <td>   4.669</td>\n",
       "</tr>\n",
       "<tr>\n",
       "  <th>Date:</th>             <td>Fri, 14 Aug 2020</td> <th>  Prob (F-statistic):</th>  <td>0.0355</td> \n",
       "</tr>\n",
       "<tr>\n",
       "  <th>Time:</th>                 <td>16:14:01</td>     <th>  Log-Likelihood:    </th> <td> -241.46</td>\n",
       "</tr>\n",
       "<tr>\n",
       "  <th>No. Observations:</th>      <td>    52</td>      <th>  AIC:               </th> <td>   486.9</td>\n",
       "</tr>\n",
       "<tr>\n",
       "  <th>Df Residuals:</th>          <td>    50</td>      <th>  BIC:               </th> <td>   490.8</td>\n",
       "</tr>\n",
       "<tr>\n",
       "  <th>Df Model:</th>              <td>     1</td>      <th>                     </th>     <td> </td>   \n",
       "</tr>\n",
       "<tr>\n",
       "  <th>Covariance Type:</th>      <td>nonrobust</td>    <th>                     </th>     <td> </td>   \n",
       "</tr>\n",
       "</table>\n",
       "<table class=\"simpletable\">\n",
       "<tr>\n",
       "      <td></td>         <th>coef</th>     <th>std err</th>      <th>t</th>      <th>P>|t|</th>  <th>[0.025</th>    <th>0.975]</th>  \n",
       "</tr>\n",
       "<tr>\n",
       "  <th>Intercept</th> <td>   64.1904</td> <td>    3.555</td> <td>   18.054</td> <td> 0.000</td> <td>   57.049</td> <td>   71.332</td>\n",
       "</tr>\n",
       "<tr>\n",
       "  <th>x</th>         <td>    0.5119</td> <td>    0.237</td> <td>    2.161</td> <td> 0.036</td> <td>    0.036</td> <td>    0.988</td>\n",
       "</tr>\n",
       "</table>\n",
       "<table class=\"simpletable\">\n",
       "<tr>\n",
       "  <th>Omnibus:</th>       <td> 3.736</td> <th>  Durbin-Watson:     </th> <td>   2.290</td>\n",
       "</tr>\n",
       "<tr>\n",
       "  <th>Prob(Omnibus):</th> <td> 0.154</td> <th>  Jarque-Bera (JB):  </th> <td>   3.257</td>\n",
       "</tr>\n",
       "<tr>\n",
       "  <th>Skew:</th>          <td> 0.613</td> <th>  Prob(JB):          </th> <td>   0.196</td>\n",
       "</tr>\n",
       "<tr>\n",
       "  <th>Kurtosis:</th>      <td> 2.978</td> <th>  Cond. No.          </th> <td>    15.0</td>\n",
       "</tr>\n",
       "</table><br/><br/>Warnings:<br/>[1] Standard Errors assume that the covariance matrix of the errors is correctly specified."
      ],
      "text/plain": [
       "<class 'statsmodels.iolib.summary.Summary'>\n",
       "\"\"\"\n",
       "                            OLS Regression Results                            \n",
       "==============================================================================\n",
       "Dep. Variable:                   SNOW   R-squared:                       0.085\n",
       "Model:                            OLS   Adj. R-squared:                  0.067\n",
       "Method:                 Least Squares   F-statistic:                     4.669\n",
       "Date:                Fri, 14 Aug 2020   Prob (F-statistic):             0.0355\n",
       "Time:                        16:14:01   Log-Likelihood:                -241.46\n",
       "No. Observations:                  52   AIC:                             486.9\n",
       "Df Residuals:                      50   BIC:                             490.8\n",
       "Df Model:                           1                                         \n",
       "Covariance Type:            nonrobust                                         \n",
       "==============================================================================\n",
       "                 coef    std err          t      P>|t|      [0.025      0.975]\n",
       "------------------------------------------------------------------------------\n",
       "Intercept     64.1904      3.555     18.054      0.000      57.049      71.332\n",
       "x              0.5119      0.237      2.161      0.036       0.036       0.988\n",
       "==============================================================================\n",
       "Omnibus:                        3.736   Durbin-Watson:                   2.290\n",
       "Prob(Omnibus):                  0.154   Jarque-Bera (JB):                3.257\n",
       "Skew:                           0.613   Prob(JB):                        0.196\n",
       "Kurtosis:                       2.978   Cond. No.                         15.0\n",
       "==============================================================================\n",
       "\n",
       "Warnings:\n",
       "[1] Standard Errors assume that the covariance matrix of the errors is correctly specified.\n",
       "\"\"\""
      ]
     },
     "execution_count": 182,
     "metadata": {},
     "output_type": "execute_result"
    }
   ],
   "source": [
    "import statsmodels.formula.api as smf\n",
    "\n",
    "formula = 'SNOW ~ x'\n",
    "results = smf.ols(formula, data=data).fit()\n",
    "results.summary()"
   ]
  },
  {
   "cell_type": "markdown",
   "metadata": {},
   "source": [
    "Suppose there is a linear relationship between `x` and `y` with slope 2 and intercept 1, but the measurements of `y` are noisy; specifically, the noise is Gaussian with mean 0 and `sigma = 0.3`. "
   ]
  },
  {
   "cell_type": "code",
   "execution_count": 183,
   "metadata": {},
   "outputs": [],
   "source": [
    "inter = 64\n",
    "slope = 0.51\n",
    "sigma = 26"
   ]
  },
  {
   "cell_type": "code",
   "execution_count": 184,
   "metadata": {},
   "outputs": [],
   "source": [
    "xs = data['x']\n",
    "ys = data['SNOW']"
   ]
  },
  {
   "cell_type": "code",
   "execution_count": 185,
   "metadata": {},
   "outputs": [
    {
     "data": {
      "text/plain": [
       "count    52.000000\n",
       "mean     -0.190385\n",
       "std      25.385697\n",
       "min     -66.135000\n",
       "25%     -14.125000\n",
       "50%       6.565000\n",
       "75%      17.442500\n",
       "max      42.335000\n",
       "dtype: float64"
      ]
     },
     "execution_count": 185,
     "metadata": {},
     "output_type": "execute_result"
    }
   ],
   "source": [
    "resid = slope * xs + inter - ys\n",
    "resid.describe()"
   ]
  },
  {
   "cell_type": "code",
   "execution_count": 186,
   "metadata": {},
   "outputs": [
    {
     "data": {
      "text/plain": [
       "array([0.01490073, 0.00285242, 0.01305324, 0.01529515, 0.01279708,\n",
       "       0.0044134 , 0.01470964, 0.01474532, 0.01526593, 0.01426784,\n",
       "       0.00354561, 0.010655  , 0.00809097, 0.01521138, 0.01494539,\n",
       "       0.01455552, 0.01525171, 0.01425735, 0.01077026, 0.00837361,\n",
       "       0.01468642, 0.01030307, 0.01430933, 0.00718604, 0.00993735,\n",
       "       0.01258966, 0.0098625 , 0.01182567, 0.00117652, 0.0139576 ,\n",
       "       0.00411173, 0.01420639, 0.01015782, 0.01038433, 0.01482279,\n",
       "       0.00386994, 0.01221638, 0.00446989, 0.00796445, 0.01248853,\n",
       "       0.01372076, 0.01330202, 0.01304467, 0.01437819, 0.00407589,\n",
       "       0.00960892, 0.01492131, 0.00060389, 0.01392   , 0.01463711,\n",
       "       0.01329929, 0.01226386])"
      ]
     },
     "execution_count": 186,
     "metadata": {},
     "output_type": "execute_result"
    }
   ],
   "source": [
    "densities = norm(0, sigma).pdf(resid)\n",
    "densities"
   ]
  },
  {
   "cell_type": "code",
   "execution_count": 187,
   "metadata": {},
   "outputs": [
    {
     "data": {
      "text/plain": [
       "1.290411849292259e-105"
      ]
     },
     "execution_count": 187,
     "metadata": {},
     "output_type": "execute_result"
    }
   ],
   "source": [
    "likelihood = densities.prod()\n",
    "likelihood"
   ]
  },
  {
   "cell_type": "markdown",
   "metadata": {},
   "source": [
    "## Estimation\n",
    "\n",
    "We can solve the problem first using a grid algorithm, with uniform priors for slope, intercept, and sigma.\n",
    "\n",
    "As an exercise, fill in this likelihood function, then test it using the code below.\n",
    "\n",
    "Your results will depend on the random data you generated, but in general you should find that the posterior marginal distributions peak near the actual parameters."
   ]
  },
  {
   "cell_type": "code",
   "execution_count": 401,
   "metadata": {},
   "outputs": [],
   "source": [
    "slopes = np.linspace(-0.5, 1.5, 51)\n",
    "prior_slope = Pmf(1, slopes)\n",
    "prior_slope.index.name = 'Slope'"
   ]
  },
  {
   "cell_type": "code",
   "execution_count": 402,
   "metadata": {},
   "outputs": [],
   "source": [
    "inters = np.linspace(55, 75, 41)\n",
    "prior_inter = Pmf(1, inters)\n",
    "prior_inter.index.name = 'Intercept'"
   ]
  },
  {
   "cell_type": "code",
   "execution_count": 403,
   "metadata": {},
   "outputs": [],
   "source": [
    "sigmas = np.linspace(20, 35, 31)\n",
    "prior_sigma = Pmf(1, sigmas)\n",
    "prior_sigma.index.name = 'Sigma'"
   ]
  },
  {
   "cell_type": "code",
   "execution_count": 404,
   "metadata": {},
   "outputs": [
    {
     "data": {
      "text/html": [
       "<div>\n",
       "<style scoped>\n",
       "    .dataframe tbody tr th:only-of-type {\n",
       "        vertical-align: middle;\n",
       "    }\n",
       "\n",
       "    .dataframe tbody tr th {\n",
       "        vertical-align: top;\n",
       "    }\n",
       "\n",
       "    .dataframe thead th {\n",
       "        text-align: right;\n",
       "    }\n",
       "</style>\n",
       "<table border=\"1\" class=\"dataframe\">\n",
       "  <thead>\n",
       "    <tr style=\"text-align: right;\">\n",
       "      <th>Intercept</th>\n",
       "      <th>55.0</th>\n",
       "      <th>55.5</th>\n",
       "      <th>56.0</th>\n",
       "      <th>56.5</th>\n",
       "      <th>57.0</th>\n",
       "      <th>57.5</th>\n",
       "      <th>58.0</th>\n",
       "      <th>58.5</th>\n",
       "      <th>59.0</th>\n",
       "      <th>59.5</th>\n",
       "      <th>...</th>\n",
       "      <th>70.5</th>\n",
       "      <th>71.0</th>\n",
       "      <th>71.5</th>\n",
       "      <th>72.0</th>\n",
       "      <th>72.5</th>\n",
       "      <th>73.0</th>\n",
       "      <th>73.5</th>\n",
       "      <th>74.0</th>\n",
       "      <th>74.5</th>\n",
       "      <th>75.0</th>\n",
       "    </tr>\n",
       "    <tr>\n",
       "      <th>Slope</th>\n",
       "      <th></th>\n",
       "      <th></th>\n",
       "      <th></th>\n",
       "      <th></th>\n",
       "      <th></th>\n",
       "      <th></th>\n",
       "      <th></th>\n",
       "      <th></th>\n",
       "      <th></th>\n",
       "      <th></th>\n",
       "      <th></th>\n",
       "      <th></th>\n",
       "      <th></th>\n",
       "      <th></th>\n",
       "      <th></th>\n",
       "      <th></th>\n",
       "      <th></th>\n",
       "      <th></th>\n",
       "      <th></th>\n",
       "      <th></th>\n",
       "      <th></th>\n",
       "    </tr>\n",
       "  </thead>\n",
       "  <tbody>\n",
       "    <tr>\n",
       "      <th>-0.50</th>\n",
       "      <td>1</td>\n",
       "      <td>1</td>\n",
       "      <td>1</td>\n",
       "      <td>1</td>\n",
       "      <td>1</td>\n",
       "      <td>1</td>\n",
       "      <td>1</td>\n",
       "      <td>1</td>\n",
       "      <td>1</td>\n",
       "      <td>1</td>\n",
       "      <td>...</td>\n",
       "      <td>1</td>\n",
       "      <td>1</td>\n",
       "      <td>1</td>\n",
       "      <td>1</td>\n",
       "      <td>1</td>\n",
       "      <td>1</td>\n",
       "      <td>1</td>\n",
       "      <td>1</td>\n",
       "      <td>1</td>\n",
       "      <td>1</td>\n",
       "    </tr>\n",
       "    <tr>\n",
       "      <th>-0.46</th>\n",
       "      <td>1</td>\n",
       "      <td>1</td>\n",
       "      <td>1</td>\n",
       "      <td>1</td>\n",
       "      <td>1</td>\n",
       "      <td>1</td>\n",
       "      <td>1</td>\n",
       "      <td>1</td>\n",
       "      <td>1</td>\n",
       "      <td>1</td>\n",
       "      <td>...</td>\n",
       "      <td>1</td>\n",
       "      <td>1</td>\n",
       "      <td>1</td>\n",
       "      <td>1</td>\n",
       "      <td>1</td>\n",
       "      <td>1</td>\n",
       "      <td>1</td>\n",
       "      <td>1</td>\n",
       "      <td>1</td>\n",
       "      <td>1</td>\n",
       "    </tr>\n",
       "    <tr>\n",
       "      <th>-0.42</th>\n",
       "      <td>1</td>\n",
       "      <td>1</td>\n",
       "      <td>1</td>\n",
       "      <td>1</td>\n",
       "      <td>1</td>\n",
       "      <td>1</td>\n",
       "      <td>1</td>\n",
       "      <td>1</td>\n",
       "      <td>1</td>\n",
       "      <td>1</td>\n",
       "      <td>...</td>\n",
       "      <td>1</td>\n",
       "      <td>1</td>\n",
       "      <td>1</td>\n",
       "      <td>1</td>\n",
       "      <td>1</td>\n",
       "      <td>1</td>\n",
       "      <td>1</td>\n",
       "      <td>1</td>\n",
       "      <td>1</td>\n",
       "      <td>1</td>\n",
       "    </tr>\n",
       "    <tr>\n",
       "      <th>-0.38</th>\n",
       "      <td>1</td>\n",
       "      <td>1</td>\n",
       "      <td>1</td>\n",
       "      <td>1</td>\n",
       "      <td>1</td>\n",
       "      <td>1</td>\n",
       "      <td>1</td>\n",
       "      <td>1</td>\n",
       "      <td>1</td>\n",
       "      <td>1</td>\n",
       "      <td>...</td>\n",
       "      <td>1</td>\n",
       "      <td>1</td>\n",
       "      <td>1</td>\n",
       "      <td>1</td>\n",
       "      <td>1</td>\n",
       "      <td>1</td>\n",
       "      <td>1</td>\n",
       "      <td>1</td>\n",
       "      <td>1</td>\n",
       "      <td>1</td>\n",
       "    </tr>\n",
       "    <tr>\n",
       "      <th>-0.34</th>\n",
       "      <td>1</td>\n",
       "      <td>1</td>\n",
       "      <td>1</td>\n",
       "      <td>1</td>\n",
       "      <td>1</td>\n",
       "      <td>1</td>\n",
       "      <td>1</td>\n",
       "      <td>1</td>\n",
       "      <td>1</td>\n",
       "      <td>1</td>\n",
       "      <td>...</td>\n",
       "      <td>1</td>\n",
       "      <td>1</td>\n",
       "      <td>1</td>\n",
       "      <td>1</td>\n",
       "      <td>1</td>\n",
       "      <td>1</td>\n",
       "      <td>1</td>\n",
       "      <td>1</td>\n",
       "      <td>1</td>\n",
       "      <td>1</td>\n",
       "    </tr>\n",
       "  </tbody>\n",
       "</table>\n",
       "<p>5 rows × 41 columns</p>\n",
       "</div>"
      ],
      "text/plain": [
       "Intercept  55.0  55.5  56.0  56.5  57.0  57.5  58.0  58.5  59.0  59.5  ...  \\\n",
       "Slope                                                                  ...   \n",
       "-0.50         1     1     1     1     1     1     1     1     1     1  ...   \n",
       "-0.46         1     1     1     1     1     1     1     1     1     1  ...   \n",
       "-0.42         1     1     1     1     1     1     1     1     1     1  ...   \n",
       "-0.38         1     1     1     1     1     1     1     1     1     1  ...   \n",
       "-0.34         1     1     1     1     1     1     1     1     1     1  ...   \n",
       "\n",
       "Intercept  70.5  71.0  71.5  72.0  72.5  73.0  73.5  74.0  74.5  75.0  \n",
       "Slope                                                                  \n",
       "-0.50         1     1     1     1     1     1     1     1     1     1  \n",
       "-0.46         1     1     1     1     1     1     1     1     1     1  \n",
       "-0.42         1     1     1     1     1     1     1     1     1     1  \n",
       "-0.38         1     1     1     1     1     1     1     1     1     1  \n",
       "-0.34         1     1     1     1     1     1     1     1     1     1  \n",
       "\n",
       "[5 rows x 41 columns]"
      ]
     },
     "execution_count": 404,
     "metadata": {},
     "output_type": "execute_result"
    }
   ],
   "source": [
    "from utils import make_joint\n",
    "\n",
    "joint2 = make_joint(prior_inter, prior_slope)\n",
    "joint2.head()"
   ]
  },
  {
   "cell_type": "code",
   "execution_count": 405,
   "metadata": {},
   "outputs": [
    {
     "data": {
      "text/plain": [
       "Slope  Intercept\n",
       "-0.5   55.0         1\n",
       "       55.5         1\n",
       "       56.0         1\n",
       "       56.5         1\n",
       "       57.0         1\n",
       "dtype: int64"
      ]
     },
     "execution_count": 405,
     "metadata": {},
     "output_type": "execute_result"
    }
   ],
   "source": [
    "prior2 = Pmf(joint2.stack())\n",
    "prior2.head()"
   ]
  },
  {
   "cell_type": "code",
   "execution_count": 406,
   "metadata": {},
   "outputs": [
    {
     "data": {
      "text/html": [
       "<div>\n",
       "<style scoped>\n",
       "    .dataframe tbody tr th:only-of-type {\n",
       "        vertical-align: middle;\n",
       "    }\n",
       "\n",
       "    .dataframe tbody tr th {\n",
       "        vertical-align: top;\n",
       "    }\n",
       "\n",
       "    .dataframe thead th {\n",
       "        text-align: right;\n",
       "    }\n",
       "</style>\n",
       "<table border=\"1\" class=\"dataframe\">\n",
       "  <thead>\n",
       "    <tr style=\"text-align: right;\">\n",
       "      <th></th>\n",
       "      <th>Sigma</th>\n",
       "      <th>20.0</th>\n",
       "      <th>20.5</th>\n",
       "      <th>21.0</th>\n",
       "      <th>21.5</th>\n",
       "      <th>22.0</th>\n",
       "      <th>22.5</th>\n",
       "      <th>23.0</th>\n",
       "      <th>23.5</th>\n",
       "      <th>24.0</th>\n",
       "      <th>24.5</th>\n",
       "      <th>...</th>\n",
       "      <th>30.5</th>\n",
       "      <th>31.0</th>\n",
       "      <th>31.5</th>\n",
       "      <th>32.0</th>\n",
       "      <th>32.5</th>\n",
       "      <th>33.0</th>\n",
       "      <th>33.5</th>\n",
       "      <th>34.0</th>\n",
       "      <th>34.5</th>\n",
       "      <th>35.0</th>\n",
       "    </tr>\n",
       "    <tr>\n",
       "      <th>Slope</th>\n",
       "      <th>Intercept</th>\n",
       "      <th></th>\n",
       "      <th></th>\n",
       "      <th></th>\n",
       "      <th></th>\n",
       "      <th></th>\n",
       "      <th></th>\n",
       "      <th></th>\n",
       "      <th></th>\n",
       "      <th></th>\n",
       "      <th></th>\n",
       "      <th></th>\n",
       "      <th></th>\n",
       "      <th></th>\n",
       "      <th></th>\n",
       "      <th></th>\n",
       "      <th></th>\n",
       "      <th></th>\n",
       "      <th></th>\n",
       "      <th></th>\n",
       "      <th></th>\n",
       "      <th></th>\n",
       "    </tr>\n",
       "  </thead>\n",
       "  <tbody>\n",
       "    <tr>\n",
       "      <th rowspan=\"5\" valign=\"top\">-0.5</th>\n",
       "      <th>55.0</th>\n",
       "      <td>1</td>\n",
       "      <td>1</td>\n",
       "      <td>1</td>\n",
       "      <td>1</td>\n",
       "      <td>1</td>\n",
       "      <td>1</td>\n",
       "      <td>1</td>\n",
       "      <td>1</td>\n",
       "      <td>1</td>\n",
       "      <td>1</td>\n",
       "      <td>...</td>\n",
       "      <td>1</td>\n",
       "      <td>1</td>\n",
       "      <td>1</td>\n",
       "      <td>1</td>\n",
       "      <td>1</td>\n",
       "      <td>1</td>\n",
       "      <td>1</td>\n",
       "      <td>1</td>\n",
       "      <td>1</td>\n",
       "      <td>1</td>\n",
       "    </tr>\n",
       "    <tr>\n",
       "      <th>55.5</th>\n",
       "      <td>1</td>\n",
       "      <td>1</td>\n",
       "      <td>1</td>\n",
       "      <td>1</td>\n",
       "      <td>1</td>\n",
       "      <td>1</td>\n",
       "      <td>1</td>\n",
       "      <td>1</td>\n",
       "      <td>1</td>\n",
       "      <td>1</td>\n",
       "      <td>...</td>\n",
       "      <td>1</td>\n",
       "      <td>1</td>\n",
       "      <td>1</td>\n",
       "      <td>1</td>\n",
       "      <td>1</td>\n",
       "      <td>1</td>\n",
       "      <td>1</td>\n",
       "      <td>1</td>\n",
       "      <td>1</td>\n",
       "      <td>1</td>\n",
       "    </tr>\n",
       "    <tr>\n",
       "      <th>56.0</th>\n",
       "      <td>1</td>\n",
       "      <td>1</td>\n",
       "      <td>1</td>\n",
       "      <td>1</td>\n",
       "      <td>1</td>\n",
       "      <td>1</td>\n",
       "      <td>1</td>\n",
       "      <td>1</td>\n",
       "      <td>1</td>\n",
       "      <td>1</td>\n",
       "      <td>...</td>\n",
       "      <td>1</td>\n",
       "      <td>1</td>\n",
       "      <td>1</td>\n",
       "      <td>1</td>\n",
       "      <td>1</td>\n",
       "      <td>1</td>\n",
       "      <td>1</td>\n",
       "      <td>1</td>\n",
       "      <td>1</td>\n",
       "      <td>1</td>\n",
       "    </tr>\n",
       "    <tr>\n",
       "      <th>56.5</th>\n",
       "      <td>1</td>\n",
       "      <td>1</td>\n",
       "      <td>1</td>\n",
       "      <td>1</td>\n",
       "      <td>1</td>\n",
       "      <td>1</td>\n",
       "      <td>1</td>\n",
       "      <td>1</td>\n",
       "      <td>1</td>\n",
       "      <td>1</td>\n",
       "      <td>...</td>\n",
       "      <td>1</td>\n",
       "      <td>1</td>\n",
       "      <td>1</td>\n",
       "      <td>1</td>\n",
       "      <td>1</td>\n",
       "      <td>1</td>\n",
       "      <td>1</td>\n",
       "      <td>1</td>\n",
       "      <td>1</td>\n",
       "      <td>1</td>\n",
       "    </tr>\n",
       "    <tr>\n",
       "      <th>57.0</th>\n",
       "      <td>1</td>\n",
       "      <td>1</td>\n",
       "      <td>1</td>\n",
       "      <td>1</td>\n",
       "      <td>1</td>\n",
       "      <td>1</td>\n",
       "      <td>1</td>\n",
       "      <td>1</td>\n",
       "      <td>1</td>\n",
       "      <td>1</td>\n",
       "      <td>...</td>\n",
       "      <td>1</td>\n",
       "      <td>1</td>\n",
       "      <td>1</td>\n",
       "      <td>1</td>\n",
       "      <td>1</td>\n",
       "      <td>1</td>\n",
       "      <td>1</td>\n",
       "      <td>1</td>\n",
       "      <td>1</td>\n",
       "      <td>1</td>\n",
       "    </tr>\n",
       "  </tbody>\n",
       "</table>\n",
       "<p>5 rows × 31 columns</p>\n",
       "</div>"
      ],
      "text/plain": [
       "Sigma            20.0  20.5  21.0  21.5  22.0  22.5  23.0  23.5  24.0  24.5  \\\n",
       "Slope Intercept                                                               \n",
       "-0.5  55.0          1     1     1     1     1     1     1     1     1     1   \n",
       "      55.5          1     1     1     1     1     1     1     1     1     1   \n",
       "      56.0          1     1     1     1     1     1     1     1     1     1   \n",
       "      56.5          1     1     1     1     1     1     1     1     1     1   \n",
       "      57.0          1     1     1     1     1     1     1     1     1     1   \n",
       "\n",
       "Sigma            ...  30.5  31.0  31.5  32.0  32.5  33.0  33.5  34.0  34.5  \\\n",
       "Slope Intercept  ...                                                         \n",
       "-0.5  55.0       ...     1     1     1     1     1     1     1     1     1   \n",
       "      55.5       ...     1     1     1     1     1     1     1     1     1   \n",
       "      56.0       ...     1     1     1     1     1     1     1     1     1   \n",
       "      56.5       ...     1     1     1     1     1     1     1     1     1   \n",
       "      57.0       ...     1     1     1     1     1     1     1     1     1   \n",
       "\n",
       "Sigma            35.0  \n",
       "Slope Intercept        \n",
       "-0.5  55.0          1  \n",
       "      55.5          1  \n",
       "      56.0          1  \n",
       "      56.5          1  \n",
       "      57.0          1  \n",
       "\n",
       "[5 rows x 31 columns]"
      ]
     },
     "execution_count": 406,
     "metadata": {},
     "output_type": "execute_result"
    }
   ],
   "source": [
    "joint3 = make_joint(prior_sigma, prior2)\n",
    "joint3.head()"
   ]
  },
  {
   "cell_type": "code",
   "execution_count": 407,
   "metadata": {},
   "outputs": [
    {
     "data": {
      "text/plain": [
       "Slope  Intercept  Sigma\n",
       "-0.5   55.0       20.0     1\n",
       "                  20.5     1\n",
       "                  21.0     1\n",
       "                  21.5     1\n",
       "                  22.0     1\n",
       "dtype: int64"
      ]
     },
     "execution_count": 407,
     "metadata": {},
     "output_type": "execute_result"
    }
   ],
   "source": [
    "prior3 = Pmf(joint3.stack())\n",
    "prior3.head()"
   ]
  },
  {
   "cell_type": "code",
   "execution_count": 408,
   "metadata": {},
   "outputs": [
    {
     "data": {
      "text/plain": [
       "64821"
      ]
     },
     "execution_count": 408,
     "metadata": {},
     "output_type": "execute_result"
    }
   ],
   "source": [
    "len(prior3)"
   ]
  },
  {
   "cell_type": "code",
   "execution_count": 409,
   "metadata": {},
   "outputs": [],
   "source": [
    "xs = data['x']\n",
    "ys = data['SNOW']"
   ]
  },
  {
   "cell_type": "code",
   "execution_count": 410,
   "metadata": {},
   "outputs": [],
   "source": [
    "likelihood = prior3.copy()\n",
    "\n",
    "for slope, inter, sigma in prior3.index:\n",
    "    resid = slope * xs + inter - ys\n",
    "    densities = norm.pdf(resid, 0, sigma)\n",
    "    likelihood.loc[slope, inter, sigma] = densities.prod()"
   ]
  },
  {
   "cell_type": "code",
   "execution_count": 411,
   "metadata": {},
   "outputs": [
    {
     "data": {
      "text/plain": [
       "Slope  Intercept  Sigma\n",
       "-0.5   55.0       20.0     7.192950e-116\n",
       "                  20.5     3.868990e-115\n",
       "                  21.0     1.741017e-114\n",
       "                  21.5     6.671900e-114\n",
       "                  22.0     2.211914e-113\n",
       "dtype: float64"
      ]
     },
     "execution_count": 411,
     "metadata": {},
     "output_type": "execute_result"
    }
   ],
   "source": [
    "likelihood.head()"
   ]
  },
  {
   "cell_type": "code",
   "execution_count": 412,
   "metadata": {},
   "outputs": [
    {
     "data": {
      "text/plain": [
       "4.593476917509183e-102"
      ]
     },
     "execution_count": 412,
     "metadata": {},
     "output_type": "execute_result"
    }
   ],
   "source": [
    "likelihood.sum()"
   ]
  },
  {
   "cell_type": "code",
   "execution_count": 413,
   "metadata": {},
   "outputs": [
    {
     "data": {
      "text/plain": [
       "(64821,)"
      ]
     },
     "execution_count": 413,
     "metadata": {},
     "output_type": "execute_result"
    }
   ],
   "source": [
    "posterior3 = prior3 * likelihood\n",
    "posterior3.normalize()\n",
    "posterior3.shape"
   ]
  },
  {
   "cell_type": "code",
   "execution_count": 414,
   "metadata": {},
   "outputs": [
    {
     "data": {
      "text/html": [
       "<div>\n",
       "<style scoped>\n",
       "    .dataframe tbody tr th:only-of-type {\n",
       "        vertical-align: middle;\n",
       "    }\n",
       "\n",
       "    .dataframe tbody tr th {\n",
       "        vertical-align: top;\n",
       "    }\n",
       "\n",
       "    .dataframe thead th {\n",
       "        text-align: right;\n",
       "    }\n",
       "</style>\n",
       "<table border=\"1\" class=\"dataframe\">\n",
       "  <thead>\n",
       "    <tr style=\"text-align: right;\">\n",
       "      <th></th>\n",
       "      <th>Sigma</th>\n",
       "      <th>20.0</th>\n",
       "      <th>20.5</th>\n",
       "      <th>21.0</th>\n",
       "      <th>21.5</th>\n",
       "      <th>22.0</th>\n",
       "      <th>22.5</th>\n",
       "      <th>23.0</th>\n",
       "      <th>23.5</th>\n",
       "      <th>24.0</th>\n",
       "      <th>24.5</th>\n",
       "      <th>...</th>\n",
       "      <th>30.5</th>\n",
       "      <th>31.0</th>\n",
       "      <th>31.5</th>\n",
       "      <th>32.0</th>\n",
       "      <th>32.5</th>\n",
       "      <th>33.0</th>\n",
       "      <th>33.5</th>\n",
       "      <th>34.0</th>\n",
       "      <th>34.5</th>\n",
       "      <th>35.0</th>\n",
       "    </tr>\n",
       "    <tr>\n",
       "      <th>Slope</th>\n",
       "      <th>Intercept</th>\n",
       "      <th></th>\n",
       "      <th></th>\n",
       "      <th></th>\n",
       "      <th></th>\n",
       "      <th></th>\n",
       "      <th></th>\n",
       "      <th></th>\n",
       "      <th></th>\n",
       "      <th></th>\n",
       "      <th></th>\n",
       "      <th></th>\n",
       "      <th></th>\n",
       "      <th></th>\n",
       "      <th></th>\n",
       "      <th></th>\n",
       "      <th></th>\n",
       "      <th></th>\n",
       "      <th></th>\n",
       "      <th></th>\n",
       "      <th></th>\n",
       "      <th></th>\n",
       "    </tr>\n",
       "  </thead>\n",
       "  <tbody>\n",
       "    <tr>\n",
       "      <th rowspan=\"5\" valign=\"top\">-0.5</th>\n",
       "      <th>55.0</th>\n",
       "      <td>1.565905e-14</td>\n",
       "      <td>8.422792e-14</td>\n",
       "      <td>3.790194e-13</td>\n",
       "      <td>1.452473e-12</td>\n",
       "      <td>4.815338e-12</td>\n",
       "      <td>1.400469e-11</td>\n",
       "      <td>3.617675e-11</td>\n",
       "      <td>8.392474e-11</td>\n",
       "      <td>1.765777e-10</td>\n",
       "      <td>3.399368e-10</td>\n",
       "      <td>...</td>\n",
       "      <td>8.034474e-09</td>\n",
       "      <td>8.046543e-09</td>\n",
       "      <td>7.847997e-09</td>\n",
       "      <td>7.469618e-09</td>\n",
       "      <td>6.950995e-09</td>\n",
       "      <td>6.335147e-09</td>\n",
       "      <td>5.663946e-09</td>\n",
       "      <td>4.974744e-09</td>\n",
       "      <td>4.298312e-09</td>\n",
       "      <td>3.657981e-09</td>\n",
       "    </tr>\n",
       "    <tr>\n",
       "      <th>55.5</th>\n",
       "      <td>2.799915e-14</td>\n",
       "      <td>1.464449e-13</td>\n",
       "      <td>6.420620e-13</td>\n",
       "      <td>2.401597e-12</td>\n",
       "      <td>7.784035e-12</td>\n",
       "      <td>2.216584e-11</td>\n",
       "      <td>5.613900e-11</td>\n",
       "      <td>1.278471e-10</td>\n",
       "      <td>2.643621e-10</td>\n",
       "      <td>5.007040e-10</td>\n",
       "      <td>...</td>\n",
       "      <td>1.031522e-08</td>\n",
       "      <td>1.024845e-08</td>\n",
       "      <td>9.919712e-09</td>\n",
       "      <td>9.373118e-09</td>\n",
       "      <td>8.662088e-09</td>\n",
       "      <td>7.842563e-09</td>\n",
       "      <td>6.967450e-09</td>\n",
       "      <td>6.082740e-09</td>\n",
       "      <td>5.225327e-09</td>\n",
       "      <td>4.422329e-09</td>\n",
       "    </tr>\n",
       "    <tr>\n",
       "      <th>56.0</th>\n",
       "      <td>4.846293e-14</td>\n",
       "      <td>2.468643e-13</td>\n",
       "      <td>1.056064e-12</td>\n",
       "      <td>3.860810e-12</td>\n",
       "      <td>1.224948e-11</td>\n",
       "      <td>3.419344e-11</td>\n",
       "      <td>8.500160e-11</td>\n",
       "      <td>1.902253e-10</td>\n",
       "      <td>3.869554e-10</td>\n",
       "      <td>7.217023e-10</td>\n",
       "      <td>...</td>\n",
       "      <td>1.305962e-08</td>\n",
       "      <td>1.287750e-08</td>\n",
       "      <td>1.237512e-08</td>\n",
       "      <td>1.161332e-08</td>\n",
       "      <td>1.066235e-08</td>\n",
       "      <td>9.593453e-09</td>\n",
       "      <td>8.472232e-09</td>\n",
       "      <td>7.354341e-09</td>\n",
       "      <td>6.283269e-09</td>\n",
       "      <td>5.289952e-09</td>\n",
       "    </tr>\n",
       "    <tr>\n",
       "      <th>56.5</th>\n",
       "      <td>8.120073e-14</td>\n",
       "      <td>4.034667e-13</td>\n",
       "      <td>1.686557e-12</td>\n",
       "      <td>6.034523e-12</td>\n",
       "      <td>1.876575e-11</td>\n",
       "      <td>5.141019e-11</td>\n",
       "      <td>1.255790e-10</td>\n",
       "      <td>2.764537e-10</td>\n",
       "      <td>5.537590e-10</td>\n",
       "      <td>1.017957e-09</td>\n",
       "      <td>...</td>\n",
       "      <td>1.630472e-08</td>\n",
       "      <td>1.596359e-08</td>\n",
       "      <td>1.523736e-08</td>\n",
       "      <td>1.420741e-08</td>\n",
       "      <td>1.296398e-08</td>\n",
       "      <td>1.159598e-08</td>\n",
       "      <td>1.018336e-08</td>\n",
       "      <td>8.792339e-09</td>\n",
       "      <td>7.473335e-09</td>\n",
       "      <td>6.261000e-09</td>\n",
       "    </tr>\n",
       "    <tr>\n",
       "      <th>57.0</th>\n",
       "      <td>1.317030e-13</td>\n",
       "      <td>6.393264e-13</td>\n",
       "      <td>2.615228e-12</td>\n",
       "      <td>9.170513e-12</td>\n",
       "      <td>2.798654e-11</td>\n",
       "      <td>7.533613e-11</td>\n",
       "      <td>1.810231e-10</td>\n",
       "      <td>3.924220e-10</td>\n",
       "      <td>7.747809e-10</td>\n",
       "      <td>1.405060e-09</td>\n",
       "      <td>...</td>\n",
       "      <td>2.007368e-08</td>\n",
       "      <td>1.952335e-08</td>\n",
       "      <td>1.851741e-08</td>\n",
       "      <td>1.716169e-08</td>\n",
       "      <td>1.556964e-08</td>\n",
       "      <td>1.385018e-08</td>\n",
       "      <td>1.209911e-08</td>\n",
       "      <td>1.039396e-08</td>\n",
       "      <td>8.792247e-09</td>\n",
       "      <td>7.332073e-09</td>\n",
       "    </tr>\n",
       "  </tbody>\n",
       "</table>\n",
       "<p>5 rows × 31 columns</p>\n",
       "</div>"
      ],
      "text/plain": [
       "Sigma                    20.0          20.5          21.0          21.5  \\\n",
       "Slope Intercept                                                           \n",
       "-0.5  55.0       1.565905e-14  8.422792e-14  3.790194e-13  1.452473e-12   \n",
       "      55.5       2.799915e-14  1.464449e-13  6.420620e-13  2.401597e-12   \n",
       "      56.0       4.846293e-14  2.468643e-13  1.056064e-12  3.860810e-12   \n",
       "      56.5       8.120073e-14  4.034667e-13  1.686557e-12  6.034523e-12   \n",
       "      57.0       1.317030e-13  6.393264e-13  2.615228e-12  9.170513e-12   \n",
       "\n",
       "Sigma                    22.0          22.5          23.0          23.5  \\\n",
       "Slope Intercept                                                           \n",
       "-0.5  55.0       4.815338e-12  1.400469e-11  3.617675e-11  8.392474e-11   \n",
       "      55.5       7.784035e-12  2.216584e-11  5.613900e-11  1.278471e-10   \n",
       "      56.0       1.224948e-11  3.419344e-11  8.500160e-11  1.902253e-10   \n",
       "      56.5       1.876575e-11  5.141019e-11  1.255790e-10  2.764537e-10   \n",
       "      57.0       2.798654e-11  7.533613e-11  1.810231e-10  3.924220e-10   \n",
       "\n",
       "Sigma                    24.0          24.5  ...          30.5          31.0  \\\n",
       "Slope Intercept                              ...                               \n",
       "-0.5  55.0       1.765777e-10  3.399368e-10  ...  8.034474e-09  8.046543e-09   \n",
       "      55.5       2.643621e-10  5.007040e-10  ...  1.031522e-08  1.024845e-08   \n",
       "      56.0       3.869554e-10  7.217023e-10  ...  1.305962e-08  1.287750e-08   \n",
       "      56.5       5.537590e-10  1.017957e-09  ...  1.630472e-08  1.596359e-08   \n",
       "      57.0       7.747809e-10  1.405060e-09  ...  2.007368e-08  1.952335e-08   \n",
       "\n",
       "Sigma                    31.5          32.0          32.5          33.0  \\\n",
       "Slope Intercept                                                           \n",
       "-0.5  55.0       7.847997e-09  7.469618e-09  6.950995e-09  6.335147e-09   \n",
       "      55.5       9.919712e-09  9.373118e-09  8.662088e-09  7.842563e-09   \n",
       "      56.0       1.237512e-08  1.161332e-08  1.066235e-08  9.593453e-09   \n",
       "      56.5       1.523736e-08  1.420741e-08  1.296398e-08  1.159598e-08   \n",
       "      57.0       1.851741e-08  1.716169e-08  1.556964e-08  1.385018e-08   \n",
       "\n",
       "Sigma                    33.5          34.0          34.5          35.0  \n",
       "Slope Intercept                                                          \n",
       "-0.5  55.0       5.663946e-09  4.974744e-09  4.298312e-09  3.657981e-09  \n",
       "      55.5       6.967450e-09  6.082740e-09  5.225327e-09  4.422329e-09  \n",
       "      56.0       8.472232e-09  7.354341e-09  6.283269e-09  5.289952e-09  \n",
       "      56.5       1.018336e-08  8.792339e-09  7.473335e-09  6.261000e-09  \n",
       "      57.0       1.209911e-08  1.039396e-08  8.792247e-09  7.332073e-09  \n",
       "\n",
       "[5 rows x 31 columns]"
      ]
     },
     "execution_count": 414,
     "metadata": {},
     "output_type": "execute_result"
    }
   ],
   "source": [
    "posterior3_unstacked = posterior3.unstack()\n",
    "posterior3_unstacked.head()"
   ]
  },
  {
   "cell_type": "code",
   "execution_count": 415,
   "metadata": {},
   "outputs": [
    {
     "data": {
      "image/png": "[encoded data removed]",
      "text/plain": [
       "<Figure size 432x288 with 1 Axes>"
      ]
     },
     "metadata": {
      "needs_background": "light"
     },
     "output_type": "display_data"
    }
   ],
   "source": [
    "from utils import marginal\n",
    "\n",
    "posterior_sigma = marginal(posterior3_unstacked, 0)\n",
    "posterior_sigma.plot()\n",
    "\n",
    "decorate(xlabel='$\\sigma$, standard deviation of $\\epsilon$',\n",
    "         ylabel='PDF',\n",
    "         title='Posterior marginal distribution of $\\sigma$')"
   ]
  },
  {
   "cell_type": "code",
   "execution_count": 416,
   "metadata": {},
   "outputs": [
    {
     "data": {
      "text/plain": [
       "Slope  Intercept\n",
       "-0.5   55.0         1.088531e-07\n",
       "       55.5         1.400255e-07\n",
       "       56.0         1.778945e-07\n",
       "       56.5         2.231539e-07\n",
       "       57.0         2.763324e-07\n",
       "dtype: float64"
      ]
     },
     "execution_count": 416,
     "metadata": {},
     "output_type": "execute_result"
    }
   ],
   "source": [
    "posterior2 = marginal(posterior3_unstacked, 1)\n",
    "posterior2.head()"
   ]
  },
  {
   "cell_type": "code",
   "execution_count": 417,
   "metadata": {},
   "outputs": [
    {
     "data": {
      "text/html": [
       "<div>\n",
       "<style scoped>\n",
       "    .dataframe tbody tr th:only-of-type {\n",
       "        vertical-align: middle;\n",
       "    }\n",
       "\n",
       "    .dataframe tbody tr th {\n",
       "        vertical-align: top;\n",
       "    }\n",
       "\n",
       "    .dataframe thead th {\n",
       "        text-align: right;\n",
       "    }\n",
       "</style>\n",
       "<table border=\"1\" class=\"dataframe\">\n",
       "  <thead>\n",
       "    <tr style=\"text-align: right;\">\n",
       "      <th>Slope</th>\n",
       "      <th>-0.50</th>\n",
       "      <th>-0.46</th>\n",
       "      <th>-0.42</th>\n",
       "      <th>-0.38</th>\n",
       "      <th>-0.34</th>\n",
       "      <th>-0.30</th>\n",
       "      <th>-0.26</th>\n",
       "      <th>-0.22</th>\n",
       "      <th>-0.18</th>\n",
       "      <th>-0.14</th>\n",
       "      <th>...</th>\n",
       "      <th>1.14</th>\n",
       "      <th>1.18</th>\n",
       "      <th>1.22</th>\n",
       "      <th>1.26</th>\n",
       "      <th>1.30</th>\n",
       "      <th>1.34</th>\n",
       "      <th>1.38</th>\n",
       "      <th>1.42</th>\n",
       "      <th>1.46</th>\n",
       "      <th>1.50</th>\n",
       "    </tr>\n",
       "    <tr>\n",
       "      <th>Intercept</th>\n",
       "      <th></th>\n",
       "      <th></th>\n",
       "      <th></th>\n",
       "      <th></th>\n",
       "      <th></th>\n",
       "      <th></th>\n",
       "      <th></th>\n",
       "      <th></th>\n",
       "      <th></th>\n",
       "      <th></th>\n",
       "      <th></th>\n",
       "      <th></th>\n",
       "      <th></th>\n",
       "      <th></th>\n",
       "      <th></th>\n",
       "      <th></th>\n",
       "      <th></th>\n",
       "      <th></th>\n",
       "      <th></th>\n",
       "      <th></th>\n",
       "      <th></th>\n",
       "    </tr>\n",
       "  </thead>\n",
       "  <tbody>\n",
       "    <tr>\n",
       "      <th>55.0</th>\n",
       "      <td>1.088531e-07</td>\n",
       "      <td>1.804076e-07</td>\n",
       "      <td>2.949886e-07</td>\n",
       "      <td>4.756651e-07</td>\n",
       "      <td>7.560171e-07</td>\n",
       "      <td>0.000001</td>\n",
       "      <td>0.000002</td>\n",
       "      <td>0.000003</td>\n",
       "      <td>0.000004</td>\n",
       "      <td>0.000006</td>\n",
       "      <td>...</td>\n",
       "      <td>0.000008</td>\n",
       "      <td>0.000005</td>\n",
       "      <td>0.000004</td>\n",
       "      <td>0.000002</td>\n",
       "      <td>0.000002</td>\n",
       "      <td>9.885575e-07</td>\n",
       "      <td>6.274826e-07</td>\n",
       "      <td>3.924648e-07</td>\n",
       "      <td>2.420038e-07</td>\n",
       "      <td>1.471870e-07</td>\n",
       "    </tr>\n",
       "    <tr>\n",
       "      <th>55.5</th>\n",
       "      <td>1.400255e-07</td>\n",
       "      <td>2.329079e-07</td>\n",
       "      <td>3.822384e-07</td>\n",
       "      <td>6.186706e-07</td>\n",
       "      <td>9.870532e-07</td>\n",
       "      <td>0.000002</td>\n",
       "      <td>0.000002</td>\n",
       "      <td>0.000004</td>\n",
       "      <td>0.000005</td>\n",
       "      <td>0.000008</td>\n",
       "      <td>...</td>\n",
       "      <td>0.000010</td>\n",
       "      <td>0.000007</td>\n",
       "      <td>0.000005</td>\n",
       "      <td>0.000003</td>\n",
       "      <td>0.000002</td>\n",
       "      <td>1.293595e-06</td>\n",
       "      <td>8.179717e-07</td>\n",
       "      <td>5.096762e-07</td>\n",
       "      <td>3.131106e-07</td>\n",
       "      <td>1.897402e-07</td>\n",
       "    </tr>\n",
       "    <tr>\n",
       "      <th>56.0</th>\n",
       "      <td>1.778945e-07</td>\n",
       "      <td>2.969361e-07</td>\n",
       "      <td>4.890710e-07</td>\n",
       "      <td>7.944823e-07</td>\n",
       "      <td>1.272252e-06</td>\n",
       "      <td>0.000002</td>\n",
       "      <td>0.000003</td>\n",
       "      <td>0.000005</td>\n",
       "      <td>0.000007</td>\n",
       "      <td>0.000011</td>\n",
       "      <td>...</td>\n",
       "      <td>0.000013</td>\n",
       "      <td>0.000009</td>\n",
       "      <td>0.000006</td>\n",
       "      <td>0.000004</td>\n",
       "      <td>0.000003</td>\n",
       "      <td>1.671061e-06</td>\n",
       "      <td>1.052728e-06</td>\n",
       "      <td>6.535394e-07</td>\n",
       "      <td>4.000356e-07</td>\n",
       "      <td>2.415544e-07</td>\n",
       "    </tr>\n",
       "    <tr>\n",
       "      <th>56.5</th>\n",
       "      <td>2.231539e-07</td>\n",
       "      <td>3.737507e-07</td>\n",
       "      <td>6.177343e-07</td>\n",
       "      <td>1.007052e-06</td>\n",
       "      <td>1.618446e-06</td>\n",
       "      <td>0.000003</td>\n",
       "      <td>0.000004</td>\n",
       "      <td>0.000006</td>\n",
       "      <td>0.000009</td>\n",
       "      <td>0.000014</td>\n",
       "      <td>...</td>\n",
       "      <td>0.000017</td>\n",
       "      <td>0.000012</td>\n",
       "      <td>0.000008</td>\n",
       "      <td>0.000005</td>\n",
       "      <td>0.000003</td>\n",
       "      <td>2.130337e-06</td>\n",
       "      <td>1.337233e-06</td>\n",
       "      <td>8.272033e-07</td>\n",
       "      <td>5.045584e-07</td>\n",
       "      <td>3.036196e-07</td>\n",
       "    </tr>\n",
       "    <tr>\n",
       "      <th>57.0</th>\n",
       "      <td>2.763324e-07</td>\n",
       "      <td>4.643366e-07</td>\n",
       "      <td>7.700312e-07</td>\n",
       "      <td>1.259621e-06</td>\n",
       "      <td>2.031355e-06</td>\n",
       "      <td>0.000003</td>\n",
       "      <td>0.000005</td>\n",
       "      <td>0.000008</td>\n",
       "      <td>0.000012</td>\n",
       "      <td>0.000017</td>\n",
       "      <td>...</td>\n",
       "      <td>0.000022</td>\n",
       "      <td>0.000015</td>\n",
       "      <td>0.000010</td>\n",
       "      <td>0.000007</td>\n",
       "      <td>0.000004</td>\n",
       "      <td>2.679369e-06</td>\n",
       "      <td>1.676039e-06</td>\n",
       "      <td>1.033228e-06</td>\n",
       "      <td>6.280924e-07</td>\n",
       "      <td>3.767026e-07</td>\n",
       "    </tr>\n",
       "  </tbody>\n",
       "</table>\n",
       "<p>5 rows × 51 columns</p>\n",
       "</div>"
      ],
      "text/plain": [
       "Slope             -0.50         -0.46         -0.42         -0.38  \\\n",
       "Intercept                                                           \n",
       "55.0       1.088531e-07  1.804076e-07  2.949886e-07  4.756651e-07   \n",
       "55.5       1.400255e-07  2.329079e-07  3.822384e-07  6.186706e-07   \n",
       "56.0       1.778945e-07  2.969361e-07  4.890710e-07  7.944823e-07   \n",
       "56.5       2.231539e-07  3.737507e-07  6.177343e-07  1.007052e-06   \n",
       "57.0       2.763324e-07  4.643366e-07  7.700312e-07  1.259621e-06   \n",
       "\n",
       "Slope             -0.34     -0.30     -0.26     -0.22     -0.18     -0.14  \\\n",
       "Intercept                                                                   \n",
       "55.0       7.560171e-07  0.000001  0.000002  0.000003  0.000004  0.000006   \n",
       "55.5       9.870532e-07  0.000002  0.000002  0.000004  0.000005  0.000008   \n",
       "56.0       1.272252e-06  0.000002  0.000003  0.000005  0.000007  0.000011   \n",
       "56.5       1.618446e-06  0.000003  0.000004  0.000006  0.000009  0.000014   \n",
       "57.0       2.031355e-06  0.000003  0.000005  0.000008  0.000012  0.000017   \n",
       "\n",
       "Slope      ...      1.14      1.18      1.22      1.26      1.30  \\\n",
       "Intercept  ...                                                     \n",
       "55.0       ...  0.000008  0.000005  0.000004  0.000002  0.000002   \n",
       "55.5       ...  0.000010  0.000007  0.000005  0.000003  0.000002   \n",
       "56.0       ...  0.000013  0.000009  0.000006  0.000004  0.000003   \n",
       "56.5       ...  0.000017  0.000012  0.000008  0.000005  0.000003   \n",
       "57.0       ...  0.000022  0.000015  0.000010  0.000007  0.000004   \n",
       "\n",
       "Slope              1.34          1.38          1.42          1.46  \\\n",
       "Intercept                                                           \n",
       "55.0       9.885575e-07  6.274826e-07  3.924648e-07  2.420038e-07   \n",
       "55.5       1.293595e-06  8.179717e-07  5.096762e-07  3.131106e-07   \n",
       "56.0       1.671061e-06  1.052728e-06  6.535394e-07  4.000356e-07   \n",
       "56.5       2.130337e-06  1.337233e-06  8.272033e-07  5.045584e-07   \n",
       "57.0       2.679369e-06  1.676039e-06  1.033228e-06  6.280924e-07   \n",
       "\n",
       "Slope              1.50  \n",
       "Intercept                \n",
       "55.0       1.471870e-07  \n",
       "55.5       1.897402e-07  \n",
       "56.0       2.415544e-07  \n",
       "56.5       3.036196e-07  \n",
       "57.0       3.767026e-07  \n",
       "\n",
       "[5 rows x 51 columns]"
      ]
     },
     "execution_count": 417,
     "metadata": {},
     "output_type": "execute_result"
    }
   ],
   "source": [
    "joint_posterior = posterior2.unstack().transpose()\n",
    "joint_posterior.head()"
   ]
  },
  {
   "cell_type": "code",
   "execution_count": 418,
   "metadata": {},
   "outputs": [],
   "source": [
    "def plot_contour(joint, **options):\n",
    "    \"\"\"Plot a joint distribution.\n",
    "    \n",
    "    joint: DataFrame representing a joint PMF\n",
    "    \"\"\"\n",
    "    cs = plt.contour(joint.columns, joint.index, joint, **options)\n",
    "    decorate(xlabel=joint.columns.name, \n",
    "             ylabel=joint.index.name)\n",
    "    return cs"
   ]
  },
  {
   "cell_type": "code",
   "execution_count": 419,
   "metadata": {},
   "outputs": [
    {
     "data": {
      "text/plain": [
       "<matplotlib.contour.QuadContourSet at 0x7f04fb616290>"
      ]
     },
     "execution_count": 419,
     "metadata": {},
     "output_type": "execute_result"
    },
    {
     "data": {
      "image/png": "[encoded data removed]",
      "text/plain": [
       "<Figure size 432x288 with 1 Axes>"
      ]
     },
     "metadata": {
      "needs_background": "light"
     },
     "output_type": "display_data"
    }
   ],
   "source": [
    "plot_contour(joint_posterior)"
   ]
  },
  {
   "cell_type": "code",
   "execution_count": 420,
   "metadata": {},
   "outputs": [
    {
     "data": {
      "image/png": "[encoded data removed]",
      "text/plain": [
       "<Figure size 432x288 with 1 Axes>"
      ]
     },
     "metadata": {
      "needs_background": "light"
     },
     "output_type": "display_data"
    }
   ],
   "source": [
    "posterior_slope = marginal(joint_posterior, 0)\n",
    "\n",
    "posterior_slope.plot()\n",
    "decorate(xlabel='Slope (inches per year)',\n",
    "         ylabel='PDF',\n",
    "         title='Posterior marginal distribution of slope')"
   ]
  },
  {
   "cell_type": "code",
   "execution_count": 387,
   "metadata": {},
   "outputs": [
    {
     "data": {
      "text/plain": [
       "(0.5118684538574172, array([0.1, 0.9]))"
      ]
     },
     "execution_count": 387,
     "metadata": {},
     "output_type": "execute_result"
    }
   ],
   "source": [
    "posterior_slope.mean(), posterior_slope.credible_interval(0.9)"
   ]
  },
  {
   "cell_type": "code",
   "execution_count": 388,
   "metadata": {},
   "outputs": [
    {
     "data": {
      "image/png": "[encoded data removed]",
      "text/plain": [
       "<Figure size 432x288 with 1 Axes>"
      ]
     },
     "metadata": {
      "needs_background": "light"
     },
     "output_type": "display_data"
    }
   ],
   "source": [
    "posterior_inter = marginal(joint_posterior, 1)\n",
    "\n",
    "posterior_inter.plot()\n",
    "decorate(xlabel='intercept (inches)',\n",
    "         ylabel='PDF',\n",
    "         title='Posterior marginal distribution of intercept')"
   ]
  },
  {
   "cell_type": "code",
   "execution_count": 389,
   "metadata": {},
   "outputs": [
    {
     "data": {
      "text/plain": [
       "(64.22861083706859, array([58.33333333, 70.33333333]))"
      ]
     },
     "execution_count": 389,
     "metadata": {},
     "output_type": "execute_result"
    }
   ],
   "source": [
    "posterior_inter.mean(), posterior_inter.credible_interval(0.9)"
   ]
  },
  {
   "cell_type": "markdown",
   "metadata": {},
   "source": [
    "So it looks like my conjecture was wrong, we are actually getting more snow around here than we used to, increasing at a rate of about a half-inch per year, which is substantial.  On average, we get an additional 25 inches of snow per year than we did when I was young.\n",
    "\n",
    "This example shows that with slow-moving trends and noisy data, your instincts can be misleading.  In this case, you might suspect that I underestimate the amount of snow when I was young because I wanted snow, and overestimate it now because I don't.  But you would be mistaken.\n",
    "\n",
    "During the Blizzard of 1978, we did not have a snowblower and my brother and I had to shovel.  My sister got a pass for no good reason.  Our driveway was about 60 feet long and three cars wide near the garage.  And we had to shovel Mr. Crocker's driveway, too, for which we were not allowed to accept payment.  However, as I recall, it was during this excavation that I accidentally hit my brother with a shovel on the head, and it bled a lot because, you know, scalp wounds.\n",
    "\n",
    "Anyway, the point is that I don't think I underestimate the amount of snow when I was young because I have fond memories of it. "
   ]
  },
  {
   "cell_type": "markdown",
   "metadata": {},
   "source": [
    "## Optimization"
   ]
  },
  {
   "cell_type": "code",
   "execution_count": 421,
   "metadata": {},
   "outputs": [],
   "source": [
    "sigmas = joint3.columns\n",
    "likelihood = joint3.copy()\n",
    "\n",
    "for slope, inter in joint3.index:\n",
    "    resid = slope * xs + inter - ys\n",
    "    resid_mesh, sigma_mesh = np.meshgrid(resid, sigmas)\n",
    "    densities = norm.pdf(resid_mesh, 0, sigma_mesh)\n",
    "    likelihood.loc[slope, inter] = densities.prod(axis=1)"
   ]
  },
  {
   "cell_type": "code",
   "execution_count": 422,
   "metadata": {},
   "outputs": [],
   "source": [
    "from utils import normalize\n",
    "\n",
    "posterior3_unstacked = joint3 * likelihood\n",
    "normalize(posterior3_unstacked)"
   ]
  },
  {
   "cell_type": "code",
   "execution_count": 423,
   "metadata": {},
   "outputs": [
    {
     "data": {
      "image/png": "[encoded data removed]",
      "text/plain": [
       "<Figure size 432x288 with 1 Axes>"
      ]
     },
     "metadata": {
      "needs_background": "light"
     },
     "output_type": "display_data"
    }
   ],
   "source": [
    "posterior_sigma = marginal(posterior3_unstacked, 0)\n",
    "posterior_sigma.plot()\n",
    "\n",
    "decorate(xlabel='$\\sigma$, standard deviation of $\\epsilon$',\n",
    "         ylabel='PDF',\n",
    "         title='Posterior marginal distribution of $\\sigma$')"
   ]
  },
  {
   "cell_type": "code",
   "execution_count": 424,
   "metadata": {},
   "outputs": [
    {
     "data": {
      "text/plain": [
       "Slope  Intercept\n",
       "-0.5   55.0         1.088531e-07\n",
       "       55.5         1.400255e-07\n",
       "       56.0         1.778945e-07\n",
       "       56.5         2.231539e-07\n",
       "       57.0         2.763324e-07\n",
       "dtype: float64"
      ]
     },
     "execution_count": 424,
     "metadata": {},
     "output_type": "execute_result"
    }
   ],
   "source": [
    "posterior2 = marginal(posterior3_unstacked, 1)\n",
    "posterior2.head()"
   ]
  },
  {
   "cell_type": "code",
   "execution_count": 425,
   "metadata": {},
   "outputs": [
    {
     "data": {
      "text/html": [
       "<div>\n",
       "<style scoped>\n",
       "    .dataframe tbody tr th:only-of-type {\n",
       "        vertical-align: middle;\n",
       "    }\n",
       "\n",
       "    .dataframe tbody tr th {\n",
       "        vertical-align: top;\n",
       "    }\n",
       "\n",
       "    .dataframe thead th {\n",
       "        text-align: right;\n",
       "    }\n",
       "</style>\n",
       "<table border=\"1\" class=\"dataframe\">\n",
       "  <thead>\n",
       "    <tr style=\"text-align: right;\">\n",
       "      <th>Slope</th>\n",
       "      <th>-0.50</th>\n",
       "      <th>-0.46</th>\n",
       "      <th>-0.42</th>\n",
       "      <th>-0.38</th>\n",
       "      <th>-0.34</th>\n",
       "      <th>-0.30</th>\n",
       "      <th>-0.26</th>\n",
       "      <th>-0.22</th>\n",
       "      <th>-0.18</th>\n",
       "      <th>-0.14</th>\n",
       "      <th>...</th>\n",
       "      <th>1.14</th>\n",
       "      <th>1.18</th>\n",
       "      <th>1.22</th>\n",
       "      <th>1.26</th>\n",
       "      <th>1.30</th>\n",
       "      <th>1.34</th>\n",
       "      <th>1.38</th>\n",
       "      <th>1.42</th>\n",
       "      <th>1.46</th>\n",
       "      <th>1.50</th>\n",
       "    </tr>\n",
       "    <tr>\n",
       "      <th>Intercept</th>\n",
       "      <th></th>\n",
       "      <th></th>\n",
       "      <th></th>\n",
       "      <th></th>\n",
       "      <th></th>\n",
       "      <th></th>\n",
       "      <th></th>\n",
       "      <th></th>\n",
       "      <th></th>\n",
       "      <th></th>\n",
       "      <th></th>\n",
       "      <th></th>\n",
       "      <th></th>\n",
       "      <th></th>\n",
       "      <th></th>\n",
       "      <th></th>\n",
       "      <th></th>\n",
       "      <th></th>\n",
       "      <th></th>\n",
       "      <th></th>\n",
       "      <th></th>\n",
       "    </tr>\n",
       "  </thead>\n",
       "  <tbody>\n",
       "    <tr>\n",
       "      <th>55.0</th>\n",
       "      <td>1.088531e-07</td>\n",
       "      <td>1.804076e-07</td>\n",
       "      <td>2.949886e-07</td>\n",
       "      <td>4.756651e-07</td>\n",
       "      <td>7.560171e-07</td>\n",
       "      <td>0.000001</td>\n",
       "      <td>0.000002</td>\n",
       "      <td>0.000003</td>\n",
       "      <td>0.000004</td>\n",
       "      <td>0.000006</td>\n",
       "      <td>...</td>\n",
       "      <td>0.000008</td>\n",
       "      <td>0.000005</td>\n",
       "      <td>0.000004</td>\n",
       "      <td>0.000002</td>\n",
       "      <td>0.000002</td>\n",
       "      <td>9.885575e-07</td>\n",
       "      <td>6.274826e-07</td>\n",
       "      <td>3.924648e-07</td>\n",
       "      <td>2.420038e-07</td>\n",
       "      <td>1.471870e-07</td>\n",
       "    </tr>\n",
       "    <tr>\n",
       "      <th>55.5</th>\n",
       "      <td>1.400255e-07</td>\n",
       "      <td>2.329079e-07</td>\n",
       "      <td>3.822384e-07</td>\n",
       "      <td>6.186706e-07</td>\n",
       "      <td>9.870532e-07</td>\n",
       "      <td>0.000002</td>\n",
       "      <td>0.000002</td>\n",
       "      <td>0.000004</td>\n",
       "      <td>0.000005</td>\n",
       "      <td>0.000008</td>\n",
       "      <td>...</td>\n",
       "      <td>0.000010</td>\n",
       "      <td>0.000007</td>\n",
       "      <td>0.000005</td>\n",
       "      <td>0.000003</td>\n",
       "      <td>0.000002</td>\n",
       "      <td>1.293595e-06</td>\n",
       "      <td>8.179717e-07</td>\n",
       "      <td>5.096762e-07</td>\n",
       "      <td>3.131106e-07</td>\n",
       "      <td>1.897402e-07</td>\n",
       "    </tr>\n",
       "    <tr>\n",
       "      <th>56.0</th>\n",
       "      <td>1.778945e-07</td>\n",
       "      <td>2.969361e-07</td>\n",
       "      <td>4.890710e-07</td>\n",
       "      <td>7.944823e-07</td>\n",
       "      <td>1.272252e-06</td>\n",
       "      <td>0.000002</td>\n",
       "      <td>0.000003</td>\n",
       "      <td>0.000005</td>\n",
       "      <td>0.000007</td>\n",
       "      <td>0.000011</td>\n",
       "      <td>...</td>\n",
       "      <td>0.000013</td>\n",
       "      <td>0.000009</td>\n",
       "      <td>0.000006</td>\n",
       "      <td>0.000004</td>\n",
       "      <td>0.000003</td>\n",
       "      <td>1.671061e-06</td>\n",
       "      <td>1.052728e-06</td>\n",
       "      <td>6.535394e-07</td>\n",
       "      <td>4.000356e-07</td>\n",
       "      <td>2.415544e-07</td>\n",
       "    </tr>\n",
       "    <tr>\n",
       "      <th>56.5</th>\n",
       "      <td>2.231539e-07</td>\n",
       "      <td>3.737507e-07</td>\n",
       "      <td>6.177343e-07</td>\n",
       "      <td>1.007052e-06</td>\n",
       "      <td>1.618446e-06</td>\n",
       "      <td>0.000003</td>\n",
       "      <td>0.000004</td>\n",
       "      <td>0.000006</td>\n",
       "      <td>0.000009</td>\n",
       "      <td>0.000014</td>\n",
       "      <td>...</td>\n",
       "      <td>0.000017</td>\n",
       "      <td>0.000012</td>\n",
       "      <td>0.000008</td>\n",
       "      <td>0.000005</td>\n",
       "      <td>0.000003</td>\n",
       "      <td>2.130337e-06</td>\n",
       "      <td>1.337233e-06</td>\n",
       "      <td>8.272033e-07</td>\n",
       "      <td>5.045584e-07</td>\n",
       "      <td>3.036196e-07</td>\n",
       "    </tr>\n",
       "    <tr>\n",
       "      <th>57.0</th>\n",
       "      <td>2.763324e-07</td>\n",
       "      <td>4.643366e-07</td>\n",
       "      <td>7.700312e-07</td>\n",
       "      <td>1.259621e-06</td>\n",
       "      <td>2.031355e-06</td>\n",
       "      <td>0.000003</td>\n",
       "      <td>0.000005</td>\n",
       "      <td>0.000008</td>\n",
       "      <td>0.000012</td>\n",
       "      <td>0.000017</td>\n",
       "      <td>...</td>\n",
       "      <td>0.000022</td>\n",
       "      <td>0.000015</td>\n",
       "      <td>0.000010</td>\n",
       "      <td>0.000007</td>\n",
       "      <td>0.000004</td>\n",
       "      <td>2.679369e-06</td>\n",
       "      <td>1.676039e-06</td>\n",
       "      <td>1.033228e-06</td>\n",
       "      <td>6.280924e-07</td>\n",
       "      <td>3.767026e-07</td>\n",
       "    </tr>\n",
       "  </tbody>\n",
       "</table>\n",
       "<p>5 rows × 51 columns</p>\n",
       "</div>"
      ],
      "text/plain": [
       "Slope             -0.50         -0.46         -0.42         -0.38  \\\n",
       "Intercept                                                           \n",
       "55.0       1.088531e-07  1.804076e-07  2.949886e-07  4.756651e-07   \n",
       "55.5       1.400255e-07  2.329079e-07  3.822384e-07  6.186706e-07   \n",
       "56.0       1.778945e-07  2.969361e-07  4.890710e-07  7.944823e-07   \n",
       "56.5       2.231539e-07  3.737507e-07  6.177343e-07  1.007052e-06   \n",
       "57.0       2.763324e-07  4.643366e-07  7.700312e-07  1.259621e-06   \n",
       "\n",
       "Slope             -0.34     -0.30     -0.26     -0.22     -0.18     -0.14  \\\n",
       "Intercept                                                                   \n",
       "55.0       7.560171e-07  0.000001  0.000002  0.000003  0.000004  0.000006   \n",
       "55.5       9.870532e-07  0.000002  0.000002  0.000004  0.000005  0.000008   \n",
       "56.0       1.272252e-06  0.000002  0.000003  0.000005  0.000007  0.000011   \n",
       "56.5       1.618446e-06  0.000003  0.000004  0.000006  0.000009  0.000014   \n",
       "57.0       2.031355e-06  0.000003  0.000005  0.000008  0.000012  0.000017   \n",
       "\n",
       "Slope      ...      1.14      1.18      1.22      1.26      1.30  \\\n",
       "Intercept  ...                                                     \n",
       "55.0       ...  0.000008  0.000005  0.000004  0.000002  0.000002   \n",
       "55.5       ...  0.000010  0.000007  0.000005  0.000003  0.000002   \n",
       "56.0       ...  0.000013  0.000009  0.000006  0.000004  0.000003   \n",
       "56.5       ...  0.000017  0.000012  0.000008  0.000005  0.000003   \n",
       "57.0       ...  0.000022  0.000015  0.000010  0.000007  0.000004   \n",
       "\n",
       "Slope              1.34          1.38          1.42          1.46  \\\n",
       "Intercept                                                           \n",
       "55.0       9.885575e-07  6.274826e-07  3.924648e-07  2.420038e-07   \n",
       "55.5       1.293595e-06  8.179717e-07  5.096762e-07  3.131106e-07   \n",
       "56.0       1.671061e-06  1.052728e-06  6.535394e-07  4.000356e-07   \n",
       "56.5       2.130337e-06  1.337233e-06  8.272033e-07  5.045584e-07   \n",
       "57.0       2.679369e-06  1.676039e-06  1.033228e-06  6.280924e-07   \n",
       "\n",
       "Slope              1.50  \n",
       "Intercept                \n",
       "55.0       1.471870e-07  \n",
       "55.5       1.897402e-07  \n",
       "56.0       2.415544e-07  \n",
       "56.5       3.036196e-07  \n",
       "57.0       3.767026e-07  \n",
       "\n",
       "[5 rows x 51 columns]"
      ]
     },
     "execution_count": 425,
     "metadata": {},
     "output_type": "execute_result"
    }
   ],
   "source": [
    "joint_posterior = posterior2.unstack().transpose()\n",
    "joint_posterior.head()"
   ]
  },
  {
   "cell_type": "code",
   "execution_count": 426,
   "metadata": {},
   "outputs": [],
   "source": [
    "def plot_contour(joint, **options):\n",
    "    \"\"\"Plot a joint distribution.\n",
    "    \n",
    "    joint: DataFrame representing a joint PMF\n",
    "    \"\"\"\n",
    "    cs = plt.contour(joint.columns, joint.index, joint, **options)\n",
    "    decorate(xlabel=joint.columns.name, \n",
    "             ylabel=joint.index.name)\n",
    "    return cs"
   ]
  },
  {
   "cell_type": "code",
   "execution_count": 427,
   "metadata": {},
   "outputs": [
    {
     "data": {
      "text/plain": [
       "<matplotlib.contour.QuadContourSet at 0x7f04fbeb8ed0>"
      ]
     },
     "execution_count": 427,
     "metadata": {},
     "output_type": "execute_result"
    },
    {
     "data": {
      "image/png": "[encoded data removed]",
      "text/plain": [
       "<Figure size 432x288 with 1 Axes>"
      ]
     },
     "metadata": {
      "needs_background": "light"
     },
     "output_type": "display_data"
    }
   ],
   "source": [
    "plot_contour(joint_posterior)"
   ]
  },
  {
   "cell_type": "code",
   "execution_count": 428,
   "metadata": {},
   "outputs": [
    {
     "data": {
      "image/png": "[encoded data removed]",
      "text/plain": [
       "<Figure size 432x288 with 1 Axes>"
      ]
     },
     "metadata": {
      "needs_background": "light"
     },
     "output_type": "display_data"
    }
   ],
   "source": [
    "posterior_slope = marginal(joint_posterior, 0)\n",
    "\n",
    "posterior_slope.plot()\n",
    "decorate(xlabel='Slope',\n",
    "         ylabel='PDF',\n",
    "         title='Posterior marginal distribution of slope')"
   ]
  },
  {
   "cell_type": "code",
   "execution_count": 429,
   "metadata": {},
   "outputs": [
    {
     "data": {
      "text/plain": [
       "(0.5118660811960725, array([0.1, 0.9]))"
      ]
     },
     "execution_count": 429,
     "metadata": {},
     "output_type": "execute_result"
    }
   ],
   "source": [
    "posterior_slope.mean(), posterior_slope.credible_interval(0.9)"
   ]
  },
  {
   "cell_type": "code",
   "execution_count": 430,
   "metadata": {},
   "outputs": [
    {
     "data": {
      "image/png": "[encoded data removed]",
      "text/plain": [
       "<Figure size 432x288 with 1 Axes>"
      ]
     },
     "metadata": {
      "needs_background": "light"
     },
     "output_type": "display_data"
    }
   ],
   "source": [
    "posterior_inter = marginal(joint_posterior, 1)\n",
    "\n",
    "posterior_inter.plot()\n",
    "decorate(xlabel='intercept',\n",
    "         ylabel='PDF',\n",
    "         title='Posterior marginal distribution of intercept')"
   ]
  },
  {
   "cell_type": "code",
   "execution_count": 431,
   "metadata": {},
   "outputs": [
    {
     "data": {
      "text/plain": [
       "(64.23067760617815, array([58.5, 70. ]))"
      ]
     },
     "execution_count": 431,
     "metadata": {},
     "output_type": "execute_result"
    }
   ],
   "source": [
    "posterior_inter.mean(), posterior_inter.credible_interval(0.9)"
   ]
  },
  {
   "cell_type": "markdown",
   "metadata": {},
   "source": [
    "## Empirical Bayes"
   ]
  },
  {
   "cell_type": "code",
   "execution_count": null,
   "metadata": {},
   "outputs": [],
   "source": []
  },
  {
   "cell_type": "markdown",
   "metadata": {},
   "source": [
    "## Marathon world record\n",
    "\n",
    "For many running events, if you plot the world record pace over time, the result is a remarkably straight line.  Many people have speculated about possible reasons for this phenomenon, [including me](http://allendowney.blogspot.com/2011/04/two-hour-marathon-in-2045.html).\n",
    "\n",
    "As another example of Bayesian regression, we'll consider the world record progression for the Marathon (for male runners), estimate the parameters of a linear model, and use the model to predict when a runner will break the two-hour barrier.  (Note: In 2019 Eliud Kipchoge ran the marathon distance in under two hours, which is an astonishing achievement that I fully appreciate, but for several reasons it did not count as a Marathon world record; the predictions we generate will be for a Marathon run under conditions that qualify for a world record.)\n",
    "\n",
    "The following cell downloads a web page from Wikipedia that includes a table of Marathon world records and uses Pandas to put the data in a `DataFrame`."
   ]
  },
  {
   "cell_type": "code",
   "execution_count": 438,
   "metadata": {},
   "outputs": [
    {
     "data": {
      "text/plain": [
       "5"
      ]
     },
     "execution_count": 438,
     "metadata": {},
     "output_type": "execute_result"
    }
   ],
   "source": [
    "url = 'https://en.wikipedia.org/wiki/Marathon_world_record_progression#Men'\n",
    "tables = pd.read_html(url)\n",
    "len(tables)"
   ]
  },
  {
   "cell_type": "markdown",
   "metadata": {},
   "source": [
    "If that doesn't work, I have made a copy of this page available.  The following cell downloads and parses it."
   ]
  },
  {
   "cell_type": "code",
   "execution_count": 439,
   "metadata": {},
   "outputs": [],
   "source": [
    "#import os\n",
    "\n",
    "#datafile = 'Marathon_world_record_progression.html'\n",
    "#if not os.path.exists(datafile):\n",
    "#    !wget https://github.com/AllenDowney/ThinkBayes2/raw/master/data/Marathon_world_record_progression.html\n",
    "\n",
    "#tables = pd.read_html(datafile)\n",
    "#len(tables)"
   ]
  },
  {
   "cell_type": "markdown",
   "metadata": {},
   "source": [
    "Either way, it's the first table we want."
   ]
  },
  {
   "cell_type": "code",
   "execution_count": 440,
   "metadata": {},
   "outputs": [
    {
     "data": {
      "text/html": [
       "<div>\n",
       "<style scoped>\n",
       "    .dataframe tbody tr th:only-of-type {\n",
       "        vertical-align: middle;\n",
       "    }\n",
       "\n",
       "    .dataframe tbody tr th {\n",
       "        vertical-align: top;\n",
       "    }\n",
       "\n",
       "    .dataframe thead th {\n",
       "        text-align: right;\n",
       "    }\n",
       "</style>\n",
       "<table border=\"1\" class=\"dataframe\">\n",
       "  <thead>\n",
       "    <tr style=\"text-align: right;\">\n",
       "      <th></th>\n",
       "      <th>Time</th>\n",
       "      <th>Name</th>\n",
       "      <th>Nationality</th>\n",
       "      <th>Date</th>\n",
       "      <th>Event/Place</th>\n",
       "      <th>Source</th>\n",
       "      <th>Notes</th>\n",
       "    </tr>\n",
       "  </thead>\n",
       "  <tbody>\n",
       "    <tr>\n",
       "      <th>0</th>\n",
       "      <td>2:55:18.4</td>\n",
       "      <td>Johnny Hayes</td>\n",
       "      <td>United States</td>\n",
       "      <td>July 24, 1908</td>\n",
       "      <td>London, United Kingdom</td>\n",
       "      <td>IAAF[53]</td>\n",
       "      <td>Time was officially recorded as 2:55:18 2/5.[5...</td>\n",
       "    </tr>\n",
       "    <tr>\n",
       "      <th>1</th>\n",
       "      <td>2:52:45.4</td>\n",
       "      <td>Robert Fowler</td>\n",
       "      <td>United States</td>\n",
       "      <td>January 1, 1909</td>\n",
       "      <td>Yonkers,[nb 5] United States</td>\n",
       "      <td>IAAF[53]</td>\n",
       "      <td>Note.[56]</td>\n",
       "    </tr>\n",
       "    <tr>\n",
       "      <th>2</th>\n",
       "      <td>2:46:52.8</td>\n",
       "      <td>James Clark</td>\n",
       "      <td>United States</td>\n",
       "      <td>February 12, 1909</td>\n",
       "      <td>New York City, United States</td>\n",
       "      <td>IAAF[53]</td>\n",
       "      <td>Note.[56]</td>\n",
       "    </tr>\n",
       "    <tr>\n",
       "      <th>3</th>\n",
       "      <td>2:46:04.6</td>\n",
       "      <td>Albert Raines</td>\n",
       "      <td>United States</td>\n",
       "      <td>May 8, 1909</td>\n",
       "      <td>New York City, United States</td>\n",
       "      <td>IAAF[53]</td>\n",
       "      <td>Note.[56]</td>\n",
       "    </tr>\n",
       "    <tr>\n",
       "      <th>4</th>\n",
       "      <td>2:42:31.0</td>\n",
       "      <td>Henry Barrett</td>\n",
       "      <td>United Kingdom</td>\n",
       "      <td>May 26, 1909[nb 6]</td>\n",
       "      <td>Polytechnic Marathon, London, United Kingdom</td>\n",
       "      <td>IAAF[53]</td>\n",
       "      <td>Note.[56]</td>\n",
       "    </tr>\n",
       "  </tbody>\n",
       "</table>\n",
       "</div>"
      ],
      "text/plain": [
       "        Time           Name     Nationality                Date  \\\n",
       "0  2:55:18.4   Johnny Hayes   United States       July 24, 1908   \n",
       "1  2:52:45.4  Robert Fowler   United States     January 1, 1909   \n",
       "2  2:46:52.8    James Clark   United States   February 12, 1909   \n",
       "3  2:46:04.6  Albert Raines   United States         May 8, 1909   \n",
       "4  2:42:31.0  Henry Barrett  United Kingdom  May 26, 1909[nb 6]   \n",
       "\n",
       "                                    Event/Place    Source  \\\n",
       "0                        London, United Kingdom  IAAF[53]   \n",
       "1                  Yonkers,[nb 5] United States  IAAF[53]   \n",
       "2                  New York City, United States  IAAF[53]   \n",
       "3                  New York City, United States  IAAF[53]   \n",
       "4  Polytechnic Marathon, London, United Kingdom  IAAF[53]   \n",
       "\n",
       "                                               Notes  \n",
       "0  Time was officially recorded as 2:55:18 2/5.[5...  \n",
       "1                                          Note.[56]  \n",
       "2                                          Note.[56]  \n",
       "3                                          Note.[56]  \n",
       "4                                          Note.[56]  "
      ]
     },
     "execution_count": 440,
     "metadata": {},
     "output_type": "execute_result"
    }
   ],
   "source": [
    "table = tables[0]\n",
    "table.head()"
   ]
  },
  {
   "cell_type": "markdown",
   "metadata": {},
   "source": [
    "We can use Pandas to parse the dates.  A couple of them include notes that could cause errors, but the argment `errors='coerce'` tells Pandas to fill invalid dates with `NaT`, which is a version of `NaN` that represents \"not a time\". "
   ]
  },
  {
   "cell_type": "code",
   "execution_count": 441,
   "metadata": {},
   "outputs": [
    {
     "data": {
      "text/plain": [
       "0   1908-07-24\n",
       "1   1909-01-01\n",
       "2   1909-02-12\n",
       "3   1909-05-08\n",
       "4          NaT\n",
       "Name: date, dtype: datetime64[ns]"
      ]
     },
     "execution_count": 441,
     "metadata": {},
     "output_type": "execute_result"
    }
   ],
   "source": [
    "table['date'] = pd.to_datetime(table['Date'], errors='coerce')\n",
    "table['date'].head()"
   ]
  },
  {
   "cell_type": "markdown",
   "metadata": {},
   "source": [
    "We can also use Pandas to parse the record times."
   ]
  },
  {
   "cell_type": "code",
   "execution_count": 451,
   "metadata": {},
   "outputs": [],
   "source": [
    "table['time'] = pd.to_timedelta(table['Time'])"
   ]
  },
  {
   "cell_type": "markdown",
   "metadata": {},
   "source": [
    "And convert the times to paces in miles per hour."
   ]
  },
  {
   "cell_type": "code",
   "execution_count": 452,
   "metadata": {},
   "outputs": [
    {
     "data": {
      "text/plain": [
       "0    8.967143\n",
       "1    9.099504\n",
       "2    9.419942\n",
       "3    9.465508\n",
       "4    9.672854\n",
       "Name: mph, dtype: float64"
      ]
     },
     "execution_count": 452,
     "metadata": {},
     "output_type": "execute_result"
    }
   ],
   "source": [
    "table['mph'] = 26.2 / table['time'].dt.total_seconds() * 3600\n",
    "table['mph'].head()"
   ]
  },
  {
   "cell_type": "markdown",
   "metadata": {},
   "source": [
    "The following function plots the results."
   ]
  },
  {
   "cell_type": "code",
   "execution_count": 453,
   "metadata": {},
   "outputs": [],
   "source": [
    "def plot_speeds(df):\n",
    "    \"\"\"Plot marathon world record speed as a function of time.\n",
    "    \n",
    "    df: DataFrame with date and mph\n",
    "    \"\"\"\n",
    "    plt.axhline(13.1, color='gray')\n",
    "    plt.plot(df['date'], df['mph'], 'o', alpha=0.5)\n",
    "    \n",
    "    decorate(xlabel='Date',\n",
    "             ylabel='Speed (mph)')"
   ]
  },
  {
   "cell_type": "markdown",
   "metadata": {},
   "source": [
    "And here's what it looks like."
   ]
  },
  {
   "cell_type": "code",
   "execution_count": 454,
   "metadata": {},
   "outputs": [
    {
     "data": {
      "image/png": "[encoded data removed]",
      "text/plain": [
       "<Figure size 432x288 with 1 Axes>"
      ]
     },
     "metadata": {
      "needs_background": "light"
     },
     "output_type": "display_data"
    }
   ],
   "source": [
    "plot_speeds(table)"
   ]
  },
  {
   "cell_type": "markdown",
   "metadata": {},
   "source": [
    "It's not a perfectly straight line.  In the early years of the marathon, the record pace increased quickly.  Since about 1970, it has been increasing more slowly.\n",
    "\n",
    "For our analysis, let's focus on the recent progression, starting in 1970."
   ]
  },
  {
   "cell_type": "code",
   "execution_count": 455,
   "metadata": {},
   "outputs": [],
   "source": [
    "recent = table['date'] > pd.to_datetime('1970')"
   ]
  },
  {
   "cell_type": "markdown",
   "metadata": {},
   "source": [
    "Here's what that looks like."
   ]
  },
  {
   "cell_type": "code",
   "execution_count": 456,
   "metadata": {},
   "outputs": [
    {
     "data": {
      "image/png": "[encoded data removed]",
      "text/plain": [
       "<Figure size 432x288 with 1 Axes>"
      ]
     },
     "metadata": {
      "needs_background": "light"
     },
     "output_type": "display_data"
    }
   ],
   "source": [
    "data = table.loc[recent].copy()\n",
    "plot_speeds(data)"
   ]
  },
  {
   "cell_type": "markdown",
   "metadata": {},
   "source": [
    "That seems like a straighter line, although it's possible that the slope is increasing.\n",
    "\n",
    "To prepare the data for regression, I'll substract away the approximate midpoint of the time interval, 1995."
   ]
  },
  {
   "cell_type": "code",
   "execution_count": 457,
   "metadata": {},
   "outputs": [],
   "source": [
    "offset = pd.to_datetime('1995')\n",
    "timedelta = table['date'] - offset"
   ]
  },
  {
   "cell_type": "markdown",
   "metadata": {},
   "source": [
    "And convert the time differences to floating-point numbers in years."
   ]
  },
  {
   "cell_type": "code",
   "execution_count": 458,
   "metadata": {},
   "outputs": [
    {
     "data": {
      "text/plain": [
       "count    18.000000\n",
       "mean      0.740913\n",
       "std      15.417918\n",
       "min     -24.444201\n",
       "25%     -12.352152\n",
       "50%       4.264319\n",
       "75%      13.492498\n",
       "max      23.707699\n",
       "Name: x, dtype: float64"
      ]
     },
     "execution_count": 458,
     "metadata": {},
     "output_type": "execute_result"
    }
   ],
   "source": [
    "data['x'] = timedelta.dt.total_seconds() / 3600 / 24 / 365.24\n",
    "data['x'].describe()"
   ]
  },
  {
   "cell_type": "markdown",
   "metadata": {},
   "source": [
    "As in the previous example, I'll use ordinary least squares to generate point estimates for the parameters, which will help with choosing priors."
   ]
  },
  {
   "cell_type": "code",
   "execution_count": 459,
   "metadata": {},
   "outputs": [
    {
     "name": "stderr",
     "output_type": "stream",
     "text": [
      "/home/downey/anaconda3/envs/ThinkBayes2/lib/python3.7/site-packages/scipy/stats/stats.py:1535: UserWarning: kurtosistest only valid for n>=20 ... continuing anyway, n=18\n",
      "  \"anyway, n=%i\" % int(n))\n"
     ]
    },
    {
     "data": {
      "text/html": [
       "<table class=\"simpletable\">\n",
       "<caption>OLS Regression Results</caption>\n",
       "<tr>\n",
       "  <th>Dep. Variable:</th>           <td>mph</td>       <th>  R-squared:         </th> <td>   0.971</td>\n",
       "</tr>\n",
       "<tr>\n",
       "  <th>Model:</th>                   <td>OLS</td>       <th>  Adj. R-squared:    </th> <td>   0.969</td>\n",
       "</tr>\n",
       "<tr>\n",
       "  <th>Method:</th>             <td>Least Squares</td>  <th>  F-statistic:       </th> <td>   530.7</td>\n",
       "</tr>\n",
       "<tr>\n",
       "  <th>Date:</th>             <td>Fri, 14 Aug 2020</td> <th>  Prob (F-statistic):</th> <td>1.07e-13</td>\n",
       "</tr>\n",
       "<tr>\n",
       "  <th>Time:</th>                 <td>19:53:24</td>     <th>  Log-Likelihood:    </th> <td>  32.294</td>\n",
       "</tr>\n",
       "<tr>\n",
       "  <th>No. Observations:</th>      <td>    18</td>      <th>  AIC:               </th> <td>  -60.59</td>\n",
       "</tr>\n",
       "<tr>\n",
       "  <th>Df Residuals:</th>          <td>    16</td>      <th>  BIC:               </th> <td>  -58.81</td>\n",
       "</tr>\n",
       "<tr>\n",
       "  <th>Df Model:</th>              <td>     1</td>      <th>                     </th>     <td> </td>   \n",
       "</tr>\n",
       "<tr>\n",
       "  <th>Covariance Type:</th>      <td>nonrobust</td>    <th>                     </th>     <td> </td>   \n",
       "</tr>\n",
       "</table>\n",
       "<table class=\"simpletable\">\n",
       "<tr>\n",
       "      <td></td>         <th>coef</th>     <th>std err</th>      <th>t</th>      <th>P>|t|</th>  <th>[0.025</th>    <th>0.975]</th>  \n",
       "</tr>\n",
       "<tr>\n",
       "  <th>Intercept</th> <td>   12.4605</td> <td>    0.010</td> <td> 1237.317</td> <td> 0.000</td> <td>   12.439</td> <td>   12.482</td>\n",
       "</tr>\n",
       "<tr>\n",
       "  <th>x</th>         <td>    0.0155</td> <td>    0.001</td> <td>   23.037</td> <td> 0.000</td> <td>    0.014</td> <td>    0.017</td>\n",
       "</tr>\n",
       "</table>\n",
       "<table class=\"simpletable\">\n",
       "<tr>\n",
       "  <th>Omnibus:</th>       <td> 1.748</td> <th>  Durbin-Watson:     </th> <td>   1.101</td>\n",
       "</tr>\n",
       "<tr>\n",
       "  <th>Prob(Omnibus):</th> <td> 0.417</td> <th>  Jarque-Bera (JB):  </th> <td>   1.174</td>\n",
       "</tr>\n",
       "<tr>\n",
       "  <th>Skew:</th>          <td> 0.612</td> <th>  Prob(JB):          </th> <td>   0.556</td>\n",
       "</tr>\n",
       "<tr>\n",
       "  <th>Kurtosis:</th>      <td> 2.745</td> <th>  Cond. No.          </th> <td>    15.0</td>\n",
       "</tr>\n",
       "</table><br/><br/>Warnings:<br/>[1] Standard Errors assume that the covariance matrix of the errors is correctly specified."
      ],
      "text/plain": [
       "<class 'statsmodels.iolib.summary.Summary'>\n",
       "\"\"\"\n",
       "                            OLS Regression Results                            \n",
       "==============================================================================\n",
       "Dep. Variable:                    mph   R-squared:                       0.971\n",
       "Model:                            OLS   Adj. R-squared:                  0.969\n",
       "Method:                 Least Squares   F-statistic:                     530.7\n",
       "Date:                Fri, 14 Aug 2020   Prob (F-statistic):           1.07e-13\n",
       "Time:                        19:53:24   Log-Likelihood:                 32.294\n",
       "No. Observations:                  18   AIC:                            -60.59\n",
       "Df Residuals:                      16   BIC:                            -58.81\n",
       "Df Model:                           1                                         \n",
       "Covariance Type:            nonrobust                                         \n",
       "==============================================================================\n",
       "                 coef    std err          t      P>|t|      [0.025      0.975]\n",
       "------------------------------------------------------------------------------\n",
       "Intercept     12.4605      0.010   1237.317      0.000      12.439      12.482\n",
       "x              0.0155      0.001     23.037      0.000       0.014       0.017\n",
       "==============================================================================\n",
       "Omnibus:                        1.748   Durbin-Watson:                   1.101\n",
       "Prob(Omnibus):                  0.417   Jarque-Bera (JB):                1.174\n",
       "Skew:                           0.612   Prob(JB):                        0.556\n",
       "Kurtosis:                       2.745   Cond. No.                         15.0\n",
       "==============================================================================\n",
       "\n",
       "Warnings:\n",
       "[1] Standard Errors assume that the covariance matrix of the errors is correctly specified.\n",
       "\"\"\""
      ]
     },
     "execution_count": 459,
     "metadata": {},
     "output_type": "execute_result"
    }
   ],
   "source": [
    "import statsmodels.formula.api as smf\n",
    "\n",
    "formula = 'mph ~ x'\n",
    "results = smf.ols(formula, data=data).fit()\n",
    "results.summary()"
   ]
  },
  {
   "cell_type": "markdown",
   "metadata": {},
   "source": [
    "If you get a warning about a kurtosis test, you can ignore it.  The estimated intercept is about 12.5 mph, which is the expected world record pace in 1995.  The estimated slope is about 0.016 mph per year, which is rate we estimate the world record pace is increasing.\n",
    "\n",
    "These parameters give us a good idea where we should put the prior distributions."
   ]
  },
  {
   "cell_type": "markdown",
   "metadata": {},
   "source": [
    "## The priors"
   ]
  },
  {
   "cell_type": "code",
   "execution_count": 497,
   "metadata": {},
   "outputs": [],
   "source": [
    "slopes = np.linspace(0.012, 0.018, 51)\n",
    "prior_slope = Pmf(1, slopes)\n",
    "prior_slope.index.name = 'Slope'"
   ]
  },
  {
   "cell_type": "code",
   "execution_count": 513,
   "metadata": {},
   "outputs": [],
   "source": [
    "inters = np.linspace(12.4, 12.5, 41)\n",
    "prior_inter = Pmf(1, inters)\n",
    "prior_inter.index.name = 'Intercept'"
   ]
  },
  {
   "cell_type": "code",
   "execution_count": 514,
   "metadata": {},
   "outputs": [],
   "source": [
    "sigmas = np.linspace(0.01, 0.21, 31)\n",
    "prior_sigma = Pmf(1, sigmas)\n",
    "prior_sigma.index.name = 'Sigma'"
   ]
  },
  {
   "cell_type": "code",
   "execution_count": 515,
   "metadata": {},
   "outputs": [],
   "source": [
    "def make_joint3(pmf1, pmf2, pmf3):\n",
    "    \"\"\"\n",
    "    \"\"\"\n",
    "    joint2 = make_joint(pmf2, pmf1).stack()\n",
    "    joint3 = make_joint(pmf3, joint2).stack()\n",
    "    return joint3"
   ]
  },
  {
   "cell_type": "code",
   "execution_count": 516,
   "metadata": {},
   "outputs": [
    {
     "data": {
      "text/plain": [
       "Slope  Intercept  Sigma   \n",
       "0.012  12.4       0.010000    1\n",
       "                  0.016667    1\n",
       "                  0.023333    1\n",
       "                  0.030000    1\n",
       "                  0.036667    1\n",
       "dtype: int64"
      ]
     },
     "execution_count": 516,
     "metadata": {},
     "output_type": "execute_result"
    }
   ],
   "source": [
    "joint3 = make_joint3(prior_slope, prior_inter, prior_sigma)\n",
    "joint3.head()"
   ]
  },
  {
   "cell_type": "code",
   "execution_count": 517,
   "metadata": {},
   "outputs": [
    {
     "data": {
      "text/html": [
       "<div>\n",
       "<style scoped>\n",
       "    .dataframe tbody tr th:only-of-type {\n",
       "        vertical-align: middle;\n",
       "    }\n",
       "\n",
       "    .dataframe tbody tr th {\n",
       "        vertical-align: top;\n",
       "    }\n",
       "\n",
       "    .dataframe thead th {\n",
       "        text-align: right;\n",
       "    }\n",
       "</style>\n",
       "<table border=\"1\" class=\"dataframe\">\n",
       "  <thead>\n",
       "    <tr style=\"text-align: right;\">\n",
       "      <th></th>\n",
       "      <th>Sigma</th>\n",
       "      <th>0.010000</th>\n",
       "      <th>0.016667</th>\n",
       "      <th>0.023333</th>\n",
       "      <th>0.030000</th>\n",
       "      <th>0.036667</th>\n",
       "      <th>0.043333</th>\n",
       "      <th>0.050000</th>\n",
       "      <th>0.056667</th>\n",
       "      <th>0.063333</th>\n",
       "      <th>0.070000</th>\n",
       "      <th>...</th>\n",
       "      <th>0.150000</th>\n",
       "      <th>0.156667</th>\n",
       "      <th>0.163333</th>\n",
       "      <th>0.170000</th>\n",
       "      <th>0.176667</th>\n",
       "      <th>0.183333</th>\n",
       "      <th>0.190000</th>\n",
       "      <th>0.196667</th>\n",
       "      <th>0.203333</th>\n",
       "      <th>0.210000</th>\n",
       "    </tr>\n",
       "    <tr>\n",
       "      <th>Slope</th>\n",
       "      <th>Intercept</th>\n",
       "      <th></th>\n",
       "      <th></th>\n",
       "      <th></th>\n",
       "      <th></th>\n",
       "      <th></th>\n",
       "      <th></th>\n",
       "      <th></th>\n",
       "      <th></th>\n",
       "      <th></th>\n",
       "      <th></th>\n",
       "      <th></th>\n",
       "      <th></th>\n",
       "      <th></th>\n",
       "      <th></th>\n",
       "      <th></th>\n",
       "      <th></th>\n",
       "      <th></th>\n",
       "      <th></th>\n",
       "      <th></th>\n",
       "      <th></th>\n",
       "      <th></th>\n",
       "    </tr>\n",
       "  </thead>\n",
       "  <tbody>\n",
       "    <tr>\n",
       "      <th rowspan=\"5\" valign=\"top\">0.012</th>\n",
       "      <th>12.4000</th>\n",
       "      <td>1</td>\n",
       "      <td>1</td>\n",
       "      <td>1</td>\n",
       "      <td>1</td>\n",
       "      <td>1</td>\n",
       "      <td>1</td>\n",
       "      <td>1</td>\n",
       "      <td>1</td>\n",
       "      <td>1</td>\n",
       "      <td>1</td>\n",
       "      <td>...</td>\n",
       "      <td>1</td>\n",
       "      <td>1</td>\n",
       "      <td>1</td>\n",
       "      <td>1</td>\n",
       "      <td>1</td>\n",
       "      <td>1</td>\n",
       "      <td>1</td>\n",
       "      <td>1</td>\n",
       "      <td>1</td>\n",
       "      <td>1</td>\n",
       "    </tr>\n",
       "    <tr>\n",
       "      <th>12.4025</th>\n",
       "      <td>1</td>\n",
       "      <td>1</td>\n",
       "      <td>1</td>\n",
       "      <td>1</td>\n",
       "      <td>1</td>\n",
       "      <td>1</td>\n",
       "      <td>1</td>\n",
       "      <td>1</td>\n",
       "      <td>1</td>\n",
       "      <td>1</td>\n",
       "      <td>...</td>\n",
       "      <td>1</td>\n",
       "      <td>1</td>\n",
       "      <td>1</td>\n",
       "      <td>1</td>\n",
       "      <td>1</td>\n",
       "      <td>1</td>\n",
       "      <td>1</td>\n",
       "      <td>1</td>\n",
       "      <td>1</td>\n",
       "      <td>1</td>\n",
       "    </tr>\n",
       "    <tr>\n",
       "      <th>12.4050</th>\n",
       "      <td>1</td>\n",
       "      <td>1</td>\n",
       "      <td>1</td>\n",
       "      <td>1</td>\n",
       "      <td>1</td>\n",
       "      <td>1</td>\n",
       "      <td>1</td>\n",
       "      <td>1</td>\n",
       "      <td>1</td>\n",
       "      <td>1</td>\n",
       "      <td>...</td>\n",
       "      <td>1</td>\n",
       "      <td>1</td>\n",
       "      <td>1</td>\n",
       "      <td>1</td>\n",
       "      <td>1</td>\n",
       "      <td>1</td>\n",
       "      <td>1</td>\n",
       "      <td>1</td>\n",
       "      <td>1</td>\n",
       "      <td>1</td>\n",
       "    </tr>\n",
       "    <tr>\n",
       "      <th>12.4075</th>\n",
       "      <td>1</td>\n",
       "      <td>1</td>\n",
       "      <td>1</td>\n",
       "      <td>1</td>\n",
       "      <td>1</td>\n",
       "      <td>1</td>\n",
       "      <td>1</td>\n",
       "      <td>1</td>\n",
       "      <td>1</td>\n",
       "      <td>1</td>\n",
       "      <td>...</td>\n",
       "      <td>1</td>\n",
       "      <td>1</td>\n",
       "      <td>1</td>\n",
       "      <td>1</td>\n",
       "      <td>1</td>\n",
       "      <td>1</td>\n",
       "      <td>1</td>\n",
       "      <td>1</td>\n",
       "      <td>1</td>\n",
       "      <td>1</td>\n",
       "    </tr>\n",
       "    <tr>\n",
       "      <th>12.4100</th>\n",
       "      <td>1</td>\n",
       "      <td>1</td>\n",
       "      <td>1</td>\n",
       "      <td>1</td>\n",
       "      <td>1</td>\n",
       "      <td>1</td>\n",
       "      <td>1</td>\n",
       "      <td>1</td>\n",
       "      <td>1</td>\n",
       "      <td>1</td>\n",
       "      <td>...</td>\n",
       "      <td>1</td>\n",
       "      <td>1</td>\n",
       "      <td>1</td>\n",
       "      <td>1</td>\n",
       "      <td>1</td>\n",
       "      <td>1</td>\n",
       "      <td>1</td>\n",
       "      <td>1</td>\n",
       "      <td>1</td>\n",
       "      <td>1</td>\n",
       "    </tr>\n",
       "  </tbody>\n",
       "</table>\n",
       "<p>5 rows × 31 columns</p>\n",
       "</div>"
      ],
      "text/plain": [
       "Sigma            0.010000  0.016667  0.023333  0.030000  0.036667  0.043333  \\\n",
       "Slope Intercept                                                               \n",
       "0.012 12.4000           1         1         1         1         1         1   \n",
       "      12.4025           1         1         1         1         1         1   \n",
       "      12.4050           1         1         1         1         1         1   \n",
       "      12.4075           1         1         1         1         1         1   \n",
       "      12.4100           1         1         1         1         1         1   \n",
       "\n",
       "Sigma            0.050000  0.056667  0.063333  0.070000  ...  0.150000  \\\n",
       "Slope Intercept                                          ...             \n",
       "0.012 12.4000           1         1         1         1  ...         1   \n",
       "      12.4025           1         1         1         1  ...         1   \n",
       "      12.4050           1         1         1         1  ...         1   \n",
       "      12.4075           1         1         1         1  ...         1   \n",
       "      12.4100           1         1         1         1  ...         1   \n",
       "\n",
       "Sigma            0.156667  0.163333  0.170000  0.176667  0.183333  0.190000  \\\n",
       "Slope Intercept                                                               \n",
       "0.012 12.4000           1         1         1         1         1         1   \n",
       "      12.4025           1         1         1         1         1         1   \n",
       "      12.4050           1         1         1         1         1         1   \n",
       "      12.4075           1         1         1         1         1         1   \n",
       "      12.4100           1         1         1         1         1         1   \n",
       "\n",
       "Sigma            0.196667  0.203333  0.210000  \n",
       "Slope Intercept                                \n",
       "0.012 12.4000           1         1         1  \n",
       "      12.4025           1         1         1  \n",
       "      12.4050           1         1         1  \n",
       "      12.4075           1         1         1  \n",
       "      12.4100           1         1         1  \n",
       "\n",
       "[5 rows x 31 columns]"
      ]
     },
     "execution_count": 517,
     "metadata": {},
     "output_type": "execute_result"
    }
   ],
   "source": [
    "prior = joint3.unstack()\n",
    "prior.head()"
   ]
  },
  {
   "cell_type": "code",
   "execution_count": 518,
   "metadata": {},
   "outputs": [],
   "source": [
    "from scipy.stats import norm\n",
    "\n",
    "xs = data['x']\n",
    "ys = data['mph']\n",
    "sigmas = prior_sigma.index\n",
    "\n",
    "likelihood = prior.copy()\n",
    "\n",
    "for slope, inter in prior.index:\n",
    "    resid = slope * xs + inter - ys\n",
    "    sigma_mesh, resid_mesh = np.meshgrid(sigmas, resid)\n",
    "    densities = norm.pdf(resid_mesh, 0, sigma_mesh)\n",
    "    like = densities.prod(axis=0)\n",
    "    likelihood.loc[slope, inter] = like"
   ]
  },
  {
   "cell_type": "code",
   "execution_count": 519,
   "metadata": {},
   "outputs": [
    {
     "data": {
      "text/html": [
       "<div>\n",
       "<style scoped>\n",
       "    .dataframe tbody tr th:only-of-type {\n",
       "        vertical-align: middle;\n",
       "    }\n",
       "\n",
       "    .dataframe tbody tr th {\n",
       "        vertical-align: top;\n",
       "    }\n",
       "\n",
       "    .dataframe thead th {\n",
       "        text-align: right;\n",
       "    }\n",
       "</style>\n",
       "<table border=\"1\" class=\"dataframe\">\n",
       "  <thead>\n",
       "    <tr style=\"text-align: right;\">\n",
       "      <th></th>\n",
       "      <th>Sigma</th>\n",
       "      <th>0.010000</th>\n",
       "      <th>0.016667</th>\n",
       "      <th>0.023333</th>\n",
       "      <th>0.030000</th>\n",
       "      <th>0.036667</th>\n",
       "      <th>0.043333</th>\n",
       "      <th>0.050000</th>\n",
       "      <th>0.056667</th>\n",
       "      <th>0.063333</th>\n",
       "      <th>0.070000</th>\n",
       "      <th>...</th>\n",
       "      <th>0.150000</th>\n",
       "      <th>0.156667</th>\n",
       "      <th>0.163333</th>\n",
       "      <th>0.170000</th>\n",
       "      <th>0.176667</th>\n",
       "      <th>0.183333</th>\n",
       "      <th>0.190000</th>\n",
       "      <th>0.196667</th>\n",
       "      <th>0.203333</th>\n",
       "      <th>0.210000</th>\n",
       "    </tr>\n",
       "    <tr>\n",
       "      <th>Slope</th>\n",
       "      <th>Intercept</th>\n",
       "      <th></th>\n",
       "      <th></th>\n",
       "      <th></th>\n",
       "      <th></th>\n",
       "      <th></th>\n",
       "      <th></th>\n",
       "      <th></th>\n",
       "      <th></th>\n",
       "      <th></th>\n",
       "      <th></th>\n",
       "      <th></th>\n",
       "      <th></th>\n",
       "      <th></th>\n",
       "      <th></th>\n",
       "      <th></th>\n",
       "      <th></th>\n",
       "      <th></th>\n",
       "      <th></th>\n",
       "      <th></th>\n",
       "      <th></th>\n",
       "      <th></th>\n",
       "    </tr>\n",
       "  </thead>\n",
       "  <tbody>\n",
       "    <tr>\n",
       "      <th rowspan=\"5\" valign=\"top\">0.012</th>\n",
       "      <th>12.4000</th>\n",
       "      <td>1.262529e-312</td>\n",
       "      <td>3.343049e-109</td>\n",
       "      <td>1.094238e-54</td>\n",
       "      <td>3.900183e-33</td>\n",
       "      <td>8.441749e-23</td>\n",
       "      <td>2.931639e-17</td>\n",
       "      <td>4.406051e-14</td>\n",
       "      <td>3.438933e-12</td>\n",
       "      <td>4.785065e-11</td>\n",
       "      <td>2.307915e-10</td>\n",
       "      <td>...</td>\n",
       "      <td>3.793045e-11</td>\n",
       "      <td>2.285756e-11</td>\n",
       "      <td>1.376737e-11</td>\n",
       "      <td>8.308626e-12</td>\n",
       "      <td>5.033437e-12</td>\n",
       "      <td>3.065116e-12</td>\n",
       "      <td>1.878044e-12</td>\n",
       "      <td>1.158644e-12</td>\n",
       "      <td>7.201015e-13</td>\n",
       "      <td>4.510042e-13</td>\n",
       "    </tr>\n",
       "    <tr>\n",
       "      <th>12.4025</th>\n",
       "      <td>1.526143e-300</td>\n",
       "      <td>7.478080e-105</td>\n",
       "      <td>1.812674e-52</td>\n",
       "      <td>8.581608e-32</td>\n",
       "      <td>6.685285e-22</td>\n",
       "      <td>1.289880e-16</td>\n",
       "      <td>1.340737e-13</td>\n",
       "      <td>8.178824e-12</td>\n",
       "      <td>9.574364e-11</td>\n",
       "      <td>4.071912e-10</td>\n",
       "      <td>...</td>\n",
       "      <td>4.292273e-11</td>\n",
       "      <td>2.560097e-11</td>\n",
       "      <td>1.528062e-11</td>\n",
       "      <td>9.148221e-12</td>\n",
       "      <td>5.502706e-12</td>\n",
       "      <td>3.329617e-12</td>\n",
       "      <td>2.028500e-12</td>\n",
       "      <td>1.245055e-12</td>\n",
       "      <td>7.702245e-13</td>\n",
       "      <td>4.803725e-13</td>\n",
       "    </tr>\n",
       "    <tr>\n",
       "      <th>12.4050</th>\n",
       "      <td>5.989187e-289</td>\n",
       "      <td>1.115702e-100</td>\n",
       "      <td>2.442239e-50</td>\n",
       "      <td>1.666348e-30</td>\n",
       "      <td>4.869301e-21</td>\n",
       "      <td>5.345266e-16</td>\n",
       "      <td>3.900269e-13</td>\n",
       "      <td>1.878203e-11</td>\n",
       "      <td>1.862736e-10</td>\n",
       "      <td>7.021114e-10</td>\n",
       "      <td>...</td>\n",
       "      <td>4.832982e-11</td>\n",
       "      <td>2.854251e-11</td>\n",
       "      <td>1.688882e-11</td>\n",
       "      <td>1.003352e-11</td>\n",
       "      <td>5.994081e-12</td>\n",
       "      <td>3.604858e-12</td>\n",
       "      <td>2.184192e-12</td>\n",
       "      <td>1.334024e-12</td>\n",
       "      <td>8.215978e-13</td>\n",
       "      <td>5.103498e-13</td>\n",
       "    </tr>\n",
       "    <tr>\n",
       "      <th>12.4075</th>\n",
       "      <td>7.630609e-278</td>\n",
       "      <td>1.110241e-96</td>\n",
       "      <td>2.676191e-48</td>\n",
       "      <td>2.855458e-29</td>\n",
       "      <td>3.261915e-20</td>\n",
       "      <td>2.086268e-15</td>\n",
       "      <td>1.084682e-12</td>\n",
       "      <td>4.164655e-11</td>\n",
       "      <td>3.523807e-10</td>\n",
       "      <td>1.183157e-09</td>\n",
       "      <td>...</td>\n",
       "      <td>5.414665e-11</td>\n",
       "      <td>3.167652e-11</td>\n",
       "      <td>1.858774e-11</td>\n",
       "      <td>1.096175e-11</td>\n",
       "      <td>6.505842e-12</td>\n",
       "      <td>3.889811e-12</td>\n",
       "      <td>2.344515e-12</td>\n",
       "      <td>1.425200e-12</td>\n",
       "      <td>8.740161e-13</td>\n",
       "      <td>5.408163e-13</td>\n",
       "    </tr>\n",
       "    <tr>\n",
       "      <th>12.4100</th>\n",
       "      <td>3.156234e-267</td>\n",
       "      <td>7.368799e-93</td>\n",
       "      <td>2.385101e-46</td>\n",
       "      <td>4.318164e-28</td>\n",
       "      <td>2.009730e-19</td>\n",
       "      <td>7.669228e-15</td>\n",
       "      <td>2.883810e-12</td>\n",
       "      <td>8.916616e-11</td>\n",
       "      <td>6.481747e-10</td>\n",
       "      <td>1.948534e-09</td>\n",
       "      <td>...</td>\n",
       "      <td>6.036102e-11</td>\n",
       "      <td>3.499388e-11</td>\n",
       "      <td>2.037146e-11</td>\n",
       "      <td>1.192931e-11</td>\n",
       "      <td>7.035889e-12</td>\n",
       "      <td>4.183262e-12</td>\n",
       "      <td>2.508776e-12</td>\n",
       "      <td>1.518185e-12</td>\n",
       "      <td>9.272522e-13</td>\n",
       "      <td>5.716414e-13</td>\n",
       "    </tr>\n",
       "  </tbody>\n",
       "</table>\n",
       "<p>5 rows × 31 columns</p>\n",
       "</div>"
      ],
      "text/plain": [
       "Sigma                 0.010000       0.016667      0.023333      0.030000  \\\n",
       "Slope Intercept                                                             \n",
       "0.012 12.4000    1.262529e-312  3.343049e-109  1.094238e-54  3.900183e-33   \n",
       "      12.4025    1.526143e-300  7.478080e-105  1.812674e-52  8.581608e-32   \n",
       "      12.4050    5.989187e-289  1.115702e-100  2.442239e-50  1.666348e-30   \n",
       "      12.4075    7.630609e-278   1.110241e-96  2.676191e-48  2.855458e-29   \n",
       "      12.4100    3.156234e-267   7.368799e-93  2.385101e-46  4.318164e-28   \n",
       "\n",
       "Sigma                0.036667      0.043333      0.050000      0.056667  \\\n",
       "Slope Intercept                                                           \n",
       "0.012 12.4000    8.441749e-23  2.931639e-17  4.406051e-14  3.438933e-12   \n",
       "      12.4025    6.685285e-22  1.289880e-16  1.340737e-13  8.178824e-12   \n",
       "      12.4050    4.869301e-21  5.345266e-16  3.900269e-13  1.878203e-11   \n",
       "      12.4075    3.261915e-20  2.086268e-15  1.084682e-12  4.164655e-11   \n",
       "      12.4100    2.009730e-19  7.669228e-15  2.883810e-12  8.916616e-11   \n",
       "\n",
       "Sigma                0.063333      0.070000  ...      0.150000      0.156667  \\\n",
       "Slope Intercept                              ...                               \n",
       "0.012 12.4000    4.785065e-11  2.307915e-10  ...  3.793045e-11  2.285756e-11   \n",
       "      12.4025    9.574364e-11  4.071912e-10  ...  4.292273e-11  2.560097e-11   \n",
       "      12.4050    1.862736e-10  7.021114e-10  ...  4.832982e-11  2.854251e-11   \n",
       "      12.4075    3.523807e-10  1.183157e-09  ...  5.414665e-11  3.167652e-11   \n",
       "      12.4100    6.481747e-10  1.948534e-09  ...  6.036102e-11  3.499388e-11   \n",
       "\n",
       "Sigma                0.163333      0.170000      0.176667      0.183333  \\\n",
       "Slope Intercept                                                           \n",
       "0.012 12.4000    1.376737e-11  8.308626e-12  5.033437e-12  3.065116e-12   \n",
       "      12.4025    1.528062e-11  9.148221e-12  5.502706e-12  3.329617e-12   \n",
       "      12.4050    1.688882e-11  1.003352e-11  5.994081e-12  3.604858e-12   \n",
       "      12.4075    1.858774e-11  1.096175e-11  6.505842e-12  3.889811e-12   \n",
       "      12.4100    2.037146e-11  1.192931e-11  7.035889e-12  4.183262e-12   \n",
       "\n",
       "Sigma                0.190000      0.196667      0.203333      0.210000  \n",
       "Slope Intercept                                                          \n",
       "0.012 12.4000    1.878044e-12  1.158644e-12  7.201015e-13  4.510042e-13  \n",
       "      12.4025    2.028500e-12  1.245055e-12  7.702245e-13  4.803725e-13  \n",
       "      12.4050    2.184192e-12  1.334024e-12  8.215978e-13  5.103498e-13  \n",
       "      12.4075    2.344515e-12  1.425200e-12  8.740161e-13  5.408163e-13  \n",
       "      12.4100    2.508776e-12  1.518185e-12  9.272522e-13  5.716414e-13  \n",
       "\n",
       "[5 rows x 31 columns]"
      ]
     },
     "execution_count": 519,
     "metadata": {},
     "output_type": "execute_result"
    }
   ],
   "source": [
    "from utils import normalize\n",
    "\n",
    "posterior = prior * likelihood\n",
    "normalize(posterior)\n",
    "posterior.head()"
   ]
  },
  {
   "cell_type": "code",
   "execution_count": 520,
   "metadata": {},
   "outputs": [
    {
     "data": {
      "image/png": "[encoded data removed]",
      "text/plain": [
       "<Figure size 432x288 with 1 Axes>"
      ]
     },
     "metadata": {
      "needs_background": "light"
     },
     "output_type": "display_data"
    }
   ],
   "source": [
    "from utils import marginal\n",
    "\n",
    "posterior_sigma = marginal(posterior, 0)\n",
    "posterior_sigma.plot()"
   ]
  },
  {
   "cell_type": "code",
   "execution_count": 521,
   "metadata": {},
   "outputs": [
    {
     "data": {
      "text/plain": [
       "(2091,)"
      ]
     },
     "execution_count": 521,
     "metadata": {},
     "output_type": "execute_result"
    }
   ],
   "source": [
    "posterior_pmf = marginal(posterior, 1)\n",
    "posterior_pmf.shape"
   ]
  },
  {
   "cell_type": "code",
   "execution_count": 522,
   "metadata": {},
   "outputs": [
    {
     "data": {
      "text/plain": [
       "(41, 51)"
      ]
     },
     "execution_count": 522,
     "metadata": {},
     "output_type": "execute_result"
    }
   ],
   "source": [
    "posterior_joint = posterior_pmf.unstack().transpose()\n",
    "posterior_joint.shape"
   ]
  },
  {
   "cell_type": "code",
   "execution_count": 523,
   "metadata": {},
   "outputs": [],
   "source": [
    "def plot_contour(joint, **options):\n",
    "    \"\"\"Plot a joint distribution.\n",
    "    \n",
    "    joint: DataFrame representing a joint PMF\n",
    "    \"\"\"\n",
    "    cs = plt.contour(joint.columns, joint.index, joint, **options)\n",
    "    decorate(xlabel=joint.columns.name, \n",
    "             ylabel=joint.index.name)\n",
    "    return cs"
   ]
  },
  {
   "cell_type": "code",
   "execution_count": 524,
   "metadata": {},
   "outputs": [
    {
     "data": {
      "image/png": "[encoded data removed]",
      "text/plain": [
       "<Figure size 432x288 with 1 Axes>"
      ]
     },
     "metadata": {
      "needs_background": "light"
     },
     "output_type": "display_data"
    }
   ],
   "source": [
    "plot_contour(posterior_joint)\n",
    "decorate(title='')"
   ]
  },
  {
   "cell_type": "code",
   "execution_count": 525,
   "metadata": {},
   "outputs": [
    {
     "data": {
      "image/png": "[encoded data removed]",
      "text/plain": [
       "<Figure size 432x288 with 1 Axes>"
      ]
     },
     "metadata": {
      "needs_background": "light"
     },
     "output_type": "display_data"
    }
   ],
   "source": [
    "posterior_slope = marginal(posterior_joint, 0)\n",
    "\n",
    "posterior_slope.plot()\n",
    "decorate(xlabel='Slope',\n",
    "         ylabel='PDF',\n",
    "         title='Posterior marginal distribution of slope')"
   ]
  },
  {
   "cell_type": "code",
   "execution_count": 526,
   "metadata": {},
   "outputs": [
    {
     "data": {
      "text/plain": [
       "(0.01546191796847868, array([0.01428, 0.01668]))"
      ]
     },
     "execution_count": 526,
     "metadata": {},
     "output_type": "execute_result"
    }
   ],
   "source": [
    "posterior_slope.mean(), posterior_slope.credible_interval(0.9)"
   ]
  },
  {
   "cell_type": "code",
   "execution_count": 527,
   "metadata": {},
   "outputs": [
    {
     "data": {
      "image/png": "[encoded data removed]",
      "text/plain": [
       "<Figure size 432x288 with 1 Axes>"
      ]
     },
     "metadata": {
      "needs_background": "light"
     },
     "output_type": "display_data"
    }
   ],
   "source": [
    "posterior_inter = marginal(posterior_joint, 1)\n",
    "\n",
    "posterior_inter.plot()\n",
    "decorate(xlabel='intercept',\n",
    "         ylabel='PDF',\n",
    "         title='Posterior marginal distribution of intercept')"
   ]
  },
  {
   "cell_type": "code",
   "execution_count": 183,
   "metadata": {},
   "outputs": [
    {
     "data": {
      "text/plain": [
       "(12.460507580847914, array([12.44, 12.48]))"
      ]
     },
     "execution_count": 183,
     "metadata": {},
     "output_type": "execute_result"
    }
   ],
   "source": [
    "posterior_inter.mean(), posterior_inter.credible_interval(0.9)"
   ]
  },
  {
   "cell_type": "markdown",
   "metadata": {},
   "source": [
    "## Prediction"
   ]
  },
  {
   "cell_type": "code",
   "execution_count": 184,
   "metadata": {},
   "outputs": [
    {
     "data": {
      "text/plain": [
       "Slope  Intercept  Sigma\n",
       "0.01   12.4       0.01      0.000000e+00\n",
       "                  0.02     2.651660e-115\n",
       "                  0.03      1.140654e-50\n",
       "                  0.04      3.462615e-29\n",
       "                  0.05      6.013886e-20\n",
       "dtype: float64"
      ]
     },
     "execution_count": 184,
     "metadata": {},
     "output_type": "execute_result"
    }
   ],
   "source": [
    "posterior_pmf = Pmf(posterior3.stack())\n",
    "posterior_pmf.head()"
   ]
  },
  {
   "cell_type": "code",
   "execution_count": 185,
   "metadata": {},
   "outputs": [
    {
     "data": {
      "text/plain": [
       "(101, 38)"
      ]
     },
     "execution_count": 185,
     "metadata": {},
     "output_type": "execute_result"
    }
   ],
   "source": [
    "sample = posterior_pmf.sample(101)\n",
    "xs = np.arange(-25, 50, 2)\n",
    "pred = np.empty((len(sample), len(xs)))\n",
    "\n",
    "for i, (slope, inter, sigma) in enumerate(sample):\n",
    "    pred[i] = inter + slope * xs + norm(0, sigma).rvs(len(xs))\n",
    "    \n",
    "pred.shape"
   ]
  },
  {
   "cell_type": "code",
   "execution_count": 187,
   "metadata": {},
   "outputs": [
    {
     "data": {
      "text/plain": [
       "(38,)"
      ]
     },
     "execution_count": 187,
     "metadata": {},
     "output_type": "execute_result"
    }
   ],
   "source": [
    "low, median, high = np.percentile(pred, [5, 50, 95], axis=0)\n",
    "median.shape"
   ]
  },
  {
   "cell_type": "code",
   "execution_count": 190,
   "metadata": {},
   "outputs": [
    {
     "data": {
      "image/png": "[encoded data removed]",
      "text/plain": [
       "<Figure size 432x288 with 1 Axes>"
      ]
     },
     "metadata": {
      "needs_background": "light"
     },
     "output_type": "display_data"
    }
   ],
   "source": [
    "times = pd.to_timedelta(xs*365.24, unit='days') + offset\n",
    "\n",
    "plt.fill_between(times, low, high, alpha=0.1)\n",
    "plt.plot(times, median, color='C0')\n",
    "\n",
    "plot_speeds(data)"
   ]
  },
  {
   "cell_type": "code",
   "execution_count": 189,
   "metadata": {},
   "outputs": [
    {
     "data": {
      "text/plain": [
       "DatetimeIndex([   '2029-08-10 15:41:20.272704',\n",
       "               '2036-03-17 10:24:35.436758400',\n",
       "               '2041-10-08 03:04:39.181468800'],\n",
       "              dtype='datetime64[ns]', freq=None)"
      ]
     },
     "execution_count": 189,
     "metadata": {},
     "output_type": "execute_result"
    }
   ],
   "source": [
    "from scipy.interpolate import interp1d\n",
    "\n",
    "future = np.array([interp1d(high, xs)(13.1),\n",
    "                   interp1d(median, xs)(13.1),\n",
    "                   interp1d(low, xs)(13.1)])\n",
    "\n",
    "pd.to_timedelta(future*365.24, unit='day') + offset"
   ]
  },
  {
   "cell_type": "markdown",
   "metadata": {},
   "source": [
    "## Exercises\n"
   ]
  },
  {
   "cell_type": "markdown",
   "metadata": {},
   "source": [
    "**Exercise:** Is temperature increasing?"
   ]
  },
  {
   "cell_type": "code",
   "execution_count": 83,
   "metadata": {},
   "outputs": [
    {
     "data": {
      "text/plain": [
       "54"
      ]
     },
     "execution_count": 83,
     "metadata": {},
     "output_type": "execute_result"
    }
   ],
   "source": [
    "temp = df.groupby('year')['TMAX'].mean()\n",
    "len(temp)"
   ]
  },
  {
   "cell_type": "code",
   "execution_count": 84,
   "metadata": {},
   "outputs": [
    {
     "data": {
      "text/plain": [
       "52"
      ]
     },
     "execution_count": 84,
     "metadata": {},
     "output_type": "execute_result"
    }
   ],
   "source": [
    "complete_temp = temp.iloc[1:-1]\n",
    "len(complete_temp)"
   ]
  },
  {
   "cell_type": "code",
   "execution_count": 86,
   "metadata": {},
   "outputs": [
    {
     "data": {
      "image/png": "[encoded data removed]",
      "text/plain": [
       "<Figure size 432x288 with 1 Axes>"
      ]
     },
     "metadata": {
      "needs_background": "light"
     },
     "output_type": "display_data"
    }
   ],
   "source": [
    "complete_temp.plot(style='o', alpha=0.5)\n",
    "\n",
    "decorate(xlabel='Year',\n",
    "         ylabel='Average of daily maximum temperature (deg F)')"
   ]
  },
  {
   "cell_type": "markdown",
   "metadata": {},
   "source": [
    "## GSS data\n",
    "\n",
    "Another example using data from the [General Social Survey](https://gss.norc.org/) ...\n"
   ]
  },
  {
   "cell_type": "code",
   "execution_count": 37,
   "metadata": {},
   "outputs": [],
   "source": [
    "# Load the data file\n",
    "\n",
    "# TODO: Update this to point to the ThinkBayes2 repo\n",
    "\n",
    "import os\n",
    "\n",
    "datafile = 'gss_eda.hdf5'\n",
    "if not os.path.exists(datafile):\n",
    "    !wget https://github.com/AllenDowney/PoliticalAlignmentCaseStudy/raw/master/gss_eda.hdf5"
   ]
  },
  {
   "cell_type": "code",
   "execution_count": 38,
   "metadata": {},
   "outputs": [
    {
     "data": {
      "text/plain": [
       "(64814, 169)"
      ]
     },
     "execution_count": 38,
     "metadata": {},
     "output_type": "execute_result"
    }
   ],
   "source": [
    "gss = pd.read_hdf(datafile, 'gss')\n",
    "gss.shape"
   ]
  },
  {
   "cell_type": "code",
   "execution_count": 40,
   "metadata": {},
   "outputs": [
    {
     "data": {
      "text/plain": [
       "year\n",
       "1972              NaN\n",
       "1973              NaN\n",
       "1974     96450.000000\n",
       "1975     75863.000000\n",
       "1976     81652.000000\n",
       "1977    201640.000000\n",
       "1978    135131.000000\n",
       "1980    139297.000000\n",
       "1982     97992.000000\n",
       "1983     81266.000000\n",
       "1984     87058.000000\n",
       "1985     96036.000000\n",
       "1986    101376.000000\n",
       "1987     92594.000000\n",
       "1988     83666.000000\n",
       "1989     80690.000000\n",
       "1990    103206.000000\n",
       "1991    111284.000000\n",
       "1993    123611.000000\n",
       "1994     97684.000000\n",
       "1996     87419.000000\n",
       "1998    150054.000000\n",
       "2000    134018.000000\n",
       "2002    234366.656250\n",
       "2004    134008.437500\n",
       "2006    159292.265625\n",
       "2008    480144.468750\n",
       "2010    109525.156250\n",
       "2012    341672.375000\n",
       "2014    132148.078125\n",
       "2016    164382.031250\n",
       "2018    151050.718750\n",
       "Name: realrinc, dtype: float32"
      ]
     },
     "execution_count": 40,
     "metadata": {},
     "output_type": "execute_result"
    }
   ],
   "source": [
    "gss.groupby('year')['realrinc'].max()"
   ]
  },
  {
   "cell_type": "code",
   "execution_count": 41,
   "metadata": {},
   "outputs": [
    {
     "data": {
      "text/plain": [
       "12.0    14957\n",
       "9.0      4876\n",
       "11.0     3838\n",
       "10.0     3838\n",
       "2.0      1865\n",
       "8.0      1745\n",
       "1.0      1306\n",
       "3.0      1243\n",
       "5.0      1091\n",
       "4.0      1055\n",
       "6.0       993\n",
       "7.0       981\n",
       "Name: rincome, dtype: int64"
      ]
     },
     "execution_count": 41,
     "metadata": {},
     "output_type": "execute_result"
    }
   ],
   "source": [
    "gss['rincome'].value_counts()"
   ]
  },
  {
   "cell_type": "code",
   "execution_count": 42,
   "metadata": {},
   "outputs": [
    {
     "data": {
      "text/plain": [
       "(36916, 169)"
      ]
     },
     "execution_count": 42,
     "metadata": {},
     "output_type": "execute_result"
    }
   ],
   "source": [
    "valid = gss.dropna(subset=['rincome', 'realinc'])\n",
    "valid.shape"
   ]
  },
  {
   "cell_type": "code",
   "execution_count": 50,
   "metadata": {},
   "outputs": [
    {
     "name": "stdout",
     "output_type": "stream",
     "text": [
      "2000\n"
     ]
    },
    {
     "data": {
      "image/png": "[encoded data removed]",
      "text/plain": [
       "<Figure size 432x288 with 1 Axes>"
      ]
     },
     "metadata": {
      "needs_background": "light"
     },
     "output_type": "display_data"
    }
   ],
   "source": [
    "for name, group in valid.groupby('year'):\n",
    "    if name == 2000:\n",
    "        print(name)\n",
    "        plt.plot(group['income'], group['realinc'], '.', alpha=0.3)"
   ]
  },
  {
   "cell_type": "code",
   "execution_count": null,
   "metadata": {},
   "outputs": [],
   "source": [
    "valid = gss.dropna(subset=['realinc', 'polviews'])\n",
    "valid.shape"
   ]
  },
  {
   "cell_type": "code",
   "execution_count": null,
   "metadata": {},
   "outputs": [],
   "source": [
    "plt.plot(valid['realinc'], valid['polviews'], ',', alpha=0.3)"
   ]
  }
 ],
 "metadata": {
  "kernelspec": {
   "display_name": "Python 3",
   "language": "python",
   "name": "python3"
  },
  "language_info": {
   "codemirror_mode": {
    "name": "ipython",
    "version": 3
   },
   "file_extension": ".py",
   "mimetype": "text/x-python",
   "name": "python",
   "nbconvert_exporter": "python",
   "pygments_lexer": "ipython3",
   "version": "3.7.7"
  }
 },
 "nbformat": 4,
 "nbformat_minor": 1
}
