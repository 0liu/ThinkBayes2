{
 "cells": [
  {
   "cell_type": "markdown",
   "metadata": {},
   "source": [
    "# Regression"
   ]
  },
  {
   "cell_type": "markdown",
   "metadata": {
    "tags": [
     "remove-cell"
    ]
   },
   "source": [
    "Think Bayes, Second Edition\n",
    "\n",
    "Copyright 2020 Allen B. Downey\n",
    "\n",
    "License: [Attribution-NonCommercial-ShareAlike 4.0 International (CC BY-NC-SA 4.0)](https://creativecommons.org/licenses/by-nc-sa/4.0/)"
   ]
  },
  {
   "cell_type": "code",
   "execution_count": 2,
   "metadata": {
    "tags": [
     "remove-cell"
    ]
   },
   "outputs": [],
   "source": [
    "# If we're running on Colab, install empiricaldist\n",
    "# https://pypi.org/project/empiricaldist/\n",
    "\n",
    "import sys\n",
    "IN_COLAB = 'google.colab' in sys.modules\n",
    "\n",
    "if IN_COLAB:\n",
    "    !pip install empiricaldist"
   ]
  },
  {
   "cell_type": "code",
   "execution_count": 3,
   "metadata": {
    "tags": [
     "remove-cell"
    ]
   },
   "outputs": [],
   "source": [
    "# Get utils.py and create directories\n",
    "\n",
    "import os\n",
    "\n",
    "if not os.path.exists('utils.py'):\n",
    "    !wget https://github.com/AllenDowney/ThinkBayes2/raw/master/soln/utils.py"
   ]
  },
  {
   "cell_type": "code",
   "execution_count": 4,
   "metadata": {
    "tags": [
     "remove-cell"
    ]
   },
   "outputs": [],
   "source": [
    "from utils import set_pyplot_params\n",
    "set_pyplot_params()"
   ]
  },
  {
   "cell_type": "markdown",
   "metadata": {},
   "source": [
    "In the previous chapter we saw several examples of logistic regression, which is based on the assumption that the likelihood of an outcome, expressed in the form of log odds, is a linear function of some quantity (continuous or discrete).\n",
    "\n",
    "In this chapter we'll work on examples of simple linear regression, which models the relationship between two quantities.  Specifically, we'll look at changes over time in snowfall and the marathon world record.\n",
    "\n",
    "The models we'll use have three parameters, so you might want to review the tools we used for the three-parameter model in Chapter xxx."
   ]
  },
  {
   "cell_type": "markdown",
   "metadata": {},
   "source": [
    "## More snow?\n",
    "\n",
    "I am under the impression that we don't get as much snow around here as we used to.  By \"around here\" I mean Norfolk County, Massachusetts, where I was born, grew up, and currently live.  And by \"used to\" I mean compared to when I was young, like in 1978 when we got [27 inches of snow](https://en.wikipedia.org/wiki/Northeastern_United_States_blizzard_of_1978) and I didn't have to go to school for a couple of weeks.\n",
    "\n",
    "Fortunately, we can test my conjecture with data.  Norfolk County happens to be the location of the [Blue Hill Meteorological Observatory](https://en.wikipedia.org/wiki/Blue_Hill_Meteorological_Observatory), which keeps the oldest continuous weather record in North America.\n",
    "\n",
    "Data from this and many other weather stations is available from the [National Oceanic and Atmospheric Administration](https://www.ncdc.noaa.gov/cdo-web/search) (NOAA).  I collected data from the Blue Hill Observatory from May 11, 1967 to May 11, 2020.  The following cell downloads the data as a CSV file."
   ]
  },
  {
   "cell_type": "code",
   "execution_count": 5,
   "metadata": {},
   "outputs": [],
   "source": [
    "import os\n",
    "\n",
    "datafile = '2239075.csv'\n",
    "if not os.path.exists(datafile):\n",
    "    !wget https://github.com/AllenDowney/ThinkBayes2/raw/master/data/2239075.csv"
   ]
  },
  {
   "cell_type": "markdown",
   "metadata": {},
   "source": [
    "We can read the data into a Pandas `DataFrame`:"
   ]
  },
  {
   "cell_type": "code",
   "execution_count": 6,
   "metadata": {},
   "outputs": [],
   "source": [
    "import pandas as pd\n",
    "\n",
    "df = pd.read_csv('2239075.csv', parse_dates=[2])"
   ]
  },
  {
   "cell_type": "markdown",
   "metadata": {},
   "source": [
    "Here's what the last few rows look like."
   ]
  },
  {
   "cell_type": "code",
   "execution_count": 7,
   "metadata": {},
   "outputs": [
    {
     "data": {
      "text/html": [
       "<div>\n",
       "<style scoped>\n",
       "    .dataframe tbody tr th:only-of-type {\n",
       "        vertical-align: middle;\n",
       "    }\n",
       "\n",
       "    .dataframe tbody tr th {\n",
       "        vertical-align: top;\n",
       "    }\n",
       "\n",
       "    .dataframe thead th {\n",
       "        text-align: right;\n",
       "    }\n",
       "</style>\n",
       "<table border=\"1\" class=\"dataframe\">\n",
       "  <thead>\n",
       "    <tr style=\"text-align: right;\">\n",
       "      <th></th>\n",
       "      <th>STATION</th>\n",
       "      <th>NAME</th>\n",
       "      <th>DATE</th>\n",
       "      <th>PRCP</th>\n",
       "      <th>SNOW</th>\n",
       "      <th>SNWD</th>\n",
       "      <th>TMAX</th>\n",
       "      <th>TMIN</th>\n",
       "      <th>TOBS</th>\n",
       "      <th>WESD</th>\n",
       "      <th>WT01</th>\n",
       "      <th>WT03</th>\n",
       "      <th>WT04</th>\n",
       "      <th>WT05</th>\n",
       "      <th>WT06</th>\n",
       "      <th>WT08</th>\n",
       "      <th>WT09</th>\n",
       "      <th>WT11</th>\n",
       "      <th>WT16</th>\n",
       "      <th>WT18</th>\n",
       "    </tr>\n",
       "  </thead>\n",
       "  <tbody>\n",
       "    <tr>\n",
       "      <th>19357</th>\n",
       "      <td>USC00190736</td>\n",
       "      <td>BLUE HILL COOP, MA US</td>\n",
       "      <td>2020-05-09</td>\n",
       "      <td>0.45</td>\n",
       "      <td>0.0</td>\n",
       "      <td>0.0</td>\n",
       "      <td>57</td>\n",
       "      <td>34.0</td>\n",
       "      <td>34.0</td>\n",
       "      <td>NaN</td>\n",
       "      <td>1.0</td>\n",
       "      <td>NaN</td>\n",
       "      <td>NaN</td>\n",
       "      <td>NaN</td>\n",
       "      <td>NaN</td>\n",
       "      <td>NaN</td>\n",
       "      <td>NaN</td>\n",
       "      <td>NaN</td>\n",
       "      <td>NaN</td>\n",
       "      <td>NaN</td>\n",
       "    </tr>\n",
       "    <tr>\n",
       "      <th>19358</th>\n",
       "      <td>USC00190736</td>\n",
       "      <td>BLUE HILL COOP, MA US</td>\n",
       "      <td>2020-05-10</td>\n",
       "      <td>0.00</td>\n",
       "      <td>0.0</td>\n",
       "      <td>0.0</td>\n",
       "      <td>44</td>\n",
       "      <td>31.0</td>\n",
       "      <td>38.0</td>\n",
       "      <td>NaN</td>\n",
       "      <td>NaN</td>\n",
       "      <td>NaN</td>\n",
       "      <td>NaN</td>\n",
       "      <td>NaN</td>\n",
       "      <td>NaN</td>\n",
       "      <td>NaN</td>\n",
       "      <td>NaN</td>\n",
       "      <td>NaN</td>\n",
       "      <td>NaN</td>\n",
       "      <td>NaN</td>\n",
       "    </tr>\n",
       "    <tr>\n",
       "      <th>19359</th>\n",
       "      <td>USC00190736</td>\n",
       "      <td>BLUE HILL COOP, MA US</td>\n",
       "      <td>2020-05-11</td>\n",
       "      <td>0.00</td>\n",
       "      <td>0.0</td>\n",
       "      <td>0.0</td>\n",
       "      <td>59</td>\n",
       "      <td>38.0</td>\n",
       "      <td>50.0</td>\n",
       "      <td>NaN</td>\n",
       "      <td>NaN</td>\n",
       "      <td>NaN</td>\n",
       "      <td>NaN</td>\n",
       "      <td>NaN</td>\n",
       "      <td>NaN</td>\n",
       "      <td>NaN</td>\n",
       "      <td>NaN</td>\n",
       "      <td>NaN</td>\n",
       "      <td>NaN</td>\n",
       "      <td>NaN</td>\n",
       "    </tr>\n",
       "  </tbody>\n",
       "</table>\n",
       "</div>"
      ],
      "text/plain": [
       "           STATION                   NAME       DATE  PRCP  SNOW  SNWD  TMAX  \\\n",
       "19357  USC00190736  BLUE HILL COOP, MA US 2020-05-09  0.45   0.0   0.0    57   \n",
       "19358  USC00190736  BLUE HILL COOP, MA US 2020-05-10  0.00   0.0   0.0    44   \n",
       "19359  USC00190736  BLUE HILL COOP, MA US 2020-05-11  0.00   0.0   0.0    59   \n",
       "\n",
       "       TMIN  TOBS  WESD  WT01  WT03  WT04  WT05  WT06  WT08  WT09  WT11  WT16  \\\n",
       "19357  34.0  34.0   NaN   1.0   NaN   NaN   NaN   NaN   NaN   NaN   NaN   NaN   \n",
       "19358  31.0  38.0   NaN   NaN   NaN   NaN   NaN   NaN   NaN   NaN   NaN   NaN   \n",
       "19359  38.0  50.0   NaN   NaN   NaN   NaN   NaN   NaN   NaN   NaN   NaN   NaN   \n",
       "\n",
       "       WT18  \n",
       "19357   NaN  \n",
       "19358   NaN  \n",
       "19359   NaN  "
      ]
     },
     "execution_count": 7,
     "metadata": {},
     "output_type": "execute_result"
    }
   ],
   "source": [
    "df.tail(3)"
   ]
  },
  {
   "cell_type": "markdown",
   "metadata": {},
   "source": [
    "I'll add a column that contains just the year part of the dates."
   ]
  },
  {
   "cell_type": "code",
   "execution_count": 8,
   "metadata": {},
   "outputs": [],
   "source": [
    "df['YEAR'] = df['DATE'].dt.year"
   ]
  },
  {
   "cell_type": "markdown",
   "metadata": {},
   "source": [
    "And use `groupby` to add up the total snowfall in each year."
   ]
  },
  {
   "cell_type": "code",
   "execution_count": 9,
   "metadata": {},
   "outputs": [
    {
     "data": {
      "text/plain": [
       "54"
      ]
     },
     "execution_count": 9,
     "metadata": {},
     "output_type": "execute_result"
    }
   ],
   "source": [
    "snow = df.groupby('YEAR')['SNOW'].sum()\n",
    "len(snow)"
   ]
  },
  {
   "cell_type": "markdown",
   "metadata": {},
   "source": [
    "The first and last years are not complete, so I'll drop them."
   ]
  },
  {
   "cell_type": "code",
   "execution_count": 10,
   "metadata": {},
   "outputs": [
    {
     "data": {
      "text/plain": [
       "52"
      ]
     },
     "execution_count": 10,
     "metadata": {},
     "output_type": "execute_result"
    }
   ],
   "source": [
    "complete = snow.iloc[1:-1]\n",
    "len(complete)"
   ]
  },
  {
   "cell_type": "markdown",
   "metadata": {},
   "source": [
    "The following figure shows total snowfall during each of the complete years in my lifetime."
   ]
  },
  {
   "cell_type": "code",
   "execution_count": 11,
   "metadata": {
    "tags": [
     "hide-input"
    ]
   },
   "outputs": [
    {
     "data": {
      "image/png": "[encoded data removed]",
      "text/plain": [
       "<Figure size 432x288 with 1 Axes>"
      ]
     },
     "metadata": {
      "needs_background": "light"
     },
     "output_type": "display_data"
    }
   ],
   "source": [
    "from utils import decorate\n",
    "\n",
    "complete.plot(style='o', alpha=0.5)\n",
    "\n",
    "decorate(xlabel='Year',\n",
    "         ylabel='Total annual snowfall (inches)',\n",
    "         title='Total annual snowfall in Norfolk County, MA')"
   ]
  },
  {
   "cell_type": "markdown",
   "metadata": {},
   "source": [
    "Looking at this plot, it's hard to say whether snowfall is increasing, decreasing, or unchanged.  In the last decade, we've had several years with more snow than 1978, including 2015, which was the snowiest winter in the Boston area in modern history, with a total of 141 inches."
   ]
  },
  {
   "cell_type": "code",
   "execution_count": 12,
   "metadata": {},
   "outputs": [
    {
     "data": {
      "text/plain": [
       "YEAR\n",
       "1978    100.6\n",
       "1996    124.2\n",
       "2015    141.1\n",
       "Name: SNOW, dtype: float64"
      ]
     },
     "execution_count": 12,
     "metadata": {},
     "output_type": "execute_result"
    }
   ],
   "source": [
    "complete.loc[[1978, 1996, 2015]]"
   ]
  },
  {
   "cell_type": "markdown",
   "metadata": {},
   "source": [
    "This kind of question -- looking at noisy data and wondering whether it is going up or down -- is precisely the question we can answer with Bayesian regression."
   ]
  },
  {
   "cell_type": "markdown",
   "metadata": {},
   "source": [
    "## Regression model\n",
    "\n",
    "The foundation of regression (Bayesian or not) is the model that a time series like this is the sum of two parts:\n",
    "\n",
    "1. A linear function of time, and\n",
    "\n",
    "2. A series of random values drawn from a distribution that is not changing over time.\n",
    "\n",
    "Mathematically,\n",
    "\n",
    "$$y = a x + b + \\epsilon$$\n",
    "\n",
    "where $y$ is the series of measurements (snowfall in this example), $x$ is the series of times (years) and $\\epsilon$ is the series of random values.\n",
    "\n",
    "$a$ and $b$ are the slope and intercept of the line through the data.  They are unknown parameters, so we will use the data to estimate them.\n",
    "\n",
    "We don't know the distribution of $\\epsilon$, so we'll make the additional assumption that it is a normal distribution with mean 0 and unknown standard deviation, $\\sigma$.  \n",
    "\n",
    "To see whether this assumption is reasonable, I'll plot the distribution of total snowfall and a normal model with the same mean and standard deviations.\n",
    "\n",
    "Here's a `Pmf` object that represents the distribution of snowfall."
   ]
  },
  {
   "cell_type": "code",
   "execution_count": 13,
   "metadata": {},
   "outputs": [],
   "source": [
    "from empiricaldist import Pmf\n",
    "\n",
    "pmf_snowfall = Pmf.from_seq(complete)"
   ]
  },
  {
   "cell_type": "markdown",
   "metadata": {},
   "source": [
    "And here are the mean and standard deviation of the data."
   ]
  },
  {
   "cell_type": "code",
   "execution_count": 14,
   "metadata": {},
   "outputs": [
    {
     "data": {
      "text/plain": [
       "(64.19038461538462, 26.288021984395684)"
      ]
     },
     "execution_count": 14,
     "metadata": {},
     "output_type": "execute_result"
    }
   ],
   "source": [
    "mean, std = pmf_snowfall.mean(), pmf_snowfall.std()\n",
    "mean, std"
   ]
  },
  {
   "cell_type": "markdown",
   "metadata": {},
   "source": [
    "I'll use the `norm` object from SciPy to compute the CDF of the a normal distribution with the same mean and standard deviation."
   ]
  },
  {
   "cell_type": "code",
   "execution_count": 15,
   "metadata": {},
   "outputs": [],
   "source": [
    "from scipy.stats import norm\n",
    "\n",
    "dist = norm(mean, std)\n",
    "qs = pmf_snowfall.qs\n",
    "ps = dist.cdf(qs)"
   ]
  },
  {
   "cell_type": "markdown",
   "metadata": {},
   "source": [
    "Here's what the distribution of the data looks like compared to the normal model."
   ]
  },
  {
   "cell_type": "code",
   "execution_count": 16,
   "metadata": {
    "tags": [
     "hide-input"
    ]
   },
   "outputs": [
    {
     "data": {
      "image/png": "[encoded data removed]",
      "text/plain": [
       "<Figure size 432x288 with 1 Axes>"
      ]
     },
     "metadata": {
      "needs_background": "light"
     },
     "output_type": "display_data"
    }
   ],
   "source": [
    "import matplotlib.pyplot as plt\n",
    "\n",
    "plt.plot(qs, ps, color='C5', label='model')\n",
    "pmf_snowfall.make_cdf().plot(label='data')\n",
    "\n",
    "decorate(xlabel='Total snowfall (inches)',\n",
    "         ylabel='CDF',\n",
    "         title='Normal model of variation in snowfall')"
   ]
  },
  {
   "cell_type": "markdown",
   "metadata": {},
   "source": [
    "We've had more winters below the mean than expected, but overall this looks like a reasonable model."
   ]
  },
  {
   "cell_type": "markdown",
   "metadata": {},
   "source": [
    "## Least squares regression\n",
    "\n",
    "Our regression model has three parameters: slope, intercept, and standard deviation of $\\epsilon$.\n",
    "Before we can estimate them, we have to choose priors.\n",
    "\n",
    "To help with that, I'll use StatsModel to fit a line to the data by [least squares regression](https://en.wikipedia.org/wiki/Least_squares).\n",
    "\n",
    "First, I'll use `reset_index` to convert `complete`, which is a `Series`, to a `DataFrame`."
   ]
  },
  {
   "cell_type": "code",
   "execution_count": 17,
   "metadata": {},
   "outputs": [
    {
     "data": {
      "text/html": [
       "<div>\n",
       "<style scoped>\n",
       "    .dataframe tbody tr th:only-of-type {\n",
       "        vertical-align: middle;\n",
       "    }\n",
       "\n",
       "    .dataframe tbody tr th {\n",
       "        vertical-align: top;\n",
       "    }\n",
       "\n",
       "    .dataframe thead th {\n",
       "        text-align: right;\n",
       "    }\n",
       "</style>\n",
       "<table border=\"1\" class=\"dataframe\">\n",
       "  <thead>\n",
       "    <tr style=\"text-align: right;\">\n",
       "      <th></th>\n",
       "      <th>YEAR</th>\n",
       "      <th>SNOW</th>\n",
       "    </tr>\n",
       "  </thead>\n",
       "  <tbody>\n",
       "    <tr>\n",
       "      <th>0</th>\n",
       "      <td>1968</td>\n",
       "      <td>44.7</td>\n",
       "    </tr>\n",
       "    <tr>\n",
       "      <th>1</th>\n",
       "      <td>1969</td>\n",
       "      <td>99.2</td>\n",
       "    </tr>\n",
       "    <tr>\n",
       "      <th>2</th>\n",
       "      <td>1970</td>\n",
       "      <td>66.8</td>\n",
       "    </tr>\n",
       "  </tbody>\n",
       "</table>\n",
       "</div>"
      ],
      "text/plain": [
       "   YEAR  SNOW\n",
       "0  1968  44.7\n",
       "1  1969  99.2\n",
       "2  1970  66.8"
      ]
     },
     "execution_count": 17,
     "metadata": {},
     "output_type": "execute_result"
    }
   ],
   "source": [
    "data = complete.reset_index()\n",
    "data.head(3)"
   ]
  },
  {
   "cell_type": "markdown",
   "metadata": {},
   "source": [
    "The result is a `DataFrame` with two columns, `YEAR` and `SNOW`, in a format we can use with StatsModels.\n",
    "\n",
    "As we did in the previous chapter, I'll center the data by subtracting off the mean."
   ]
  },
  {
   "cell_type": "code",
   "execution_count": 18,
   "metadata": {},
   "outputs": [
    {
     "data": {
      "text/plain": [
       "1993.5"
      ]
     },
     "execution_count": 18,
     "metadata": {},
     "output_type": "execute_result"
    }
   ],
   "source": [
    "offset = data['YEAR'].mean()\n",
    "offset"
   ]
  },
  {
   "cell_type": "code",
   "execution_count": 19,
   "metadata": {},
   "outputs": [
    {
     "data": {
      "text/plain": [
       "0.0"
      ]
     },
     "execution_count": 19,
     "metadata": {},
     "output_type": "execute_result"
    }
   ],
   "source": [
    "data['x'] = data['YEAR'] - offset\n",
    "data['x'].mean()"
   ]
  },
  {
   "cell_type": "markdown",
   "metadata": {},
   "source": [
    "And I'll add a column to `data` so the dependent variable has a standard name."
   ]
  },
  {
   "cell_type": "code",
   "execution_count": 20,
   "metadata": {},
   "outputs": [],
   "source": [
    "data['y'] = data['SNOW']"
   ]
  },
  {
   "cell_type": "markdown",
   "metadata": {},
   "source": [
    "Now, we can use StatsModels to compute the least squares fit to the data and estimate `slope` and `intercept`."
   ]
  },
  {
   "cell_type": "code",
   "execution_count": 21,
   "metadata": {},
   "outputs": [
    {
     "data": {
      "text/plain": [
       "Intercept    64.190385\n",
       "x             0.511880\n",
       "dtype: float64"
      ]
     },
     "execution_count": 21,
     "metadata": {},
     "output_type": "execute_result"
    }
   ],
   "source": [
    "import statsmodels.formula.api as smf\n",
    "\n",
    "formula = 'y ~ x'\n",
    "results = smf.ols(formula, data=data).fit()\n",
    "results.params"
   ]
  },
  {
   "cell_type": "markdown",
   "metadata": {},
   "source": [
    "The intercept, about 64 inches, is the expected snowfall when `x=0`, which is the middle of 1993.\n",
    "\n",
    "The estimated slope indicates that total snowfall is increasing at a rate of about 0.5 inches per year.  \n",
    "\n",
    "`results` also provides `resid`, which is an array of residuals, that is, the differences between the data and the fitted line.\n",
    "The standard deviation of the residuals is an estimate of `sigma`."
   ]
  },
  {
   "cell_type": "code",
   "execution_count": 22,
   "metadata": {},
   "outputs": [
    {
     "data": {
      "text/plain": [
       "25.385680731210616"
      ]
     },
     "execution_count": 22,
     "metadata": {},
     "output_type": "execute_result"
    }
   ],
   "source": [
    "results.resid.std()"
   ]
  },
  {
   "cell_type": "markdown",
   "metadata": {},
   "source": [
    "We'll use these estimates to choose prior distributions for the parameters.\n",
    "\n",
    "But first, I'll use them to demonstrate how we compute the likelihood of the data."
   ]
  },
  {
   "cell_type": "markdown",
   "metadata": {},
   "source": [
    "## Likelihood\n",
    "\n",
    "Here are approximate values for the slope, intercept, and standard deviation of the data."
   ]
  },
  {
   "cell_type": "code",
   "execution_count": 23,
   "metadata": {},
   "outputs": [],
   "source": [
    "inter = 64\n",
    "slope = 0.51\n",
    "sigma = 25"
   ]
  },
  {
   "cell_type": "markdown",
   "metadata": {},
   "source": [
    "I'll extract the `xs` and `ys` from `data` as `Series` objects:"
   ]
  },
  {
   "cell_type": "code",
   "execution_count": 24,
   "metadata": {},
   "outputs": [],
   "source": [
    "xs = data['x']\n",
    "ys = data['y']"
   ]
  },
  {
   "cell_type": "markdown",
   "metadata": {},
   "source": [
    "And compute the \"residuals\", which are the differences between the actual values, `ys`, and the values we expect based on `slope` and `inter`."
   ]
  },
  {
   "cell_type": "code",
   "execution_count": 25,
   "metadata": {},
   "outputs": [
    {
     "data": {
      "text/plain": [
       "count    52.000000\n",
       "mean      0.190385\n",
       "std      25.385697\n",
       "min     -42.335000\n",
       "25%     -17.442500\n",
       "50%      -6.565000\n",
       "75%      14.125000\n",
       "max      66.135000\n",
       "dtype: float64"
      ]
     },
     "execution_count": 25,
     "metadata": {},
     "output_type": "execute_result"
    }
   ],
   "source": [
    "expected = slope * xs + inter\n",
    "resid = ys - expected\n",
    "resid.describe()"
   ]
  },
  {
   "cell_type": "markdown",
   "metadata": {},
   "source": [
    "According to the model, the residuals should follow a normal distribution with mean 0 and standard deviation `sigma`.  We can compute the likelihood of each residual value using `norm` from `SciPy`."
   ]
  },
  {
   "cell_type": "code",
   "execution_count": 26,
   "metadata": {},
   "outputs": [
    {
     "data": {
      "text/plain": [
       "(52,)"
      ]
     },
     "execution_count": 26,
     "metadata": {},
     "output_type": "execute_result"
    }
   ],
   "source": [
    "densities = norm(0, sigma).pdf(resid)\n",
    "densities.shape"
   ]
  },
  {
   "cell_type": "markdown",
   "metadata": {},
   "source": [
    "The result is an array of probability densities.\n",
    "The likelihood of the data is the product of the values in this array."
   ]
  },
  {
   "cell_type": "code",
   "execution_count": 27,
   "metadata": {},
   "outputs": [
    {
     "data": {
      "text/plain": [
       "1.364365526172151e-105"
      ]
     },
     "execution_count": 27,
     "metadata": {},
     "output_type": "execute_result"
    }
   ],
   "source": [
    "likelihood = densities.prod()\n",
    "likelihood"
   ]
  },
  {
   "cell_type": "markdown",
   "metadata": {},
   "source": [
    "As we saw in the previous chapter, the likelihood of any particular dataset tends to be small.\n",
    "If it's too small, we might exceed the limits of floating-point arithmetic.\n",
    "When that happens, we can avoid the problem by computing likelihoods under a log transform.\n",
    "But in this example that's not necessary."
   ]
  },
  {
   "cell_type": "markdown",
   "metadata": {},
   "source": [
    "## Priors\n",
    "\n",
    "Now that we have figured out the likelihood function, all we need is a prior distribution.\n",
    "\n",
    "I'll use uniform distributions for all three parameters, using the parameters of the least squares fit as a starting place."
   ]
  },
  {
   "cell_type": "code",
   "execution_count": 28,
   "metadata": {},
   "outputs": [
    {
     "data": {
      "text/plain": [
       "Slope\n",
       "-0.50    0.019608\n",
       "-0.46    0.019608\n",
       "-0.42    0.019608\n",
       "-0.38    0.019608\n",
       "-0.34    0.019608\n",
       "dtype: float64"
      ]
     },
     "execution_count": 28,
     "metadata": {},
     "output_type": "execute_result"
    }
   ],
   "source": [
    "import numpy as np\n",
    "from utils import make_uniform\n",
    "\n",
    "qs = np.linspace(-0.5, 1.5, 51)\n",
    "prior_slope = make_uniform(qs, 'Slope')\n",
    "prior_slope.head()"
   ]
  },
  {
   "cell_type": "code",
   "execution_count": 29,
   "metadata": {},
   "outputs": [
    {
     "data": {
      "text/plain": [
       "Intercept\n",
       "54.000    0.02439\n",
       "54.525    0.02439\n",
       "55.050    0.02439\n",
       "55.575    0.02439\n",
       "56.100    0.02439\n",
       "dtype: float64"
      ]
     },
     "execution_count": 29,
     "metadata": {},
     "output_type": "execute_result"
    }
   ],
   "source": [
    "qs = np.linspace(54, 75, 41)\n",
    "prior_inter = make_uniform(qs, 'Intercept')\n",
    "prior_inter.head()"
   ]
  },
  {
   "cell_type": "code",
   "execution_count": 30,
   "metadata": {},
   "outputs": [
    {
     "data": {
      "text/plain": [
       "Sigma\n",
       "20.0    0.032258\n",
       "20.5    0.032258\n",
       "21.0    0.032258\n",
       "21.5    0.032258\n",
       "22.0    0.032258\n",
       "dtype: float64"
      ]
     },
     "execution_count": 30,
     "metadata": {},
     "output_type": "execute_result"
    }
   ],
   "source": [
    "qs = np.linspace(20, 35, 31)\n",
    "prior_sigma = make_uniform(qs, 'Sigma')\n",
    "prior_sigma.head()"
   ]
  },
  {
   "cell_type": "markdown",
   "metadata": {},
   "source": [
    "I made the prior distributions different lengths for two reasons.  First, if we make a mistake and use the wrong distribution, it will be easier to catch the error if they are all different lengths.\n",
    "\n",
    "Second, it provides more precision for the most important parameter, `slope`, and spends less computational effort on the least important, `sigma`."
   ]
  },
  {
   "cell_type": "markdown",
   "metadata": {},
   "source": [
    "In Chapter xxx we made a joint distribution with three parameters.  I'll wrap that process in a function:"
   ]
  },
  {
   "cell_type": "code",
   "execution_count": 31,
   "metadata": {},
   "outputs": [],
   "source": [
    "from utils import make_joint\n",
    "\n",
    "def make_joint3(pmf1, pmf2, pmf3):\n",
    "    \"\"\"Make a joint distribution with three parameters.\n",
    "    \n",
    "    pmf1: Pmf object\n",
    "    pmf2: Pmf object\n",
    "    pmf3: Pmf object\n",
    "    \n",
    "    returns: Pmf representing a joint distribution\n",
    "    \"\"\"\n",
    "    joint2 = make_joint(pmf2, pmf1).stack()\n",
    "    joint3 = make_joint(pmf3, joint2).stack()\n",
    "    return Pmf(joint3)"
   ]
  },
  {
   "cell_type": "code",
   "execution_count": 32,
   "metadata": {},
   "outputs": [
    {
     "data": {
      "text/plain": [
       "Slope  Intercept  Sigma\n",
       "-0.5   54.0       20.0     0.000015\n",
       "                  20.5     0.000015\n",
       "                  21.0     0.000015\n",
       "dtype: float64"
      ]
     },
     "execution_count": 32,
     "metadata": {},
     "output_type": "execute_result"
    }
   ],
   "source": [
    "prior3 = make_joint3(prior_slope, prior_inter, prior_sigma)\n",
    "prior3.head(3)"
   ]
  },
  {
   "cell_type": "markdown",
   "metadata": {},
   "source": [
    "The result is a `Pmf` that represents the joint prior distribution of the three parameters.\n",
    "Its index has three columns, containing values of `slope`, `inter`, and `sigma`, in that order.\n",
    "\n",
    "With three parameters, the size of the joint distribution starts to get big.  Specifically, it is the product of the lengths of the prior distributions.  In this example, the prior distributions have 51, 41, and 31 values, so the length of the joint prior is 64,821."
   ]
  },
  {
   "cell_type": "code",
   "execution_count": 33,
   "metadata": {},
   "outputs": [
    {
     "data": {
      "text/plain": [
       "(51, 41, 31)"
      ]
     },
     "execution_count": 33,
     "metadata": {},
     "output_type": "execute_result"
    }
   ],
   "source": [
    "len(prior_slope), len(prior_inter), len(prior_sigma)"
   ]
  },
  {
   "cell_type": "code",
   "execution_count": 34,
   "metadata": {},
   "outputs": [
    {
     "data": {
      "text/plain": [
       "64821"
      ]
     },
     "execution_count": 34,
     "metadata": {},
     "output_type": "execute_result"
    }
   ],
   "source": [
    "len(prior_slope) * len(prior_inter) * len(prior_sigma)"
   ]
  },
  {
   "cell_type": "code",
   "execution_count": 35,
   "metadata": {},
   "outputs": [
    {
     "data": {
      "text/plain": [
       "64821"
      ]
     },
     "execution_count": 35,
     "metadata": {},
     "output_type": "execute_result"
    }
   ],
   "source": [
    "len(prior3)"
   ]
  },
  {
   "cell_type": "markdown",
   "metadata": {},
   "source": [
    "## The Update\n",
    "\n",
    "Now we're ready to do a Bayesian update.  First, we need to compute the likelihood of the data for each possible set of parameters.\n",
    "\n",
    "The following function takes the joint prior distribution and the data, computes the likelihoods, and returns the posterior distribution."
   ]
  },
  {
   "cell_type": "code",
   "execution_count": 36,
   "metadata": {},
   "outputs": [],
   "source": [
    "def update_regression(prior, data):\n",
    "    \"\"\"Posterior distribution of regression parameters\n",
    "    `slope`, `inter`, and `sigma`.\n",
    "    \n",
    "    prior: Pmf representing the joint prior\n",
    "    data: DataFrame with columns `x` and `y`\n",
    "    \n",
    "    returns: Pmf representing the joint posterior\n",
    "    \"\"\"\n",
    "    xs = data['x']\n",
    "    ys = data['y']\n",
    "    likelihood = prior.copy()\n",
    "\n",
    "    for slope, inter, sigma in prior.index:\n",
    "        expected = slope * xs + inter\n",
    "        resid = ys - expected\n",
    "        densities = norm.pdf(resid, 0, sigma)\n",
    "        likelihood[slope, inter, sigma] = densities.prod()\n",
    "        \n",
    "    posterior = prior * likelihood\n",
    "    posterior.normalize()\n",
    "    return posterior"
   ]
  },
  {
   "cell_type": "markdown",
   "metadata": {},
   "source": [
    "Here's how we run it."
   ]
  },
  {
   "cell_type": "code",
   "execution_count": 37,
   "metadata": {},
   "outputs": [
    {
     "name": "stdout",
     "output_type": "stream",
     "text": [
      "CPU times: user 56.8 s, sys: 43.7 ms, total: 56.8 s\n",
      "Wall time: 57.1 s\n"
     ]
    },
    {
     "data": {
      "text/plain": [
       "Slope  Intercept  Sigma\n",
       "-0.5   54.0       20.0     4.651041e-15\n",
       "                  20.5     2.658295e-14\n",
       "                  21.0     1.265641e-13\n",
       "                  21.5     5.111749e-13\n",
       "                  22.0     1.779767e-12\n",
       "dtype: float64"
      ]
     },
     "execution_count": 37,
     "metadata": {},
     "output_type": "execute_result"
    }
   ],
   "source": [
    "%time posterior = update_regression(prior3, data)\n",
    "posterior.head()"
   ]
  },
  {
   "cell_type": "markdown",
   "metadata": {},
   "source": [
    "With three parameters, this function takes some time to run, but soon we'll see a way to speed it up.\n",
    "\n",
    "The result is a `Pmf` with a three-level index containing values of `slope`, `inter`, and `sigma`."
   ]
  },
  {
   "cell_type": "markdown",
   "metadata": {},
   "source": [
    "## Unpacking the Marginals\n",
    "\n",
    "To get the marginal distributions from the joint posterior, we can use `Pmf.marginal`, which we saw in Chapter xxx.\n",
    "\n",
    "Here's the posterior distribution for `sigma`:"
   ]
  },
  {
   "cell_type": "code",
   "execution_count": 38,
   "metadata": {},
   "outputs": [],
   "source": [
    "posterior_sigma = posterior.marginal(2)"
   ]
  },
  {
   "cell_type": "code",
   "execution_count": 39,
   "metadata": {
    "tags": [
     "hide-input"
    ]
   },
   "outputs": [
    {
     "data": {
      "image/png": "[encoded data removed]",
      "text/plain": [
       "<Figure size 432x288 with 1 Axes>"
      ]
     },
     "metadata": {
      "needs_background": "light"
     },
     "output_type": "display_data"
    }
   ],
   "source": [
    "posterior_sigma.plot()\n",
    "\n",
    "decorate(xlabel='$\\sigma$, standard deviation of $\\epsilon$',\n",
    "         ylabel='PDF',\n",
    "         title='Posterior marginal distribution of $\\sigma$')"
   ]
  },
  {
   "cell_type": "markdown",
   "metadata": {},
   "source": [
    "The most likely values for `sigma` are near 26 inches, which is consistent with our estimate based on the standard deviation of the data.\n",
    "\n",
    "However, to say whether snowfall is increasing or decreasing, we don't really care about `sigma`.  It is a \"nuisance parameter\", so-called because we have to estimate it as part of the model, but we don't need it to answer the questions we are interested in.\n",
    "\n",
    "Nevertheless, it is good to check the marginal distributions to make sure \n",
    "\n",
    "* The location and shape are consistent with our expectations, and \n",
    "\n",
    "* The posterior probabilities are near 0 at the extremes of the range, which indicates that the prior distribution covers all parameters with non-negligible probability.\n",
    "\n",
    "In this example, the posterior distribution of `sigma` looks fine.\n",
    "\n",
    "We can use `Pmf.marginal` again to get the other marginal distributions."
   ]
  },
  {
   "cell_type": "code",
   "execution_count": 40,
   "metadata": {},
   "outputs": [],
   "source": [
    "posterior_slope = posterior.marginal(0)\n",
    "posterior_inter = posterior.marginal(1)"
   ]
  },
  {
   "cell_type": "markdown",
   "metadata": {},
   "source": [
    "Here's the posterior distribution of `inter`:"
   ]
  },
  {
   "cell_type": "code",
   "execution_count": 41,
   "metadata": {
    "tags": [
     "hide-input"
    ]
   },
   "outputs": [
    {
     "data": {
      "image/png": "[encoded data removed]",
      "text/plain": [
       "<Figure size 432x288 with 1 Axes>"
      ]
     },
     "metadata": {
      "needs_background": "light"
     },
     "output_type": "display_data"
    }
   ],
   "source": [
    "posterior_inter.plot(color='C1')\n",
    "decorate(xlabel='intercept (inches)',\n",
    "         ylabel='PDF',\n",
    "         title='Posterior marginal distribution of intercept')"
   ]
  },
  {
   "cell_type": "code",
   "execution_count": 42,
   "metadata": {},
   "outputs": [
    {
     "name": "stdout",
     "output_type": "stream",
     "text": [
      "64.201 [58.2   70.275]\n"
     ]
    }
   ],
   "source": [
    "from utils import summarize\n",
    "    \n",
    "summarize(posterior_inter) "
   ]
  },
  {
   "cell_type": "code",
   "execution_count": 43,
   "metadata": {},
   "outputs": [
    {
     "data": {
      "text/plain": [
       "1993.5"
      ]
     },
     "execution_count": 43,
     "metadata": {},
     "output_type": "execute_result"
    }
   ],
   "source": [
    "offset"
   ]
  },
  {
   "cell_type": "markdown",
   "metadata": {},
   "source": [
    "The posterior mean is about 64 inches, which the expected amount of snow during the year at the midpoint of the range, 1993.\n",
    "\n",
    "And finally, here's the posterior distribution of `slope`:"
   ]
  },
  {
   "cell_type": "code",
   "execution_count": 44,
   "metadata": {
    "tags": [
     "hide-input"
    ]
   },
   "outputs": [
    {
     "data": {
      "image/png": "[encoded data removed]",
      "text/plain": [
       "<Figure size 432x288 with 1 Axes>"
      ]
     },
     "metadata": {
      "needs_background": "light"
     },
     "output_type": "display_data"
    }
   ],
   "source": [
    "posterior_slope.plot(color='C4')\n",
    "decorate(xlabel='Slope (inches per year)',\n",
    "         ylabel='PDF',\n",
    "         title='Posterior marginal distribution of slope')"
   ]
  },
  {
   "cell_type": "code",
   "execution_count": 45,
   "metadata": {},
   "outputs": [
    {
     "name": "stdout",
     "output_type": "stream",
     "text": [
      "0.512 [0.1 0.9]\n"
     ]
    }
   ],
   "source": [
    "summarize(posterior_slope)"
   ]
  },
  {
   "cell_type": "markdown",
   "metadata": {},
   "source": [
    "The posterior mean is about 0.51 inches, which is consistent with the estimate we got from least squared regression.  \n",
    "\n",
    "The 90% credible interval is from 0.1 to 0.9, which indicates that our uncertainty about this estimate is pretty high.  In fact, there is still a small posterior probability (about 2\\%) that the slope is negative. "
   ]
  },
  {
   "cell_type": "code",
   "execution_count": 46,
   "metadata": {},
   "outputs": [
    {
     "data": {
      "text/plain": [
       "array(0.01840785)"
      ]
     },
     "execution_count": 46,
     "metadata": {},
     "output_type": "execute_result"
    }
   ],
   "source": [
    "posterior_slope.make_cdf()(0)"
   ]
  },
  {
   "cell_type": "markdown",
   "metadata": {},
   "source": [
    "However, it is more likely that my conjecture was wrong: we are actually getting more snow around here than we used to, increasing at a rate of about a half-inch per year, which is substantial.  On average, we get an additional 25 inches of snow per year than we did when I was young.\n",
    "\n",
    "This example shows that with slow-moving trends and noisy data, your instincts can be misleading.  \n",
    "\n",
    "Now, you might suspect that I overestimate the amount of snow when I was young because I enjoyed it, and underestimate it now because I don't.  But you would be mistaken.\n",
    "\n",
    "During the Blizzard of 1978, we did not have a snowblower and my brother and I had to shovel.  My sister got a pass for no good reason.  Our driveway was about 60 feet long and three cars wide near the garage.  And we had to shovel Mr. Crocker's driveway, too, for which we were not allowed to accept payment.  Furthermore, as I recall it was during this excavation that I accidentally hit my brother with a shovel on the head, and it bled a lot because, you know, scalp wounds.\n",
    "\n",
    "Anyway, the point is that I don't think I overestimate the amount of snow when I was young because I have fond memories of it. "
   ]
  },
  {
   "cell_type": "markdown",
   "metadata": {},
   "source": [
    "## Optimization\n",
    "\n",
    "The way we computed the likelihood in the previous section was pretty slow.  The problem is that we looped through every possible set of parameters in the prior distribution, and there were more than 60,000 of them.\n",
    "\n",
    "If we can do more work per iteration, and run the loop fewer times, we expect it to go faster.\n",
    "\n",
    "In order to do that, I'll unstack the prior distribution:"
   ]
  },
  {
   "cell_type": "code",
   "execution_count": 47,
   "metadata": {},
   "outputs": [
    {
     "data": {
      "text/html": [
       "<div>\n",
       "<style scoped>\n",
       "    .dataframe tbody tr th:only-of-type {\n",
       "        vertical-align: middle;\n",
       "    }\n",
       "\n",
       "    .dataframe tbody tr th {\n",
       "        vertical-align: top;\n",
       "    }\n",
       "\n",
       "    .dataframe thead th {\n",
       "        text-align: right;\n",
       "    }\n",
       "</style>\n",
       "<table border=\"1\" class=\"dataframe\">\n",
       "  <thead>\n",
       "    <tr style=\"text-align: right;\">\n",
       "      <th></th>\n",
       "      <th>Sigma</th>\n",
       "      <th>20.0</th>\n",
       "      <th>20.5</th>\n",
       "      <th>21.0</th>\n",
       "      <th>21.5</th>\n",
       "      <th>22.0</th>\n",
       "      <th>22.5</th>\n",
       "      <th>23.0</th>\n",
       "      <th>23.5</th>\n",
       "      <th>24.0</th>\n",
       "      <th>24.5</th>\n",
       "      <th>...</th>\n",
       "      <th>30.5</th>\n",
       "      <th>31.0</th>\n",
       "      <th>31.5</th>\n",
       "      <th>32.0</th>\n",
       "      <th>32.5</th>\n",
       "      <th>33.0</th>\n",
       "      <th>33.5</th>\n",
       "      <th>34.0</th>\n",
       "      <th>34.5</th>\n",
       "      <th>35.0</th>\n",
       "    </tr>\n",
       "    <tr>\n",
       "      <th>Slope</th>\n",
       "      <th>Intercept</th>\n",
       "      <th></th>\n",
       "      <th></th>\n",
       "      <th></th>\n",
       "      <th></th>\n",
       "      <th></th>\n",
       "      <th></th>\n",
       "      <th></th>\n",
       "      <th></th>\n",
       "      <th></th>\n",
       "      <th></th>\n",
       "      <th></th>\n",
       "      <th></th>\n",
       "      <th></th>\n",
       "      <th></th>\n",
       "      <th></th>\n",
       "      <th></th>\n",
       "      <th></th>\n",
       "      <th></th>\n",
       "      <th></th>\n",
       "      <th></th>\n",
       "      <th></th>\n",
       "    </tr>\n",
       "  </thead>\n",
       "  <tbody>\n",
       "    <tr>\n",
       "      <th rowspan=\"3\" valign=\"top\">-0.5</th>\n",
       "      <th>54.000</th>\n",
       "      <td>0.000015</td>\n",
       "      <td>0.000015</td>\n",
       "      <td>0.000015</td>\n",
       "      <td>0.000015</td>\n",
       "      <td>0.000015</td>\n",
       "      <td>0.000015</td>\n",
       "      <td>0.000015</td>\n",
       "      <td>0.000015</td>\n",
       "      <td>0.000015</td>\n",
       "      <td>0.000015</td>\n",
       "      <td>...</td>\n",
       "      <td>0.000015</td>\n",
       "      <td>0.000015</td>\n",
       "      <td>0.000015</td>\n",
       "      <td>0.000015</td>\n",
       "      <td>0.000015</td>\n",
       "      <td>0.000015</td>\n",
       "      <td>0.000015</td>\n",
       "      <td>0.000015</td>\n",
       "      <td>0.000015</td>\n",
       "      <td>0.000015</td>\n",
       "    </tr>\n",
       "    <tr>\n",
       "      <th>54.525</th>\n",
       "      <td>0.000015</td>\n",
       "      <td>0.000015</td>\n",
       "      <td>0.000015</td>\n",
       "      <td>0.000015</td>\n",
       "      <td>0.000015</td>\n",
       "      <td>0.000015</td>\n",
       "      <td>0.000015</td>\n",
       "      <td>0.000015</td>\n",
       "      <td>0.000015</td>\n",
       "      <td>0.000015</td>\n",
       "      <td>...</td>\n",
       "      <td>0.000015</td>\n",
       "      <td>0.000015</td>\n",
       "      <td>0.000015</td>\n",
       "      <td>0.000015</td>\n",
       "      <td>0.000015</td>\n",
       "      <td>0.000015</td>\n",
       "      <td>0.000015</td>\n",
       "      <td>0.000015</td>\n",
       "      <td>0.000015</td>\n",
       "      <td>0.000015</td>\n",
       "    </tr>\n",
       "    <tr>\n",
       "      <th>55.050</th>\n",
       "      <td>0.000015</td>\n",
       "      <td>0.000015</td>\n",
       "      <td>0.000015</td>\n",
       "      <td>0.000015</td>\n",
       "      <td>0.000015</td>\n",
       "      <td>0.000015</td>\n",
       "      <td>0.000015</td>\n",
       "      <td>0.000015</td>\n",
       "      <td>0.000015</td>\n",
       "      <td>0.000015</td>\n",
       "      <td>...</td>\n",
       "      <td>0.000015</td>\n",
       "      <td>0.000015</td>\n",
       "      <td>0.000015</td>\n",
       "      <td>0.000015</td>\n",
       "      <td>0.000015</td>\n",
       "      <td>0.000015</td>\n",
       "      <td>0.000015</td>\n",
       "      <td>0.000015</td>\n",
       "      <td>0.000015</td>\n",
       "      <td>0.000015</td>\n",
       "    </tr>\n",
       "  </tbody>\n",
       "</table>\n",
       "<p>3 rows × 31 columns</p>\n",
       "</div>"
      ],
      "text/plain": [
       "Sigma                20.0      20.5      21.0      21.5      22.0      22.5  \\\n",
       "Slope Intercept                                                               \n",
       "-0.5  54.000     0.000015  0.000015  0.000015  0.000015  0.000015  0.000015   \n",
       "      54.525     0.000015  0.000015  0.000015  0.000015  0.000015  0.000015   \n",
       "      55.050     0.000015  0.000015  0.000015  0.000015  0.000015  0.000015   \n",
       "\n",
       "Sigma                23.0      23.5      24.0      24.5  ...      30.5  \\\n",
       "Slope Intercept                                          ...             \n",
       "-0.5  54.000     0.000015  0.000015  0.000015  0.000015  ...  0.000015   \n",
       "      54.525     0.000015  0.000015  0.000015  0.000015  ...  0.000015   \n",
       "      55.050     0.000015  0.000015  0.000015  0.000015  ...  0.000015   \n",
       "\n",
       "Sigma                31.0      31.5      32.0      32.5      33.0      33.5  \\\n",
       "Slope Intercept                                                               \n",
       "-0.5  54.000     0.000015  0.000015  0.000015  0.000015  0.000015  0.000015   \n",
       "      54.525     0.000015  0.000015  0.000015  0.000015  0.000015  0.000015   \n",
       "      55.050     0.000015  0.000015  0.000015  0.000015  0.000015  0.000015   \n",
       "\n",
       "Sigma                34.0      34.5      35.0  \n",
       "Slope Intercept                                \n",
       "-0.5  54.000     0.000015  0.000015  0.000015  \n",
       "      54.525     0.000015  0.000015  0.000015  \n",
       "      55.050     0.000015  0.000015  0.000015  \n",
       "\n",
       "[3 rows x 31 columns]"
      ]
     },
     "execution_count": 47,
     "metadata": {},
     "output_type": "execute_result"
    }
   ],
   "source": [
    "joint3 = prior3.unstack()\n",
    "joint3.head(3)"
   ]
  },
  {
   "cell_type": "markdown",
   "metadata": {},
   "source": [
    "The result is a `DataFrame` with `slope` and `intercept` down the rows and `sigmas` across the columns.\n",
    "\n",
    "The following is a version of `likelihood_regression` that takes the joint prior distribution in this form and returns the posterior distribution in the same form."
   ]
  },
  {
   "cell_type": "code",
   "execution_count": 48,
   "metadata": {},
   "outputs": [],
   "source": [
    "from utils import normalize\n",
    "\n",
    "def update_optimized(prior, data):\n",
    "    \"\"\"Posterior distribution of regression parameters\n",
    "    `slope`, `inter`, and `sigma`.\n",
    "    \n",
    "    prior: Pmf representing the joint prior\n",
    "    data: DataFrame with columns `x` and `y`\n",
    "    \n",
    "    returns: Pmf representing the joint posterior\n",
    "    \"\"\"\n",
    "    xs = data['x']\n",
    "    ys = data['y']\n",
    "    sigmas = prior.columns    \n",
    "    likelihood = prior.copy()\n",
    "\n",
    "    for slope, inter in prior.index:\n",
    "        expected = slope * xs + inter\n",
    "        resid = ys - expected\n",
    "        resid_mesh, sigma_mesh = np.meshgrid(resid, sigmas)\n",
    "        densities = norm.pdf(resid_mesh, 0, sigma_mesh)\n",
    "        likelihood.loc[slope, inter] = densities.prod(axis=1)\n",
    "        \n",
    "    posterior = prior * likelihood\n",
    "    normalize(posterior)\n",
    "    return posterior"
   ]
  },
  {
   "cell_type": "markdown",
   "metadata": {},
   "source": [
    "This version loops through all possible pairs of `slope` and `inter`, so the loop runs about 2000 times."
   ]
  },
  {
   "cell_type": "code",
   "execution_count": 49,
   "metadata": {},
   "outputs": [
    {
     "data": {
      "text/plain": [
       "2091"
      ]
     },
     "execution_count": 49,
     "metadata": {},
     "output_type": "execute_result"
    }
   ],
   "source": [
    "len(prior_slope) * len(prior_inter)"
   ]
  },
  {
   "cell_type": "markdown",
   "metadata": {},
   "source": [
    "Each time through the loop, it uses a grid mesh to compute the likelihood of the data for all values of `sigma`.  The result is an array with one column for each data point and one row for each value of `sigma`.  Taking the product across the columns (`axis=1`) yields the probability of the data for each value of sigma, which we assign as a row in `likelihood`."
   ]
  },
  {
   "cell_type": "code",
   "execution_count": 50,
   "metadata": {},
   "outputs": [
    {
     "name": "stdout",
     "output_type": "stream",
     "text": [
      "CPU times: user 3.13 s, sys: 4.18 ms, total: 3.14 s\n",
      "Wall time: 3.15 s\n"
     ]
    }
   ],
   "source": [
    "%time posterior_opt = update_optimized(joint3, data)"
   ]
  },
  {
   "cell_type": "markdown",
   "metadata": {},
   "source": [
    "We get the same result either way."
   ]
  },
  {
   "cell_type": "code",
   "execution_count": 51,
   "metadata": {},
   "outputs": [
    {
     "data": {
      "text/plain": [
       "True"
      ]
     },
     "execution_count": 51,
     "metadata": {},
     "output_type": "execute_result"
    }
   ],
   "source": [
    "np.allclose(posterior, posterior_opt.stack())"
   ]
  },
  {
   "cell_type": "markdown",
   "metadata": {},
   "source": [
    "But this version is about 25 times faster than the previous version.  \n",
    "\n",
    "This optimization works because many functions in NumPy and SciPy are written in C, so they run fast compared to Python.  If you can do more work each time you call these functions, and less time running the loop in Python, your code will often run substantially faster.\n",
    "\n",
    "In this version of the posterior distribution, `slope` and `inter` run down the rows and `sigma` runs across the columns.  So we can use `marginal` to get the posterior joint distribution of `slope` and `intercept`."
   ]
  },
  {
   "cell_type": "code",
   "execution_count": 52,
   "metadata": {},
   "outputs": [
    {
     "data": {
      "text/plain": [
       "Slope  Intercept\n",
       "-0.5   54.000       6.640002e-08\n",
       "       54.525       8.869737e-08\n",
       "       55.050       1.169244e-07\n",
       "dtype: float64"
      ]
     },
     "execution_count": 52,
     "metadata": {},
     "output_type": "execute_result"
    }
   ],
   "source": [
    "from utils import marginal\n",
    "\n",
    "posterior2 = marginal(posterior_opt, 1)\n",
    "posterior2.head(3)"
   ]
  },
  {
   "cell_type": "markdown",
   "metadata": {},
   "source": [
    "The result is a `Pmf` with two columns in the index.\n",
    "To plot it, we have to unstack it."
   ]
  },
  {
   "cell_type": "code",
   "execution_count": 53,
   "metadata": {},
   "outputs": [
    {
     "data": {
      "text/html": [
       "<div>\n",
       "<style scoped>\n",
       "    .dataframe tbody tr th:only-of-type {\n",
       "        vertical-align: middle;\n",
       "    }\n",
       "\n",
       "    .dataframe tbody tr th {\n",
       "        vertical-align: top;\n",
       "    }\n",
       "\n",
       "    .dataframe thead th {\n",
       "        text-align: right;\n",
       "    }\n",
       "</style>\n",
       "<table border=\"1\" class=\"dataframe\">\n",
       "  <thead>\n",
       "    <tr style=\"text-align: right;\">\n",
       "      <th>Slope</th>\n",
       "      <th>-0.50</th>\n",
       "      <th>-0.46</th>\n",
       "      <th>-0.42</th>\n",
       "      <th>-0.38</th>\n",
       "      <th>-0.34</th>\n",
       "      <th>-0.30</th>\n",
       "      <th>-0.26</th>\n",
       "      <th>-0.22</th>\n",
       "      <th>-0.18</th>\n",
       "      <th>-0.14</th>\n",
       "      <th>...</th>\n",
       "      <th>1.14</th>\n",
       "      <th>1.18</th>\n",
       "      <th>1.22</th>\n",
       "      <th>1.26</th>\n",
       "      <th>1.30</th>\n",
       "      <th>1.34</th>\n",
       "      <th>1.38</th>\n",
       "      <th>1.42</th>\n",
       "      <th>1.46</th>\n",
       "      <th>1.50</th>\n",
       "    </tr>\n",
       "    <tr>\n",
       "      <th>Intercept</th>\n",
       "      <th></th>\n",
       "      <th></th>\n",
       "      <th></th>\n",
       "      <th></th>\n",
       "      <th></th>\n",
       "      <th></th>\n",
       "      <th></th>\n",
       "      <th></th>\n",
       "      <th></th>\n",
       "      <th></th>\n",
       "      <th></th>\n",
       "      <th></th>\n",
       "      <th></th>\n",
       "      <th></th>\n",
       "      <th></th>\n",
       "      <th></th>\n",
       "      <th></th>\n",
       "      <th></th>\n",
       "      <th></th>\n",
       "      <th></th>\n",
       "      <th></th>\n",
       "    </tr>\n",
       "  </thead>\n",
       "  <tbody>\n",
       "    <tr>\n",
       "      <th>54.000</th>\n",
       "      <td>6.640002e-08</td>\n",
       "      <td>1.092361e-07</td>\n",
       "      <td>1.772653e-07</td>\n",
       "      <td>2.836386e-07</td>\n",
       "      <td>4.472961e-07</td>\n",
       "      <td>6.948632e-07</td>\n",
       "      <td>0.000001</td>\n",
       "      <td>0.000002</td>\n",
       "      <td>0.000002</td>\n",
       "      <td>0.000003</td>\n",
       "      <td>...</td>\n",
       "      <td>0.000004</td>\n",
       "      <td>0.000003</td>\n",
       "      <td>0.000002</td>\n",
       "      <td>0.000001</td>\n",
       "      <td>8.960879e-07</td>\n",
       "      <td>5.821444e-07</td>\n",
       "      <td>3.724348e-07</td>\n",
       "      <td>2.347649e-07</td>\n",
       "      <td>1.458767e-07</td>\n",
       "      <td>8.939151e-08</td>\n",
       "    </tr>\n",
       "    <tr>\n",
       "      <th>54.525</th>\n",
       "      <td>8.869737e-08</td>\n",
       "      <td>1.464906e-07</td>\n",
       "      <td>2.386763e-07</td>\n",
       "      <td>3.834648e-07</td>\n",
       "      <td>6.072319e-07</td>\n",
       "      <td>9.472696e-07</td>\n",
       "      <td>0.000001</td>\n",
       "      <td>0.000002</td>\n",
       "      <td>0.000003</td>\n",
       "      <td>0.000005</td>\n",
       "      <td>...</td>\n",
       "      <td>0.000006</td>\n",
       "      <td>0.000004</td>\n",
       "      <td>0.000003</td>\n",
       "      <td>0.000002</td>\n",
       "      <td>1.224634e-06</td>\n",
       "      <td>7.922585e-07</td>\n",
       "      <td>5.047505e-07</td>\n",
       "      <td>3.168613e-07</td>\n",
       "      <td>1.960919e-07</td>\n",
       "      <td>1.196862e-07</td>\n",
       "    </tr>\n",
       "    <tr>\n",
       "      <th>55.050</th>\n",
       "      <td>1.169244e-07</td>\n",
       "      <td>1.938551e-07</td>\n",
       "      <td>3.170948e-07</td>\n",
       "      <td>5.115049e-07</td>\n",
       "      <td>8.132927e-07</td>\n",
       "      <td>1.273939e-06</td>\n",
       "      <td>0.000002</td>\n",
       "      <td>0.000003</td>\n",
       "      <td>0.000004</td>\n",
       "      <td>0.000007</td>\n",
       "      <td>...</td>\n",
       "      <td>0.000008</td>\n",
       "      <td>0.000006</td>\n",
       "      <td>0.000004</td>\n",
       "      <td>0.000003</td>\n",
       "      <td>1.650986e-06</td>\n",
       "      <td>1.063695e-06</td>\n",
       "      <td>6.749148e-07</td>\n",
       "      <td>4.219704e-07</td>\n",
       "      <td>2.600998e-07</td>\n",
       "      <td>1.581347e-07</td>\n",
       "    </tr>\n",
       "  </tbody>\n",
       "</table>\n",
       "<p>3 rows × 51 columns</p>\n",
       "</div>"
      ],
      "text/plain": [
       "Slope             -0.50         -0.46         -0.42         -0.38  \\\n",
       "Intercept                                                           \n",
       "54.000     6.640002e-08  1.092361e-07  1.772653e-07  2.836386e-07   \n",
       "54.525     8.869737e-08  1.464906e-07  2.386763e-07  3.834648e-07   \n",
       "55.050     1.169244e-07  1.938551e-07  3.170948e-07  5.115049e-07   \n",
       "\n",
       "Slope             -0.34         -0.30     -0.26     -0.22     -0.18     -0.14  \\\n",
       "Intercept                                                                       \n",
       "54.000     4.472961e-07  6.948632e-07  0.000001  0.000002  0.000002  0.000003   \n",
       "54.525     6.072319e-07  9.472696e-07  0.000001  0.000002  0.000003  0.000005   \n",
       "55.050     8.132927e-07  1.273939e-06  0.000002  0.000003  0.000004  0.000007   \n",
       "\n",
       "Slope      ...      1.14      1.18      1.22      1.26          1.30  \\\n",
       "Intercept  ...                                                         \n",
       "54.000     ...  0.000004  0.000003  0.000002  0.000001  8.960879e-07   \n",
       "54.525     ...  0.000006  0.000004  0.000003  0.000002  1.224634e-06   \n",
       "55.050     ...  0.000008  0.000006  0.000004  0.000003  1.650986e-06   \n",
       "\n",
       "Slope              1.34          1.38          1.42          1.46  \\\n",
       "Intercept                                                           \n",
       "54.000     5.821444e-07  3.724348e-07  2.347649e-07  1.458767e-07   \n",
       "54.525     7.922585e-07  5.047505e-07  3.168613e-07  1.960919e-07   \n",
       "55.050     1.063695e-06  6.749148e-07  4.219704e-07  2.600998e-07   \n",
       "\n",
       "Slope              1.50  \n",
       "Intercept                \n",
       "54.000     8.939151e-08  \n",
       "54.525     1.196862e-07  \n",
       "55.050     1.581347e-07  \n",
       "\n",
       "[3 rows x 51 columns]"
      ]
     },
     "execution_count": 53,
     "metadata": {},
     "output_type": "execute_result"
    }
   ],
   "source": [
    "joint_posterior = posterior2.unstack().transpose()\n",
    "joint_posterior.head(3)"
   ]
  },
  {
   "cell_type": "markdown",
   "metadata": {},
   "source": [
    "Here's what it looks like."
   ]
  },
  {
   "cell_type": "code",
   "execution_count": 54,
   "metadata": {
    "tags": [
     "hide-input"
    ]
   },
   "outputs": [
    {
     "data": {
      "image/png": "[encoded data removed]",
      "text/plain": [
       "<Figure size 432x288 with 1 Axes>"
      ]
     },
     "metadata": {
      "needs_background": "light"
     },
     "output_type": "display_data"
    }
   ],
   "source": [
    "from utils import plot_contour\n",
    "\n",
    "plot_contour(joint_posterior)\n",
    "decorate(title='Posterior joint distribution of slope and intercept')"
   ]
  },
  {
   "cell_type": "markdown",
   "metadata": {},
   "source": [
    "The ovals in the contour plot are aligned with the axes, which indicates that there is no correlation between `slope` and `inter` in the posterior distribution, which is what we expect since we centered the values.\n",
    "\n",
    "In this example, the motivating question is about the slope of the line, so we answered it by looking at the posterior distribution of slope.\n",
    "\n",
    "In the next example, the motivating question is about prediction, so we'll use the joint posterior distribution to generate predictive distributions."
   ]
  },
  {
   "cell_type": "markdown",
   "metadata": {},
   "source": [
    "## Marathon world record\n",
    "\n",
    "For many running events, if you plot the world record pace over time, the result is a remarkably straight line.  People, [including me](http://allendowney.blogspot.com/2011/04/two-hour-marathon-in-2045.html), have speculated about possible reasons for this phenomenon.\n",
    "\n",
    "People have also speculated about when, if ever, the world record time for the marathon will be less than two hours.\n",
    "(Note: In 2019 Eliud Kipchoge ran the marathon distance in under two hours, which is an astonishing achievement that I fully appreciate, but for several reasons it did not count as a world record).\n",
    "\n",
    "So, as a second example of Bayesian regression, we'll consider the world record progression for the marathon (for male runners), estimate the parameters of a linear model, and use the model to predict when a runner will break the two-hour barrier.  \n",
    "\n",
    "The following cell downloads a web page from Wikipedia that includes a table of marathon world records, and uses Pandas to put the data in a `DataFrame`."
   ]
  },
  {
   "cell_type": "code",
   "execution_count": 55,
   "metadata": {},
   "outputs": [
    {
     "data": {
      "text/plain": [
       "5"
      ]
     },
     "execution_count": 55,
     "metadata": {},
     "output_type": "execute_result"
    }
   ],
   "source": [
    "url = 'https://en.wikipedia.org/wiki/Marathon_world_record_progression#Men'\n",
    "tables = pd.read_html(url)\n",
    "len(tables)"
   ]
  },
  {
   "cell_type": "markdown",
   "metadata": {
    "tags": [
     "hide-cell"
    ]
   },
   "source": [
    "If that doesn't work, I have made a copy of this page available.  The following cell downloads and parses it."
   ]
  },
  {
   "cell_type": "code",
   "execution_count": 56,
   "metadata": {
    "tags": [
     "hide-cell"
    ]
   },
   "outputs": [],
   "source": [
    "#import os\n",
    "\n",
    "#datafile = 'Marathon_world_record_progression.html'\n",
    "#if not os.path.exists(datafile):\n",
    "#    !wget https://github.com/AllenDowney/ThinkBayes2/raw/master/data/Marathon_world_record_progression.html\n",
    "\n",
    "#tables = pd.read_html(datafile)\n",
    "#len(tables)"
   ]
  },
  {
   "cell_type": "markdown",
   "metadata": {},
   "source": [
    "The first table is the one we want."
   ]
  },
  {
   "cell_type": "code",
   "execution_count": 57,
   "metadata": {},
   "outputs": [
    {
     "data": {
      "text/html": [
       "<div>\n",
       "<style scoped>\n",
       "    .dataframe tbody tr th:only-of-type {\n",
       "        vertical-align: middle;\n",
       "    }\n",
       "\n",
       "    .dataframe tbody tr th {\n",
       "        vertical-align: top;\n",
       "    }\n",
       "\n",
       "    .dataframe thead th {\n",
       "        text-align: right;\n",
       "    }\n",
       "</style>\n",
       "<table border=\"1\" class=\"dataframe\">\n",
       "  <thead>\n",
       "    <tr style=\"text-align: right;\">\n",
       "      <th></th>\n",
       "      <th>Time</th>\n",
       "      <th>Name</th>\n",
       "      <th>Nationality</th>\n",
       "      <th>Date</th>\n",
       "      <th>Event/Place</th>\n",
       "      <th>Source</th>\n",
       "      <th>Notes</th>\n",
       "    </tr>\n",
       "  </thead>\n",
       "  <tbody>\n",
       "    <tr>\n",
       "      <th>0</th>\n",
       "      <td>2:55:18.4</td>\n",
       "      <td>Johnny Hayes</td>\n",
       "      <td>United States</td>\n",
       "      <td>July 24, 1908</td>\n",
       "      <td>London, United Kingdom</td>\n",
       "      <td>IAAF[53]</td>\n",
       "      <td>Time was officially recorded as 2:55:18 2/5.[5...</td>\n",
       "    </tr>\n",
       "    <tr>\n",
       "      <th>1</th>\n",
       "      <td>2:52:45.4</td>\n",
       "      <td>Robert Fowler</td>\n",
       "      <td>United States</td>\n",
       "      <td>January 1, 1909</td>\n",
       "      <td>Yonkers,[nb 5] United States</td>\n",
       "      <td>IAAF[53]</td>\n",
       "      <td>Note.[56]</td>\n",
       "    </tr>\n",
       "    <tr>\n",
       "      <th>2</th>\n",
       "      <td>2:46:52.8</td>\n",
       "      <td>James Clark</td>\n",
       "      <td>United States</td>\n",
       "      <td>February 12, 1909</td>\n",
       "      <td>New York City, United States</td>\n",
       "      <td>IAAF[53]</td>\n",
       "      <td>Note.[56]</td>\n",
       "    </tr>\n",
       "  </tbody>\n",
       "</table>\n",
       "</div>"
      ],
      "text/plain": [
       "        Time           Name    Nationality               Date  \\\n",
       "0  2:55:18.4   Johnny Hayes  United States      July 24, 1908   \n",
       "1  2:52:45.4  Robert Fowler  United States    January 1, 1909   \n",
       "2  2:46:52.8    James Clark  United States  February 12, 1909   \n",
       "\n",
       "                    Event/Place    Source  \\\n",
       "0        London, United Kingdom  IAAF[53]   \n",
       "1  Yonkers,[nb 5] United States  IAAF[53]   \n",
       "2  New York City, United States  IAAF[53]   \n",
       "\n",
       "                                               Notes  \n",
       "0  Time was officially recorded as 2:55:18 2/5.[5...  \n",
       "1                                          Note.[56]  \n",
       "2                                          Note.[56]  "
      ]
     },
     "execution_count": 57,
     "metadata": {},
     "output_type": "execute_result"
    }
   ],
   "source": [
    "table = tables[0]\n",
    "table.head(3)"
   ]
  },
  {
   "cell_type": "markdown",
   "metadata": {},
   "source": [
    "We can use Pandas to parse the dates.\n",
    "A few of them include notes that cause parsing problems, but the argument `errors='coerce'` tells Pandas to fill invalid dates with `NaT`, which is a version of `NaN` that represents \"not a time\". "
   ]
  },
  {
   "cell_type": "code",
   "execution_count": 58,
   "metadata": {},
   "outputs": [
    {
     "data": {
      "text/plain": [
       "0   1908-07-24\n",
       "1   1909-01-01\n",
       "2   1909-02-12\n",
       "3   1909-05-08\n",
       "4          NaT\n",
       "Name: date, dtype: datetime64[ns]"
      ]
     },
     "execution_count": 58,
     "metadata": {},
     "output_type": "execute_result"
    }
   ],
   "source": [
    "table['date'] = pd.to_datetime(table['Date'], errors='coerce')\n",
    "table['date'].head()"
   ]
  },
  {
   "cell_type": "markdown",
   "metadata": {},
   "source": [
    "We can also use Pandas to parse the record times."
   ]
  },
  {
   "cell_type": "code",
   "execution_count": 59,
   "metadata": {},
   "outputs": [],
   "source": [
    "table['time'] = pd.to_timedelta(table['Time'])"
   ]
  },
  {
   "cell_type": "markdown",
   "metadata": {},
   "source": [
    "And convert the times to paces in miles per hour."
   ]
  },
  {
   "cell_type": "code",
   "execution_count": 60,
   "metadata": {},
   "outputs": [
    {
     "data": {
      "text/plain": [
       "0    8.967143\n",
       "1    9.099504\n",
       "2    9.419942\n",
       "3    9.465508\n",
       "4    9.672854\n",
       "Name: y, dtype: float64"
      ]
     },
     "execution_count": 60,
     "metadata": {},
     "output_type": "execute_result"
    }
   ],
   "source": [
    "table['y'] = 26.2 / table['time'].dt.total_seconds() * 3600\n",
    "table['y'].head()"
   ]
  },
  {
   "cell_type": "markdown",
   "metadata": {
    "tags": [
     "hide-input"
    ]
   },
   "source": [
    "The following function plots the results."
   ]
  },
  {
   "cell_type": "code",
   "execution_count": 61,
   "metadata": {
    "tags": [
     "hide-input"
    ]
   },
   "outputs": [],
   "source": [
    "def plot_speeds(df):\n",
    "    \"\"\"Plot marathon world record speed as a function of time.\n",
    "    \n",
    "    df: DataFrame with date and mph\n",
    "    \"\"\"\n",
    "    plt.axhline(13.1, color='C5', linestyle='dashed')\n",
    "    plt.plot(df['date'], df['y'], 'o', \n",
    "             label='World record speed', \n",
    "             color='C1', alpha=0.5)\n",
    "    \n",
    "    decorate(xlabel='Date',\n",
    "             ylabel='Speed (mph)')"
   ]
  },
  {
   "cell_type": "markdown",
   "metadata": {},
   "source": [
    "Here's what the results look like.\n",
    "The dashed line shows the speed required for a two-hour marathon, 13.1 miles per hour."
   ]
  },
  {
   "cell_type": "code",
   "execution_count": 62,
   "metadata": {
    "tags": [
     "hide-input"
    ]
   },
   "outputs": [
    {
     "data": {
      "image/png": "[encoded data removed]",
      "text/plain": [
       "<Figure size 432x288 with 1 Axes>"
      ]
     },
     "metadata": {
      "needs_background": "light"
     },
     "output_type": "display_data"
    }
   ],
   "source": [
    "plot_speeds(table)"
   ]
  },
  {
   "cell_type": "markdown",
   "metadata": {},
   "source": [
    "It's not a perfectly straight line.  In the early years of the marathon, the record speed increased quickly; since about 1970, it has been increasing more slowly.\n",
    "\n",
    "For our analysis, let's focus on the recent progression, starting in 1970."
   ]
  },
  {
   "cell_type": "code",
   "execution_count": 63,
   "metadata": {},
   "outputs": [],
   "source": [
    "recent = table['date'] > pd.to_datetime('1970')"
   ]
  },
  {
   "cell_type": "markdown",
   "metadata": {},
   "source": [
    "Here's what it looks like."
   ]
  },
  {
   "cell_type": "code",
   "execution_count": 64,
   "metadata": {},
   "outputs": [
    {
     "data": {
      "image/png": "[encoded data removed]",
      "text/plain": [
       "<Figure size 432x288 with 1 Axes>"
      ]
     },
     "metadata": {
      "needs_background": "light"
     },
     "output_type": "display_data"
    }
   ],
   "source": [
    "data = table.loc[recent].copy()\n",
    "plot_speeds(data)"
   ]
  },
  {
   "cell_type": "markdown",
   "metadata": {},
   "source": [
    "That seems like a straighter line, although it's possible that the slope is increasing.\n",
    "\n",
    "To prepare the data for regression, I'll subtract away the approximate midpoint of the time interval, 1995."
   ]
  },
  {
   "cell_type": "code",
   "execution_count": 65,
   "metadata": {},
   "outputs": [
    {
     "data": {
      "text/plain": [
       "pandas._libs.tslibs.timestamps.Timestamp"
      ]
     },
     "execution_count": 65,
     "metadata": {},
     "output_type": "execute_result"
    }
   ],
   "source": [
    "offset = pd.to_datetime('1995')\n",
    "type(offset)"
   ]
  },
  {
   "cell_type": "code",
   "execution_count": 66,
   "metadata": {},
   "outputs": [],
   "source": [
    "timedelta = table['date'] - offset"
   ]
  },
  {
   "cell_type": "markdown",
   "metadata": {},
   "source": [
    "When we subtract two `Timestamp` objects, the result is a \"time delta\", which we can convert to seconds and then to years."
   ]
  },
  {
   "cell_type": "code",
   "execution_count": 67,
   "metadata": {},
   "outputs": [
    {
     "data": {
      "text/plain": [
       "count    18.000000\n",
       "mean      0.740913\n",
       "std      15.417918\n",
       "min     -24.444201\n",
       "25%     -12.352152\n",
       "50%       4.264319\n",
       "75%      13.492498\n",
       "max      23.707699\n",
       "Name: x, dtype: float64"
      ]
     },
     "execution_count": 67,
     "metadata": {},
     "output_type": "execute_result"
    }
   ],
   "source": [
    "data['x'] = timedelta.dt.total_seconds() / 3600 / 24 / 365.24\n",
    "data['x'].describe()"
   ]
  },
  {
   "cell_type": "markdown",
   "metadata": {},
   "source": [
    "As in the previous example, I'll use least squares regression to compute point estimates for the parameters, which will help with choosing priors."
   ]
  },
  {
   "cell_type": "code",
   "execution_count": 68,
   "metadata": {},
   "outputs": [
    {
     "data": {
      "text/plain": [
       "Intercept    12.460507\n",
       "x             0.015464\n",
       "dtype: float64"
      ]
     },
     "execution_count": 68,
     "metadata": {},
     "output_type": "execute_result"
    }
   ],
   "source": [
    "import statsmodels.formula.api as smf\n",
    "\n",
    "formula = 'y ~ x'\n",
    "results = smf.ols(formula, data=data).fit()\n",
    "results.params"
   ]
  },
  {
   "cell_type": "markdown",
   "metadata": {},
   "source": [
    "The estimated intercept is about 12.5 mph, which is the expected world record pace in 1995.  The estimated slope is about 0.015 mph per year, which is rate the world record pace is increasing, according to the model.\n",
    "\n",
    "Again, we can use the standard deviation of the residuals as a point estimate for `sigma`."
   ]
  },
  {
   "cell_type": "code",
   "execution_count": 69,
   "metadata": {},
   "outputs": [
    {
     "data": {
      "text/plain": [
       "0.04139961220193233"
      ]
     },
     "execution_count": 69,
     "metadata": {},
     "output_type": "execute_result"
    }
   ],
   "source": [
    "results.resid.std()"
   ]
  },
  {
   "cell_type": "markdown",
   "metadata": {},
   "source": [
    "These parameters give us a good idea where we should put the prior distributions."
   ]
  },
  {
   "cell_type": "markdown",
   "metadata": {},
   "source": [
    "## The priors\n",
    "\n",
    "Here are the prior distributions I chose for `slope`, `intercept`, and `sigma`."
   ]
  },
  {
   "cell_type": "code",
   "execution_count": 70,
   "metadata": {},
   "outputs": [],
   "source": [
    "qs = np.linspace(0.012, 0.018, 51)\n",
    "prior_slope = make_uniform(qs, 'Slope')"
   ]
  },
  {
   "cell_type": "code",
   "execution_count": 71,
   "metadata": {},
   "outputs": [],
   "source": [
    "qs = np.linspace(12.4, 12.5, 41)\n",
    "prior_inter = make_uniform(qs, 'Intercept')"
   ]
  },
  {
   "cell_type": "code",
   "execution_count": 72,
   "metadata": {},
   "outputs": [],
   "source": [
    "qs = np.linspace(0.01, 0.21, 31)\n",
    "prior_sigma = make_uniform(qs, 'Sigma')"
   ]
  },
  {
   "cell_type": "markdown",
   "metadata": {},
   "source": [
    "And here's the joint prior distribution."
   ]
  },
  {
   "cell_type": "code",
   "execution_count": 73,
   "metadata": {},
   "outputs": [
    {
     "data": {
      "text/plain": [
       "Slope  Intercept  Sigma   \n",
       "0.012  12.4       0.010000    0.000015\n",
       "                  0.016667    0.000015\n",
       "                  0.023333    0.000015\n",
       "                  0.030000    0.000015\n",
       "                  0.036667    0.000015\n",
       "dtype: float64"
      ]
     },
     "execution_count": 73,
     "metadata": {},
     "output_type": "execute_result"
    }
   ],
   "source": [
    "joint3 = make_joint3(prior_slope, prior_inter, prior_sigma)\n",
    "joint3.head()"
   ]
  },
  {
   "cell_type": "markdown",
   "metadata": {},
   "source": [
    "As in the previous example, I'll unstack the joint prior so the values of `sigma` run across the columns."
   ]
  },
  {
   "cell_type": "code",
   "execution_count": 74,
   "metadata": {},
   "outputs": [
    {
     "data": {
      "text/html": [
       "<div>\n",
       "<style scoped>\n",
       "    .dataframe tbody tr th:only-of-type {\n",
       "        vertical-align: middle;\n",
       "    }\n",
       "\n",
       "    .dataframe tbody tr th {\n",
       "        vertical-align: top;\n",
       "    }\n",
       "\n",
       "    .dataframe thead th {\n",
       "        text-align: right;\n",
       "    }\n",
       "</style>\n",
       "<table border=\"1\" class=\"dataframe\">\n",
       "  <thead>\n",
       "    <tr style=\"text-align: right;\">\n",
       "      <th></th>\n",
       "      <th>Sigma</th>\n",
       "      <th>0.010000</th>\n",
       "      <th>0.016667</th>\n",
       "      <th>0.023333</th>\n",
       "      <th>0.030000</th>\n",
       "      <th>0.036667</th>\n",
       "      <th>0.043333</th>\n",
       "      <th>0.050000</th>\n",
       "      <th>0.056667</th>\n",
       "      <th>0.063333</th>\n",
       "      <th>0.070000</th>\n",
       "      <th>...</th>\n",
       "      <th>0.150000</th>\n",
       "      <th>0.156667</th>\n",
       "      <th>0.163333</th>\n",
       "      <th>0.170000</th>\n",
       "      <th>0.176667</th>\n",
       "      <th>0.183333</th>\n",
       "      <th>0.190000</th>\n",
       "      <th>0.196667</th>\n",
       "      <th>0.203333</th>\n",
       "      <th>0.210000</th>\n",
       "    </tr>\n",
       "    <tr>\n",
       "      <th>Slope</th>\n",
       "      <th>Intercept</th>\n",
       "      <th></th>\n",
       "      <th></th>\n",
       "      <th></th>\n",
       "      <th></th>\n",
       "      <th></th>\n",
       "      <th></th>\n",
       "      <th></th>\n",
       "      <th></th>\n",
       "      <th></th>\n",
       "      <th></th>\n",
       "      <th></th>\n",
       "      <th></th>\n",
       "      <th></th>\n",
       "      <th></th>\n",
       "      <th></th>\n",
       "      <th></th>\n",
       "      <th></th>\n",
       "      <th></th>\n",
       "      <th></th>\n",
       "      <th></th>\n",
       "      <th></th>\n",
       "    </tr>\n",
       "  </thead>\n",
       "  <tbody>\n",
       "    <tr>\n",
       "      <th rowspan=\"3\" valign=\"top\">0.012</th>\n",
       "      <th>12.4000</th>\n",
       "      <td>0.000015</td>\n",
       "      <td>0.000015</td>\n",
       "      <td>0.000015</td>\n",
       "      <td>0.000015</td>\n",
       "      <td>0.000015</td>\n",
       "      <td>0.000015</td>\n",
       "      <td>0.000015</td>\n",
       "      <td>0.000015</td>\n",
       "      <td>0.000015</td>\n",
       "      <td>0.000015</td>\n",
       "      <td>...</td>\n",
       "      <td>0.000015</td>\n",
       "      <td>0.000015</td>\n",
       "      <td>0.000015</td>\n",
       "      <td>0.000015</td>\n",
       "      <td>0.000015</td>\n",
       "      <td>0.000015</td>\n",
       "      <td>0.000015</td>\n",
       "      <td>0.000015</td>\n",
       "      <td>0.000015</td>\n",
       "      <td>0.000015</td>\n",
       "    </tr>\n",
       "    <tr>\n",
       "      <th>12.4025</th>\n",
       "      <td>0.000015</td>\n",
       "      <td>0.000015</td>\n",
       "      <td>0.000015</td>\n",
       "      <td>0.000015</td>\n",
       "      <td>0.000015</td>\n",
       "      <td>0.000015</td>\n",
       "      <td>0.000015</td>\n",
       "      <td>0.000015</td>\n",
       "      <td>0.000015</td>\n",
       "      <td>0.000015</td>\n",
       "      <td>...</td>\n",
       "      <td>0.000015</td>\n",
       "      <td>0.000015</td>\n",
       "      <td>0.000015</td>\n",
       "      <td>0.000015</td>\n",
       "      <td>0.000015</td>\n",
       "      <td>0.000015</td>\n",
       "      <td>0.000015</td>\n",
       "      <td>0.000015</td>\n",
       "      <td>0.000015</td>\n",
       "      <td>0.000015</td>\n",
       "    </tr>\n",
       "    <tr>\n",
       "      <th>12.4050</th>\n",
       "      <td>0.000015</td>\n",
       "      <td>0.000015</td>\n",
       "      <td>0.000015</td>\n",
       "      <td>0.000015</td>\n",
       "      <td>0.000015</td>\n",
       "      <td>0.000015</td>\n",
       "      <td>0.000015</td>\n",
       "      <td>0.000015</td>\n",
       "      <td>0.000015</td>\n",
       "      <td>0.000015</td>\n",
       "      <td>...</td>\n",
       "      <td>0.000015</td>\n",
       "      <td>0.000015</td>\n",
       "      <td>0.000015</td>\n",
       "      <td>0.000015</td>\n",
       "      <td>0.000015</td>\n",
       "      <td>0.000015</td>\n",
       "      <td>0.000015</td>\n",
       "      <td>0.000015</td>\n",
       "      <td>0.000015</td>\n",
       "      <td>0.000015</td>\n",
       "    </tr>\n",
       "  </tbody>\n",
       "</table>\n",
       "<p>3 rows × 31 columns</p>\n",
       "</div>"
      ],
      "text/plain": [
       "Sigma            0.010000  0.016667  0.023333  0.030000  0.036667  0.043333  \\\n",
       "Slope Intercept                                                               \n",
       "0.012 12.4000    0.000015  0.000015  0.000015  0.000015  0.000015  0.000015   \n",
       "      12.4025    0.000015  0.000015  0.000015  0.000015  0.000015  0.000015   \n",
       "      12.4050    0.000015  0.000015  0.000015  0.000015  0.000015  0.000015   \n",
       "\n",
       "Sigma            0.050000  0.056667  0.063333  0.070000  ...  0.150000  \\\n",
       "Slope Intercept                                          ...             \n",
       "0.012 12.4000    0.000015  0.000015  0.000015  0.000015  ...  0.000015   \n",
       "      12.4025    0.000015  0.000015  0.000015  0.000015  ...  0.000015   \n",
       "      12.4050    0.000015  0.000015  0.000015  0.000015  ...  0.000015   \n",
       "\n",
       "Sigma            0.156667  0.163333  0.170000  0.176667  0.183333  0.190000  \\\n",
       "Slope Intercept                                                               \n",
       "0.012 12.4000    0.000015  0.000015  0.000015  0.000015  0.000015  0.000015   \n",
       "      12.4025    0.000015  0.000015  0.000015  0.000015  0.000015  0.000015   \n",
       "      12.4050    0.000015  0.000015  0.000015  0.000015  0.000015  0.000015   \n",
       "\n",
       "Sigma            0.196667  0.203333  0.210000  \n",
       "Slope Intercept                                \n",
       "0.012 12.4000    0.000015  0.000015  0.000015  \n",
       "      12.4025    0.000015  0.000015  0.000015  \n",
       "      12.4050    0.000015  0.000015  0.000015  \n",
       "\n",
       "[3 rows x 31 columns]"
      ]
     },
     "execution_count": 74,
     "metadata": {},
     "output_type": "execute_result"
    }
   ],
   "source": [
    "prior = joint3.unstack()\n",
    "prior.head(3)"
   ]
  },
  {
   "cell_type": "markdown",
   "metadata": {},
   "source": [
    "Representing the prior distribution in this way makes it possible to use the optimized version of the update function."
   ]
  },
  {
   "cell_type": "code",
   "execution_count": 75,
   "metadata": {},
   "outputs": [],
   "source": [
    "posterior = update_optimized(prior, data)"
   ]
  },
  {
   "cell_type": "markdown",
   "metadata": {},
   "source": [
    "The posterior distribution is unstacked, so we can use `marginal` to extract the posterior distribution of `sigma`."
   ]
  },
  {
   "cell_type": "code",
   "execution_count": 76,
   "metadata": {},
   "outputs": [
    {
     "data": {
      "image/png": "[encoded data removed]",
      "text/plain": [
       "<Figure size 432x288 with 1 Axes>"
      ]
     },
     "metadata": {
      "needs_background": "light"
     },
     "output_type": "display_data"
    }
   ],
   "source": [
    "from utils import marginal\n",
    "\n",
    "posterior_sigma = marginal(posterior, 0)\n",
    "posterior_sigma.plot()"
   ]
  },
  {
   "cell_type": "markdown",
   "metadata": {},
   "source": [
    "We don't really care what `sigma` is, but we should look at the posterior distribution to make sure the posterior probabilities are near 0 at both extremes.\n",
    "\n",
    "We can extract the joint distribution of `slope` and `inter` like this."
   ]
  },
  {
   "cell_type": "code",
   "execution_count": 77,
   "metadata": {},
   "outputs": [
    {
     "data": {
      "text/plain": [
       "(2091,)"
      ]
     },
     "execution_count": 77,
     "metadata": {},
     "output_type": "execute_result"
    }
   ],
   "source": [
    "posterior_pmf = marginal(posterior, 1)\n",
    "posterior_pmf.shape"
   ]
  },
  {
   "cell_type": "code",
   "execution_count": 78,
   "metadata": {},
   "outputs": [
    {
     "data": {
      "text/plain": [
       "(41, 51)"
      ]
     },
     "execution_count": 78,
     "metadata": {},
     "output_type": "execute_result"
    }
   ],
   "source": [
    "posterior_joint = posterior_pmf.unstack().transpose()\n",
    "posterior_joint.shape"
   ]
  },
  {
   "cell_type": "markdown",
   "metadata": {},
   "source": [
    "I transposed the result to put `slope` on the `x` axis.  Here's a contour plot of the joint posterior distribution."
   ]
  },
  {
   "cell_type": "code",
   "execution_count": 79,
   "metadata": {
    "tags": [
     "hide-input"
    ]
   },
   "outputs": [
    {
     "data": {
      "image/png": "[encoded data removed]",
      "text/plain": [
       "<Figure size 432x288 with 1 Axes>"
      ]
     },
     "metadata": {
      "needs_background": "light"
     },
     "output_type": "display_data"
    }
   ],
   "source": [
    "plot_contour(posterior_joint)\n",
    "decorate(title='Posterior joint distribution of slope and inter')"
   ]
  },
  {
   "cell_type": "markdown",
   "metadata": {},
   "source": [
    "The ovals in the contour plot are aligned with the axes, indicating no correlation between the parameters.\n",
    "\n",
    "Here's the posterior distribution of `inter`:"
   ]
  },
  {
   "cell_type": "code",
   "execution_count": 80,
   "metadata": {},
   "outputs": [],
   "source": [
    "posterior_inter = marginal(posterior_joint, 1)"
   ]
  },
  {
   "cell_type": "code",
   "execution_count": 81,
   "metadata": {},
   "outputs": [
    {
     "data": {
      "image/png": "[encoded data removed]",
      "text/plain": [
       "<Figure size 432x288 with 1 Axes>"
      ]
     },
     "metadata": {
      "needs_background": "light"
     },
     "output_type": "display_data"
    }
   ],
   "source": [
    "posterior_inter.plot(color='C1')\n",
    "decorate(xlabel='intercept',\n",
    "         ylabel='PDF',\n",
    "         title='Posterior marginal distribution of intercept')"
   ]
  },
  {
   "cell_type": "markdown",
   "metadata": {},
   "source": [
    "The posterior mean is about 12.5 mph, which is the world record marathon pace the model predicts for the midpoint of the date range, 1995."
   ]
  },
  {
   "cell_type": "code",
   "execution_count": 82,
   "metadata": {},
   "outputs": [
    {
     "name": "stdout",
     "output_type": "stream",
     "text": [
      "12.46 [12.4425 12.4775]\n"
     ]
    }
   ],
   "source": [
    "summarize(posterior_inter)"
   ]
  },
  {
   "cell_type": "markdown",
   "metadata": {},
   "source": [
    "And here's the posterior distribution of `slope`."
   ]
  },
  {
   "cell_type": "code",
   "execution_count": 83,
   "metadata": {},
   "outputs": [],
   "source": [
    "posterior_slope = marginal(posterior_joint, 0)"
   ]
  },
  {
   "cell_type": "code",
   "execution_count": 84,
   "metadata": {
    "tags": [
     "hide-input"
    ]
   },
   "outputs": [
    {
     "data": {
      "image/png": "[encoded data removed]",
      "text/plain": [
       "<Figure size 432x288 with 1 Axes>"
      ]
     },
     "metadata": {
      "needs_background": "light"
     },
     "output_type": "display_data"
    }
   ],
   "source": [
    "posterior_slope.plot(color='C4')\n",
    "decorate(xlabel='Slope',\n",
    "         ylabel='PDF',\n",
    "         title='Posterior marginal distribution of slope')"
   ]
  },
  {
   "cell_type": "markdown",
   "metadata": {},
   "source": [
    "The posterior mean is about 0.015 mph per year, or 0.15 mph per decade."
   ]
  },
  {
   "cell_type": "code",
   "execution_count": 85,
   "metadata": {},
   "outputs": [
    {
     "name": "stdout",
     "output_type": "stream",
     "text": [
      "0.015 [0.01428 0.01668]\n"
     ]
    }
   ],
   "source": [
    "summarize(posterior_slope)"
   ]
  },
  {
   "cell_type": "markdown",
   "metadata": {},
   "source": [
    "That's interesting, but it doesn't answer the question we're interested in: when will there be a two-hour marathon.  To answer that, we have to make predictions."
   ]
  },
  {
   "cell_type": "markdown",
   "metadata": {},
   "source": [
    "## Prediction\n",
    "\n",
    "To generate predictions, I'll draw a sample from the posterior distribution of parameters, then use the regression equation to combine the parameters with the data.\n",
    "\n",
    "The easiest way to sample from the posterior is to stack it and convert to a `Pmf` with a three-column index."
   ]
  },
  {
   "cell_type": "code",
   "execution_count": 86,
   "metadata": {},
   "outputs": [
    {
     "data": {
      "text/plain": [
       "Slope  Intercept  Sigma   \n",
       "0.012  12.4       0.010000    1.262529e-312\n",
       "                  0.016667    3.343049e-109\n",
       "                  0.023333     1.094238e-54\n",
       "                  0.030000     3.900183e-33\n",
       "                  0.036667     8.441749e-23\n",
       "dtype: float64"
      ]
     },
     "execution_count": 86,
     "metadata": {},
     "output_type": "execute_result"
    }
   ],
   "source": [
    "posterior_pmf = Pmf(posterior.stack())\n",
    "posterior_pmf.head()"
   ]
  },
  {
   "cell_type": "markdown",
   "metadata": {},
   "source": [
    "`Pmf` provides `sample`, which we can use to draw a random sample with replacement, using the posterior probabilities as weights."
   ]
  },
  {
   "cell_type": "code",
   "execution_count": 87,
   "metadata": {
    "tags": [
     "remove-cell"
    ]
   },
   "outputs": [],
   "source": [
    "np.random.seed(17)"
   ]
  },
  {
   "cell_type": "code",
   "execution_count": 88,
   "metadata": {},
   "outputs": [
    {
     "data": {
      "text/plain": [
       "(101,)"
      ]
     },
     "execution_count": 88,
     "metadata": {},
     "output_type": "execute_result"
    }
   ],
   "source": [
    "sample = posterior_pmf.sample(101)\n",
    "sample.shape"
   ]
  },
  {
   "cell_type": "markdown",
   "metadata": {},
   "source": [
    "The result is an array of tuples.  Looping through the sample, we can use the regression equation to generate predictions for a range of `xs`."
   ]
  },
  {
   "cell_type": "code",
   "execution_count": 89,
   "metadata": {},
   "outputs": [
    {
     "data": {
      "text/plain": [
       "(101, 38)"
      ]
     },
     "execution_count": 89,
     "metadata": {},
     "output_type": "execute_result"
    }
   ],
   "source": [
    "xs = np.arange(-25, 50, 2)\n",
    "pred = np.empty((len(sample), len(xs)))\n",
    "\n",
    "for i, (slope, inter, sigma) in enumerate(sample):\n",
    "    epsilon = norm(0, sigma).rvs(len(xs))\n",
    "    pred[i] = inter + slope * xs + epsilon\n",
    "    \n",
    "pred.shape"
   ]
  },
  {
   "cell_type": "markdown",
   "metadata": {},
   "source": [
    "Each prediction is an array with the same length as `xs`, which I store as a row in `pred`.  So the result has one row for each sample and one column for each value of `x`.\n",
    "\n",
    "We can use `percentile` to compute the 5th, 50th, and 95th percentiles in each column."
   ]
  },
  {
   "cell_type": "code",
   "execution_count": 90,
   "metadata": {},
   "outputs": [
    {
     "data": {
      "text/plain": [
       "(38,)"
      ]
     },
     "execution_count": 90,
     "metadata": {},
     "output_type": "execute_result"
    }
   ],
   "source": [
    "low, median, high = np.percentile(pred, [5, 50, 95], axis=0)\n",
    "median.shape"
   ]
  },
  {
   "cell_type": "markdown",
   "metadata": {},
   "source": [
    "To show the results, I'll plot the median of the predictions as a line and the 90% credible interval as a shaded area."
   ]
  },
  {
   "cell_type": "code",
   "execution_count": 91,
   "metadata": {
    "tags": [
     "hide-input"
    ]
   },
   "outputs": [
    {
     "data": {
      "image/png": "[encoded data removed]",
      "text/plain": [
       "<Figure size 432x288 with 1 Axes>"
      ]
     },
     "metadata": {
      "needs_background": "light"
     },
     "output_type": "display_data"
    }
   ],
   "source": [
    "times = pd.to_timedelta(xs*365.24, unit='days') + offset\n",
    "\n",
    "plt.fill_between(times, low, high, \n",
    "                 color='C2', alpha=0.1)\n",
    "plt.plot(times, median, color='C2')\n",
    "\n",
    "plot_speeds(data)"
   ]
  },
  {
   "cell_type": "markdown",
   "metadata": {},
   "source": [
    "The dashed line show the two-hour marathon pace, which is 13.1 miles per hour.\n",
    "Visually we can estimate that the prediction line hits the target pace between 2030 and 2040.\n",
    "\n",
    "To make this more precise, we can use interpolation to see when the predictions cross the finish line.  SciPy provides `interp1d`, which does linear interpolation by default."
   ]
  },
  {
   "cell_type": "code",
   "execution_count": 92,
   "metadata": {},
   "outputs": [
    {
     "data": {
      "text/plain": [
       "DatetimeIndex(['2030-11-12 17:56:10.436409600',\n",
       "               '2035-09-18 04:43:12.873532800',\n",
       "                  '2042-01-01 20:23:40.839504'],\n",
       "              dtype='datetime64[ns]', freq=None)"
      ]
     },
     "execution_count": 92,
     "metadata": {},
     "output_type": "execute_result"
    }
   ],
   "source": [
    "from scipy.interpolate import interp1d\n",
    "\n",
    "future = np.array([interp1d(high, xs)(13.1),\n",
    "                   interp1d(median, xs)(13.1),\n",
    "                   interp1d(low, xs)(13.1)])\n",
    "\n",
    "pd.to_timedelta(future*365.24, unit='day') + offset"
   ]
  },
  {
   "cell_type": "markdown",
   "metadata": {},
   "source": [
    "The median prediction is 2035, with 90% credible interval from 2030 to 2042.  So there is about a 5% chance we'll see a two-hour marathon before 2030."
   ]
  },
  {
   "cell_type": "markdown",
   "metadata": {},
   "source": [
    "## Summary\n",
    "\n",
    "This chapter introduces Bayesian regression, which is based on the same model as least squares regression; the difference is that it produces a posterior distribution for the parameters rather than point estimates.\n",
    "\n",
    "In the first example, we looked at changes in snowfall in Norfolk County, Massachusetts, and concluded that we get more snowfall now than when I was young, contrary to my expectation.\n",
    "\n",
    "We computed the likelihoods two ways: the first is conceptually simple but slow; the second is optimized to use NumPy more efficiently.\n",
    "\n",
    "In the second example, we looked at the progression of world record pace for the men's marathon, computed the joint posterior distribution of the regression parameters, and used it to generate predictions for the next 20 years.\n",
    "\n",
    "These examples have three parameters, so it takes a little longer to compute the likelihood of the data.\n",
    "With more than three parameters, it becomes impractical to use grid algorithms.  \n",
    "\n",
    "In the next few chapters, we'll explore other algorithms that reduce the amount of computation we need to do a Bayesian update, which makes it possible to use models with more parameters.\n",
    "\n",
    "But first, you might want to work on these exercises."
   ]
  },
  {
   "cell_type": "markdown",
   "metadata": {},
   "source": [
    "## Exercises\n"
   ]
  },
  {
   "cell_type": "markdown",
   "metadata": {},
   "source": [
    "**Exercise:** I am under the impression that it is warmer around here than it used to be.  In this exercise, you can put my conjecture to the test.\n",
    "\n",
    "We'll use the same dataset we used to model snowfall; it also includes daily low and high temperatures in Norfolk County, Massachusetts during my lifetime.\n",
    "\n",
    "Here's the data."
   ]
  },
  {
   "cell_type": "code",
   "execution_count": 93,
   "metadata": {},
   "outputs": [
    {
     "data": {
      "text/html": [
       "<div>\n",
       "<style scoped>\n",
       "    .dataframe tbody tr th:only-of-type {\n",
       "        vertical-align: middle;\n",
       "    }\n",
       "\n",
       "    .dataframe tbody tr th {\n",
       "        vertical-align: top;\n",
       "    }\n",
       "\n",
       "    .dataframe thead th {\n",
       "        text-align: right;\n",
       "    }\n",
       "</style>\n",
       "<table border=\"1\" class=\"dataframe\">\n",
       "  <thead>\n",
       "    <tr style=\"text-align: right;\">\n",
       "      <th></th>\n",
       "      <th>STATION</th>\n",
       "      <th>NAME</th>\n",
       "      <th>DATE</th>\n",
       "      <th>PRCP</th>\n",
       "      <th>SNOW</th>\n",
       "      <th>SNWD</th>\n",
       "      <th>TMAX</th>\n",
       "      <th>TMIN</th>\n",
       "      <th>TOBS</th>\n",
       "      <th>WESD</th>\n",
       "      <th>WT01</th>\n",
       "      <th>WT03</th>\n",
       "      <th>WT04</th>\n",
       "      <th>WT05</th>\n",
       "      <th>WT06</th>\n",
       "      <th>WT08</th>\n",
       "      <th>WT09</th>\n",
       "      <th>WT11</th>\n",
       "      <th>WT16</th>\n",
       "      <th>WT18</th>\n",
       "    </tr>\n",
       "  </thead>\n",
       "  <tbody>\n",
       "    <tr>\n",
       "      <th>0</th>\n",
       "      <td>USC00190736</td>\n",
       "      <td>BLUE HILL COOP, MA US</td>\n",
       "      <td>1967-05-11</td>\n",
       "      <td>0.43</td>\n",
       "      <td>0.0</td>\n",
       "      <td>0.0</td>\n",
       "      <td>57</td>\n",
       "      <td>36.0</td>\n",
       "      <td>NaN</td>\n",
       "      <td>NaN</td>\n",
       "      <td>NaN</td>\n",
       "      <td>NaN</td>\n",
       "      <td>NaN</td>\n",
       "      <td>NaN</td>\n",
       "      <td>NaN</td>\n",
       "      <td>NaN</td>\n",
       "      <td>NaN</td>\n",
       "      <td>NaN</td>\n",
       "      <td>NaN</td>\n",
       "      <td>NaN</td>\n",
       "    </tr>\n",
       "    <tr>\n",
       "      <th>1</th>\n",
       "      <td>USC00190736</td>\n",
       "      <td>BLUE HILL COOP, MA US</td>\n",
       "      <td>1967-05-12</td>\n",
       "      <td>0.00</td>\n",
       "      <td>0.0</td>\n",
       "      <td>0.0</td>\n",
       "      <td>58</td>\n",
       "      <td>39.0</td>\n",
       "      <td>NaN</td>\n",
       "      <td>NaN</td>\n",
       "      <td>NaN</td>\n",
       "      <td>NaN</td>\n",
       "      <td>NaN</td>\n",
       "      <td>NaN</td>\n",
       "      <td>NaN</td>\n",
       "      <td>NaN</td>\n",
       "      <td>NaN</td>\n",
       "      <td>NaN</td>\n",
       "      <td>NaN</td>\n",
       "      <td>NaN</td>\n",
       "    </tr>\n",
       "    <tr>\n",
       "      <th>2</th>\n",
       "      <td>USC00190736</td>\n",
       "      <td>BLUE HILL COOP, MA US</td>\n",
       "      <td>1967-05-13</td>\n",
       "      <td>0.00</td>\n",
       "      <td>0.0</td>\n",
       "      <td>0.0</td>\n",
       "      <td>64</td>\n",
       "      <td>38.0</td>\n",
       "      <td>NaN</td>\n",
       "      <td>NaN</td>\n",
       "      <td>NaN</td>\n",
       "      <td>NaN</td>\n",
       "      <td>NaN</td>\n",
       "      <td>NaN</td>\n",
       "      <td>NaN</td>\n",
       "      <td>NaN</td>\n",
       "      <td>NaN</td>\n",
       "      <td>NaN</td>\n",
       "      <td>NaN</td>\n",
       "      <td>NaN</td>\n",
       "    </tr>\n",
       "  </tbody>\n",
       "</table>\n",
       "</div>"
      ],
      "text/plain": [
       "       STATION                   NAME       DATE  PRCP  SNOW  SNWD  TMAX  \\\n",
       "0  USC00190736  BLUE HILL COOP, MA US 1967-05-11  0.43   0.0   0.0    57   \n",
       "1  USC00190736  BLUE HILL COOP, MA US 1967-05-12  0.00   0.0   0.0    58   \n",
       "2  USC00190736  BLUE HILL COOP, MA US 1967-05-13  0.00   0.0   0.0    64   \n",
       "\n",
       "   TMIN  TOBS  WESD  WT01  WT03  WT04  WT05  WT06  WT08  WT09  WT11  WT16  \\\n",
       "0  36.0   NaN   NaN   NaN   NaN   NaN   NaN   NaN   NaN   NaN   NaN   NaN   \n",
       "1  39.0   NaN   NaN   NaN   NaN   NaN   NaN   NaN   NaN   NaN   NaN   NaN   \n",
       "2  38.0   NaN   NaN   NaN   NaN   NaN   NaN   NaN   NaN   NaN   NaN   NaN   \n",
       "\n",
       "   WT18  \n",
       "0   NaN  \n",
       "1   NaN  \n",
       "2   NaN  "
      ]
     },
     "execution_count": 93,
     "metadata": {},
     "output_type": "execute_result"
    }
   ],
   "source": [
    "df = pd.read_csv('2239075.csv', parse_dates=[2])\n",
    "df.head(3)"
   ]
  },
  {
   "cell_type": "markdown",
   "metadata": {},
   "source": [
    "Again, I'll create a column that contains the year part of the dates."
   ]
  },
  {
   "cell_type": "code",
   "execution_count": 94,
   "metadata": {},
   "outputs": [],
   "source": [
    "df['YEAR'] = df['DATE'].dt.year"
   ]
  },
  {
   "cell_type": "markdown",
   "metadata": {},
   "source": [
    "This dataset includes `TMIN` and `TMAX`, which are the daily low and high temperatures in degrees F.\n",
    "I'll create a new column with the daily midpoint of the low and high temperatures."
   ]
  },
  {
   "cell_type": "code",
   "execution_count": 95,
   "metadata": {},
   "outputs": [],
   "source": [
    "df['TMID'] = (df['TMIN'] + df['TMAX']) / 2"
   ]
  },
  {
   "cell_type": "markdown",
   "metadata": {},
   "source": [
    "Now we can group by year and compute the mean of these daily temperatures."
   ]
  },
  {
   "cell_type": "code",
   "execution_count": 96,
   "metadata": {},
   "outputs": [
    {
     "data": {
      "text/plain": [
       "54"
      ]
     },
     "execution_count": 96,
     "metadata": {},
     "output_type": "execute_result"
    }
   ],
   "source": [
    "tmid = df.groupby('YEAR')['TMID'].mean()\n",
    "len(tmid)"
   ]
  },
  {
   "cell_type": "markdown",
   "metadata": {},
   "source": [
    "Again, I'll drop the first and last years, which are incomplete."
   ]
  },
  {
   "cell_type": "code",
   "execution_count": 97,
   "metadata": {},
   "outputs": [
    {
     "data": {
      "text/plain": [
       "52"
      ]
     },
     "execution_count": 97,
     "metadata": {},
     "output_type": "execute_result"
    }
   ],
   "source": [
    "complete = tmid.iloc[1:-1]\n",
    "len(complete)"
   ]
  },
  {
   "cell_type": "markdown",
   "metadata": {},
   "source": [
    "Here's what the time series looks like."
   ]
  },
  {
   "cell_type": "code",
   "execution_count": 98,
   "metadata": {},
   "outputs": [
    {
     "data": {
      "image/png": "[encoded data removed]",
      "text/plain": [
       "<Figure size 432x288 with 1 Axes>"
      ]
     },
     "metadata": {
      "needs_background": "light"
     },
     "output_type": "display_data"
    }
   ],
   "source": [
    "complete.plot(style='o', alpha=0.5)\n",
    "\n",
    "decorate(xlabel='Year',\n",
    "         ylabel='Annual average of daily temperature (deg F)')"
   ]
  },
  {
   "cell_type": "markdown",
   "metadata": {},
   "source": [
    "As we did with the snow data, I'll convert the `Series` to a `DataFrame` to prepare it for regression."
   ]
  },
  {
   "cell_type": "code",
   "execution_count": 99,
   "metadata": {},
   "outputs": [
    {
     "data": {
      "text/html": [
       "<div>\n",
       "<style scoped>\n",
       "    .dataframe tbody tr th:only-of-type {\n",
       "        vertical-align: middle;\n",
       "    }\n",
       "\n",
       "    .dataframe tbody tr th {\n",
       "        vertical-align: top;\n",
       "    }\n",
       "\n",
       "    .dataframe thead th {\n",
       "        text-align: right;\n",
       "    }\n",
       "</style>\n",
       "<table border=\"1\" class=\"dataframe\">\n",
       "  <thead>\n",
       "    <tr style=\"text-align: right;\">\n",
       "      <th></th>\n",
       "      <th>YEAR</th>\n",
       "      <th>TMID</th>\n",
       "    </tr>\n",
       "  </thead>\n",
       "  <tbody>\n",
       "    <tr>\n",
       "      <th>0</th>\n",
       "      <td>1968</td>\n",
       "      <td>48.071038</td>\n",
       "    </tr>\n",
       "    <tr>\n",
       "      <th>1</th>\n",
       "      <td>1969</td>\n",
       "      <td>48.687671</td>\n",
       "    </tr>\n",
       "    <tr>\n",
       "      <th>2</th>\n",
       "      <td>1970</td>\n",
       "      <td>48.258904</td>\n",
       "    </tr>\n",
       "    <tr>\n",
       "      <th>3</th>\n",
       "      <td>1971</td>\n",
       "      <td>48.804110</td>\n",
       "    </tr>\n",
       "    <tr>\n",
       "      <th>4</th>\n",
       "      <td>1972</td>\n",
       "      <td>47.112022</td>\n",
       "    </tr>\n",
       "  </tbody>\n",
       "</table>\n",
       "</div>"
      ],
      "text/plain": [
       "   YEAR       TMID\n",
       "0  1968  48.071038\n",
       "1  1969  48.687671\n",
       "2  1970  48.258904\n",
       "3  1971  48.804110\n",
       "4  1972  47.112022"
      ]
     },
     "execution_count": 99,
     "metadata": {},
     "output_type": "execute_result"
    }
   ],
   "source": [
    "data = complete.reset_index()\n",
    "data.head()"
   ]
  },
  {
   "cell_type": "code",
   "execution_count": 100,
   "metadata": {},
   "outputs": [
    {
     "data": {
      "text/plain": [
       "1993.5"
      ]
     },
     "execution_count": 100,
     "metadata": {},
     "output_type": "execute_result"
    }
   ],
   "source": [
    "offset = data['YEAR'].mean()\n",
    "offset"
   ]
  },
  {
   "cell_type": "code",
   "execution_count": 101,
   "metadata": {},
   "outputs": [
    {
     "data": {
      "text/plain": [
       "0.0"
      ]
     },
     "execution_count": 101,
     "metadata": {},
     "output_type": "execute_result"
    }
   ],
   "source": [
    "data['x'] = data['YEAR'] - offset\n",
    "data['x'].mean()"
   ]
  },
  {
   "cell_type": "code",
   "execution_count": 102,
   "metadata": {},
   "outputs": [
    {
     "data": {
      "text/plain": [
       "1.2389114009625752"
      ]
     },
     "execution_count": 102,
     "metadata": {},
     "output_type": "execute_result"
    }
   ],
   "source": [
    "data['y'] = data['TMID']\n",
    "data['y'].std()"
   ]
  },
  {
   "cell_type": "markdown",
   "metadata": {},
   "source": [
    "Now we can use StatsModels to estimate the parameters."
   ]
  },
  {
   "cell_type": "code",
   "execution_count": 103,
   "metadata": {},
   "outputs": [
    {
     "data": {
      "text/plain": [
       "Intercept    49.408046\n",
       "x             0.044252\n",
       "dtype: float64"
      ]
     },
     "execution_count": 103,
     "metadata": {},
     "output_type": "execute_result"
    }
   ],
   "source": [
    "import statsmodels.formula.api as smf\n",
    "\n",
    "formula = 'y ~ x'\n",
    "results = smf.ols(formula, data=data).fit()\n",
    "results.params"
   ]
  },
  {
   "cell_type": "markdown",
   "metadata": {},
   "source": [
    "And compute the standard deviation of the parameters."
   ]
  },
  {
   "cell_type": "code",
   "execution_count": 104,
   "metadata": {},
   "outputs": [
    {
     "data": {
      "text/plain": [
       "1.0417057653902053"
      ]
     },
     "execution_count": 104,
     "metadata": {},
     "output_type": "execute_result"
    }
   ],
   "source": [
    "results.resid.std()"
   ]
  },
  {
   "cell_type": "markdown",
   "metadata": {},
   "source": [
    "According to the least squares regression model, annual average temperature is increasing by about 0.044 degrees F per year.\n",
    "\n",
    "To quantify the uncertainty of these parameters and generate predictions for the future, we can use Bayesian regression.\n",
    "\n",
    "1. Choose priors for `slope`, `intercept`, and `sigma` based on these estimates, and use `make_joint3` to make a joint prior distribution.\n",
    "\n",
    "2. Use `update_regression` or `update_optimized` to compute the posterior distribution of the parameters.\n",
    "\n",
    "3. Use `Pmf.marginal` to extract the posterior distribution of `slope`.  How confident are we that temperature is increasing?\n",
    "\n",
    "4. Draw a sample of parameters from the posterior distribution and use it to generate predictions up to 2067.\n",
    "\n",
    "5. Plot the median of the predictions and a 90% credible interval along with the observed data.  \n",
    "\n",
    "Does the model fit the data well?  How much do we expect annual average temperatures to increase over my (expected) lifetime?\n",
    "\n"
   ]
  },
  {
   "cell_type": "code",
   "execution_count": 107,
   "metadata": {
    "tags": [
     "hide-cell"
    ]
   },
   "outputs": [],
   "source": [
    "# Solution\n",
    "\n",
    "qs = np.linspace(0, 0.1, num=51)\n",
    "prior_slope = make_uniform(qs, 'Slope')"
   ]
  },
  {
   "cell_type": "code",
   "execution_count": 108,
   "metadata": {
    "tags": [
     "hide-cell"
    ]
   },
   "outputs": [],
   "source": [
    "# Solution\n",
    "\n",
    "qs = np.linspace(48, 52, num=41)\n",
    "prior_inter = make_uniform(qs, 'Intercept')"
   ]
  },
  {
   "cell_type": "code",
   "execution_count": 109,
   "metadata": {
    "tags": [
     "hide-cell"
    ]
   },
   "outputs": [],
   "source": [
    "# Solution\n",
    "\n",
    "qs = np.linspace(0.5, 2, num=31)\n",
    "prior_sigma = make_uniform(qs, 'Sigma')"
   ]
  },
  {
   "cell_type": "code",
   "execution_count": 110,
   "metadata": {
    "tags": [
     "hide-cell"
    ]
   },
   "outputs": [
    {
     "data": {
      "text/plain": [
       "Slope  Intercept  Sigma\n",
       "0.0    48.0       0.50     0.000015\n",
       "                  0.55     0.000015\n",
       "                  0.60     0.000015\n",
       "                  0.65     0.000015\n",
       "                  0.70     0.000015\n",
       "dtype: float64"
      ]
     },
     "execution_count": 110,
     "metadata": {},
     "output_type": "execute_result"
    }
   ],
   "source": [
    "# Solution\n",
    "\n",
    "joint3 = make_joint3(prior_slope, prior_inter, prior_sigma)\n",
    "joint3.head()"
   ]
  },
  {
   "cell_type": "code",
   "execution_count": 111,
   "metadata": {
    "tags": [
     "hide-cell"
    ]
   },
   "outputs": [
    {
     "data": {
      "text/html": [
       "<div>\n",
       "<style scoped>\n",
       "    .dataframe tbody tr th:only-of-type {\n",
       "        vertical-align: middle;\n",
       "    }\n",
       "\n",
       "    .dataframe tbody tr th {\n",
       "        vertical-align: top;\n",
       "    }\n",
       "\n",
       "    .dataframe thead th {\n",
       "        text-align: right;\n",
       "    }\n",
       "</style>\n",
       "<table border=\"1\" class=\"dataframe\">\n",
       "  <thead>\n",
       "    <tr style=\"text-align: right;\">\n",
       "      <th></th>\n",
       "      <th>Sigma</th>\n",
       "      <th>0.50</th>\n",
       "      <th>0.55</th>\n",
       "      <th>0.60</th>\n",
       "      <th>0.65</th>\n",
       "      <th>0.70</th>\n",
       "      <th>0.75</th>\n",
       "      <th>0.80</th>\n",
       "      <th>0.85</th>\n",
       "      <th>0.90</th>\n",
       "      <th>0.95</th>\n",
       "      <th>...</th>\n",
       "      <th>1.55</th>\n",
       "      <th>1.60</th>\n",
       "      <th>1.65</th>\n",
       "      <th>1.70</th>\n",
       "      <th>1.75</th>\n",
       "      <th>1.80</th>\n",
       "      <th>1.85</th>\n",
       "      <th>1.90</th>\n",
       "      <th>1.95</th>\n",
       "      <th>2.00</th>\n",
       "    </tr>\n",
       "    <tr>\n",
       "      <th>Slope</th>\n",
       "      <th>Intercept</th>\n",
       "      <th></th>\n",
       "      <th></th>\n",
       "      <th></th>\n",
       "      <th></th>\n",
       "      <th></th>\n",
       "      <th></th>\n",
       "      <th></th>\n",
       "      <th></th>\n",
       "      <th></th>\n",
       "      <th></th>\n",
       "      <th></th>\n",
       "      <th></th>\n",
       "      <th></th>\n",
       "      <th></th>\n",
       "      <th></th>\n",
       "      <th></th>\n",
       "      <th></th>\n",
       "      <th></th>\n",
       "      <th></th>\n",
       "      <th></th>\n",
       "      <th></th>\n",
       "    </tr>\n",
       "  </thead>\n",
       "  <tbody>\n",
       "    <tr>\n",
       "      <th rowspan=\"5\" valign=\"top\">0.0</th>\n",
       "      <th>48.0</th>\n",
       "      <td>0.000015</td>\n",
       "      <td>0.000015</td>\n",
       "      <td>0.000015</td>\n",
       "      <td>0.000015</td>\n",
       "      <td>0.000015</td>\n",
       "      <td>0.000015</td>\n",
       "      <td>0.000015</td>\n",
       "      <td>0.000015</td>\n",
       "      <td>0.000015</td>\n",
       "      <td>0.000015</td>\n",
       "      <td>...</td>\n",
       "      <td>0.000015</td>\n",
       "      <td>0.000015</td>\n",
       "      <td>0.000015</td>\n",
       "      <td>0.000015</td>\n",
       "      <td>0.000015</td>\n",
       "      <td>0.000015</td>\n",
       "      <td>0.000015</td>\n",
       "      <td>0.000015</td>\n",
       "      <td>0.000015</td>\n",
       "      <td>0.000015</td>\n",
       "    </tr>\n",
       "    <tr>\n",
       "      <th>48.1</th>\n",
       "      <td>0.000015</td>\n",
       "      <td>0.000015</td>\n",
       "      <td>0.000015</td>\n",
       "      <td>0.000015</td>\n",
       "      <td>0.000015</td>\n",
       "      <td>0.000015</td>\n",
       "      <td>0.000015</td>\n",
       "      <td>0.000015</td>\n",
       "      <td>0.000015</td>\n",
       "      <td>0.000015</td>\n",
       "      <td>...</td>\n",
       "      <td>0.000015</td>\n",
       "      <td>0.000015</td>\n",
       "      <td>0.000015</td>\n",
       "      <td>0.000015</td>\n",
       "      <td>0.000015</td>\n",
       "      <td>0.000015</td>\n",
       "      <td>0.000015</td>\n",
       "      <td>0.000015</td>\n",
       "      <td>0.000015</td>\n",
       "      <td>0.000015</td>\n",
       "    </tr>\n",
       "    <tr>\n",
       "      <th>48.2</th>\n",
       "      <td>0.000015</td>\n",
       "      <td>0.000015</td>\n",
       "      <td>0.000015</td>\n",
       "      <td>0.000015</td>\n",
       "      <td>0.000015</td>\n",
       "      <td>0.000015</td>\n",
       "      <td>0.000015</td>\n",
       "      <td>0.000015</td>\n",
       "      <td>0.000015</td>\n",
       "      <td>0.000015</td>\n",
       "      <td>...</td>\n",
       "      <td>0.000015</td>\n",
       "      <td>0.000015</td>\n",
       "      <td>0.000015</td>\n",
       "      <td>0.000015</td>\n",
       "      <td>0.000015</td>\n",
       "      <td>0.000015</td>\n",
       "      <td>0.000015</td>\n",
       "      <td>0.000015</td>\n",
       "      <td>0.000015</td>\n",
       "      <td>0.000015</td>\n",
       "    </tr>\n",
       "    <tr>\n",
       "      <th>48.3</th>\n",
       "      <td>0.000015</td>\n",
       "      <td>0.000015</td>\n",
       "      <td>0.000015</td>\n",
       "      <td>0.000015</td>\n",
       "      <td>0.000015</td>\n",
       "      <td>0.000015</td>\n",
       "      <td>0.000015</td>\n",
       "      <td>0.000015</td>\n",
       "      <td>0.000015</td>\n",
       "      <td>0.000015</td>\n",
       "      <td>...</td>\n",
       "      <td>0.000015</td>\n",
       "      <td>0.000015</td>\n",
       "      <td>0.000015</td>\n",
       "      <td>0.000015</td>\n",
       "      <td>0.000015</td>\n",
       "      <td>0.000015</td>\n",
       "      <td>0.000015</td>\n",
       "      <td>0.000015</td>\n",
       "      <td>0.000015</td>\n",
       "      <td>0.000015</td>\n",
       "    </tr>\n",
       "    <tr>\n",
       "      <th>48.4</th>\n",
       "      <td>0.000015</td>\n",
       "      <td>0.000015</td>\n",
       "      <td>0.000015</td>\n",
       "      <td>0.000015</td>\n",
       "      <td>0.000015</td>\n",
       "      <td>0.000015</td>\n",
       "      <td>0.000015</td>\n",
       "      <td>0.000015</td>\n",
       "      <td>0.000015</td>\n",
       "      <td>0.000015</td>\n",
       "      <td>...</td>\n",
       "      <td>0.000015</td>\n",
       "      <td>0.000015</td>\n",
       "      <td>0.000015</td>\n",
       "      <td>0.000015</td>\n",
       "      <td>0.000015</td>\n",
       "      <td>0.000015</td>\n",
       "      <td>0.000015</td>\n",
       "      <td>0.000015</td>\n",
       "      <td>0.000015</td>\n",
       "      <td>0.000015</td>\n",
       "    </tr>\n",
       "  </tbody>\n",
       "</table>\n",
       "<p>5 rows × 31 columns</p>\n",
       "</div>"
      ],
      "text/plain": [
       "Sigma                0.50      0.55      0.60      0.65      0.70      0.75  \\\n",
       "Slope Intercept                                                               \n",
       "0.0   48.0       0.000015  0.000015  0.000015  0.000015  0.000015  0.000015   \n",
       "      48.1       0.000015  0.000015  0.000015  0.000015  0.000015  0.000015   \n",
       "      48.2       0.000015  0.000015  0.000015  0.000015  0.000015  0.000015   \n",
       "      48.3       0.000015  0.000015  0.000015  0.000015  0.000015  0.000015   \n",
       "      48.4       0.000015  0.000015  0.000015  0.000015  0.000015  0.000015   \n",
       "\n",
       "Sigma                0.80      0.85      0.90      0.95  ...      1.55  \\\n",
       "Slope Intercept                                          ...             \n",
       "0.0   48.0       0.000015  0.000015  0.000015  0.000015  ...  0.000015   \n",
       "      48.1       0.000015  0.000015  0.000015  0.000015  ...  0.000015   \n",
       "      48.2       0.000015  0.000015  0.000015  0.000015  ...  0.000015   \n",
       "      48.3       0.000015  0.000015  0.000015  0.000015  ...  0.000015   \n",
       "      48.4       0.000015  0.000015  0.000015  0.000015  ...  0.000015   \n",
       "\n",
       "Sigma                1.60      1.65      1.70      1.75      1.80      1.85  \\\n",
       "Slope Intercept                                                               \n",
       "0.0   48.0       0.000015  0.000015  0.000015  0.000015  0.000015  0.000015   \n",
       "      48.1       0.000015  0.000015  0.000015  0.000015  0.000015  0.000015   \n",
       "      48.2       0.000015  0.000015  0.000015  0.000015  0.000015  0.000015   \n",
       "      48.3       0.000015  0.000015  0.000015  0.000015  0.000015  0.000015   \n",
       "      48.4       0.000015  0.000015  0.000015  0.000015  0.000015  0.000015   \n",
       "\n",
       "Sigma                1.90      1.95      2.00  \n",
       "Slope Intercept                                \n",
       "0.0   48.0       0.000015  0.000015  0.000015  \n",
       "      48.1       0.000015  0.000015  0.000015  \n",
       "      48.2       0.000015  0.000015  0.000015  \n",
       "      48.3       0.000015  0.000015  0.000015  \n",
       "      48.4       0.000015  0.000015  0.000015  \n",
       "\n",
       "[5 rows x 31 columns]"
      ]
     },
     "execution_count": 111,
     "metadata": {},
     "output_type": "execute_result"
    }
   ],
   "source": [
    "# Solution\n",
    "\n",
    "prior = joint3.unstack()\n",
    "prior.head()"
   ]
  },
  {
   "cell_type": "code",
   "execution_count": 112,
   "metadata": {
    "tags": [
     "hide-cell"
    ]
   },
   "outputs": [
    {
     "name": "stdout",
     "output_type": "stream",
     "text": [
      "CPU times: user 2.17 s, sys: 305 µs, total: 2.17 s\n",
      "Wall time: 2.17 s\n"
     ]
    },
    {
     "data": {
      "text/html": [
       "<div>\n",
       "<style scoped>\n",
       "    .dataframe tbody tr th:only-of-type {\n",
       "        vertical-align: middle;\n",
       "    }\n",
       "\n",
       "    .dataframe tbody tr th {\n",
       "        vertical-align: top;\n",
       "    }\n",
       "\n",
       "    .dataframe thead th {\n",
       "        text-align: right;\n",
       "    }\n",
       "</style>\n",
       "<table border=\"1\" class=\"dataframe\">\n",
       "  <thead>\n",
       "    <tr style=\"text-align: right;\">\n",
       "      <th></th>\n",
       "      <th>Sigma</th>\n",
       "      <th>0.50</th>\n",
       "      <th>0.55</th>\n",
       "      <th>0.60</th>\n",
       "      <th>0.65</th>\n",
       "      <th>0.70</th>\n",
       "      <th>0.75</th>\n",
       "      <th>0.80</th>\n",
       "      <th>0.85</th>\n",
       "      <th>0.90</th>\n",
       "      <th>0.95</th>\n",
       "      <th>...</th>\n",
       "      <th>1.55</th>\n",
       "      <th>1.60</th>\n",
       "      <th>1.65</th>\n",
       "      <th>1.70</th>\n",
       "      <th>1.75</th>\n",
       "      <th>1.80</th>\n",
       "      <th>1.85</th>\n",
       "      <th>1.90</th>\n",
       "      <th>1.95</th>\n",
       "      <th>2.00</th>\n",
       "    </tr>\n",
       "    <tr>\n",
       "      <th>Slope</th>\n",
       "      <th>Intercept</th>\n",
       "      <th></th>\n",
       "      <th></th>\n",
       "      <th></th>\n",
       "      <th></th>\n",
       "      <th></th>\n",
       "      <th></th>\n",
       "      <th></th>\n",
       "      <th></th>\n",
       "      <th></th>\n",
       "      <th></th>\n",
       "      <th></th>\n",
       "      <th></th>\n",
       "      <th></th>\n",
       "      <th></th>\n",
       "      <th></th>\n",
       "      <th></th>\n",
       "      <th></th>\n",
       "      <th></th>\n",
       "      <th></th>\n",
       "      <th></th>\n",
       "      <th></th>\n",
       "    </tr>\n",
       "  </thead>\n",
       "  <tbody>\n",
       "    <tr>\n",
       "      <th rowspan=\"5\" valign=\"top\">0.0</th>\n",
       "      <th>48.0</th>\n",
       "      <td>5.469482e-133</td>\n",
       "      <td>8.456993e-108</td>\n",
       "      <td>5.725427e-89</td>\n",
       "      <td>1.361579e-74</td>\n",
       "      <td>2.003735e-63</td>\n",
       "      <td>1.269228e-54</td>\n",
       "      <td>1.332824e-47</td>\n",
       "      <td>6.062184e-42</td>\n",
       "      <td>2.401400e-37</td>\n",
       "      <td>1.390022e-33</td>\n",
       "      <td>...</td>\n",
       "      <td>2.157676e-17</td>\n",
       "      <td>4.222518e-17</td>\n",
       "      <td>7.062026e-17</td>\n",
       "      <td>1.030877e-16</td>\n",
       "      <td>1.337189e-16</td>\n",
       "      <td>1.565114e-16</td>\n",
       "      <td>1.674872e-16</td>\n",
       "      <td>1.657382e-16</td>\n",
       "      <td>1.531524e-16</td>\n",
       "      <td>1.332827e-16</td>\n",
       "    </tr>\n",
       "    <tr>\n",
       "      <th>48.1</th>\n",
       "      <td>1.013023e-120</td>\n",
       "      <td>1.163560e-97</td>\n",
       "      <td>1.892454e-80</td>\n",
       "      <td>2.471844e-67</td>\n",
       "      <td>3.637954e-57</td>\n",
       "      <td>3.596160e-49</td>\n",
       "      <td>8.257196e-43</td>\n",
       "      <td>1.065366e-37</td>\n",
       "      <td>1.468194e-33</td>\n",
       "      <td>3.477517e-30</td>\n",
       "      <td>...</td>\n",
       "      <td>4.078863e-16</td>\n",
       "      <td>6.661721e-16</td>\n",
       "      <td>9.450122e-16</td>\n",
       "      <td>1.186928e-15</td>\n",
       "      <td>1.341639e-15</td>\n",
       "      <td>1.383967e-15</td>\n",
       "      <td>1.318519e-15</td>\n",
       "      <td>1.172153e-15</td>\n",
       "      <td>9.810176e-16</td>\n",
       "      <td>7.789389e-16</td>\n",
       "    </tr>\n",
       "    <tr>\n",
       "      <th>48.2</th>\n",
       "      <td>2.344013e-109</td>\n",
       "      <td>2.869497e-88</td>\n",
       "      <td>1.475464e-72</td>\n",
       "      <td>1.310638e-60</td>\n",
       "      <td>2.285547e-51</td>\n",
       "      <td>4.042565e-44</td>\n",
       "      <td>2.270012e-38</td>\n",
       "      <td>9.115835e-34</td>\n",
       "      <td>4.723848e-30</td>\n",
       "      <td>4.889743e-27</td>\n",
       "      <td>...</td>\n",
       "      <td>6.210017e-15</td>\n",
       "      <td>8.577986e-15</td>\n",
       "      <td>1.044708e-14</td>\n",
       "      <td>1.141560e-14</td>\n",
       "      <td>1.135891e-14</td>\n",
       "      <td>1.042327e-14</td>\n",
       "      <td>8.916742e-15</td>\n",
       "      <td>7.177756e-15</td>\n",
       "      <td>5.480740e-15</td>\n",
       "      <td>3.997373e-15</td>\n",
       "    </tr>\n",
       "    <tr>\n",
       "      <th>48.3</th>\n",
       "      <td>6.775916e-99</td>\n",
       "      <td>1.268432e-79</td>\n",
       "      <td>2.713423e-65</td>\n",
       "      <td>2.029684e-54</td>\n",
       "      <td>4.968659e-46</td>\n",
       "      <td>1.802993e-39</td>\n",
       "      <td>2.769232e-34</td>\n",
       "      <td>3.797716e-30</td>\n",
       "      <td>7.998382e-27</td>\n",
       "      <td>3.864312e-24</td>\n",
       "      <td>...</td>\n",
       "      <td>7.614602e-14</td>\n",
       "      <td>9.015050e-14</td>\n",
       "      <td>9.541170e-14</td>\n",
       "      <td>9.171287e-14</td>\n",
       "      <td>8.115153e-14</td>\n",
       "      <td>6.686217e-14</td>\n",
       "      <td>5.180136e-14</td>\n",
       "      <td>3.805706e-14</td>\n",
       "      <td>2.670613e-14</td>\n",
       "      <td>1.801307e-14</td>\n",
       "    </tr>\n",
       "    <tr>\n",
       "      <th>48.4</th>\n",
       "      <td>2.447054e-89</td>\n",
       "      <td>1.005015e-71</td>\n",
       "      <td>1.177043e-58</td>\n",
       "      <td>9.180321e-49</td>\n",
       "      <td>3.737699e-41</td>\n",
       "      <td>3.190434e-35</td>\n",
       "      <td>1.499086e-30</td>\n",
       "      <td>7.703297e-27</td>\n",
       "      <td>7.126922e-24</td>\n",
       "      <td>1.716436e-21</td>\n",
       "      <td>...</td>\n",
       "      <td>7.519733e-13</td>\n",
       "      <td>7.732766e-13</td>\n",
       "      <td>7.198762e-13</td>\n",
       "      <td>6.154869e-13</td>\n",
       "      <td>4.892323e-13</td>\n",
       "      <td>3.653048e-13</td>\n",
       "      <td>2.585183e-13</td>\n",
       "      <td>1.747125e-13</td>\n",
       "      <td>1.134990e-13</td>\n",
       "      <td>7.127585e-14</td>\n",
       "    </tr>\n",
       "  </tbody>\n",
       "</table>\n",
       "<p>5 rows × 31 columns</p>\n",
       "</div>"
      ],
      "text/plain": [
       "Sigma                     0.50           0.55          0.60          0.65  \\\n",
       "Slope Intercept                                                             \n",
       "0.0   48.0       5.469482e-133  8.456993e-108  5.725427e-89  1.361579e-74   \n",
       "      48.1       1.013023e-120   1.163560e-97  1.892454e-80  2.471844e-67   \n",
       "      48.2       2.344013e-109   2.869497e-88  1.475464e-72  1.310638e-60   \n",
       "      48.3        6.775916e-99   1.268432e-79  2.713423e-65  2.029684e-54   \n",
       "      48.4        2.447054e-89   1.005015e-71  1.177043e-58  9.180321e-49   \n",
       "\n",
       "Sigma                    0.70          0.75          0.80          0.85  \\\n",
       "Slope Intercept                                                           \n",
       "0.0   48.0       2.003735e-63  1.269228e-54  1.332824e-47  6.062184e-42   \n",
       "      48.1       3.637954e-57  3.596160e-49  8.257196e-43  1.065366e-37   \n",
       "      48.2       2.285547e-51  4.042565e-44  2.270012e-38  9.115835e-34   \n",
       "      48.3       4.968659e-46  1.802993e-39  2.769232e-34  3.797716e-30   \n",
       "      48.4       3.737699e-41  3.190434e-35  1.499086e-30  7.703297e-27   \n",
       "\n",
       "Sigma                    0.90          0.95  ...          1.55          1.60  \\\n",
       "Slope Intercept                              ...                               \n",
       "0.0   48.0       2.401400e-37  1.390022e-33  ...  2.157676e-17  4.222518e-17   \n",
       "      48.1       1.468194e-33  3.477517e-30  ...  4.078863e-16  6.661721e-16   \n",
       "      48.2       4.723848e-30  4.889743e-27  ...  6.210017e-15  8.577986e-15   \n",
       "      48.3       7.998382e-27  3.864312e-24  ...  7.614602e-14  9.015050e-14   \n",
       "      48.4       7.126922e-24  1.716436e-21  ...  7.519733e-13  7.732766e-13   \n",
       "\n",
       "Sigma                    1.65          1.70          1.75          1.80  \\\n",
       "Slope Intercept                                                           \n",
       "0.0   48.0       7.062026e-17  1.030877e-16  1.337189e-16  1.565114e-16   \n",
       "      48.1       9.450122e-16  1.186928e-15  1.341639e-15  1.383967e-15   \n",
       "      48.2       1.044708e-14  1.141560e-14  1.135891e-14  1.042327e-14   \n",
       "      48.3       9.541170e-14  9.171287e-14  8.115153e-14  6.686217e-14   \n",
       "      48.4       7.198762e-13  6.154869e-13  4.892323e-13  3.653048e-13   \n",
       "\n",
       "Sigma                    1.85          1.90          1.95          2.00  \n",
       "Slope Intercept                                                          \n",
       "0.0   48.0       1.674872e-16  1.657382e-16  1.531524e-16  1.332827e-16  \n",
       "      48.1       1.318519e-15  1.172153e-15  9.810176e-16  7.789389e-16  \n",
       "      48.2       8.916742e-15  7.177756e-15  5.480740e-15  3.997373e-15  \n",
       "      48.3       5.180136e-14  3.805706e-14  2.670613e-14  1.801307e-14  \n",
       "      48.4       2.585183e-13  1.747125e-13  1.134990e-13  7.127585e-14  \n",
       "\n",
       "[5 rows x 31 columns]"
      ]
     },
     "execution_count": 112,
     "metadata": {},
     "output_type": "execute_result"
    }
   ],
   "source": [
    "# Solution\n",
    "\n",
    "%time posterior = update_optimized(prior, data)\n",
    "posterior.head()"
   ]
  },
  {
   "cell_type": "code",
   "execution_count": 113,
   "metadata": {
    "tags": [
     "hide-cell"
    ]
   },
   "outputs": [],
   "source": [
    "# Solution\n",
    "\n",
    "posterior_sigma = marginal(posterior, 0)"
   ]
  },
  {
   "cell_type": "code",
   "execution_count": 114,
   "metadata": {
    "tags": [
     "hide-cell"
    ]
   },
   "outputs": [
    {
     "data": {
      "image/png": "[encoded data removed]",
      "text/plain": [
       "<Figure size 432x288 with 1 Axes>"
      ]
     },
     "metadata": {
      "needs_background": "light"
     },
     "output_type": "display_data"
    }
   ],
   "source": [
    "# Solution\n",
    "\n",
    "posterior_sigma.plot()\n",
    "\n",
    "decorate(xlabel='$\\sigma$, standard deviation of $\\epsilon$',\n",
    "         ylabel='PDF',\n",
    "         title='Posterior marginal distribution of $\\sigma$')"
   ]
  },
  {
   "cell_type": "code",
   "execution_count": 115,
   "metadata": {
    "tags": [
     "hide-cell"
    ]
   },
   "outputs": [
    {
     "data": {
      "text/plain": [
       "Slope  Intercept\n",
       "0.0    48.0         1.160816e-15\n",
       "       48.1         1.052695e-14\n",
       "       48.2         9.121251e-14\n",
       "       48.3         7.591311e-13\n",
       "       48.4         6.059163e-12\n",
       "dtype: float64"
      ]
     },
     "execution_count": 115,
     "metadata": {},
     "output_type": "execute_result"
    }
   ],
   "source": [
    "# Solution\n",
    "\n",
    "posterior2 = marginal(posterior, 1)\n",
    "posterior2.head()"
   ]
  },
  {
   "cell_type": "code",
   "execution_count": 116,
   "metadata": {},
   "outputs": [
    {
     "data": {
      "text/html": [
       "<div>\n",
       "<style scoped>\n",
       "    .dataframe tbody tr th:only-of-type {\n",
       "        vertical-align: middle;\n",
       "    }\n",
       "\n",
       "    .dataframe tbody tr th {\n",
       "        vertical-align: top;\n",
       "    }\n",
       "\n",
       "    .dataframe thead th {\n",
       "        text-align: right;\n",
       "    }\n",
       "</style>\n",
       "<table border=\"1\" class=\"dataframe\">\n",
       "  <thead>\n",
       "    <tr style=\"text-align: right;\">\n",
       "      <th>Slope</th>\n",
       "      <th>0.000</th>\n",
       "      <th>0.002</th>\n",
       "      <th>0.004</th>\n",
       "      <th>0.006</th>\n",
       "      <th>0.008</th>\n",
       "      <th>0.010</th>\n",
       "      <th>0.012</th>\n",
       "      <th>0.014</th>\n",
       "      <th>0.016</th>\n",
       "      <th>0.018</th>\n",
       "      <th>...</th>\n",
       "      <th>0.082</th>\n",
       "      <th>0.084</th>\n",
       "      <th>0.086</th>\n",
       "      <th>0.088</th>\n",
       "      <th>0.090</th>\n",
       "      <th>0.092</th>\n",
       "      <th>0.094</th>\n",
       "      <th>0.096</th>\n",
       "      <th>0.098</th>\n",
       "      <th>0.100</th>\n",
       "    </tr>\n",
       "    <tr>\n",
       "      <th>Intercept</th>\n",
       "      <th></th>\n",
       "      <th></th>\n",
       "      <th></th>\n",
       "      <th></th>\n",
       "      <th></th>\n",
       "      <th></th>\n",
       "      <th></th>\n",
       "      <th></th>\n",
       "      <th></th>\n",
       "      <th></th>\n",
       "      <th></th>\n",
       "      <th></th>\n",
       "      <th></th>\n",
       "      <th></th>\n",
       "      <th></th>\n",
       "      <th></th>\n",
       "      <th></th>\n",
       "      <th></th>\n",
       "      <th></th>\n",
       "      <th></th>\n",
       "      <th></th>\n",
       "    </tr>\n",
       "  </thead>\n",
       "  <tbody>\n",
       "    <tr>\n",
       "      <th>48.0</th>\n",
       "      <td>1.160816e-15</td>\n",
       "      <td>1.582183e-15</td>\n",
       "      <td>2.129943e-15</td>\n",
       "      <td>2.831465e-15</td>\n",
       "      <td>3.716188e-15</td>\n",
       "      <td>4.814340e-15</td>\n",
       "      <td>6.155121e-15</td>\n",
       "      <td>7.764342e-15</td>\n",
       "      <td>9.661593e-15</td>\n",
       "      <td>1.185707e-14</td>\n",
       "      <td>...</td>\n",
       "      <td>3.036299e-15</td>\n",
       "      <td>2.291371e-15</td>\n",
       "      <td>1.707482e-15</td>\n",
       "      <td>1.256646e-15</td>\n",
       "      <td>9.135882e-16</td>\n",
       "      <td>6.562184e-16</td>\n",
       "      <td>4.657827e-16</td>\n",
       "      <td>3.267587e-16</td>\n",
       "      <td>2.265936e-16</td>\n",
       "      <td>1.553486e-16</td>\n",
       "    </tr>\n",
       "    <tr>\n",
       "      <th>48.1</th>\n",
       "      <td>1.052695e-14</td>\n",
       "      <td>1.458733e-14</td>\n",
       "      <td>1.996354e-14</td>\n",
       "      <td>2.697555e-14</td>\n",
       "      <td>3.597933e-14</td>\n",
       "      <td>4.735455e-14</td>\n",
       "      <td>6.148524e-14</td>\n",
       "      <td>7.873253e-14</td>\n",
       "      <td>9.939988e-14</td>\n",
       "      <td>1.236919e-13</td>\n",
       "      <td>...</td>\n",
       "      <td>2.904556e-14</td>\n",
       "      <td>2.156559e-14</td>\n",
       "      <td>1.580825e-14</td>\n",
       "      <td>1.144368e-14</td>\n",
       "      <td>8.183163e-15</td>\n",
       "      <td>5.781758e-15</td>\n",
       "      <td>4.037250e-15</td>\n",
       "      <td>2.786737e-15</td>\n",
       "      <td>1.901876e-15</td>\n",
       "      <td>1.283595e-15</td>\n",
       "    </tr>\n",
       "  </tbody>\n",
       "</table>\n",
       "<p>2 rows × 51 columns</p>\n",
       "</div>"
      ],
      "text/plain": [
       "Slope             0.000         0.002         0.004         0.006  \\\n",
       "Intercept                                                           \n",
       "48.0       1.160816e-15  1.582183e-15  2.129943e-15  2.831465e-15   \n",
       "48.1       1.052695e-14  1.458733e-14  1.996354e-14  2.697555e-14   \n",
       "\n",
       "Slope             0.008         0.010         0.012         0.014  \\\n",
       "Intercept                                                           \n",
       "48.0       3.716188e-15  4.814340e-15  6.155121e-15  7.764342e-15   \n",
       "48.1       3.597933e-14  4.735455e-14  6.148524e-14  7.873253e-14   \n",
       "\n",
       "Slope             0.016         0.018  ...         0.082         0.084  \\\n",
       "Intercept                              ...                               \n",
       "48.0       9.661593e-15  1.185707e-14  ...  3.036299e-15  2.291371e-15   \n",
       "48.1       9.939988e-14  1.236919e-13  ...  2.904556e-14  2.156559e-14   \n",
       "\n",
       "Slope             0.086         0.088         0.090         0.092  \\\n",
       "Intercept                                                           \n",
       "48.0       1.707482e-15  1.256646e-15  9.135882e-16  6.562184e-16   \n",
       "48.1       1.580825e-14  1.144368e-14  8.183163e-15  5.781758e-15   \n",
       "\n",
       "Slope             0.094         0.096         0.098         0.100  \n",
       "Intercept                                                          \n",
       "48.0       4.657827e-16  3.267587e-16  2.265936e-16  1.553486e-16  \n",
       "48.1       4.037250e-15  2.786737e-15  1.901876e-15  1.283595e-15  \n",
       "\n",
       "[2 rows x 51 columns]"
      ]
     },
     "execution_count": 116,
     "metadata": {},
     "output_type": "execute_result"
    }
   ],
   "source": [
    "joint_posterior = posterior2.unstack().transpose()\n",
    "joint_posterior.head(2)"
   ]
  },
  {
   "cell_type": "code",
   "execution_count": 117,
   "metadata": {
    "tags": [
     "hide-cell"
    ]
   },
   "outputs": [],
   "source": [
    "# Solution\n",
    "\n",
    "posterior_slope = marginal(joint_posterior, 0)\n",
    "posterior_inter = marginal(joint_posterior, 1)"
   ]
  },
  {
   "cell_type": "code",
   "execution_count": 118,
   "metadata": {
    "tags": [
     "hide-cell"
    ]
   },
   "outputs": [
    {
     "data": {
      "image/png": "[encoded data removed]",
      "text/plain": [
       "<Figure size 432x288 with 1 Axes>"
      ]
     },
     "metadata": {
      "needs_background": "light"
     },
     "output_type": "display_data"
    }
   ],
   "source": [
    "# Solution\n",
    "\n",
    "posterior_inter.plot()\n",
    "decorate(xlabel='intercept (inches)',\n",
    "         ylabel='PDF',\n",
    "         title='Posterior marginal distribution of intercept')"
   ]
  },
  {
   "cell_type": "code",
   "execution_count": 119,
   "metadata": {
    "tags": [
     "hide-cell"
    ]
   },
   "outputs": [
    {
     "data": {
      "text/plain": [
       "(49.40804621499326, array([49.2, 49.7]))"
      ]
     },
     "execution_count": 119,
     "metadata": {},
     "output_type": "execute_result"
    }
   ],
   "source": [
    "# Solution\n",
    "\n",
    "posterior_inter.mean(), posterior_inter.credible_interval(0.9)"
   ]
  },
  {
   "cell_type": "code",
   "execution_count": 120,
   "metadata": {
    "tags": [
     "hide-cell"
    ]
   },
   "outputs": [
    {
     "data": {
      "image/png": "[encoded data removed]",
      "text/plain": [
       "<Figure size 432x288 with 1 Axes>"
      ]
     },
     "metadata": {
      "needs_background": "light"
     },
     "output_type": "display_data"
    }
   ],
   "source": [
    "# Solution\n",
    "\n",
    "posterior_slope.plot()\n",
    "decorate(xlabel='Slope (inches per year)',\n",
    "         ylabel='PDF',\n",
    "         title='Posterior marginal distribution of slope')"
   ]
  },
  {
   "cell_type": "code",
   "execution_count": 121,
   "metadata": {
    "tags": [
     "hide-cell"
    ]
   },
   "outputs": [
    {
     "data": {
      "text/plain": [
       "(0.04425308067803347, array([0.028, 0.06 ]))"
      ]
     },
     "execution_count": 121,
     "metadata": {},
     "output_type": "execute_result"
    }
   ],
   "source": [
    "# Solution\n",
    "\n",
    "posterior_slope.mean(), posterior_slope.credible_interval(0.9)"
   ]
  },
  {
   "cell_type": "code",
   "execution_count": 122,
   "metadata": {
    "tags": [
     "hide-cell"
    ]
   },
   "outputs": [],
   "source": [
    "# Solution\n",
    "\n",
    "posterior_pmf = Pmf(posterior.stack())"
   ]
  },
  {
   "cell_type": "code",
   "execution_count": 123,
   "metadata": {
    "tags": [
     "hide-cell"
    ]
   },
   "outputs": [
    {
     "data": {
      "text/plain": [
       "(101, 50)"
      ]
     },
     "execution_count": 123,
     "metadata": {},
     "output_type": "execute_result"
    }
   ],
   "source": [
    "# Solution\n",
    "\n",
    "sample = posterior_pmf.sample(101)\n",
    "\n",
    "years = np.arange(1967, 2067, 2)\n",
    "xs = years - offset\n",
    "\n",
    "pred = np.empty((len(sample), len(xs)))\n",
    "for i, (slope, inter, sigma) in enumerate(sample):\n",
    "    pred[i] = inter + slope * xs + norm(0, sigma).rvs(len(xs))\n",
    "    \n",
    "pred.shape"
   ]
  },
  {
   "cell_type": "code",
   "execution_count": 124,
   "metadata": {
    "tags": [
     "hide-cell"
    ]
   },
   "outputs": [
    {
     "data": {
      "text/plain": [
       "(50,)"
      ]
     },
     "execution_count": 124,
     "metadata": {},
     "output_type": "execute_result"
    }
   ],
   "source": [
    "# Solution\n",
    "\n",
    "low, median, high = np.percentile(pred, [5, 50, 95], axis=0)\n",
    "median.shape"
   ]
  },
  {
   "cell_type": "code",
   "execution_count": 125,
   "metadata": {
    "tags": [
     "hide-cell"
    ]
   },
   "outputs": [
    {
     "data": {
      "image/png": "[encoded data removed]",
      "text/plain": [
       "<Figure size 432x288 with 1 Axes>"
      ]
     },
     "metadata": {
      "needs_background": "light"
     },
     "output_type": "display_data"
    }
   ],
   "source": [
    "# Solution\n",
    "\n",
    "plt.fill_between(years, low, high, alpha=0.1)\n",
    "plt.plot(years, median, color='C0')\n",
    "\n",
    "complete.plot(style='o', alpha=0.5)\n",
    "\n",
    "decorate(xlabel='Year',\n",
    "         ylabel='Annual average of daily temperature (deg F)')"
   ]
  },
  {
   "cell_type": "code",
   "execution_count": 126,
   "metadata": {
    "tags": [
     "hide-cell"
    ]
   },
   "outputs": [
    {
     "data": {
      "text/plain": [
       "4.257211378115983"
      ]
     },
     "execution_count": 126,
     "metadata": {},
     "output_type": "execute_result"
    }
   ],
   "source": [
    "# Solution\n",
    "\n",
    "# median increase over my lifetime in degrees F\n",
    "\n",
    "median[-1] - median[0]"
   ]
  },
  {
   "cell_type": "markdown",
   "metadata": {},
   "source": [
    "**Exercise:**  TODO: Move the happiness-GDP example here?"
   ]
  }
 ],
 "metadata": {
  "celltoolbar": "Tags",
  "kernelspec": {
   "display_name": "Python 3",
   "language": "python",
   "name": "python3"
  },
  "language_info": {
   "codemirror_mode": {
    "name": "ipython",
    "version": 3
   },
   "file_extension": ".py",
   "mimetype": "text/x-python",
   "name": "python",
   "nbconvert_exporter": "python",
   "pygments_lexer": "ipython3",
   "version": "3.8.6"
  }
 },
 "nbformat": 4,
 "nbformat_minor": 1
}
